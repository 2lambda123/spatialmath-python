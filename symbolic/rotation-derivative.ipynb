{
 "cells": [
  {
   "cell_type": "markdown",
   "metadata": {},
   "source": [
    "# Determine derivatives of angular sequence to rotation matrix\n",
    "\n",
    "SymPy code to evaluate the mappings from rotation angle sequences to rotation matrix, then compute the derivatives to determine the mapping from angular rates to angular velocity.\n",
    "\n",
    "Adjust the next cell to choose the particular angle sequence."
   ]
  },
  {
   "cell_type": "code",
   "execution_count": 225,
   "metadata": {},
   "outputs": [],
   "source": [
    "angle_names = ('alpha', 'beta', 'gamma')\n",
    "func = eul2r\n",
    "\n",
    "#angle_names =  ('phi', 'theta', 'psi')\n",
    "#func = lambda Gamma: rpy2r(Gamma, order='xyz')"
   ]
  },
  {
   "cell_type": "code",
   "execution_count": 226,
   "metadata": {},
   "outputs": [],
   "source": [
    "from spatialmath.base import *\n",
    "from sympy import *"
   ]
  },
  {
   "cell_type": "markdown",
   "metadata": {},
   "source": [
    "Define a symbol for time"
   ]
  },
  {
   "cell_type": "code",
   "execution_count": 227,
   "metadata": {},
   "outputs": [],
   "source": [
    "t = symbols('t')"
   ]
  },
  {
   "cell_type": "markdown",
   "metadata": {},
   "source": [
    "Define arrays of symbols for the angles, angle as function of time, time derivative of angle as a function of time"
   ]
  },
  {
   "cell_type": "code",
   "execution_count": 228,
   "metadata": {},
   "outputs": [],
   "source": [
    "angle = []  # names of angles, eg. theta\n",
    "anglet = []  # angles as function of time, eg. theta(t)\n",
    "angled = []  # derivative of above, eg. d theta(t) / dt\n",
    "angledn = []  # symbol to represent above, eg. theta_dot\n",
    "for i in angle_names:\n",
    "    angle.append(symbols(i))\n",
    "    anglet.append(Function(i)(t))\n",
    "    angled.append(anglet[-1].diff(t))\n",
    "    angledn.append(i + '_dot')"
   ]
  },
  {
   "cell_type": "markdown",
   "metadata": {},
   "source": [
    "Compute the rotation matrix"
   ]
  },
  {
   "cell_type": "code",
   "execution_count": 229,
   "metadata": {},
   "outputs": [
    {
     "data": {
      "text/latex": [
       "$\\displaystyle \\left[\\begin{matrix}- \\sin{\\left(\\alpha{\\left(t \\right)} \\right)} \\sin{\\left(\\gamma{\\left(t \\right)} \\right)} + \\cos{\\left(\\alpha{\\left(t \\right)} \\right)} \\cos{\\left(\\beta{\\left(t \\right)} \\right)} \\cos{\\left(\\gamma{\\left(t \\right)} \\right)} & - \\sin{\\left(\\alpha{\\left(t \\right)} \\right)} \\cos{\\left(\\gamma{\\left(t \\right)} \\right)} - \\sin{\\left(\\gamma{\\left(t \\right)} \\right)} \\cos{\\left(\\alpha{\\left(t \\right)} \\right)} \\cos{\\left(\\beta{\\left(t \\right)} \\right)} & \\sin{\\left(\\beta{\\left(t \\right)} \\right)} \\cos{\\left(\\alpha{\\left(t \\right)} \\right)}\\\\\\sin{\\left(\\alpha{\\left(t \\right)} \\right)} \\cos{\\left(\\beta{\\left(t \\right)} \\right)} \\cos{\\left(\\gamma{\\left(t \\right)} \\right)} + \\sin{\\left(\\gamma{\\left(t \\right)} \\right)} \\cos{\\left(\\alpha{\\left(t \\right)} \\right)} & - \\sin{\\left(\\alpha{\\left(t \\right)} \\right)} \\sin{\\left(\\gamma{\\left(t \\right)} \\right)} \\cos{\\left(\\beta{\\left(t \\right)} \\right)} + \\cos{\\left(\\alpha{\\left(t \\right)} \\right)} \\cos{\\left(\\gamma{\\left(t \\right)} \\right)} & \\sin{\\left(\\alpha{\\left(t \\right)} \\right)} \\sin{\\left(\\beta{\\left(t \\right)} \\right)}\\\\- \\sin{\\left(\\beta{\\left(t \\right)} \\right)} \\cos{\\left(\\gamma{\\left(t \\right)} \\right)} & \\sin{\\left(\\beta{\\left(t \\right)} \\right)} \\sin{\\left(\\gamma{\\left(t \\right)} \\right)} & \\cos{\\left(\\beta{\\left(t \\right)} \\right)}\\end{matrix}\\right]$"
      ],
      "text/plain": [
       "Matrix([\n",
       "[-sin(alpha(t))*sin(gamma(t)) + cos(alpha(t))*cos(beta(t))*cos(gamma(t)), -sin(alpha(t))*cos(gamma(t)) - sin(gamma(t))*cos(alpha(t))*cos(beta(t)), sin(beta(t))*cos(alpha(t))],\n",
       "[ sin(alpha(t))*cos(beta(t))*cos(gamma(t)) + sin(gamma(t))*cos(alpha(t)), -sin(alpha(t))*sin(gamma(t))*cos(beta(t)) + cos(alpha(t))*cos(gamma(t)), sin(alpha(t))*sin(beta(t))],\n",
       "[                                            -sin(beta(t))*cos(gamma(t)),                                              sin(beta(t))*sin(gamma(t)),               cos(beta(t))]])"
      ]
     },
     "execution_count": 229,
     "metadata": {},
     "output_type": "execute_result"
    }
   ],
   "source": [
    "R = Matrix(func(anglet))\n",
    "R"
   ]
  },
  {
   "cell_type": "markdown",
   "metadata": {},
   "source": [
    "Compute its time derivative"
   ]
  },
  {
   "cell_type": "code",
   "execution_count": 230,
   "metadata": {},
   "outputs": [
    {
     "data": {
      "text/latex": [
       "$\\displaystyle \\left[\\begin{matrix}- \\sin{\\left(\\alpha{\\left(t \\right)} \\right)} \\cos{\\left(\\beta{\\left(t \\right)} \\right)} \\cos{\\left(\\gamma{\\left(t \\right)} \\right)} \\frac{d}{d t} \\alpha{\\left(t \\right)} - \\sin{\\left(\\alpha{\\left(t \\right)} \\right)} \\cos{\\left(\\gamma{\\left(t \\right)} \\right)} \\frac{d}{d t} \\gamma{\\left(t \\right)} - \\sin{\\left(\\beta{\\left(t \\right)} \\right)} \\cos{\\left(\\alpha{\\left(t \\right)} \\right)} \\cos{\\left(\\gamma{\\left(t \\right)} \\right)} \\frac{d}{d t} \\beta{\\left(t \\right)} - \\sin{\\left(\\gamma{\\left(t \\right)} \\right)} \\cos{\\left(\\alpha{\\left(t \\right)} \\right)} \\cos{\\left(\\beta{\\left(t \\right)} \\right)} \\frac{d}{d t} \\gamma{\\left(t \\right)} - \\sin{\\left(\\gamma{\\left(t \\right)} \\right)} \\cos{\\left(\\alpha{\\left(t \\right)} \\right)} \\frac{d}{d t} \\alpha{\\left(t \\right)} & \\sin{\\left(\\alpha{\\left(t \\right)} \\right)} \\sin{\\left(\\gamma{\\left(t \\right)} \\right)} \\cos{\\left(\\beta{\\left(t \\right)} \\right)} \\frac{d}{d t} \\alpha{\\left(t \\right)} + \\sin{\\left(\\alpha{\\left(t \\right)} \\right)} \\sin{\\left(\\gamma{\\left(t \\right)} \\right)} \\frac{d}{d t} \\gamma{\\left(t \\right)} + \\sin{\\left(\\beta{\\left(t \\right)} \\right)} \\sin{\\left(\\gamma{\\left(t \\right)} \\right)} \\cos{\\left(\\alpha{\\left(t \\right)} \\right)} \\frac{d}{d t} \\beta{\\left(t \\right)} - \\cos{\\left(\\alpha{\\left(t \\right)} \\right)} \\cos{\\left(\\beta{\\left(t \\right)} \\right)} \\cos{\\left(\\gamma{\\left(t \\right)} \\right)} \\frac{d}{d t} \\gamma{\\left(t \\right)} - \\cos{\\left(\\alpha{\\left(t \\right)} \\right)} \\cos{\\left(\\gamma{\\left(t \\right)} \\right)} \\frac{d}{d t} \\alpha{\\left(t \\right)} & - \\sin{\\left(\\alpha{\\left(t \\right)} \\right)} \\sin{\\left(\\beta{\\left(t \\right)} \\right)} \\frac{d}{d t} \\alpha{\\left(t \\right)} + \\cos{\\left(\\alpha{\\left(t \\right)} \\right)} \\cos{\\left(\\beta{\\left(t \\right)} \\right)} \\frac{d}{d t} \\beta{\\left(t \\right)}\\\\- \\sin{\\left(\\alpha{\\left(t \\right)} \\right)} \\sin{\\left(\\beta{\\left(t \\right)} \\right)} \\cos{\\left(\\gamma{\\left(t \\right)} \\right)} \\frac{d}{d t} \\beta{\\left(t \\right)} - \\sin{\\left(\\alpha{\\left(t \\right)} \\right)} \\sin{\\left(\\gamma{\\left(t \\right)} \\right)} \\cos{\\left(\\beta{\\left(t \\right)} \\right)} \\frac{d}{d t} \\gamma{\\left(t \\right)} - \\sin{\\left(\\alpha{\\left(t \\right)} \\right)} \\sin{\\left(\\gamma{\\left(t \\right)} \\right)} \\frac{d}{d t} \\alpha{\\left(t \\right)} + \\cos{\\left(\\alpha{\\left(t \\right)} \\right)} \\cos{\\left(\\beta{\\left(t \\right)} \\right)} \\cos{\\left(\\gamma{\\left(t \\right)} \\right)} \\frac{d}{d t} \\alpha{\\left(t \\right)} + \\cos{\\left(\\alpha{\\left(t \\right)} \\right)} \\cos{\\left(\\gamma{\\left(t \\right)} \\right)} \\frac{d}{d t} \\gamma{\\left(t \\right)} & \\sin{\\left(\\alpha{\\left(t \\right)} \\right)} \\sin{\\left(\\beta{\\left(t \\right)} \\right)} \\sin{\\left(\\gamma{\\left(t \\right)} \\right)} \\frac{d}{d t} \\beta{\\left(t \\right)} - \\sin{\\left(\\alpha{\\left(t \\right)} \\right)} \\cos{\\left(\\beta{\\left(t \\right)} \\right)} \\cos{\\left(\\gamma{\\left(t \\right)} \\right)} \\frac{d}{d t} \\gamma{\\left(t \\right)} - \\sin{\\left(\\alpha{\\left(t \\right)} \\right)} \\cos{\\left(\\gamma{\\left(t \\right)} \\right)} \\frac{d}{d t} \\alpha{\\left(t \\right)} - \\sin{\\left(\\gamma{\\left(t \\right)} \\right)} \\cos{\\left(\\alpha{\\left(t \\right)} \\right)} \\cos{\\left(\\beta{\\left(t \\right)} \\right)} \\frac{d}{d t} \\alpha{\\left(t \\right)} - \\sin{\\left(\\gamma{\\left(t \\right)} \\right)} \\cos{\\left(\\alpha{\\left(t \\right)} \\right)} \\frac{d}{d t} \\gamma{\\left(t \\right)} & \\sin{\\left(\\alpha{\\left(t \\right)} \\right)} \\cos{\\left(\\beta{\\left(t \\right)} \\right)} \\frac{d}{d t} \\beta{\\left(t \\right)} + \\sin{\\left(\\beta{\\left(t \\right)} \\right)} \\cos{\\left(\\alpha{\\left(t \\right)} \\right)} \\frac{d}{d t} \\alpha{\\left(t \\right)}\\\\\\sin{\\left(\\beta{\\left(t \\right)} \\right)} \\sin{\\left(\\gamma{\\left(t \\right)} \\right)} \\frac{d}{d t} \\gamma{\\left(t \\right)} - \\cos{\\left(\\beta{\\left(t \\right)} \\right)} \\cos{\\left(\\gamma{\\left(t \\right)} \\right)} \\frac{d}{d t} \\beta{\\left(t \\right)} & \\sin{\\left(\\beta{\\left(t \\right)} \\right)} \\cos{\\left(\\gamma{\\left(t \\right)} \\right)} \\frac{d}{d t} \\gamma{\\left(t \\right)} + \\sin{\\left(\\gamma{\\left(t \\right)} \\right)} \\cos{\\left(\\beta{\\left(t \\right)} \\right)} \\frac{d}{d t} \\beta{\\left(t \\right)} & - \\sin{\\left(\\beta{\\left(t \\right)} \\right)} \\frac{d}{d t} \\beta{\\left(t \\right)}\\end{matrix}\\right]$"
      ],
      "text/plain": [
       "Matrix([\n",
       "[-sin(alpha(t))*cos(beta(t))*cos(gamma(t))*Derivative(alpha(t), t) - sin(alpha(t))*cos(gamma(t))*Derivative(gamma(t), t) - sin(beta(t))*cos(alpha(t))*cos(gamma(t))*Derivative(beta(t), t) - sin(gamma(t))*cos(alpha(t))*cos(beta(t))*Derivative(gamma(t), t) - sin(gamma(t))*cos(alpha(t))*Derivative(alpha(t), t), sin(alpha(t))*sin(gamma(t))*cos(beta(t))*Derivative(alpha(t), t) + sin(alpha(t))*sin(gamma(t))*Derivative(gamma(t), t) + sin(beta(t))*sin(gamma(t))*cos(alpha(t))*Derivative(beta(t), t) - cos(alpha(t))*cos(beta(t))*cos(gamma(t))*Derivative(gamma(t), t) - cos(alpha(t))*cos(gamma(t))*Derivative(alpha(t), t), -sin(alpha(t))*sin(beta(t))*Derivative(alpha(t), t) + cos(alpha(t))*cos(beta(t))*Derivative(beta(t), t)],\n",
       "[-sin(alpha(t))*sin(beta(t))*cos(gamma(t))*Derivative(beta(t), t) - sin(alpha(t))*sin(gamma(t))*cos(beta(t))*Derivative(gamma(t), t) - sin(alpha(t))*sin(gamma(t))*Derivative(alpha(t), t) + cos(alpha(t))*cos(beta(t))*cos(gamma(t))*Derivative(alpha(t), t) + cos(alpha(t))*cos(gamma(t))*Derivative(gamma(t), t), sin(alpha(t))*sin(beta(t))*sin(gamma(t))*Derivative(beta(t), t) - sin(alpha(t))*cos(beta(t))*cos(gamma(t))*Derivative(gamma(t), t) - sin(alpha(t))*cos(gamma(t))*Derivative(alpha(t), t) - sin(gamma(t))*cos(alpha(t))*cos(beta(t))*Derivative(alpha(t), t) - sin(gamma(t))*cos(alpha(t))*Derivative(gamma(t), t),  sin(alpha(t))*cos(beta(t))*Derivative(beta(t), t) + sin(beta(t))*cos(alpha(t))*Derivative(alpha(t), t)],\n",
       "[                                                                                                                                                                                                            sin(beta(t))*sin(gamma(t))*Derivative(gamma(t), t) - cos(beta(t))*cos(gamma(t))*Derivative(beta(t), t),                                                                                                                                                                                                            sin(beta(t))*cos(gamma(t))*Derivative(gamma(t), t) + sin(gamma(t))*cos(beta(t))*Derivative(beta(t), t),                                                                    -sin(beta(t))*Derivative(beta(t), t)]])"
      ]
     },
     "execution_count": 230,
     "metadata": {},
     "output_type": "execute_result"
    }
   ],
   "source": [
    "Rdot = Matrix(R).diff(t)\n",
    "Rdot"
   ]
  },
  {
   "cell_type": "markdown",
   "metadata": {},
   "source": [
    "Get angular velocity vector in terms of angles and angle rates"
   ]
  },
  {
   "cell_type": "code",
   "execution_count": 231,
   "metadata": {},
   "outputs": [],
   "source": [
    "omega = Matrix(vex(Rdot * R.T))"
   ]
  },
  {
   "cell_type": "markdown",
   "metadata": {},
   "source": [
    "For each element of this 3x1 matrix get the coefficients of each angle derivative"
   ]
  },
  {
   "cell_type": "code",
   "execution_count": 232,
   "metadata": {},
   "outputs": [],
   "source": [
    "A = Matrix.zeros(3,3)\n",
    "for i in range(3):\n",
    "    e = omega[i,0].expand()\n",
    "    for j in range(3):\n",
    "        A[i, j] = e.coeff(angled[j])"
   ]
  },
  {
   "cell_type": "markdown",
   "metadata": {},
   "source": [
    "The result is a 3x3 matrix. Mapping from angle rates to angular velocity. We subsitute angle as a function of time to plain angle, then simplify."
   ]
  },
  {
   "cell_type": "code",
   "execution_count": 233,
   "metadata": {},
   "outputs": [],
   "source": [
    "A = trigsimp(A.subs(a for a in zip(anglet, angle)))"
   ]
  },
  {
   "cell_type": "markdown",
   "metadata": {},
   "source": [
    "Compute the inverse and simplify.  Mapping from angular velocity to angle rates."
   ]
  },
  {
   "cell_type": "code",
   "execution_count": 234,
   "metadata": {},
   "outputs": [],
   "source": [
    "Ai = trigsimp(A.inv())"
   ]
  },
  {
   "cell_type": "markdown",
   "metadata": {},
   "source": [
    "Render as code"
   ]
  },
  {
   "cell_type": "code",
   "execution_count": 235,
   "metadata": {},
   "outputs": [
    {
     "data": {
      "text/plain": [
       "'np.array([[0, -math.sin(alpha), math.sin(beta)*math.cos(alpha)], [0, math.cos(alpha), math.sin(alpha)*math.sin(beta)], [1, 0, math.cos(beta)]])'"
      ]
     },
     "execution_count": 235,
     "metadata": {},
     "output_type": "execute_result"
    }
   ],
   "source": [
    "pycode(A).replace('ImmutableDenseMatrix', 'np.array')"
   ]
  },
  {
   "cell_type": "code",
   "execution_count": 236,
   "metadata": {},
   "outputs": [
    {
     "data": {
      "text/plain": [
       "'np.array([[-math.cos(alpha)/math.tan(beta), -math.sin(alpha)/math.tan(beta), 1], [-math.sin(alpha), math.cos(alpha), 0], [math.cos(alpha)/math.sin(beta), math.sin(alpha)/math.sin(beta), 0]])'"
      ]
     },
     "execution_count": 236,
     "metadata": {},
     "output_type": "execute_result"
    }
   ],
   "source": [
    "pycode(Ai).replace('ImmutableDenseMatrix', 'np.array')"
   ]
  },
  {
   "cell_type": "markdown",
   "metadata": {},
   "source": [
    "Compute the time derivative of `Ai`, from angular acceleration to angle acceleration"
   ]
  },
  {
   "cell_type": "code",
   "execution_count": 237,
   "metadata": {},
   "outputs": [],
   "source": [
    "Ai = Ai.subs(a for a in zip(angle, anglet))"
   ]
  },
  {
   "cell_type": "code",
   "execution_count": 238,
   "metadata": {},
   "outputs": [
    {
     "data": {
      "text/latex": [
       "$\\displaystyle \\left[\\begin{matrix}\\frac{\\alpha_{dot} \\sin{\\left(\\alpha \\right)}}{\\tan{\\left(\\beta \\right)}} + \\frac{\\beta_{dot} \\cos{\\left(\\alpha \\right)}}{\\sin^{2}{\\left(\\beta \\right)}} & - \\frac{\\alpha_{dot} \\cos{\\left(\\alpha \\right)}}{\\tan{\\left(\\beta \\right)}} + \\frac{\\beta_{dot} \\sin{\\left(\\alpha \\right)}}{\\sin^{2}{\\left(\\beta \\right)}} & 0\\\\- \\alpha_{dot} \\cos{\\left(\\alpha \\right)} & - \\alpha_{dot} \\sin{\\left(\\alpha \\right)} & 0\\\\- \\frac{\\alpha_{dot} \\sin{\\left(\\alpha \\right)} + \\frac{\\beta_{dot} \\cos{\\left(\\alpha \\right)} \\cos{\\left(\\beta \\right)}}{\\sin{\\left(\\beta \\right)}}}{\\sin{\\left(\\beta \\right)}} & \\frac{\\alpha_{dot} \\cos{\\left(\\alpha \\right)} - \\frac{\\beta_{dot} \\sin{\\left(\\alpha \\right)} \\cos{\\left(\\beta \\right)}}{\\sin{\\left(\\beta \\right)}}}{\\sin{\\left(\\beta \\right)}} & 0\\end{matrix}\\right]$"
      ],
      "text/plain": [
       "Matrix([\n",
       "[          alpha_dot*sin(alpha)/tan(beta) + beta_dot*cos(alpha)/sin(beta)**2,         -alpha_dot*cos(alpha)/tan(beta) + beta_dot*sin(alpha)/sin(beta)**2, 0],\n",
       "[                                                      -alpha_dot*cos(alpha),                                                      -alpha_dot*sin(alpha), 0],\n",
       "[-(alpha_dot*sin(alpha) + beta_dot*cos(alpha)*cos(beta)/sin(beta))/sin(beta), (alpha_dot*cos(alpha) - beta_dot*sin(alpha)*cos(beta)/sin(beta))/sin(beta), 0]])"
      ]
     },
     "execution_count": 238,
     "metadata": {},
     "output_type": "execute_result"
    }
   ],
   "source": [
    "Ai_dot = trigsimp(Ai.diff(t).subs(a for a in zip(angled, angledn)).subs(a for a in zip(anglet, angle)))\n",
    "Ai_dot"
   ]
  },
  {
   "cell_type": "code",
   "execution_count": 239,
   "metadata": {},
   "outputs": [
    {
     "data": {
      "text/plain": [
       "'np.array([[alpha_dot*math.sin(alpha)/math.tan(beta) + beta_dot*math.cos(alpha)/math.sin(beta)**2, -alpha_dot*math.cos(alpha)/math.tan(beta) + beta_dot*math.sin(alpha)/math.sin(beta)**2, 0], [-alpha_dot*math.cos(alpha), -alpha_dot*math.sin(alpha), 0], [-(alpha_dot*math.sin(alpha) + beta_dot*math.cos(alpha)*math.cos(beta)/math.sin(beta))/math.sin(beta), (alpha_dot*math.cos(alpha) - beta_dot*math.sin(alpha)*math.cos(beta)/math.sin(beta))/math.sin(beta), 0]])'"
      ]
     },
     "execution_count": 239,
     "metadata": {},
     "output_type": "execute_result"
    }
   ],
   "source": [
    "pycode(Ai_dot).replace('ImmutableDenseMatrix', 'np.array')"
   ]
  },
  {
   "cell_type": "code",
   "execution_count": null,
   "metadata": {},
   "outputs": [],
   "source": []
  }
 ],
 "metadata": {
  "kernelspec": {
   "display_name": "Python 3",
   "language": "python",
   "name": "python3"
  },
  "language_info": {
   "codemirror_mode": {
    "name": "ipython",
    "version": 3
   },
   "file_extension": ".py",
   "mimetype": "text/x-python",
   "name": "python",
   "nbconvert_exporter": "python",
   "pygments_lexer": "ipython3",
   "version": "3.8.5"
  },
  "varInspector": {
   "cols": {
    "lenName": 16,
    "lenType": 16,
    "lenVar": 40
   },
   "kernels_config": {
    "python": {
     "delete_cmd_postfix": "",
     "delete_cmd_prefix": "del ",
     "library": "var_list.py",
     "varRefreshCmd": "print(var_dic_list())"
    },
    "r": {
     "delete_cmd_postfix": ") ",
     "delete_cmd_prefix": "rm(",
     "library": "var_list.r",
     "varRefreshCmd": "cat(var_dic_list()) "
    }
   },
   "types_to_exclude": [
    "module",
    "function",
    "builtin_function_or_method",
    "instance",
    "_Feature"
   ],
   "window_display": false
  }
 },
 "nbformat": 4,
 "nbformat_minor": 4
}
