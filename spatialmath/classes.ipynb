{
 "cells": [
  {
   "cell_type": "code",
   "execution_count": 110,
   "metadata": {},
   "outputs": [],
   "source": [
    "from spatialmath import *\n",
    "import ipywidgets as widgets\n",
    "import matplotlib.pyplot as plt\n",
    "import numpy as np\n",
    "%matplotlib widget "
   ]
  },
  {
   "cell_type": "markdown",
   "metadata": {},
   "source": [
    "# Demonstrating the spatial math classes"
   ]
  },
  {
   "cell_type": "markdown",
   "metadata": {},
   "source": [
    "## Working in 3D"
   ]
  },
  {
   "cell_type": "markdown",
   "metadata": {},
   "source": [
    "### Rotation"
   ]
  },
  {
   "cell_type": "markdown",
   "metadata": {},
   "source": [
    "Rotations in 3D can be represented by rotation matrices – 3x3 orthonormal matrices – which belong to the group SO(3). \n",
    "\n",
    "We can create such a matrix, a rotation of $\\pi/4$ radians around the x-axis by"
   ]
  },
  {
   "cell_type": "code",
   "execution_count": 111,
   "metadata": {},
   "outputs": [],
   "source": [
    "R = SO3.Rx(math.pi/4)"
   ]
  },
  {
   "cell_type": "markdown",
   "metadata": {},
   "source": [
    "which is an object of type"
   ]
  },
  {
   "cell_type": "code",
   "execution_count": 112,
   "metadata": {},
   "outputs": [
    {
     "data": {
      "text/plain": [
       "spatialmath.pose3d.SO3"
      ]
     },
     "execution_count": 112,
     "metadata": {},
     "output_type": "execute_result"
    }
   ],
   "source": [
    "type(R)"
   ]
  },
  {
   "cell_type": "markdown",
   "metadata": {},
   "source": [
    "which contains a numpy array which is the SO(3) matrix. We can display its value"
   ]
  },
  {
   "cell_type": "code",
   "execution_count": 113,
   "metadata": {},
   "outputs": [
    {
     "data": {
      "text/plain": [
       "  \u001b[38;5;1m\u001b[48;5;255m 1        \u001b[0m\u001b[38;5;1m\u001b[48;5;255m 0        \u001b[0m\u001b[38;5;1m\u001b[48;5;255m 0        \u001b[0m\u001b[48;5;255m  \u001b[0m\n",
       "  \u001b[38;5;1m\u001b[48;5;255m 0        \u001b[0m\u001b[38;5;1m\u001b[48;5;255m 0.707107 \u001b[0m\u001b[38;5;1m\u001b[48;5;255m-0.707107 \u001b[0m\u001b[48;5;255m  \u001b[0m\n",
       "  \u001b[38;5;1m\u001b[48;5;255m 0        \u001b[0m\u001b[38;5;1m\u001b[48;5;255m 0.707107 \u001b[0m\u001b[38;5;1m\u001b[48;5;255m 0.707107 \u001b[0m\u001b[48;5;255m  \u001b[0m"
      ]
     },
     "execution_count": 113,
     "metadata": {},
     "output_type": "execute_result"
    }
   ],
   "source": [
    "R"
   ]
  },
  {
   "cell_type": "markdown",
   "metadata": {},
   "source": [
    "which is colored if the console supports color.\n",
    "\n",
    "We can _compose_ these rotations in an obvious way using standard Python operators"
   ]
  },
  {
   "cell_type": "code",
   "execution_count": 114,
   "metadata": {},
   "outputs": [
    {
     "data": {
      "text/plain": [
       "  \u001b[38;5;1m\u001b[48;5;255m 1        \u001b[0m\u001b[38;5;1m\u001b[48;5;255m 0        \u001b[0m\u001b[38;5;1m\u001b[48;5;255m 0        \u001b[0m\u001b[48;5;255m  \u001b[0m\n",
       "  \u001b[38;5;1m\u001b[48;5;255m 0        \u001b[0m\u001b[38;5;1m\u001b[48;5;255m 0        \u001b[0m\u001b[38;5;1m\u001b[48;5;255m-1        \u001b[0m\u001b[48;5;255m  \u001b[0m\n",
       "  \u001b[38;5;1m\u001b[48;5;255m 0        \u001b[0m\u001b[38;5;1m\u001b[48;5;255m 1        \u001b[0m\u001b[38;5;1m\u001b[48;5;255m 0        \u001b[0m\u001b[48;5;255m  \u001b[0m"
      ]
     },
     "execution_count": 114,
     "metadata": {},
     "output_type": "execute_result"
    }
   ],
   "source": [
    "R*R"
   ]
  },
  {
   "cell_type": "markdown",
   "metadata": {},
   "source": [
    "which is a rotation by $\\pi/4$ _then_ a rotation by $\\pi/4$ which is a total of $\\pi/2$.  Just to check"
   ]
  },
  {
   "cell_type": "code",
   "execution_count": 115,
   "metadata": {},
   "outputs": [
    {
     "data": {
      "text/plain": [
       "  \u001b[38;5;1m\u001b[48;5;255m 1        \u001b[0m\u001b[38;5;1m\u001b[48;5;255m 0        \u001b[0m\u001b[38;5;1m\u001b[48;5;255m 0        \u001b[0m\u001b[48;5;255m  \u001b[0m\n",
       "  \u001b[38;5;1m\u001b[48;5;255m 0        \u001b[0m\u001b[38;5;1m\u001b[48;5;255m 0        \u001b[0m\u001b[38;5;1m\u001b[48;5;255m-1        \u001b[0m\u001b[48;5;255m  \u001b[0m\n",
       "  \u001b[38;5;1m\u001b[48;5;255m 0        \u001b[0m\u001b[38;5;1m\u001b[48;5;255m 1        \u001b[0m\u001b[38;5;1m\u001b[48;5;255m 0        \u001b[0m\u001b[48;5;255m  \u001b[0m"
      ]
     },
     "execution_count": 115,
     "metadata": {},
     "output_type": "execute_result"
    }
   ],
   "source": [
    "SO3.Rx(math.pi/2)"
   ]
  },
  {
   "cell_type": "markdown",
   "metadata": {},
   "source": [
    "We could also use the exponentiation operator"
   ]
  },
  {
   "cell_type": "code",
   "execution_count": 116,
   "metadata": {},
   "outputs": [
    {
     "data": {
      "text/plain": [
       "  \u001b[38;5;1m\u001b[48;5;255m 1        \u001b[0m\u001b[38;5;1m\u001b[48;5;255m 0        \u001b[0m\u001b[38;5;1m\u001b[48;5;255m 0        \u001b[0m\u001b[48;5;255m  \u001b[0m\n",
       "  \u001b[38;5;1m\u001b[48;5;255m 0        \u001b[0m\u001b[38;5;1m\u001b[48;5;255m 0        \u001b[0m\u001b[38;5;1m\u001b[48;5;255m-1        \u001b[0m\u001b[48;5;255m  \u001b[0m\n",
       "  \u001b[38;5;1m\u001b[48;5;255m 0        \u001b[0m\u001b[38;5;1m\u001b[48;5;255m 1        \u001b[0m\u001b[38;5;1m\u001b[48;5;255m 0        \u001b[0m\u001b[48;5;255m  \u001b[0m"
      ]
     },
     "execution_count": 116,
     "metadata": {},
     "output_type": "execute_result"
    }
   ],
   "source": [
    "R**2"
   ]
  },
  {
   "cell_type": "markdown",
   "metadata": {},
   "source": [
    "We could have specified the angle in degrees"
   ]
  },
  {
   "cell_type": "code",
   "execution_count": 117,
   "metadata": {},
   "outputs": [
    {
     "data": {
      "text/plain": [
       "  \u001b[38;5;1m\u001b[48;5;255m 1        \u001b[0m\u001b[38;5;1m\u001b[48;5;255m 0        \u001b[0m\u001b[38;5;1m\u001b[48;5;255m 0        \u001b[0m\u001b[48;5;255m  \u001b[0m\n",
       "  \u001b[38;5;1m\u001b[48;5;255m 0        \u001b[0m\u001b[38;5;1m\u001b[48;5;255m 0.707107 \u001b[0m\u001b[38;5;1m\u001b[48;5;255m-0.707107 \u001b[0m\u001b[48;5;255m  \u001b[0m\n",
       "  \u001b[38;5;1m\u001b[48;5;255m 0        \u001b[0m\u001b[38;5;1m\u001b[48;5;255m 0.707107 \u001b[0m\u001b[38;5;1m\u001b[48;5;255m 0.707107 \u001b[0m\u001b[48;5;255m  \u001b[0m"
      ]
     },
     "execution_count": 117,
     "metadata": {},
     "output_type": "execute_result"
    }
   ],
   "source": [
    "SO3.Rx(45, 'deg')\n",
    "R"
   ]
  },
  {
   "cell_type": "markdown",
   "metadata": {},
   "source": [
    "We can visualize what this looks like by"
   ]
  },
  {
   "cell_type": "code",
   "execution_count": 118,
   "metadata": {},
   "outputs": [
    {
     "data": {
      "application/vnd.jupyter.widget-view+json": {
       "model_id": "d3b31f320afd4d7db18605eb354360a3",
       "version_major": 2,
       "version_minor": 0
      },
      "text/plain": [
       "Canvas(toolbar=Toolbar(toolitems=[('Home', 'Reset original view', 'home', 'home'), ('Back', 'Back to previous …"
      ]
     },
     "metadata": {},
     "output_type": "display_data"
    }
   ],
   "source": [
    "fig = plt.figure() # create a new figure\n",
    "R.plot()"
   ]
  },
  {
   "cell_type": "markdown",
   "metadata": {},
   "source": [
    "Click on the coordinate frame and use the mouse to change the viewpoint."
   ]
  },
  {
   "cell_type": "markdown",
   "metadata": {},
   "source": [
    "Often we need to describe more complex orientations and we typically use a _3 angle_ convention to do this.  Euler's rotation theorem says that any orientation can be expressed in terms of three rotations about different axes.  \n",
    "\n",
    "One common convention is roll-pitch-yaw angles"
   ]
  },
  {
   "cell_type": "code",
   "execution_count": 119,
   "metadata": {},
   "outputs": [
    {
     "data": {
      "text/plain": [
       "  \u001b[38;5;1m\u001b[48;5;255m 0.813798 \u001b[0m\u001b[38;5;1m\u001b[48;5;255m-0.44097  \u001b[0m\u001b[38;5;1m\u001b[48;5;255m 0.378522 \u001b[0m\u001b[48;5;255m  \u001b[0m\n",
       "  \u001b[38;5;1m\u001b[48;5;255m 0.469846 \u001b[0m\u001b[38;5;1m\u001b[48;5;255m 0.882564 \u001b[0m\u001b[38;5;1m\u001b[48;5;255m 0.0180283\u001b[0m\u001b[48;5;255m  \u001b[0m\n",
       "  \u001b[38;5;1m\u001b[48;5;255m-0.34202  \u001b[0m\u001b[38;5;1m\u001b[48;5;255m 0.163176 \u001b[0m\u001b[38;5;1m\u001b[48;5;255m 0.925417 \u001b[0m\u001b[48;5;255m  \u001b[0m"
      ]
     },
     "execution_count": 119,
     "metadata": {},
     "output_type": "execute_result"
    }
   ],
   "source": [
    "R = SO3.RPY([10, 20, 30], unit='deg')\n",
    "R"
   ]
  },
  {
   "cell_type": "markdown",
   "metadata": {},
   "source": [
    "which says that we rotate by 30&deg; about the Z-axis (yaw), _then_ 20&deg; about the Y-axis (pitch) and _then_ 10&deg; about the X-axis – this is the ZYX roll-pitch yaw convention.  We can visualize the resulting orientation."
   ]
  },
  {
   "cell_type": "code",
   "execution_count": 120,
   "metadata": {},
   "outputs": [
    {
     "data": {
      "application/vnd.jupyter.widget-view+json": {
       "model_id": "619276adab3a4cc08fdbff9d07c15881",
       "version_major": 2,
       "version_minor": 0
      },
      "text/plain": [
       "Canvas(toolbar=Toolbar(toolitems=[('Home', 'Reset original view', 'home', 'home'), ('Back', 'Back to previous …"
      ]
     },
     "metadata": {},
     "output_type": "display_data"
    }
   ],
   "source": [
    "plt.figure() # create a new figure\n",
    "R.plot()"
   ]
  },
  {
   "cell_type": "markdown",
   "metadata": {},
   "source": [
    "and we can convert any rotation matrix back to its 3-angle representation"
   ]
  },
  {
   "cell_type": "code",
   "execution_count": 121,
   "metadata": {},
   "outputs": [
    {
     "data": {
      "text/plain": [
       "array([10., 20., 30.])"
      ]
     },
     "execution_count": 121,
     "metadata": {},
     "output_type": "execute_result"
    }
   ],
   "source": [
    "R.rpy"
   ]
  },
  {
   "cell_type": "markdown",
   "metadata": {},
   "source": [
    "#### Constructors\n",
    "\n",
    "The default constructor yields a null rotation"
   ]
  },
  {
   "cell_type": "code",
   "execution_count": 122,
   "metadata": {},
   "outputs": [
    {
     "data": {
      "text/plain": [
       "  \u001b[38;5;1m\u001b[48;5;255m 1        \u001b[0m\u001b[38;5;1m\u001b[48;5;255m 0        \u001b[0m\u001b[38;5;1m\u001b[48;5;255m 0        \u001b[0m\u001b[48;5;255m  \u001b[0m\n",
       "  \u001b[38;5;1m\u001b[48;5;255m 0        \u001b[0m\u001b[38;5;1m\u001b[48;5;255m 1        \u001b[0m\u001b[38;5;1m\u001b[48;5;255m 0        \u001b[0m\u001b[48;5;255m  \u001b[0m\n",
       "  \u001b[38;5;1m\u001b[48;5;255m 0        \u001b[0m\u001b[38;5;1m\u001b[48;5;255m 0        \u001b[0m\u001b[38;5;1m\u001b[48;5;255m 1        \u001b[0m\u001b[48;5;255m  \u001b[0m"
      ]
     },
     "execution_count": 122,
     "metadata": {},
     "output_type": "execute_result"
    }
   ],
   "source": [
    "SO3()"
   ]
  },
  {
   "cell_type": "markdown",
   "metadata": {},
   "source": [
    "but class supports a number of variant constructors using static methods.  `SO3.Rx()` shown above is one of these but there are also\n",
    "\n",
    "| Constructor   |  rotation |\n",
    "|---------------|-----------|\n",
    "| SO3.Rx(theta)  |  about X-axis |\n",
    "| SO3.Ry(theta)  |  about Y-axis|\n",
    "| SO3.Rz(theta)  |  about Z-axis|\n",
    "| SO3.RPY(rpy)  |  from roll-pitch-yaw angle vector|\n",
    "| SO3.Eul(euler)  | from Euler angle vector |\n",
    "| SO3.AngVec(theta, v)  | from rotation and axis |\n",
    "| SO3.OA  | from orientation and approach vectors |"
   ]
  },
  {
   "cell_type": "markdown",
   "metadata": {},
   "source": [
    "Imagine we want a rotation that describes a frame that has its y-axis (o-vector) pointing in the world negative z-axis direction and its z-axis (a-vector) pointing in the world x-axis direction"
   ]
  },
  {
   "cell_type": "code",
   "execution_count": 123,
   "metadata": {},
   "outputs": [
    {
     "data": {
      "text/plain": [
       "  \u001b[38;5;1m\u001b[48;5;255m 0        \u001b[0m\u001b[38;5;1m\u001b[48;5;255m 0        \u001b[0m\u001b[38;5;1m\u001b[48;5;255m 1        \u001b[0m\u001b[48;5;255m  \u001b[0m\n",
       "  \u001b[38;5;1m\u001b[48;5;255m-1        \u001b[0m\u001b[38;5;1m\u001b[48;5;255m 0        \u001b[0m\u001b[38;5;1m\u001b[48;5;255m 0        \u001b[0m\u001b[48;5;255m  \u001b[0m\n",
       "  \u001b[38;5;1m\u001b[48;5;255m 0        \u001b[0m\u001b[38;5;1m\u001b[48;5;255m-1        \u001b[0m\u001b[38;5;1m\u001b[48;5;255m 0        \u001b[0m\u001b[48;5;255m  \u001b[0m"
      ]
     },
     "execution_count": 123,
     "metadata": {},
     "output_type": "execute_result"
    }
   ],
   "source": [
    "SO3.OA(o=[0,0,-1], a=[1,0,0])"
   ]
  },
  {
   "cell_type": "markdown",
   "metadata": {},
   "source": [
    "We can redo our earlier example using the explicit angle-axis notation"
   ]
  },
  {
   "cell_type": "code",
   "execution_count": 124,
   "metadata": {},
   "outputs": [
    {
     "data": {
      "text/plain": [
       "  \u001b[38;5;1m\u001b[48;5;255m 1        \u001b[0m\u001b[38;5;1m\u001b[48;5;255m 0        \u001b[0m\u001b[38;5;1m\u001b[48;5;255m 0        \u001b[0m\u001b[48;5;255m  \u001b[0m\n",
       "  \u001b[38;5;1m\u001b[48;5;255m 0        \u001b[0m\u001b[38;5;1m\u001b[48;5;255m 0.707107 \u001b[0m\u001b[38;5;1m\u001b[48;5;255m-0.707107 \u001b[0m\u001b[48;5;255m  \u001b[0m\n",
       "  \u001b[38;5;1m\u001b[48;5;255m 0        \u001b[0m\u001b[38;5;1m\u001b[48;5;255m 0.707107 \u001b[0m\u001b[38;5;1m\u001b[48;5;255m 0.707107 \u001b[0m\u001b[48;5;255m  \u001b[0m"
      ]
     },
     "execution_count": 124,
     "metadata": {},
     "output_type": "execute_result"
    }
   ],
   "source": [
    "SO3.AngVec(math.pi/4, [1,0,0])"
   ]
  },
  {
   "cell_type": "markdown",
   "metadata": {},
   "source": [
    "or a more complex example"
   ]
  },
  {
   "cell_type": "code",
   "execution_count": 125,
   "metadata": {},
   "outputs": [
    {
     "data": {
      "text/plain": [
       "  \u001b[38;5;1m\u001b[48;5;255m 0.875595 \u001b[0m\u001b[38;5;1m\u001b[48;5;255m-0.381753 \u001b[0m\u001b[38;5;1m\u001b[48;5;255m 0.29597  \u001b[0m\u001b[48;5;255m  \u001b[0m\n",
       "  \u001b[38;5;1m\u001b[48;5;255m 0.420031 \u001b[0m\u001b[38;5;1m\u001b[48;5;255m 0.904304 \u001b[0m\u001b[38;5;1m\u001b[48;5;255m-0.0762129\u001b[0m\u001b[48;5;255m  \u001b[0m\n",
       "  \u001b[38;5;1m\u001b[48;5;255m-0.238552 \u001b[0m\u001b[38;5;1m\u001b[48;5;255m 0.191048 \u001b[0m\u001b[38;5;1m\u001b[48;5;255m 0.952152 \u001b[0m\u001b[48;5;255m  \u001b[0m"
      ]
     },
     "execution_count": 125,
     "metadata": {},
     "output_type": "execute_result"
    }
   ],
   "source": [
    "SO3.AngVec(30, [1,2,3], unit='deg')"
   ]
  },
  {
   "cell_type": "markdown",
   "metadata": {},
   "source": [
    "#### Properties\n",
    "\n",
    "The object has a number of properties, such as the columns which are often written as $[n, o, a]$"
   ]
  },
  {
   "cell_type": "code",
   "execution_count": 126,
   "metadata": {},
   "outputs": [
    {
     "data": {
      "text/plain": [
       "array([ 0.81379768,  0.46984631, -0.34202014])"
      ]
     },
     "execution_count": 126,
     "metadata": {},
     "output_type": "execute_result"
    }
   ],
   "source": [
    "R.n"
   ]
  },
  {
   "cell_type": "markdown",
   "metadata": {},
   "source": [
    "or its inverse (in this case its transpose)"
   ]
  },
  {
   "cell_type": "code",
   "execution_count": 127,
   "metadata": {},
   "outputs": [
    {
     "data": {
      "text/plain": [
       "  \u001b[38;5;1m\u001b[48;5;255m 0.813798 \u001b[0m\u001b[38;5;1m\u001b[48;5;255m 0.469846 \u001b[0m\u001b[38;5;1m\u001b[48;5;255m-0.34202  \u001b[0m\u001b[48;5;255m  \u001b[0m\n",
       "  \u001b[38;5;1m\u001b[48;5;255m-0.44097  \u001b[0m\u001b[38;5;1m\u001b[48;5;255m 0.882564 \u001b[0m\u001b[38;5;1m\u001b[48;5;255m 0.163176 \u001b[0m\u001b[48;5;255m  \u001b[0m\n",
       "  \u001b[38;5;1m\u001b[48;5;255m 0.378522 \u001b[0m\u001b[38;5;1m\u001b[48;5;255m 0.0180283\u001b[0m\u001b[38;5;1m\u001b[48;5;255m 0.925417 \u001b[0m\u001b[48;5;255m  \u001b[0m"
      ]
     },
     "execution_count": 127,
     "metadata": {},
     "output_type": "execute_result"
    }
   ],
   "source": [
    "R.inv"
   ]
  },
  {
   "cell_type": "markdown",
   "metadata": {},
   "source": [
    "the shape of the underlying matrix"
   ]
  },
  {
   "cell_type": "code",
   "execution_count": 128,
   "metadata": {},
   "outputs": [
    {
     "data": {
      "text/plain": [
       "(3, 3)"
      ]
     },
     "execution_count": 128,
     "metadata": {},
     "output_type": "execute_result"
    }
   ],
   "source": [
    "R.shape"
   ]
  },
  {
   "cell_type": "markdown",
   "metadata": {},
   "source": [
    "and the order"
   ]
  },
  {
   "cell_type": "code",
   "execution_count": 129,
   "metadata": {},
   "outputs": [
    {
     "data": {
      "text/plain": [
       "3"
      ]
     },
     "execution_count": 129,
     "metadata": {},
     "output_type": "execute_result"
    }
   ],
   "source": [
    "R.N"
   ]
  },
  {
   "cell_type": "markdown",
   "metadata": {},
   "source": [
    "indicating it operates in 3D space."
   ]
  },
  {
   "cell_type": "markdown",
   "metadata": {},
   "source": [
    "#### Predicates\n",
    "\n",
    "We can check various properties"
   ]
  },
  {
   "cell_type": "code",
   "execution_count": 130,
   "metadata": {},
   "outputs": [
    {
     "data": {
      "text/plain": [
       "[False, True, True, False, False, False]"
      ]
     },
     "execution_count": 130,
     "metadata": {},
     "output_type": "execute_result"
    }
   ],
   "source": [
    "[R.isSE, R.isSO, R.isrot(), R.ishom(), R.isrot2(), R.ishom2()]"
   ]
  },
  {
   "cell_type": "markdown",
   "metadata": {},
   "source": [
    "### Representing position\n",
    "\n",
    "In robotics we also need to describe the position of objects and we can do this with a _homogeneous transformation_ matrix – a 4x4 matrix – which belong to the group SE(3).\n",
    "\n",
    "We can create such a matrix, for a translation of 1 in the x-direction, 2 in the y-direction and 3 in the z-direction by"
   ]
  },
  {
   "cell_type": "code",
   "execution_count": 131,
   "metadata": {},
   "outputs": [
    {
     "data": {
      "text/plain": [
       "  \u001b[38;5;1m\u001b[48;5;255m 1        \u001b[0m\u001b[38;5;1m\u001b[48;5;255m 0        \u001b[0m\u001b[38;5;1m\u001b[48;5;255m 0        \u001b[0m\u001b[38;5;4m\u001b[48;5;255m 1        \u001b[0m\u001b[48;5;255m  \u001b[0m\n",
       "  \u001b[38;5;1m\u001b[48;5;255m 0        \u001b[0m\u001b[38;5;1m\u001b[48;5;255m 1        \u001b[0m\u001b[38;5;1m\u001b[48;5;255m 0        \u001b[0m\u001b[38;5;4m\u001b[48;5;255m 2        \u001b[0m\u001b[48;5;255m  \u001b[0m\n",
       "  \u001b[38;5;1m\u001b[48;5;255m 0        \u001b[0m\u001b[38;5;1m\u001b[48;5;255m 0        \u001b[0m\u001b[38;5;1m\u001b[48;5;255m 1        \u001b[0m\u001b[38;5;4m\u001b[48;5;255m 3        \u001b[0m\u001b[48;5;255m  \u001b[0m\n",
       "  \u001b[38;5;244m\u001b[48;5;255m 0        \u001b[0m\u001b[38;5;244m\u001b[48;5;255m 0        \u001b[0m\u001b[38;5;244m\u001b[48;5;255m 0        \u001b[0m\u001b[38;5;244m\u001b[48;5;255m 1        \u001b[0m\u001b[48;5;255m  \u001b[0m"
      ]
     },
     "execution_count": 131,
     "metadata": {},
     "output_type": "execute_result"
    }
   ],
   "source": [
    "T = SE3(1, 2, 3)\n",
    "T"
   ]
  },
  {
   "cell_type": "markdown",
   "metadata": {},
   "source": [
    "which is displayed in a color coded fashion: rotation matrix in red, translation vector in blue, and the constant bottom row in grey."
   ]
  },
  {
   "cell_type": "markdown",
   "metadata": {},
   "source": [
    "but class supports a number of variant constructors using static methods.  `SO3.Rx()` shown above is one of these but there are also\n",
    "\n",
    "| Constructor   |  motion |\n",
    "|---------------|-----------|\n",
    "| SE3.Tx(d)  |  translation along X-axis |\n",
    "| SE3.Ty(d)  |  translation along Y-axis |\n",
    "| SE3.Tz(d)  |  translation along Z-axis |\n",
    "| SE3.Rx(theta)  |  rotation about X-axis |\n",
    "| SE3.Ry(theta)  |  rotation about Y-axis|\n",
    "| SE3.Rz(theta)  |  rotation about Z-axis|\n",
    "| SE3.RPY(rpy)  |  rotation from roll-pitch-yaw angle vector|\n",
    "| SE3.Eul(euler)  | rotation from Euler angle vector |\n",
    "| SE3.AngVec(theta, v)  | rotation from rotation and axis |\n",
    "| SE3.OA(ovec, avec)  | rotation from orientation and approach vectors |"
   ]
  },
  {
   "cell_type": "markdown",
   "metadata": {},
   "source": [
    "We can visualize this as well"
   ]
  },
  {
   "cell_type": "code",
   "execution_count": 239,
   "metadata": {},
   "outputs": [
    {
     "data": {
      "application/vnd.jupyter.widget-view+json": {
       "model_id": "3ddb3ba93e4547d688fddadef0865208",
       "version_major": 2,
       "version_minor": 0
      },
      "text/plain": [
       "Canvas(toolbar=Toolbar(toolitems=[('Home', 'Reset original view', 'home', 'home'), ('Back', 'Back to previous …"
      ]
     },
     "metadata": {},
     "output_type": "display_data"
    },
    {
     "ename": "AttributeError",
     "evalue": "'list' object has no attribute 'shape'",
     "output_type": "error",
     "traceback": [
      "\u001b[0;31m---------------------------------------------------------------------------\u001b[0m",
      "\u001b[0;31mAttributeError\u001b[0m                            Traceback (most recent call last)",
      "\u001b[0;32m<ipython-input-239-776a51357b78>\u001b[0m in \u001b[0;36m<module>\u001b[0;34m\u001b[0m\n\u001b[1;32m      1\u001b[0m \u001b[0mplt\u001b[0m\u001b[0;34m.\u001b[0m\u001b[0mfigure\u001b[0m\u001b[0;34m(\u001b[0m\u001b[0;34m)\u001b[0m \u001b[0;31m# create a new figure\u001b[0m\u001b[0;34m\u001b[0m\u001b[0;34m\u001b[0m\u001b[0m\n\u001b[0;32m----> 2\u001b[0;31m \u001b[0mT\u001b[0m\u001b[0;34m.\u001b[0m\u001b[0mplot\u001b[0m\u001b[0;34m(\u001b[0m\u001b[0;34m)\u001b[0m\u001b[0;34m\u001b[0m\u001b[0;34m\u001b[0m\u001b[0m\n\u001b[0m",
      "\u001b[0;32m~/code/spatialmath-python/spatialmath/super_pose.py\u001b[0m in \u001b[0;36mplot\u001b[0;34m(self, *args, **kwargs)\u001b[0m\n\u001b[1;32m    496\u001b[0m             \u001b[0mtr\u001b[0m\u001b[0;34m.\u001b[0m\u001b[0mtrplot2\u001b[0m\u001b[0;34m(\u001b[0m\u001b[0mself\u001b[0m\u001b[0;34m.\u001b[0m\u001b[0mA\u001b[0m\u001b[0;34m,\u001b[0m \u001b[0;34m*\u001b[0m\u001b[0margs\u001b[0m\u001b[0;34m,\u001b[0m \u001b[0;34m**\u001b[0m\u001b[0mkwargs\u001b[0m\u001b[0;34m)\u001b[0m\u001b[0;34m\u001b[0m\u001b[0;34m\u001b[0m\u001b[0m\n\u001b[1;32m    497\u001b[0m         \u001b[0;32melse\u001b[0m\u001b[0;34m:\u001b[0m\u001b[0;34m\u001b[0m\u001b[0;34m\u001b[0m\u001b[0m\n\u001b[0;32m--> 498\u001b[0;31m             \u001b[0mtr\u001b[0m\u001b[0;34m.\u001b[0m\u001b[0mtrplot\u001b[0m\u001b[0;34m(\u001b[0m\u001b[0mself\u001b[0m\u001b[0;34m.\u001b[0m\u001b[0mA\u001b[0m\u001b[0;34m,\u001b[0m \u001b[0;34m*\u001b[0m\u001b[0margs\u001b[0m\u001b[0;34m,\u001b[0m \u001b[0;34m**\u001b[0m\u001b[0mkwargs\u001b[0m\u001b[0;34m)\u001b[0m\u001b[0;34m\u001b[0m\u001b[0;34m\u001b[0m\u001b[0m\n\u001b[0m\u001b[1;32m    499\u001b[0m \u001b[0;34m\u001b[0m\u001b[0m\n\u001b[1;32m    500\u001b[0m     \u001b[0;32mdef\u001b[0m \u001b[0m__repr__\u001b[0m\u001b[0;34m(\u001b[0m\u001b[0mself\u001b[0m\u001b[0;34m)\u001b[0m\u001b[0;34m:\u001b[0m\u001b[0;34m\u001b[0m\u001b[0;34m\u001b[0m\u001b[0m\n",
      "\u001b[0;32m~/code/spatialmath-python/spatialmath/base/transforms3d.py\u001b[0m in \u001b[0;36mtrplot\u001b[0;34m(T, axes, dims, color, frame, textcolor, labels, length, arrow, projection, rviz, wtl, width, d1, d2, **kwargs)\u001b[0m\n\u001b[1;32m   1180\u001b[0m \u001b[0;34m\u001b[0m\u001b[0m\n\u001b[1;32m   1181\u001b[0m         \u001b[0;31m# check input types\u001b[0m\u001b[0;34m\u001b[0m\u001b[0;34m\u001b[0m\u001b[0;34m\u001b[0m\u001b[0m\n\u001b[0;32m-> 1182\u001b[0;31m         \u001b[0;32mif\u001b[0m \u001b[0misrot\u001b[0m\u001b[0;34m(\u001b[0m\u001b[0mT\u001b[0m\u001b[0;34m,\u001b[0m \u001b[0mcheck\u001b[0m\u001b[0;34m=\u001b[0m\u001b[0;32mTrue\u001b[0m\u001b[0;34m)\u001b[0m\u001b[0;34m:\u001b[0m\u001b[0;34m\u001b[0m\u001b[0;34m\u001b[0m\u001b[0m\n\u001b[0m\u001b[1;32m   1183\u001b[0m             \u001b[0mT\u001b[0m \u001b[0;34m=\u001b[0m \u001b[0mtrn\u001b[0m\u001b[0;34m.\u001b[0m\u001b[0mr2t\u001b[0m\u001b[0;34m(\u001b[0m\u001b[0mT\u001b[0m\u001b[0;34m)\u001b[0m\u001b[0;34m\u001b[0m\u001b[0;34m\u001b[0m\u001b[0m\n\u001b[1;32m   1184\u001b[0m         \u001b[0;32melse\u001b[0m\u001b[0;34m:\u001b[0m\u001b[0;34m\u001b[0m\u001b[0;34m\u001b[0m\u001b[0m\n",
      "\u001b[0;32m~/code/spatialmath-python/spatialmath/base/transforms3d.py\u001b[0m in \u001b[0;36misrot\u001b[0;34m(R, check, tol)\u001b[0m\n\u001b[1;32m    302\u001b[0m     \u001b[0;34m:\u001b[0m\u001b[0mseealso\u001b[0m\u001b[0;34m:\u001b[0m \u001b[0;34m:\u001b[0m\u001b[0mfunc\u001b[0m\u001b[0;34m:\u001b[0m\u001b[0;31m`\u001b[0m\u001b[0;34m~\u001b[0m\u001b[0mspatialmath\u001b[0m\u001b[0;34m.\u001b[0m\u001b[0mbase\u001b[0m\u001b[0;34m.\u001b[0m\u001b[0mtransformsNd\u001b[0m\u001b[0;34m.\u001b[0m\u001b[0misR\u001b[0m\u001b[0;31m`\u001b[0m\u001b[0;34m,\u001b[0m \u001b[0;34m:\u001b[0m\u001b[0mfunc\u001b[0m\u001b[0;34m:\u001b[0m\u001b[0;31m`\u001b[0m\u001b[0;34m~\u001b[0m\u001b[0mspatialmath\u001b[0m\u001b[0;34m.\u001b[0m\u001b[0mbase\u001b[0m\u001b[0;34m.\u001b[0m\u001b[0mtransforms2d\u001b[0m\u001b[0;34m.\u001b[0m\u001b[0misrot2\u001b[0m\u001b[0;31m`\u001b[0m\u001b[0;34m,\u001b[0m  \u001b[0;34m:\u001b[0m\u001b[0mfunc\u001b[0m\u001b[0;34m:\u001b[0m\u001b[0;31m`\u001b[0m\u001b[0;34m~\u001b[0m\u001b[0mishom\u001b[0m\u001b[0;31m`\u001b[0m\u001b[0;34m\u001b[0m\u001b[0;34m\u001b[0m\u001b[0m\n\u001b[1;32m    303\u001b[0m     \"\"\"\n\u001b[0;32m--> 304\u001b[0;31m     \u001b[0;32mreturn\u001b[0m \u001b[0mR\u001b[0m\u001b[0;34m.\u001b[0m\u001b[0mshape\u001b[0m \u001b[0;34m==\u001b[0m \u001b[0;34m(\u001b[0m\u001b[0;36m3\u001b[0m\u001b[0;34m,\u001b[0m\u001b[0;36m3\u001b[0m\u001b[0;34m)\u001b[0m \u001b[0;32mand\u001b[0m \u001b[0;34m(\u001b[0m\u001b[0;32mnot\u001b[0m \u001b[0mcheck\u001b[0m \u001b[0;32mor\u001b[0m \u001b[0mtrn\u001b[0m\u001b[0;34m.\u001b[0m\u001b[0misR\u001b[0m\u001b[0;34m(\u001b[0m\u001b[0mR\u001b[0m\u001b[0;34m,\u001b[0m \u001b[0mtol\u001b[0m\u001b[0;34m=\u001b[0m\u001b[0mtol\u001b[0m\u001b[0;34m)\u001b[0m\u001b[0;34m)\u001b[0m\u001b[0;34m\u001b[0m\u001b[0;34m\u001b[0m\u001b[0m\n\u001b[0m\u001b[1;32m    305\u001b[0m \u001b[0;34m\u001b[0m\u001b[0m\n\u001b[1;32m    306\u001b[0m \u001b[0;34m\u001b[0m\u001b[0m\n",
      "\u001b[0;31mAttributeError\u001b[0m: 'list' object has no attribute 'shape'"
     ]
    }
   ],
   "source": [
    "plt.figure() # create a new figure\n",
    "T.plot()"
   ]
  },
  {
   "cell_type": "markdown",
   "metadata": {},
   "source": [
    "### Representing pose\n",
    "\n",
    "Clearly representing an orientation with 9 numbers is inefficient, and representing 3 translation values with a total of 16 numbers is even more wasteful.  But there's some serious magic possible"
   ]
  },
  {
   "cell_type": "code",
   "execution_count": 133,
   "metadata": {},
   "outputs": [
    {
     "data": {
      "text/plain": [
       "  \u001b[38;5;1m\u001b[48;5;255m 1        \u001b[0m\u001b[38;5;1m\u001b[48;5;255m 0        \u001b[0m\u001b[38;5;1m\u001b[48;5;255m 0        \u001b[0m\u001b[38;5;4m\u001b[48;5;255m 1        \u001b[0m\u001b[48;5;255m  \u001b[0m\n",
       "  \u001b[38;5;1m\u001b[48;5;255m 0        \u001b[0m\u001b[38;5;1m\u001b[48;5;255m 0.866025 \u001b[0m\u001b[38;5;1m\u001b[48;5;255m-0.5      \u001b[0m\u001b[38;5;4m\u001b[48;5;255m 2        \u001b[0m\u001b[48;5;255m  \u001b[0m\n",
       "  \u001b[38;5;1m\u001b[48;5;255m 0        \u001b[0m\u001b[38;5;1m\u001b[48;5;255m 0.5      \u001b[0m\u001b[38;5;1m\u001b[48;5;255m 0.866025 \u001b[0m\u001b[38;5;4m\u001b[48;5;255m 3        \u001b[0m\u001b[48;5;255m  \u001b[0m\n",
       "  \u001b[38;5;244m\u001b[48;5;255m 0        \u001b[0m\u001b[38;5;244m\u001b[48;5;255m 0        \u001b[0m\u001b[38;5;244m\u001b[48;5;255m 0        \u001b[0m\u001b[38;5;244m\u001b[48;5;255m 1        \u001b[0m\u001b[48;5;255m  \u001b[0m"
      ]
     },
     "execution_count": 133,
     "metadata": {},
     "output_type": "execute_result"
    }
   ],
   "source": [
    "T = SE3(1, 2, 3) * SE3.Rx(30, 'deg')\n",
    "T"
   ]
  },
  {
   "cell_type": "markdown",
   "metadata": {},
   "source": [
    "Is a composition of two motions: a translation and _then_ a rotation.  We can see the rotation matrix, computed above, in the top-left corner and the translation components in the right-most column.  In the earlier example Out[20] was simply a null-rotation which is represented by the identity matrix.\n",
    "\n",
    "The frame now looks like this"
   ]
  },
  {
   "cell_type": "code",
   "execution_count": 134,
   "metadata": {},
   "outputs": [
    {
     "data": {
      "application/vnd.jupyter.widget-view+json": {
       "model_id": "ec97b68a48cc4031b0dd26d1455d6366",
       "version_major": 2,
       "version_minor": 0
      },
      "text/plain": [
       "Canvas(toolbar=Toolbar(toolitems=[('Home', 'Reset original view', 'home', 'home'), ('Back', 'Back to previous …"
      ]
     },
     "metadata": {},
     "output_type": "display_data"
    }
   ],
   "source": [
    "plt.figure() # create a new figure\n",
    "T.plot()"
   ]
  },
  {
   "cell_type": "markdown",
   "metadata": {},
   "source": [
    "#### Properties\n",
    "\n",
    "The object has a number of properties, such as the columns which are often written as $[n, o, a]$"
   ]
  },
  {
   "cell_type": "code",
   "execution_count": 135,
   "metadata": {},
   "outputs": [
    {
     "data": {
      "text/plain": [
       "array([1., 0., 0.])"
      ]
     },
     "execution_count": 135,
     "metadata": {},
     "output_type": "execute_result"
    }
   ],
   "source": [
    "T.n"
   ]
  },
  {
   "cell_type": "markdown",
   "metadata": {},
   "source": [
    "or its inverse (computed in an efficient manner based on the structure of the matrix)"
   ]
  },
  {
   "cell_type": "code",
   "execution_count": 136,
   "metadata": {},
   "outputs": [
    {
     "data": {
      "text/plain": [
       "  \u001b[38;5;1m\u001b[48;5;255m 1        \u001b[0m\u001b[38;5;1m\u001b[48;5;255m 0        \u001b[0m\u001b[38;5;1m\u001b[48;5;255m 0        \u001b[0m\u001b[38;5;4m\u001b[48;5;255m-1        \u001b[0m\u001b[48;5;255m  \u001b[0m\n",
       "  \u001b[38;5;1m\u001b[48;5;255m 0        \u001b[0m\u001b[38;5;1m\u001b[48;5;255m 0.866025 \u001b[0m\u001b[38;5;1m\u001b[48;5;255m 0.5      \u001b[0m\u001b[38;5;4m\u001b[48;5;255m-3.23205  \u001b[0m\u001b[48;5;255m  \u001b[0m\n",
       "  \u001b[38;5;1m\u001b[48;5;255m 0        \u001b[0m\u001b[38;5;1m\u001b[48;5;255m-0.5      \u001b[0m\u001b[38;5;1m\u001b[48;5;255m 0.866025 \u001b[0m\u001b[38;5;4m\u001b[48;5;255m-1.59808  \u001b[0m\u001b[48;5;255m  \u001b[0m\n",
       "  \u001b[38;5;244m\u001b[48;5;255m 0        \u001b[0m\u001b[38;5;244m\u001b[48;5;255m 0        \u001b[0m\u001b[38;5;244m\u001b[48;5;255m 0        \u001b[0m\u001b[38;5;244m\u001b[48;5;255m 1        \u001b[0m\u001b[48;5;255m  \u001b[0m"
      ]
     },
     "execution_count": 136,
     "metadata": {},
     "output_type": "execute_result"
    }
   ],
   "source": [
    "T.inv"
   ]
  },
  {
   "cell_type": "markdown",
   "metadata": {},
   "source": [
    "We can extract the rotation matrix as a numpy array"
   ]
  },
  {
   "cell_type": "code",
   "execution_count": 137,
   "metadata": {},
   "outputs": [
    {
     "data": {
      "text/plain": [
       "array([[ 1.       ,  0.       ,  0.       ],\n",
       "       [ 0.       ,  0.8660254, -0.5      ],\n",
       "       [ 0.       ,  0.5      ,  0.8660254]])"
      ]
     },
     "execution_count": 137,
     "metadata": {},
     "output_type": "execute_result"
    }
   ],
   "source": [
    "T.R"
   ]
  },
  {
   "cell_type": "markdown",
   "metadata": {},
   "source": [
    "or the translation vector, as a numpy array"
   ]
  },
  {
   "cell_type": "code",
   "execution_count": 138,
   "metadata": {},
   "outputs": [
    {
     "data": {
      "text/plain": [
       "array([1., 2., 3.])"
      ]
     },
     "execution_count": 138,
     "metadata": {},
     "output_type": "execute_result"
    }
   ],
   "source": [
    "T.t"
   ]
  },
  {
   "cell_type": "markdown",
   "metadata": {},
   "source": [
    "The shape of the underlying SE(3) matrix is"
   ]
  },
  {
   "cell_type": "code",
   "execution_count": 139,
   "metadata": {},
   "outputs": [
    {
     "data": {
      "text/plain": [
       "(4, 4)"
      ]
     },
     "execution_count": 139,
     "metadata": {},
     "output_type": "execute_result"
    }
   ],
   "source": [
    "T.shape"
   ]
  },
  {
   "cell_type": "markdown",
   "metadata": {},
   "source": [
    "and the order"
   ]
  },
  {
   "cell_type": "code",
   "execution_count": 140,
   "metadata": {},
   "outputs": [
    {
     "data": {
      "text/plain": [
       "3"
      ]
     },
     "execution_count": 140,
     "metadata": {},
     "output_type": "execute_result"
    }
   ],
   "source": [
    "T.N"
   ]
  },
  {
   "cell_type": "markdown",
   "metadata": {},
   "source": [
    "indicating it operates in 3D space."
   ]
  },
  {
   "cell_type": "markdown",
   "metadata": {},
   "source": [
    "#### Predicates\n",
    "\n",
    "We can check various properties"
   ]
  },
  {
   "cell_type": "code",
   "execution_count": 141,
   "metadata": {},
   "outputs": [
    {
     "data": {
      "text/plain": [
       "[True, False, False, True, False, False]"
      ]
     },
     "execution_count": 141,
     "metadata": {},
     "output_type": "execute_result"
    }
   ],
   "source": [
    "[T.isSE, T.isSO, T.isrot(), T.ishom(), T.isrot2(), T.ishom2()]"
   ]
  },
  {
   "cell_type": "markdown",
   "metadata": {},
   "source": [
    "### A couple of important points:\n",
    "\n",
    "When we compose motions they must be of the same type.  An `SE3` object can represent pure transation, pure rotation or both.  If we wish to compose a translation with a rotation, the rotation must be an `SE3` object with zero translation."
   ]
  },
  {
   "cell_type": "markdown",
   "metadata": {},
   "source": [
    "### Transforming points"
   ]
  },
  {
   "cell_type": "markdown",
   "metadata": {},
   "source": [
    "Consider a point at coordinates (1,1,0) in a new coordinate frame.  In the base frame its coordinate is"
   ]
  },
  {
   "cell_type": "code",
   "execution_count": 142,
   "metadata": {},
   "outputs": [
    {
     "data": {
      "text/plain": [
       "array([2.       , 2.8660254, 3.5      ])"
      ]
     },
     "execution_count": 142,
     "metadata": {},
     "output_type": "execute_result"
    }
   ],
   "source": [
    "T * [1, 1, 0]"
   ]
  },
  {
   "cell_type": "markdown",
   "metadata": {},
   "source": [
    "where the position vector representing the point, has been premultiplied by the homogeneous transformation `T`. The point has been rotated and translated.\n",
    "\n",
    "The vector is given here as a list but could also be a numpy array.  If the frame is denoted by {A} then our rotation matrix is ${}^0 \\mathbf{T}_A$ so a point ${}^A P$ defined with respect to frame {A} is transformed as ${}^0 P = {}^0 \\mathbf{T}_A\\,{}^A P$.  Imagine now a set of points defining the vertices of a cube"
   ]
  },
  {
   "cell_type": "code",
   "execution_count": 143,
   "metadata": {},
   "outputs": [
    {
     "data": {
      "text/plain": [
       "array([[-1,  1,  1, -1, -1,  1,  1, -1],\n",
       "       [-1, -1,  1,  1, -1, -1,  1,  1],\n",
       "       [-1, -1, -1, -1,  1,  1,  1,  1]])"
      ]
     },
     "execution_count": 143,
     "metadata": {},
     "output_type": "execute_result"
    }
   ],
   "source": [
    "P = np.array([[-1, 1, 1, -1, -1, 1, 1, -1], [-1, -1, 1, 1, -1, -1, 1, 1], [-1, -1, -1, -1, 1, 1, 1, 1]])\n",
    "P"
   ]
  },
  {
   "cell_type": "markdown",
   "metadata": {},
   "source": [
    "defined with respect to a rotationg reference frame ${}^A P_i$.  Given a rotation ${}^0 \\mathbf{T}_A$ as above, we determine the coordinates of the points in the world frame by ${}^0 P_i = ({}^0 \\mathbf{T}_A)^{-1} {}^0 P_i$ which we can do in a single operation"
   ]
  },
  {
   "cell_type": "code",
   "execution_count": 144,
   "metadata": {},
   "outputs": [],
   "source": [
    "Q = T.inv * P"
   ]
  },
  {
   "cell_type": "markdown",
   "metadata": {},
   "source": [
    "which we could then plot."
   ]
  },
  {
   "cell_type": "code",
   "execution_count": 145,
   "metadata": {},
   "outputs": [
    {
     "data": {
      "application/vnd.jupyter.widget-view+json": {
       "model_id": "b6d4799806864406a38966c5839a23a7",
       "version_major": 2,
       "version_minor": 0
      },
      "text/plain": [
       "Canvas(toolbar=Toolbar(toolitems=[('Home', 'Reset original view', 'home', 'home'), ('Back', 'Back to previous …"
      ]
     },
     "metadata": {},
     "output_type": "display_data"
    },
    {
     "data": {
      "text/plain": [
       "<mpl_toolkits.mplot3d.art3d.Path3DCollection at 0x11e52d210>"
      ]
     },
     "execution_count": 145,
     "metadata": {},
     "output_type": "execute_result"
    }
   ],
   "source": [
    "fig = plt.figure()\n",
    "ax = fig.add_subplot(111, projection='3d')\n",
    "ax.scatter(xs=Q[0], ys=Q[1], zs=Q[2], s=20)"
   ]
  },
  {
   "cell_type": "markdown",
   "metadata": {},
   "source": [
    "### Operators\n",
    "\n",
    "The classes discussed mimic the behavior the mathematical groups SO(3) and SE(3) which contain matrices of particular structure, they are subsets respectively of the sets of all possible real 3x3 and 4x4 matrices.\n",
    "\n",
    "The only operations on two elements of the group that also belongs to the group is composition (represented by the `*` operator) and inversion."
   ]
  },
  {
   "cell_type": "code",
   "execution_count": 146,
   "metadata": {},
   "outputs": [
    {
     "data": {
      "text/plain": [
       "[spatialmath.pose3d.SE3, spatialmath.pose3d.SE3, spatialmath.pose3d.SE3]"
      ]
     },
     "execution_count": 146,
     "metadata": {},
     "output_type": "execute_result"
    }
   ],
   "source": [
    "T = SE3(1, 2, 3) * SE3.Rx(30, 'deg')\n",
    "[type(T), type(T.inv), type(T*T)]"
   ]
  },
  {
   "cell_type": "markdown",
   "metadata": {},
   "source": [
    "We can simply the writing of"
   ]
  },
  {
   "cell_type": "code",
   "execution_count": 147,
   "metadata": {},
   "outputs": [
    {
     "data": {
      "text/plain": [
       "  \u001b[38;5;1m\u001b[48;5;255m 0.766044 \u001b[0m\u001b[38;5;1m\u001b[48;5;255m 0        \u001b[0m\u001b[38;5;1m\u001b[48;5;255m 0.642788 \u001b[0m\u001b[38;5;4m\u001b[48;5;255m-5.9209   \u001b[0m\u001b[48;5;255m  \u001b[0m\n",
       "  \u001b[38;5;1m\u001b[48;5;255m 0.321394 \u001b[0m\u001b[38;5;1m\u001b[48;5;255m 0.866025 \u001b[0m\u001b[38;5;1m\u001b[48;5;255m-0.383022 \u001b[0m\u001b[38;5;4m\u001b[48;5;255m-1.31757  \u001b[0m\u001b[48;5;255m  \u001b[0m\n",
       "  \u001b[38;5;1m\u001b[48;5;255m-0.55667  \u001b[0m\u001b[38;5;1m\u001b[48;5;255m 0.5      \u001b[0m\u001b[38;5;1m\u001b[48;5;255m 0.663414 \u001b[0m\u001b[38;5;4m\u001b[48;5;255m-1.2538   \u001b[0m\u001b[48;5;255m  \u001b[0m\n",
       "  \u001b[38;5;244m\u001b[48;5;255m 0        \u001b[0m\u001b[38;5;244m\u001b[48;5;255m 0        \u001b[0m\u001b[38;5;244m\u001b[48;5;255m 0        \u001b[0m\u001b[38;5;244m\u001b[48;5;255m 1        \u001b[0m\u001b[48;5;255m  \u001b[0m"
      ]
     },
     "execution_count": 147,
     "metadata": {},
     "output_type": "execute_result"
    }
   ],
   "source": [
    "T2 = SE3(4, 5, 6) * SE3.Ry(-40, 'deg')\n",
    "\n",
    "T * T2.inv"
   ]
  },
  {
   "cell_type": "markdown",
   "metadata": {},
   "source": [
    "by writing"
   ]
  },
  {
   "cell_type": "code",
   "execution_count": 148,
   "metadata": {},
   "outputs": [
    {
     "data": {
      "text/plain": [
       "  \u001b[38;5;1m\u001b[48;5;255m 0.766044 \u001b[0m\u001b[38;5;1m\u001b[48;5;255m 0        \u001b[0m\u001b[38;5;1m\u001b[48;5;255m 0.642788 \u001b[0m\u001b[38;5;4m\u001b[48;5;255m-5.9209   \u001b[0m\u001b[48;5;255m  \u001b[0m\n",
       "  \u001b[38;5;1m\u001b[48;5;255m 0.321394 \u001b[0m\u001b[38;5;1m\u001b[48;5;255m 0.866025 \u001b[0m\u001b[38;5;1m\u001b[48;5;255m-0.383022 \u001b[0m\u001b[38;5;4m\u001b[48;5;255m-1.31757  \u001b[0m\u001b[48;5;255m  \u001b[0m\n",
       "  \u001b[38;5;1m\u001b[48;5;255m-0.55667  \u001b[0m\u001b[38;5;1m\u001b[48;5;255m 0.5      \u001b[0m\u001b[38;5;1m\u001b[48;5;255m 0.663414 \u001b[0m\u001b[38;5;4m\u001b[48;5;255m-1.2538   \u001b[0m\u001b[48;5;255m  \u001b[0m\n",
       "  \u001b[38;5;244m\u001b[48;5;255m 0        \u001b[0m\u001b[38;5;244m\u001b[48;5;255m 0        \u001b[0m\u001b[38;5;244m\u001b[48;5;255m 0        \u001b[0m\u001b[38;5;244m\u001b[48;5;255m 1        \u001b[0m\u001b[48;5;255m  \u001b[0m"
      ]
     },
     "execution_count": 148,
     "metadata": {},
     "output_type": "execute_result"
    }
   ],
   "source": [
    "T / T2"
   ]
  },
  {
   "cell_type": "markdown",
   "metadata": {},
   "source": [
    "The inplace versions of operators are also supported, for example"
   ]
  },
  {
   "cell_type": "code",
   "execution_count": 149,
   "metadata": {},
   "outputs": [
    {
     "data": {
      "text/plain": [
       "  \u001b[38;5;1m\u001b[48;5;255m 0.766044 \u001b[0m\u001b[38;5;1m\u001b[48;5;255m 0        \u001b[0m\u001b[38;5;1m\u001b[48;5;255m 0.642788 \u001b[0m\u001b[38;5;4m\u001b[48;5;255m-5.9209   \u001b[0m\u001b[48;5;255m  \u001b[0m\n",
       "  \u001b[38;5;1m\u001b[48;5;255m 0.321394 \u001b[0m\u001b[38;5;1m\u001b[48;5;255m 0.866025 \u001b[0m\u001b[38;5;1m\u001b[48;5;255m-0.383022 \u001b[0m\u001b[38;5;4m\u001b[48;5;255m-1.31757  \u001b[0m\u001b[48;5;255m  \u001b[0m\n",
       "  \u001b[38;5;1m\u001b[48;5;255m-0.55667  \u001b[0m\u001b[38;5;1m\u001b[48;5;255m 0.5      \u001b[0m\u001b[38;5;1m\u001b[48;5;255m 0.663414 \u001b[0m\u001b[38;5;4m\u001b[48;5;255m-1.2538   \u001b[0m\u001b[48;5;255m  \u001b[0m\n",
       "  \u001b[38;5;244m\u001b[48;5;255m 0        \u001b[0m\u001b[38;5;244m\u001b[48;5;255m 0        \u001b[0m\u001b[38;5;244m\u001b[48;5;255m 0        \u001b[0m\u001b[38;5;244m\u001b[48;5;255m 1        \u001b[0m\u001b[48;5;255m  \u001b[0m"
      ]
     },
     "execution_count": 149,
     "metadata": {},
     "output_type": "execute_result"
    }
   ],
   "source": [
    "X = T\n",
    "X /= T2\n",
    "X"
   ]
  },
  {
   "cell_type": "code",
   "execution_count": null,
   "metadata": {},
   "outputs": [],
   "source": []
  },
  {
   "cell_type": "code",
   "execution_count": null,
   "metadata": {},
   "outputs": [],
   "source": []
  },
  {
   "cell_type": "markdown",
   "metadata": {},
   "source": [
    "#### Non-group operations\n",
    "\n",
    "Operations such as addition and subtraction are valid for matrices but not for elements of the group, therefore"
   ]
  },
  {
   "cell_type": "code",
   "execution_count": 150,
   "metadata": {},
   "outputs": [
    {
     "data": {
      "text/plain": [
       "array([[ 1.76604444,  0.        , -0.64278761,  5.        ],\n",
       "       [ 0.        ,  1.8660254 , -0.5       ,  7.        ],\n",
       "       [ 0.64278761,  0.5       ,  1.63206985,  9.        ],\n",
       "       [ 0.        ,  0.        ,  0.        ,  2.        ]])"
      ]
     },
     "execution_count": 150,
     "metadata": {},
     "output_type": "execute_result"
    }
   ],
   "source": [
    "T + T2"
   ]
  },
  {
   "cell_type": "markdown",
   "metadata": {},
   "source": [
    "yields an array, not an `SE3` object."
   ]
  },
  {
   "cell_type": "code",
   "execution_count": 151,
   "metadata": {},
   "outputs": [
    {
     "data": {
      "text/plain": [
       "array([[ 2.        ,  0.        ,  0.        ,  2.        ],\n",
       "       [ 0.        ,  1.73205081, -1.        ,  4.        ],\n",
       "       [ 0.        ,  1.        ,  1.73205081,  6.        ],\n",
       "       [ 0.        ,  0.        ,  0.        ,  2.        ]])"
      ]
     },
     "execution_count": 151,
     "metadata": {},
     "output_type": "execute_result"
    }
   ],
   "source": [
    "2 * T"
   ]
  },
  {
   "cell_type": "code",
   "execution_count": 152,
   "metadata": {},
   "outputs": [
    {
     "data": {
      "text/plain": [
       "array([[ 0.       , -1.       , -1.       ,  0.       ],\n",
       "       [-1.       , -0.1339746, -1.5      ,  1.       ],\n",
       "       [-1.       , -0.5      , -0.1339746,  2.       ],\n",
       "       [-1.       , -1.       , -1.       ,  0.       ]])"
      ]
     },
     "execution_count": 152,
     "metadata": {},
     "output_type": "execute_result"
    }
   ],
   "source": [
    "T - 1"
   ]
  },
  {
   "cell_type": "code",
   "execution_count": null,
   "metadata": {},
   "outputs": [],
   "source": []
  },
  {
   "cell_type": "markdown",
   "metadata": {},
   "source": [
    "## Implicit lists\n",
    "\n",
    "For many tasks we might want to have a group or sequence of rotations or poses. The obvious solution would be to use a Python list"
   ]
  },
  {
   "cell_type": "code",
   "execution_count": 153,
   "metadata": {},
   "outputs": [],
   "source": [
    "T = [ SE3.Rx(0), SE3.Rx(0.1), SE3.Rx(0.2), SE3.Rx(0.3), SE3.Rx(0.4), SE3.Rx(0.5)]"
   ]
  },
  {
   "cell_type": "markdown",
   "metadata": {},
   "source": [
    "but we can actually put this list inside the pose object.  There are a few ways to do this, most obviously"
   ]
  },
  {
   "cell_type": "code",
   "execution_count": 154,
   "metadata": {},
   "outputs": [],
   "source": [
    "T = SE3( [ SE3.Rx(0), SE3.Rx(0.1), SE3.Rx(0.2), SE3.Rx(0.3), SE3.Rx(0.4), SE3.Rx(0.5)] )"
   ]
  },
  {
   "cell_type": "markdown",
   "metadata": {},
   "source": [
    "which has the same type as an individual pose object"
   ]
  },
  {
   "cell_type": "code",
   "execution_count": 155,
   "metadata": {},
   "outputs": [
    {
     "data": {
      "text/plain": [
       "spatialmath.pose3d.SE3"
      ]
     },
     "execution_count": 155,
     "metadata": {},
     "output_type": "execute_result"
    }
   ],
   "source": [
    "type(T)"
   ]
  },
  {
   "cell_type": "markdown",
   "metadata": {},
   "source": [
    "but it has length of six"
   ]
  },
  {
   "cell_type": "code",
   "execution_count": 156,
   "metadata": {},
   "outputs": [
    {
     "data": {
      "text/plain": [
       "6"
      ]
     },
     "execution_count": 156,
     "metadata": {},
     "output_type": "execute_result"
    }
   ],
   "source": [
    "len(T)"
   ]
  },
  {
   "cell_type": "markdown",
   "metadata": {},
   "source": [
    "and when we display it we can see the individual elements"
   ]
  },
  {
   "cell_type": "code",
   "execution_count": 157,
   "metadata": {},
   "outputs": [
    {
     "data": {
      "text/plain": [
       "\u001b[38;5;2m[0] =\n",
       "\u001b[0m  \u001b[38;5;1m\u001b[48;5;255m 1        \u001b[0m\u001b[38;5;1m\u001b[48;5;255m 0        \u001b[0m\u001b[38;5;1m\u001b[48;5;255m 0        \u001b[0m\u001b[38;5;4m\u001b[48;5;255m 0        \u001b[0m\u001b[48;5;255m  \u001b[0m\n",
       "  \u001b[38;5;1m\u001b[48;5;255m 0        \u001b[0m\u001b[38;5;1m\u001b[48;5;255m 1        \u001b[0m\u001b[38;5;1m\u001b[48;5;255m 0        \u001b[0m\u001b[38;5;4m\u001b[48;5;255m 0        \u001b[0m\u001b[48;5;255m  \u001b[0m\n",
       "  \u001b[38;5;1m\u001b[48;5;255m 0        \u001b[0m\u001b[38;5;1m\u001b[48;5;255m 0        \u001b[0m\u001b[38;5;1m\u001b[48;5;255m 1        \u001b[0m\u001b[38;5;4m\u001b[48;5;255m 0        \u001b[0m\u001b[48;5;255m  \u001b[0m\n",
       "  \u001b[38;5;244m\u001b[48;5;255m 0        \u001b[0m\u001b[38;5;244m\u001b[48;5;255m 0        \u001b[0m\u001b[38;5;244m\u001b[48;5;255m 0        \u001b[0m\u001b[38;5;244m\u001b[48;5;255m 1        \u001b[0m\u001b[48;5;255m  \u001b[0m\n",
       "\u001b[38;5;2m[1] =\n",
       "\u001b[0m  \u001b[38;5;1m\u001b[48;5;255m 1        \u001b[0m\u001b[38;5;1m\u001b[48;5;255m 0        \u001b[0m\u001b[38;5;1m\u001b[48;5;255m 0        \u001b[0m\u001b[38;5;4m\u001b[48;5;255m 0        \u001b[0m\u001b[48;5;255m  \u001b[0m\n",
       "  \u001b[38;5;1m\u001b[48;5;255m 0        \u001b[0m\u001b[38;5;1m\u001b[48;5;255m 0.995004 \u001b[0m\u001b[38;5;1m\u001b[48;5;255m-0.0998334\u001b[0m\u001b[38;5;4m\u001b[48;5;255m 0        \u001b[0m\u001b[48;5;255m  \u001b[0m\n",
       "  \u001b[38;5;1m\u001b[48;5;255m 0        \u001b[0m\u001b[38;5;1m\u001b[48;5;255m 0.0998334\u001b[0m\u001b[38;5;1m\u001b[48;5;255m 0.995004 \u001b[0m\u001b[38;5;4m\u001b[48;5;255m 0        \u001b[0m\u001b[48;5;255m  \u001b[0m\n",
       "  \u001b[38;5;244m\u001b[48;5;255m 0        \u001b[0m\u001b[38;5;244m\u001b[48;5;255m 0        \u001b[0m\u001b[38;5;244m\u001b[48;5;255m 0        \u001b[0m\u001b[38;5;244m\u001b[48;5;255m 1        \u001b[0m\u001b[48;5;255m  \u001b[0m\n",
       "\u001b[38;5;2m[2] =\n",
       "\u001b[0m  \u001b[38;5;1m\u001b[48;5;255m 1        \u001b[0m\u001b[38;5;1m\u001b[48;5;255m 0        \u001b[0m\u001b[38;5;1m\u001b[48;5;255m 0        \u001b[0m\u001b[38;5;4m\u001b[48;5;255m 0        \u001b[0m\u001b[48;5;255m  \u001b[0m\n",
       "  \u001b[38;5;1m\u001b[48;5;255m 0        \u001b[0m\u001b[38;5;1m\u001b[48;5;255m 0.980067 \u001b[0m\u001b[38;5;1m\u001b[48;5;255m-0.198669 \u001b[0m\u001b[38;5;4m\u001b[48;5;255m 0        \u001b[0m\u001b[48;5;255m  \u001b[0m\n",
       "  \u001b[38;5;1m\u001b[48;5;255m 0        \u001b[0m\u001b[38;5;1m\u001b[48;5;255m 0.198669 \u001b[0m\u001b[38;5;1m\u001b[48;5;255m 0.980067 \u001b[0m\u001b[38;5;4m\u001b[48;5;255m 0        \u001b[0m\u001b[48;5;255m  \u001b[0m\n",
       "  \u001b[38;5;244m\u001b[48;5;255m 0        \u001b[0m\u001b[38;5;244m\u001b[48;5;255m 0        \u001b[0m\u001b[38;5;244m\u001b[48;5;255m 0        \u001b[0m\u001b[38;5;244m\u001b[48;5;255m 1        \u001b[0m\u001b[48;5;255m  \u001b[0m\n",
       "\u001b[38;5;2m[3] =\n",
       "\u001b[0m  \u001b[38;5;1m\u001b[48;5;255m 1        \u001b[0m\u001b[38;5;1m\u001b[48;5;255m 0        \u001b[0m\u001b[38;5;1m\u001b[48;5;255m 0        \u001b[0m\u001b[38;5;4m\u001b[48;5;255m 0        \u001b[0m\u001b[48;5;255m  \u001b[0m\n",
       "  \u001b[38;5;1m\u001b[48;5;255m 0        \u001b[0m\u001b[38;5;1m\u001b[48;5;255m 0.955336 \u001b[0m\u001b[38;5;1m\u001b[48;5;255m-0.29552  \u001b[0m\u001b[38;5;4m\u001b[48;5;255m 0        \u001b[0m\u001b[48;5;255m  \u001b[0m\n",
       "  \u001b[38;5;1m\u001b[48;5;255m 0        \u001b[0m\u001b[38;5;1m\u001b[48;5;255m 0.29552  \u001b[0m\u001b[38;5;1m\u001b[48;5;255m 0.955336 \u001b[0m\u001b[38;5;4m\u001b[48;5;255m 0        \u001b[0m\u001b[48;5;255m  \u001b[0m\n",
       "  \u001b[38;5;244m\u001b[48;5;255m 0        \u001b[0m\u001b[38;5;244m\u001b[48;5;255m 0        \u001b[0m\u001b[38;5;244m\u001b[48;5;255m 0        \u001b[0m\u001b[38;5;244m\u001b[48;5;255m 1        \u001b[0m\u001b[48;5;255m  \u001b[0m\n",
       "\u001b[38;5;2m[4] =\n",
       "\u001b[0m  \u001b[38;5;1m\u001b[48;5;255m 1        \u001b[0m\u001b[38;5;1m\u001b[48;5;255m 0        \u001b[0m\u001b[38;5;1m\u001b[48;5;255m 0        \u001b[0m\u001b[38;5;4m\u001b[48;5;255m 0        \u001b[0m\u001b[48;5;255m  \u001b[0m\n",
       "  \u001b[38;5;1m\u001b[48;5;255m 0        \u001b[0m\u001b[38;5;1m\u001b[48;5;255m 0.921061 \u001b[0m\u001b[38;5;1m\u001b[48;5;255m-0.389418 \u001b[0m\u001b[38;5;4m\u001b[48;5;255m 0        \u001b[0m\u001b[48;5;255m  \u001b[0m\n",
       "  \u001b[38;5;1m\u001b[48;5;255m 0        \u001b[0m\u001b[38;5;1m\u001b[48;5;255m 0.389418 \u001b[0m\u001b[38;5;1m\u001b[48;5;255m 0.921061 \u001b[0m\u001b[38;5;4m\u001b[48;5;255m 0        \u001b[0m\u001b[48;5;255m  \u001b[0m\n",
       "  \u001b[38;5;244m\u001b[48;5;255m 0        \u001b[0m\u001b[38;5;244m\u001b[48;5;255m 0        \u001b[0m\u001b[38;5;244m\u001b[48;5;255m 0        \u001b[0m\u001b[38;5;244m\u001b[48;5;255m 1        \u001b[0m\u001b[48;5;255m  \u001b[0m\n",
       "\u001b[38;5;2m[5] =\n",
       "\u001b[0m  \u001b[38;5;1m\u001b[48;5;255m 1        \u001b[0m\u001b[38;5;1m\u001b[48;5;255m 0        \u001b[0m\u001b[38;5;1m\u001b[48;5;255m 0        \u001b[0m\u001b[38;5;4m\u001b[48;5;255m 0        \u001b[0m\u001b[48;5;255m  \u001b[0m\n",
       "  \u001b[38;5;1m\u001b[48;5;255m 0        \u001b[0m\u001b[38;5;1m\u001b[48;5;255m 0.877583 \u001b[0m\u001b[38;5;1m\u001b[48;5;255m-0.479426 \u001b[0m\u001b[38;5;4m\u001b[48;5;255m 0        \u001b[0m\u001b[48;5;255m  \u001b[0m\n",
       "  \u001b[38;5;1m\u001b[48;5;255m 0        \u001b[0m\u001b[38;5;1m\u001b[48;5;255m 0.479426 \u001b[0m\u001b[38;5;1m\u001b[48;5;255m 0.877583 \u001b[0m\u001b[38;5;4m\u001b[48;5;255m 0        \u001b[0m\u001b[48;5;255m  \u001b[0m\n",
       "  \u001b[38;5;244m\u001b[48;5;255m 0        \u001b[0m\u001b[38;5;244m\u001b[48;5;255m 0        \u001b[0m\u001b[38;5;244m\u001b[48;5;255m 0        \u001b[0m\u001b[38;5;244m\u001b[48;5;255m 1        \u001b[0m\u001b[48;5;255m  \u001b[0m"
      ]
     },
     "execution_count": 157,
     "metadata": {},
     "output_type": "execute_result"
    }
   ],
   "source": [
    "T"
   ]
  },
  {
   "cell_type": "markdown",
   "metadata": {},
   "source": [
    "and we can slice it in the usual way"
   ]
  },
  {
   "cell_type": "code",
   "execution_count": 158,
   "metadata": {},
   "outputs": [
    {
     "data": {
      "text/plain": [
       "  \u001b[38;5;1m\u001b[48;5;255m 1        \u001b[0m\u001b[38;5;1m\u001b[48;5;255m 0        \u001b[0m\u001b[38;5;1m\u001b[48;5;255m 0        \u001b[0m\u001b[38;5;4m\u001b[48;5;255m 0        \u001b[0m\u001b[48;5;255m  \u001b[0m\n",
       "  \u001b[38;5;1m\u001b[48;5;255m 0        \u001b[0m\u001b[38;5;1m\u001b[48;5;255m 0.955336 \u001b[0m\u001b[38;5;1m\u001b[48;5;255m-0.29552  \u001b[0m\u001b[38;5;4m\u001b[48;5;255m 0        \u001b[0m\u001b[48;5;255m  \u001b[0m\n",
       "  \u001b[38;5;1m\u001b[48;5;255m 0        \u001b[0m\u001b[38;5;1m\u001b[48;5;255m 0.29552  \u001b[0m\u001b[38;5;1m\u001b[48;5;255m 0.955336 \u001b[0m\u001b[38;5;4m\u001b[48;5;255m 0        \u001b[0m\u001b[48;5;255m  \u001b[0m\n",
       "  \u001b[38;5;244m\u001b[48;5;255m 0        \u001b[0m\u001b[38;5;244m\u001b[48;5;255m 0        \u001b[0m\u001b[38;5;244m\u001b[48;5;255m 0        \u001b[0m\u001b[38;5;244m\u001b[48;5;255m 1        \u001b[0m\u001b[48;5;255m  \u001b[0m"
      ]
     },
     "execution_count": 158,
     "metadata": {},
     "output_type": "execute_result"
    }
   ],
   "source": [
    "T[3]"
   ]
  },
  {
   "cell_type": "markdown",
   "metadata": {},
   "source": [
    "or from start to end in steps of two"
   ]
  },
  {
   "cell_type": "code",
   "execution_count": 159,
   "metadata": {},
   "outputs": [
    {
     "data": {
      "text/plain": [
       "\u001b[38;5;2m[0] =\n",
       "\u001b[0m  \u001b[38;5;1m\u001b[48;5;255m 1        \u001b[0m\u001b[38;5;1m\u001b[48;5;255m 0        \u001b[0m\u001b[38;5;1m\u001b[48;5;255m 0        \u001b[0m\u001b[38;5;4m\u001b[48;5;255m 0        \u001b[0m\u001b[48;5;255m  \u001b[0m\n",
       "  \u001b[38;5;1m\u001b[48;5;255m 0        \u001b[0m\u001b[38;5;1m\u001b[48;5;255m 1        \u001b[0m\u001b[38;5;1m\u001b[48;5;255m 0        \u001b[0m\u001b[38;5;4m\u001b[48;5;255m 0        \u001b[0m\u001b[48;5;255m  \u001b[0m\n",
       "  \u001b[38;5;1m\u001b[48;5;255m 0        \u001b[0m\u001b[38;5;1m\u001b[48;5;255m 0        \u001b[0m\u001b[38;5;1m\u001b[48;5;255m 1        \u001b[0m\u001b[38;5;4m\u001b[48;5;255m 0        \u001b[0m\u001b[48;5;255m  \u001b[0m\n",
       "  \u001b[38;5;244m\u001b[48;5;255m 0        \u001b[0m\u001b[38;5;244m\u001b[48;5;255m 0        \u001b[0m\u001b[38;5;244m\u001b[48;5;255m 0        \u001b[0m\u001b[38;5;244m\u001b[48;5;255m 1        \u001b[0m\u001b[48;5;255m  \u001b[0m\n",
       "\u001b[38;5;2m[1] =\n",
       "\u001b[0m  \u001b[38;5;1m\u001b[48;5;255m 1        \u001b[0m\u001b[38;5;1m\u001b[48;5;255m 0        \u001b[0m\u001b[38;5;1m\u001b[48;5;255m 0        \u001b[0m\u001b[38;5;4m\u001b[48;5;255m 0        \u001b[0m\u001b[48;5;255m  \u001b[0m\n",
       "  \u001b[38;5;1m\u001b[48;5;255m 0        \u001b[0m\u001b[38;5;1m\u001b[48;5;255m 0.980067 \u001b[0m\u001b[38;5;1m\u001b[48;5;255m-0.198669 \u001b[0m\u001b[38;5;4m\u001b[48;5;255m 0        \u001b[0m\u001b[48;5;255m  \u001b[0m\n",
       "  \u001b[38;5;1m\u001b[48;5;255m 0        \u001b[0m\u001b[38;5;1m\u001b[48;5;255m 0.198669 \u001b[0m\u001b[38;5;1m\u001b[48;5;255m 0.980067 \u001b[0m\u001b[38;5;4m\u001b[48;5;255m 0        \u001b[0m\u001b[48;5;255m  \u001b[0m\n",
       "  \u001b[38;5;244m\u001b[48;5;255m 0        \u001b[0m\u001b[38;5;244m\u001b[48;5;255m 0        \u001b[0m\u001b[38;5;244m\u001b[48;5;255m 0        \u001b[0m\u001b[38;5;244m\u001b[48;5;255m 1        \u001b[0m\u001b[48;5;255m  \u001b[0m\n",
       "\u001b[38;5;2m[2] =\n",
       "\u001b[0m  \u001b[38;5;1m\u001b[48;5;255m 1        \u001b[0m\u001b[38;5;1m\u001b[48;5;255m 0        \u001b[0m\u001b[38;5;1m\u001b[48;5;255m 0        \u001b[0m\u001b[38;5;4m\u001b[48;5;255m 0        \u001b[0m\u001b[48;5;255m  \u001b[0m\n",
       "  \u001b[38;5;1m\u001b[48;5;255m 0        \u001b[0m\u001b[38;5;1m\u001b[48;5;255m 0.921061 \u001b[0m\u001b[38;5;1m\u001b[48;5;255m-0.389418 \u001b[0m\u001b[38;5;4m\u001b[48;5;255m 0        \u001b[0m\u001b[48;5;255m  \u001b[0m\n",
       "  \u001b[38;5;1m\u001b[48;5;255m 0        \u001b[0m\u001b[38;5;1m\u001b[48;5;255m 0.389418 \u001b[0m\u001b[38;5;1m\u001b[48;5;255m 0.921061 \u001b[0m\u001b[38;5;4m\u001b[48;5;255m 0        \u001b[0m\u001b[48;5;255m  \u001b[0m\n",
       "  \u001b[38;5;244m\u001b[48;5;255m 0        \u001b[0m\u001b[38;5;244m\u001b[48;5;255m 0        \u001b[0m\u001b[38;5;244m\u001b[48;5;255m 0        \u001b[0m\u001b[38;5;244m\u001b[48;5;255m 1        \u001b[0m\u001b[48;5;255m  \u001b[0m"
      ]
     },
     "execution_count": 159,
     "metadata": {},
     "output_type": "execute_result"
    }
   ],
   "source": [
    "T[0:-1:2]"
   ]
  },
  {
   "cell_type": "markdown",
   "metadata": {},
   "source": [
    "We could another pose to the end"
   ]
  },
  {
   "cell_type": "code",
   "execution_count": 160,
   "metadata": {},
   "outputs": [
    {
     "data": {
      "text/plain": [
       "7"
      ]
     },
     "execution_count": 160,
     "metadata": {},
     "output_type": "execute_result"
    }
   ],
   "source": [
    "T.append( SE3.Rx(0.6) )\n",
    "len(T)"
   ]
  },
  {
   "cell_type": "markdown",
   "metadata": {},
   "source": [
    "The `SE3` class, like all the classes in the spatialmath package, inherits from the `UserList` class giving it all the methods of a Python list."
   ]
  },
  {
   "cell_type": "markdown",
   "metadata": {},
   "source": [
    "We could write the above example more succinctly"
   ]
  },
  {
   "cell_type": "code",
   "execution_count": 161,
   "metadata": {},
   "outputs": [
    {
     "data": {
      "text/plain": [
       "6"
      ]
     },
     "execution_count": 161,
     "metadata": {},
     "output_type": "execute_result"
    }
   ],
   "source": [
    "T = SE3.Rx( np.linspace(0, 0.5, 6) )\n",
    "len(T)"
   ]
  },
  {
   "cell_type": "code",
   "execution_count": 162,
   "metadata": {},
   "outputs": [
    {
     "data": {
      "text/plain": [
       "  \u001b[38;5;1m\u001b[48;5;255m 1        \u001b[0m\u001b[38;5;1m\u001b[48;5;255m 0        \u001b[0m\u001b[38;5;1m\u001b[48;5;255m 0        \u001b[0m\u001b[38;5;4m\u001b[48;5;255m 0        \u001b[0m\u001b[48;5;255m  \u001b[0m\n",
       "  \u001b[38;5;1m\u001b[48;5;255m 0        \u001b[0m\u001b[38;5;1m\u001b[48;5;255m 0.955336 \u001b[0m\u001b[38;5;1m\u001b[48;5;255m-0.29552  \u001b[0m\u001b[38;5;4m\u001b[48;5;255m 0        \u001b[0m\u001b[48;5;255m  \u001b[0m\n",
       "  \u001b[38;5;1m\u001b[48;5;255m 0        \u001b[0m\u001b[38;5;1m\u001b[48;5;255m 0.29552  \u001b[0m\u001b[38;5;1m\u001b[48;5;255m 0.955336 \u001b[0m\u001b[38;5;4m\u001b[48;5;255m 0        \u001b[0m\u001b[48;5;255m  \u001b[0m\n",
       "  \u001b[38;5;244m\u001b[48;5;255m 0        \u001b[0m\u001b[38;5;244m\u001b[48;5;255m 0        \u001b[0m\u001b[38;5;244m\u001b[48;5;255m 0        \u001b[0m\u001b[38;5;244m\u001b[48;5;255m 1        \u001b[0m\u001b[48;5;255m  \u001b[0m"
      ]
     },
     "execution_count": 162,
     "metadata": {},
     "output_type": "execute_result"
    }
   ],
   "source": [
    "T[3]"
   ]
  },
  {
   "cell_type": "markdown",
   "metadata": {},
   "source": [
    "Consider another rotation"
   ]
  },
  {
   "cell_type": "code",
   "execution_count": 163,
   "metadata": {},
   "outputs": [],
   "source": [
    "T2 = SE3.Ry(40, 'deg')"
   ]
  },
  {
   "cell_type": "markdown",
   "metadata": {},
   "source": [
    "then we can write"
   ]
  },
  {
   "cell_type": "code",
   "execution_count": 164,
   "metadata": {},
   "outputs": [
    {
     "data": {
      "text/plain": [
       "6"
      ]
     },
     "execution_count": 164,
     "metadata": {},
     "output_type": "execute_result"
    }
   ],
   "source": [
    "A = T * T2\n",
    "len(A)"
   ]
  },
  {
   "cell_type": "markdown",
   "metadata": {},
   "source": [
    "which has produced a new list where each element of `A` is the `T[i] * T2`.  Similarly"
   ]
  },
  {
   "cell_type": "code",
   "execution_count": 165,
   "metadata": {},
   "outputs": [
    {
     "data": {
      "text/plain": [
       "6"
      ]
     },
     "execution_count": 165,
     "metadata": {},
     "output_type": "execute_result"
    }
   ],
   "source": [
    "B = T2 * T\n",
    "len(B)"
   ]
  },
  {
   "cell_type": "markdown",
   "metadata": {},
   "source": [
    "which has produced a new list where each element of `B` is the `T2 * T[i]`.\n",
    "\n",
    "And perhaps not surprisingly "
   ]
  },
  {
   "cell_type": "code",
   "execution_count": 166,
   "metadata": {},
   "outputs": [
    {
     "data": {
      "text/plain": [
       "6"
      ]
     },
     "execution_count": 166,
     "metadata": {},
     "output_type": "execute_result"
    }
   ],
   "source": [
    "C = T * T\n",
    "len(C)"
   ]
  },
  {
   "cell_type": "markdown",
   "metadata": {},
   "source": [
    "which has produced a new list where each element of `C` is the `T[i] * T[i]`.  We can apply such a sequence to a coordinate vectors as we did earlier"
   ]
  },
  {
   "cell_type": "code",
   "execution_count": 167,
   "metadata": {},
   "outputs": [
    {
     "data": {
      "text/plain": [
       "array([[0.        , 0.        , 0.        , 0.        , 0.        ,\n",
       "        0.        ],\n",
       "       [1.        , 0.99500417, 0.98006658, 0.95533649, 0.92106099,\n",
       "        0.87758256],\n",
       "       [0.        , 0.09983342, 0.19866933, 0.29552021, 0.38941834,\n",
       "        0.47942554]])"
      ]
     },
     "execution_count": 167,
     "metadata": {},
     "output_type": "execute_result"
    }
   ],
   "source": [
    "P = T * [0, 1, 0]\n",
    "P"
   ]
  },
  {
   "cell_type": "markdown",
   "metadata": {},
   "source": [
    "where each element of `T` has transformed the coordinate vector (0, 1, 0), the results being consecutive columns of the resulting numpy array.\n",
    "\n",
    "Imagine now that we wanted to display our cube for each value in the list, we simply use a `for` loop"
   ]
  },
  {
   "cell_type": "code",
   "execution_count": 168,
   "metadata": {},
   "outputs": [],
   "source": [
    "for _T in T:\n",
    "    Q = _T * P\n",
    "    # plot(Q)"
   ]
  },
  {
   "cell_type": "markdown",
   "metadata": {},
   "source": [
    "and we can also these list objects inside list comprehensions"
   ]
  },
  {
   "cell_type": "code",
   "execution_count": 169,
   "metadata": {},
   "outputs": [
    {
     "data": {
      "text/plain": [
       "array([[0.        , 1.        , 0.        ],\n",
       "       [0.        , 0.99500417, 0.09983342],\n",
       "       [0.        , 0.98006658, 0.19866933],\n",
       "       [0.        , 0.95533649, 0.29552021],\n",
       "       [0.        , 0.92106099, 0.38941834],\n",
       "       [0.        , 0.87758256, 0.47942554]])"
      ]
     },
     "execution_count": 169,
     "metadata": {},
     "output_type": "execute_result"
    }
   ],
   "source": [
    "np.array([ _T * [0,1,0] for _T in T])"
   ]
  },
  {
   "cell_type": "markdown",
   "metadata": {},
   "source": [
    "### Unit quaternions for 3D rotation\n",
    "\n",
    "A quaternion can be considered as a type of complex number or more usefully as an order pair comprising a scalar and a vector.  We can create two quaternions"
   ]
  },
  {
   "cell_type": "code",
   "execution_count": 181,
   "metadata": {},
   "outputs": [
    {
     "data": {
      "text/plain": [
       "1.000000 < 2.000000, 3.000000, 4.000000 >"
      ]
     },
     "execution_count": 181,
     "metadata": {},
     "output_type": "execute_result"
    }
   ],
   "source": [
    "q1 = Quaternion([1,2,3,4])\n",
    "q1"
   ]
  },
  {
   "cell_type": "markdown",
   "metadata": {},
   "source": [
    "and"
   ]
  },
  {
   "cell_type": "code",
   "execution_count": 184,
   "metadata": {},
   "outputs": [
    {
     "data": {
      "text/plain": [
       "5.000000 < 6.000000, 7.000000, 8.000000 >"
      ]
     },
     "execution_count": 184,
     "metadata": {},
     "output_type": "execute_result"
    }
   ],
   "source": [
    "q2 = Quaternion([5,6,7,8])\n",
    "q2"
   ]
  },
  {
   "cell_type": "markdown",
   "metadata": {},
   "source": [
    "where the scalar is before the angle brackets which enclose the vector part.  Operators allow us to add"
   ]
  },
  {
   "cell_type": "code",
   "execution_count": 185,
   "metadata": {},
   "outputs": [
    {
     "data": {
      "text/plain": [
       "6.000000 < 8.000000, 10.000000, 12.000000 >"
      ]
     },
     "execution_count": 185,
     "metadata": {},
     "output_type": "execute_result"
    }
   ],
   "source": [
    "q1 + q2"
   ]
  },
  {
   "cell_type": "markdown",
   "metadata": {},
   "source": [
    "subtract"
   ]
  },
  {
   "cell_type": "code",
   "execution_count": 186,
   "metadata": {},
   "outputs": [
    {
     "data": {
      "text/plain": [
       "-4.000000 < -4.000000, -4.000000, -4.000000 >"
      ]
     },
     "execution_count": 186,
     "metadata": {},
     "output_type": "execute_result"
    }
   ],
   "source": [
    "q1 - q2"
   ]
  },
  {
   "cell_type": "markdown",
   "metadata": {},
   "source": [
    "and to multiply"
   ]
  },
  {
   "cell_type": "code",
   "execution_count": 187,
   "metadata": {},
   "outputs": [
    {
     "data": {
      "text/plain": [
       "-60.000000 < 12.000000, 30.000000, 24.000000 >"
      ]
     },
     "execution_count": 187,
     "metadata": {},
     "output_type": "execute_result"
    }
   ],
   "source": [
    "q1 * q2"
   ]
  },
  {
   "cell_type": "markdown",
   "metadata": {},
   "source": [
    "which follows the rules of Hamilton multiplication."
   ]
  },
  {
   "cell_type": "markdown",
   "metadata": {},
   "source": [
    "Properties allow us to extra the scalar part"
   ]
  },
  {
   "cell_type": "code",
   "execution_count": 188,
   "metadata": {},
   "outputs": [
    {
     "data": {
      "text/plain": [
       "1"
      ]
     },
     "execution_count": 188,
     "metadata": {},
     "output_type": "execute_result"
    }
   ],
   "source": [
    "q1.s"
   ]
  },
  {
   "cell_type": "markdown",
   "metadata": {},
   "source": [
    "and the vector part"
   ]
  },
  {
   "cell_type": "code",
   "execution_count": 190,
   "metadata": {},
   "outputs": [
    {
     "data": {
      "text/plain": [
       "array([2, 3, 4])"
      ]
     },
     "execution_count": 190,
     "metadata": {},
     "output_type": "execute_result"
    }
   ],
   "source": [
    "q1.v"
   ]
  },
  {
   "cell_type": "markdown",
   "metadata": {},
   "source": [
    "and we can represent it as a numpy array"
   ]
  },
  {
   "cell_type": "code",
   "execution_count": 192,
   "metadata": {},
   "outputs": [
    {
     "data": {
      "text/plain": [
       "array([1, 2, 3, 4])"
      ]
     },
     "execution_count": 192,
     "metadata": {},
     "output_type": "execute_result"
    }
   ],
   "source": [
    "q1.vec"
   ]
  },
  {
   "cell_type": "markdown",
   "metadata": {},
   "source": [
    "A quaternion has a conjugate"
   ]
  },
  {
   "cell_type": "code",
   "execution_count": 193,
   "metadata": {},
   "outputs": [
    {
     "data": {
      "text/plain": [
       "1.000000 < -2.000000, -3.000000, -4.000000 >"
      ]
     },
     "execution_count": 193,
     "metadata": {},
     "output_type": "execute_result"
    }
   ],
   "source": [
    "q1.conj"
   ]
  },
  {
   "cell_type": "markdown",
   "metadata": {},
   "source": [
    "and a norm, which is the magnitude of the equivalent 4-vector "
   ]
  },
  {
   "cell_type": "code",
   "execution_count": 194,
   "metadata": {},
   "outputs": [
    {
     "data": {
      "text/plain": [
       "5.477225575051661"
      ]
     },
     "execution_count": 194,
     "metadata": {},
     "output_type": "execute_result"
    }
   ],
   "source": [
    "q1.norm"
   ]
  },
  {
   "cell_type": "markdown",
   "metadata": {},
   "source": [
    "which is also the square root of the scalar part of this product"
   ]
  },
  {
   "cell_type": "code",
   "execution_count": 195,
   "metadata": {},
   "outputs": [
    {
     "data": {
      "text/plain": [
       "30.000000 < 0.000000, 0.000000, 0.000000 >"
      ]
     },
     "execution_count": 195,
     "metadata": {},
     "output_type": "execute_result"
    }
   ],
   "source": [
    "q1 * q1.conj"
   ]
  },
  {
   "cell_type": "markdown",
   "metadata": {},
   "source": [
    "A pure quaternion is one with a zero scalar part"
   ]
  },
  {
   "cell_type": "code",
   "execution_count": 197,
   "metadata": {},
   "outputs": [
    {
     "data": {
      "text/plain": [
       "0.000000 < 1.000000, 2.000000, 3.000000 >"
      ]
     },
     "execution_count": 197,
     "metadata": {},
     "output_type": "execute_result"
    }
   ],
   "source": [
    "Quaternion.pure([1, 2, 3])"
   ]
  },
  {
   "cell_type": "markdown",
   "metadata": {},
   "source": [
    "A quaternion with a unit norm is called a unit quaternion and can be used to represent rotation in 3D space."
   ]
  },
  {
   "cell_type": "code",
   "execution_count": 203,
   "metadata": {},
   "outputs": [
    {
     "data": {
      "text/plain": [
       "0.965926 << 0.258819, 0.000000, 0.000000 >>"
      ]
     },
     "execution_count": 203,
     "metadata": {},
     "output_type": "execute_result"
    }
   ],
   "source": [
    "q1 = UnitQuaternion.Rx(30, 'deg')\n",
    "q1"
   ]
  },
  {
   "cell_type": "markdown",
   "metadata": {},
   "source": [
    "the convention is that unit quaternions are denoted with double angle brackets.  The norm, as advertised is indeed one"
   ]
  },
  {
   "cell_type": "code",
   "execution_count": 204,
   "metadata": {},
   "outputs": [
    {
     "data": {
      "text/plain": [
       "1.0"
      ]
     },
     "execution_count": 204,
     "metadata": {},
     "output_type": "execute_result"
    }
   ],
   "source": [
    "q1.norm"
   ]
  },
  {
   "cell_type": "markdown",
   "metadata": {},
   "source": [
    "We create another unit quaternion"
   ]
  },
  {
   "cell_type": "code",
   "execution_count": 224,
   "metadata": {},
   "outputs": [
    {
     "data": {
      "text/plain": [
       "0.939693 << 0.000000, -0.342020, 0.000000 >>"
      ]
     },
     "execution_count": 224,
     "metadata": {},
     "output_type": "execute_result"
    }
   ],
   "source": [
    "q2 = UnitQuaternion.Ry(-40, 'deg')\n",
    "q2"
   ]
  },
  {
   "cell_type": "markdown",
   "metadata": {},
   "source": [
    "The rotations can be composed by quaternion multiplication"
   ]
  },
  {
   "cell_type": "code",
   "execution_count": 225,
   "metadata": {},
   "outputs": [
    {
     "data": {
      "text/plain": [
       "0.907673 << 0.243210, -0.330366, -0.088521 >>"
      ]
     },
     "execution_count": 225,
     "metadata": {},
     "output_type": "execute_result"
    }
   ],
   "source": [
    "q3 = q1 * q2\n",
    "q3"
   ]
  },
  {
   "cell_type": "markdown",
   "metadata": {},
   "source": [
    "We can convert a quaternion to a rotation matrix"
   ]
  },
  {
   "cell_type": "code",
   "execution_count": 226,
   "metadata": {},
   "outputs": [
    {
     "data": {
      "text/plain": [
       "array([[ 0.76604444,  0.        , -0.64278761],\n",
       "       [-0.3213938 ,  0.8660254 , -0.38302222],\n",
       "       [ 0.5566704 ,  0.5       ,  0.66341395]])"
      ]
     },
     "execution_count": 226,
     "metadata": {},
     "output_type": "execute_result"
    }
   ],
   "source": [
    "q3.R"
   ]
  },
  {
   "cell_type": "markdown",
   "metadata": {},
   "source": [
    "which yields exactly the same answer as if we'd done it using SO(3) rotation matrices"
   ]
  },
  {
   "cell_type": "code",
   "execution_count": 229,
   "metadata": {},
   "outputs": [
    {
     "data": {
      "text/plain": [
       "  \u001b[38;5;1m\u001b[48;5;255m 0.766044 \u001b[0m\u001b[38;5;1m\u001b[48;5;255m 0        \u001b[0m\u001b[38;5;1m\u001b[48;5;255m-0.642788 \u001b[0m\u001b[48;5;255m  \u001b[0m\n",
       "  \u001b[38;5;1m\u001b[48;5;255m-0.321394 \u001b[0m\u001b[38;5;1m\u001b[48;5;255m 0.866025 \u001b[0m\u001b[38;5;1m\u001b[48;5;255m-0.383022 \u001b[0m\u001b[48;5;255m  \u001b[0m\n",
       "  \u001b[38;5;1m\u001b[48;5;255m 0.55667  \u001b[0m\u001b[38;5;1m\u001b[48;5;255m 0.5      \u001b[0m\u001b[38;5;1m\u001b[48;5;255m 0.663414 \u001b[0m\u001b[48;5;255m  \u001b[0m"
      ]
     },
     "execution_count": 229,
     "metadata": {},
     "output_type": "execute_result"
    }
   ],
   "source": [
    "SO3.Rx(30, 'deg') * SO3.Ry(-40, 'deg')"
   ]
  },
  {
   "cell_type": "markdown",
   "metadata": {},
   "source": [
    "The advantages of unit quaternions are that\n",
    "\n",
    "1. they are compact, just 4 numbers instead of 9\n",
    "2. multiplication involves fewer operations and is therefore faster\n",
    "3. numerical errors build up when we multiply rotation matrices together many times, and they lose the structure (the columns are no longer unit length or orthogonal).  Correcting this, the process of _normalization_ is expensive.  For unit quaternions errors will also compound, but normalization is simply a matter of dividing through by the norm"
   ]
  },
  {
   "cell_type": "markdown",
   "metadata": {},
   "source": [
    "Unit quaternions have an inverse"
   ]
  },
  {
   "cell_type": "code",
   "execution_count": 230,
   "metadata": {},
   "outputs": [
    {
     "data": {
      "text/plain": [
       "0.939693 << -0.000000, 0.342020, -0.000000 >>"
      ]
     },
     "execution_count": 230,
     "metadata": {},
     "output_type": "execute_result"
    }
   ],
   "source": [
    "q2.inv"
   ]
  },
  {
   "cell_type": "code",
   "execution_count": 231,
   "metadata": {},
   "outputs": [
    {
     "data": {
      "text/plain": [
       "0.907673 << 0.243210, 0.330366, 0.088521 >>"
      ]
     },
     "execution_count": 231,
     "metadata": {},
     "output_type": "execute_result"
    }
   ],
   "source": [
    "q1 * q2.inv"
   ]
  },
  {
   "cell_type": "markdown",
   "metadata": {},
   "source": [
    "or"
   ]
  },
  {
   "cell_type": "code",
   "execution_count": 232,
   "metadata": {},
   "outputs": [
    {
     "data": {
      "text/plain": [
       "0.907673 << 0.243210, 0.330366, 0.088521 >>"
      ]
     },
     "execution_count": 232,
     "metadata": {},
     "output_type": "execute_result"
    }
   ],
   "source": [
    "q1 / q2"
   ]
  },
  {
   "cell_type": "markdown",
   "metadata": {},
   "source": [
    "We can convert to an SO3 object if we wish"
   ]
  },
  {
   "cell_type": "code",
   "execution_count": 235,
   "metadata": {},
   "outputs": [
    {
     "data": {
      "text/plain": [
       "  \u001b[38;5;1m\u001b[48;5;255m 1        \u001b[0m\u001b[38;5;1m\u001b[48;5;255m 0        \u001b[0m\u001b[38;5;1m\u001b[48;5;255m 0        \u001b[0m\u001b[48;5;255m  \u001b[0m\n",
       "  \u001b[38;5;1m\u001b[48;5;255m 0        \u001b[0m\u001b[38;5;1m\u001b[48;5;255m 0.866025 \u001b[0m\u001b[38;5;1m\u001b[48;5;255m-0.5      \u001b[0m\u001b[48;5;255m  \u001b[0m\n",
       "  \u001b[38;5;1m\u001b[48;5;255m 0        \u001b[0m\u001b[38;5;1m\u001b[48;5;255m 0.5      \u001b[0m\u001b[38;5;1m\u001b[48;5;255m 0.866025 \u001b[0m\u001b[48;5;255m  \u001b[0m"
      ]
     },
     "execution_count": 235,
     "metadata": {},
     "output_type": "execute_result"
    }
   ],
   "source": [
    "q1.SO3"
   ]
  },
  {
   "cell_type": "markdown",
   "metadata": {},
   "source": [
    "A unit quaternion is not a minimal representation. Since we know the magnitude is 1, then with any 3 elements we can compute the fourth upto a sign ambiguity. "
   ]
  },
  {
   "cell_type": "code",
   "execution_count": 236,
   "metadata": {},
   "outputs": [
    {
     "data": {
      "text/plain": [
       "array([0.25881905, 0.        , 0.        ])"
      ]
     },
     "execution_count": 236,
     "metadata": {},
     "output_type": "execute_result"
    }
   ],
   "source": [
    "q1.vec3"
   ]
  },
  {
   "cell_type": "code",
   "execution_count": 237,
   "metadata": {},
   "outputs": [
    {
     "data": {
      "text/plain": [
       "array([ 0.24321035, -0.33036609, -0.08852133])"
      ]
     },
     "execution_count": 237,
     "metadata": {},
     "output_type": "execute_result"
    }
   ],
   "source": [
    "a = UnitQuaternion.qvmul( q1.vec3, q2.vec3)\n",
    "a"
   ]
  },
  {
   "cell_type": "markdown",
   "metadata": {},
   "source": [
    "from which we can recreate the unit quaternion"
   ]
  },
  {
   "cell_type": "code",
   "execution_count": 238,
   "metadata": {},
   "outputs": [
    {
     "data": {
      "text/plain": [
       "0.907673 << 0.243210, -0.330366, -0.088521 >>"
      ]
     },
     "execution_count": 238,
     "metadata": {},
     "output_type": "execute_result"
    }
   ],
   "source": [
    "UnitQuaternion.Vec3(a)"
   ]
  },
  {
   "cell_type": "markdown",
   "metadata": {},
   "source": [
    "This is often used in SLAM and bundle adjustment algorithms since it is compact and better behaved than using roll-pitch-yaw or Euler angles."
   ]
  },
  {
   "cell_type": "markdown",
   "metadata": {},
   "source": [
    "## Working in 2D"
   ]
  },
  {
   "cell_type": "markdown",
   "metadata": {},
   "source": [
    "Things are actually much simpler in 2D.  There's only one possible rotation which is around an axis perpendicular to the plane (where the z-axis would have been if it were in 3D).\n",
    "\n",
    "Rotations in 2D can be represented by rotation matrices – 2x2 orthonormal matrices – which belong to the group SO(2). Just as for the 3D case these matrices have special properties, each column (and row) is a unit vector, and they are all orthogonal, the inverse of this matrix is equal to its transpose, and its determinant is +1.\n",
    "\n",
    "We can create such a matrix, a rotation of $\\pi/4$ radians by"
   ]
  },
  {
   "cell_type": "code",
   "execution_count": 171,
   "metadata": {},
   "outputs": [
    {
     "data": {
      "text/plain": [
       "  \u001b[38;5;1m\u001b[48;5;255m 0.707107 \u001b[0m\u001b[38;5;1m\u001b[48;5;255m-0.707107 \u001b[0m\u001b[48;5;255m  \u001b[0m\n",
       "  \u001b[38;5;1m\u001b[48;5;255m 0.707107 \u001b[0m\u001b[38;5;1m\u001b[48;5;255m 0.707107 \u001b[0m\u001b[48;5;255m  \u001b[0m"
      ]
     },
     "execution_count": 171,
     "metadata": {},
     "output_type": "execute_result"
    }
   ],
   "source": [
    "R = SO2(math.pi/4)\n",
    "R"
   ]
  },
  {
   "cell_type": "markdown",
   "metadata": {},
   "source": [
    "or in degrees"
   ]
  },
  {
   "cell_type": "code",
   "execution_count": 174,
   "metadata": {},
   "outputs": [
    {
     "data": {
      "text/plain": [
       "  \u001b[38;5;1m\u001b[48;5;255m 0.707107 \u001b[0m\u001b[38;5;1m\u001b[48;5;255m-0.707107 \u001b[0m\u001b[48;5;255m  \u001b[0m\n",
       "  \u001b[38;5;1m\u001b[48;5;255m 0.707107 \u001b[0m\u001b[38;5;1m\u001b[48;5;255m 0.707107 \u001b[0m\u001b[48;5;255m  \u001b[0m"
      ]
     },
     "execution_count": 174,
     "metadata": {},
     "output_type": "execute_result"
    }
   ],
   "source": [
    "SO2(45, unit='deg')"
   ]
  },
  {
   "cell_type": "markdown",
   "metadata": {},
   "source": [
    "and we can plot this on the 2D plane"
   ]
  },
  {
   "cell_type": "code",
   "execution_count": 175,
   "metadata": {},
   "outputs": [
    {
     "data": {
      "application/vnd.jupyter.widget-view+json": {
       "model_id": "e32dc25b939c4ec395fe39d7f177b79e",
       "version_major": 2,
       "version_minor": 0
      },
      "text/plain": [
       "Canvas(toolbar=Toolbar(toolitems=[('Home', 'Reset original view', 'home', 'home'), ('Back', 'Back to previous …"
      ]
     },
     "metadata": {},
     "output_type": "display_data"
    }
   ],
   "source": [
    "plt.figure() # create a new figure\n",
    "R.plot()"
   ]
  },
  {
   "cell_type": "markdown",
   "metadata": {},
   "source": [
    "Once again, it's useful to describe the position of things and we do this this with a homogeneous transformation matrix – a 3x3 matrix – which belong to the group SE(2)."
   ]
  },
  {
   "cell_type": "code",
   "execution_count": 176,
   "metadata": {},
   "outputs": [
    {
     "ename": "AttributeError",
     "evalue": "'super' object has no attribute 'arghandler'",
     "output_type": "error",
     "traceback": [
      "\u001b[0;31m---------------------------------------------------------------------------\u001b[0m",
      "\u001b[0;31mAttributeError\u001b[0m                            Traceback (most recent call last)",
      "\u001b[0;32m<ipython-input-176-1138a874dbe2>\u001b[0m in \u001b[0;36m<module>\u001b[0;34m\u001b[0m\n\u001b[0;32m----> 1\u001b[0;31m \u001b[0mT\u001b[0m \u001b[0;34m=\u001b[0m \u001b[0mSE2\u001b[0m\u001b[0;34m(\u001b[0m\u001b[0;36m1\u001b[0m\u001b[0;34m,\u001b[0m \u001b[0;36m2\u001b[0m\u001b[0;34m)\u001b[0m\u001b[0;34m\u001b[0m\u001b[0;34m\u001b[0m\u001b[0m\n\u001b[0m\u001b[1;32m      2\u001b[0m \u001b[0mT\u001b[0m\u001b[0;34m\u001b[0m\u001b[0;34m\u001b[0m\u001b[0m\n",
      "\u001b[0;32m~/code/spatialmath-python/spatialmath/pose2d.py\u001b[0m in \u001b[0;36m__init__\u001b[0;34m(self, x, y, theta, unit)\u001b[0m\n\u001b[1;32m     97\u001b[0m \u001b[0;34m\u001b[0m\u001b[0m\n\u001b[1;32m     98\u001b[0m         \u001b[0;32melse\u001b[0m\u001b[0;34m:\u001b[0m\u001b[0;34m\u001b[0m\u001b[0;34m\u001b[0m\u001b[0m\n\u001b[0;32m---> 99\u001b[0;31m             \u001b[0msuper\u001b[0m\u001b[0;34m(\u001b[0m\u001b[0;34m)\u001b[0m\u001b[0;34m.\u001b[0m\u001b[0marghandler\u001b[0m\u001b[0;34m(\u001b[0m\u001b[0mx\u001b[0m\u001b[0;34m)\u001b[0m\u001b[0;34m\u001b[0m\u001b[0;34m\u001b[0m\u001b[0m\n\u001b[0m\u001b[1;32m    100\u001b[0m \u001b[0;34m\u001b[0m\u001b[0m\n\u001b[1;32m    101\u001b[0m     \u001b[0;34m@\u001b[0m\u001b[0mproperty\u001b[0m\u001b[0;34m\u001b[0m\u001b[0;34m\u001b[0m\u001b[0m\n",
      "\u001b[0;31mAttributeError\u001b[0m: 'super' object has no attribute 'arghandler'"
     ]
    }
   ],
   "source": [
    "T = SE2(1, 2)\n",
    "T"
   ]
  },
  {
   "cell_type": "markdown",
   "metadata": {},
   "source": [
    "which has a similar structure to the 3D case.  The rotation matrix is in the top-left corner and the translation components are in the right-most column.\n",
    "\n",
    "We can also call the function with the element in a list"
   ]
  },
  {
   "cell_type": "code",
   "execution_count": 177,
   "metadata": {},
   "outputs": [
    {
     "ename": "AttributeError",
     "evalue": "'super' object has no attribute 'arghandler'",
     "output_type": "error",
     "traceback": [
      "\u001b[0;31m---------------------------------------------------------------------------\u001b[0m",
      "\u001b[0;31mAttributeError\u001b[0m                            Traceback (most recent call last)",
      "\u001b[0;32m<ipython-input-177-0ad031e1d370>\u001b[0m in \u001b[0;36m<module>\u001b[0;34m\u001b[0m\n\u001b[0;32m----> 1\u001b[0;31m \u001b[0mT\u001b[0m \u001b[0;34m=\u001b[0m \u001b[0mSE2\u001b[0m\u001b[0;34m(\u001b[0m\u001b[0;34m[\u001b[0m\u001b[0;36m1\u001b[0m\u001b[0;34m,\u001b[0m \u001b[0;36m2\u001b[0m\u001b[0;34m]\u001b[0m\u001b[0;34m)\u001b[0m\u001b[0;34m\u001b[0m\u001b[0;34m\u001b[0m\u001b[0m\n\u001b[0m",
      "\u001b[0;32m~/code/spatialmath-python/spatialmath/pose2d.py\u001b[0m in \u001b[0;36m__init__\u001b[0;34m(self, x, y, theta, unit)\u001b[0m\n\u001b[1;32m     97\u001b[0m \u001b[0;34m\u001b[0m\u001b[0m\n\u001b[1;32m     98\u001b[0m         \u001b[0;32melse\u001b[0m\u001b[0;34m:\u001b[0m\u001b[0;34m\u001b[0m\u001b[0;34m\u001b[0m\u001b[0m\n\u001b[0;32m---> 99\u001b[0;31m             \u001b[0msuper\u001b[0m\u001b[0;34m(\u001b[0m\u001b[0;34m)\u001b[0m\u001b[0;34m.\u001b[0m\u001b[0marghandler\u001b[0m\u001b[0;34m(\u001b[0m\u001b[0mx\u001b[0m\u001b[0;34m)\u001b[0m\u001b[0;34m\u001b[0m\u001b[0;34m\u001b[0m\u001b[0m\n\u001b[0m\u001b[1;32m    100\u001b[0m \u001b[0;34m\u001b[0m\u001b[0m\n\u001b[1;32m    101\u001b[0m     \u001b[0;34m@\u001b[0m\u001b[0mproperty\u001b[0m\u001b[0;34m\u001b[0m\u001b[0;34m\u001b[0m\u001b[0m\n",
      "\u001b[0;31mAttributeError\u001b[0m: 'super' object has no attribute 'arghandler'"
     ]
    }
   ],
   "source": [
    "T = SE2([1, 2])"
   ]
  },
  {
   "cell_type": "code",
   "execution_count": 38,
   "metadata": {},
   "outputs": [
    {
     "data": {
      "application/vnd.jupyter.widget-view+json": {
       "model_id": "dcf06945485a4551ae3f8089ac3a7f88",
       "version_major": 2,
       "version_minor": 0
      },
      "text/plain": [
       "Canvas(toolbar=Toolbar(toolitems=[('Home', 'Reset original view', 'home', 'home'), ('Back', 'Back to previous …"
      ]
     },
     "metadata": {},
     "output_type": "display_data"
    }
   ],
   "source": [
    "plt.figure() # create a new figure\n",
    "T.plot()"
   ]
  },
  {
   "cell_type": "code",
   "execution_count": 39,
   "metadata": {},
   "outputs": [
    {
     "data": {
      "text/plain": [
       "array([[ 0.70710678, -0.70710678,  1.        ],\n",
       "       [ 0.70710678,  0.70710678,  2.        ],\n",
       "       [ 0.        ,  0.        ,  1.        ]])"
      ]
     },
     "execution_count": 39,
     "metadata": {},
     "output_type": "execute_result"
    }
   ],
   "source": [
    "T = SE2(1, 2) @ SE2(45, 'deg')\n",
    "T"
   ]
  },
  {
   "cell_type": "code",
   "execution_count": 40,
   "metadata": {},
   "outputs": [
    {
     "data": {
      "application/vnd.jupyter.widget-view+json": {
       "model_id": "6a321eab582a49a384d43570c57c3f86",
       "version_major": 2,
       "version_minor": 0
      },
      "text/plain": [
       "Canvas(toolbar=Toolbar(toolitems=[('Home', 'Reset original view', 'home', 'home'), ('Back', 'Back to previous …"
      ]
     },
     "metadata": {},
     "output_type": "display_data"
    }
   ],
   "source": [
    "plt.figure() # create a new figure\n",
    "T.plot()"
   ]
  },
  {
   "cell_type": "code",
   "execution_count": null,
   "metadata": {},
   "outputs": [],
   "source": []
  }
 ],
 "metadata": {
  "kernelspec": {
   "display_name": "Python 3",
   "language": "python",
   "name": "python3"
  },
  "language_info": {
   "codemirror_mode": {
    "name": "ipython",
    "version": 3
   },
   "file_extension": ".py",
   "mimetype": "text/x-python",
   "name": "python",
   "nbconvert_exporter": "python",
   "pygments_lexer": "ipython3",
   "version": "3.7.6"
  }
 },
 "nbformat": 4,
 "nbformat_minor": 4
}
