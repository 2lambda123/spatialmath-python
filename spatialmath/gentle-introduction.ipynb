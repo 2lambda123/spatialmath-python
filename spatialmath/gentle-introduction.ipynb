{
 "cells": [
  {
   "cell_type": "code",
   "execution_count": 1,
   "metadata": {
    "title": "Spatialmath: a primer"
   },
   "outputs": [],
   "source": [
    "import numpy as np\n",
    "from spatialmath import *\n",
    "from math import pi\n",
    "\n",
    "import ipywidgets as widgets\n",
    "import matplotlib.pyplot as plt\n",
    "##%matplotlib widget\n",
    "%matplotlib notebook "
   ]
  },
  {
   "cell_type": "markdown",
   "metadata": {},
   "source": [
    "# Working in 3D"
   ]
  },
  {
   "cell_type": "markdown",
   "metadata": {},
   "source": [
    "## Representing position\n",
    "\n",
    "In robotics we frequently need to describe the position of objects such as robots, cameras and workpieces. \n",
    "\n",
    "We represent position with an SE3 object,   For example to create a translation of 1 unit in the x-direction is simply"
   ]
  },
  {
   "cell_type": "code",
   "execution_count": 2,
   "metadata": {},
   "outputs": [],
   "source": [
    "T1 = SE3.Tx(1)"
   ]
  },
  {
   "cell_type": "markdown",
   "metadata": {},
   "source": [
    "More correctly this is a _motion_ in 3D space which we can visualize as the blue coordinate frame"
   ]
  },
  {
   "cell_type": "code",
   "execution_count": 3,
   "metadata": {},
   "outputs": [
    {
     "data": {
      "application/javascript": [
       "/* Put everything inside the global mpl namespace */\n",
       "window.mpl = {};\n",
       "\n",
       "\n",
       "mpl.get_websocket_type = function() {\n",
       "    if (typeof(WebSocket) !== 'undefined') {\n",
       "        return WebSocket;\n",
       "    } else if (typeof(MozWebSocket) !== 'undefined') {\n",
       "        return MozWebSocket;\n",
       "    } else {\n",
       "        alert('Your browser does not have WebSocket support. ' +\n",
       "              'Please try Chrome, Safari or Firefox ≥ 6. ' +\n",
       "              'Firefox 4 and 5 are also supported but you ' +\n",
       "              'have to enable WebSockets in about:config.');\n",
       "    };\n",
       "}\n",
       "\n",
       "mpl.figure = function(figure_id, websocket, ondownload, parent_element) {\n",
       "    this.id = figure_id;\n",
       "\n",
       "    this.ws = websocket;\n",
       "\n",
       "    this.supports_binary = (this.ws.binaryType != undefined);\n",
       "\n",
       "    if (!this.supports_binary) {\n",
       "        var warnings = document.getElementById(\"mpl-warnings\");\n",
       "        if (warnings) {\n",
       "            warnings.style.display = 'block';\n",
       "            warnings.textContent = (\n",
       "                \"This browser does not support binary websocket messages. \" +\n",
       "                    \"Performance may be slow.\");\n",
       "        }\n",
       "    }\n",
       "\n",
       "    this.imageObj = new Image();\n",
       "\n",
       "    this.context = undefined;\n",
       "    this.message = undefined;\n",
       "    this.canvas = undefined;\n",
       "    this.rubberband_canvas = undefined;\n",
       "    this.rubberband_context = undefined;\n",
       "    this.format_dropdown = undefined;\n",
       "\n",
       "    this.image_mode = 'full';\n",
       "\n",
       "    this.root = $('<div/>');\n",
       "    this._root_extra_style(this.root)\n",
       "    this.root.attr('style', 'display: inline-block');\n",
       "\n",
       "    $(parent_element).append(this.root);\n",
       "\n",
       "    this._init_header(this);\n",
       "    this._init_canvas(this);\n",
       "    this._init_toolbar(this);\n",
       "\n",
       "    var fig = this;\n",
       "\n",
       "    this.waiting = false;\n",
       "\n",
       "    this.ws.onopen =  function () {\n",
       "            fig.send_message(\"supports_binary\", {value: fig.supports_binary});\n",
       "            fig.send_message(\"send_image_mode\", {});\n",
       "            if (mpl.ratio != 1) {\n",
       "                fig.send_message(\"set_dpi_ratio\", {'dpi_ratio': mpl.ratio});\n",
       "            }\n",
       "            fig.send_message(\"refresh\", {});\n",
       "        }\n",
       "\n",
       "    this.imageObj.onload = function() {\n",
       "            if (fig.image_mode == 'full') {\n",
       "                // Full images could contain transparency (where diff images\n",
       "                // almost always do), so we need to clear the canvas so that\n",
       "                // there is no ghosting.\n",
       "                fig.context.clearRect(0, 0, fig.canvas.width, fig.canvas.height);\n",
       "            }\n",
       "            fig.context.drawImage(fig.imageObj, 0, 0);\n",
       "        };\n",
       "\n",
       "    this.imageObj.onunload = function() {\n",
       "        fig.ws.close();\n",
       "    }\n",
       "\n",
       "    this.ws.onmessage = this._make_on_message_function(this);\n",
       "\n",
       "    this.ondownload = ondownload;\n",
       "}\n",
       "\n",
       "mpl.figure.prototype._init_header = function() {\n",
       "    var titlebar = $(\n",
       "        '<div class=\"ui-dialog-titlebar ui-widget-header ui-corner-all ' +\n",
       "        'ui-helper-clearfix\"/>');\n",
       "    var titletext = $(\n",
       "        '<div class=\"ui-dialog-title\" style=\"width: 100%; ' +\n",
       "        'text-align: center; padding: 3px;\"/>');\n",
       "    titlebar.append(titletext)\n",
       "    this.root.append(titlebar);\n",
       "    this.header = titletext[0];\n",
       "}\n",
       "\n",
       "\n",
       "\n",
       "mpl.figure.prototype._canvas_extra_style = function(canvas_div) {\n",
       "\n",
       "}\n",
       "\n",
       "\n",
       "mpl.figure.prototype._root_extra_style = function(canvas_div) {\n",
       "\n",
       "}\n",
       "\n",
       "mpl.figure.prototype._init_canvas = function() {\n",
       "    var fig = this;\n",
       "\n",
       "    var canvas_div = $('<div/>');\n",
       "\n",
       "    canvas_div.attr('style', 'position: relative; clear: both; outline: 0');\n",
       "\n",
       "    function canvas_keyboard_event(event) {\n",
       "        return fig.key_event(event, event['data']);\n",
       "    }\n",
       "\n",
       "    canvas_div.keydown('key_press', canvas_keyboard_event);\n",
       "    canvas_div.keyup('key_release', canvas_keyboard_event);\n",
       "    this.canvas_div = canvas_div\n",
       "    this._canvas_extra_style(canvas_div)\n",
       "    this.root.append(canvas_div);\n",
       "\n",
       "    var canvas = $('<canvas/>');\n",
       "    canvas.addClass('mpl-canvas');\n",
       "    canvas.attr('style', \"left: 0; top: 0; z-index: 0; outline: 0\")\n",
       "\n",
       "    this.canvas = canvas[0];\n",
       "    this.context = canvas[0].getContext(\"2d\");\n",
       "\n",
       "    var backingStore = this.context.backingStorePixelRatio ||\n",
       "\tthis.context.webkitBackingStorePixelRatio ||\n",
       "\tthis.context.mozBackingStorePixelRatio ||\n",
       "\tthis.context.msBackingStorePixelRatio ||\n",
       "\tthis.context.oBackingStorePixelRatio ||\n",
       "\tthis.context.backingStorePixelRatio || 1;\n",
       "\n",
       "    mpl.ratio = (window.devicePixelRatio || 1) / backingStore;\n",
       "\n",
       "    var rubberband = $('<canvas/>');\n",
       "    rubberband.attr('style', \"position: absolute; left: 0; top: 0; z-index: 1;\")\n",
       "\n",
       "    var pass_mouse_events = true;\n",
       "\n",
       "    canvas_div.resizable({\n",
       "        start: function(event, ui) {\n",
       "            pass_mouse_events = false;\n",
       "        },\n",
       "        resize: function(event, ui) {\n",
       "            fig.request_resize(ui.size.width, ui.size.height);\n",
       "        },\n",
       "        stop: function(event, ui) {\n",
       "            pass_mouse_events = true;\n",
       "            fig.request_resize(ui.size.width, ui.size.height);\n",
       "        },\n",
       "    });\n",
       "\n",
       "    function mouse_event_fn(event) {\n",
       "        if (pass_mouse_events)\n",
       "            return fig.mouse_event(event, event['data']);\n",
       "    }\n",
       "\n",
       "    rubberband.mousedown('button_press', mouse_event_fn);\n",
       "    rubberband.mouseup('button_release', mouse_event_fn);\n",
       "    // Throttle sequential mouse events to 1 every 20ms.\n",
       "    rubberband.mousemove('motion_notify', mouse_event_fn);\n",
       "\n",
       "    rubberband.mouseenter('figure_enter', mouse_event_fn);\n",
       "    rubberband.mouseleave('figure_leave', mouse_event_fn);\n",
       "\n",
       "    canvas_div.on(\"wheel\", function (event) {\n",
       "        event = event.originalEvent;\n",
       "        event['data'] = 'scroll'\n",
       "        if (event.deltaY < 0) {\n",
       "            event.step = 1;\n",
       "        } else {\n",
       "            event.step = -1;\n",
       "        }\n",
       "        mouse_event_fn(event);\n",
       "    });\n",
       "\n",
       "    canvas_div.append(canvas);\n",
       "    canvas_div.append(rubberband);\n",
       "\n",
       "    this.rubberband = rubberband;\n",
       "    this.rubberband_canvas = rubberband[0];\n",
       "    this.rubberband_context = rubberband[0].getContext(\"2d\");\n",
       "    this.rubberband_context.strokeStyle = \"#000000\";\n",
       "\n",
       "    this._resize_canvas = function(width, height) {\n",
       "        // Keep the size of the canvas, canvas container, and rubber band\n",
       "        // canvas in synch.\n",
       "        canvas_div.css('width', width)\n",
       "        canvas_div.css('height', height)\n",
       "\n",
       "        canvas.attr('width', width * mpl.ratio);\n",
       "        canvas.attr('height', height * mpl.ratio);\n",
       "        canvas.attr('style', 'width: ' + width + 'px; height: ' + height + 'px;');\n",
       "\n",
       "        rubberband.attr('width', width);\n",
       "        rubberband.attr('height', height);\n",
       "    }\n",
       "\n",
       "    // Set the figure to an initial 600x600px, this will subsequently be updated\n",
       "    // upon first draw.\n",
       "    this._resize_canvas(600, 600);\n",
       "\n",
       "    // Disable right mouse context menu.\n",
       "    $(this.rubberband_canvas).bind(\"contextmenu\",function(e){\n",
       "        return false;\n",
       "    });\n",
       "\n",
       "    function set_focus () {\n",
       "        canvas.focus();\n",
       "        canvas_div.focus();\n",
       "    }\n",
       "\n",
       "    window.setTimeout(set_focus, 100);\n",
       "}\n",
       "\n",
       "mpl.figure.prototype._init_toolbar = function() {\n",
       "    var fig = this;\n",
       "\n",
       "    var nav_element = $('<div/>');\n",
       "    nav_element.attr('style', 'width: 100%');\n",
       "    this.root.append(nav_element);\n",
       "\n",
       "    // Define a callback function for later on.\n",
       "    function toolbar_event(event) {\n",
       "        return fig.toolbar_button_onclick(event['data']);\n",
       "    }\n",
       "    function toolbar_mouse_event(event) {\n",
       "        return fig.toolbar_button_onmouseover(event['data']);\n",
       "    }\n",
       "\n",
       "    for(var toolbar_ind in mpl.toolbar_items) {\n",
       "        var name = mpl.toolbar_items[toolbar_ind][0];\n",
       "        var tooltip = mpl.toolbar_items[toolbar_ind][1];\n",
       "        var image = mpl.toolbar_items[toolbar_ind][2];\n",
       "        var method_name = mpl.toolbar_items[toolbar_ind][3];\n",
       "\n",
       "        if (!name) {\n",
       "            // put a spacer in here.\n",
       "            continue;\n",
       "        }\n",
       "        var button = $('<button/>');\n",
       "        button.addClass('ui-button ui-widget ui-state-default ui-corner-all ' +\n",
       "                        'ui-button-icon-only');\n",
       "        button.attr('role', 'button');\n",
       "        button.attr('aria-disabled', 'false');\n",
       "        button.click(method_name, toolbar_event);\n",
       "        button.mouseover(tooltip, toolbar_mouse_event);\n",
       "\n",
       "        var icon_img = $('<span/>');\n",
       "        icon_img.addClass('ui-button-icon-primary ui-icon');\n",
       "        icon_img.addClass(image);\n",
       "        icon_img.addClass('ui-corner-all');\n",
       "\n",
       "        var tooltip_span = $('<span/>');\n",
       "        tooltip_span.addClass('ui-button-text');\n",
       "        tooltip_span.html(tooltip);\n",
       "\n",
       "        button.append(icon_img);\n",
       "        button.append(tooltip_span);\n",
       "\n",
       "        nav_element.append(button);\n",
       "    }\n",
       "\n",
       "    var fmt_picker_span = $('<span/>');\n",
       "\n",
       "    var fmt_picker = $('<select/>');\n",
       "    fmt_picker.addClass('mpl-toolbar-option ui-widget ui-widget-content');\n",
       "    fmt_picker_span.append(fmt_picker);\n",
       "    nav_element.append(fmt_picker_span);\n",
       "    this.format_dropdown = fmt_picker[0];\n",
       "\n",
       "    for (var ind in mpl.extensions) {\n",
       "        var fmt = mpl.extensions[ind];\n",
       "        var option = $(\n",
       "            '<option/>', {selected: fmt === mpl.default_extension}).html(fmt);\n",
       "        fmt_picker.append(option);\n",
       "    }\n",
       "\n",
       "    // Add hover states to the ui-buttons\n",
       "    $( \".ui-button\" ).hover(\n",
       "        function() { $(this).addClass(\"ui-state-hover\");},\n",
       "        function() { $(this).removeClass(\"ui-state-hover\");}\n",
       "    );\n",
       "\n",
       "    var status_bar = $('<span class=\"mpl-message\"/>');\n",
       "    nav_element.append(status_bar);\n",
       "    this.message = status_bar[0];\n",
       "}\n",
       "\n",
       "mpl.figure.prototype.request_resize = function(x_pixels, y_pixels) {\n",
       "    // Request matplotlib to resize the figure. Matplotlib will then trigger a resize in the client,\n",
       "    // which will in turn request a refresh of the image.\n",
       "    this.send_message('resize', {'width': x_pixels, 'height': y_pixels});\n",
       "}\n",
       "\n",
       "mpl.figure.prototype.send_message = function(type, properties) {\n",
       "    properties['type'] = type;\n",
       "    properties['figure_id'] = this.id;\n",
       "    this.ws.send(JSON.stringify(properties));\n",
       "}\n",
       "\n",
       "mpl.figure.prototype.send_draw_message = function() {\n",
       "    if (!this.waiting) {\n",
       "        this.waiting = true;\n",
       "        this.ws.send(JSON.stringify({type: \"draw\", figure_id: this.id}));\n",
       "    }\n",
       "}\n",
       "\n",
       "\n",
       "mpl.figure.prototype.handle_save = function(fig, msg) {\n",
       "    var format_dropdown = fig.format_dropdown;\n",
       "    var format = format_dropdown.options[format_dropdown.selectedIndex].value;\n",
       "    fig.ondownload(fig, format);\n",
       "}\n",
       "\n",
       "\n",
       "mpl.figure.prototype.handle_resize = function(fig, msg) {\n",
       "    var size = msg['size'];\n",
       "    if (size[0] != fig.canvas.width || size[1] != fig.canvas.height) {\n",
       "        fig._resize_canvas(size[0], size[1]);\n",
       "        fig.send_message(\"refresh\", {});\n",
       "    };\n",
       "}\n",
       "\n",
       "mpl.figure.prototype.handle_rubberband = function(fig, msg) {\n",
       "    var x0 = msg['x0'] / mpl.ratio;\n",
       "    var y0 = (fig.canvas.height - msg['y0']) / mpl.ratio;\n",
       "    var x1 = msg['x1'] / mpl.ratio;\n",
       "    var y1 = (fig.canvas.height - msg['y1']) / mpl.ratio;\n",
       "    x0 = Math.floor(x0) + 0.5;\n",
       "    y0 = Math.floor(y0) + 0.5;\n",
       "    x1 = Math.floor(x1) + 0.5;\n",
       "    y1 = Math.floor(y1) + 0.5;\n",
       "    var min_x = Math.min(x0, x1);\n",
       "    var min_y = Math.min(y0, y1);\n",
       "    var width = Math.abs(x1 - x0);\n",
       "    var height = Math.abs(y1 - y0);\n",
       "\n",
       "    fig.rubberband_context.clearRect(\n",
       "        0, 0, fig.canvas.width / mpl.ratio, fig.canvas.height / mpl.ratio);\n",
       "\n",
       "    fig.rubberband_context.strokeRect(min_x, min_y, width, height);\n",
       "}\n",
       "\n",
       "mpl.figure.prototype.handle_figure_label = function(fig, msg) {\n",
       "    // Updates the figure title.\n",
       "    fig.header.textContent = msg['label'];\n",
       "}\n",
       "\n",
       "mpl.figure.prototype.handle_cursor = function(fig, msg) {\n",
       "    var cursor = msg['cursor'];\n",
       "    switch(cursor)\n",
       "    {\n",
       "    case 0:\n",
       "        cursor = 'pointer';\n",
       "        break;\n",
       "    case 1:\n",
       "        cursor = 'default';\n",
       "        break;\n",
       "    case 2:\n",
       "        cursor = 'crosshair';\n",
       "        break;\n",
       "    case 3:\n",
       "        cursor = 'move';\n",
       "        break;\n",
       "    }\n",
       "    fig.rubberband_canvas.style.cursor = cursor;\n",
       "}\n",
       "\n",
       "mpl.figure.prototype.handle_message = function(fig, msg) {\n",
       "    fig.message.textContent = msg['message'];\n",
       "}\n",
       "\n",
       "mpl.figure.prototype.handle_draw = function(fig, msg) {\n",
       "    // Request the server to send over a new figure.\n",
       "    fig.send_draw_message();\n",
       "}\n",
       "\n",
       "mpl.figure.prototype.handle_image_mode = function(fig, msg) {\n",
       "    fig.image_mode = msg['mode'];\n",
       "}\n",
       "\n",
       "mpl.figure.prototype.updated_canvas_event = function() {\n",
       "    // Called whenever the canvas gets updated.\n",
       "    this.send_message(\"ack\", {});\n",
       "}\n",
       "\n",
       "// A function to construct a web socket function for onmessage handling.\n",
       "// Called in the figure constructor.\n",
       "mpl.figure.prototype._make_on_message_function = function(fig) {\n",
       "    return function socket_on_message(evt) {\n",
       "        if (evt.data instanceof Blob) {\n",
       "            /* FIXME: We get \"Resource interpreted as Image but\n",
       "             * transferred with MIME type text/plain:\" errors on\n",
       "             * Chrome.  But how to set the MIME type?  It doesn't seem\n",
       "             * to be part of the websocket stream */\n",
       "            evt.data.type = \"image/png\";\n",
       "\n",
       "            /* Free the memory for the previous frames */\n",
       "            if (fig.imageObj.src) {\n",
       "                (window.URL || window.webkitURL).revokeObjectURL(\n",
       "                    fig.imageObj.src);\n",
       "            }\n",
       "\n",
       "            fig.imageObj.src = (window.URL || window.webkitURL).createObjectURL(\n",
       "                evt.data);\n",
       "            fig.updated_canvas_event();\n",
       "            fig.waiting = false;\n",
       "            return;\n",
       "        }\n",
       "        else if (typeof evt.data === 'string' && evt.data.slice(0, 21) == \"data:image/png;base64\") {\n",
       "            fig.imageObj.src = evt.data;\n",
       "            fig.updated_canvas_event();\n",
       "            fig.waiting = false;\n",
       "            return;\n",
       "        }\n",
       "\n",
       "        var msg = JSON.parse(evt.data);\n",
       "        var msg_type = msg['type'];\n",
       "\n",
       "        // Call the  \"handle_{type}\" callback, which takes\n",
       "        // the figure and JSON message as its only arguments.\n",
       "        try {\n",
       "            var callback = fig[\"handle_\" + msg_type];\n",
       "        } catch (e) {\n",
       "            console.log(\"No handler for the '\" + msg_type + \"' message type: \", msg);\n",
       "            return;\n",
       "        }\n",
       "\n",
       "        if (callback) {\n",
       "            try {\n",
       "                // console.log(\"Handling '\" + msg_type + \"' message: \", msg);\n",
       "                callback(fig, msg);\n",
       "            } catch (e) {\n",
       "                console.log(\"Exception inside the 'handler_\" + msg_type + \"' callback:\", e, e.stack, msg);\n",
       "            }\n",
       "        }\n",
       "    };\n",
       "}\n",
       "\n",
       "// from http://stackoverflow.com/questions/1114465/getting-mouse-location-in-canvas\n",
       "mpl.findpos = function(e) {\n",
       "    //this section is from http://www.quirksmode.org/js/events_properties.html\n",
       "    var targ;\n",
       "    if (!e)\n",
       "        e = window.event;\n",
       "    if (e.target)\n",
       "        targ = e.target;\n",
       "    else if (e.srcElement)\n",
       "        targ = e.srcElement;\n",
       "    if (targ.nodeType == 3) // defeat Safari bug\n",
       "        targ = targ.parentNode;\n",
       "\n",
       "    // jQuery normalizes the pageX and pageY\n",
       "    // pageX,Y are the mouse positions relative to the document\n",
       "    // offset() returns the position of the element relative to the document\n",
       "    var x = e.pageX - $(targ).offset().left;\n",
       "    var y = e.pageY - $(targ).offset().top;\n",
       "\n",
       "    return {\"x\": x, \"y\": y};\n",
       "};\n",
       "\n",
       "/*\n",
       " * return a copy of an object with only non-object keys\n",
       " * we need this to avoid circular references\n",
       " * http://stackoverflow.com/a/24161582/3208463\n",
       " */\n",
       "function simpleKeys (original) {\n",
       "  return Object.keys(original).reduce(function (obj, key) {\n",
       "    if (typeof original[key] !== 'object')\n",
       "        obj[key] = original[key]\n",
       "    return obj;\n",
       "  }, {});\n",
       "}\n",
       "\n",
       "mpl.figure.prototype.mouse_event = function(event, name) {\n",
       "    var canvas_pos = mpl.findpos(event)\n",
       "\n",
       "    if (name === 'button_press')\n",
       "    {\n",
       "        this.canvas.focus();\n",
       "        this.canvas_div.focus();\n",
       "    }\n",
       "\n",
       "    var x = canvas_pos.x * mpl.ratio;\n",
       "    var y = canvas_pos.y * mpl.ratio;\n",
       "\n",
       "    this.send_message(name, {x: x, y: y, button: event.button,\n",
       "                             step: event.step,\n",
       "                             guiEvent: simpleKeys(event)});\n",
       "\n",
       "    /* This prevents the web browser from automatically changing to\n",
       "     * the text insertion cursor when the button is pressed.  We want\n",
       "     * to control all of the cursor setting manually through the\n",
       "     * 'cursor' event from matplotlib */\n",
       "    event.preventDefault();\n",
       "    return false;\n",
       "}\n",
       "\n",
       "mpl.figure.prototype._key_event_extra = function(event, name) {\n",
       "    // Handle any extra behaviour associated with a key event\n",
       "}\n",
       "\n",
       "mpl.figure.prototype.key_event = function(event, name) {\n",
       "\n",
       "    // Prevent repeat events\n",
       "    if (name == 'key_press')\n",
       "    {\n",
       "        if (event.which === this._key)\n",
       "            return;\n",
       "        else\n",
       "            this._key = event.which;\n",
       "    }\n",
       "    if (name == 'key_release')\n",
       "        this._key = null;\n",
       "\n",
       "    var value = '';\n",
       "    if (event.ctrlKey && event.which != 17)\n",
       "        value += \"ctrl+\";\n",
       "    if (event.altKey && event.which != 18)\n",
       "        value += \"alt+\";\n",
       "    if (event.shiftKey && event.which != 16)\n",
       "        value += \"shift+\";\n",
       "\n",
       "    value += 'k';\n",
       "    value += event.which.toString();\n",
       "\n",
       "    this._key_event_extra(event, name);\n",
       "\n",
       "    this.send_message(name, {key: value,\n",
       "                             guiEvent: simpleKeys(event)});\n",
       "    return false;\n",
       "}\n",
       "\n",
       "mpl.figure.prototype.toolbar_button_onclick = function(name) {\n",
       "    if (name == 'download') {\n",
       "        this.handle_save(this, null);\n",
       "    } else {\n",
       "        this.send_message(\"toolbar_button\", {name: name});\n",
       "    }\n",
       "};\n",
       "\n",
       "mpl.figure.prototype.toolbar_button_onmouseover = function(tooltip) {\n",
       "    this.message.textContent = tooltip;\n",
       "};\n",
       "mpl.toolbar_items = [[\"Home\", \"Reset original view\", \"fa fa-home icon-home\", \"home\"], [\"Back\", \"Back to previous view\", \"fa fa-arrow-left icon-arrow-left\", \"back\"], [\"Forward\", \"Forward to next view\", \"fa fa-arrow-right icon-arrow-right\", \"forward\"], [\"\", \"\", \"\", \"\"], [\"Pan\", \"Pan axes with left mouse, zoom with right\", \"fa fa-arrows icon-move\", \"pan\"], [\"Zoom\", \"Zoom to rectangle\", \"fa fa-square-o icon-check-empty\", \"zoom\"], [\"\", \"\", \"\", \"\"], [\"Download\", \"Download plot\", \"fa fa-floppy-o icon-save\", \"download\"]];\n",
       "\n",
       "mpl.extensions = [\"eps\", \"jpeg\", \"pdf\", \"png\", \"ps\", \"raw\", \"svg\", \"tif\"];\n",
       "\n",
       "mpl.default_extension = \"png\";var comm_websocket_adapter = function(comm) {\n",
       "    // Create a \"websocket\"-like object which calls the given IPython comm\n",
       "    // object with the appropriate methods. Currently this is a non binary\n",
       "    // socket, so there is still some room for performance tuning.\n",
       "    var ws = {};\n",
       "\n",
       "    ws.close = function() {\n",
       "        comm.close()\n",
       "    };\n",
       "    ws.send = function(m) {\n",
       "        //console.log('sending', m);\n",
       "        comm.send(m);\n",
       "    };\n",
       "    // Register the callback with on_msg.\n",
       "    comm.on_msg(function(msg) {\n",
       "        //console.log('receiving', msg['content']['data'], msg);\n",
       "        // Pass the mpl event to the overridden (by mpl) onmessage function.\n",
       "        ws.onmessage(msg['content']['data'])\n",
       "    });\n",
       "    return ws;\n",
       "}\n",
       "\n",
       "mpl.mpl_figure_comm = function(comm, msg) {\n",
       "    // This is the function which gets called when the mpl process\n",
       "    // starts-up an IPython Comm through the \"matplotlib\" channel.\n",
       "\n",
       "    var id = msg.content.data.id;\n",
       "    // Get hold of the div created by the display call when the Comm\n",
       "    // socket was opened in Python.\n",
       "    var element = $(\"#\" + id);\n",
       "    var ws_proxy = comm_websocket_adapter(comm)\n",
       "\n",
       "    function ondownload(figure, format) {\n",
       "        window.open(figure.imageObj.src);\n",
       "    }\n",
       "\n",
       "    var fig = new mpl.figure(id, ws_proxy,\n",
       "                           ondownload,\n",
       "                           element.get(0));\n",
       "\n",
       "    // Call onopen now - mpl needs it, as it is assuming we've passed it a real\n",
       "    // web socket which is closed, not our websocket->open comm proxy.\n",
       "    ws_proxy.onopen();\n",
       "\n",
       "    fig.parent_element = element.get(0);\n",
       "    fig.cell_info = mpl.find_output_cell(\"<div id='\" + id + \"'></div>\");\n",
       "    if (!fig.cell_info) {\n",
       "        console.error(\"Failed to find cell for figure\", id, fig);\n",
       "        return;\n",
       "    }\n",
       "\n",
       "    var output_index = fig.cell_info[2]\n",
       "    var cell = fig.cell_info[0];\n",
       "\n",
       "};\n",
       "\n",
       "mpl.figure.prototype.handle_close = function(fig, msg) {\n",
       "    var width = fig.canvas.width/mpl.ratio\n",
       "    fig.root.unbind('remove')\n",
       "\n",
       "    // Update the output cell to use the data from the current canvas.\n",
       "    fig.push_to_output();\n",
       "    var dataURL = fig.canvas.toDataURL();\n",
       "    // Re-enable the keyboard manager in IPython - without this line, in FF,\n",
       "    // the notebook keyboard shortcuts fail.\n",
       "    IPython.keyboard_manager.enable()\n",
       "    $(fig.parent_element).html('<img src=\"' + dataURL + '\" width=\"' + width + '\">');\n",
       "    fig.close_ws(fig, msg);\n",
       "}\n",
       "\n",
       "mpl.figure.prototype.close_ws = function(fig, msg){\n",
       "    fig.send_message('closing', msg);\n",
       "    // fig.ws.close()\n",
       "}\n",
       "\n",
       "mpl.figure.prototype.push_to_output = function(remove_interactive) {\n",
       "    // Turn the data on the canvas into data in the output cell.\n",
       "    var width = this.canvas.width/mpl.ratio\n",
       "    var dataURL = this.canvas.toDataURL();\n",
       "    this.cell_info[1]['text/html'] = '<img src=\"' + dataURL + '\" width=\"' + width + '\">';\n",
       "}\n",
       "\n",
       "mpl.figure.prototype.updated_canvas_event = function() {\n",
       "    // Tell IPython that the notebook contents must change.\n",
       "    IPython.notebook.set_dirty(true);\n",
       "    this.send_message(\"ack\", {});\n",
       "    var fig = this;\n",
       "    // Wait a second, then push the new image to the DOM so\n",
       "    // that it is saved nicely (might be nice to debounce this).\n",
       "    setTimeout(function () { fig.push_to_output() }, 1000);\n",
       "}\n",
       "\n",
       "mpl.figure.prototype._init_toolbar = function() {\n",
       "    var fig = this;\n",
       "\n",
       "    var nav_element = $('<div/>');\n",
       "    nav_element.attr('style', 'width: 100%');\n",
       "    this.root.append(nav_element);\n",
       "\n",
       "    // Define a callback function for later on.\n",
       "    function toolbar_event(event) {\n",
       "        return fig.toolbar_button_onclick(event['data']);\n",
       "    }\n",
       "    function toolbar_mouse_event(event) {\n",
       "        return fig.toolbar_button_onmouseover(event['data']);\n",
       "    }\n",
       "\n",
       "    for(var toolbar_ind in mpl.toolbar_items){\n",
       "        var name = mpl.toolbar_items[toolbar_ind][0];\n",
       "        var tooltip = mpl.toolbar_items[toolbar_ind][1];\n",
       "        var image = mpl.toolbar_items[toolbar_ind][2];\n",
       "        var method_name = mpl.toolbar_items[toolbar_ind][3];\n",
       "\n",
       "        if (!name) { continue; };\n",
       "\n",
       "        var button = $('<button class=\"btn btn-default\" href=\"#\" title=\"' + name + '\"><i class=\"fa ' + image + ' fa-lg\"></i></button>');\n",
       "        button.click(method_name, toolbar_event);\n",
       "        button.mouseover(tooltip, toolbar_mouse_event);\n",
       "        nav_element.append(button);\n",
       "    }\n",
       "\n",
       "    // Add the status bar.\n",
       "    var status_bar = $('<span class=\"mpl-message\" style=\"text-align:right; float: right;\"/>');\n",
       "    nav_element.append(status_bar);\n",
       "    this.message = status_bar[0];\n",
       "\n",
       "    // Add the close button to the window.\n",
       "    var buttongrp = $('<div class=\"btn-group inline pull-right\"></div>');\n",
       "    var button = $('<button class=\"btn btn-mini btn-primary\" href=\"#\" title=\"Stop Interaction\"><i class=\"fa fa-power-off icon-remove icon-large\"></i></button>');\n",
       "    button.click(function (evt) { fig.handle_close(fig, {}); } );\n",
       "    button.mouseover('Stop Interaction', toolbar_mouse_event);\n",
       "    buttongrp.append(button);\n",
       "    var titlebar = this.root.find($('.ui-dialog-titlebar'));\n",
       "    titlebar.prepend(buttongrp);\n",
       "}\n",
       "\n",
       "mpl.figure.prototype._root_extra_style = function(el){\n",
       "    var fig = this\n",
       "    el.on(\"remove\", function(){\n",
       "\tfig.close_ws(fig, {});\n",
       "    });\n",
       "}\n",
       "\n",
       "mpl.figure.prototype._canvas_extra_style = function(el){\n",
       "    // this is important to make the div 'focusable\n",
       "    el.attr('tabindex', 0)\n",
       "    // reach out to IPython and tell the keyboard manager to turn it's self\n",
       "    // off when our div gets focus\n",
       "\n",
       "    // location in version 3\n",
       "    if (IPython.notebook.keyboard_manager) {\n",
       "        IPython.notebook.keyboard_manager.register_events(el);\n",
       "    }\n",
       "    else {\n",
       "        // location in version 2\n",
       "        IPython.keyboard_manager.register_events(el);\n",
       "    }\n",
       "\n",
       "}\n",
       "\n",
       "mpl.figure.prototype._key_event_extra = function(event, name) {\n",
       "    var manager = IPython.notebook.keyboard_manager;\n",
       "    if (!manager)\n",
       "        manager = IPython.keyboard_manager;\n",
       "\n",
       "    // Check for shift+enter\n",
       "    if (event.shiftKey && event.which == 13) {\n",
       "        this.canvas_div.blur();\n",
       "        // select the cell after this one\n",
       "        var index = IPython.notebook.find_cell_index(this.cell_info[0]);\n",
       "        IPython.notebook.select(index + 1);\n",
       "    }\n",
       "}\n",
       "\n",
       "mpl.figure.prototype.handle_save = function(fig, msg) {\n",
       "    fig.ondownload(fig, null);\n",
       "}\n",
       "\n",
       "\n",
       "mpl.find_output_cell = function(html_output) {\n",
       "    // Return the cell and output element which can be found *uniquely* in the notebook.\n",
       "    // Note - this is a bit hacky, but it is done because the \"notebook_saving.Notebook\"\n",
       "    // IPython event is triggered only after the cells have been serialised, which for\n",
       "    // our purposes (turning an active figure into a static one), is too late.\n",
       "    var cells = IPython.notebook.get_cells();\n",
       "    var ncells = cells.length;\n",
       "    for (var i=0; i<ncells; i++) {\n",
       "        var cell = cells[i];\n",
       "        if (cell.cell_type === 'code'){\n",
       "            for (var j=0; j<cell.output_area.outputs.length; j++) {\n",
       "                var data = cell.output_area.outputs[j];\n",
       "                if (data.data) {\n",
       "                    // IPython >= 3 moved mimebundle to data attribute of output\n",
       "                    data = data.data;\n",
       "                }\n",
       "                if (data['text/html'] == html_output) {\n",
       "                    return [cell, data, j];\n",
       "                }\n",
       "            }\n",
       "        }\n",
       "    }\n",
       "}\n",
       "\n",
       "// Register the function which deals with the matplotlib target/channel.\n",
       "// The kernel may be null if the page has been refreshed.\n",
       "if (IPython.notebook.kernel != null) {\n",
       "    IPython.notebook.kernel.comm_manager.register_target('matplotlib', mpl.mpl_figure_comm);\n",
       "}\n"
      ],
      "text/plain": [
       "<IPython.core.display.Javascript object>"
      ]
     },
     "metadata": {},
     "output_type": "display_data"
    },
    {
     "data": {
      "text/html": [
       "<img src=\"data:image/png;base64,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\" width=\"640\">"
      ],
      "text/plain": [
       "<IPython.core.display.HTML object>"
      ]
     },
     "metadata": {},
     "output_type": "display_data"
    }
   ],
   "source": [
    "plt.figure() # create a new figure\n",
    "SE3().plot(frame='0', dims=[-3,3], color='black')\n",
    "T1.plot(frame='1')"
   ]
  },
  {
   "cell_type": "markdown",
   "metadata": {},
   "source": [
    "Click on the coordinate frame and use the mouse to change the viewpoint and verify that this is indeed a motion of 1 unit in the X-direction.\n",
    "\n",
    "To consider this as a motion, as opposed to a position, think about picking up the world coordinate frame (black) which sits at the origin of this coordinate system, and carry it 1 unit in the x-direction."
   ]
  },
  {
   "cell_type": "markdown",
   "metadata": {},
   "source": [
    "Importantly we can _compose_ motions, that is perform the motions in sequence, and we denote this in python using the multiplication operator `*`. For example"
   ]
  },
  {
   "cell_type": "code",
   "execution_count": 4,
   "metadata": {},
   "outputs": [],
   "source": [
    "T2 = T1 * T1"
   ]
  },
  {
   "cell_type": "markdown",
   "metadata": {},
   "source": [
    "The choice of operator is arbitrary but it is a fairly common convention.  If python allowed a special operator like $\\oplus$, such as used in the _Robotics, Vision & Control_ book, we could use that.  \n",
    "\n",
    "The resulting motion, the _composition_ , is shown in blue.  It is 1 unit in the X-direction and then 1 unit in the X-direction, for a total of 2 units in the X-direction."
   ]
  },
  {
   "cell_type": "code",
   "execution_count": 5,
   "metadata": {},
   "outputs": [
    {
     "data": {
      "application/javascript": [
       "/* Put everything inside the global mpl namespace */\n",
       "window.mpl = {};\n",
       "\n",
       "\n",
       "mpl.get_websocket_type = function() {\n",
       "    if (typeof(WebSocket) !== 'undefined') {\n",
       "        return WebSocket;\n",
       "    } else if (typeof(MozWebSocket) !== 'undefined') {\n",
       "        return MozWebSocket;\n",
       "    } else {\n",
       "        alert('Your browser does not have WebSocket support. ' +\n",
       "              'Please try Chrome, Safari or Firefox ≥ 6. ' +\n",
       "              'Firefox 4 and 5 are also supported but you ' +\n",
       "              'have to enable WebSockets in about:config.');\n",
       "    };\n",
       "}\n",
       "\n",
       "mpl.figure = function(figure_id, websocket, ondownload, parent_element) {\n",
       "    this.id = figure_id;\n",
       "\n",
       "    this.ws = websocket;\n",
       "\n",
       "    this.supports_binary = (this.ws.binaryType != undefined);\n",
       "\n",
       "    if (!this.supports_binary) {\n",
       "        var warnings = document.getElementById(\"mpl-warnings\");\n",
       "        if (warnings) {\n",
       "            warnings.style.display = 'block';\n",
       "            warnings.textContent = (\n",
       "                \"This browser does not support binary websocket messages. \" +\n",
       "                    \"Performance may be slow.\");\n",
       "        }\n",
       "    }\n",
       "\n",
       "    this.imageObj = new Image();\n",
       "\n",
       "    this.context = undefined;\n",
       "    this.message = undefined;\n",
       "    this.canvas = undefined;\n",
       "    this.rubberband_canvas = undefined;\n",
       "    this.rubberband_context = undefined;\n",
       "    this.format_dropdown = undefined;\n",
       "\n",
       "    this.image_mode = 'full';\n",
       "\n",
       "    this.root = $('<div/>');\n",
       "    this._root_extra_style(this.root)\n",
       "    this.root.attr('style', 'display: inline-block');\n",
       "\n",
       "    $(parent_element).append(this.root);\n",
       "\n",
       "    this._init_header(this);\n",
       "    this._init_canvas(this);\n",
       "    this._init_toolbar(this);\n",
       "\n",
       "    var fig = this;\n",
       "\n",
       "    this.waiting = false;\n",
       "\n",
       "    this.ws.onopen =  function () {\n",
       "            fig.send_message(\"supports_binary\", {value: fig.supports_binary});\n",
       "            fig.send_message(\"send_image_mode\", {});\n",
       "            if (mpl.ratio != 1) {\n",
       "                fig.send_message(\"set_dpi_ratio\", {'dpi_ratio': mpl.ratio});\n",
       "            }\n",
       "            fig.send_message(\"refresh\", {});\n",
       "        }\n",
       "\n",
       "    this.imageObj.onload = function() {\n",
       "            if (fig.image_mode == 'full') {\n",
       "                // Full images could contain transparency (where diff images\n",
       "                // almost always do), so we need to clear the canvas so that\n",
       "                // there is no ghosting.\n",
       "                fig.context.clearRect(0, 0, fig.canvas.width, fig.canvas.height);\n",
       "            }\n",
       "            fig.context.drawImage(fig.imageObj, 0, 0);\n",
       "        };\n",
       "\n",
       "    this.imageObj.onunload = function() {\n",
       "        fig.ws.close();\n",
       "    }\n",
       "\n",
       "    this.ws.onmessage = this._make_on_message_function(this);\n",
       "\n",
       "    this.ondownload = ondownload;\n",
       "}\n",
       "\n",
       "mpl.figure.prototype._init_header = function() {\n",
       "    var titlebar = $(\n",
       "        '<div class=\"ui-dialog-titlebar ui-widget-header ui-corner-all ' +\n",
       "        'ui-helper-clearfix\"/>');\n",
       "    var titletext = $(\n",
       "        '<div class=\"ui-dialog-title\" style=\"width: 100%; ' +\n",
       "        'text-align: center; padding: 3px;\"/>');\n",
       "    titlebar.append(titletext)\n",
       "    this.root.append(titlebar);\n",
       "    this.header = titletext[0];\n",
       "}\n",
       "\n",
       "\n",
       "\n",
       "mpl.figure.prototype._canvas_extra_style = function(canvas_div) {\n",
       "\n",
       "}\n",
       "\n",
       "\n",
       "mpl.figure.prototype._root_extra_style = function(canvas_div) {\n",
       "\n",
       "}\n",
       "\n",
       "mpl.figure.prototype._init_canvas = function() {\n",
       "    var fig = this;\n",
       "\n",
       "    var canvas_div = $('<div/>');\n",
       "\n",
       "    canvas_div.attr('style', 'position: relative; clear: both; outline: 0');\n",
       "\n",
       "    function canvas_keyboard_event(event) {\n",
       "        return fig.key_event(event, event['data']);\n",
       "    }\n",
       "\n",
       "    canvas_div.keydown('key_press', canvas_keyboard_event);\n",
       "    canvas_div.keyup('key_release', canvas_keyboard_event);\n",
       "    this.canvas_div = canvas_div\n",
       "    this._canvas_extra_style(canvas_div)\n",
       "    this.root.append(canvas_div);\n",
       "\n",
       "    var canvas = $('<canvas/>');\n",
       "    canvas.addClass('mpl-canvas');\n",
       "    canvas.attr('style', \"left: 0; top: 0; z-index: 0; outline: 0\")\n",
       "\n",
       "    this.canvas = canvas[0];\n",
       "    this.context = canvas[0].getContext(\"2d\");\n",
       "\n",
       "    var backingStore = this.context.backingStorePixelRatio ||\n",
       "\tthis.context.webkitBackingStorePixelRatio ||\n",
       "\tthis.context.mozBackingStorePixelRatio ||\n",
       "\tthis.context.msBackingStorePixelRatio ||\n",
       "\tthis.context.oBackingStorePixelRatio ||\n",
       "\tthis.context.backingStorePixelRatio || 1;\n",
       "\n",
       "    mpl.ratio = (window.devicePixelRatio || 1) / backingStore;\n",
       "\n",
       "    var rubberband = $('<canvas/>');\n",
       "    rubberband.attr('style', \"position: absolute; left: 0; top: 0; z-index: 1;\")\n",
       "\n",
       "    var pass_mouse_events = true;\n",
       "\n",
       "    canvas_div.resizable({\n",
       "        start: function(event, ui) {\n",
       "            pass_mouse_events = false;\n",
       "        },\n",
       "        resize: function(event, ui) {\n",
       "            fig.request_resize(ui.size.width, ui.size.height);\n",
       "        },\n",
       "        stop: function(event, ui) {\n",
       "            pass_mouse_events = true;\n",
       "            fig.request_resize(ui.size.width, ui.size.height);\n",
       "        },\n",
       "    });\n",
       "\n",
       "    function mouse_event_fn(event) {\n",
       "        if (pass_mouse_events)\n",
       "            return fig.mouse_event(event, event['data']);\n",
       "    }\n",
       "\n",
       "    rubberband.mousedown('button_press', mouse_event_fn);\n",
       "    rubberband.mouseup('button_release', mouse_event_fn);\n",
       "    // Throttle sequential mouse events to 1 every 20ms.\n",
       "    rubberband.mousemove('motion_notify', mouse_event_fn);\n",
       "\n",
       "    rubberband.mouseenter('figure_enter', mouse_event_fn);\n",
       "    rubberband.mouseleave('figure_leave', mouse_event_fn);\n",
       "\n",
       "    canvas_div.on(\"wheel\", function (event) {\n",
       "        event = event.originalEvent;\n",
       "        event['data'] = 'scroll'\n",
       "        if (event.deltaY < 0) {\n",
       "            event.step = 1;\n",
       "        } else {\n",
       "            event.step = -1;\n",
       "        }\n",
       "        mouse_event_fn(event);\n",
       "    });\n",
       "\n",
       "    canvas_div.append(canvas);\n",
       "    canvas_div.append(rubberband);\n",
       "\n",
       "    this.rubberband = rubberband;\n",
       "    this.rubberband_canvas = rubberband[0];\n",
       "    this.rubberband_context = rubberband[0].getContext(\"2d\");\n",
       "    this.rubberband_context.strokeStyle = \"#000000\";\n",
       "\n",
       "    this._resize_canvas = function(width, height) {\n",
       "        // Keep the size of the canvas, canvas container, and rubber band\n",
       "        // canvas in synch.\n",
       "        canvas_div.css('width', width)\n",
       "        canvas_div.css('height', height)\n",
       "\n",
       "        canvas.attr('width', width * mpl.ratio);\n",
       "        canvas.attr('height', height * mpl.ratio);\n",
       "        canvas.attr('style', 'width: ' + width + 'px; height: ' + height + 'px;');\n",
       "\n",
       "        rubberband.attr('width', width);\n",
       "        rubberband.attr('height', height);\n",
       "    }\n",
       "\n",
       "    // Set the figure to an initial 600x600px, this will subsequently be updated\n",
       "    // upon first draw.\n",
       "    this._resize_canvas(600, 600);\n",
       "\n",
       "    // Disable right mouse context menu.\n",
       "    $(this.rubberband_canvas).bind(\"contextmenu\",function(e){\n",
       "        return false;\n",
       "    });\n",
       "\n",
       "    function set_focus () {\n",
       "        canvas.focus();\n",
       "        canvas_div.focus();\n",
       "    }\n",
       "\n",
       "    window.setTimeout(set_focus, 100);\n",
       "}\n",
       "\n",
       "mpl.figure.prototype._init_toolbar = function() {\n",
       "    var fig = this;\n",
       "\n",
       "    var nav_element = $('<div/>');\n",
       "    nav_element.attr('style', 'width: 100%');\n",
       "    this.root.append(nav_element);\n",
       "\n",
       "    // Define a callback function for later on.\n",
       "    function toolbar_event(event) {\n",
       "        return fig.toolbar_button_onclick(event['data']);\n",
       "    }\n",
       "    function toolbar_mouse_event(event) {\n",
       "        return fig.toolbar_button_onmouseover(event['data']);\n",
       "    }\n",
       "\n",
       "    for(var toolbar_ind in mpl.toolbar_items) {\n",
       "        var name = mpl.toolbar_items[toolbar_ind][0];\n",
       "        var tooltip = mpl.toolbar_items[toolbar_ind][1];\n",
       "        var image = mpl.toolbar_items[toolbar_ind][2];\n",
       "        var method_name = mpl.toolbar_items[toolbar_ind][3];\n",
       "\n",
       "        if (!name) {\n",
       "            // put a spacer in here.\n",
       "            continue;\n",
       "        }\n",
       "        var button = $('<button/>');\n",
       "        button.addClass('ui-button ui-widget ui-state-default ui-corner-all ' +\n",
       "                        'ui-button-icon-only');\n",
       "        button.attr('role', 'button');\n",
       "        button.attr('aria-disabled', 'false');\n",
       "        button.click(method_name, toolbar_event);\n",
       "        button.mouseover(tooltip, toolbar_mouse_event);\n",
       "\n",
       "        var icon_img = $('<span/>');\n",
       "        icon_img.addClass('ui-button-icon-primary ui-icon');\n",
       "        icon_img.addClass(image);\n",
       "        icon_img.addClass('ui-corner-all');\n",
       "\n",
       "        var tooltip_span = $('<span/>');\n",
       "        tooltip_span.addClass('ui-button-text');\n",
       "        tooltip_span.html(tooltip);\n",
       "\n",
       "        button.append(icon_img);\n",
       "        button.append(tooltip_span);\n",
       "\n",
       "        nav_element.append(button);\n",
       "    }\n",
       "\n",
       "    var fmt_picker_span = $('<span/>');\n",
       "\n",
       "    var fmt_picker = $('<select/>');\n",
       "    fmt_picker.addClass('mpl-toolbar-option ui-widget ui-widget-content');\n",
       "    fmt_picker_span.append(fmt_picker);\n",
       "    nav_element.append(fmt_picker_span);\n",
       "    this.format_dropdown = fmt_picker[0];\n",
       "\n",
       "    for (var ind in mpl.extensions) {\n",
       "        var fmt = mpl.extensions[ind];\n",
       "        var option = $(\n",
       "            '<option/>', {selected: fmt === mpl.default_extension}).html(fmt);\n",
       "        fmt_picker.append(option);\n",
       "    }\n",
       "\n",
       "    // Add hover states to the ui-buttons\n",
       "    $( \".ui-button\" ).hover(\n",
       "        function() { $(this).addClass(\"ui-state-hover\");},\n",
       "        function() { $(this).removeClass(\"ui-state-hover\");}\n",
       "    );\n",
       "\n",
       "    var status_bar = $('<span class=\"mpl-message\"/>');\n",
       "    nav_element.append(status_bar);\n",
       "    this.message = status_bar[0];\n",
       "}\n",
       "\n",
       "mpl.figure.prototype.request_resize = function(x_pixels, y_pixels) {\n",
       "    // Request matplotlib to resize the figure. Matplotlib will then trigger a resize in the client,\n",
       "    // which will in turn request a refresh of the image.\n",
       "    this.send_message('resize', {'width': x_pixels, 'height': y_pixels});\n",
       "}\n",
       "\n",
       "mpl.figure.prototype.send_message = function(type, properties) {\n",
       "    properties['type'] = type;\n",
       "    properties['figure_id'] = this.id;\n",
       "    this.ws.send(JSON.stringify(properties));\n",
       "}\n",
       "\n",
       "mpl.figure.prototype.send_draw_message = function() {\n",
       "    if (!this.waiting) {\n",
       "        this.waiting = true;\n",
       "        this.ws.send(JSON.stringify({type: \"draw\", figure_id: this.id}));\n",
       "    }\n",
       "}\n",
       "\n",
       "\n",
       "mpl.figure.prototype.handle_save = function(fig, msg) {\n",
       "    var format_dropdown = fig.format_dropdown;\n",
       "    var format = format_dropdown.options[format_dropdown.selectedIndex].value;\n",
       "    fig.ondownload(fig, format);\n",
       "}\n",
       "\n",
       "\n",
       "mpl.figure.prototype.handle_resize = function(fig, msg) {\n",
       "    var size = msg['size'];\n",
       "    if (size[0] != fig.canvas.width || size[1] != fig.canvas.height) {\n",
       "        fig._resize_canvas(size[0], size[1]);\n",
       "        fig.send_message(\"refresh\", {});\n",
       "    };\n",
       "}\n",
       "\n",
       "mpl.figure.prototype.handle_rubberband = function(fig, msg) {\n",
       "    var x0 = msg['x0'] / mpl.ratio;\n",
       "    var y0 = (fig.canvas.height - msg['y0']) / mpl.ratio;\n",
       "    var x1 = msg['x1'] / mpl.ratio;\n",
       "    var y1 = (fig.canvas.height - msg['y1']) / mpl.ratio;\n",
       "    x0 = Math.floor(x0) + 0.5;\n",
       "    y0 = Math.floor(y0) + 0.5;\n",
       "    x1 = Math.floor(x1) + 0.5;\n",
       "    y1 = Math.floor(y1) + 0.5;\n",
       "    var min_x = Math.min(x0, x1);\n",
       "    var min_y = Math.min(y0, y1);\n",
       "    var width = Math.abs(x1 - x0);\n",
       "    var height = Math.abs(y1 - y0);\n",
       "\n",
       "    fig.rubberband_context.clearRect(\n",
       "        0, 0, fig.canvas.width / mpl.ratio, fig.canvas.height / mpl.ratio);\n",
       "\n",
       "    fig.rubberband_context.strokeRect(min_x, min_y, width, height);\n",
       "}\n",
       "\n",
       "mpl.figure.prototype.handle_figure_label = function(fig, msg) {\n",
       "    // Updates the figure title.\n",
       "    fig.header.textContent = msg['label'];\n",
       "}\n",
       "\n",
       "mpl.figure.prototype.handle_cursor = function(fig, msg) {\n",
       "    var cursor = msg['cursor'];\n",
       "    switch(cursor)\n",
       "    {\n",
       "    case 0:\n",
       "        cursor = 'pointer';\n",
       "        break;\n",
       "    case 1:\n",
       "        cursor = 'default';\n",
       "        break;\n",
       "    case 2:\n",
       "        cursor = 'crosshair';\n",
       "        break;\n",
       "    case 3:\n",
       "        cursor = 'move';\n",
       "        break;\n",
       "    }\n",
       "    fig.rubberband_canvas.style.cursor = cursor;\n",
       "}\n",
       "\n",
       "mpl.figure.prototype.handle_message = function(fig, msg) {\n",
       "    fig.message.textContent = msg['message'];\n",
       "}\n",
       "\n",
       "mpl.figure.prototype.handle_draw = function(fig, msg) {\n",
       "    // Request the server to send over a new figure.\n",
       "    fig.send_draw_message();\n",
       "}\n",
       "\n",
       "mpl.figure.prototype.handle_image_mode = function(fig, msg) {\n",
       "    fig.image_mode = msg['mode'];\n",
       "}\n",
       "\n",
       "mpl.figure.prototype.updated_canvas_event = function() {\n",
       "    // Called whenever the canvas gets updated.\n",
       "    this.send_message(\"ack\", {});\n",
       "}\n",
       "\n",
       "// A function to construct a web socket function for onmessage handling.\n",
       "// Called in the figure constructor.\n",
       "mpl.figure.prototype._make_on_message_function = function(fig) {\n",
       "    return function socket_on_message(evt) {\n",
       "        if (evt.data instanceof Blob) {\n",
       "            /* FIXME: We get \"Resource interpreted as Image but\n",
       "             * transferred with MIME type text/plain:\" errors on\n",
       "             * Chrome.  But how to set the MIME type?  It doesn't seem\n",
       "             * to be part of the websocket stream */\n",
       "            evt.data.type = \"image/png\";\n",
       "\n",
       "            /* Free the memory for the previous frames */\n",
       "            if (fig.imageObj.src) {\n",
       "                (window.URL || window.webkitURL).revokeObjectURL(\n",
       "                    fig.imageObj.src);\n",
       "            }\n",
       "\n",
       "            fig.imageObj.src = (window.URL || window.webkitURL).createObjectURL(\n",
       "                evt.data);\n",
       "            fig.updated_canvas_event();\n",
       "            fig.waiting = false;\n",
       "            return;\n",
       "        }\n",
       "        else if (typeof evt.data === 'string' && evt.data.slice(0, 21) == \"data:image/png;base64\") {\n",
       "            fig.imageObj.src = evt.data;\n",
       "            fig.updated_canvas_event();\n",
       "            fig.waiting = false;\n",
       "            return;\n",
       "        }\n",
       "\n",
       "        var msg = JSON.parse(evt.data);\n",
       "        var msg_type = msg['type'];\n",
       "\n",
       "        // Call the  \"handle_{type}\" callback, which takes\n",
       "        // the figure and JSON message as its only arguments.\n",
       "        try {\n",
       "            var callback = fig[\"handle_\" + msg_type];\n",
       "        } catch (e) {\n",
       "            console.log(\"No handler for the '\" + msg_type + \"' message type: \", msg);\n",
       "            return;\n",
       "        }\n",
       "\n",
       "        if (callback) {\n",
       "            try {\n",
       "                // console.log(\"Handling '\" + msg_type + \"' message: \", msg);\n",
       "                callback(fig, msg);\n",
       "            } catch (e) {\n",
       "                console.log(\"Exception inside the 'handler_\" + msg_type + \"' callback:\", e, e.stack, msg);\n",
       "            }\n",
       "        }\n",
       "    };\n",
       "}\n",
       "\n",
       "// from http://stackoverflow.com/questions/1114465/getting-mouse-location-in-canvas\n",
       "mpl.findpos = function(e) {\n",
       "    //this section is from http://www.quirksmode.org/js/events_properties.html\n",
       "    var targ;\n",
       "    if (!e)\n",
       "        e = window.event;\n",
       "    if (e.target)\n",
       "        targ = e.target;\n",
       "    else if (e.srcElement)\n",
       "        targ = e.srcElement;\n",
       "    if (targ.nodeType == 3) // defeat Safari bug\n",
       "        targ = targ.parentNode;\n",
       "\n",
       "    // jQuery normalizes the pageX and pageY\n",
       "    // pageX,Y are the mouse positions relative to the document\n",
       "    // offset() returns the position of the element relative to the document\n",
       "    var x = e.pageX - $(targ).offset().left;\n",
       "    var y = e.pageY - $(targ).offset().top;\n",
       "\n",
       "    return {\"x\": x, \"y\": y};\n",
       "};\n",
       "\n",
       "/*\n",
       " * return a copy of an object with only non-object keys\n",
       " * we need this to avoid circular references\n",
       " * http://stackoverflow.com/a/24161582/3208463\n",
       " */\n",
       "function simpleKeys (original) {\n",
       "  return Object.keys(original).reduce(function (obj, key) {\n",
       "    if (typeof original[key] !== 'object')\n",
       "        obj[key] = original[key]\n",
       "    return obj;\n",
       "  }, {});\n",
       "}\n",
       "\n",
       "mpl.figure.prototype.mouse_event = function(event, name) {\n",
       "    var canvas_pos = mpl.findpos(event)\n",
       "\n",
       "    if (name === 'button_press')\n",
       "    {\n",
       "        this.canvas.focus();\n",
       "        this.canvas_div.focus();\n",
       "    }\n",
       "\n",
       "    var x = canvas_pos.x * mpl.ratio;\n",
       "    var y = canvas_pos.y * mpl.ratio;\n",
       "\n",
       "    this.send_message(name, {x: x, y: y, button: event.button,\n",
       "                             step: event.step,\n",
       "                             guiEvent: simpleKeys(event)});\n",
       "\n",
       "    /* This prevents the web browser from automatically changing to\n",
       "     * the text insertion cursor when the button is pressed.  We want\n",
       "     * to control all of the cursor setting manually through the\n",
       "     * 'cursor' event from matplotlib */\n",
       "    event.preventDefault();\n",
       "    return false;\n",
       "}\n",
       "\n",
       "mpl.figure.prototype._key_event_extra = function(event, name) {\n",
       "    // Handle any extra behaviour associated with a key event\n",
       "}\n",
       "\n",
       "mpl.figure.prototype.key_event = function(event, name) {\n",
       "\n",
       "    // Prevent repeat events\n",
       "    if (name == 'key_press')\n",
       "    {\n",
       "        if (event.which === this._key)\n",
       "            return;\n",
       "        else\n",
       "            this._key = event.which;\n",
       "    }\n",
       "    if (name == 'key_release')\n",
       "        this._key = null;\n",
       "\n",
       "    var value = '';\n",
       "    if (event.ctrlKey && event.which != 17)\n",
       "        value += \"ctrl+\";\n",
       "    if (event.altKey && event.which != 18)\n",
       "        value += \"alt+\";\n",
       "    if (event.shiftKey && event.which != 16)\n",
       "        value += \"shift+\";\n",
       "\n",
       "    value += 'k';\n",
       "    value += event.which.toString();\n",
       "\n",
       "    this._key_event_extra(event, name);\n",
       "\n",
       "    this.send_message(name, {key: value,\n",
       "                             guiEvent: simpleKeys(event)});\n",
       "    return false;\n",
       "}\n",
       "\n",
       "mpl.figure.prototype.toolbar_button_onclick = function(name) {\n",
       "    if (name == 'download') {\n",
       "        this.handle_save(this, null);\n",
       "    } else {\n",
       "        this.send_message(\"toolbar_button\", {name: name});\n",
       "    }\n",
       "};\n",
       "\n",
       "mpl.figure.prototype.toolbar_button_onmouseover = function(tooltip) {\n",
       "    this.message.textContent = tooltip;\n",
       "};\n",
       "mpl.toolbar_items = [[\"Home\", \"Reset original view\", \"fa fa-home icon-home\", \"home\"], [\"Back\", \"Back to previous view\", \"fa fa-arrow-left icon-arrow-left\", \"back\"], [\"Forward\", \"Forward to next view\", \"fa fa-arrow-right icon-arrow-right\", \"forward\"], [\"\", \"\", \"\", \"\"], [\"Pan\", \"Pan axes with left mouse, zoom with right\", \"fa fa-arrows icon-move\", \"pan\"], [\"Zoom\", \"Zoom to rectangle\", \"fa fa-square-o icon-check-empty\", \"zoom\"], [\"\", \"\", \"\", \"\"], [\"Download\", \"Download plot\", \"fa fa-floppy-o icon-save\", \"download\"]];\n",
       "\n",
       "mpl.extensions = [\"eps\", \"jpeg\", \"pdf\", \"png\", \"ps\", \"raw\", \"svg\", \"tif\"];\n",
       "\n",
       "mpl.default_extension = \"png\";var comm_websocket_adapter = function(comm) {\n",
       "    // Create a \"websocket\"-like object which calls the given IPython comm\n",
       "    // object with the appropriate methods. Currently this is a non binary\n",
       "    // socket, so there is still some room for performance tuning.\n",
       "    var ws = {};\n",
       "\n",
       "    ws.close = function() {\n",
       "        comm.close()\n",
       "    };\n",
       "    ws.send = function(m) {\n",
       "        //console.log('sending', m);\n",
       "        comm.send(m);\n",
       "    };\n",
       "    // Register the callback with on_msg.\n",
       "    comm.on_msg(function(msg) {\n",
       "        //console.log('receiving', msg['content']['data'], msg);\n",
       "        // Pass the mpl event to the overridden (by mpl) onmessage function.\n",
       "        ws.onmessage(msg['content']['data'])\n",
       "    });\n",
       "    return ws;\n",
       "}\n",
       "\n",
       "mpl.mpl_figure_comm = function(comm, msg) {\n",
       "    // This is the function which gets called when the mpl process\n",
       "    // starts-up an IPython Comm through the \"matplotlib\" channel.\n",
       "\n",
       "    var id = msg.content.data.id;\n",
       "    // Get hold of the div created by the display call when the Comm\n",
       "    // socket was opened in Python.\n",
       "    var element = $(\"#\" + id);\n",
       "    var ws_proxy = comm_websocket_adapter(comm)\n",
       "\n",
       "    function ondownload(figure, format) {\n",
       "        window.open(figure.imageObj.src);\n",
       "    }\n",
       "\n",
       "    var fig = new mpl.figure(id, ws_proxy,\n",
       "                           ondownload,\n",
       "                           element.get(0));\n",
       "\n",
       "    // Call onopen now - mpl needs it, as it is assuming we've passed it a real\n",
       "    // web socket which is closed, not our websocket->open comm proxy.\n",
       "    ws_proxy.onopen();\n",
       "\n",
       "    fig.parent_element = element.get(0);\n",
       "    fig.cell_info = mpl.find_output_cell(\"<div id='\" + id + \"'></div>\");\n",
       "    if (!fig.cell_info) {\n",
       "        console.error(\"Failed to find cell for figure\", id, fig);\n",
       "        return;\n",
       "    }\n",
       "\n",
       "    var output_index = fig.cell_info[2]\n",
       "    var cell = fig.cell_info[0];\n",
       "\n",
       "};\n",
       "\n",
       "mpl.figure.prototype.handle_close = function(fig, msg) {\n",
       "    var width = fig.canvas.width/mpl.ratio\n",
       "    fig.root.unbind('remove')\n",
       "\n",
       "    // Update the output cell to use the data from the current canvas.\n",
       "    fig.push_to_output();\n",
       "    var dataURL = fig.canvas.toDataURL();\n",
       "    // Re-enable the keyboard manager in IPython - without this line, in FF,\n",
       "    // the notebook keyboard shortcuts fail.\n",
       "    IPython.keyboard_manager.enable()\n",
       "    $(fig.parent_element).html('<img src=\"' + dataURL + '\" width=\"' + width + '\">');\n",
       "    fig.close_ws(fig, msg);\n",
       "}\n",
       "\n",
       "mpl.figure.prototype.close_ws = function(fig, msg){\n",
       "    fig.send_message('closing', msg);\n",
       "    // fig.ws.close()\n",
       "}\n",
       "\n",
       "mpl.figure.prototype.push_to_output = function(remove_interactive) {\n",
       "    // Turn the data on the canvas into data in the output cell.\n",
       "    var width = this.canvas.width/mpl.ratio\n",
       "    var dataURL = this.canvas.toDataURL();\n",
       "    this.cell_info[1]['text/html'] = '<img src=\"' + dataURL + '\" width=\"' + width + '\">';\n",
       "}\n",
       "\n",
       "mpl.figure.prototype.updated_canvas_event = function() {\n",
       "    // Tell IPython that the notebook contents must change.\n",
       "    IPython.notebook.set_dirty(true);\n",
       "    this.send_message(\"ack\", {});\n",
       "    var fig = this;\n",
       "    // Wait a second, then push the new image to the DOM so\n",
       "    // that it is saved nicely (might be nice to debounce this).\n",
       "    setTimeout(function () { fig.push_to_output() }, 1000);\n",
       "}\n",
       "\n",
       "mpl.figure.prototype._init_toolbar = function() {\n",
       "    var fig = this;\n",
       "\n",
       "    var nav_element = $('<div/>');\n",
       "    nav_element.attr('style', 'width: 100%');\n",
       "    this.root.append(nav_element);\n",
       "\n",
       "    // Define a callback function for later on.\n",
       "    function toolbar_event(event) {\n",
       "        return fig.toolbar_button_onclick(event['data']);\n",
       "    }\n",
       "    function toolbar_mouse_event(event) {\n",
       "        return fig.toolbar_button_onmouseover(event['data']);\n",
       "    }\n",
       "\n",
       "    for(var toolbar_ind in mpl.toolbar_items){\n",
       "        var name = mpl.toolbar_items[toolbar_ind][0];\n",
       "        var tooltip = mpl.toolbar_items[toolbar_ind][1];\n",
       "        var image = mpl.toolbar_items[toolbar_ind][2];\n",
       "        var method_name = mpl.toolbar_items[toolbar_ind][3];\n",
       "\n",
       "        if (!name) { continue; };\n",
       "\n",
       "        var button = $('<button class=\"btn btn-default\" href=\"#\" title=\"' + name + '\"><i class=\"fa ' + image + ' fa-lg\"></i></button>');\n",
       "        button.click(method_name, toolbar_event);\n",
       "        button.mouseover(tooltip, toolbar_mouse_event);\n",
       "        nav_element.append(button);\n",
       "    }\n",
       "\n",
       "    // Add the status bar.\n",
       "    var status_bar = $('<span class=\"mpl-message\" style=\"text-align:right; float: right;\"/>');\n",
       "    nav_element.append(status_bar);\n",
       "    this.message = status_bar[0];\n",
       "\n",
       "    // Add the close button to the window.\n",
       "    var buttongrp = $('<div class=\"btn-group inline pull-right\"></div>');\n",
       "    var button = $('<button class=\"btn btn-mini btn-primary\" href=\"#\" title=\"Stop Interaction\"><i class=\"fa fa-power-off icon-remove icon-large\"></i></button>');\n",
       "    button.click(function (evt) { fig.handle_close(fig, {}); } );\n",
       "    button.mouseover('Stop Interaction', toolbar_mouse_event);\n",
       "    buttongrp.append(button);\n",
       "    var titlebar = this.root.find($('.ui-dialog-titlebar'));\n",
       "    titlebar.prepend(buttongrp);\n",
       "}\n",
       "\n",
       "mpl.figure.prototype._root_extra_style = function(el){\n",
       "    var fig = this\n",
       "    el.on(\"remove\", function(){\n",
       "\tfig.close_ws(fig, {});\n",
       "    });\n",
       "}\n",
       "\n",
       "mpl.figure.prototype._canvas_extra_style = function(el){\n",
       "    // this is important to make the div 'focusable\n",
       "    el.attr('tabindex', 0)\n",
       "    // reach out to IPython and tell the keyboard manager to turn it's self\n",
       "    // off when our div gets focus\n",
       "\n",
       "    // location in version 3\n",
       "    if (IPython.notebook.keyboard_manager) {\n",
       "        IPython.notebook.keyboard_manager.register_events(el);\n",
       "    }\n",
       "    else {\n",
       "        // location in version 2\n",
       "        IPython.keyboard_manager.register_events(el);\n",
       "    }\n",
       "\n",
       "}\n",
       "\n",
       "mpl.figure.prototype._key_event_extra = function(event, name) {\n",
       "    var manager = IPython.notebook.keyboard_manager;\n",
       "    if (!manager)\n",
       "        manager = IPython.keyboard_manager;\n",
       "\n",
       "    // Check for shift+enter\n",
       "    if (event.shiftKey && event.which == 13) {\n",
       "        this.canvas_div.blur();\n",
       "        // select the cell after this one\n",
       "        var index = IPython.notebook.find_cell_index(this.cell_info[0]);\n",
       "        IPython.notebook.select(index + 1);\n",
       "    }\n",
       "}\n",
       "\n",
       "mpl.figure.prototype.handle_save = function(fig, msg) {\n",
       "    fig.ondownload(fig, null);\n",
       "}\n",
       "\n",
       "\n",
       "mpl.find_output_cell = function(html_output) {\n",
       "    // Return the cell and output element which can be found *uniquely* in the notebook.\n",
       "    // Note - this is a bit hacky, but it is done because the \"notebook_saving.Notebook\"\n",
       "    // IPython event is triggered only after the cells have been serialised, which for\n",
       "    // our purposes (turning an active figure into a static one), is too late.\n",
       "    var cells = IPython.notebook.get_cells();\n",
       "    var ncells = cells.length;\n",
       "    for (var i=0; i<ncells; i++) {\n",
       "        var cell = cells[i];\n",
       "        if (cell.cell_type === 'code'){\n",
       "            for (var j=0; j<cell.output_area.outputs.length; j++) {\n",
       "                var data = cell.output_area.outputs[j];\n",
       "                if (data.data) {\n",
       "                    // IPython >= 3 moved mimebundle to data attribute of output\n",
       "                    data = data.data;\n",
       "                }\n",
       "                if (data['text/html'] == html_output) {\n",
       "                    return [cell, data, j];\n",
       "                }\n",
       "            }\n",
       "        }\n",
       "    }\n",
       "}\n",
       "\n",
       "// Register the function which deals with the matplotlib target/channel.\n",
       "// The kernel may be null if the page has been refreshed.\n",
       "if (IPython.notebook.kernel != null) {\n",
       "    IPython.notebook.kernel.comm_manager.register_target('matplotlib', mpl.mpl_figure_comm);\n",
       "}\n"
      ],
      "text/plain": [
       "<IPython.core.display.Javascript object>"
      ]
     },
     "metadata": {},
     "output_type": "display_data"
    },
    {
     "data": {
      "text/html": [
       "<img src=\"data:image/png;base64,iVBORw0KGgoAAAANSUhEUgAAAoAAAAHgCAYAAAA10dzkAAAAAXNSR0IArs4c6QAAAERlWElmTU0AKgAAAAgAAYdpAAQAAAABAAAAGgAAAAAAA6ABAAMAAAABAAEAAKACAAQAAAABAAACgKADAAQAAAABAAAB4AAAAAAfNMscAABAAElEQVR4Aey9CZxdRZn+X70knYQdQiCQjRCyEAIJSxYjDOrIDCgCo4wrIiiCgoqIyF+QAZRtEJdBBeWngjIuyKIoIorsgbAkLBkRBWQVwZAQtizd6fT//VbnbU7f9N73dte556nP59xzl7NUPfXeU0+9W9W0WAkqQkAICAEhIASEgBAQAoVBoLYwLVVDhYAQEAJCQAgIASEgBCICIoASBCEgBISAEBACQkAIFAwBEcCCdbiaKwSEgBAQAkJACAgBEUDJgBAQAkJACAgBISAECoaACGDBOlzNFQJCQAgIASEgBISACKBkQAgIASEgBISAEBACBUNABLBgHa7mCgEhIASEgBAQAkJABFAyIASEgBAQAkJACAiBgiEgAliwDldzhYAQEAJCQAgIASEgAigZEAJCQAgIASEgBIRAwRAQASxYh6u5QkAICAEhIASEgBAQAZQMCAEhIASEgBAQAkKgYAiIABasw9VcISAEhIAQEAJCQAiIAEoGhIAQEAJCQAgIASFQMAREAAvW4WquEBACQkAICAEhIAREACUDQkAICAEhIASEgBAoGAIigAXrcDVXCAgBISAEhIAQEAIigJIBISAEhIAQEAJCQAgUDAERwIJ1uJorBISAEBACQkAICAERQMmAEBACQkAICAEhIAQKhoAIYME6XM0VAkJACAgBISAEhIAIoGRACAgBISAEhIAQEAIFQ0AEsGAdruYKASEgBISAEBACQkAEUDIgBISAEBACQkAICIGCISACWLAOV3OFgBAQAkJACAgBISACKBkQAkJACAgBISAEhEDBEBABLFiHq7lCQAgIASEgBISAEBABlAwIASEgBISAEBACQqBgCIgAFqzD1VwhIASEgBAQAkJACIgASgaEgBAQAkJACAgBIVAwBEQAC9bhaq4QEAJCQAgIASEgBEQAJQNCQAgIASEgBISAECgYAiKABetwNVcICAEhIASEgBAQAiKAkgEhIASEgBAQAkJACBQMARHAgnW4misEhIAQEAJCQAgIARFAyYAQEAJCQAgIASEgBAqGgAhgwTpczRUCQkAICAEhIASEgAigZEAICAEhIASEgBAQAgVDQASwYB2u5goBISAEhIAQEAJCQARQMiAEhIAQEAJCQAgIgYIhIAJYsA5Xc4WAEBACQkAICAEhIAIoGRACQkAICAEhIASEQMEQEAEsWIeruUJACAgBISAEhIAQEAGUDAgBISAEhIAQEAJCoGAIiAAWrMPVXCEgBISAEBACQkAIiABKBoSAEBACQkAICAEhUDAERAAL1uFqrhAQAkJACAgBISAERAAlA0JACAgBISAEhIAQKBgCIoAF63A1VwgIASEgBISAEBACIoCSASEgBISAEBACQkAIFAwBEcCCdbiaKwSEgBAQAkJACAgBEUDJgBAQAkJACAgBISAECoaACGDBOlzNFQJCQAgIASEgBISACKBkQAgIASEgBISAEBACBUNABLBgHa7mCgEhIASEgBAQAkJABFAyIASEgBAQAkJACAiBgiEgAliwDldzhYAQEAJCQAgIASEgAigZEAJCQAgIASEgBIRAwRAQASxYh6u5QkAICAEhIASEgBAQAZQMCAEhIASEgBAQAkKgYAiIABasw9VcISAEhIAQEAJCQAiIAEoGhIAQEAJCQAgIASFQMAREAAvW4WquEBACQkAICAEhIAREACUDQkAICAEhIASEgBAoGAIigAXrcDVXCAgBISAEhIAQEAIigJIBISAEhIAQEAJCQAgUDAERwIJ1uJorBISAEBACQkAICAERQMmAEBACQkAICAEhIAQKhoAIYME6XM0VAkJACAgBISAEhIAIoGRACAgBISAEhIAQEAIFQ0AEsGAdruYKASEgBISAEBACQkAEUDIgBISAEBACQkAICIGCISACWLAOV3OFgBAQAkJACAgBISACKBkQAkJACAgBISAEhEDBEKgvWHvVXCEgBAYBgZaWltDc3BzvXFtbG9hUhIAQEAJCYPAQEAEcPOx1ZyFQCATWrVsXmpqawurVqyMJhPzV19eHurq6to3vampqCoGHGikEhIAQSAGBGpuZt6RQEdVBCAiB6kKAR8vatWvj5u/Z+7ZmzZrwl7/8Jey6665RI1hKCiGEIoXVJRNqjRAQAukgIA1gOn2hmgiBqkEAcy/k7+677w5jxowJ2223XRuZc/MvWsGXX345kj9IYWNjY2w/7zmmI02hCGHViIgaIgSEwCAjIAI4yB2g2wuBakIA8gaxgwDyngJpe+2118Jjjz0Whg4dGjbddNO4+e9OCB0HvmdzEumkj32plpBz/Xc/X3shIASEgBDoHgGZgLvHSEcIASHQDQIQNvf1Yw8pY0MD2NDQEJYuXRpGjx4did0rr7wSXn/99UjmIIsTJ05sI4UQvNLiRJHrOjl00teZltB/L72WPgsBISAEhEArAhs+bYWMEBACQqAXCEDKXOvHaa6VW7FiRYDsofWbPXt2GDFiRCRwkDO0ey+++GL405/+FF599dXw97//PeATuNFGG7WRQTSFfHYNIUEjXpwIssd0zJ7rsnVGCv1c7YWAEBACQiAEEUBJgRAQAn1CANKV1fo58cP379FHHw3PPPNMJH877bRT2GyzzSJJ9BtB5iB4ELYZM2bEryGAEEa2F154IZqMuYebjH0/bNiwNrLn12PPsWxuOuY7J4VoFtmoI/f2unKMihAQAkKgiAiIABax19VmIdBPBCB+ED3IFsUJlWv1MPu+6U1viho+SFhPCudsvfXWceN4yBymYieFTz75ZPQlRKMIoXRCuMkmm0Ry52SPuvj57J2koin0unBMKSn08+PJehECQkAIVDkCIoBV3sFqnhAoJwJZDRvvnTRhAn7kkUfC888/HyZPnhzGjRvXRrb6en+uvfHGG8eNKGIKpBOTsZPCZ599tp3p2IkhpmMne12ZjtE6ehs4ji2rKfRr9LUNOk8ICAEhkCoCIoCp9ozqJQQSQ8A1aewpTo4gfQ8//HDUyr35zW8Ow4cPr1jNIWdbbLFF3PwmJJh2Qkhd/vrXv8a6oRl0Qoi2EA2jkz0/lz1Elg1yCZGloHnk/ahRo9oRQtd0xoP0IgSEgBDIMQIigDnuPFVdCAwEAk6OIEi8dxIE8YL4vfTSS2HatGkxytdJ4UDUy++BTyAbZI0CQc2ajv/2t7/FzxBAiKCTQggiGj8nhVnTMVrG5cuXR6LppmM/rtR07Od5fbQXAkJACOQBARHAPPSS6igEBgmBUq2fkx0CPFjFA5+9vffeOwZ7DFIVN7gtdYTcsW2//fbxd8irawmJTn766aejhi8bdQwxJFLZSSx7yB7FtYTsMRvLdBxh0YsQEAI5RkAEMMedp6oLgUoh0JnWD80aqVtWrlwZl3BzrVul6lGu60Lkttxyy7hxTdqXNR3/4x//aDMdoyWkQBrR/hF04to/vnefQieFHMfG9TgOAuq+hOz5zObEkmuoCAEhIAQGGwERwMHuAd1fCCSEAKQmq/VzQsP3ROGymgdatd13371NO5ZQ9XtcFdqFryLbNttsE89z0zHL00EIIbl33HFHNC97xDFaQgJTOjMdOynEf1Cm4x53hw4UAkJgEBAQARwE0HVLIZAiApAXiEtpahdMp//3f/8Xv99zzz3bBWCk2I6+1ilrOgYL923EHxBSyOennnoqavsggU4K2bvpuFTL54SQvUzHfe0ZnScEhEAlEBABrASquqYQyBECkJOs1s/NlRDBxx9/PGr+JkyYEHbcccc282eOmtevqg4ZMqRL0zErmOALCWZZQsh7mY77Bb1OFgJCoMIIiABWGGBdXgikjADEb9WqVdH/bcqUKW2+akTA4uuHqXPu3LmR3KTcjoGqW2em49deey0GmaApZBUTMMW8nCWFBKU4uXbTOvXOaglLTcccj/8i/ZD1Jxyo9uo+QkAIVC8CIoDV27dqmRDoFAFIhy+Zhq8aUbGkcuE78uih2Zo0aVIYP358JC2dXkg/tNP+jRkzJiICkfOoY8j0E088EbGFBGZJISQRMtiZ6RiCTnAJxY/jO7SLbE4KS8+PJ+hFCAgBIdAFAiKAXYCjn4RANSIAgSBq1X39nDwsXbo05vXDn23+/PnRr60a2z8QbcJ0vNVWW8WN+0G40Qo6KSSNDlpDtHtZQsh7znWyx7mQPM6n0HdLliyJ6Xe23XbbeBxaQo7Jagqz58cT9SIEhIAQKEFABLAEEH0UAtWKQFbrB5FwcyTaKspDDz0Upk6dGqN8nRRWKxYD3S7whFizQdwoEHA3HUMMiTxG28cxWVJIwAl9RYHocS0nfPQpG33IxnuOZcsSQj8vXkQvQkAICAFDQARQYiAECoAAhA+CwJ7ihOK5556LWj++Yxk3VtRQGRgEIGWklWHzgjnetYQvvvhiYBUT+gwSyHEQQ4gjRK8jLZ8TQs7xvIRcm2NLCSEywPcqQkAIFBMBEcBi9rtaXRAEIASeqNi1Qwz6mCMJ8oBsEPzBe5ZKUxlcBPDrGzlyZNyoCX1GPkInhfhqkpaGhNzLli1rpymE4GVJIQST8yk+AYBgUjiuMy2hSGGESC9CoOoREAGs+i5WA4uKAJoi9/XzAR8syGVHoAemSJZxc1/AouKUcrvpN5arYxs9enSs6uLFiyPxgyxCDNHiZk3HrinkHNf0Qga9QAp9gxA6SeTYzkihn6u9EBAC1YOACGD19KVaIgQiAgzomHvdVMigDpHA34yEziQkZiUPghQoIoARhty80Jf4CW633XZtdYbIkYIGQvjPf/4zrtiCHHjUsZNCtLycz5YtTgh90uC/s5fpOIuU3guB6kFABLB6+lItKTgCDOJu6mPP4A3543t8yUjqPG7cuJjehUFdpXoQQBu49dZbx41W0eeYjp0UsowfZmMijLMBJrzPmo6RFz+fvcsTBNNJYWdaQv89XkAvQkAIJI+ARoHku0gVFALdI8CA71o/jnatHwSAtCGU2bNnh8033zy+10t1IwAZc9OxawrR7vmydmgKyfWINpjjnBSiKeSzk7nuTMccx9YZKaxulNU6IZBvBEQA891/qn3BESjV+jnxw/fvscceiwmeWcJthx12iIN0weEqdPMhc0wAspMACCBk0FcwQWYobjqGGEIKe2I6RkvIZGOXXXaJmkY0i2zIJPd22Sx0J6jxQiAhBEQAE+oMVUUI9AYBzHMe5MF5PsASHYqvH4P2m970pphCpDfX1bHFQQAZKTUdYyp2UsgKJnzmONcS+h5Sl9UA8p7z2FPQSLvp2I8rJYX+fXEQV0uFQDoIiACm0xeqiRDoEQJo/dxZn/c+iDLgPvLII+H5558PkydPjv5+Phj36MI6qPAIIC/kHGRz0zGTDDcdoylkFRNkLWs6hhR6Dkmu0ZXpGK2jyyzHsWU1hZLZwouhABggBEQABwho3UYIlAMBd8pnT/GBFNL35z//OZruSOjMGrMqQqAcCEDOtthii7hxPSYdbjpG48cKJqQVcuJGwAnHQwq7Mx1DLiGTFM53czH3hBjy2TXb8SC9CAEhUDYERADLBqUuJAQqhwCDLrneMKkRyemDIt9B/JYvXx6mTZsWc8X5QFy52ujKRUYA+ULbxzZq1KgIBRMStISLFi2KMkrUuZuOPQUNhBDfQogd13DCxwWQb996YjpG/lWEgBDoHwIigP3DT2cLgYoj4Fo/EjivWLEizJw5M97z2WefjSZffLjQ+qFtURECg4EAhAyzMQX3A9LSoN1DQ8iG3CK/fMdx7kfInpyGTgizdXdCyB6No0zHWXT0Xgj0HwERwP5jqCsIgYogwMDHgMnGey8s40aQB3nedt111zYtjP+e4p7kxI8++mgkBq4RQpOpUr0IYMbdcsst40YrkWE01k4KWcHkL3/5S9Rmoxl0uYAUQiCzpBCtoV8j+7/geq5JdF9CmY4jVHoRAt0iIALYLUQ6QAgMLAIMcK71Y+8DHLXArLZgwYLooM9qHgyyKRfqj+aHek+cODGSAAgAPosQWQrrEPvgj3ZI5r2Ue7TvdUOO8U1l22abbeKFkA9WqHFSyESBiQ3mZYhgVi56azpGjtyXMEsK+94CnSkEqguBtEeP6sJarREC3SIA+cMHypdnYxBj4MS/CiLFb3vssUebVqXbCw7SAbQDDQ8DOwM5Jmrawve0h8Jv9913XyQEL774YlytBEKQNRFCACADfs4gNUe3rRACyATyweYFGXdCiG8rQSVuOnZCyPEQSeSiVDaQMTZkCQ0hhckGkxDWUy4lhaXnez20FwLVjoAIYLX3sNqXCwR8wGLwY+By4gcRZAk3BkEiK9FkYFZLuTDYotWDtOLfNX78+OifSNuyBRMwgy+aQQoYcK4vX0a6EQJcGLCdJEAAMBfKfJxFsrre07esU+1rVbtcOCnE9xXZ4r+QlQveu0w5qeMYP5/z8Jd1lwqO4X/GMU4K+ez/vepCVa0RAhsiIAK4ISb6RggMKAIQPgalUq3fSy+9FH39GKDmzp0bI335LtXCQIuWEl8/NC277bZbWLx4cY+ry4AMYWTjfAqYuIkQYkjKEbQ6HJMd/MlJx8CtUn0IZOVi2223jQ3kP4Nc+GThhRdeiJMHtIJZuci6FHAdiB4FWfWNiQkbn50AOiHkv+ffxRP1IgSqCAERwCrqTDUlXwgw4EBwIH9ZrR+fyavGWq2TJk2KGjQGIcxhqRYGY5YBI00NvomuvelvfRmA0fqxjR07Nl6Oe7g2aOnSpVFDCpadLV/W3zro/PQQ4P/gRM9rB4lDLiCFrIbDKib8v5ALCB2/o2F2lwIIYbY4IeS/6MEl/O7EEVn0jfuXnp+9lt4LgTwgIAKYh15SHasOgc60fhAazKdouFjGDc1WyoV2kPONbdy4cWGnnXaKg2Ql60yE6MiRI+PGfRi4CRxwUuhBJ5gDnST43jVAlayfrj04CHRlOiboiDQyCxcubOdS4HLRmemYliDjkEcmHhSIHwQwqyWEGPK9SGGESC85QUAEMCcdpWpWBwKdaf0YXPB3gwBOmTIljBkzJvnBhNxupKNh0JszZ07U0g1GL3F/iDJb1nSMn5iTQrSpEACO8UGfPZ8ZzFWqDwHkwl0KeI9mfdasWd26FCAXWdMx5M6LawnZOyHkPTLUGSn0c7UXAqkhIAKYWo+oPlWLgGsS2FOceBAtC/kjyINoWUxUKRcGUvz8CNLYcccdww477NDWllTqzaC9+eabx83rBAF0Qki6kcceeyxqD7OEkPep4+/t0b73CCAX3bkUoM3mP5p1KXC5gEiyZYuTQs6R6TiLjN6njoAIYOo9pPrlHgEGCEgTm2sLGETwR3r44Yejz9L06dNjbrTSwSW1xpOuBRM1q45gokZTkpdCnYkCZaPQF6QGcVJIpDW+jJiYMQnyO0E37kOWl3aqnr1DoL8uBVlSCMFEbig+4UNT6P/rzrSE/nvvaq6jhUD/EBAB7B9+OlsIdIlANsiDA13rh58agR5ENaL1YxBKuTCIsWoDvlSYqAnIyPugRf0hsGzbbbddhB+Sjun46aefjnsIOppDjslqCjEd5739KcvbYNaNfqV/2frjUtCV6RiSyH3YkDkmHGieOYdNsjWYElCce4sAFqev1dIBRIAHPI7jEEDeQ/x4qKNhwm8OUoE/EsEMKRfqTooNiBCmM8gqqTaqteDYjymefqK/WGqPvvJ0IxBgiDu/oRkEEyeGWou5WqUiRFLWU5eCUrnoLuoYdwp8FQmioiBbyCEbzw0IoT8/qhdhtWwwEBABHAzUdc+qRQDC5KYf9jzMeXjzPb5FJHVGe0a0LA/4lAv+TBA/zKDTpk2L2hDaU7QCsRs1alTbmsv0a9Z0TL/ymeMgg04KIQJZLVDRcKv29vbGpcBlAvlwlwL+S7450QMzf350ZDrOkkI/t9pxVvsqh0DaI1Dl2q0rC4GyIwDJQ+uHjxxrnbJiBw9ptEdo/fh99uzZ7QITyl6JMlyQerJqAiZf/OX23nvv5E3UZWh2jy/BYM0gzrb99tvH8zDjuS8h0dGYkJEFzIjZwR9NDzKhUn0I0K+duRS4bPC/QqOMXPhkATnhP+dykZ008L1vEELO5Tg2jivd/BrVh65aVAkERAArgaquWSgEeED7rJ09hA/yx3vMO5ABljtjgzykXNBkQWDJq8dKHh4wkXKdU6gbmhn63JfpQyYYrBn4kQcivSHUTh598Gefuv9nCvjmtQ7IBS4FbF5KXQqQD7TsbFm5QMPoZM/PZe+EkEkH5JHCca5FzGoJ+U6kMEKklw4QEAHsABR9JQR6igAkjwcxvn4UJ3gEEjDg8xDPS7QsKydgokarxWoeDCQqfUOAQRffLzbMxxRkBYLNgA8xJA0NRJtjGPh98EeLlNUC9a0GOitVBHgmZF0KsA4QBEK/IxfduRQ4KfRnDYSQgnxBCN107MfxP86SQv8+VXxUr4FDQE/4gcNad6oiBHjoeoQv7/2hygOYQR0yNXny5LiMG7+lXCCrFJIl77nnnu20FSnXO291Y8B207HXHXkBf9cCER3OhCIbdYwJmcCb1OXI26R97xCgXyGFTLx64lKQnSxkXQqykwbXErJH49iR6biUFPau1jq6GhAQAayGXlQbBhQBn2mzpzj5I0KUhM48dKdOndoW1TeglevFzSCwaPyetPx3lHnz5knrF5EYuBc0P6WmY4Jv3GcMUu6mYx/4IY2QRJXqRQByVioXWZeCf/zjH23R6C4XrkHGpcCfSSDkxNBJIbLD5kmrmZhwDPdkz2c2TTiqV768ZSKAjoT2QqAbBHiAutYP8ucPSR7MRMsuX748Ej+0OKn7dVFXTE889DH33nfffW0DRTcw6OcKIsCgi7aPjUAiCrJGWhr3J0TDjPkYcpgd/NEuIpMq1YcActGZS4HLBZO5rlwKnBS6jDghZN8T07GfV33oFrdFIoDF7Xu1vBcIlGr9/GFIVN8jjzwS8/mRIw9TDkEfqRZm/miUCEqYNGlSNFHjM6SSLgLImhM91oi+//77o7xh/mPwh8zjcsDkBBLox7KX6Tjdfu1vzZALdylw03FPXAqQCzcdl2r5sqSQie29994bXVk43rWDrGCEdtKfgf1th84fPAREAAcPe905BwjwQHSTCe956PHQZKZNtCyaGZIFu6N/yk1i/Vs0lTzM58+fH/cp11d16xwBBuOtttoqbhyFbDIwu+mYdZqRTTS8WULIe8zOKtWJQF9cClw+OjIdE7RE4ZnHcxBf1R1s7W8ilkmMrZJvBEQA891/qn2FEGBAzWr9eAD6jBdtCyY4lg+bOXNm8gMqGj58E5cuXRpN1GgLSmf+FYJRlx0gBOhPiD0bywtS0Ai66RhiiN8Yfl8c44M+ewJOXLYHqLq6zQAhgFx05VKAXDAxZELLcVm5QLtI8WcfMsLEQ6V6EBABrJ6+VEvKhADkD1MKA2hW60e0Jn5z/LbHHnu05Xwr023LfhnqzqAP+cNkg4kaPyKVYiDAYE0EMZsXJgOuJXzxxRdjyhEmOpDAbMJq5ESTBEetuvYQOSd63jKeaS4XuBQQGIbGj2cIPs1om9H+DURe0IsuuiiwUQfK9OnTw2mnnRb233//+Fkv5UNABLB8WOpKOUeAh11W68eDko3v0Pih+Rs/fnz0nUt9Jow5EBM1pJUHqGuFct5Fqn4/EcDMx/rTvgY1Mo/2xwd//FfddJwlhBAGzMkq1YkApuOOXAruueee2GDWvz744IOjlpDjzjvvvLDvvvvGlY2ySa7LgQ5+rueee258znK9yy67LBx00EHR95VnmUr5ENA/unxY6ko5RgCSx4wXrR8F4ocGBF8XtH4Qvrlz58aZc8rNZEBnEOeBDeljNQ/5fKXcY4NbN2ScZcnYRo8eHSvDf4CJg5NCAoaypmMnhpzD/0Sl+hBALnAVoH+Z9EK8iDq/+eabw1FHHRUnxL/4xS9iGimei3fddVfZQDjwwAPbXeuss86KGsGFCxfGerT7UR/6hYAIYL/g08l5RwDCxIAH+YMEOvHjMySKh96OO+4YJkyYkPxgh+YGskr0HqldmKmrCIHeIsBkBwf/rJM/pmNfwQSfMTTi/Hc86hhSCCFUqV4E8BFkVSMmB5dcckmUD3cjqFSreTZDNAlGIU+pSnkREAEsL566Wo4Q6EzrR7AE5lN/4KU+sNEOlo9iGzduXDSdyFyXI0HMQVUxHeP/5T5gbjp2Uoi/FhMQCpHmkEdIIQRRspiDDu5jFbPuBH28RIenLVmyJBI+NM/4p15zzTVh55137vBYfdl3BEQA+46dzswpAgxeaDReeOGFOKBh7mDjO3L6oeGYMmVKwBeF71MuK1asiFo/6jhnzpx2Dv8p11t1yzcC/C+YGLERDU/h/3PHHXdENwm0RGjP0UZzjAcduKYw9f9Vvnsn/7Xn+fvAAw8Enm9XXXVVOPzww8Ott94qEljmrhUBLDOgulzaCKAtI+INkwIPmP322y9WGD8nomVxaM5DtCwmasxw+PthoiY3V+r+WBBvlepFwAOjmDj5SjgQQHwJ0RQy4UJmKW46hhhCCkmgriIEHAHkh0T1FNYnJyH1N7/5zfDd737XD9G+DAiIAJYBRF0ifQQgH5AmNt67BgITAyYrBihMDARO+G+ptmrZsmVR68egiU8OJpKUC3hjnmapKh7srg2i/iKFKfdc/+tGH5eajpl8OSkksp7PHOdy4XsnlP2vha6QdwR4TjCZUCkvAiKA5cVTV0sQgWyQB9VDU8YDhQ2TFWuuovVzrUWCTYhVoh0Q1cWLF8flmfD3S52sQrgfffTRGEXNiilgjnkQ0w5toTC790GfPdGHqbcrVlwvvUaAfmXCwuamY2QEmUAe2FjFBC191nSMXPBZctFryHN3whe/+MWY82/s2LFRLn72s5+FW265Jfzud7/LXVtSr7AIYOo9pPr1GQHIRlbr5xG+OKs/9NBD8bqzZs1qy4nW5xsNwInPP/981KKhFYGsEqCScoGsYu5jYGeZPNLR8B194tHJ5J8jtQNEFo0QZnjWKaafMBFiGnRimDo5T7kvUq8bQSK4Xng+OWTETcfIBcnMiciH/Lk8+B7NoUp1IYCrwGGHHRb7nWcAE0fI39vf/vbqamgCrREBTKATVIXyIsAA4r5+7Bk4XOvnpkhynjG4eELc8tagfFfDRI1vItn5IVKQqNTJH3UlHQ35BxmoMauDP3XPFvqFDQ0sG4X+gqDTN2y+TBUrU2QJIQSRa6pUHwLIBP3N5mtsIxduOkYu+B+76bhULmQ6zrdMfP/73893A3JUexHAHHWWqto9ApA/zEdONiAJDCiYliAl/D579uxo7kXjlGqhns8++2zUiOFDtffee0cNGYmpUy3gjqYGXHfaaaeYQNZXEuhpnekv1+74OVzXCWF2mSrMiNnBH2JMX6tUHwLIBaSfjbWsKWj3XS5wKWDJMr5DLlyG2ONSoCIEhMCGCIgAboiJvskhAqVaPyd+EEFMkQwOEydOjBu/YX5MtaDZIA8hdcT84VqQVOtLvdDUUWcG3/nz55d10O1omSo0o5B6CABEGVMzmh8G/Cwp1CooKUtN/+qG6Zg1rtkoPAOQCyeFWZcCTMVMJEhcjIzIpaB/2Ovs6kBABLA6+rHQrcA8xMy/VOtHtCykBBJAFnm0BykX2gFRhbDiIM9qHqkn0cVXCxM1A+vUqVOjdqbSWjiuj7aPzdc4dtOxk0J8JlkPmWOypBCCygRApfoQyMpFqUsBOQmRUf5bTKwwL5fKhUzH1ScTalHXCIgAdo2Pfk0YAWb8kD7IH+8ZANiY6RNMgPO4myL5PuWC1gITNW3ZY4892rQaqdYZvNGwkDgbDQwm6sF0yIfUMaCzeXHTMaTQl6yCKGZNhGgLIQOpy4e3SfveIeBywWQAzTo55Vwu+M/JpaB3eOro6kJABLC6+rMwrWEg50HOnuLkjwgy8vpVwhRZCXAhsOTHe9KW0ppg6w2T1Dl1TQSDKZpVzK677LJLWwBHJfDpzzU7Mh1TdwZ+SCHpRtBeomV18gghTF1T3B9MdG6IFgEi0T0ancmMywWyUepSkNUUyqVAElRNCIgAVlNvFqAtWa0f5I8ZPuQPUyTEjxk9pkhMqKlrdQjoQOsH4Zs7d2477VWKXQn2mKjJ60cUNald8jQgIg8EBLC56RgC7lHHkEK0xviR0S5kCzIAKSQHHZ9Vqg+BjuSCZwty4S4FTCwhie5S4KRQLgXVJw9FapEIYJF6O+dtLdX6+YDs0bLM6MmRN5imyJ5AjJmXaFn8kljuaPz48cmTCwZDFmhnvVd8E1170pP2pnwM5BuCx0biWQptRCtLZOnSpUtjyhFkD82gawrZy3Sccs/2r248W7yv/UrIBRpCNvyLWcWECURWLpAjyYUjpn3qCIgApt5Dql/074M0ua8fD2dm7ThzY4qEnMyYMSM30bJoKtFCsYwbmqWUC8SHnGtsJGzGpzJ1E3V/8SRCFM0OLga+egmy5oM/WlD8ydASOknwfepBO/3FpsjnIxfkDfXcoW46di1hRy4FLhd50pQXuY+L1nYRwKL1eI7aywM2q/WD9LnWD585TJGYemfOnJm8KRLtAf5maJSmTJkSxowZk7yJGg0YJmpwnzNnTtSS5Uh8ylZV2g9RZ8P0TUHzgw+kk0K0ubghcIwP+uz57DJbtgrpQkkggFy4S0FWLjpyKeC4rFzIdJxEFxa+EiKAhReBNAGA/KGB8cXid95550hEGHQhJfyWl2hZ/Mogfyx1hYkaE1HKBU0r5BqNBkEpO+ywg0hMSYehBd18883j5j9lly8jLyIpR5Dj7MDP+9T739ujfe8R6MylgIkCmkImgLgXIBduOsbnFO0i30EqVYTAQCEgAjhQSOs+PUKAh2BW64emxU2/DKgQQnzm8J1L3RSJ0zjmXh7806dPj9GyqT/gSZeCWR2SgokaTYVKzxDA95RVW9goyDKmYtcSorVGO8Rgj6+YE0OIgEzHPcM4j0d1ZDrOuhQgIzwjCDRxmfC95CKPPZ6fOosA5qevqr6mDJho9iB9FPf1w3y6YMGCSPjyYIqkHcz0CZog2hStH4NA6oX6MghhoiYgInWymjqe4AeBZsNVgcJkJms6JoAJzSHH+KDPHtOx8E+9h/tWP/qV/mXDdIxMEF1MPk2fLMiloG/Y6qzeISAC2Du8dHQFEIAwuaYP7Z8TPx6MmNKYHRN8MMHy5KXuT4WGhxk9Zp1Zs2a1OYxXALayXBLswZgC0YasMhipVAYBNDq4ArB5gQAi4wz+rGCC+Z2CZjCrKUw9ut3bo33vEeC51pVLARMzdykolQu5FPQeb53RioAIoCRhUBGA8EH0SrV+aNAwRTJbJuqOdXxTLrQD8zT+PQzyaNE8WjDVekNSMVGTj5BCepfUCXaqWPanXhA71nv2NZ+RJUyETgqJwGZSwXFoB+k3fuc/k7obRH9wKfq5cikougRUvv0igJXHWHfoAIGs1o/3ED02tFAsL4ZWavLkydEkjFYt5cJATWAK7Zg9e3YM+Eh5YKaenjsRf7W99tor3HnnnTI5JiJkkHA3HW+//faxVkyS3DxIdDYmQoJ0MCNmtYREm/I/Uqk+BOhXl4vuXAqQCyYLLht8llxUn0z0t0UigP1FUOf3GgE0HPj6saf4g8mjZXloebQs2o9UCxoYzHVPP/101FCipUxdg4YmCc0qGiRW8oAAolFSSRsBtMr4iLGhsUVbSDJuSCETENZlZv1r5M+jS33wz4P/adrop1u7jlwK+D/7ZAGXApLO84wtlQu5FKTbrwNVMxHAgUJa94kaMjQZbGihGKx4MPHAgpQwkE2bNi0GTjgpTBU2VgJA68dDNA/RspDtJy0KFRM1WiXMvQweKvlEgP8Hvl9sWdOxR5RCAPAZg+hzjAeYQArRIqWsoc5nj6RT687kwklhqUuBTxQgiJKLdPpxIGqiEWAgUNY92qV2AQ7XlKE9Y4bKIJaHaFk0l2ha0FZiomZ1jNTJKg9+yCoayz333LNdAIJEs3oQcO0fA7kX5JWoYyZXaA5ZxYQJWDbqGAJA4E/qcuxt0r53CGTlojOXAp7DyIqbjt18zERdpXoREAGs3r5NomU8QDrS+qGpgJSQK89NkUlUuItKYE4hoTMDbB6iZSF8aPzQ/E2wCGqSOmuG30UHV+FPLEHmpmOax/8xayLEl9BNx64l9L1Mx1UoEOublHUp6EgumOAyMcdygE82Uev3339/zGdaaVTOOeeccPXVV8f7MjHBwnLeeefFwLpK37to1xcBLFqPD1B7GWiyvn5oF5iJ8r1Hy7IcGqt5pG6KJE0H0bLLly8PU6dOjTndUteWUFcINtjOmzcvktYB6nrdJmEEkFsGVbZtttkm1pT/qS9fhraYACxMxxzjZJA9Ex/X3CfcRFWtDwh0Jhe33357JH88T04//fQYeESg0ZFHHhn23nvvuEQk7iSYnctVbr311nDsscfG4DSUB6ecckrYb7/94jMYDaVK+RAQASwflrrSegQgeZgT0EBRGDR4wGSjZfNgiqQdaEiYAZPSBa1f6o7TPDDR6BAUwGoprJqiQXu9YGrXIQLIhxM9P4D/r/uMMfgzaeP/DAn0Y9lDElOfDHmbtO8dAv7cZqKA9YAJJf6DTChZmvOmm24KaOsghFgZylV+97vftbvUD3/4w+gitGjRorDPPvu0+00f+oeACGD/8NPZGQRKtX7+AGHgwCEd/yPWleVhkjopQQNCYAqakV133bXN0T7T3OTeorlBU8kDef78+XGfXCVVoVwggOmYKGM2Cv9t3DWcFJJGCN9CNMxOCPErVKluBHAnQA5OPPHEmLgauWD5yEoWFAcU7q1SXgREAMuLZ2GvhhkJ7VOp1o9oWYgUA0oeTJE80JjNQljJtTVz5sxY95Q7FhM1vok8iDFR4+gtrUzKPZa/uiFPTCzYWN6Qwn8+u6wdfmMUNDUeWQo5hBimPuGLFddLrxFALnzt616f3IMTeB6fcMIJ0fqyyy679OAMHdIbBEQAe4OWjt0AAf6gkD5IE0sZ8bDnoYAJyaNlWcYNU2TqpITBDDMHdcc3MfUZJ9hj6sVETV09d+IGnaQvhEAFEIDUQfTYKDwH8N9Cy48GnQkJJkOIIs+FLCnEZyz150EFINMle4nAcccdFx566KFwxx139PJMHd4TBEQAe4KSjukQAQiI+/qRRoCoQXyEWLcSUyQP/TyYIhmgiJbFz2lCTqJlMcOgWYW0Tp8+vU0r02FHJfIlpABNMJtK9SLAZMS1hDwj6Hc3HfOcwK0C03GWEKIpTD0YrHp7LM2WfepTnwrXXnttuO222wIBgyrlR0AEsPyYFuaKPNwx+7p5h/cPPPBAwOybl2hZcqOh9SM9yty5c6M/U8odCOb4UpKigUGWFDqpEyrkYsmSJTF3IvX3XGMEEPCZTdqglKWu73WjX+lvttGjR8cLoSmEBOLbBTFEi01qGszLEEEnhpzjz5a+10Bn5g0BngeQv2uuuSbccsstUaOctzbkpb4igHnpqQTrycMd4sQfFk0gWj/8QfISLUu977vvvhiUguYv9cEGXz8IK1o/Ui+4g36CohGrBL6s7QxZJY8YPqAU9xtz53Fm+NnoUghA6tHWsSF66RMCPDPoYzYvyIkTQoKZ8MFFflwunBQiF5osOGrVuScFzE9+8pPwq1/9KvY/+VcpyACTRpXyISACWD4sC3klj5aFnOD7w+oYqZelS5dGrR/1JMkomoaUCyZqfKnws+QBiFk99YTOaHSYECAfY8eOjRphNIEM6vh/MVHAjH3XXXdFf0s0QRAAzPAkCWeg9+hS36fe5pRlKPW64T6CTHhAAXKC7DgpRPaRC7TdLg8QAgiiTMep927v6nfRRRfFE/bdd992J5IO5iMf+Ui77/ShfwiIAPYPv0KfzQN5wYIF0bQDiSIIJOWCloFoWQggZPXRRx9NnvytWLGijayy7BzEKmUixMD9zDPPtC3vx2CNXHSmteF7fEXZiLqmQBRdSwgx5HpomJExH/zZ87mz66Ysh6pb9wjQr/Qvm8sFpmOXC4ghOTqZeGblAlIouege35SP4BmiMjAIiAAODM5VeRd8dubMmRMHZYhgqoUHCikqIH+YIjFRo1XDzJRqgQRBUCE/5E2EsOJADwFMtXS0vN/dd9/d6+qi0aGf2LzQbg8kwCSEWRmSkCWEvJfp2BGrvj0THyYT2YkmBNC1xwSf+X/aTcfIBKRQRQgIgQ0REAHcEBN900MEfADu4eGDchhmRkyRaAyIliWrPfXGvJRqwTeOCF/IDCZqtGMpF8g0JjoiqclBWInl/TAbs40aNSpCwT0hnE4KMZHzmWOypBAikLLGNOV+zUPd+I+Umo5dLrIuBW4mJoDK5UNykYceVh0riYAIYCXR1bUHDQE3RZKLkGhZtH6pL26PmZOcfmi48KXE5AtZTblAwIiixjw3kMv7EbADuWODdFLQmjohxHSOxhRMIdA+6LNHc506rin3ecp1o187cilAFrACIB9yKUi5B1W3gURABHAg0da9BgQBUkygQcNsOGvWrLiO74DcuB83gfShqYSgQFZTj3aD8GFuS2l5P7Q85KDzBN5MArKmY9KNMCFw8ohp0Ilh6pODfohW4U9FLvALRFs4Y8aMGIjkpmMIIcRQLgWFF5NCAiACWMhur85GYxYkihRzIIlDK2GKLDdyEBR8E5cvXx6mTZsWA2pS105RV7R+RGSmvLwfOEKk2TD9U5ARJgiuKSTlCO4Abjp2UshxKtWJAHIhl4Lq7Fu1qncIiAD2Di8dnSgC+PtAStD67LXXXu0cxVOsMvV89tlno0YKH6a99947FyZqNCVo0vKyvF9p36P9c62f/4aZ2Akh5BZ/Rr5Dc0R7/XiIZOrk3Nukfe8QcK1wVy4FaLtxM5BLQe+w1dHpIiACmG7fqGY9QCBripw4cWJg42GecsFJHRM1mqddd921LbAh5TqjKaPODH55WN6vN1iiySSptifWhpyjSWZFGwpEnfQjBA04GXRNYeqrsPQGBx3bHgG5FLTHQ5+qDwERwOrr08K0iAEaUpK6KdI7BLMiWgR85whcYDUPBpmUC75SmKiJTGZ5P+pd7Vow2odM4TPmic3ddIymGW0hKUeIMEcrmCWFEOTUJyApy1vKdUMueuNS4JME5AO5UNRxyr1bzLqlPfoUs0/U6m4QwDyHMz/O23kxRUIaBiNathsoO/0ZLRimXqKSCarARA0hKmrpynQMKWQygtYQopg1EUIC8DerdtIsudi0DYKOXArcdJwlhXIpaINMbwYJARHAQQJet+0bAmheiJbNiykSEzX58fArm2DrDZPUOXVNAKZpMMbsucsuu7QFUPStx6r3rI5Mx2gF3Z+QdCNoT9HyupbQ9zIdF1cuSl0K0LIzQYA4Si6qVy5SbJkIYIq9ojptgAAPSUgJTvqYIlkeKnWtyksvvRS1fhC+uXPnRhKwQcMS+gKtHyZqViAZPXp02G233TQg9aJ/kEdyDLKRe5LCBMCjjtEUorUm8ptjnAyiFSJNiUzHvQA7R4d2JBdZlwImCrhYkArKXQpcUyiXghx1dA6rKgKYw04rUpUhJWik7rjjjuikT4681E2R1JlZPgRw0qRJYfz48bkY3Fm2DS0EvokeEFEkWatEWyH/DOZsY8eOjbdgTWrXErIuNWmLIAREoDopZC/TcSV6JI1rZl0KkAUmAPjX8p6JAoTQ5UIuBWn0WTXWQgSwGnu1StoE8WPBdzQmM2fOzE20LKZTHugs48Y+5QLxwDxNYe1dfCpTN1HHyub4haTTI0eObEtQ7pMcJ4WsWoHWEHNglhDyPvWgoRx3y6BXvTOXAg88kkvBoHdR1VVABLDqujT/DcqaIpn9ohnxNWBTbR1aHfy90OigucHXL3Xyx3JpnjsRXKdMmZK8WT3V/u9PvTARIitsmN4pmI6ZSDgpZCKEGwTHoKVFu8z/gs8yHfcH/XTPzZqOs3Ihl4J0+yxvNRMBzFuPVXl9GfQgJQxyrOQBSeG7VAtkFb8uyB/Rspio77///qSJFBGJ+PmhUYCoMrjcdtttqUJcyHqhhd18883bJTSHAEII6Tv+E4sXL46Jz0u1hExAVKoTAbkUVGe/DlarRAAHC3ndtx0CmCKJliWVBj5z+M7xsIMAplqI+CQPIYPy9OnT2xz/U60v9cK3iDpDEjBRo2HFxK6SPgL4vrJqDP6lLG0HcSepuGsJMeWjHcLE7EEEkEM0hTIdp9+/fa1hdy4FBHYhJ3Ip6CvC1XueCGD19m1uWpaNlp0zZ04cvFKuPFo//LRYJoxoT7R+PIRTLpioyelHGh1MvQQkYGJSyS8C9B8Eno2oeAqmYyeE7CGLbjqGDDoxxHSs/s9v33dVc/qV/mXLmo47cynIapDlUtAVstX3mwhg9fVpblqEKRIShX8TpsgJlicvdX8mNCyYqBlUZ82a1ebInyrokFXPncjgD1kl1YRKdSKA1pxgHjYvyKoHEpBqBBMyBc2gE0JIQOrR9d4e7XuPQFcuBUwUWOqRFYp4XmQJIZ9VqhcBEcDq7dukW0awBKZIyEheomUxT2OmHjduXDRRp25Ww7RL7kQ0rNOmTYvaAGl9kv5bVKRyEDuCqDyQCncLIuydFJJuBBMhx2W1hBBEiINKdSLgLgW4FVAge6UuBWiU8WlmovDLX/4yuroMxEQBn+Tzzz8/LFq0KPpYX3PNNeHggw+uzo4YxFaJAA4i+EW8tZsimXGyzmoeTJEMlEuWLIndNXv27HaO+Sn2IQ9yTH8sl8fDnWXcUjdRp4hjtdYJLbubjsk9R0Ebj4kQWcfvFhcHArEwCbpGCBJAAmtNIqpTMuhXlwt3Kbj11lujdQa5uO+++8Kll14arR/z58+PE3dcdkhyz4pB5SwQURLRH3HEEeHd7353OS+ta2UQEAHMgKG3lUMAUoL5iWhZohsxRaYercjsF3MZg+HEiRPjlrqJmgcnmlU0PDxAfXZfuZ7VlasBAbTZWdMx/1ePOmbwJ9Iddw1IQpYQ8l6Ti2qQgI7b4P0NIbz22mvj5IAgvZNPPjm6wlx++eXhwgsvDA8++GDHF+jjt/vvv39gU6ksAiKAlcVXVzcEMEVCShhIMEUSOJG6FmHZsmXxAYe5w6NlU+5MT+iMiRqtDqt5pG6iThnPoteN/ycTNLas6dhNhPyX8RljosExEEFMxhQmTirViwCTgwMPPDAcdthhsZF8VsknAiKA+ey3XNSaBwO55tAcMIjkIVoWsxfRsmgrMVHj75c6WcWJm8AUBt4999yzXQBALgRFlcwFAmi/IXlsWdOxRx3ja0pZuHBhNCW6ppC9TMe56OI+VTL152OfGlWQk0QAC9LRA91MNAWQEnLl5cUU6SZqBrg8RMtC+ND4PWn533bYYYdoopbT/kBLerHvh5aZBOhsyCM+YyRw538PMSTCH19UyGOWEPJepuNiy45aP/gIiAAOfh9UVQ0wRRItS2ThmDFj4mCQuikSEzW+icuXL89NtCx1hWCD7bx589rMb6kKE9pgklCTjBaCnbovZao45qFebhImWTWFZ4IvX+YpRzAdkwEgSwolF3noXdWxmhAQAaym3hzktvBQv+uuu2I6gTyYIiElRMti8h05cmTU+g1EioP+dBODKf6Uzz33XExFg0N26mQKgn333XdHrRD1ZyPakAhT+gBtEaRBpqT+SEa652a1f15LXC3cdMxkBi02kciQwCwphCRKLhw17YVAeREQASwvnoW8GqYfIgYx9RAtS1Ln1EkJpINClO+uu+7a5uiecgeiRSE4hShq0jDgV5VygeiBMxhDVGfOnBkHcwghQQQM/BR8xtBk+sDvyYlT1xynjH3qdUMTvNVWW8WNuvpEwEkhEzPS0mTlwuWDc1WqGwGedQQZecGq9MADD0RXA/yyVcqDgAhgeXAs7FUgJGikmL1PnTo1DvQpgwEpYW1MXw2BHHmpEw3INSZqcieiOdtrr72S14qQSw4TNZoeJgRsvGegh7iyQWRp0z777BNNhJBCCAApRyCJHMOg74RwMJapuuGGG8Khhx7aqUgfcsgh4bLLLuv0d/3QMwTQ8rlckCWAwn81u3wZPrpMKFwunBDyn0h9wtkzFHSUI0DOwbe85S3+MZxwwgnx/eGHHx4utVyEKuVBQASwPDgW8ioEeixevDjstNNO0ZSa+hJjDCYkdIaskriU9ymTP8gSpl5M1DjZo12lDSmbxMAWco0Gh/qy4gsDdleFwBVIHpsXEoZDBiGF2WWq3ETopBCTfSXxgJz6ZMHrhsb7E5/4RHjooYfCSSed5F9rX2YEIHWdyQWygU8pvsbuUuAyATGUS0GZO2OAL7fvvvvGyeIA37ZwtxMBLFyXl6/BaGT4o2KSIdov1cIAQbQsZoQJtt4w2ii0aikXNB1oViF806dPj7kT8ZNKuWSX9yMwBc0Mg3RfChGi+GWyUSDD+Ji6iRAsmIAge64J8n05ST2TmuzEBvL3sY99LJK/3/zmN7Fv+tI+ndM3BLqTC5K2Yz7Mmo4hhvSbihAQAu0REAFsj4c+9RKB1P1xyE2GKRItE0sWQRJSLhAdBjFyJ44ePTqm0Ekd44FY3g8tHxMONnChMKi7iRBNIZMQiD3HOBlk8OdzObSETv5uvvnmIPKXxr+oM7mABJa6FKBRZG1s1xQiFzIdp9GPqsXgICACODi4664VRgBTJCQKUjBp0qTom5j6w55BC7IKiWElD5zkUy6QVc+dyKA60Mv7QerxI2TzAnauJXzhhRfaHMnddAwxpK69jfaG/B111FEB8vfrX/+63dqn119/fTjllFOiKfKzn/1swE9JZfAQ6MilgOcAEyv6fTBdCgYPFd1ZCGyIgAjghpjom5wj4KZIfM9Yxo2ZfsoFEzW+TGxEuOFTySCWciFII8Xl/RjgWf/Y10CGpPryZRBDTMcQbY5zLaHvO8Pcyd9NN90Uyd+MGTPauoaJxhe/+MVw3XXXxRQmBBWxTBY+myrpIIBJGE067h8UdylwLSFyMRAuBekgopoIgRBEACUFVYMApkiiZSGAU6ZMiYmoy2H6qyRAHi1LPefMmdMuEKKS9+3rtRk487S8H7jii8jGgvYUSJubjiGFtAfZ4Rgng2gSaauTvz/+8Y8bkD+utWjRopg83K+93377BY7tKnKY81QGF4Gs6dj7jr52uRgIl4LBRUB3FwIigJKBKkCAgZrUIZC/LbbYYsBNkX2B0KNlIR9oJVjKLXUTNRoSTNQEqORleb+O+gZtEHLC5gWNppuOMWtDACAEELl77703/PjHP46TCj/e98id+yTyHWvk8p1K/hAYSJeC/KGjGlcjAtIAVmOvFqhNkBEcuxmwiZZl+anUtX5ExmI+xQyJiRrNU8oFEzUmMiKpITis9VrOSNsU2k7aELZRo0bF6tBeco8tWLAgnH322ZH0EvhBFCpaQnwKSW4NSSwtqctfaX31uXMEunIp4JlDZgEmRr1xKej8bvpFCAwsAiKAA4u37lYmBNwUyeojJI4lACH1xeVJhExOPzRMkydPjv5+qZMFBjnIKkQnD8v7lUm8YptvvPHGeDkCOzoqV1xxRSDQhAkIcggxhDiSAmcgSp0lqR7RRZLqJktSvVpJqsvaFfxfe+JSwH89G42ObJQrGr2sDdLF2iFwyy23tEtA3e5H+0DaMwLBqqWIAFZLTxaoHTjxQ0ow282aNastV1yqEEBWnSgwEEBWs7nlUqw3hI+lmFg1BfM0ZurUTdTlxJHlAe+44464TGBn16VfkcWLLroo5jskuvS3v/1teNvb3hbuv//+tnQj9HklJifNrKBiSbfbFeu3YZakutaSVDcqSXU7aCr1oScuBWQkgDwiC9kNzaFKOghgkenIhePaa68NxxxzTPjkJz+ZTmXLUBMRwDKAqEsMvxiokQAAQABJREFUDAKYIjG5YIocO3ZsLkyRkFQ0ROQjnDZtWvQXS13rxxq9+PoRNYk2C3OnyhsIELjDQPAf//Ef4T3veU8477zzwnHHHRfTwHzhC18I//Iv/9KWgw5SSAJrzMsM/J6DDi1SZ1HHb9ypm3eWpLrFtrYC+bMk1ZC/VWauXmcuESqDg0CpSwHPrmw0OhH/bjqmhmgMkSv+a/2Wi8FpclXclYmaL0XoDcK3/POf/3yM9q+24C4RQO9l7ZNGAFMkpASty+zZs9vlfkux4lkTNSlJSA9SCS1QOdvOIMSyZyw/RyoafNxSJ6vlbH9Pr3XllVfGRNBo+dDmHnDAAXHLnp8lzeBKdCkyDLnGTEwQECTQCSHkEK1wn/FeT/7qzDwl8pftiTTeoz1HJtjwo6UgAwQeoWlnosjzzU3HWbkgnVWf5SKN5ue2FpDygw8+OE7qvvzlL+e2HZ1VXASwM2T0fRIIMHPmIXn33XfHtWVZXzZ1UyTmU7SUPOAxJXpgQRKAdlEJAh4gJfPnz+92/d4uLlP1P/3oRz+KJnH6GFeEUo1BKQBoUskL6LkBmRww4EMIkW3WTcaUjFy7edAJQI9WgYH8WZLqSP4sSfU6W+fay7APfCDUmyl7rWklV1sks0o6CGA6RibwDWRjwoVceDQ6EzF8S508ukwgI6lPJtNBue81Yez5gP1/0MhefvnlVUnCRQD7Lh86s8IILFu2LPqgcZs8mCJ5YOAzx2DOGrYzZ85MPlqWfHeQGApaP7QT0jZEODp8efDBB8MDDzwQTj311PCVr3wl3HbbbdHnr8ODO/kSfH2NYSePyA5yw+APMcRnlAh3jsuSQgh6u+Lkz5JUr4L8ZZJUc1yT+S01HXZYGPKTn7Q7TR/SQyArF2QzoGTlAtmoqEtBepAMao1I8H7XXXeFe+65J/4HB7UyFbq5CGCFgNVl+44AZhBmvjjjMkNmBpY1qfX9ypU7k4czJhy0f8zmx4wZkzT5QwuFhoGoZF9KTeSve/lA+wdpe+tb3xoJIFGD5ShZ7R+yQ+F/4ISQyRD+r8iXa8BrrQ/H2CBVZ3XoiPxxDQJF6m6/nbcqOUQgKxdefZcLZKNiLgV+s4Luf/7zn4evfvWrcYUfJsbVWkQAq7Vnc9ouj5aF8GGKJGUK/lOpFjf34tc1YcKEaBpkxphyISgBrR8ap13MXIhpqVxEJuV2l6NuDMhHHnlkG7lHI4jMusamHPfwa2D+ZT1oXxMa0o5W8CEL8mgx94JNLPCkzmTtzrPOYm2zsKkRRNcW9sh07DfSPlcIdCQXpS4FPDOZOLs8uPlYctF9V6Ph5z9+7rnnhn/7t3/r/oQcHyECmOPOq6aqY4okWpYZ7dSpU+OyXambIqkrRIoH7dy5c5M3E0AgMFET6MHqFZioGRAYPFR6hsD5558fD2SQoPzrv/5rJGXxQx9f8BXdfffd42Dj1/dLHX/88YE1iFlejmAiAgIarM9mXnBB2MTMU69femmYaCl6GPBfs1VlnjCtEP+lOtNSbmornUAARlqi4s2t7wey3HBDna2iMqLTWx5ySFO47DLJXacA9eKHrOm41KXA/Uy7cilwjXIvblm1h5Kkn6CPfS3f34c+9KGogMg2lme9rzOe/T6v70UA89pzVVJvSMnf//73aIrEb46oytRzYzFgk9eLek+aNCk6b6f+EIUgeJQhZMO1SlUiRoPWDHwB0fz2pxAMwKojJ598cty8by4wkvfLX/4y/OEPf2g36GxiZvtNLc0LZeP//M9Q4hUYv3/KCOoKe8e62CssynS8DWx/tXWLXSPEnlQllZpk7bNPs000Xot18RezXodPfGKYaTBrw0knNfrX2lcAga5Mx5DCrEsB1haXCzSFlZSLCjS1rJe87rrr4iSZiXJ2iUe/CYE6WHuqpYgAVktP5rAdWVNkXqJlccJGU4kmJg/RsjiRk3OMjYcXhJVZrEpaCBBt+N///d/hkksuiSQQHyQ+k4C21Afp1Z13Dn8xErjddttt0Iga8+ussajiLU0DuKXJKKUWc6BFeHM8fmNPP/10NP+j/fWB3/flWuKP9ITDh7+hdYT8fexjreTvN79ZZcs2rtug7vqisgh0ZDrGpQCZYGNdcnLeIQMuDzw/mPAWpRx++OGBrShFBLAoPZ1QO9H6MYsi/xWDkpsiE6riBlVpbGyMD0c0Kpio8xAwQQ4rtH5oeebMmRN9/TZomL5IAgHSenzmM5+JSaVZ3eZTn/pUJIP0W2/KUEtEPfRXvwqrv/710PTRj4bhZs6qNT/FGvP7nPSWt4RV//u/Yd1ee8VgErTCPvgTEIQrAAFMPviz53N/tdtO/m6+uc7yJ4r89aY/K3kszwUmsmxuOsanORuNDgFcvHhxtMp85zvfCTvb5AMNNYEolS7cD5cIggFZ5/0b3/hGzKda6fsW6foigEXq7QTamjVF7rHHHm250RKoWodVgKzyAGJmTEQyJmpMJCkXZuz4+TGjZwk3lnLr7yCecnurpW5oHog8fO973xvOssCOgw46qK1p119/fTjllFNiWpB3v/vd4aNG7jYoRvKGmK8gpd5IIARwlZmQOypogYn+9ghwjsF30Akhmm4maMg/JkIPIoAU9kb+IX9HHTXM1k+tC7/+9SoLOmrV/D37bE34+MeHmYm6xjROIZqEDzmkOJqmjvokhe+QC/qajdWWSHM0w1IL8dzGJIovKibkcePGRb9VJigsn8aKOOUsaMDxf4UEYmn57ne/G/bff/9ofeHeKuVBQASwPDjqKt0gwEySxLmkssiLKRLzCEEeDIrMQH2W3E1TB/VnnJipM4M0D+YN8sYNau10864QoM9YMQbf0mOPPbbtUAg9OcnwT4KMsRIOJLDUBAzpq7HIbkqdBYjYWmPBVHht1+nuDb63OLi7kzvkL7t8GVp7tENoK7OEkDp1ZDp28nfTTa3kb8aMN8y+kL5zz11jidLXRRK4994jwn77re1Ndbtrjn4vEwKYjiFdTE6wKvCepPFMiknQ/4tf/KLsBPBrX/tanOR8zJY2pKD9u+GGG+K62+ecc06ZWqbLiABKBiqOAOvgYopkdpmXaFn8pAj0gPQxKPMQTLlgoianH9F+U6ZMibP3Sjn4p4xD3usGeSeyOFsWWfAG60g74eM/dIet7oE5LluGWI7CZgvwqTOTXY1p8+ptwFxr6xX3tSA/TCDY/N6YCF1LyJ5VTNAcYiqGCFIgjbW1Q0zDN9w0RvWm+VtpWqQ3yB/HbLttS9x4v/XWLWGLLVpsvewau84bfoP8ppImApMnT44TkUr4y/EsQ+YJisqW/fbbL9x5553Zr/S+nwiIAPYTQJ3eOQLZaFlMkRMsWjJ1UyQaDsgqgxq+WEQmp1zQ0njuRLQymKhZPUIlfwigcWbSceKJJ7arPC4I2YhENHT0ebbU2Oc608asITG0EcBmmwTUm/m3PwQwe31/zyRuC0svw+bFTcdohyiLFz9oGpvdw/33Dw8XX/wXq/tQ+z9t2ml0/+LFtWbaDpY8XeTPMS3yHisGE43S3Jp8Ji+sSvkQEAEsH5a6UgYBgiXQZkBGMEWiIUi5YKLGPI2ZGhMH0bIdmbVSagNO+0Qko2FFQwRJkNYvpR7qeV0gUd/73vfiwEdy7myB5JeW0n5uscHxdTPJ1ZiZltJsAR915r8VmZUlr+5zMfPzRqZVXGsJcdesz4Ho12owH616y1FYY35hDUZK8ZF96qlnwv/+79tt+ayhRgL/bj6Gq8J99/0zEPGP6Rgt4fjxI4xAbhrfr1hRF44+elj41reUE9Bx1b4VgQ1k3P4Hpd8Jq/4hIALYP/x0dgkCborEiRxTJMtapf6nxal5yZIlsSX4V2Ud40ual8RHCAGmN5bLGzVqVDRRM7imXIgaJLcW9SSQgMhDlRDXFSbSkVx/npCb3H8Qei+YX9ECemFyhUa9tEACa9Yf13TooWHNeecF+/OVHta7z+as12g5ChvMHLcGk5xFgFKGWo5CNIwrrd4tRv68PPbYFuGqq1qDpI4+eqx9zda+XH/9QvNzfNpIYXM444z54f3vf8pcFprMdLxZlIvUnxftW6NP5UYAqwua5lJtH2NKqVaw3Pcu2vVEAIvW4xVqL6SElTEwn0Kg8hAtS53xm8Pfb+LEiXFL3USNWZ2l5jAX7rbbbm0O+xXq1rJcFoINWSXIAcx5D85ohfmMyQdSmDqJLQsYJRfBX47+dPL3kY98ZAPfJ6Ll0fSSqgUN2sKFCzcwE5dcNpjTav/J3/qLNlmOwqGWk3Co5ShsNBJYbxGafF5pOQpbStZJnTz5JevPZR32pXV1LDU1000x2RKOOGJo2HffleHAA1cYwX0lmr8hf8iCb7g1FFEuNujPAn1BfyPzTIoOOeSQtpbzORsZ3/aD3vQZARHAPkOnEx0BBi8ICVopj5ZNfRaP2ZSC31IeomUxUZO9nw0TNQ/I1E3UmDU9pxgarWx0Kd/TFsgh6UYwEUIQS6NLUyfk/h/oy54l3sj9Bw6UL1gOP1K9lBb6+eyzzw7veMc7YhqY973vfe188EqPL/tnG5AbrZ5DTaPYbH6xwyxH4Wojg+t6maNw7twRNtmqDffe+7qlKKqzVU4aLC3MkHDLLbvFKl988UrzE27NTYhc4I7hcpElhASloCFSqV4EWBnnsMMOC3vuuWeYN29edI9gon7MMcdUb6MHoWUigIMAerXcEu2NR8tC+IhKzDqrp9hOTJFo/dy8QB6r1Mkq0ZZoViHaON+XRn+mhjNyQSoTNH0UIgZJnA32/AapY0AnsprUIkS18ptHl6JJ5nu0nWi8fPBnj09p6v3VXX/QPtK6/OQnP4laZ9oJ8YMAdlYOOOCAwEa5//77OzusYt83WY7CoZYGZLjlKFxjOQrXZnIUDjMNYb1FJTfts08IRx7ZYR0efbTG0oa0kjbWCf7oR9ca+W9NWdP+hE1inyMvFLBxuWCyhhsB30ECs3KBS0He5aI9DsX+RC5MJkZnnnlmdH/AL/a3v/1tTCFWbGTK23oRwPLiWairMTvngYwpkujF1DVSkD5yV0Eq0KDde++9SQ8aRMKhHQNjkjmj9UAzknJBJgj+QcPHQxsi15MUOhzDCgO+Di5EEa2yD/5ol0lGi4xlB37e9+T6KWBGm/DvI8oXX9kLL7wwap8xbX3yk59MoYqd18G0s82WDqnGiH1TJkchJzSZVqbJtDX1tspIZ+VHPyIApMX6sMaSQtdHAtjZsdnv6W+CS9goYMhEyOXCJxo+qcjKhkzHWSTz957/RPL/i/zB2q7GIoDt4NCH3iCADxe+fsy8IYCpFgYMiB+aF4+WhVykXNyfEnKDCQTSCplKtTAwQ1RZgQQtsC/v19c6I1Oly1RhBodYQoIhABB6+hGtIAO/m4/RDqVmOiaIA7MWyZwPPPDAmFTXteWla/2m2se1RuybS3IUUtdm0/zV3X57p9U25a5pO+vDv/3b2nDllUNsdYl60+LZaiV9GH2QC/qbzQMCXC6cFBIs4KZjlwm0hsioihAQAm8g0Ie/4Bsn650Q4IGcauGBj4YAky/+Z5BVVjtIuTBQYTrF4Z9UNBMsd2LKGIPlQC3vl9XyeB+iSfOBn2CSv/3tb9FPDhLogz/kEP/CwcARcnLZZZeFL33pS7EOP/7xj/PpyG5Eu9YmeY0lOQq9H7ra/+539bbaR635MK6OBHDFihpLZF1nASC2TlwZSkdyUepSgPkYjfp9993XToNcDS4FZYBQlygoAiKABe34am82GgD85oiy3HXXXWO6lNTbjOYC8ymaVda/TD1VCuRmsJf3w8xH2ghP2A3pRyvoWkJ8VNEaZk3HEEM0qpU2HYPNpz/96XC7acc+9KEPha985SttpszUZbG0frXm41djBKp55szSn7r9PHNms2k8V1vqmlYN3LbbrjNTeH3ZCGBHFSh1KUBbjCyQlooJQzW4FHTUbn0nBHqDgAhgb9DSsckjACnBFInvHPnTdrcktqn7JhIti4kaDdbUqVNjwMRgaKt607lEUUNWqSeBNJCqFAr1cdOxm1jR/EACGfghhphjcQvgOPcZo/4Q73KYjtHifutb34qRuywl+Ctbo/ctlpg5b6XGCGy9Od6T76/O/GWhby2ZFUB62p6xY1tsWbgmy3nYmpD6S19aE97+9v5r/zAj7777RtG0fP75a9pV5/jjG8JNN9XbUnQr41JzyAV9S3/4mt48K9BeuwY5Ty4F7RqrD0KgjwiIAPYROJ2WHgI8zEnozABMkIc7jqdX09Yaoa3C1IuJmrrmIXci2OLnhwYlL8v7ETwDwWMbO7Y1MbGbjiGEJFZGW0d/eNQxJkSII9/1how/9NBD4bjjjgvscWAnuhdimccy9GtfC0N++lNz8msOOHo02Vqsngi6P+1hXWDWAu5vwYfwhBMaLW9ig21r2qp2wQVDo4bxD39oJX+d3QdC6HLhx7hcQApTdCnwemovBMqBgAhgOVDUNQYVAQZqBnACDiaYzxzEJPU8YZgp0aBBWj134qCC2IOb5215v66a1JHpGLcB1wah4UQzu2DBgjYtoWsL//n62rBk6dowdPTk0GwJjSloFM+zPHnf+MY34go4N954Y8xh1lUdUv6t1iYldTaZqkHNZmWNmbIbv/zlDpNLDz/44FD74IOhxvDbz/BaA2m01D4DUT7wgabw3/89NFxyyVAjgY3h5z+vj5+vvXZl2Gmn3pPMjuSiJy4FyEbqloaB6A/dI18IiADmq79U2xIEGKjx9YPwkU+OB3HKBY2S507EREkKnUr7ovUXD7QiaCnxUSSnH1q03mjF+nv/gTif9qCpY6NfMA8TiT1+/Pg2UvjUM8+G6/7WFP70cn14bfXasNUBnwnfuPe1cNCLt4ezT/5M7NeTbaWMz372s/ldvcL6Gs0fOf9azE+Ssuakk0IjCaoNo47KKjMRU5iI3XrrreHN5nYxUGmazQXUkmk3GvkeGmbNag6f+tQwI4OrzS1hXUdV7fV3yEVnLgXuZ1ppl4JeV1onCIEeIiAC2EOgdFhaCGCKJPUMUb5EyzJQl8N/q5KtxA8NsopmCd9Ez3lXyXv259qQVc+diKksDybq/rS39FwGf5Y19LWhr1j8XPi/158JwxtqwtCWpvDcylfCkmeWhTsXPh5Gjdg4JnYm/Q245bHUmp8fq3zUWhR64/HHh1qLqG6y9bwbLWl1yuXww5ssyGRoeO97h4ezzlpjUdatWstnn60x38NhZuKHuI6131ebVrb/Lcm6FPjV3HTcmUsB/x8mp2QhqLbJk2Ogff4QEAHMX58VvsZuimRmzjJuqftY4WxOehI2lnEj71vqJmpMmpioGdDInYjjfJEHrrVm6v39n18Mw+rrwtabNISnVywNLWsbw8qlfw+jd5oRTvrEgWHcpuuiGwJEn4HeTca+T7bPLVK+wSKUh3znO2GdaaRXmhZvnUXOWz6dYLOq5J83luEn7L13s00Ga8Kxx1rSwfUFH8Fzz11jWQDW2VrKL4Z3vnNS+MQnmux54UeUb9+R6TjrUoB7ChkJ0Pa7PPi+fLXQlYRA7xAQAewdXjp6EBFglk20LARwimkmSOmQOikh/xhaP+qZUrRsZ92I9uqZZ56J2tVRo0ZFrR+DW9HLysbm8KqZfYcNaTVuosWl1IZ1YaX5c153421hxOwJMfiIQJJsdCkBMxxfunwZE5fBlt+6m28Ow2yd3xpLk7LGlt2Kq3x4huYckD+Xyz/9qTb867+2jywm0MSDTbbaqtmI19rw0kuY+iuvoaVfsy4F1BMTucsFEyusF8gFEwPIopNDzkvdmuG4a59vBEQA891/hag9pIRoWcgfa+HmwRTJw576QqYISmEpt9Qf6mgo0Prh9I5vIsmzVVoR2LihLmyzydDw5PJVYdNh9WGC9SeyuOyVV8PLq5rD76/5afjpuffGg3FJ2GuvvWIQCIvZz549Ow7+HmCCWR33BUgCZNHNg2iEBixRufk3DjO/viG2fNtaW+Jt9TXXhBaT0zwWE1dLnl5rS+w1dlr9JUsaokJzzJjKk7/OKgHRy7oUcBwE0CeIL7zwQkxfxfcejY5MIB8DJhfcXKUwCIgAFqar89lQ0nEQ6IFDPtGyLP802FqT7pDEP5HVPNxEjeYn5YKJmnLXXXdFrSopdBTR2L7Hao2svWvXbcO3bn0yPP/KmkgC60dsFobVbhTmzdg0nHnGH8ITf3s8rjTBahNsv/jFL2JKIlYhgVBDBn3jc9ZEiHsABJyBPksIIQJlNR3bZIq8fg2f/3yoMfKx+n/+JzQdfninAR7tUUjnEyK7aFFtuPba+vDd7w41cldjyw+21wB6bZctC+Hzn9/GUsYssa8m+9dJ7Olv5AOt3wTLYMBkFznwyQKm49y5FCSBrCrREwREAHuCko4ZcAR4EBItS1JnHpKsh5u6KRITNcSPBzjmaQhr6mQVUxS5EymQE7RaRS0XXnhh+Pa3vx3QxFx//fWRwGexeNuUrUJjs61i8eDzYdnrTaG+tibsN21kmBqeDVuPnBf7/ERbKu2CCy6Ip6FJJR/gvRZcASH8zW9+E6/Pj2hXnQyyJygIEuADP64DyD8TIL7PkkL+G50VJ/MXX3xx+LhtXkhLc/x//me43Xz7xi1eHJre+c6wxurZYhHPeSumXDeyt5E9G2rt/9VipIkkzy1tK41k22McN3zwg8PDMccsC7vs8kr2pyTf87xgwshGInsKE0o3HSMfWBV41qToUpAkqKpUpwiIAHYKjX4YLASY8WKKJBCBlBwMaimTPwZkSMPDDz8cB2q0NixNljL5w0TNaikQbNK6gLlHuw5Wvw/mfSFr//Vf/2VpRD4VPvaxj7WZbKnTJZdcEv7HNGWYbgmI+fLZ54SJ03cPGzfUhy1GDLHBeEx40PLgff3rX4+Jnz/84Q/HvmedWfw+2byQSmfRokWRFLL/5je/GUkfskKKHSeFmJA5j8HfSSFuEEwwkDdMh9TZiaH/P4yThjAkWCLkX4ZDzzknEvolRkJvev/7w1/Mt2+o+SOu+tGPwtqDDsqd1s8xXL68xiLoWfGnNpK/I45otPyLawxzP6J1D08+5phhYZ99msPBB79qxKn973n5hDaeiVl2csaz0eUi61LggSW+l+k4L708OPUUARwc3HXXDhCA6D3xxBMxqTOkBFMkWhBmv6kWHsQQP8zUkAMI68KFC1OtbqwX5nT8jnA6R7PKHiJY5MKqD5Ctd73rXZEQo2WhXHXVVZZg+OTwNcuNR57JH/zgB+F9h74n3HPPPTYgt64qAvkiuvvAAw8M3//+9yOZZhLQUSGwZv/9948bvyPzrKziZmP2P/vZzyIBxYWAtDJOCtnzmVx7Rx99dLzGvvvuGzXkw4fWh4mv3Ru2e+r3IRw+Ipy9uiHc/N2Tw5v3/nCwvCjhQtMYNdl6xK9btK8tO9NR1ZL/DkL3s5/VW38MMwLcqgX9zGfWhDPPbNyA/NGYhQvrwtVX15vmj7WHx5o2dZtw+eW1pplvdXlIvsFdVBCzMRvyREGOsqbjAXMp6KKO+il9BEQA0++jQtQQUySkBO0GTvOpa6OoJ9GdaGQw5+1tjvSuhUm1wzAnEnyAJolUNORORPMEiS16YQClQIazhTV90egdjp+cFVb7+OMf/xiJ3umnnx6/8xc/F+1qTwuBQUS0s33wgx+Mp+Eb+MADD7SRwquvvjpqIPmRdDxMjjALQzbZIK2nv3XjMOa1e0LLGkuDYtxo5+0bwuSXfh22+NyVYURtXVhmq3MMOeCA2N89rVtKxz39dE04/vhh4cYb68O//3uT9UF9+Nzn1oTTTuuY/FH3efOaLY3Ra7EZaOgh9dOnlyERYErArK8LcsSkg2377beP32a1x125FDDRSNlakSDcVVMlEcCq6cp8NoTBEg0Imr6JEyfGLS/RsgzUu5pPlc/CU+4BTI+Y1fEbmj9//gb+bSnXfSDqhkmV4iSO9xBmiNgJJ5zAx7by1re+Ndx9991tn/2Nn4t/Vn+KBw+R49ILZj7XEt50000xp6TfZ/HN14bVWwwxE++QsPkmI8N44/NbLG8KNUNawt/3Gh4ePuOSsKZheKi9/fa2HHRc6xwzETORYeUSJ7h+v1T2cOlLLhkSzjijwSaFLbbU20rTfBJhXxumTl3XoeYvlboPdj0wHbPGuK+JTl9nTcfuUuDk0d0JMB+nPpkdbGyr5f4igNXSkzlsxzILz0Prx8MGU2RnZrNUmoaWCFMpvnPMsnHcTz1aFmJDOhpMnFOnTo311my/vUQxCbnyyisDPnto17yglea3UoLPZzRKpcVT/WA2PuaYY8qqVUHz904L3GDD7IvWz8ukzS3HXcOQ8LeXGsPrrzwXxvPDylVhqSkz11nS47223zTU7jwvmqbxG+N/h7/jmZb3D3KA3yOyjEaYCUIqE7BHHqkNxx03zMztdeGjH200EmjR1+tXepw2Lf9mXO+/gdrzv0fG2cimQHHTMbKObDBRZGKLeRkiyO+44HBOWaPR+9Dos846K1x33XVxUsaYgVZTpX8IiAD2Dz+d3QcE0KxgOmUNzawpsg+XGrBTeDhCViEE+GJlHbIHrBK9uBGzfWb4rOHLII+JWg7hGwJ45513RlLF4PgdWwkDAtRdAduOSDSD6ldtDV0igU899dQ4UGUJZXfX7envDMZELDNAY+bbcuVjYauXfhEath4WXnv59fCy+aOutf/YyGF1obbRlkV72wFh3ZbbhREmt1vZ9rqZ/ObOmGGBEQfHQX+fffYJv//972PuQuSbiZgHEbDnfh21t6f17e1xKFC//vWh4fzz8a1sCb/73Upb8afnZvXe3q/Ix7v2Lzv55vnsASYk3cdCQ6aA0047LU4imYwwCcZHe2DlojEceuihUVmA64NK/xEQAew/hrpCLxDAlIVGigcOCZ0ZXFIuDIiPP/54IB/XBMvTRVLnwZ4Jd4cXM3jMvUT27rLLLm2z/e7OK+Lvs2bNCrfddluMxj3FEiNDipwoYxKjr9GKZAuDYqlWkN/Ropxxxhmmrfpo3AgIqkRB+/H2t7+9LU1IaG4Kw37917DZi+bfWbtZuMfqt+esXSzK9/VwzwubhO+P+Gv4xn/8Rxhi6V8azOy7p8nHz43wmioxbGyE8H32+TkjjXuba8Aq0xj74I/PHDKEljtLCHnv5u5yt++++1q1fiR2/uxnG8NJJzWaNqrcd9H1ukKAvmWdcjZkgP8Iz0Gi4wlwQyPIsxtXBfy1mVzy36l04b9FufTSS+NeL/1HQASw/xjqCj1AAFMk0bJEoGKKJMfVQM4ee1DFDQ6hrhApSAARoAx8KRc0U5iombFDPogYrdRAnTIOvakbExBI8vHHH2/+ZT+P+JGOhQJ2YIjPHRG+Xm625dPe8Y53+Me2PdpWSCA+g+6I3/ZjJd/UWSqaN58cXr3qM2HVCw+FOVO2CRvVN4XmUXuEsQeeEK747r+E3ew/d5iZ0ExlGG6xXIcrbrghvNdWM6mzAf2dVu8ak50WG1hHmCl4cyOFzbats22tkQBIoJNCtPb4kTH4Z0lhTzSnXUFgqTPDV77SEC66aEhcu/fWW/GvlZm3K8wG6jee0wTlQQDf8573hCuuuCK6QPCswRe2I3eIgaqb7tM/BEQA+4efzu4GAUgJa14yOJIbj5mja1i6OXXQfsashokaEyrLeuEblYpfVGegMCvHRI35Bn8uZu8qPUfACUxpRPRxxx0XPv7xj0dM0Xb88Ic/jNHfRx555AYX96AMInTLXYaYyXeoEbca8z1ssOXbTK3b7haLnlkZ3nPWg+Hbn39/GPvWeWHNpmNC8/Z7hc0W3BVeNFL6nK33W2dy3XzEEWG4TWa+ZwP3wXY9ymlGft9ueebeZvWuteCQIZYnsMFM2ZR1lt5mIyOCI9cTwmbTBjXahMgJIb6lpBzBV8wxREOK2wF+ZO0meR5pTYLqiz8er8/LrRc8GD59xnbhH0PGRT+/Y4+1JNsamdrwSfENWmhyVbKp5BcB/c3y23fJ1zxrisxTtCyaSjQceYiWZeBlAGaDqEJYUzdRpyi4jhl4Zsu73/3uqLUm/QvuCzvvvHMMGCHvX2nBTEbxa5X+3ufPlvC5wYI2Gi1Yo8m0MGvWB6DULVgQhloi6VqLVN7H6vbUT34S1lqQiHn9tZVmSya9yvy3trEk1UO+9KXw2kc+En23kHEmOLhiXHvLLeEzltqm0ScNNmmrMdNfnZFBNkhhgwWM1Jjmr8WY2TrTmG5i/l/bQgqNADSbP+FK+w2n/BZLOl1j2sVFNtFrMa0RZvSNN9k4PLXuqXD78sfCqPfUhoeeuCJMevFdYWXdtuHUT64MP77uzWGfHZ60nH2rO1zNo60xelN1CJx++unRbaKrhrGSDn7XKuVHQASw/JgW/opo/fCZw1EYU28eTJFob/BNRHuRl2hZBly0fmhZWDWCwValbwiQyxEcSfCMvGbLUUcdFdi6K5jD0P5lHeq7O6cnv9eYlq3GtHdrLfK3hShl+xyL2U2bjYyR4Hm4bR0W09S0GFldaybsoTjO49NnpO/ss8+OZmwIL+bvdhpjwyGew3nmOxiLaZZrcYdYTwrrLKVMvJ79CNEbYZpBTMdD7ZgdLKBkspmTX7cE1P+w838wbHG45+V7wsrGdWEzS0tzxew14Y+Xnhpu+d73jMwOC99584/CB687xPBvTe7cYTv0ZVUigIb9fe97X5dtm2C+1yqVQUAEsDK4FvaqWVMkUWKegypVQCCr+DVB/qgrJmpMVykXTNT4+eGgTVCKpx9Juc6sUsCEANOR5xtLqb64JZC65aSTTgpf/OIXY7qJngYoEUmMjyCyxPllL66VNJ/EbGneb7/A1qPi567XUh5gSaHZelzs/HVGjNnQQsZiE5A6CyypMw0NxHCorZIy0VLMUNZZNPVGv/pVeGXxteHho3YIW2+5TWgePiH8458NYenGm4anR7wapu38P+Eb2y4MK04/wQKtHmvzKaQv2pmO4xX1Uo0I4BbEpjI4CIgADg7uVXdXBj9MSkRM5sUUSZ1ZjxV/punTp8dVFlLvGIJpFpjpD5JKomD3u0q13mDsSaiJnMVH0ZepggzyO87kHlBQdvNpL4DBzPslM5Pi10a9mMz0pBAludiIEO3rKWnsyXX9mBrr81icxPkPvdmvP7fGNN1l07OZ5q/ZkmKzUZptYvI3M1XvahrAWqI6jLguntwQmtY1htEPPx5eDORt2yu8tnKzMLrhibDnHj8Po4+5Ngxfn3YEqwEBJ3OsH0aa2fp181V82bSWaFRTz7cZAdBLRRFgsQAC89jjbkGSdgpuL6k/BysKTD8uLgLYD/B0aisCrIOLvx9/yrxEyxKYQkHbQBqD1KNlMVFDsCElrDlMfrnUtSRExFLfVebDhg8P5lGIFfVGiwnRwheN49BmQg45xskgmkJ8MQeynQwkbNSnpwXSx6SnIsX+U/WWpLrF7rEuk6S6t/daZxG/LbZcWL0lqW4yTaeB2ttLdH+8XXOlBadglqafiTheO8nI9LBXrf51YeM1q0K90c+162rCCy3bhmteHxcePGpM2GtOi8lHs/kmNpt2uDmsMXn5u8nGxlZX5INJj8uFa4/5PJBy0X3jdUSlESAP4WWXXdZ2GyZeFKLySY6u0nsERAB7j5nOWI8AgzgPaMgUM3R851JPlYKGAb85j/acYQ7sKRcGUtIsgLPn5+ooACGlNjARwNyLZg8tHzN00kgwkNMetHzIC4M5gzgBQnzP72hjIYSY5Vm3mN+dELLnHK5ZhFJnpuXhFtQBWVttSaqNmfa52S1GzNZYZG+DJalusCTVr5v2JPoT9vmKHZ+4zMjfa0YwvY8mv3BPqH3wa+HVHYzM148Ib338r2H1P14IT227XRh328qw9Llnw8UX7xBeeqmVkO644zojg+8Os7f4a5i37kmLMp1vsvGGXBCIg/sDBc2gywT71LMLdIyYvu0pApeaXymbSvkQEAEsH5aFuxIEECKFKRJ1fMoz8my0LASKPG34bqVcwBbih4YVrR8EKfXlj1hmjNyJkFWW96P+yAWkkD5g4z3fIT8QP74jzQ5mbTZPssz3+A46KSQhd3aZKieGEIHBNB1XSoZIubLSklQT6dtgiXbXWpJqYzl9u52R6gZLpNtkSarZWiqUpLq0crtvvXuYM2pOWPjPheHlpU+H2teWhrXTtgu7bjMtnDp3RNj64X3Da48+EB5/eqitdVzXtl390LTQtNYI6/YtNkEYYaRwU9tGR03hzJnrTA7ekAt3KYAAukz4vhrlohRjfRYCfUVABLCvyOm8OFiTcy71gkaJpYwo5HJDGwWRSLVAip599tmYixAyhIkajcqT5iOVasF8W7q8H3WlLRBZSB+DMUSP7zgeMytEESJIgRSyec5F9pA7Nk+szLGegw5ijJaR7zDb+qDPfqBNx7EB5X7B7GsatUaL0t3IklTXWlvXrU9S3dtb1ZLs2f4HjZakusUmP+UsF144JHz720NNU81yeu1X9qmvrQ/Hzjg2zLohhEULLgmr/uXNRuhsPePt9w2LVgwN73rmrDBmyspw4un14fDDmywitFUWmv64IDz8tZvCgnecGUnh9dfXW5LoVs3vyJHrzFw8wrSDW0ZCuPvuzdb/a6O7Af/1jlwKaC8yiOwhY6XF5hp2vREWGb3W1ki2tejWlxtvrAvvfe/w8P/+3+pwyCHZBDt+hPZCIL8IiADmt+9U824QgBhgisRpOE/Rspio8ZvbbbfdAulJUi9uooaEee5EBloGXMgYmju0NLzHhEvBxIvvHJHimIM5ns21hN5mSGCWGHIs0doeXc45EEwnhbgjQEQ5L0sIee9mSb92XvYtbvq1drYr5s5Qa7h6qbEJQq3l4WuxpM6l5l2CPygt5jtXzmJiGv7rvxrCpz7VGI44YrWZZ+0LKxdcMDRce229fTbNrq1KMv/VWeHM408LOxzyRsqPORY78vDR54ev/3RcOOWLHwgf/nCT9XVr7YYNXRfmbPnXsNsnm+wLNrLf1BgZrG3TEn7rW0NNI956wuTJrNG9sW2jIimcPRuN8xvL2uFv+thjNaZNX2A5tNv7mSIXJi62ggtLzw2LS9AZhDZprDVSOtzat0bkL/aAXqoNARHAautRtScigCkSIoVZKA/RshAfNHyQJbRdToxS7k5M0qTPAWtf3o/6Ooljz7JqO+20UzTlchyaTcitlyeeeKKNGELSIHt+fpYU+vFOBn0P0YNIsm2zfnUMzs8uX0YUspuOPYiAe6FZ5Pzki2lOY0FNlSl1998fRmSWpBtm6WsoTR/4QFjNahvZYmQ8Fr9W9rd+vIeUrV1bE971rrUWmNRiRL/1YnfcUWcrqDTaCirr7PdgWrX9wzuvqA33nPi6BXS0HoMr5+jzjwv/vn9duPjgGlIUWp90XpmRI1vCv/97c9w4Cjgee6w23HtvKylctKjOlimrj/UZPrzFJlCYjjeLhHDChBdMS7m5TQY3DQcdtMI0fc9Y7sP2LgXz5m1q1oEppmlEG9kcDj10uGn/msKnP91KQDuvmX4RAvlEQAQwn/2mWneCAKZFlp3DWRzygb8fZCHlgvYKsorGjGjZLVA/JFwgZkQkgzMJhH15P753MxvVd+0d7yFkEFzM77QRTR6mOtqOXyOmXPoOLSIkzYkaxI7+8+tC7rgPey9ZMsh3We2fH8O1XUtIKgnq4qZjvxek0O/n56WwbzEtcIthUGdJqsnD56XZXANeNfx6UuosSXXU/nXFsHpyoZJjvBvMkt+uXHPNGySfHy66aHWYOHFj8xWuMy3xejK6/gw/1znqcPN1rH3wwVBjbhobWWDZKlv6bp1piksL3H3yZCYZ68IHP9hqnmVu8eCD+BK2kkK0kGgKQ5hgMrXG/EtbwjXXbBEuv3xLmxiutQTfq01+l9mk5BWTjxVGDv9sRHGKrQvdbFaDV0wr+E+bvFSJS0EpgPpceAREAAsvAtUDAKQPjRSaHUgJg3nKBVLj0bIkc8ZMnbpGCk0aQR4Qul3MPw2tmxMyJ2dOyMAe8yx9AvkikAWfRifkkEdfgYJrcKz7cGHK5Twnc04K2bvJ2O/H3jfvbyef3Iv3HkGdvR+aSCeFaCZJWcO1IYLUB4IIceTcQS0NlkvPImsbLMl0g2n5Gi6/fIO1gDurX4wktiTV1qDQWIEk1WvWtE6uuoPIuH4sW2yxYRZCP7exkWu1hFW//GVnzen2e/7yc+eSjgqS2aq5wzfxj398JfzsZ3WWsWCk9WnrZe68s84CwTY214CNwqxZzeGGG1aF/+//azF/vyHW5y3hnHMeM7/GFfYfbXUpWLVqZDj33Okmo0PtnNrwhS80yTTcbY/ogJQREAFMuXdUtx4h4CQDzQ4kY7RFODrJ6NEFBuEg6orWz6NlIa0pFwgRWjpScICvL++XJX/U38kf30OqOB6SiBm+KyLFeRB2tm233TZCAamDaDopxNcwa8p1Ugh2nO8kkHt7vRxTr5fvIYUEirBl7wcJhBQymSAC+XZb8ow6QQpdU4iWkvMHsqyx5MhrLEk1y8KtseUKe1qIJH7dklS3GPG2hvT0tB4dh8buyivr7bItZv59QyNberJ1h62uMsyiwtfaWsobHrfDDkSBt4Srrqq31Vje8AMsvU5fP2+zTUt429tWGgHcxGS4NpqkW6/VSl4hnkQg06Wf/3wrRi+/PMQ0iztaoFurSwNy+PjjK8NnPvOEycvzpgFfGz73ubdYu/9s8t0agJQbl4K+Aqnzqg4BEcCq69LiNMhJBk7/BEt4tGzKCKBVor6YUMmPN2HChOTJKqQIsoo2jKhvtGhgnzXLusYN7CFOpH+BmBPI4lq33vYL14R4sZH4muKmXEghJBofQjBl8HWCxt6X84MUOhn0vdcDMuj1Zs/mpJJjiDLGt9G1hAQSEMzCNbNRx34/rlfRYsQzBoRYvXpcjPS1VCBJNdqzd74T83ywyN/VhgdRth3X6nOfazCtca1p2DqOvIegffWra8KJJzaEU09tMDPx69GfsOOr9f3b00572NwPRsQLWBfG+uKfyIZW8MtfHmp1rDNt4UrzaRwefvSjIebHaGsgr5fDWbM2NU0hp0+IcnjOObW238TkcFmuXAr6jqDOrDYERACrrUcL0h40QZAS9iQS9txxKTffl0RjFQOPlk25vhAdglIgWdnl/Zz88XuWRPEZ3zqOHzNmTCSL5c7D1pkp1/0J0TpCPrmvkznX3mVNx9TV25HtAyeE/EYhQjS7XinfYzr2+5HKBlO1m479XhDSrjSe2Xvm8T0m09sskfM3vzk0nHJKQzj44LWGwYYtgdSRwuX661dacNOG5l/OwDx8xhkN4aMfbYrb6NEdH7fh1fv+jXG6qPFz8/Nllw2JvoK//vXKMGPGuvBJiz6mbUccgQvAhvdZsqTBzq8zreYY+3FMlKWuXAp8IsO+muViQ6T0TcoIdPCXTbm6qlvREWDgxhSJ79x2220XSQaDb8rFo2XRIKFRIsq34tqifgJCYAYEm3rOmTMnkiknTE6enCxxKwgRxItjCPKAfA1EoX5uysU0TaF+aC2dpJFyhsEZU66TQvaQND/e2+Rt5Hzeo3HkHr7R5tL7oQl1UzXaQu6H9pPjfODnfhB/zq+GgjV5l13WheOPb7SAiY2iaXXHHd9QAcKfIX+/+U19uO66lWHChM5J3SOP1Fpf1cQ0LJ2RxEpi9vvf15k5tyH84AerLU9oq4n66KMbw4UXDjWzcX047LDWABOvgwWzh6OPHmaE8Y20PFk5zLoUZOUCtwKXQ58osEfOVITAYCCQ9sg5GIjonskiwOAKKcHkR5oUzwWXaoV5sHu0LHUlMMVNk6nWGWzx20OTNnHixEBwCoMbBMk3Pjv5g/ygJUQTNsHM2Rw/2CSH+zvRc5xZSxn5gRS6KZe2Zgka53Ac0c38hj8phX6k7V6y7edeWW2jH5O931Lz2QMjrgPp9HuyRx64Xl7Lxhu3khfju+3KCSc0mH/gkPDTn66yNoeYJJoDNt20ZQNXxNbgj2AEeeCJ0P33t+b6O/PMNTGVjTfCuiamsfna1xrCBz6w1vq49RfLfGQRx8MjWZ0z5w2Z8POye2TD+9q/d7lAFrNyiFzyG8cjh3mXC2+v9mkjIAKYdv+odoYAAyfrwmJehGQQLVtu02K5geZhvmjRoqiJmj59elugQbnvU87rMSAR4YumjGXc8HMDe/f1414Mak5Y8MFD64eZFC0hx6daOjLl4j7gpJBk4byneCAKbUfO2HjvBNgxybbVcXFy2NX9uA9abHwlMQc6SfB96hrtbLudGGX4cfz5+99vXbXjgANafe78nIsuWtWWssW/c99Bv5Z/PxD7WbPWmcbWEhB2UE49tdF8Et9YFcREwIJUhoV99mkO739/e61gB6d3+FVHcvGQJe9GfpCroroUdAiWvqw4AiKAFYdYN+gPAphM0KBgPps7d24cLPtzvUqfy0Mcky9aJEzUBEGk7vODmZPCes5TpkxpC7hwwsPeCQ7HcTxaQkxaBLIQoOGkkN/zUKgvMsUG4YPMQmDxdUT7h0bGTXaYcl2jyJ5zON/xoc/Z+OyF39nAjcLe7+emaoi1Rx1zP1LfIDsc52SQPZ/9On79VPZbb83Sai3hnnvqzHdufX4Vq9wrr7za4yrefXedtRHtaI9PGZQDFy6sC1dfXR9N39dd1zp0fu97q8P06W/0e28rhoxA+OnjCTa5pbhLgU9OiuBSEBuulwFHQARwwCHXDXuCAIMwWj9MkQzMkL9UB0FvD/4+mKjR/mEKZQWMlAukBZKDFo/iuRP5vjOtH4EsnmsRLSHkKa8FGcOXFOKFVpmk4aUyRl9CzthoO8dD9Dzq2Ikhmh0KvzkZZM89vDgh9D2aRRJjs3mBADLws5H2hvtxnSwhzBJNP2+w9g0NaMWabAm1Bkv10mBJlHsuD0QSH3igRSmbZu2kk97QtA1WW7q777x5zSYHHWsL///27jzonqK6H//4q28qiSaVqIkpl8gnbokLIEYQRRQEI1hRQKNQKgqCUVlkEUUWAREFFEUBRRAFFQ2yKKIoakSRVfZFTaUqGqwyJFYs80f2qqS+389rkvP59We8+3PvnZn7nK6aZ+5zZ+5097t7+rz7nNOnx/12muv6RfSrWP2uHwYhHOZS4Dd2PtK/MiUCkyCQBHASlPKepSJA0CIlNC80MoRiUzAvtUBjMiOQhQdxIBFBEMb8rNXLFikw9yI2tHhIHeGh7HHAPIRJaDWFRrHDSh9iLY4CmLlbncPcra8NSoidEEOxJzMyxnQcpJBbAuIfptwQ3AjbLKZjbdDMj6k4SGHk5ztb6wUxREjbMh2ffvp/Vu98539uJMj/d6OvY8MZcBCo//udlcR33vmv9e4cPZ5HjKjh/C4NMh2HC4O+sSouBfNDLJ80CQJJACdBKe9ZCgJmuYSyGS5TpFAiQoogH11Ng1bL3nzzzV0tbq1N4mdEuyp0Dq0fwgd3ZwRHCvLnfwtZ3C+en4DOoe3qbCVHFEwfE4cRAaShnXZFNkIcplwmfilMuUEKaRQRbPcFIXRGNuEa2lXYOuAeyfMdMeFxpgF3RH53bgzsjPBpB8Jfe6qXe4IQOss/CHw8f1HnjVlvrJ8wQJMv5ED6tthi8vsXVfY+Prfsh6vkUtDHtuhzmZMA9rn1VqTshCA/FyTEPrh9Wi1L+DIfdmH167juQGvERM2vkm8iTRPskRXpno37rwZhQSCCkPudhSx9iLU4DAP1ZO5G/phcma/ntSJ7mCk3CCFTLgKtDHANjJ3DPzTIt3McUZcghOUZuQtC6D5tGFpC9ZSf+8NUHcSQhjHTaiIwrB9GvwiXArXXL6JPOM/rXVhNZFe3VkkAV7dte1EzZIS5l7BEMmwbRnB1OcVqWcKURozmpcsJobh/o6lSKBIaLyF0mAsREtoon8Xuo80MjVJoXRGNDRud05lI3d/1thnUDsiRyYW6NfcjHnT/PL7TNxDmIM2wQ6SDFHIXYDqmxSsJIWFM6xdt4xyfo1zaTJs6BykkwB2Rn+vyC+EvP/8rl/xC+CMCiEOm1URAe0/iUhD9sOwXbbkUrGZLdLNWSQC72S4rXypCTegNmgqBU2n9um5atPrV6l4aFn5w/P26TogQAFo/ZAHJo2ENQoEk+Ixw+N5hVSpCrl40TO6JxQ86JQFREhYCpqtJ3abZj3iR9YBnmHKRcEmbaJ8ghbTJiHeYcgNn5Nvv+XxZfe3sHr+P5LqjNB0jd47Iz4KUIITIvvdPnw5TdQj/yC+enefVQaDsh6FB1i9iNbr+UboU6GNccqQ2F3zdv3EC++53v7u69tpr6/FX2V/zmtds3IXmuM7LjS73niSAXW6dFS1brJYl7LbZuLmmrba6nBAJ5hPEiFCO1bJdLrOB2wpSzuHM08zUpWYJsQvC4Ox/WiL3I7aCQJeaIddLDZZn+5/WqSSFPpe/awsjZdNetH9r2Y94keWHUxDvyCdMuUhhmHJdQ7Rpy+GLyCNt+qV2cZSf41ll+2p7Gh0BySOAut9EfgQ/X08mcveGiTC0hV2fnEWd8zw9AvrFsH5ooRiLh36x//77136zJuxXX3119YIXvKBeDDZ9jtP/wsRbPz/vvPPqRWsmtW94wxvqMeiMM86Y/oH5ixqBJIDZEZaGgBfYog6mSOENOOF33cxAQCISVr8yH/Zh9auYdgZI/mV83Qhzwt5M39lByCMIEm2QOvpu2223rUlGs1MEKfAsi3Ok0CghK56BPNIoNTVYyErk1XzuvP/Xx5QDmV3UfsTzLnP5vKYpF5HVlrR+hDS/zFtuuWWTKTe0hIhhEPkghNp5kJbQfQ5tSqvj4Hoh+W0QfaQQ0Zd3EP0g+9q4C0S/xC4/zw+B6IeIl3HP/1deeWV13XXXVWeddVZ1yimnbNwib9/6HUMEL7roovllPuBJu+22W+WIZIKKlJ577rlVEsBAZfpzEsDpMctfzIAAkkCQEUrbbbfdZrHPZnjcwn+inMyHBhk+NDvuuGPnTQ3IF5M6TQ5yLYSORKjHEYLfGYEj4K1aNaC6HymYNI3SKGnv2AbPM4M4BGFZhEZJnoistlvmfsST4jXNferARGuyZNLxjGc8Y9OCkWHEO0y5gTFip52RQM8LYugcyfXoE74riX7co18xEcLXRAjBVoYg+tG2i2jTKEOe20XAu263H9EZkD99QF+5/fbb63GyjdLpj6HNbiP/VcgzCeAqtGKH60D48FsizJAMxzQko42q0YAwfdB8bLXVVpsc69soy6R58tNTZkJ5hx122LRoI4S/58CdsJfKOHiCbCMPa02ePUijxORvsHYoJ3xpFIKoONMszqpRUkdEie/Sho0LVvqwInsU1uGHiWRxkaD5K9Mg4s2dIjAeRLyDpNEKl2QwPpekMPpJEEO/GWQ6lh8toQlEmI6VEzlQZu0aq5zL8ufn1UBAn6L9ayN5388+++zqAx/4QBvZr0yeSQBXpim7VxGBamn9+C/1ZbUs4UUrxnGe1qXrJmqC3wpXhO6P/uiPNjn8h8bPOQS6HsKESEvIsXuWOHjT9jJ5ExSO2NWARglxQCCYq7kFhEapJIWTLEbo037E47DTVqP8MIf9HlELk11pyg3iHabcYcTb76O/IIRBCiM/18tDmwbR5w8m+b32vOuuu2q/QpM+Povui/Z3RvT9PlMiAIGTTjqpete73jUSjNtuu63W6MdNJjjMwa94xSuqAw88ML7O8wwIJAGcAbT8yWgECHgaAbH9whRJgHQ5EZLIKm1SrJbtcnkJ6dD00M4wUSPavh+k9fP9ouLgTYsTrZCg0g5J2fhahgaL6R2pRRSCECIPPoeZUR/r+37EJW6lHyYXCURpLakk3vGcJvG2stJ3tMaBszMy6X2NfoTcaVHfN2sAAEAASURBVCPnSEEIg8xFfq4zE2qnyM+7FUTfM9WtJIVhqo5n53n9IHDIIYdU++yzz8gKb9io1Y9kzNt5551r3+bzzz8/vs7zjAgkAZwRuPzZYASQDMLbIN+X1bLMCYShgcZq2VlNkYMRmf+3TNPMvTQ8T3va02oH/hDQockhkIN0I1cRB4+WsGuxFpVzkEYp/M4QCP1Kvd2H6LrGbM0vaR7m6/m30mRPpPkMP8xh+xFP9qTxd01LvIN0I4U04dHH4hx9rZlzEMVB+dEKak8Hk70+7NklIfQ5TcdNVFfzfxEgJo0CwdUA+RPH9MILL0xN8hy6RBLAOYCYj/gfE1AEm0UyxGkKAtJVfAiym266qSZ8/OAIni4n5UWCbrzxxnphwNOf/vRaUJYCWfmD/PmeNg3BsJDFiuDQoHW5nlGH0EpFWZEFizyQB+ZhZMK2eyYbca9zXzRKi/DDDKwmOY8i3jCmkRX+KIh3YBxkTR5BAhFZkyh9T7/jauD55eGadnOE6ZhGULsGKWQ1MGFxT+TjTEvp95nWJwI0fzvttFMdosqq34hNCI3oS+sTmbXVOgng2vBb97822JuZ8S/i+E3rR0PT5URYMR9KQoVMu/q1jbrRePFPZFbjm8h8WhI/gjiIn/JpD2SJMN1yyy0nnmW3UbdxeaonAcB3Ub0RX0TW90hgmI4tNIITjRKygjgEaemSRmnZfpjj8C2v60OBWemzGRjz6zXR8w4F8aYxR9y0CfeJcEXQJ6OPRh4IYfRTZ7+N/OIe+AQhRJLl51lN03GYquN3eV5dBL7xjW/UE1mT2QhDFbXVxzLNhkASwNlwy19tRAC5uOOOO+oZPK2L1ZddJ39WoSJGUU5l7nIi+AhAhz1skZsgf7QnrpdC1f+IovsNlFaR+k1fE+0T8zVC29yPWL1DoyRUiqT+YTpGWhATJNF9QTQQQ2QCAVlmIqi64oc5Tb2R59JUF8SbXx/SrW20Bey5UwTOzghekEDXfdZvyxSEMPoxItnMTz8IUijPMB3Lo9QU9rmvl5jk580R2G+//SpHpvki0F/JMF8c8mkzIBCaFhqZW2+9dYYnLO8ntAqIBNMBEzVt5Q033LC8AsyQk4UBFqYQjHzdxGBzBPEjTEN4ejwBidwStPxkEMa+JnUj6BEK5E44nkm0ePAIAhJ11/ahwdL+tAgwCg1W3L9IjVLph7ms/Yij/vM+648ImLaBoUmGCdUo4h3aWPdL8A9CGAQxyun55aFN+Xk6guh7B+QXpJCGuDQdBzH0G7/PlAgkAr+MQBLAX8Ykv5kQAQTQnrhdToQLLRDyZ7UsEzVBT6PQ1RQmak7yFgbQUhKINC6EHGLIJ4p2xfeEIWG8inHwTC7WGuyVRokPpEPSJ7R/kEK+awgNghlEJQjEJKRzVD+SV1f2Ix5VzkmvCTtkdwgTEe8+QqYPSkGk41lBvJE0plx9tCTesDZJ0T5SEMLyHM+SR0x2nPV9vy0nOcoWhDD2r4Y/0mms4j7h/UFWo8zx/DwnAusRgSSA67HV10mdmf6sliUUmA/74CxMUCozkhqxEwkxJI/AJNjuvPPOmsT4nzAjjJ3nET6kza5B8DNdM2EP2o94XmUj/EOjZLGSFBqlIIX8WpEF9wUZdJ5mMULph9nV/YgnxVQfLP0w9c0gbsOeMYp4eydpePX1sCQEgdSvZzEdeweaRF8byMtiFgTRoi/lkodDnkEQh9Ujv08EVhWBJICr2rLruF6EFeFi0QDSJ0beWjU5i4aTtoRmhaASRy0c8JGiOAgsTvbqh6hYyIIQEmjMYYhhCFFn9xOufUhlHLxh+xEvsh7DNEpwRiBCo6QtgjgExk3TsXtW1Q9T2KHQpE7bHtMS7xJnPpw0f4i6/h8HrCN5viNMvs4Ie2jL/Za5WnvGgegjhoi+/CJP/3tWpkRglRHoh3RY5RbIus0VAaY8fnMGdYP9pDGm5lqIKR5GkCF9fPcQioid6PsQdh5HmIVA4sfGpE2w2fbNAhz3EmqhwWIOhoF7gqg4+z+eM0UxF3Yrc3fEwZtlP+KFFWzjg2mUHvGIR2zaClCb0CgFxnYwCdMxbB0IN+ylVduPeFI/zLryE/4ZRryjLzeJdxA0WIcGEgnUNs5xRPZBCF2X5Mf/1xHJexL5eRf1R4lmMPJz1h8yJQKrhEASwFVqzXVcFwM/gczPiPnwCU94Que1X0yMiB8TroUB4eAeQsy5JH4EFS0hX0BawtL/apBg8/zQYFl9SiMqhVAjRH2mwWojtR0Hb9o6IxMItMNWgVIQbxpMJtLwLaVB4vtHMwvnrhHvcXVXbn0TQZ+HH+a4/Mrro0y5+vP9hc8mbOPQl70v5eTJZ3XwO4mmPd6pIIfj8uOWgPi7Tx7l4b3LlAj0FYEkgH1tuSz3JgQM7vfdd1/9Pz+40jF8000d+kAoIQe2y2NOY6KmzSgFl+KGoPK9hSzuFwKG/9Uk2gjEzlHuD1tqsJBlGizPCiHqTMAtUrARwsvcj3iRTQ8n7cOUqA0F26YFDI3SIOINXzi3RbxH4WHSsQw/zFFlaF4riXfpsxkYe/+9T6XPZvRnbWPSZPJk0hQEUT0jeX6QQd+5J4h+5IdEIsXyctDyWlRSmo61a5qOA9U89wGBJIB9aKUs40AEwnzI34/50GHw7nJCwDi+0xRZGIAAElLDtH4WstDE+F0zDt609YQNs5YjgqnCMAQpLVYEmyYAg6gQpvMQbOrJxEYgI+nIUhdJ0KS4IgDD9iNWL+ZjSb0RbcQB1ghWG8R7XL3a9sMcV77y+iCNN5IXBA3x1s9gb4KjLXx2xGTLO+f/8t2LPIIQxhmpL03HfhemY21qgmZS437vTRzenTBVx7PznAh0BYEkgF1piSzHVAjYkYCvn8E9VstO9YAl30zI3L/RdEXrxnxoNw9ChSAZ5Ovn+4iDZyHLIvyvQKAMwqxEqJUQbCFImTUJUuQxCGGcJ9FCBsy0M/wWCcsu7kcc5Zz0zDdNfZBpRJYf5rCEFATxjntK4g3rIN6Idmiv5kW8I89h55hI0WJ2zQ9zWJkHfR9Ez5l7gTZRH+8ejAcR7yBq+nf5LsbnyEcblof7kfyS6MvHRC0mVN51Ez33RD7O+sIiNexR5jwnAuMQSAI4DqG83ikEaF0QEjN8ccj4+xmYu5wIBGQV0bMwgCYhBAyh4TOBEvWgHaL1Yypdtv+VMoRgK03HpQaLkzxB576SrAwSbOrGPOc3tJ192o94UJ8KP8xBcfAG3T/su0mJt/aAcZBun6ch3sPyj+/75ocZ5R509n4hXYPiYYbPZhDvIGkmWdqUxrvsy8gj7GNyph87vK+RXHd4dyXnIPqD8gsNuzKEhl27+t+zMyUCy0YgCeCyEc/8ZkYA6QutS6yWnflhS/hhCCSaP8GcaSPCZ8w1wiQEiLP/LWRx/yLj4E1bdYItNBjxW0Q8hKhFKcrsu1KQMn3RuhCwq7AfcemHicjOk4hp/0HEG9EObWyTeGsTpvRBxDvaadh5lfww1VEfNGnS5+yaox8OSk3i7Z5YLAXn0Hhrj5J0I4el6TiIoHN89qyYyMV73cwP0ZOfd8chP/maUCCIQfblnaZjiGZaJAJJABeJbj57LgggS3fddVc9yMdqWQNslxONGZ8g8QeRBULa4B+zfZ9DWKhHn/yvlFe9LEhxSCHYCDN1oYkh6LQTkuI794QgrX/Ukz/z9MOcpsqlRil8NoN4Iw8wDdNxSbxhLG7eoHdEG6wXP8xJsZ6FeAdRg3GQQNg6SkLoenloU9pFR2jYWQe8T8z/2pV7QZiOIx+E0Bji95kSgXkhkARwXkjmc+aOgMEUoRD3jh8crd88tS5zL/DGByJ4CAPN1xOf+MRqw4YNdTYhJJwJhCB/7qfZ6bv/lToRaggKbSBNp/2InQk17Yh4EGzuI9hK4dZFwab/LcMPc5p+OIp4w5i5nZYcnk0Nlr63Xv0wp8EYdmHKDeLtPY1+PIx4w1vf9i6E6Rjmw0hh9Hn3G9ciL2UtiX5o2JUhiL68yvymqV/emwgEAkkAA4k8dwoBRMHM2KBLg2TFbNeTmTszlMFfyIktttiiHvxDGCi/Qd+AL4X/FQ3E9ttvX2sA6gs9/KOOSC/CtGEj6WXyDgGH6MXOJgQbouKwkMdvCDYCN0ihcwjStqAIP0zlXbYf5jR1DuINr9jqEOkIn82SeHuuvqYtnN3Xx8UI8/LDnAbnYabc6MsmcMOIt98GCYwz7B2S/u+zd0h7em8GEX0TS+OhA9EXlkb7BRmMCZXfZkoEJkEgCeAkKOU9S0PAQMisRSsmBpcFE8hglxOBZPBH6KxwRYL478Qg71wSv9L/SsBqM/8ghV2u57CyTep/5feEk91ZYocWApFgC0EKO4KN0CTYSlK4DMGmrbrohzkM+0Hf62tBCqzujkkJ4gdvWMO5Sbz9ZpjpeFA+y/5O2fnMca3gejBvP8xp6jMJ8TYhHLZYyu+5SAgjRKNo0QgCGMn18tCm2sYxiOgjhTTs3iWTgXh3nGkN/T5TItBEIAlgE5H8vzUECH4BnQkm5kPCi4aoqykEklXJyspETbNiFSIiEQN6kD/3h/8VYkOAub+viXYs4uA9/vGPn2lFNiEXgq3cCaUMumvxBcHmvtByOM/bJ4ogRpa0Vxv7Ec+zH+h/JlLeHxMM2yIi1ZH0xZJ467NIRJN4IxBdWIxgEmiShVCtNR5mYDDvs34DL0ep8YYr0m2iZHJhfPPemzjy+6Nh1p8l7aZtynOU07sSY0l8jvziHpNL+TlMSLW/ZyGBca+85O8ZmdY3Av//iLC+ccjat4gAomTRAN+xDRvNh8hE101ThKeAzogKgWRWHgO3siOFiIvB1sHHB1kiCFYlDp46EmCILK3DvBIhF7jFMwk22IVg018ItqbpeBbBRiCvgh9mYAUjRBY+JlJcKJppGuKtbaM9nOdNvJtlK//3TtFWam/v2KLiYZZ5zvNz05Qb44Y2Mmk0ibLArezziBqcS9NxEMKYVEYZm4QQWR+mYZcnoo9IB9EPUui8DA17lDvP3UAgCWA32mHdlkL4A75+SBM/OANRl1MIJGYoGiu+iQbOIH8GakKKD5YBN8xtBnqDLtOVz4hjH00ztBa2pOO/19yPeJHtRrCJI+iQ4E0rBF+HyQPMYVySlXGCLfwwkZxV8MNElAbFwZukbUoSEveHRgnGsGoSb/jCG37z1ih5RxBZBL3LfpiB1aiz/spvzyTQ6t8YN/zGmBEab2OGcFf69iDiHfcHIYxxJ/LWBuWhTZsadiSyHJ9MVJmj3ac9o01N7jKtNgJJAFe7fTtbO4M6EsV5mh+cBRMGqy4ngyayigTZyQOZiwHYgOxQB4SQ7yLSwg8IuUWWnA3wvqNxcn8MtoSoz7NosJaBmXqWcfAm3Y94UWUj5AgoR+zXSrCFIEVY9C2CzT0lzoh39D8rzK3W5oM1bwKzqLoPeu40fpiDfj/su0EaJeSknNzAfFriPSw/33svmC6ZsLsUD3NUmUddY7ZGZPVFxC9CJ8VvBhFvk8SY3IQpV5/Vj8u+HFERYBZjUZzj+fq1POJsHIpJUpiqS6LvnUD04zk0sMqsHoO0yZHPos8vfelLq7vvvrseP42vu+66a3X66advev8Xnf8qPv9BGxs5Q5CvYssuoU66joFDuvHGG2tBGvufjsreAMN8asbJfDpqpkkQEDDzXgVMiF1//fXVi170olFFra+FQFIWAglhMIiqP9LhusE1Dv+H/xVigeASkGXyWwNqDPIEKoKJPMbgHKSw+dvyOcv4zGxFgCkv8/UkbbyMck2SB7IeZCWw1j4Ssm3iwWTWVeI9ro6IQvhh6mcEun64zNQk3vDWZ8JnM/rzJBrv0g/zKU95Sk12llmXeeZVjgP8MLWPcWOWZLwoibe+XBLvkhTG2CR/h986yhSEMEhhec3nyO+2226r3w8kdK+99qrN/8ajN73pTdVOO+20VF/ZM888s3Y3YXkxuTvqqKPqYt90003N4uf/EyKQBHBCoPK2X0bAIDENAXQv/xMEkEZsktWvbRNAAonWz0D5tKc9rSZn6l0OrjGYQojwC/8rAmyaGTNB2iQrCEw4cJeCdBlCXj1L/yvEt89+QjQw2gbGzHDq53NXifcvv3Gbf0OT7H3ikydAOpNhV5J3PQi3M5y9M8N8Nmm3Vs0P0yRXHzPJ9e7OOwXxLseMYcRb3uWYpVyOSMaTkgwa06Tvfve7tbXDGIRwXnvttdVBBx1U7bLLLtWdd95ZuxvssMMO9WQ6nrWs81VXXVXtueeetUWmz+PSsvAalM/maolBd+R3icAaETDQMB8SVlT3sVp2jY9d6M8JJJoV/lQWpYhrZ4CMQdQ5BkxngzGyijBtaMTBm7SgZu7wcURCWmKA5xvEbC7FjD/ONFjzTEgRskSQr4r/FYLBh5D5mmkzUpN489UK03GQbmea6hCM8ds2ziYFFuAw+y7TD3Oauk7qs0lwI660y/qwvbIXQZamKfta7tWX1uKHOU3exgsTzHKSWRJvE+1wNWkS7+j/xjHjc5yNe5GMa3HNd57x/Oc/vyaCF154YZ2vcd3K5mUnff+zn/1s/S4n+Zsd/SSAs2OXv5wAgTAf0gKYCdO8GFi6nJg7zN751yALZr8GQoO7s6PU+hmMYmXdqH1IZ6kzoegIs6u8kbPQqiCd/lfWkqwghrOYmwiCvsfBK3FGLBBZhG7YfsSDiDeSFRqsZRLvsuzNz9q+S36YzfKN+t87j0A7wmfT2OC9sRDM98zZt956a/257MtdId6j6ufaovwwx+VbXp+GeMfkEdYxXuhjxgBE0MIqn7UdYikZA8vEHBvhm8rvF/X56KOPrs4555zaHG7R1le+8pVFZbUunpsm4HXRzIuppMEiBoamD6BrtGdWjArfQFMRs85pSrNMEzABRLNC4D/pSU+q/f2UNQbFGAxDC1T6X80aB28aLIbda7AOLWGQFmUjOJuCdBT5XmX/K+2zFl9KfaD02YRzk3gToo615DOsjWMi1Uc/zGadYBnxMGmv+JWGBrsk3tGn3V+SFX067m8+u43/y3GgLT/MaeqNxDHnxljhXGq8adS0j37MjYUvpzbQHu985zurT3/605sW6EyT76B7TzrppOpd73rXoEubvuOHSDMsmZwj2nys/U5fQAJHjWubHpQffgmBJIC/BEl+MSkCBoVBBJBgpEEzqND6xa4Pkz63vG8ZBDAEEk2RAcWgxyzl+9D6KZNBJgYa/lcRBy/uL8vd5mflLgWpAd7grezqVwpTmkMEctX8r7Qlwj6tH+Y07VYS7yArcKcxhnMciHj0m2me715tuWp+mLR+8DIpHGcRUP9RxDv68qKI97j26rIf5riyl9f1W5pYWj/kMCa5n/zkJ+vxggWCyfVxj3tcZTEGQjZrny7zRegco9KGjS41gwg/Vw2LniwCEYs00/QIpAl4eszyF0MQMFjzf3F4MQWhXYQ2ZEj2M32NpCILBj+O9GHOQB7iKM29Bso24uBNUzkDswHTQcBK6lIKUoTP/7SyiIwzsmSgj8F/mjy7cC+yvlY/zGnqoW8L5uuIpD+FZsW2ZSYJ2iOISpDCCN8Rvxt0NpHSN02yVs0Pk8CexCIAO4TaYUW9FMQ7SDdLQ0m8A2u/mQdJGdQ28tO2xg3WAuPGovIalP+8v0P6+Dyb+HJ7ofUzPtxzzz3V1VdfXX35y1+ut6yT73vf+96Kq4vFILBeSyqDVk/7HPJG0haZZkMgNYCz4Za/2oiAFzA0gFaL+Z8/ldWypWPyWsBalAbQ4CYMDCFuYQDyRyCpwyCtn+/5X1mEQeDTXkwixNdS90X+VrsRYBzFg8AQqMxZTQ0WYdB14Vb6XyGy6tCF1CTeyKG+h5yX2liCNHw2/WZV/TC9Z2uxCAxr0yDeQQqdpSCD0xDvYXn43jhQ7ke8CuOAMc04UMbD1AcvvfTS6u1vf3utXfvIRz5SxwK84447qu9973u1ryZT8LJWnvMNdVhAaJEcuXDCCSfUY3L4a49qt7w2GIEkgINxyW8nQMBgyDfJzJHpwCyYo/08NUiLIIAE8L333ltragR0pvVSF4eBzxnhCdITzupmyQRYLMiYAKLO3aJu/HtoMQlH9QnzimshSEOLFeagpiCdRHuzjMqX/ldt+mFOU1carDDLB85BvLWF70xMIuzQNM/u0r3epYiHKeTTWv0wp6mbvL3ngS9CSKMK37Iv+xzEe9zzxeFjvvbcvsXDbNbNu87X2TjQ9MPkcnD44YfXYV4+/OEPV3vvvfdcx/RmWSb53x7xhx12WK2RhD9Zs9tuu1XHH3/8Js3wJM/JezZHIAng5njkf1Mg4EXkf8FpmABbxKA4TwIYAon5k2nUTN4gYjB0zSEF+fM985L7LWRZhTh4BBihqK3G+V/BAiYEZwhSZ4LQzD+0KoSoEBGTClLPnUfqsh/mNPXTz7xLNDG22ENSaGhNpEqyAu+uEO9x9UO4luGHOa4c5fUwHZd9OYh3iXPTZ1P7hB8m4mGhR59Dj5jkhR9mjNnGPJaPCy64oDrxxBOrPfbYo/b1W4S2tmyT/NwuAukD2C7+vc6doDIYGhS7Ho2dQBLQ2SDHgZn5lknX/0iOQb709Vs1/yuR82lqB8XBG9UJg4QQkLFtFKEJT4IUYUHSCdcy1pj7F2U67oMf5ihMm9dgSCB7n/hfISBN4k1rG8S7JCttEO9m+cv/vU/LioNX5jvJ56bPpnceGYq+HD6b0ecRbkTP99pjVfwwjQOsGKUfJneQQw89tN5h45JLLql23333TRaQSbDNe/qJQBLAfrZbJ0ptoIyYXp0o0IBChEBiot6wcTUZMxRNFWFKADBRGegJUrNgA334XyE8cf+AR/fiK5olmhiCblgcvGkrQijaGzT2NIUjM3loVmhNCVUCtyQrPq9FgyWf0g8TWeq7H+Yg/yvtESQEZoOIN59H/bQk3oH1ooj3uH5S+mHOOx7muLxnue59p8l2lIulTP6ERDJp8llCzq065RIR48WyNd6z1DF+U44D5X7ENM1W9Z5xxhnV61//+uprX/ta/c7G7/K82ggkAVzt9l3XtSOQOAgbqAUNJSCRCKTQd3b3CA0W4kdwIkqubbXVVrWzOiHRx6Q+4X9l9eQ222yzsBXZMIKdgzZYkj9hGaQQcUMS3UOABllBvJGdcSn8MAnkWK087jddva4PRhw8WNDEIBjj0ijijXAjKDSJ8PTcOGC9FuI9rlw0wrRKfMr64oc5rE6w03dh6TMiiyCGlrAk3n1YLFWOA/wwYxzQB23ldvDBB9eTiG984xu19rmv492w9szvRyOQPoCj8cmrIxAwiMQq4GYg6BE/m+rSLD6AtCI0K2bwTNRbbLFFrd1TXgOiw0AXBwHGGZoAIyxdRzQI3CAqQVp81/VEWHXN/wpm+koI0iCGsA7TcWBN4IYg0mbr3Q9zmv4GzyDegXWYjoMQOk9KvMflHXHwkCHEXNv1NRk3JomHqU+aKEYfdo7FUjFOBNaLJN7jcNb+JsDKq20iMgNt4CmnnFJ9/OMfr4466qjquOOO67UmfRwOeX04AqkBHI5NXukhAgQS8kPTZJNyZwMgrZ+zZGYfBIMG0P00MDQx/K8k94cgNcAjkwZ918tBnuDzvC4kZUaY17If8SLrQRiWcb+0B3ICX8JKuWHOdAxjZEL7IDWr4H81qx/mNG2iLwb5iN+Z4ARZEXQ3fDYR7iDdgXe8F/HbYedV88OEC+2pPsdaEOPAoPrDyH0Oi8OkIN5BukufzWgP53kR70Hliu+MA4P8ML1v1113XXXIIYfUvsC33HJLbemI3+V5/SGQGsD11+Zzq7EBpSsaQOUwgItnZWVbBI1VRoOzoyR+ofVDGK3uZR4ZJ/wIvRjgg7R4bilEDfL80sY9a26N8L8PYppSf+TJbJ+g6WMivGDMvw35Ux+amTAdhzDtEvEeh3Ppf7WoOHjjylBeD+Jd9uWSeOvPtEXOTY233zLn05jzAV3VOHglXrN+Lol3jBelz2b0ZURyXuNF6YdpHPCeSAJWC5ly+eWX11uoveUtb1mYS8iseOXvlo9AEsDlY74yOXaBAIZAQn4ENI64dr5HJpwlA6zD/xE+hICL+2dpFM8i3EO7QqCG6TgGd2f5IDKLSITMqvhfwWfQfsTIfWAcgjSIN2wDa1rceQnSebSVMpZ+mNwRFtUP1lpe7woSWJLC0mcTxvBVH1rbCB+y1nzb+r13N/wwm3HwFlUmeZaLpfTlIN5lP4Z1k3iPK1M5DuhnFg7FeHfVVVdVRx55ZB1X8mMf+1jtpznueXl9fSCQBHB9tPNCamlAa1MDaDDl40Jome0yxyiTg/B1lFo/JlzhDpCMSePgTQtcaLCCsCibfM3Ey0He/2slK0FkmavUnyahr4lmhNmK8739RvltDjOta1/EuyQrTeIdWLdFuJSti36Y0/SPkniHSdPvYYs0dZV4j6uj99GEURtNsh/xuOet5boxCgmM8cK5SbzhPcp0bBxQH/eY0MY4wKcZ8bNL0wc+8IHqda973dB3ai11yN/2F4HFqCX6i0eWvAcIIAD8xSz0QPp23HHHesZcEj/VCPLn+2X4X8nTCmJbFTkiMR3HAG9QVm4pSApB6vMkK0H9btX8r0o/zHH+V+qPOCPQjghDVBJvgh2RLH02g6wgy8OIpWevNSlHl/0wp6kfn01kgjneO2TXHH00+rLQSkG8m315Wg3WNOWa9V510C8s9BAPs4yDN+sz1/o7fTH6ZjwriLd+zKVFeRFFBC/udfYeMMU39yN278UXX1wdc8wx1a677lpPkmN1fuSR50QAAqkBzH4wMwIG1GVrAAkcAZ2RoKc+9an1ogLlcBj4HEH8VIymyOzYrLoL/lfKpKzKRRNpkCdQ1YvvYDnAE6oIZSS/izh4CCYt5qrEwWO2msQPM7CY5FwS78AZhiVZgfekxHtcnqUfpr6JoPY1eY8iHuZjH/vYWitb9sWoV5iOgxQ6t0G8ozzDzt43Glll68o4MKysze/12VgsFTjTGkpIeuyNa59c/Zx/H2J49tlnV3vttdeaLQ3N8uT/q4NAagBXpy1XuiYhkJgJCaTwpzI4EkKumxEH+fN/bN9kQYhVpG2ZA5sNU2qw4hoTaJAUg7yyI9ex6pgmhjaAIGDuXaX9iCeNgxdYTXpGjuEUWOkriEAIUZq6kngHMXSepq+U/ld9j4MH29IPc9ttt60J8zDMkULmYEekkngzHdN4DyLey1gsZRwIP8wyDl6UtQ9n44VxwIHsIbKIn3HQeGdf8yOOOKIeH4wTxru3vvWtdZxTY+M0fbkPeGQZ54dAagDnh+W6e5JBfRkaQCZCQkV62tOeVgsbeRvcHT4H8XOP2THfQNeQpVI4ud6XRFtBGDNbMfMEwQ0tYRCWPmkB1WnRfpjTtG8Q75J862u0d4GzM+EL/2ZaNT/MSeLgNTEY97/3syTeCDjijcSUGE9LvMflq0377ocZdYRhTGib+5KziBx00EG1dnPvvfeurR233nprddttt9XbXn7rW9+Kx+Q5EdgMgSSAm8GR/0yDgEFpkQSQcL7jjjtq8kPjZ3EAISzfIH/+j6P0v7KIwP2IYV8TIUmAwTiIbFOQ+p8JsxSkfIUGmevaxEGblX6YT3rSkxa6O8Va6oqkIikIRJjp9bEg3LCGOR84kxMLCfhYuaevKeLgqZe+hvAuMnlXS9IN75J4B9aI+LS4luPAho3bP9rxZxXGAZpm5mvRDiT99H3ve1911lln1Tt6nHTSSZu1mzGSW4LYm5kSgUEIJAEchEp+NxECiySABKuZrTwIgWc+85n1Z4O77xyl1o+GDFli7iDAkKC+JgN3+F+N248YSQ6y4uwgKJoaLHH0phWk88IPSe2aH+Y0ddMeJfEOjbT+RxgzyyGFSEvXiPe4eppcMNFyL1iEH+a4/MvrCE1JCn2WggwGxqN8NofFwSvz6cvnchwo/TCNfYI428YNFnb0MD629X73Bc8s5y8jkATwlzHJbyZEwEA0bw0g8sJEaLUsLRGCQxO25ZZbborrZ6CLGb3r4uBZHLEK/lcIHPO1OlpIQPhNk7RJaLCCGBKk8CoFKWHKBLfIRICF/xW/pPDbXGSei3y2hUSIrP4oeDjTe5DuknjDmduB8zDT8SLLOcmz9ZOIg6cv0CyNIlaTPHPe9ygjrANj/dj/cFfmOOCsr616PEz4cm858cQTq8985jPVscceW73tbW9b+Hu8lnY999xzKwdtuWRMO+GEE6rdd9+9/j//tItAEsB28e917vMmgEhfxLMyUHBotuiDAOD7hxTFAThaC/cTsgQYLVdfE80m/6tJ4uBNW0fCsRSk8LSYBL6lEJ2n6ZiwXiX/q3H7EQfxVu+SsLRBvMf1DxME741yLioe5rgyzHrdhK/EWB1MQo0LsTCCybOrxHtcvdVvkB+m/vX1r3+9Ovzww6sNG83a559/ft12457X9vUvf/nLtVbc5E/61Kc+Vb3//e+v7rrrrpoMtl2+9Z5/EsD13gPWUP95EcAQSMw3iFzErPL8Bx54oNaIMe0iK6FVQRYj/pVYcARAXxOTIrK0LP8rONG0NgUp4VPGGoP1tKbjVfW/Cj/M8L+apK81iTe82/TZ9D71xQ9zEnz5DLIWeH+MGczvCCGcS+KtHxs7ur5Yapgfpu+PPvro6qtf/Wp16qmnVm984xt752pQtqd3CAk84IADyq/zcwsIZBiYFkDPLP8HgRBIBnGBWcWxMkj7Pnz9fu/3fq8O40GDxSGf2Ur4DokGCwkkaA3yyEuYhv8nh27/RcLE67KSdNL9iOdVI4F67eXqkGDOxBkClMaLIEW8Q4AGAR9mOi79MLfbbruV8cMs/a+mwT9ICPz4ckol8Tbh4euJeC/aZxPxNMkw2eJO0eeFAfpquR/xDjvssBm5K4m3Pkyj1ibxHtdnSj9M4wB3CRNa9bjsssuqt7/97dWznvWs6r777qtDv4x7XlevG9PVR1sI/ZSpfQRSA9h+G/S2BAbiWX0AmSAt8ijj2nmew8DnXJp7w/+KDwwtIR8rZCUIi7PflRoshIVWrWvaQXWL8CHIQRf9r3RKeMI7MEbAtQOtYJDBwJipnlZ2Ffww1RNZ0m9m8cOc5oXWF0qfTVjDHHmEbYnzMOI9Kj9tuGp+mNoGiZhmP+KSeEd/9t2iifeottH24YdpPFOf8MM0AWPuFQXhQx/6ULXPPvv0anJb1htxRfj0c3h/7nOfq1784heXt+TnlhBIAtgS8KuQrQFsWgIYAsmsnOlWCA1aJs9yzSEF+fP9OP8r97sPmTS4x0FrSNPV1GC1uU2VQTDi4Km7mF5dI6jwHJa0N61KYIwsmdkzv9HWMu8gLbSzfaqX+tLETbof8TB85vG9d6Ak3rBu+mzCeJzGWzshS54XYYTmUb42nuH9HhYHb5byeN4o4l2OGbMQ73FlkvcgP0zv0ic+8Yl6ocdLXvKS6swzz6ytI+Oe1+XrxgxtZ6y44oorqgsuuKC67rrr6j7Z5XKvh7IlAVwPrbygOhpEpyGAhJrZIEFrUQey4BlB/Hym+QjigMARYPIgwKbxv1Jlg2kI0iAsBl4O4qVmxax00aZjdVsl/yttgsjyT9qw0Smd5iKIIczDZxPOgXWbxHvcK9CGH+a4MpXXaauiDzvDuumzCWfE2/u0KvsRw2Ct40CJ46jPQbyjHw8i3oihY9bxwjhQ7kdcxsPkDnLooYfWE96PfvSjtZYsxsJR5e7bNfsTsxScd955fSv6ypU3fQBXrkm7VyFEjGZFKABkwctPY2QwdM3Aa6AL8uf/SePgjaqtPJhWHJE4jocAZYaliZRfOeP3eZ6mY+Yqs33m01XxvxI7Tvy70v+KRlcK4h2C1EKe0nQcpHAZxDvafdgZsSJ4uxAHb1gZfY8889sL3z3vDkyDFNKwIN76vP7sfhpmWtlZycqo8izjWjkOzOqHOU054RR9s/TZDIxNEhDrYcR7HFkzDpjQmoSW44DJ1Ic//OE6qPP+++9fL/YwBq1q0neNw5naRyA1gO23QW9L4EUepwG0MICvH8FE62dg8zuDu8PnIH6AMNgaJCVaPwPyIpP8DcwxyCMtYToOYeCs3LRa0yT1C7PVKsXBQzT4LcYeu5Ngop8Exs5whg9cHYH1PIn3qHJpd/5XyJ/8u+qHOaoO5TVEFinnh2lhj3cKxk3ira7jTMflc9v6HH6Y6mEcUO4uJP2mJN4wdjQXS+nPofHWz8MP037EJsDh9iIcim3ckEoaMQvhxhHJLuAwaRnEKhTzD6E2blxyySXVaaedVl1zzTXVC1/4wkkfk/ctCIEkgAsCdj081mA4jAAa0AgkZk8xoGzNZmDzGwOiw/9x0BrRxi0iDt60baEsBvUgLD6btdNYlWTF/8MGa4PdKuxHDDttNokf5jQ4e+Ywn80gg4H1tMR7XDm0Zfhh9i0O3qC6xYIirg3IEjNwpJJ4R5/27nV1sZRxwzhg3LCVo3EDCexygqf3PcYL5yDe2sKE0jhhQVG4sej7p5xySh3P78gjj6yOP/74TQtAulzXacsm1Iu9iK3a9l5vtdVWdUibJH/TIrmY+5MALgbXdfHUYQSQOQ35sVrUoEcwuRexcpaC+PnMtMJEKgQMAeb+rqUwHccgT5hKQVLibNYf/leruB9xCLBFtE+YjgNj59JnM4ih/jELKdD3VskPU5+kwfT+TLofMQyGEe/ow3D2OTRYi2jrQc/suh/moDIP+w4BNAFGzpFAGtrLL7+8uu2222oN4K233lpr0D/96U9XW2+99bDH5PeJwEIRSAK4UHhX++GESakB3LDRv8+iAASQQGLukNwXWj+CO7RmYbZiilt2HLy1tow6mdkjKaFZiZk+czd/OLENCVP/9y1pr3n4Ya613iXxDpxhX5IVGEf4jGH5lX6YzL3hSzfs/i5/r/40KuGHSYu5liDH44h3YL0on01jiLp03Q9z0j4hvqMJLQJtQgs3bcbce8YZZ9R1pTFkrudHK8bfW9/61mqnnXaaNIu8LxGYCwJJAOcC4/p8iEHN4O1sWT/zDQ2RQY9A9j3hgkyExs/Z92G2IlwIsNJs1Tc01ds+pBY7IH7qHmQFgSEAQnvlTIMVJLiLdUVq17If8SLrpO+UPpvKingjQLANsuLMdKzvpR/m9C0SxDv6sTMsA9/Aei0+m9py1fwwB+1HrJ62RGPqNfng68cthpYQKaQN3HHHHas//uM/nr6h8heJwBoQSAK4BvDW+08NbASwRRsRDkRYA8k1AsNRav1K/6s+xsFrtjmthdk+Umdwb+5HrL4wioMgRf5CgDo71qLBaZZp1v+R9a74YU5TB+UOohI4IzDagpYZ3jTMtgvrMvEeVWfv07z9MEfl17wm/5J4wxvxpuWKPhx9ehKfTe+F90Z7rbIfJi0f7Z4Jsu3PrPKdxX2h2R75fyIwDwSSAM4DxXX6DALgO9/5Th3M2ECO/DF7BvEDC4HrIEDC/4r5DflbRIDVZTUFzaeFBPyW1JvmbxJyAZtSkMLN/zQpIUDjvEzT8Sr5XyGEsQCJxkq7MLlJpQYLzl0g3uP6rPdsLfEwxz1/1uvDiDeNd4mz/+PdKMcBY0UZB2/WcrT5OxONQX6Y3vOLL764OuaYY6oXvOAF1TnnnLNpj/M2yzssb3sMf+ELX6jHNNaY5zznOdXpp59ej9PDfpPf9x+BJID9b8PWamCQo/kjSG+88cbauRm5832p9eN0ToAxeZjtG/j7mgiwefpfwYGWikal1GL5rmk6ptEKQTov/ORDgDHJ980PcxAG5X7EXBGsdpW0GyIVGsLQYCHeJVnxeZnEe1Ad4jvvURf8MKM8k5xp9sp+7LMEV8QC/lwmtM2q+GFyezGhjcmENnvLW95SazjPPvvs6mUve9nc39tJ2mKae3bbbbd6u7ltt922bp/jjjuuDtpv3O7iorxp6pb3DkcgCeBwbPLKGAQI1fABvOmmm2qfK4O6wMsGfGlV/a/CbDUGopkuw7U0HROiDqS6JCuI96xaVHmUfph9j4MXfpjI+aT7EftNSVaQkyDeJc5t+GwqS1f9MKfp1PoZ7auV8dwlmIxhHD6b+rAD3l0h3uPqZyLLfG1CYRyIeJj6kx083vOe91R77713bfK1yKOPSVupF9P18573vD5WIcs8AQJJACcAKW8ZjACSwgxkkCewrH4LgWowpK1CWgQBZSKlAZi3Bmtwyeb7rfqF/5WdFZitlh0igzao1GDBm2YVpiVZofEaJ0i1W8TBWw9+mJP2Bu0cix/g65g38R5XFu9TH/0wh9ULfrRI+i+tn8lhSbxdF/QZKUS0gxA6t0G8h9XD9+U4YA9vGvMYB5B1AZ1poC3yYPbt41gX9dcH1c/WnQL4Z1pNBJIArma7LqVWBx54YPW1r32tXr32zGc+s9puu+3qGfG73/3uytZNgn2a6dMAGOg5h5dkxSAfA+hSCjxDJl31v1IVQhOuQVacCdcI8htYh+mYAAs/zFXwv5rVD3OablAS78C69NkMwjIJ8R6X76r5YUY8zA0bw0P9wR/8wdDFD8OINwIF3+jHPoeZdRyW874+bBwwmbK4w1Zub37zm6uTTz659yZT7bHHHnvUZPb666+fN5T5vA4hkASwQ43Rt6Igdt/73vfqMAbO/AANlLRk9oh18ClhJqEJdH9JVphSkJNykCdI3dt26qP/lYEbpqG5ijPiTZsSGlvtQYPR16Se8/bDnAaLJvFGDH03q8+m366SH2bEwdPvSj/MaTD2/o1aLDVP4j2qXOU4UO5HrA8a8w4++ODaDePjH/94Pdb1WesXOKjT1VdfXd1www2bYrnGtTyvFgJJAFerPVupDVPkUUcdVYlqf/jhh9eD/u23315Hvb/zzjtrk+QznvGMWlOIEDoQEIIvSEoQQwNuqcFiMlpLrLFZAFEWZiuJACNs+ppoBMOkyFwcJNHnEKLOXSHe43AO/yuTCX6L4X817neLvA5T5Dr6sLPymcjAttRglT6bfrdKfpje50Fx8OaFvecj26GJhbPvZiXe48o1bD9ibXvSSSfV451Vvm9/+9tn9sUdV4ZlXz/00EOrK6+8svrud79ba22XnX/mt1wEkgAuF++VzA3JOOKII2ryxwE/EgFngOZHEppCQU/5n9klROBTZJD5eJtttqn92ZoaLIMtTUJJVgjURZiOS/8rJiumqy5oIwPPac+w45uEVIf/lWcwnZZC1GdtCNeSrHTJZ1NfCj/Mpv/VtLgs436Yw7/EOXw29WWab5oyGvPQyPZZexRElqZZX9N3Fp1GEe+yH8O7JN7jyuVd+NGPfvRL+5LL75vf/GZ12GGH1X7N559/fl3Xcc/rw3V1Q/6++MUv1qG9+P9lWn0EkgCufht3qoYGGjN3e2LecsstNTH0mf+TfYORwSCFFihIBGmpXaFtIWjKQZ4WYC1kTf5W9vExIsA8v68JkQ3/q0n2I9YmyElJVpZJvMfhPMz/atzvunbdZEg/RmT1t0ih8Y5JTpeId5Rx2LmMgzdNPMxhz1vr94i3/lKOFyXxhrFxA+aDFksN88MU7uod73hHbRq1ype/36Dfr7X8bf3eApbPfe5z1Ze+9KXNYv/Baxlkvq16r/d8kwCu9x7QgfobtO+///7NCKEtkpAxpmOkMIghk18I0hjkERfPMLCXpHAS07FnCRrcx/2IBzXdsDh4g+4d9R0S2dRglT6bQVbWSrxHlUGb9i0O3qj6ICIRD5P5+uEPf/gmn83oy0G8y34M60VovEeVddw1k4Y2/TDHla+87h0vJzewpuUriTeNrJBVwp+U8TD1wcsvv7w28xqDzj333MqkatXSMO3zhRdeWO23336rVt2sz/8ikAQwu0LnECBcmCnvueeezUzH/IsMvkzHQQif/vSn10SxqcGiBSA0g6g4E6rMyZI8wmzle2a4Ps90CTT4TBMHb9qG1yZBVJyDeJeCFM6TEO9xeXv+qvhhIhGTxsN0b1Pj3STe+ivM16LxHof/qOtd9MMcVd7mNe9+uJroZ7R7/keC+Bzzf7PgAxE85ZRT6kVuZ555ZvWqV72qNcybdcj/E4F5IJAEcB4o5jMWjoBBm3aLD+HNN99cn5mOkRBxqkotoYHb/eWs3+cwHdNaWWHof2bmPu8RC/hx+xEvqnFgjHiXpDCId1ODFcR7XFlKP8zHPe5xNeFvi+iMK+sk15G5QX6Yk/w27gniXfZnRHERxDvyHHTW3n3ywxxUh/I773/Ew2S+pgWE8bHHHluPMfbxhfGLXvSi6vnPf371rGc9q/ZVnrQvl3nl50SgiwgkAexiq2SZJkKAEOSsXfoS0hoayEstIXLI3GbAt98lMzKncGSDUGuSFRqsPiTEYJb9iBdZtzAdl6QwiHepjeVj2SR269kPc5o2KYl3kMIwHZcY69fzMh2vih8mnOE3LB6mcDy2cfvJT35S2R/XTh4mnRaxiWxgvIFrpkRgFRBIArgKrZh1qBEwsHNK5z8Yq45pCYVBsRsJYYiYnHHGGXWgU/8P0mDxPQxBarB3dGnWr5598b/SMOXuGkFY1AGucEYGkT+aTJoYK8SH+ST1oavPyw9zmrqOIt6BM6yn9dk0yVolP0yaf4u9mHz5YcZ+xCZTgjm/733vq173utfV5A9eZdJn+9wvy7rk50QAAkkAsx+sNAIcwPnxnH766dXWW29d+/gghQTBVltttZnpmMmRwENSgqggjAgMwRmkMEhLG8Kg9L/ityjodt8SQQp/cdYsvkGYfEcrW2LcNeI9Dudl+GGOK0N5Xb8t+7HP+ndJCH0e5rOp78d+xH2Ph6netHpWxz/60Y+unvCEJ9STOv3u7rvvrrdxg5eAzs997nOT6JUdKT+vLAJJAFe2abNiELjmmmvqGIUXXHBBvTOJ7wgDK39L0/G9995bC8bSl9BnTuGlBotQJEiRv1KQIi6L3KaKoAr/q7b2I4bdvFLpf8UP09Z0zcUPJfEOrBHxNoj3uHq35Yc5rlzl9SDeJSkMn82SeNPIWpX/05/+tFoFP0z1be5HDBfafyFd7N0rjuk73/nOmgyXmHXtswUqtp674447aiuAuH177rln14qZ5ekJAkkAe9JQWczZECD0aAFHBYJ1D82aXUtK0zEhSFNQksItt9yyjv/VNB3TaNGkBFEhUH2eR6ywVfW/Yn5D/oa1DZJYkhWfpSbGbfpsdtEPc5o3hem4xJg21vvCP1P78J3Vlwf5bE6TTxv3qtugeJjed3vcHnLIIbWPH62faAJ9SPZet+Wm8Fgvf/nL68DNSQD70HLdLGMSwG62S5aqZQQICeZJhJCmkCO4WTetFFNySQqFpgnTMQ1hHARpaTpGXAjSSTVYnomE8sHiw2iXlXkQyragRZrLOHjhfzVpebQJMhz4Ii7+L30250m8R5VLWfrkhzmqLq7pq7EfsV1wYkVsaLzdE8Q7zm0Sb+UZlYb5YXI7OP7446tLL720OvHEE2vNX5f8e0fVqXnNOJIawCYq+f80CCQBnAatvHddI0CjYNVtEEKk8Pvf/371sIc9bNOq4+22267+LHxEaTpGVhw0KyFAw+w2SANG8K7HOHjTdjB+d6UGC25BvEucpyHe48pQ+mF2ZT/icWUedh2RLeNhqk+T2LmHhjuIt3OTeAfWbU9QtP2g/YjV4Stf+Up15JFH1lpn27jR7vc5JQHsc+t1o+xJALvRDlmKHiJAqNBqCQ9Rmo756jFtllpC29whf6UgRVzCdBxkEHEkkIWpWOX9iBfV3NqkJN7ISpN4B1mZ1mfTs8MPsw/7EY/DuOmHqU6TaqdL4h0EvPTZjP48T+I9rj7D/DDF8zvqqKOqb3/727X/3Otf//pfCkE07tldvJ4EsIut0q8yJQHsV3tlaTuOAJLwwAMP1IQwSCHTMe0hPyPxCe117BDupPTBYlJEKCWCk2YxyAqT3KTCuQsQNf2vkNm2tENM6WE6DrLSJN4IC/I9rIx+TyPL58+KWG3T16SPDouDt5Y6IZSllhDW+ixsox/7PC3xHlemYX6Y2v2zn/1sdcwxx1Q77bRTdc4551SPetSjxj2uN9eTAPamqTpb0CSAnW2aLNiqIEBbgjwghEEKhdcQkJqW0E4mQtNYmczJ2yrfICoEqtWxtIehVQlhOsh03AXMhvlfdaFsUQamwhJjn8N0HDg7M4fyw3SkH2agN9kZASs13vpySbyjHzsPI96jckJkh/lh8ps97LDD6jA2Z599dr1gok8TqFH1jmtJAAOJPM+KQBLAWZHL3yUCMyJAcNEoMR0LT3PFFVfUKy5pUJjhSi0hnyzkL0KkBGmhKbR3cUlWaLDc21Yq4+AJH2I/1TbLMw0O2mSQBsv3yAlSjrDDu6vEe1R9kbFJ9yMe9Zy1XtNHwiwf2sIm8UYIx5mOh/lhev65555bx/585StfWZt8+6ytHYV3EsBR6OS1SRBIAjgJSnlPIrAABN7xjndUn/jEJ+odCPbZZ5/aLFfGJmQ6Nshvs802m5FCZqwQpCFEEUPfIYElKUQSl6H5GOZ/tQDYFv5I5mu7x/D3gzUyEgS8SbyRFUeXia6yr3U/4kWB3iTe+rEDnnAt+zLi7f5hfpjqePDBB9e7yojtt8suuyyl7y8Km0HPNXHUNyXjwgc/+MFq5513rl0STLgyJQLTIJAEcBq08t5EYI4IWFEszpogyIMSzch99923yWxs1bFtrJASWkIrjpmQxQRD9JoaLIJfiAtCtBSm89ofVpmH+V8Nqk8fvhu3H7E2KUm3z20S71GYdskPc1Q5m9dKn034IoRMx3wHXZOEXqKRRc4tPhEc+UMf+lD1pje9qTr55JPr8EvN567C/9/5zndqwtesi+3rLrrooubX+X8iMBKBJIAj4cmLiUB3EKD9IAz5C4Y/oc+0bxYmIIOxwMQqZJq/0FwFaWE6s6AkNCuI4SymY2WxulLsuIc+9KGVbenm7dy/TOQROz6YYj8+8YlPnHg/YjjANPANDRbiXZJueM+TeI/Dpg9+mOPqENeRPlovJmyYwpZ23Mpei4sQQPfQhgmO3GVtbNQpz4lAFxBIAtiFVuhZGV760pfW+2cKV0L477rrrvVeu6u0wq4vTULwEYyl6diOJsgGzWAZioYf2yANlmc0TccWPwwzHZf+V33djzjaF4Er4+CpD23qWhI8RxHvIIazEO9x5aKNFAfP4giBw5kFh7XjuGd14TpiPSgeJqItoLN+j1zTdt511121RpA27Mwzz+xC8bMMiUCnEUgC2Onm6WbhDK7Pfvazq0c+8pG135qZuHTTTTd1s8DrqFQIDbOsvY1jxTHTMe2WVazlAhNhaRC9UoNF4PIzQiCDqIQJmeYl/K9WcT/iaeLgTdultAlsEZfQFpbEO7Bei8/mKvphNvcj1r+/9a1vVYceemitpbWNG+23BON77rmn7s/Pe97zpm2ivD8RWHcIJAFcd00+/wpfddVV9YbkTDHLNHPNvyar+URC0xZYiGBpOmYmFIKm1BIyf0pNDRb/QqY12iSaXodt7vpoboNHxMEbtx/xonqEMlhQUpLC0mezNNGPe6dW0Q+T1s/kBLnj5yfxz7Rw6stf/nL1nve8pzrooINmCh+zqDbN5yYCfUMgCWDfWqxj5f3FL35RvfnNb64F6g033NCx0mVxhiFA+yRWWmk6ZkIjdGkJw59wyy23rMRREwpl7733rv0HERWaLM8IzVVoCUeZjoeVZZnfI13IBa0nc++wBTjLLFPkxYxZEm8YKycCVOIcxBuJHBYHL57Zp/MwP0z97Atf+ELt86dvCvOyYcOGzlftox/9aL04RRvZCcgilR133LHz5c4Crh8EkgCun7aea02PPvroOrI+gbr99tvX+2xa0ZqpnwggEzS4d9999ybT8fXXX18v9ECSnvWi0kzYAAAacklEQVSsZ9WHRSZMx0JyhAYrtFhhOg7tVZBCpuO2ExLRhTh40+IQpuMwGwfxRgJdQ5qmWbQybf7LuF/fK/0wy/2IaWqPOOKIeqLC9eTVr351L7TOn//856t99923QgJ32GGHSlgaMT9NPjJcyzJ6VeYxCQJJACdBaR3cc9JJJ1Xvete7RtbUilOaIennP/95Rfv3k5/8pP4dYW+z9T47nI+s/Dq6iFQg+B/72Meqww8/vF5ZTDvIhKwP0FJttdVWm5mOLTggyEsfN5+ZjpGVpgZrmf1EebsaB2/aboXI/uhHP6rfO/6CTPBCpDATd5F4j6uf/iEcEhcFK9fDD5M29MILL6xOOOGE6sUvfnGtPRP2pS/JhMkiLNrKSIjtnnvuWZ166qnxVZ4TgVYRSALYKvzdyRyhc4xKzC5MfM3EUdsCA4tALA7J1G8EEDkrLF/zmtdUhFaZEBAhOUrTMcd7JK80HZso2IGBVrFJCj0vCGGcB/WrMt9ZPiMRzNwmKeLGtbkf8Szlb/6GhpUGieav3I9YPQPjOCNWTMclKfR/V3w29bFhfphWMVvkYfu9j3zkI9Wf/umf9mpiqX2EWrrsssuqvfbaa1Mz2pqOhv26667b9F1+SATaRKB920ybtc+8NyHAGd4xSzKYS4R9pv4jQDvHyX5QQiCe9KQn1cdrX/vaWuuHbAg9E6uOmb9+/OMf12FIygUmtIY0VbE/LLLiPsRGDMGSrCCGs+wPG2Uu4+AJmC3kSl8T0o3IIkSD9iOGk3BMjkjexTAbi9doFbj3NAh3YL0I4h1lGHYu/TD5mMa4Q/N81llnVaeddlqlb1nsoZx9SybSSLmV8mXyv7bIlAh0BYEkgF1piZ6UgxnQ8dznPrcWOAQ4Mw0TYNvaPwLy3e9+d3XttdfWA62VqrRYxx13XC/3b+1Dl0AWmSL5OTkkRINPV6w4/vrXv169973vrX0Gt956681MxxZiIDihuUJaaOyQgUEarHGm4zIOXt/2Ix7U3vCg9ZOQ6UkJEULNZBpmU20SxNszm8Q7iKHzonw2tXPph8mXVF7KRotsVa9FL1/72tfqxRLj2noQXl36rll+9Wx+16XyZlnWHwJJANdfm6+pxoS9FXknnnhiLVDEAtxtt92qSy65pPWdIPgSETIcrp/whCdU3//+96s3vOENdTnPOOOMNdU7fzw5AoQcbYeA4Q5Ju9g1JEzH55xzTh2r8Ld/+7c3I4TMyLRC5eKHBx54oPYT81wEKMiKz+XuI2UcPAuTmOH6mmiQmNq5VzBdb9jofrEW8y3smOkdj370o2tYkGXEO8i3GI80h+6BbRyI+FqJS+mHqY21u4TwmRzwleNvajLZhlayLsyc/tBo0so2tX0mRU2t4JyyzMckAjMhkD6AM8GWP+oLAvYIJVxoPDJ1BwHaEMLfll6hKbTAhIbIqtbSdCxWIYFarjqmxaLRQhaYd5mhXe/7ilgtNG4/4kW2IhxhixRamOGM/JWku0m8R5UHkfXuadfSD1P7W2XO18/zzj///HrRxKhn9emaRSCIrlXAkfht7rHHHrkIJADJc+sIJAFsvQmyAItEwGKGa665prr99tsXmU0+ew4IIAW0JqEl5GqAIDIHMxcSqLHXMV84GqxLL7209iGjmfZ73zU1WDSBa9VgzaF6Yx+hnrPsRzz2wWu4gea2NB2XxLskhT43fTZLP0zkJ/wwPcN7yVeUxu/II49cmNl5DVVf008jDIyV9FxjEFy7lliNjghnSgS6gEASwC60QpZhIQgIlyEUwwc+8IHqwAMPXEge+dDFIkCD9Fd/9VebtIRIIdO+BQ80R7Rl3BH22WefmviVix8QDaZHptOSrPidOIZdSYhrGQdvHvsRL7JuYTqGbxzIaxBvZ+SPSZ4rRuxHrJ5XX311TfhoapEi51VNtH/ve9/76mDdtNjiGOYWdava2v2sVxLAfrbbuir1tDEKgcNv7PnPf359CMCaaTUQQAgJUpojvoL82ZiOhRRBnErTMa0TrZRVxkFUnJmKaQxLUkg71dRgLQMxJtdBcfCWkfe88kDs1IO52K4XVsH6Dp7iR/ItRIC++c1vVnYLQooOOOCANfk0zqvs+ZxEYD0jkARwPbd+T+o+bYxC5G/nnXeud6646KKLUtD0pJ0nKSZC8cpXvrIOUr3LLrvUP0E2EMDSdCwsje+32WabzUzHCOMgDZbvkEDaQQdyuEjTcZRZzDuLBgRB7pJWcpK2KO+xaAeRpZEVJkhAZ6ZjweE/85nP1NdoOZnun/Oc59TvpqDIFrhkSgQSgXYQSALYDu6Z64IQQASQP/5iF198cStanQVVLR/7vwgga+NClbiHvxVSGKGLhFNBTEpfQi4CiF65+IGWkDZLHqWW0Od5kLQyDl7X9iOetpMhssP2IxaW6S1veUttsref9K677lr74saiH2Ffdt9992mzXHf3w/iFL3xhPZYJqVQmZuZjjjmmuu+++3KLuRKY/DwRAkkAJ4Ipb+oDAmH25XP06U9/ejPyR/C3nQRX5gNlNwBEwirLTMtBgBDlD2gxUGgKmY5/9rOf1btqlKQQKeM36P7SdGzVMtNxaAmdaQ0nDc/SjIPHP24ckV0OOrPlAg/+mXCCWYQ4Qb6FYjr55JOrV7ziFZUQTHaFyTQ7AszoXB5OP/306o1vfGP9IMHBBVdHrvfbb7/ZH56/XLcIJAFct02/ehVn7t1///0HVgwBaDtZrCD+mdhun/jEJ5IAttwg+oTwJCUhZDrmu0YzWJJCEwgLHWgGS1LIJzG0hHFGEpurjpEkGkn3800sd+1oGYaps4cbQiJOIdLH5GuHF4mW9eCDD64XgFgBS3PVxGLqDJf8g65O1D71qU9VhxxySB0/U1xILhD63JVXXrlkhDK7VUEgCeCqtGTWozcIIKqC3qYGsHtNxpeNOS22tWM+5tv2mMc8ZhMhtNCEbyGiRwtWkkJEj1YvtISxIhbpL+Pgda/mk5Vo2H7EVl/T9FmgQ0NlRx5172Pq8kSN36Rx4+Uvf3mNsRXxsdtLH7HOMreLQBLAdvHP3NchAkkA+9PotF00fszFpabQYoenPvWp9apjsQmRQgs5pDAd80fl7+cZAlZH6BrkEDma1HTcBbSYr/n0MTuW+xGrG2xo/dRHrDtBkPum9RuEcRffUwtprKjW/y6//PJqr732GlT0/C4RmAiB3ApuIpjypkQgEViPCCAyzPZMmQ4pyFAQQv6mRxxxRL0tHc0gXy0BnWkPv/Wtb9WavyCFBDjTqWeUq46RQiSxi8QJAR60HzFtID+/T37yk9XRRx9dL0aYxyKZ9djPJq0zbd+f//mf12bfJH+Topb3DUMgCeAwZPL7RGACBGaJUTjBY/OWDiNA0/W4xz2uPl71qlfVGj6m43vuuacmQ/w7+WYxBb/sZS+rTcc0hDSFdjSxfzHTcfgS0qwhU/zownQc/oRtLhLhrzhoP2Jav2uvvbbexu1Rj3pUrQGkDc20HAT0iTb7xXJqmbksA4EkgMtAOfNYWQQ4ZduFYlTisJ1pdRGgtUPqvvvd79bbm5111ln1YiS+WrSAN998c3XdddfVPnL8BZnwyoDV2223XU0iQ0uIGPIZFJrmIQ95yCZSiBz6fxmmYyZGK3zVa/vtt6/z1YK/+MUvak3fl770peqUU06pTb9tBNCetjflRG1axPL+9YBAEsD10MpZx4UhIIivI1MiYCLw6le/unrkIx9ZgyH0yW677VYfvmD2tT1hmI5pCsXJs5jEimOkEBl0ZkamVQwtoXA1zMq0b6EdDG0h0/G80rD9iJX9i1/8YnXUUUfVC2BoO/sUxDknavPqIfmcVUIgCeAqtWbWpdMICDlCg+LMvCYeoCQeXF9XTHYa8CUXzkrhUYnmzt63jn333bcmc1bP2t0kVh1fccUVtdmVibnUEor3xr/OopIghT/+8Y9r0zEtHTIYxDDMz6PKMugakmnFs98/+9nPromp+8TX5ONIk/nBD36wes1rXrMULeSgMs76XU7UZkUuf7fKCOQq4FVu3axbpxAQrFUsr2b69re/Xe20007Nrxf2v90D3v/+99c7OPDd+tCHPlTtuOOOC8svHzw5AjR8tj6M3TKYkK2yta0aEliSQiTR/WUYGuQQqTShKEmh/4ctMGFq/uu//uvqn/7pn+qVzGIeupfWz0rY448/vt6xQz+JYM+T16h/d8ZE7aqrrqrfk+uvv76uRE7U+teWWeLRCCQBHI1PXk0EVgqBz3/+87X2CQncYYcd6h0bLrjggnqVpx1UMnUPAUSM+TdMxwjhvffeW2vqmqZjK5YRQEQwiKGzFBrCIIY0h0LVDNqP2HeHHnpoHfblIx/5SPWSl7xkKIHsHmJrK1FXJmprq0X+OhEYj0ASwPEY5R2JwMogIEabXS7OPffcTXV68pOfXAkwe+qpp276Lj90FwFaP6uI7VoSpmOk8P6Nq4lpqUotIV9CK0ZpEMN0jBBadUzL56DxswCFNpg/oa3F9AVmaluPIYyZEoFEYPUQSAK4em2aNUoEBiJgUcGDH/zg6rLLLtssgOxhhx1W+yNaqZqpnwgghXz4StPxHXfcUa8k3nrrrTeRQmFoLr744uof/uEfqoMOOqiORYj8CWdjeze+cjSIb3rTm2oCaHKwjFXH/UQ9S50I9BuBXATS7/bL0icCEyPAt8zik6Yfl/8Rgkz9RSA0eXvssUflkLS1RR1Mx3wJTzvttHoVstXJtITXXHNNverY3sS2FvvsZz9b+4I++tGPrm688cZKOBsLT4SkyUVK/e0bWfJEYBgCSQCHIZPfJwIrigCyUCbao+Z35fX83E8ExOdj1kXwmIctbrCad9ddd601vkihRUm+37AxVuVXv/rV2j0gaiskjMUhSf4CkTwnAquFQBLA1WrPrE0iMBQB5j2koKntsz1ZUys49CF5oXcIIPcWhwjjwhws/cmf/El9Rv5pCPkO/u7v/m79XfyxM4mg1ZkSgURgNRH4/1azWlmrRCARaCLAnGfV6De/+c3NLvn/Oc95zmbf5T+rhcBb3/rWTeSvrBlyKOZfk/yV93TtM23mAQccUAeiFkT78Y9/fHXiiSfWgbO7VtYsTyLQZQSSAHa5dbJsicCcETjyyCMrYV8++clP1lt9MQkyAXL6bzvZSk24EfvLIiZXXnll20XK/DuIAL9GoXHOO++86gc/+EF15plnVh/72MeqY489toOlzSIlAt1FIE3A3W2bLFkiMHcE9t5778o+ryeffHIdCJqJj+/XFltsMfe8pn2gUCVMlPvvv3+9KGHa3+f96wOBcns9NRYQm6+i0EZnnHHG+gAha5kIzAGBJIBzADEfkQj0CQHhPxxdS7vvvnu940TXypXl6T4CYhxa3ZwpEUgEJkcgTcCTY5V3JgKJQCKQCHQMgR/96Ed18OouuDF0DJosTiIwEoEkgCPhyYuJQCKQCCQCy0DgpJNO2rQ7CR/QQcftt9++WVEeeOCBikn4Fa94RXXggQdudi3/SQQSgdEIpAl4ND55NRFIBBKBRGAJCBxyyCHVPvvsMzKnDRvjFUZC/nbeeed6FfP5558fX+c5EUgEJkQgCeCEQOVtiUAikAgkAotDQJxKxyTp7/7u72ryJ6zRhRdemNvVTQJa3pMINBBIE3ADkPw3EegLArb6Er/PNl5l4hD/+7//+9Xxxx9ffp2fE4GVQIDmb6eddqr7uFW///iP/1gHN28GOF+JymYlEoEFIpAEcIHg5qMTgUUiYFcPW3nZ09U+rpEOPfTQekXkCSecEF/14vwv//Iv9RZld999d13ev/3bv63/F6ewzXTqqadW2267bfWbv/mb1SMe8Yhqzz33rMOOtFmm9Zz3N77xjepv/uZvqmuvvbZ6zGMeUz3ykY/cdKxnXLLuicC0CDxo41ZA/3faH+X9iUAi0B0EzjrrrIoD/fe///3qtttuqx3i7fP69Kc/vTuFnKAk3/nOd2qzXvPW173uddVFF13U/Hpp/1tkwDcNCfyv//qv6rjjjqvuu+++6oc//GH1kIc8ZGnlyIwSgUQgEZgnAkkA54lmPisRaAEBc7gXvOAF9T6/iAkNYJp/F9cQTI40gdddd131vOc9b3EZ5ZMTgUQgEVggAkkAFwhuPjoRWBYCtsd68pOfXG255ZbVnXfeWf2f/5PruxaFPfPjE5/4xFoLaCeVTIlAIpAI9BGB9AHsY6tlmROBBgL29n3wgx9c8Zv76U9/2ria/84LAdpW+yk/97nPrZL8zQvVfE4ikAi0gUASwDZQzzwTgTkicPPNN1dnnnlm9aUvfamOiXbAAQdU6do7R4CLR4lVd++991Z/8Rd/UXybH4ch8NKXvrR67GMfW/3ar/1avVBj3333razizZQIJALtI5AEsP02yBIkAjMj8O///u+VRRJvfOMbq1133bW64IIL6oUg55133szPzB8ORoBv5VVXXVV9+9vfrlefDr4rvy0REKj50ksvrVdNX3HFFZVt2/7sz/6svCU/JwKJQEsIpA9gS8BntonAPBA47LDDqquvvrq65557Nq1I/fjHP16bKS0IKXdOmEd+6/EZtKnI3xe/+MXKSmX+f5lmQwCBFkbnP//zP6tf+ZVfme0h+atEIBGYCwJJAOcCYz4kEVg+Alah7rLLLjUp4ZNWphe96EV1yJK//Mu/rPdULa/l5+kQOOigg6rPfe5ztYn9D//wDzf9+Ld+67eqX//1X9/0f34YjcAvfvGL6s1vfnNlF48bbrhh9M15NRFIBBaOQBLAhUOcGSQCiUCfEXjQgx40sPi2INtvv/0GXlvWl+eee27luP/+++ssn/rUp1YCgO++++7LKsLYfI4++ujqnHPOqf7t3/6t2n777auvfOUr1cMf/vCxv8sbEoFEYLEIpA/gYvHNpycCiUDPEWACHnS0Tf7AaieM0047rbr99tvrQzzIPfbYo/rBD36wMNQFHUeKRx3KE+ltb3tbddddd1V28LB7zWtf+9pcpBTg5DkRaBGB1AC2CH5mnQgkAonAvBF42MMeVr3//e+vrAZfRPr5z39eOUYlvqdW/jaTEEX2qb7pppvqFevN6/l/IpAILA+BjBa7PKwzp0QgEUgEFobAf//3f1eXXXZZ9a//+q8LJVe/8zu/UzlmSRGeyCKQTIlAItAuAkkA28U/c08EEoFEYE0IWO397Gc/u/qP//iP6jd+4zfq1cpPecpT1vTMefzYftQOC5Qe+tCHVj/+8Y9r/8THP/7xCyWo8yh7PiMRWA8IpA/gemjlrGMikAisLAJWJt99993VLbfcUq+yFRfyhz/8Yev1tUL6C1/4Qr1SXRlf//rX17unWL3+q7/6q62XLwuQCKx3BNIHcL33gKx/IpAIrBQCAoLTsmUw8JVq1qxMIjB3BFIDOHdI84GJQCKQCLSHAD+79LFrD//MORHoCwLpA9iXlspyJgKJQCLQQODYY4+tY/5ZWfvP//zP1SWXXFIHBr/mmmsad+a/iUAikAhsjkASwM3xyP8SgUQgEegNAj/72c+qfffdt/r7v//7ys4kW221VYX8vfCFL+xNHbKgiUAi0A4C6QPYDu6ZayKQCCQCiUAikAgkAq0hkD6ArUGfGScCiUAikAgkAolAItAOAkkA28E9c00EEoFEIBFIBBKBRKA1BJIAtgZ9ZpwIJAKJQCKQCCQCiUA7CCQBbAf3zDURSAQSgUQgEUgEEoHWEEgC2Br0mXEikAgkAolAIpAIJALtIJAEsB3cM9dEIBFIBBKBRCARSARaQyAJYGvQZ8aJQCKQCCQCiUAikAi0g0ASwHZwz1wTgUQgEUgEEoFEIBFoDYEkgK1BnxknAolAIpAIJAKJQCLQDgJJANvBPXNNBBKBRCARSAQSgUSgNQSSALYGfWacCCQCiUAikAgkAolAOwgkAWwH98w1EUgEEoFEIBFIBBKB1hBIAtga9JlxIpAIJAKJQCKQCCQC7SCQBLAd3DPXRCARSAQSgUQgEUgEWkMgCWBr0GfGiUAikAgkAolAIpAItINAEsB2cM9cE4FEIBFIBBKBRCARaA2BJICtQZ8ZJwKJQCKQCCQCiUAi0A4CSQDbwT1zTQQSgUQgEUgEEoFEoDUEkgC2Bn1mnAgkAolAIpAIJAKJQDsIJAFsB/fMNRFIBBKBRCARSAQSgdYQSALYGvSZcSKQCCQCiUAikAgkAu0gkASwHdwz10QgEUgEEoFEIBFIBFpDIAlga9BnxolAIpAIJAKJQCKQCLSDQBLAdnDPXBOBRCARSAQSgUQgEWgNgSSArUGfGScCiUAikAgkAolAItAOAkkA28E9c00EEoFEIBFIBBKBRKA1BJIAtgZ9ZpwIJAKJQCKQCCQCiUA7CCQBbAf3zDURSAQSgUQgEUgEEoHWEEgC2Br0mXEikAgkAolAIpAIJALtIJAEsB3cM9dEIBFIBBKBRCARSARaQyAJYGvQZ8aJQCKQCCQCiUAikAi0g0ASwHZwz1wTgUQgEUgEEoFEIBFoDYEkgK1BnxknAolAIpAIJAKJQCLQDgJJANvBPXNNBBKBRCARSAQSgUSgNQSSALYGfWacCCQCiUAikAgkAolAOwgkAWwH98w1EUgEEoFEIBFIBBKB1hBIAtga9JlxIpAIJAKJQCKQCCQC7SCQBLAd3DPXRCARSAQSgUQgEUgEWkMgCWBr0GfGiUAikAgkAolAIpAItINAEsB2cM9cE4FEIBFIBBKBRCARaA2BJICtQZ8ZJwKJQCKQCCQCiUAi0A4CSQDbwT1zTQQSgUQgEUgEEoFEoDUEkgC2Bn1mnAgkAolAIpAIJAKJQDsIJAFsB/fMNRFIBBKBRCARSAQSgdYQSALYGvSZcSKQCCQCiUAikAgkAu0gkASwHdwz10QgEUgEEoFEIBFIBFpDIAlga9BnxolAIpAIJAKJQCKQCLSDQBLAdnDPXBOBRCARSAQSgUQgEWgNgSSArUGfGScCiUAikAgkAolAItAOAkkA28E9c00EEoFEIBFIBBKBRKA1BJIAtgZ9ZpwIJAKJQCKQCCQCiUA7CPw/nXm9YDhIv+4AAAAASUVORK5CYII=\" width=\"640\">"
      ],
      "text/plain": [
       "<IPython.core.display.HTML object>"
      ]
     },
     "metadata": {},
     "output_type": "display_data"
    }
   ],
   "source": [
    "plt.figure() # create a new figure\n",
    "SE3().plot(frame='0', dims=[-3,3], color='black')\n",
    "T1.plot(frame='1', color='red')\n",
    "T2.plot(frame='2')"
   ]
  },
  {
   "cell_type": "markdown",
   "metadata": {},
   "source": [
    "We could also have written"
   ]
  },
  {
   "cell_type": "code",
   "execution_count": 6,
   "metadata": {},
   "outputs": [],
   "source": [
    "T2 = T1**2\n",
    "\n",
    "T2 = T1\n",
    "T2 *= T1"
   ]
  },
  {
   "cell_type": "markdown",
   "metadata": {},
   "source": [
    "Let's look at what's inside the SE3 object"
   ]
  },
  {
   "cell_type": "code",
   "execution_count": 7,
   "metadata": {},
   "outputs": [
    {
     "data": {
      "text/plain": [
       "  \u001b[38;5;1m\u001b[48;5;255m 1        \u001b[0m\u001b[38;5;1m\u001b[48;5;255m 0        \u001b[0m\u001b[38;5;1m\u001b[48;5;255m 0        \u001b[0m\u001b[38;5;4m\u001b[48;5;255m 2        \u001b[0m\u001b[48;5;255m  \u001b[0m\n",
       "  \u001b[38;5;1m\u001b[48;5;255m 0        \u001b[0m\u001b[38;5;1m\u001b[48;5;255m 1        \u001b[0m\u001b[38;5;1m\u001b[48;5;255m 0        \u001b[0m\u001b[38;5;4m\u001b[48;5;255m 0        \u001b[0m\u001b[48;5;255m  \u001b[0m\n",
       "  \u001b[38;5;1m\u001b[48;5;255m 0        \u001b[0m\u001b[38;5;1m\u001b[48;5;255m 0        \u001b[0m\u001b[38;5;1m\u001b[48;5;255m 1        \u001b[0m\u001b[38;5;4m\u001b[48;5;255m 0        \u001b[0m\u001b[48;5;255m  \u001b[0m\n",
       "  \u001b[38;5;244m\u001b[48;5;255m 0        \u001b[0m\u001b[38;5;244m\u001b[48;5;255m 0        \u001b[0m\u001b[38;5;244m\u001b[48;5;255m 0        \u001b[0m\u001b[38;5;244m\u001b[48;5;255m 1        \u001b[0m\u001b[48;5;255m  \u001b[0m"
      ]
     },
     "execution_count": 7,
     "metadata": {},
     "output_type": "execute_result"
    }
   ],
   "source": [
    "T2"
   ]
  },
  {
   "cell_type": "markdown",
   "metadata": {},
   "source": [
    "and perhaps surprisingly we see that it's a 4x4 matrix.  We could create a motion of 4 units in the Z-direction"
   ]
  },
  {
   "cell_type": "code",
   "execution_count": 8,
   "metadata": {},
   "outputs": [
    {
     "data": {
      "text/plain": [
       "  \u001b[38;5;1m\u001b[48;5;255m 1        \u001b[0m\u001b[38;5;1m\u001b[48;5;255m 0        \u001b[0m\u001b[38;5;1m\u001b[48;5;255m 0        \u001b[0m\u001b[38;5;4m\u001b[48;5;255m 0        \u001b[0m\u001b[48;5;255m  \u001b[0m\n",
       "  \u001b[38;5;1m\u001b[48;5;255m 0        \u001b[0m\u001b[38;5;1m\u001b[48;5;255m 1        \u001b[0m\u001b[38;5;1m\u001b[48;5;255m 0        \u001b[0m\u001b[38;5;4m\u001b[48;5;255m 0        \u001b[0m\u001b[48;5;255m  \u001b[0m\n",
       "  \u001b[38;5;1m\u001b[48;5;255m 0        \u001b[0m\u001b[38;5;1m\u001b[48;5;255m 0        \u001b[0m\u001b[38;5;1m\u001b[48;5;255m 1        \u001b[0m\u001b[38;5;4m\u001b[48;5;255m 4        \u001b[0m\u001b[48;5;255m  \u001b[0m\n",
       "  \u001b[38;5;244m\u001b[48;5;255m 0        \u001b[0m\u001b[38;5;244m\u001b[48;5;255m 0        \u001b[0m\u001b[38;5;244m\u001b[48;5;255m 0        \u001b[0m\u001b[38;5;244m\u001b[48;5;255m 1        \u001b[0m\u001b[48;5;255m  \u001b[0m"
      ]
     },
     "execution_count": 8,
     "metadata": {},
     "output_type": "execute_result"
    }
   ],
   "source": [
    "SE3.Tz(4)"
   ]
  },
  {
   "cell_type": "markdown",
   "metadata": {},
   "source": [
    "and we observe some clear pattern and structure which is accentuated here by the colors.  We see that the numbers concerned with the distance moved are in blue on the right hand side.  \n",
    "\n",
    "These matrices have a very particular structure.  We see a 3x3 identity matrix in red, and the bottom row in grey always has the same values. \n",
    "\n",
    "A mathematician would say these matrices are a subset of all possible real 4x4 matrices which belong to the Special Euclidean _group_ in 3 dimensions which is generally shortened to $\\mbox{SE}(3)$ – hence the name of our Python class.  These matrices represent motions – often referred to as _rigid body motions_ in 3D space.  These matrices are also known as _homogeneous transformation_ matrices – a 4x4 matrix. One characteristic of these matrices is that multiplying them together causes the motions to be added.\n",
    "\n",
    "This certainly seems like overkill for this problem – there are 16 numbers in each of these matrices and we know that only 3 are required to describe a position in 3D space.  It is also quite unintuitive since we multiplied matrices (complex) when we could have just _added_ these displacements using vectors.  Happily this has real advantages when we consider rotations in the next section so suspend your scepticism for now."
   ]
  },
  {
   "cell_type": "markdown",
   "metadata": {},
   "source": [
    "We finish off this section on position by noting that, following the earlier pattern, you can create a motion in the Z-direction by"
   ]
  },
  {
   "cell_type": "code",
   "execution_count": 9,
   "metadata": {},
   "outputs": [
    {
     "data": {
      "text/plain": [
       "  \u001b[38;5;1m\u001b[48;5;255m 1        \u001b[0m\u001b[38;5;1m\u001b[48;5;255m 0        \u001b[0m\u001b[38;5;1m\u001b[48;5;255m 0        \u001b[0m\u001b[38;5;4m\u001b[48;5;255m 0        \u001b[0m\u001b[48;5;255m  \u001b[0m\n",
       "  \u001b[38;5;1m\u001b[48;5;255m 0        \u001b[0m\u001b[38;5;1m\u001b[48;5;255m 1        \u001b[0m\u001b[38;5;1m\u001b[48;5;255m 0        \u001b[0m\u001b[38;5;4m\u001b[48;5;255m 3        \u001b[0m\u001b[48;5;255m  \u001b[0m\n",
       "  \u001b[38;5;1m\u001b[48;5;255m 0        \u001b[0m\u001b[38;5;1m\u001b[48;5;255m 0        \u001b[0m\u001b[38;5;1m\u001b[48;5;255m 1        \u001b[0m\u001b[38;5;4m\u001b[48;5;255m 0        \u001b[0m\u001b[48;5;255m  \u001b[0m\n",
       "  \u001b[38;5;244m\u001b[48;5;255m 0        \u001b[0m\u001b[38;5;244m\u001b[48;5;255m 0        \u001b[0m\u001b[38;5;244m\u001b[48;5;255m 0        \u001b[0m\u001b[38;5;244m\u001b[48;5;255m 1        \u001b[0m\u001b[48;5;255m  \u001b[0m"
      ]
     },
     "execution_count": 9,
     "metadata": {},
     "output_type": "execute_result"
    }
   ],
   "source": [
    "SE3.Ty(3)"
   ]
  },
  {
   "cell_type": "markdown",
   "metadata": {},
   "source": [
    "or we can specify motion in the X-, Y- and Z-directions in one hit. For example"
   ]
  },
  {
   "cell_type": "code",
   "execution_count": 10,
   "metadata": {},
   "outputs": [
    {
     "data": {
      "text/plain": [
       "  \u001b[38;5;1m\u001b[48;5;255m 1        \u001b[0m\u001b[38;5;1m\u001b[48;5;255m 0        \u001b[0m\u001b[38;5;1m\u001b[48;5;255m 0        \u001b[0m\u001b[38;5;4m\u001b[48;5;255m 7        \u001b[0m\u001b[48;5;255m  \u001b[0m\n",
       "  \u001b[38;5;1m\u001b[48;5;255m 0        \u001b[0m\u001b[38;5;1m\u001b[48;5;255m 1        \u001b[0m\u001b[38;5;1m\u001b[48;5;255m 0        \u001b[0m\u001b[38;5;4m\u001b[48;5;255m 8        \u001b[0m\u001b[48;5;255m  \u001b[0m\n",
       "  \u001b[38;5;1m\u001b[48;5;255m 0        \u001b[0m\u001b[38;5;1m\u001b[48;5;255m 0        \u001b[0m\u001b[38;5;1m\u001b[48;5;255m 1        \u001b[0m\u001b[38;5;4m\u001b[48;5;255m 9        \u001b[0m\u001b[48;5;255m  \u001b[0m\n",
       "  \u001b[38;5;244m\u001b[48;5;255m 0        \u001b[0m\u001b[38;5;244m\u001b[48;5;255m 0        \u001b[0m\u001b[38;5;244m\u001b[48;5;255m 0        \u001b[0m\u001b[38;5;244m\u001b[48;5;255m 1        \u001b[0m\u001b[48;5;255m  \u001b[0m"
      ]
     },
     "execution_count": 10,
     "metadata": {},
     "output_type": "execute_result"
    }
   ],
   "source": [
    "SE3(7, 8, 9)"
   ]
  },
  {
   "cell_type": "markdown",
   "metadata": {},
   "source": [
    "which is exactly the same as"
   ]
  },
  {
   "cell_type": "code",
   "execution_count": 11,
   "metadata": {},
   "outputs": [
    {
     "data": {
      "text/plain": [
       "  \u001b[38;5;1m\u001b[48;5;255m 1        \u001b[0m\u001b[38;5;1m\u001b[48;5;255m 0        \u001b[0m\u001b[38;5;1m\u001b[48;5;255m 0        \u001b[0m\u001b[38;5;4m\u001b[48;5;255m 7        \u001b[0m\u001b[48;5;255m  \u001b[0m\n",
       "  \u001b[38;5;1m\u001b[48;5;255m 0        \u001b[0m\u001b[38;5;1m\u001b[48;5;255m 1        \u001b[0m\u001b[38;5;1m\u001b[48;5;255m 0        \u001b[0m\u001b[38;5;4m\u001b[48;5;255m 8        \u001b[0m\u001b[48;5;255m  \u001b[0m\n",
       "  \u001b[38;5;1m\u001b[48;5;255m 0        \u001b[0m\u001b[38;5;1m\u001b[48;5;255m 0        \u001b[0m\u001b[38;5;1m\u001b[48;5;255m 1        \u001b[0m\u001b[38;5;4m\u001b[48;5;255m 9        \u001b[0m\u001b[48;5;255m  \u001b[0m\n",
       "  \u001b[38;5;244m\u001b[48;5;255m 0        \u001b[0m\u001b[38;5;244m\u001b[48;5;255m 0        \u001b[0m\u001b[38;5;244m\u001b[48;5;255m 0        \u001b[0m\u001b[38;5;244m\u001b[48;5;255m 1        \u001b[0m\u001b[48;5;255m  \u001b[0m"
      ]
     },
     "execution_count": 11,
     "metadata": {},
     "output_type": "execute_result"
    }
   ],
   "source": [
    "SE3.Tx(7) * SE3.Ty(8) * SE3.Tz(9)"
   ]
  },
  {
   "cell_type": "markdown",
   "metadata": {},
   "source": [
    "Those following closely might have noticed `SE3()` with no arguments which was used to position the black (world coordinate) frame.  This is simply the null motion."
   ]
  },
  {
   "cell_type": "markdown",
   "metadata": {},
   "source": [
    "Every motion has an \"opposite motion\" which is given by the inverse method"
   ]
  },
  {
   "cell_type": "code",
   "execution_count": 12,
   "metadata": {},
   "outputs": [
    {
     "data": {
      "text/plain": [
       "  \u001b[38;5;1m\u001b[48;5;255m 1        \u001b[0m\u001b[38;5;1m\u001b[48;5;255m 0        \u001b[0m\u001b[38;5;1m\u001b[48;5;255m 0        \u001b[0m\u001b[38;5;4m\u001b[48;5;255m 0        \u001b[0m\u001b[48;5;255m  \u001b[0m\n",
       "  \u001b[38;5;1m\u001b[48;5;255m 0        \u001b[0m\u001b[38;5;1m\u001b[48;5;255m 1        \u001b[0m\u001b[38;5;1m\u001b[48;5;255m 0        \u001b[0m\u001b[38;5;4m\u001b[48;5;255m-2        \u001b[0m\u001b[48;5;255m  \u001b[0m\n",
       "  \u001b[38;5;1m\u001b[48;5;255m 0        \u001b[0m\u001b[38;5;1m\u001b[48;5;255m 0        \u001b[0m\u001b[38;5;1m\u001b[48;5;255m 1        \u001b[0m\u001b[38;5;4m\u001b[48;5;255m 0        \u001b[0m\u001b[48;5;255m  \u001b[0m\n",
       "  \u001b[38;5;244m\u001b[48;5;255m 0        \u001b[0m\u001b[38;5;244m\u001b[48;5;255m 0        \u001b[0m\u001b[38;5;244m\u001b[48;5;255m 0        \u001b[0m\u001b[38;5;244m\u001b[48;5;255m 1        \u001b[0m\u001b[48;5;255m  \u001b[0m"
      ]
     },
     "execution_count": 12,
     "metadata": {},
     "output_type": "execute_result"
    }
   ],
   "source": [
    "SE3.Ty(2).inv"
   ]
  },
  {
   "cell_type": "markdown",
   "metadata": {},
   "source": [
    "So doing a motion, then the inverse motion "
   ]
  },
  {
   "cell_type": "code",
   "execution_count": 13,
   "metadata": {},
   "outputs": [
    {
     "data": {
      "text/plain": [
       "  \u001b[38;5;1m\u001b[48;5;255m 1        \u001b[0m\u001b[38;5;1m\u001b[48;5;255m 0        \u001b[0m\u001b[38;5;1m\u001b[48;5;255m 0        \u001b[0m\u001b[38;5;4m\u001b[48;5;255m 0        \u001b[0m\u001b[48;5;255m  \u001b[0m\n",
       "  \u001b[38;5;1m\u001b[48;5;255m 0        \u001b[0m\u001b[38;5;1m\u001b[48;5;255m 1        \u001b[0m\u001b[38;5;1m\u001b[48;5;255m 0        \u001b[0m\u001b[38;5;4m\u001b[48;5;255m 0        \u001b[0m\u001b[48;5;255m  \u001b[0m\n",
       "  \u001b[38;5;1m\u001b[48;5;255m 0        \u001b[0m\u001b[38;5;1m\u001b[48;5;255m 0        \u001b[0m\u001b[38;5;1m\u001b[48;5;255m 1        \u001b[0m\u001b[38;5;4m\u001b[48;5;255m 0        \u001b[0m\u001b[48;5;255m  \u001b[0m\n",
       "  \u001b[38;5;244m\u001b[48;5;255m 0        \u001b[0m\u001b[38;5;244m\u001b[48;5;255m 0        \u001b[0m\u001b[38;5;244m\u001b[48;5;255m 0        \u001b[0m\u001b[38;5;244m\u001b[48;5;255m 1        \u001b[0m\u001b[48;5;255m  \u001b[0m"
      ]
     },
     "execution_count": 13,
     "metadata": {},
     "output_type": "execute_result"
    }
   ],
   "source": [
    "SE3.Ty(2) * SE3.Ty(2).inv"
   ]
  },
  {
   "cell_type": "markdown",
   "metadata": {},
   "source": [
    "is a null motion.  Two steps forward, then two steps back."
   ]
  },
  {
   "cell_type": "markdown",
   "metadata": {},
   "source": [
    "Earlier we visualized an `SE3` object as a coordinate frame, not as a point.  Coordinate frames are extremely useful when thinking about problems in robotics – we typically attach them to a robot's end-effector, a camera or a drone.  They indicate not just where something is, but how it is oriented. The extra information that allows us to visualize an `SE3` object as a frame, not as a point, comes from all that extra information encoded in the SE(3) matrix.\n",
    "\n",
    "Consider that the frame is attached to a robot, and there is a point on the robot that is at a coordinate (1,2,3) with respect to that frame.  As the frame moves, that point moves with it and changes with respect to the world coordinate frame.  Let's define the point as"
   ]
  },
  {
   "cell_type": "code",
   "execution_count": 14,
   "metadata": {},
   "outputs": [],
   "source": [
    "P = [1,2,3]"
   ]
  },
  {
   "cell_type": "markdown",
   "metadata": {},
   "source": [
    "which we have done with a Python list but we could also use a tuple or a numpy array. If the robot is at position of (4,5,6) then the point is _transformed_ to"
   ]
  },
  {
   "cell_type": "code",
   "execution_count": 16,
   "metadata": {
    "scrolled": true
   },
   "outputs": [
    {
     "data": {
      "text/plain": [
       "array([5., 7., 9.])"
      ]
     },
     "execution_count": 16,
     "metadata": {},
     "output_type": "execute_result"
    }
   ],
   "source": [
    "SE3(4,5,6) * P"
   ]
  },
  {
   "cell_type": "markdown",
   "metadata": {},
   "source": [
    "which is as expected.\n",
    "\n",
    "Again, this is almost trivial, but is far from trivial when we talk about the coordinate frames that are rotated with respect to the world coordinate frame."
   ]
  },
  {
   "cell_type": "markdown",
   "metadata": {},
   "source": [
    "## Representing Rotation"
   ]
  },
  {
   "cell_type": "markdown",
   "metadata": {},
   "source": [
    "The simplest rotations we can create are about one of the world coordinate axes.  For example a rotation of $\\pi/4$ radians around the x-axis is given by"
   ]
  },
  {
   "cell_type": "code",
   "execution_count": 17,
   "metadata": {},
   "outputs": [],
   "source": [
    "R1 = SO3.Rx(pi/4)"
   ]
  },
  {
   "cell_type": "markdown",
   "metadata": {},
   "source": [
    "which we can visualize by"
   ]
  },
  {
   "cell_type": "code",
   "execution_count": 18,
   "metadata": {},
   "outputs": [
    {
     "data": {
      "application/javascript": [
       "/* Put everything inside the global mpl namespace */\n",
       "window.mpl = {};\n",
       "\n",
       "\n",
       "mpl.get_websocket_type = function() {\n",
       "    if (typeof(WebSocket) !== 'undefined') {\n",
       "        return WebSocket;\n",
       "    } else if (typeof(MozWebSocket) !== 'undefined') {\n",
       "        return MozWebSocket;\n",
       "    } else {\n",
       "        alert('Your browser does not have WebSocket support. ' +\n",
       "              'Please try Chrome, Safari or Firefox ≥ 6. ' +\n",
       "              'Firefox 4 and 5 are also supported but you ' +\n",
       "              'have to enable WebSockets in about:config.');\n",
       "    };\n",
       "}\n",
       "\n",
       "mpl.figure = function(figure_id, websocket, ondownload, parent_element) {\n",
       "    this.id = figure_id;\n",
       "\n",
       "    this.ws = websocket;\n",
       "\n",
       "    this.supports_binary = (this.ws.binaryType != undefined);\n",
       "\n",
       "    if (!this.supports_binary) {\n",
       "        var warnings = document.getElementById(\"mpl-warnings\");\n",
       "        if (warnings) {\n",
       "            warnings.style.display = 'block';\n",
       "            warnings.textContent = (\n",
       "                \"This browser does not support binary websocket messages. \" +\n",
       "                    \"Performance may be slow.\");\n",
       "        }\n",
       "    }\n",
       "\n",
       "    this.imageObj = new Image();\n",
       "\n",
       "    this.context = undefined;\n",
       "    this.message = undefined;\n",
       "    this.canvas = undefined;\n",
       "    this.rubberband_canvas = undefined;\n",
       "    this.rubberband_context = undefined;\n",
       "    this.format_dropdown = undefined;\n",
       "\n",
       "    this.image_mode = 'full';\n",
       "\n",
       "    this.root = $('<div/>');\n",
       "    this._root_extra_style(this.root)\n",
       "    this.root.attr('style', 'display: inline-block');\n",
       "\n",
       "    $(parent_element).append(this.root);\n",
       "\n",
       "    this._init_header(this);\n",
       "    this._init_canvas(this);\n",
       "    this._init_toolbar(this);\n",
       "\n",
       "    var fig = this;\n",
       "\n",
       "    this.waiting = false;\n",
       "\n",
       "    this.ws.onopen =  function () {\n",
       "            fig.send_message(\"supports_binary\", {value: fig.supports_binary});\n",
       "            fig.send_message(\"send_image_mode\", {});\n",
       "            if (mpl.ratio != 1) {\n",
       "                fig.send_message(\"set_dpi_ratio\", {'dpi_ratio': mpl.ratio});\n",
       "            }\n",
       "            fig.send_message(\"refresh\", {});\n",
       "        }\n",
       "\n",
       "    this.imageObj.onload = function() {\n",
       "            if (fig.image_mode == 'full') {\n",
       "                // Full images could contain transparency (where diff images\n",
       "                // almost always do), so we need to clear the canvas so that\n",
       "                // there is no ghosting.\n",
       "                fig.context.clearRect(0, 0, fig.canvas.width, fig.canvas.height);\n",
       "            }\n",
       "            fig.context.drawImage(fig.imageObj, 0, 0);\n",
       "        };\n",
       "\n",
       "    this.imageObj.onunload = function() {\n",
       "        fig.ws.close();\n",
       "    }\n",
       "\n",
       "    this.ws.onmessage = this._make_on_message_function(this);\n",
       "\n",
       "    this.ondownload = ondownload;\n",
       "}\n",
       "\n",
       "mpl.figure.prototype._init_header = function() {\n",
       "    var titlebar = $(\n",
       "        '<div class=\"ui-dialog-titlebar ui-widget-header ui-corner-all ' +\n",
       "        'ui-helper-clearfix\"/>');\n",
       "    var titletext = $(\n",
       "        '<div class=\"ui-dialog-title\" style=\"width: 100%; ' +\n",
       "        'text-align: center; padding: 3px;\"/>');\n",
       "    titlebar.append(titletext)\n",
       "    this.root.append(titlebar);\n",
       "    this.header = titletext[0];\n",
       "}\n",
       "\n",
       "\n",
       "\n",
       "mpl.figure.prototype._canvas_extra_style = function(canvas_div) {\n",
       "\n",
       "}\n",
       "\n",
       "\n",
       "mpl.figure.prototype._root_extra_style = function(canvas_div) {\n",
       "\n",
       "}\n",
       "\n",
       "mpl.figure.prototype._init_canvas = function() {\n",
       "    var fig = this;\n",
       "\n",
       "    var canvas_div = $('<div/>');\n",
       "\n",
       "    canvas_div.attr('style', 'position: relative; clear: both; outline: 0');\n",
       "\n",
       "    function canvas_keyboard_event(event) {\n",
       "        return fig.key_event(event, event['data']);\n",
       "    }\n",
       "\n",
       "    canvas_div.keydown('key_press', canvas_keyboard_event);\n",
       "    canvas_div.keyup('key_release', canvas_keyboard_event);\n",
       "    this.canvas_div = canvas_div\n",
       "    this._canvas_extra_style(canvas_div)\n",
       "    this.root.append(canvas_div);\n",
       "\n",
       "    var canvas = $('<canvas/>');\n",
       "    canvas.addClass('mpl-canvas');\n",
       "    canvas.attr('style', \"left: 0; top: 0; z-index: 0; outline: 0\")\n",
       "\n",
       "    this.canvas = canvas[0];\n",
       "    this.context = canvas[0].getContext(\"2d\");\n",
       "\n",
       "    var backingStore = this.context.backingStorePixelRatio ||\n",
       "\tthis.context.webkitBackingStorePixelRatio ||\n",
       "\tthis.context.mozBackingStorePixelRatio ||\n",
       "\tthis.context.msBackingStorePixelRatio ||\n",
       "\tthis.context.oBackingStorePixelRatio ||\n",
       "\tthis.context.backingStorePixelRatio || 1;\n",
       "\n",
       "    mpl.ratio = (window.devicePixelRatio || 1) / backingStore;\n",
       "\n",
       "    var rubberband = $('<canvas/>');\n",
       "    rubberband.attr('style', \"position: absolute; left: 0; top: 0; z-index: 1;\")\n",
       "\n",
       "    var pass_mouse_events = true;\n",
       "\n",
       "    canvas_div.resizable({\n",
       "        start: function(event, ui) {\n",
       "            pass_mouse_events = false;\n",
       "        },\n",
       "        resize: function(event, ui) {\n",
       "            fig.request_resize(ui.size.width, ui.size.height);\n",
       "        },\n",
       "        stop: function(event, ui) {\n",
       "            pass_mouse_events = true;\n",
       "            fig.request_resize(ui.size.width, ui.size.height);\n",
       "        },\n",
       "    });\n",
       "\n",
       "    function mouse_event_fn(event) {\n",
       "        if (pass_mouse_events)\n",
       "            return fig.mouse_event(event, event['data']);\n",
       "    }\n",
       "\n",
       "    rubberband.mousedown('button_press', mouse_event_fn);\n",
       "    rubberband.mouseup('button_release', mouse_event_fn);\n",
       "    // Throttle sequential mouse events to 1 every 20ms.\n",
       "    rubberband.mousemove('motion_notify', mouse_event_fn);\n",
       "\n",
       "    rubberband.mouseenter('figure_enter', mouse_event_fn);\n",
       "    rubberband.mouseleave('figure_leave', mouse_event_fn);\n",
       "\n",
       "    canvas_div.on(\"wheel\", function (event) {\n",
       "        event = event.originalEvent;\n",
       "        event['data'] = 'scroll'\n",
       "        if (event.deltaY < 0) {\n",
       "            event.step = 1;\n",
       "        } else {\n",
       "            event.step = -1;\n",
       "        }\n",
       "        mouse_event_fn(event);\n",
       "    });\n",
       "\n",
       "    canvas_div.append(canvas);\n",
       "    canvas_div.append(rubberband);\n",
       "\n",
       "    this.rubberband = rubberband;\n",
       "    this.rubberband_canvas = rubberband[0];\n",
       "    this.rubberband_context = rubberband[0].getContext(\"2d\");\n",
       "    this.rubberband_context.strokeStyle = \"#000000\";\n",
       "\n",
       "    this._resize_canvas = function(width, height) {\n",
       "        // Keep the size of the canvas, canvas container, and rubber band\n",
       "        // canvas in synch.\n",
       "        canvas_div.css('width', width)\n",
       "        canvas_div.css('height', height)\n",
       "\n",
       "        canvas.attr('width', width * mpl.ratio);\n",
       "        canvas.attr('height', height * mpl.ratio);\n",
       "        canvas.attr('style', 'width: ' + width + 'px; height: ' + height + 'px;');\n",
       "\n",
       "        rubberband.attr('width', width);\n",
       "        rubberband.attr('height', height);\n",
       "    }\n",
       "\n",
       "    // Set the figure to an initial 600x600px, this will subsequently be updated\n",
       "    // upon first draw.\n",
       "    this._resize_canvas(600, 600);\n",
       "\n",
       "    // Disable right mouse context menu.\n",
       "    $(this.rubberband_canvas).bind(\"contextmenu\",function(e){\n",
       "        return false;\n",
       "    });\n",
       "\n",
       "    function set_focus () {\n",
       "        canvas.focus();\n",
       "        canvas_div.focus();\n",
       "    }\n",
       "\n",
       "    window.setTimeout(set_focus, 100);\n",
       "}\n",
       "\n",
       "mpl.figure.prototype._init_toolbar = function() {\n",
       "    var fig = this;\n",
       "\n",
       "    var nav_element = $('<div/>');\n",
       "    nav_element.attr('style', 'width: 100%');\n",
       "    this.root.append(nav_element);\n",
       "\n",
       "    // Define a callback function for later on.\n",
       "    function toolbar_event(event) {\n",
       "        return fig.toolbar_button_onclick(event['data']);\n",
       "    }\n",
       "    function toolbar_mouse_event(event) {\n",
       "        return fig.toolbar_button_onmouseover(event['data']);\n",
       "    }\n",
       "\n",
       "    for(var toolbar_ind in mpl.toolbar_items) {\n",
       "        var name = mpl.toolbar_items[toolbar_ind][0];\n",
       "        var tooltip = mpl.toolbar_items[toolbar_ind][1];\n",
       "        var image = mpl.toolbar_items[toolbar_ind][2];\n",
       "        var method_name = mpl.toolbar_items[toolbar_ind][3];\n",
       "\n",
       "        if (!name) {\n",
       "            // put a spacer in here.\n",
       "            continue;\n",
       "        }\n",
       "        var button = $('<button/>');\n",
       "        button.addClass('ui-button ui-widget ui-state-default ui-corner-all ' +\n",
       "                        'ui-button-icon-only');\n",
       "        button.attr('role', 'button');\n",
       "        button.attr('aria-disabled', 'false');\n",
       "        button.click(method_name, toolbar_event);\n",
       "        button.mouseover(tooltip, toolbar_mouse_event);\n",
       "\n",
       "        var icon_img = $('<span/>');\n",
       "        icon_img.addClass('ui-button-icon-primary ui-icon');\n",
       "        icon_img.addClass(image);\n",
       "        icon_img.addClass('ui-corner-all');\n",
       "\n",
       "        var tooltip_span = $('<span/>');\n",
       "        tooltip_span.addClass('ui-button-text');\n",
       "        tooltip_span.html(tooltip);\n",
       "\n",
       "        button.append(icon_img);\n",
       "        button.append(tooltip_span);\n",
       "\n",
       "        nav_element.append(button);\n",
       "    }\n",
       "\n",
       "    var fmt_picker_span = $('<span/>');\n",
       "\n",
       "    var fmt_picker = $('<select/>');\n",
       "    fmt_picker.addClass('mpl-toolbar-option ui-widget ui-widget-content');\n",
       "    fmt_picker_span.append(fmt_picker);\n",
       "    nav_element.append(fmt_picker_span);\n",
       "    this.format_dropdown = fmt_picker[0];\n",
       "\n",
       "    for (var ind in mpl.extensions) {\n",
       "        var fmt = mpl.extensions[ind];\n",
       "        var option = $(\n",
       "            '<option/>', {selected: fmt === mpl.default_extension}).html(fmt);\n",
       "        fmt_picker.append(option);\n",
       "    }\n",
       "\n",
       "    // Add hover states to the ui-buttons\n",
       "    $( \".ui-button\" ).hover(\n",
       "        function() { $(this).addClass(\"ui-state-hover\");},\n",
       "        function() { $(this).removeClass(\"ui-state-hover\");}\n",
       "    );\n",
       "\n",
       "    var status_bar = $('<span class=\"mpl-message\"/>');\n",
       "    nav_element.append(status_bar);\n",
       "    this.message = status_bar[0];\n",
       "}\n",
       "\n",
       "mpl.figure.prototype.request_resize = function(x_pixels, y_pixels) {\n",
       "    // Request matplotlib to resize the figure. Matplotlib will then trigger a resize in the client,\n",
       "    // which will in turn request a refresh of the image.\n",
       "    this.send_message('resize', {'width': x_pixels, 'height': y_pixels});\n",
       "}\n",
       "\n",
       "mpl.figure.prototype.send_message = function(type, properties) {\n",
       "    properties['type'] = type;\n",
       "    properties['figure_id'] = this.id;\n",
       "    this.ws.send(JSON.stringify(properties));\n",
       "}\n",
       "\n",
       "mpl.figure.prototype.send_draw_message = function() {\n",
       "    if (!this.waiting) {\n",
       "        this.waiting = true;\n",
       "        this.ws.send(JSON.stringify({type: \"draw\", figure_id: this.id}));\n",
       "    }\n",
       "}\n",
       "\n",
       "\n",
       "mpl.figure.prototype.handle_save = function(fig, msg) {\n",
       "    var format_dropdown = fig.format_dropdown;\n",
       "    var format = format_dropdown.options[format_dropdown.selectedIndex].value;\n",
       "    fig.ondownload(fig, format);\n",
       "}\n",
       "\n",
       "\n",
       "mpl.figure.prototype.handle_resize = function(fig, msg) {\n",
       "    var size = msg['size'];\n",
       "    if (size[0] != fig.canvas.width || size[1] != fig.canvas.height) {\n",
       "        fig._resize_canvas(size[0], size[1]);\n",
       "        fig.send_message(\"refresh\", {});\n",
       "    };\n",
       "}\n",
       "\n",
       "mpl.figure.prototype.handle_rubberband = function(fig, msg) {\n",
       "    var x0 = msg['x0'] / mpl.ratio;\n",
       "    var y0 = (fig.canvas.height - msg['y0']) / mpl.ratio;\n",
       "    var x1 = msg['x1'] / mpl.ratio;\n",
       "    var y1 = (fig.canvas.height - msg['y1']) / mpl.ratio;\n",
       "    x0 = Math.floor(x0) + 0.5;\n",
       "    y0 = Math.floor(y0) + 0.5;\n",
       "    x1 = Math.floor(x1) + 0.5;\n",
       "    y1 = Math.floor(y1) + 0.5;\n",
       "    var min_x = Math.min(x0, x1);\n",
       "    var min_y = Math.min(y0, y1);\n",
       "    var width = Math.abs(x1 - x0);\n",
       "    var height = Math.abs(y1 - y0);\n",
       "\n",
       "    fig.rubberband_context.clearRect(\n",
       "        0, 0, fig.canvas.width / mpl.ratio, fig.canvas.height / mpl.ratio);\n",
       "\n",
       "    fig.rubberband_context.strokeRect(min_x, min_y, width, height);\n",
       "}\n",
       "\n",
       "mpl.figure.prototype.handle_figure_label = function(fig, msg) {\n",
       "    // Updates the figure title.\n",
       "    fig.header.textContent = msg['label'];\n",
       "}\n",
       "\n",
       "mpl.figure.prototype.handle_cursor = function(fig, msg) {\n",
       "    var cursor = msg['cursor'];\n",
       "    switch(cursor)\n",
       "    {\n",
       "    case 0:\n",
       "        cursor = 'pointer';\n",
       "        break;\n",
       "    case 1:\n",
       "        cursor = 'default';\n",
       "        break;\n",
       "    case 2:\n",
       "        cursor = 'crosshair';\n",
       "        break;\n",
       "    case 3:\n",
       "        cursor = 'move';\n",
       "        break;\n",
       "    }\n",
       "    fig.rubberband_canvas.style.cursor = cursor;\n",
       "}\n",
       "\n",
       "mpl.figure.prototype.handle_message = function(fig, msg) {\n",
       "    fig.message.textContent = msg['message'];\n",
       "}\n",
       "\n",
       "mpl.figure.prototype.handle_draw = function(fig, msg) {\n",
       "    // Request the server to send over a new figure.\n",
       "    fig.send_draw_message();\n",
       "}\n",
       "\n",
       "mpl.figure.prototype.handle_image_mode = function(fig, msg) {\n",
       "    fig.image_mode = msg['mode'];\n",
       "}\n",
       "\n",
       "mpl.figure.prototype.updated_canvas_event = function() {\n",
       "    // Called whenever the canvas gets updated.\n",
       "    this.send_message(\"ack\", {});\n",
       "}\n",
       "\n",
       "// A function to construct a web socket function for onmessage handling.\n",
       "// Called in the figure constructor.\n",
       "mpl.figure.prototype._make_on_message_function = function(fig) {\n",
       "    return function socket_on_message(evt) {\n",
       "        if (evt.data instanceof Blob) {\n",
       "            /* FIXME: We get \"Resource interpreted as Image but\n",
       "             * transferred with MIME type text/plain:\" errors on\n",
       "             * Chrome.  But how to set the MIME type?  It doesn't seem\n",
       "             * to be part of the websocket stream */\n",
       "            evt.data.type = \"image/png\";\n",
       "\n",
       "            /* Free the memory for the previous frames */\n",
       "            if (fig.imageObj.src) {\n",
       "                (window.URL || window.webkitURL).revokeObjectURL(\n",
       "                    fig.imageObj.src);\n",
       "            }\n",
       "\n",
       "            fig.imageObj.src = (window.URL || window.webkitURL).createObjectURL(\n",
       "                evt.data);\n",
       "            fig.updated_canvas_event();\n",
       "            fig.waiting = false;\n",
       "            return;\n",
       "        }\n",
       "        else if (typeof evt.data === 'string' && evt.data.slice(0, 21) == \"data:image/png;base64\") {\n",
       "            fig.imageObj.src = evt.data;\n",
       "            fig.updated_canvas_event();\n",
       "            fig.waiting = false;\n",
       "            return;\n",
       "        }\n",
       "\n",
       "        var msg = JSON.parse(evt.data);\n",
       "        var msg_type = msg['type'];\n",
       "\n",
       "        // Call the  \"handle_{type}\" callback, which takes\n",
       "        // the figure and JSON message as its only arguments.\n",
       "        try {\n",
       "            var callback = fig[\"handle_\" + msg_type];\n",
       "        } catch (e) {\n",
       "            console.log(\"No handler for the '\" + msg_type + \"' message type: \", msg);\n",
       "            return;\n",
       "        }\n",
       "\n",
       "        if (callback) {\n",
       "            try {\n",
       "                // console.log(\"Handling '\" + msg_type + \"' message: \", msg);\n",
       "                callback(fig, msg);\n",
       "            } catch (e) {\n",
       "                console.log(\"Exception inside the 'handler_\" + msg_type + \"' callback:\", e, e.stack, msg);\n",
       "            }\n",
       "        }\n",
       "    };\n",
       "}\n",
       "\n",
       "// from http://stackoverflow.com/questions/1114465/getting-mouse-location-in-canvas\n",
       "mpl.findpos = function(e) {\n",
       "    //this section is from http://www.quirksmode.org/js/events_properties.html\n",
       "    var targ;\n",
       "    if (!e)\n",
       "        e = window.event;\n",
       "    if (e.target)\n",
       "        targ = e.target;\n",
       "    else if (e.srcElement)\n",
       "        targ = e.srcElement;\n",
       "    if (targ.nodeType == 3) // defeat Safari bug\n",
       "        targ = targ.parentNode;\n",
       "\n",
       "    // jQuery normalizes the pageX and pageY\n",
       "    // pageX,Y are the mouse positions relative to the document\n",
       "    // offset() returns the position of the element relative to the document\n",
       "    var x = e.pageX - $(targ).offset().left;\n",
       "    var y = e.pageY - $(targ).offset().top;\n",
       "\n",
       "    return {\"x\": x, \"y\": y};\n",
       "};\n",
       "\n",
       "/*\n",
       " * return a copy of an object with only non-object keys\n",
       " * we need this to avoid circular references\n",
       " * http://stackoverflow.com/a/24161582/3208463\n",
       " */\n",
       "function simpleKeys (original) {\n",
       "  return Object.keys(original).reduce(function (obj, key) {\n",
       "    if (typeof original[key] !== 'object')\n",
       "        obj[key] = original[key]\n",
       "    return obj;\n",
       "  }, {});\n",
       "}\n",
       "\n",
       "mpl.figure.prototype.mouse_event = function(event, name) {\n",
       "    var canvas_pos = mpl.findpos(event)\n",
       "\n",
       "    if (name === 'button_press')\n",
       "    {\n",
       "        this.canvas.focus();\n",
       "        this.canvas_div.focus();\n",
       "    }\n",
       "\n",
       "    var x = canvas_pos.x * mpl.ratio;\n",
       "    var y = canvas_pos.y * mpl.ratio;\n",
       "\n",
       "    this.send_message(name, {x: x, y: y, button: event.button,\n",
       "                             step: event.step,\n",
       "                             guiEvent: simpleKeys(event)});\n",
       "\n",
       "    /* This prevents the web browser from automatically changing to\n",
       "     * the text insertion cursor when the button is pressed.  We want\n",
       "     * to control all of the cursor setting manually through the\n",
       "     * 'cursor' event from matplotlib */\n",
       "    event.preventDefault();\n",
       "    return false;\n",
       "}\n",
       "\n",
       "mpl.figure.prototype._key_event_extra = function(event, name) {\n",
       "    // Handle any extra behaviour associated with a key event\n",
       "}\n",
       "\n",
       "mpl.figure.prototype.key_event = function(event, name) {\n",
       "\n",
       "    // Prevent repeat events\n",
       "    if (name == 'key_press')\n",
       "    {\n",
       "        if (event.which === this._key)\n",
       "            return;\n",
       "        else\n",
       "            this._key = event.which;\n",
       "    }\n",
       "    if (name == 'key_release')\n",
       "        this._key = null;\n",
       "\n",
       "    var value = '';\n",
       "    if (event.ctrlKey && event.which != 17)\n",
       "        value += \"ctrl+\";\n",
       "    if (event.altKey && event.which != 18)\n",
       "        value += \"alt+\";\n",
       "    if (event.shiftKey && event.which != 16)\n",
       "        value += \"shift+\";\n",
       "\n",
       "    value += 'k';\n",
       "    value += event.which.toString();\n",
       "\n",
       "    this._key_event_extra(event, name);\n",
       "\n",
       "    this.send_message(name, {key: value,\n",
       "                             guiEvent: simpleKeys(event)});\n",
       "    return false;\n",
       "}\n",
       "\n",
       "mpl.figure.prototype.toolbar_button_onclick = function(name) {\n",
       "    if (name == 'download') {\n",
       "        this.handle_save(this, null);\n",
       "    } else {\n",
       "        this.send_message(\"toolbar_button\", {name: name});\n",
       "    }\n",
       "};\n",
       "\n",
       "mpl.figure.prototype.toolbar_button_onmouseover = function(tooltip) {\n",
       "    this.message.textContent = tooltip;\n",
       "};\n",
       "mpl.toolbar_items = [[\"Home\", \"Reset original view\", \"fa fa-home icon-home\", \"home\"], [\"Back\", \"Back to previous view\", \"fa fa-arrow-left icon-arrow-left\", \"back\"], [\"Forward\", \"Forward to next view\", \"fa fa-arrow-right icon-arrow-right\", \"forward\"], [\"\", \"\", \"\", \"\"], [\"Pan\", \"Pan axes with left mouse, zoom with right\", \"fa fa-arrows icon-move\", \"pan\"], [\"Zoom\", \"Zoom to rectangle\", \"fa fa-square-o icon-check-empty\", \"zoom\"], [\"\", \"\", \"\", \"\"], [\"Download\", \"Download plot\", \"fa fa-floppy-o icon-save\", \"download\"]];\n",
       "\n",
       "mpl.extensions = [\"eps\", \"jpeg\", \"pdf\", \"png\", \"ps\", \"raw\", \"svg\", \"tif\"];\n",
       "\n",
       "mpl.default_extension = \"png\";var comm_websocket_adapter = function(comm) {\n",
       "    // Create a \"websocket\"-like object which calls the given IPython comm\n",
       "    // object with the appropriate methods. Currently this is a non binary\n",
       "    // socket, so there is still some room for performance tuning.\n",
       "    var ws = {};\n",
       "\n",
       "    ws.close = function() {\n",
       "        comm.close()\n",
       "    };\n",
       "    ws.send = function(m) {\n",
       "        //console.log('sending', m);\n",
       "        comm.send(m);\n",
       "    };\n",
       "    // Register the callback with on_msg.\n",
       "    comm.on_msg(function(msg) {\n",
       "        //console.log('receiving', msg['content']['data'], msg);\n",
       "        // Pass the mpl event to the overridden (by mpl) onmessage function.\n",
       "        ws.onmessage(msg['content']['data'])\n",
       "    });\n",
       "    return ws;\n",
       "}\n",
       "\n",
       "mpl.mpl_figure_comm = function(comm, msg) {\n",
       "    // This is the function which gets called when the mpl process\n",
       "    // starts-up an IPython Comm through the \"matplotlib\" channel.\n",
       "\n",
       "    var id = msg.content.data.id;\n",
       "    // Get hold of the div created by the display call when the Comm\n",
       "    // socket was opened in Python.\n",
       "    var element = $(\"#\" + id);\n",
       "    var ws_proxy = comm_websocket_adapter(comm)\n",
       "\n",
       "    function ondownload(figure, format) {\n",
       "        window.open(figure.imageObj.src);\n",
       "    }\n",
       "\n",
       "    var fig = new mpl.figure(id, ws_proxy,\n",
       "                           ondownload,\n",
       "                           element.get(0));\n",
       "\n",
       "    // Call onopen now - mpl needs it, as it is assuming we've passed it a real\n",
       "    // web socket which is closed, not our websocket->open comm proxy.\n",
       "    ws_proxy.onopen();\n",
       "\n",
       "    fig.parent_element = element.get(0);\n",
       "    fig.cell_info = mpl.find_output_cell(\"<div id='\" + id + \"'></div>\");\n",
       "    if (!fig.cell_info) {\n",
       "        console.error(\"Failed to find cell for figure\", id, fig);\n",
       "        return;\n",
       "    }\n",
       "\n",
       "    var output_index = fig.cell_info[2]\n",
       "    var cell = fig.cell_info[0];\n",
       "\n",
       "};\n",
       "\n",
       "mpl.figure.prototype.handle_close = function(fig, msg) {\n",
       "    var width = fig.canvas.width/mpl.ratio\n",
       "    fig.root.unbind('remove')\n",
       "\n",
       "    // Update the output cell to use the data from the current canvas.\n",
       "    fig.push_to_output();\n",
       "    var dataURL = fig.canvas.toDataURL();\n",
       "    // Re-enable the keyboard manager in IPython - without this line, in FF,\n",
       "    // the notebook keyboard shortcuts fail.\n",
       "    IPython.keyboard_manager.enable()\n",
       "    $(fig.parent_element).html('<img src=\"' + dataURL + '\" width=\"' + width + '\">');\n",
       "    fig.close_ws(fig, msg);\n",
       "}\n",
       "\n",
       "mpl.figure.prototype.close_ws = function(fig, msg){\n",
       "    fig.send_message('closing', msg);\n",
       "    // fig.ws.close()\n",
       "}\n",
       "\n",
       "mpl.figure.prototype.push_to_output = function(remove_interactive) {\n",
       "    // Turn the data on the canvas into data in the output cell.\n",
       "    var width = this.canvas.width/mpl.ratio\n",
       "    var dataURL = this.canvas.toDataURL();\n",
       "    this.cell_info[1]['text/html'] = '<img src=\"' + dataURL + '\" width=\"' + width + '\">';\n",
       "}\n",
       "\n",
       "mpl.figure.prototype.updated_canvas_event = function() {\n",
       "    // Tell IPython that the notebook contents must change.\n",
       "    IPython.notebook.set_dirty(true);\n",
       "    this.send_message(\"ack\", {});\n",
       "    var fig = this;\n",
       "    // Wait a second, then push the new image to the DOM so\n",
       "    // that it is saved nicely (might be nice to debounce this).\n",
       "    setTimeout(function () { fig.push_to_output() }, 1000);\n",
       "}\n",
       "\n",
       "mpl.figure.prototype._init_toolbar = function() {\n",
       "    var fig = this;\n",
       "\n",
       "    var nav_element = $('<div/>');\n",
       "    nav_element.attr('style', 'width: 100%');\n",
       "    this.root.append(nav_element);\n",
       "\n",
       "    // Define a callback function for later on.\n",
       "    function toolbar_event(event) {\n",
       "        return fig.toolbar_button_onclick(event['data']);\n",
       "    }\n",
       "    function toolbar_mouse_event(event) {\n",
       "        return fig.toolbar_button_onmouseover(event['data']);\n",
       "    }\n",
       "\n",
       "    for(var toolbar_ind in mpl.toolbar_items){\n",
       "        var name = mpl.toolbar_items[toolbar_ind][0];\n",
       "        var tooltip = mpl.toolbar_items[toolbar_ind][1];\n",
       "        var image = mpl.toolbar_items[toolbar_ind][2];\n",
       "        var method_name = mpl.toolbar_items[toolbar_ind][3];\n",
       "\n",
       "        if (!name) { continue; };\n",
       "\n",
       "        var button = $('<button class=\"btn btn-default\" href=\"#\" title=\"' + name + '\"><i class=\"fa ' + image + ' fa-lg\"></i></button>');\n",
       "        button.click(method_name, toolbar_event);\n",
       "        button.mouseover(tooltip, toolbar_mouse_event);\n",
       "        nav_element.append(button);\n",
       "    }\n",
       "\n",
       "    // Add the status bar.\n",
       "    var status_bar = $('<span class=\"mpl-message\" style=\"text-align:right; float: right;\"/>');\n",
       "    nav_element.append(status_bar);\n",
       "    this.message = status_bar[0];\n",
       "\n",
       "    // Add the close button to the window.\n",
       "    var buttongrp = $('<div class=\"btn-group inline pull-right\"></div>');\n",
       "    var button = $('<button class=\"btn btn-mini btn-primary\" href=\"#\" title=\"Stop Interaction\"><i class=\"fa fa-power-off icon-remove icon-large\"></i></button>');\n",
       "    button.click(function (evt) { fig.handle_close(fig, {}); } );\n",
       "    button.mouseover('Stop Interaction', toolbar_mouse_event);\n",
       "    buttongrp.append(button);\n",
       "    var titlebar = this.root.find($('.ui-dialog-titlebar'));\n",
       "    titlebar.prepend(buttongrp);\n",
       "}\n",
       "\n",
       "mpl.figure.prototype._root_extra_style = function(el){\n",
       "    var fig = this\n",
       "    el.on(\"remove\", function(){\n",
       "\tfig.close_ws(fig, {});\n",
       "    });\n",
       "}\n",
       "\n",
       "mpl.figure.prototype._canvas_extra_style = function(el){\n",
       "    // this is important to make the div 'focusable\n",
       "    el.attr('tabindex', 0)\n",
       "    // reach out to IPython and tell the keyboard manager to turn it's self\n",
       "    // off when our div gets focus\n",
       "\n",
       "    // location in version 3\n",
       "    if (IPython.notebook.keyboard_manager) {\n",
       "        IPython.notebook.keyboard_manager.register_events(el);\n",
       "    }\n",
       "    else {\n",
       "        // location in version 2\n",
       "        IPython.keyboard_manager.register_events(el);\n",
       "    }\n",
       "\n",
       "}\n",
       "\n",
       "mpl.figure.prototype._key_event_extra = function(event, name) {\n",
       "    var manager = IPython.notebook.keyboard_manager;\n",
       "    if (!manager)\n",
       "        manager = IPython.keyboard_manager;\n",
       "\n",
       "    // Check for shift+enter\n",
       "    if (event.shiftKey && event.which == 13) {\n",
       "        this.canvas_div.blur();\n",
       "        // select the cell after this one\n",
       "        var index = IPython.notebook.find_cell_index(this.cell_info[0]);\n",
       "        IPython.notebook.select(index + 1);\n",
       "    }\n",
       "}\n",
       "\n",
       "mpl.figure.prototype.handle_save = function(fig, msg) {\n",
       "    fig.ondownload(fig, null);\n",
       "}\n",
       "\n",
       "\n",
       "mpl.find_output_cell = function(html_output) {\n",
       "    // Return the cell and output element which can be found *uniquely* in the notebook.\n",
       "    // Note - this is a bit hacky, but it is done because the \"notebook_saving.Notebook\"\n",
       "    // IPython event is triggered only after the cells have been serialised, which for\n",
       "    // our purposes (turning an active figure into a static one), is too late.\n",
       "    var cells = IPython.notebook.get_cells();\n",
       "    var ncells = cells.length;\n",
       "    for (var i=0; i<ncells; i++) {\n",
       "        var cell = cells[i];\n",
       "        if (cell.cell_type === 'code'){\n",
       "            for (var j=0; j<cell.output_area.outputs.length; j++) {\n",
       "                var data = cell.output_area.outputs[j];\n",
       "                if (data.data) {\n",
       "                    // IPython >= 3 moved mimebundle to data attribute of output\n",
       "                    data = data.data;\n",
       "                }\n",
       "                if (data['text/html'] == html_output) {\n",
       "                    return [cell, data, j];\n",
       "                }\n",
       "            }\n",
       "        }\n",
       "    }\n",
       "}\n",
       "\n",
       "// Register the function which deals with the matplotlib target/channel.\n",
       "// The kernel may be null if the page has been refreshed.\n",
       "if (IPython.notebook.kernel != null) {\n",
       "    IPython.notebook.kernel.comm_manager.register_target('matplotlib', mpl.mpl_figure_comm);\n",
       "}\n"
      ],
      "text/plain": [
       "<IPython.core.display.Javascript object>"
      ]
     },
     "metadata": {},
     "output_type": "display_data"
    },
    {
     "data": {
      "text/html": [
       "<div id='6b076ba9-6d09-451b-a0c5-b006abb8d45f'></div>"
      ],
      "text/plain": [
       "<IPython.core.display.HTML object>"
      ]
     },
     "metadata": {},
     "output_type": "display_data"
    }
   ],
   "source": [
    "fig = plt.figure() # create a new figure\n",
    "SE3().plot(frame='0', color='black', dims=[0,2])\n",
    "R1.plot(frame='1')"
   ]
  },
  {
   "cell_type": "markdown",
   "metadata": {},
   "source": [
    "If we use our earlier imagery, we have picked up the world coordinate frame and rotated it around the X-axis by positive $\\pi/4$ radians (remember the right-hand rule for direction of positive rotation)."
   ]
  },
  {
   "cell_type": "markdown",
   "metadata": {},
   "source": [
    "We can _compose_ these rotational motions just as we composed translational motions earlier."
   ]
  },
  {
   "cell_type": "code",
   "execution_count": 19,
   "metadata": {},
   "outputs": [],
   "source": [
    "R2 = R1 * R1"
   ]
  },
  {
   "cell_type": "markdown",
   "metadata": {},
   "source": [
    "which we can visualize as"
   ]
  },
  {
   "cell_type": "code",
   "execution_count": 20,
   "metadata": {},
   "outputs": [
    {
     "data": {
      "application/javascript": [
       "/* Put everything inside the global mpl namespace */\n",
       "window.mpl = {};\n",
       "\n",
       "\n",
       "mpl.get_websocket_type = function() {\n",
       "    if (typeof(WebSocket) !== 'undefined') {\n",
       "        return WebSocket;\n",
       "    } else if (typeof(MozWebSocket) !== 'undefined') {\n",
       "        return MozWebSocket;\n",
       "    } else {\n",
       "        alert('Your browser does not have WebSocket support. ' +\n",
       "              'Please try Chrome, Safari or Firefox ≥ 6. ' +\n",
       "              'Firefox 4 and 5 are also supported but you ' +\n",
       "              'have to enable WebSockets in about:config.');\n",
       "    };\n",
       "}\n",
       "\n",
       "mpl.figure = function(figure_id, websocket, ondownload, parent_element) {\n",
       "    this.id = figure_id;\n",
       "\n",
       "    this.ws = websocket;\n",
       "\n",
       "    this.supports_binary = (this.ws.binaryType != undefined);\n",
       "\n",
       "    if (!this.supports_binary) {\n",
       "        var warnings = document.getElementById(\"mpl-warnings\");\n",
       "        if (warnings) {\n",
       "            warnings.style.display = 'block';\n",
       "            warnings.textContent = (\n",
       "                \"This browser does not support binary websocket messages. \" +\n",
       "                    \"Performance may be slow.\");\n",
       "        }\n",
       "    }\n",
       "\n",
       "    this.imageObj = new Image();\n",
       "\n",
       "    this.context = undefined;\n",
       "    this.message = undefined;\n",
       "    this.canvas = undefined;\n",
       "    this.rubberband_canvas = undefined;\n",
       "    this.rubberband_context = undefined;\n",
       "    this.format_dropdown = undefined;\n",
       "\n",
       "    this.image_mode = 'full';\n",
       "\n",
       "    this.root = $('<div/>');\n",
       "    this._root_extra_style(this.root)\n",
       "    this.root.attr('style', 'display: inline-block');\n",
       "\n",
       "    $(parent_element).append(this.root);\n",
       "\n",
       "    this._init_header(this);\n",
       "    this._init_canvas(this);\n",
       "    this._init_toolbar(this);\n",
       "\n",
       "    var fig = this;\n",
       "\n",
       "    this.waiting = false;\n",
       "\n",
       "    this.ws.onopen =  function () {\n",
       "            fig.send_message(\"supports_binary\", {value: fig.supports_binary});\n",
       "            fig.send_message(\"send_image_mode\", {});\n",
       "            if (mpl.ratio != 1) {\n",
       "                fig.send_message(\"set_dpi_ratio\", {'dpi_ratio': mpl.ratio});\n",
       "            }\n",
       "            fig.send_message(\"refresh\", {});\n",
       "        }\n",
       "\n",
       "    this.imageObj.onload = function() {\n",
       "            if (fig.image_mode == 'full') {\n",
       "                // Full images could contain transparency (where diff images\n",
       "                // almost always do), so we need to clear the canvas so that\n",
       "                // there is no ghosting.\n",
       "                fig.context.clearRect(0, 0, fig.canvas.width, fig.canvas.height);\n",
       "            }\n",
       "            fig.context.drawImage(fig.imageObj, 0, 0);\n",
       "        };\n",
       "\n",
       "    this.imageObj.onunload = function() {\n",
       "        fig.ws.close();\n",
       "    }\n",
       "\n",
       "    this.ws.onmessage = this._make_on_message_function(this);\n",
       "\n",
       "    this.ondownload = ondownload;\n",
       "}\n",
       "\n",
       "mpl.figure.prototype._init_header = function() {\n",
       "    var titlebar = $(\n",
       "        '<div class=\"ui-dialog-titlebar ui-widget-header ui-corner-all ' +\n",
       "        'ui-helper-clearfix\"/>');\n",
       "    var titletext = $(\n",
       "        '<div class=\"ui-dialog-title\" style=\"width: 100%; ' +\n",
       "        'text-align: center; padding: 3px;\"/>');\n",
       "    titlebar.append(titletext)\n",
       "    this.root.append(titlebar);\n",
       "    this.header = titletext[0];\n",
       "}\n",
       "\n",
       "\n",
       "\n",
       "mpl.figure.prototype._canvas_extra_style = function(canvas_div) {\n",
       "\n",
       "}\n",
       "\n",
       "\n",
       "mpl.figure.prototype._root_extra_style = function(canvas_div) {\n",
       "\n",
       "}\n",
       "\n",
       "mpl.figure.prototype._init_canvas = function() {\n",
       "    var fig = this;\n",
       "\n",
       "    var canvas_div = $('<div/>');\n",
       "\n",
       "    canvas_div.attr('style', 'position: relative; clear: both; outline: 0');\n",
       "\n",
       "    function canvas_keyboard_event(event) {\n",
       "        return fig.key_event(event, event['data']);\n",
       "    }\n",
       "\n",
       "    canvas_div.keydown('key_press', canvas_keyboard_event);\n",
       "    canvas_div.keyup('key_release', canvas_keyboard_event);\n",
       "    this.canvas_div = canvas_div\n",
       "    this._canvas_extra_style(canvas_div)\n",
       "    this.root.append(canvas_div);\n",
       "\n",
       "    var canvas = $('<canvas/>');\n",
       "    canvas.addClass('mpl-canvas');\n",
       "    canvas.attr('style', \"left: 0; top: 0; z-index: 0; outline: 0\")\n",
       "\n",
       "    this.canvas = canvas[0];\n",
       "    this.context = canvas[0].getContext(\"2d\");\n",
       "\n",
       "    var backingStore = this.context.backingStorePixelRatio ||\n",
       "\tthis.context.webkitBackingStorePixelRatio ||\n",
       "\tthis.context.mozBackingStorePixelRatio ||\n",
       "\tthis.context.msBackingStorePixelRatio ||\n",
       "\tthis.context.oBackingStorePixelRatio ||\n",
       "\tthis.context.backingStorePixelRatio || 1;\n",
       "\n",
       "    mpl.ratio = (window.devicePixelRatio || 1) / backingStore;\n",
       "\n",
       "    var rubberband = $('<canvas/>');\n",
       "    rubberband.attr('style', \"position: absolute; left: 0; top: 0; z-index: 1;\")\n",
       "\n",
       "    var pass_mouse_events = true;\n",
       "\n",
       "    canvas_div.resizable({\n",
       "        start: function(event, ui) {\n",
       "            pass_mouse_events = false;\n",
       "        },\n",
       "        resize: function(event, ui) {\n",
       "            fig.request_resize(ui.size.width, ui.size.height);\n",
       "        },\n",
       "        stop: function(event, ui) {\n",
       "            pass_mouse_events = true;\n",
       "            fig.request_resize(ui.size.width, ui.size.height);\n",
       "        },\n",
       "    });\n",
       "\n",
       "    function mouse_event_fn(event) {\n",
       "        if (pass_mouse_events)\n",
       "            return fig.mouse_event(event, event['data']);\n",
       "    }\n",
       "\n",
       "    rubberband.mousedown('button_press', mouse_event_fn);\n",
       "    rubberband.mouseup('button_release', mouse_event_fn);\n",
       "    // Throttle sequential mouse events to 1 every 20ms.\n",
       "    rubberband.mousemove('motion_notify', mouse_event_fn);\n",
       "\n",
       "    rubberband.mouseenter('figure_enter', mouse_event_fn);\n",
       "    rubberband.mouseleave('figure_leave', mouse_event_fn);\n",
       "\n",
       "    canvas_div.on(\"wheel\", function (event) {\n",
       "        event = event.originalEvent;\n",
       "        event['data'] = 'scroll'\n",
       "        if (event.deltaY < 0) {\n",
       "            event.step = 1;\n",
       "        } else {\n",
       "            event.step = -1;\n",
       "        }\n",
       "        mouse_event_fn(event);\n",
       "    });\n",
       "\n",
       "    canvas_div.append(canvas);\n",
       "    canvas_div.append(rubberband);\n",
       "\n",
       "    this.rubberband = rubberband;\n",
       "    this.rubberband_canvas = rubberband[0];\n",
       "    this.rubberband_context = rubberband[0].getContext(\"2d\");\n",
       "    this.rubberband_context.strokeStyle = \"#000000\";\n",
       "\n",
       "    this._resize_canvas = function(width, height) {\n",
       "        // Keep the size of the canvas, canvas container, and rubber band\n",
       "        // canvas in synch.\n",
       "        canvas_div.css('width', width)\n",
       "        canvas_div.css('height', height)\n",
       "\n",
       "        canvas.attr('width', width * mpl.ratio);\n",
       "        canvas.attr('height', height * mpl.ratio);\n",
       "        canvas.attr('style', 'width: ' + width + 'px; height: ' + height + 'px;');\n",
       "\n",
       "        rubberband.attr('width', width);\n",
       "        rubberband.attr('height', height);\n",
       "    }\n",
       "\n",
       "    // Set the figure to an initial 600x600px, this will subsequently be updated\n",
       "    // upon first draw.\n",
       "    this._resize_canvas(600, 600);\n",
       "\n",
       "    // Disable right mouse context menu.\n",
       "    $(this.rubberband_canvas).bind(\"contextmenu\",function(e){\n",
       "        return false;\n",
       "    });\n",
       "\n",
       "    function set_focus () {\n",
       "        canvas.focus();\n",
       "        canvas_div.focus();\n",
       "    }\n",
       "\n",
       "    window.setTimeout(set_focus, 100);\n",
       "}\n",
       "\n",
       "mpl.figure.prototype._init_toolbar = function() {\n",
       "    var fig = this;\n",
       "\n",
       "    var nav_element = $('<div/>');\n",
       "    nav_element.attr('style', 'width: 100%');\n",
       "    this.root.append(nav_element);\n",
       "\n",
       "    // Define a callback function for later on.\n",
       "    function toolbar_event(event) {\n",
       "        return fig.toolbar_button_onclick(event['data']);\n",
       "    }\n",
       "    function toolbar_mouse_event(event) {\n",
       "        return fig.toolbar_button_onmouseover(event['data']);\n",
       "    }\n",
       "\n",
       "    for(var toolbar_ind in mpl.toolbar_items) {\n",
       "        var name = mpl.toolbar_items[toolbar_ind][0];\n",
       "        var tooltip = mpl.toolbar_items[toolbar_ind][1];\n",
       "        var image = mpl.toolbar_items[toolbar_ind][2];\n",
       "        var method_name = mpl.toolbar_items[toolbar_ind][3];\n",
       "\n",
       "        if (!name) {\n",
       "            // put a spacer in here.\n",
       "            continue;\n",
       "        }\n",
       "        var button = $('<button/>');\n",
       "        button.addClass('ui-button ui-widget ui-state-default ui-corner-all ' +\n",
       "                        'ui-button-icon-only');\n",
       "        button.attr('role', 'button');\n",
       "        button.attr('aria-disabled', 'false');\n",
       "        button.click(method_name, toolbar_event);\n",
       "        button.mouseover(tooltip, toolbar_mouse_event);\n",
       "\n",
       "        var icon_img = $('<span/>');\n",
       "        icon_img.addClass('ui-button-icon-primary ui-icon');\n",
       "        icon_img.addClass(image);\n",
       "        icon_img.addClass('ui-corner-all');\n",
       "\n",
       "        var tooltip_span = $('<span/>');\n",
       "        tooltip_span.addClass('ui-button-text');\n",
       "        tooltip_span.html(tooltip);\n",
       "\n",
       "        button.append(icon_img);\n",
       "        button.append(tooltip_span);\n",
       "\n",
       "        nav_element.append(button);\n",
       "    }\n",
       "\n",
       "    var fmt_picker_span = $('<span/>');\n",
       "\n",
       "    var fmt_picker = $('<select/>');\n",
       "    fmt_picker.addClass('mpl-toolbar-option ui-widget ui-widget-content');\n",
       "    fmt_picker_span.append(fmt_picker);\n",
       "    nav_element.append(fmt_picker_span);\n",
       "    this.format_dropdown = fmt_picker[0];\n",
       "\n",
       "    for (var ind in mpl.extensions) {\n",
       "        var fmt = mpl.extensions[ind];\n",
       "        var option = $(\n",
       "            '<option/>', {selected: fmt === mpl.default_extension}).html(fmt);\n",
       "        fmt_picker.append(option);\n",
       "    }\n",
       "\n",
       "    // Add hover states to the ui-buttons\n",
       "    $( \".ui-button\" ).hover(\n",
       "        function() { $(this).addClass(\"ui-state-hover\");},\n",
       "        function() { $(this).removeClass(\"ui-state-hover\");}\n",
       "    );\n",
       "\n",
       "    var status_bar = $('<span class=\"mpl-message\"/>');\n",
       "    nav_element.append(status_bar);\n",
       "    this.message = status_bar[0];\n",
       "}\n",
       "\n",
       "mpl.figure.prototype.request_resize = function(x_pixels, y_pixels) {\n",
       "    // Request matplotlib to resize the figure. Matplotlib will then trigger a resize in the client,\n",
       "    // which will in turn request a refresh of the image.\n",
       "    this.send_message('resize', {'width': x_pixels, 'height': y_pixels});\n",
       "}\n",
       "\n",
       "mpl.figure.prototype.send_message = function(type, properties) {\n",
       "    properties['type'] = type;\n",
       "    properties['figure_id'] = this.id;\n",
       "    this.ws.send(JSON.stringify(properties));\n",
       "}\n",
       "\n",
       "mpl.figure.prototype.send_draw_message = function() {\n",
       "    if (!this.waiting) {\n",
       "        this.waiting = true;\n",
       "        this.ws.send(JSON.stringify({type: \"draw\", figure_id: this.id}));\n",
       "    }\n",
       "}\n",
       "\n",
       "\n",
       "mpl.figure.prototype.handle_save = function(fig, msg) {\n",
       "    var format_dropdown = fig.format_dropdown;\n",
       "    var format = format_dropdown.options[format_dropdown.selectedIndex].value;\n",
       "    fig.ondownload(fig, format);\n",
       "}\n",
       "\n",
       "\n",
       "mpl.figure.prototype.handle_resize = function(fig, msg) {\n",
       "    var size = msg['size'];\n",
       "    if (size[0] != fig.canvas.width || size[1] != fig.canvas.height) {\n",
       "        fig._resize_canvas(size[0], size[1]);\n",
       "        fig.send_message(\"refresh\", {});\n",
       "    };\n",
       "}\n",
       "\n",
       "mpl.figure.prototype.handle_rubberband = function(fig, msg) {\n",
       "    var x0 = msg['x0'] / mpl.ratio;\n",
       "    var y0 = (fig.canvas.height - msg['y0']) / mpl.ratio;\n",
       "    var x1 = msg['x1'] / mpl.ratio;\n",
       "    var y1 = (fig.canvas.height - msg['y1']) / mpl.ratio;\n",
       "    x0 = Math.floor(x0) + 0.5;\n",
       "    y0 = Math.floor(y0) + 0.5;\n",
       "    x1 = Math.floor(x1) + 0.5;\n",
       "    y1 = Math.floor(y1) + 0.5;\n",
       "    var min_x = Math.min(x0, x1);\n",
       "    var min_y = Math.min(y0, y1);\n",
       "    var width = Math.abs(x1 - x0);\n",
       "    var height = Math.abs(y1 - y0);\n",
       "\n",
       "    fig.rubberband_context.clearRect(\n",
       "        0, 0, fig.canvas.width / mpl.ratio, fig.canvas.height / mpl.ratio);\n",
       "\n",
       "    fig.rubberband_context.strokeRect(min_x, min_y, width, height);\n",
       "}\n",
       "\n",
       "mpl.figure.prototype.handle_figure_label = function(fig, msg) {\n",
       "    // Updates the figure title.\n",
       "    fig.header.textContent = msg['label'];\n",
       "}\n",
       "\n",
       "mpl.figure.prototype.handle_cursor = function(fig, msg) {\n",
       "    var cursor = msg['cursor'];\n",
       "    switch(cursor)\n",
       "    {\n",
       "    case 0:\n",
       "        cursor = 'pointer';\n",
       "        break;\n",
       "    case 1:\n",
       "        cursor = 'default';\n",
       "        break;\n",
       "    case 2:\n",
       "        cursor = 'crosshair';\n",
       "        break;\n",
       "    case 3:\n",
       "        cursor = 'move';\n",
       "        break;\n",
       "    }\n",
       "    fig.rubberband_canvas.style.cursor = cursor;\n",
       "}\n",
       "\n",
       "mpl.figure.prototype.handle_message = function(fig, msg) {\n",
       "    fig.message.textContent = msg['message'];\n",
       "}\n",
       "\n",
       "mpl.figure.prototype.handle_draw = function(fig, msg) {\n",
       "    // Request the server to send over a new figure.\n",
       "    fig.send_draw_message();\n",
       "}\n",
       "\n",
       "mpl.figure.prototype.handle_image_mode = function(fig, msg) {\n",
       "    fig.image_mode = msg['mode'];\n",
       "}\n",
       "\n",
       "mpl.figure.prototype.updated_canvas_event = function() {\n",
       "    // Called whenever the canvas gets updated.\n",
       "    this.send_message(\"ack\", {});\n",
       "}\n",
       "\n",
       "// A function to construct a web socket function for onmessage handling.\n",
       "// Called in the figure constructor.\n",
       "mpl.figure.prototype._make_on_message_function = function(fig) {\n",
       "    return function socket_on_message(evt) {\n",
       "        if (evt.data instanceof Blob) {\n",
       "            /* FIXME: We get \"Resource interpreted as Image but\n",
       "             * transferred with MIME type text/plain:\" errors on\n",
       "             * Chrome.  But how to set the MIME type?  It doesn't seem\n",
       "             * to be part of the websocket stream */\n",
       "            evt.data.type = \"image/png\";\n",
       "\n",
       "            /* Free the memory for the previous frames */\n",
       "            if (fig.imageObj.src) {\n",
       "                (window.URL || window.webkitURL).revokeObjectURL(\n",
       "                    fig.imageObj.src);\n",
       "            }\n",
       "\n",
       "            fig.imageObj.src = (window.URL || window.webkitURL).createObjectURL(\n",
       "                evt.data);\n",
       "            fig.updated_canvas_event();\n",
       "            fig.waiting = false;\n",
       "            return;\n",
       "        }\n",
       "        else if (typeof evt.data === 'string' && evt.data.slice(0, 21) == \"data:image/png;base64\") {\n",
       "            fig.imageObj.src = evt.data;\n",
       "            fig.updated_canvas_event();\n",
       "            fig.waiting = false;\n",
       "            return;\n",
       "        }\n",
       "\n",
       "        var msg = JSON.parse(evt.data);\n",
       "        var msg_type = msg['type'];\n",
       "\n",
       "        // Call the  \"handle_{type}\" callback, which takes\n",
       "        // the figure and JSON message as its only arguments.\n",
       "        try {\n",
       "            var callback = fig[\"handle_\" + msg_type];\n",
       "        } catch (e) {\n",
       "            console.log(\"No handler for the '\" + msg_type + \"' message type: \", msg);\n",
       "            return;\n",
       "        }\n",
       "\n",
       "        if (callback) {\n",
       "            try {\n",
       "                // console.log(\"Handling '\" + msg_type + \"' message: \", msg);\n",
       "                callback(fig, msg);\n",
       "            } catch (e) {\n",
       "                console.log(\"Exception inside the 'handler_\" + msg_type + \"' callback:\", e, e.stack, msg);\n",
       "            }\n",
       "        }\n",
       "    };\n",
       "}\n",
       "\n",
       "// from http://stackoverflow.com/questions/1114465/getting-mouse-location-in-canvas\n",
       "mpl.findpos = function(e) {\n",
       "    //this section is from http://www.quirksmode.org/js/events_properties.html\n",
       "    var targ;\n",
       "    if (!e)\n",
       "        e = window.event;\n",
       "    if (e.target)\n",
       "        targ = e.target;\n",
       "    else if (e.srcElement)\n",
       "        targ = e.srcElement;\n",
       "    if (targ.nodeType == 3) // defeat Safari bug\n",
       "        targ = targ.parentNode;\n",
       "\n",
       "    // jQuery normalizes the pageX and pageY\n",
       "    // pageX,Y are the mouse positions relative to the document\n",
       "    // offset() returns the position of the element relative to the document\n",
       "    var x = e.pageX - $(targ).offset().left;\n",
       "    var y = e.pageY - $(targ).offset().top;\n",
       "\n",
       "    return {\"x\": x, \"y\": y};\n",
       "};\n",
       "\n",
       "/*\n",
       " * return a copy of an object with only non-object keys\n",
       " * we need this to avoid circular references\n",
       " * http://stackoverflow.com/a/24161582/3208463\n",
       " */\n",
       "function simpleKeys (original) {\n",
       "  return Object.keys(original).reduce(function (obj, key) {\n",
       "    if (typeof original[key] !== 'object')\n",
       "        obj[key] = original[key]\n",
       "    return obj;\n",
       "  }, {});\n",
       "}\n",
       "\n",
       "mpl.figure.prototype.mouse_event = function(event, name) {\n",
       "    var canvas_pos = mpl.findpos(event)\n",
       "\n",
       "    if (name === 'button_press')\n",
       "    {\n",
       "        this.canvas.focus();\n",
       "        this.canvas_div.focus();\n",
       "    }\n",
       "\n",
       "    var x = canvas_pos.x * mpl.ratio;\n",
       "    var y = canvas_pos.y * mpl.ratio;\n",
       "\n",
       "    this.send_message(name, {x: x, y: y, button: event.button,\n",
       "                             step: event.step,\n",
       "                             guiEvent: simpleKeys(event)});\n",
       "\n",
       "    /* This prevents the web browser from automatically changing to\n",
       "     * the text insertion cursor when the button is pressed.  We want\n",
       "     * to control all of the cursor setting manually through the\n",
       "     * 'cursor' event from matplotlib */\n",
       "    event.preventDefault();\n",
       "    return false;\n",
       "}\n",
       "\n",
       "mpl.figure.prototype._key_event_extra = function(event, name) {\n",
       "    // Handle any extra behaviour associated with a key event\n",
       "}\n",
       "\n",
       "mpl.figure.prototype.key_event = function(event, name) {\n",
       "\n",
       "    // Prevent repeat events\n",
       "    if (name == 'key_press')\n",
       "    {\n",
       "        if (event.which === this._key)\n",
       "            return;\n",
       "        else\n",
       "            this._key = event.which;\n",
       "    }\n",
       "    if (name == 'key_release')\n",
       "        this._key = null;\n",
       "\n",
       "    var value = '';\n",
       "    if (event.ctrlKey && event.which != 17)\n",
       "        value += \"ctrl+\";\n",
       "    if (event.altKey && event.which != 18)\n",
       "        value += \"alt+\";\n",
       "    if (event.shiftKey && event.which != 16)\n",
       "        value += \"shift+\";\n",
       "\n",
       "    value += 'k';\n",
       "    value += event.which.toString();\n",
       "\n",
       "    this._key_event_extra(event, name);\n",
       "\n",
       "    this.send_message(name, {key: value,\n",
       "                             guiEvent: simpleKeys(event)});\n",
       "    return false;\n",
       "}\n",
       "\n",
       "mpl.figure.prototype.toolbar_button_onclick = function(name) {\n",
       "    if (name == 'download') {\n",
       "        this.handle_save(this, null);\n",
       "    } else {\n",
       "        this.send_message(\"toolbar_button\", {name: name});\n",
       "    }\n",
       "};\n",
       "\n",
       "mpl.figure.prototype.toolbar_button_onmouseover = function(tooltip) {\n",
       "    this.message.textContent = tooltip;\n",
       "};\n",
       "mpl.toolbar_items = [[\"Home\", \"Reset original view\", \"fa fa-home icon-home\", \"home\"], [\"Back\", \"Back to previous view\", \"fa fa-arrow-left icon-arrow-left\", \"back\"], [\"Forward\", \"Forward to next view\", \"fa fa-arrow-right icon-arrow-right\", \"forward\"], [\"\", \"\", \"\", \"\"], [\"Pan\", \"Pan axes with left mouse, zoom with right\", \"fa fa-arrows icon-move\", \"pan\"], [\"Zoom\", \"Zoom to rectangle\", \"fa fa-square-o icon-check-empty\", \"zoom\"], [\"\", \"\", \"\", \"\"], [\"Download\", \"Download plot\", \"fa fa-floppy-o icon-save\", \"download\"]];\n",
       "\n",
       "mpl.extensions = [\"eps\", \"jpeg\", \"pdf\", \"png\", \"ps\", \"raw\", \"svg\", \"tif\"];\n",
       "\n",
       "mpl.default_extension = \"png\";var comm_websocket_adapter = function(comm) {\n",
       "    // Create a \"websocket\"-like object which calls the given IPython comm\n",
       "    // object with the appropriate methods. Currently this is a non binary\n",
       "    // socket, so there is still some room for performance tuning.\n",
       "    var ws = {};\n",
       "\n",
       "    ws.close = function() {\n",
       "        comm.close()\n",
       "    };\n",
       "    ws.send = function(m) {\n",
       "        //console.log('sending', m);\n",
       "        comm.send(m);\n",
       "    };\n",
       "    // Register the callback with on_msg.\n",
       "    comm.on_msg(function(msg) {\n",
       "        //console.log('receiving', msg['content']['data'], msg);\n",
       "        // Pass the mpl event to the overridden (by mpl) onmessage function.\n",
       "        ws.onmessage(msg['content']['data'])\n",
       "    });\n",
       "    return ws;\n",
       "}\n",
       "\n",
       "mpl.mpl_figure_comm = function(comm, msg) {\n",
       "    // This is the function which gets called when the mpl process\n",
       "    // starts-up an IPython Comm through the \"matplotlib\" channel.\n",
       "\n",
       "    var id = msg.content.data.id;\n",
       "    // Get hold of the div created by the display call when the Comm\n",
       "    // socket was opened in Python.\n",
       "    var element = $(\"#\" + id);\n",
       "    var ws_proxy = comm_websocket_adapter(comm)\n",
       "\n",
       "    function ondownload(figure, format) {\n",
       "        window.open(figure.imageObj.src);\n",
       "    }\n",
       "\n",
       "    var fig = new mpl.figure(id, ws_proxy,\n",
       "                           ondownload,\n",
       "                           element.get(0));\n",
       "\n",
       "    // Call onopen now - mpl needs it, as it is assuming we've passed it a real\n",
       "    // web socket which is closed, not our websocket->open comm proxy.\n",
       "    ws_proxy.onopen();\n",
       "\n",
       "    fig.parent_element = element.get(0);\n",
       "    fig.cell_info = mpl.find_output_cell(\"<div id='\" + id + \"'></div>\");\n",
       "    if (!fig.cell_info) {\n",
       "        console.error(\"Failed to find cell for figure\", id, fig);\n",
       "        return;\n",
       "    }\n",
       "\n",
       "    var output_index = fig.cell_info[2]\n",
       "    var cell = fig.cell_info[0];\n",
       "\n",
       "};\n",
       "\n",
       "mpl.figure.prototype.handle_close = function(fig, msg) {\n",
       "    var width = fig.canvas.width/mpl.ratio\n",
       "    fig.root.unbind('remove')\n",
       "\n",
       "    // Update the output cell to use the data from the current canvas.\n",
       "    fig.push_to_output();\n",
       "    var dataURL = fig.canvas.toDataURL();\n",
       "    // Re-enable the keyboard manager in IPython - without this line, in FF,\n",
       "    // the notebook keyboard shortcuts fail.\n",
       "    IPython.keyboard_manager.enable()\n",
       "    $(fig.parent_element).html('<img src=\"' + dataURL + '\" width=\"' + width + '\">');\n",
       "    fig.close_ws(fig, msg);\n",
       "}\n",
       "\n",
       "mpl.figure.prototype.close_ws = function(fig, msg){\n",
       "    fig.send_message('closing', msg);\n",
       "    // fig.ws.close()\n",
       "}\n",
       "\n",
       "mpl.figure.prototype.push_to_output = function(remove_interactive) {\n",
       "    // Turn the data on the canvas into data in the output cell.\n",
       "    var width = this.canvas.width/mpl.ratio\n",
       "    var dataURL = this.canvas.toDataURL();\n",
       "    this.cell_info[1]['text/html'] = '<img src=\"' + dataURL + '\" width=\"' + width + '\">';\n",
       "}\n",
       "\n",
       "mpl.figure.prototype.updated_canvas_event = function() {\n",
       "    // Tell IPython that the notebook contents must change.\n",
       "    IPython.notebook.set_dirty(true);\n",
       "    this.send_message(\"ack\", {});\n",
       "    var fig = this;\n",
       "    // Wait a second, then push the new image to the DOM so\n",
       "    // that it is saved nicely (might be nice to debounce this).\n",
       "    setTimeout(function () { fig.push_to_output() }, 1000);\n",
       "}\n",
       "\n",
       "mpl.figure.prototype._init_toolbar = function() {\n",
       "    var fig = this;\n",
       "\n",
       "    var nav_element = $('<div/>');\n",
       "    nav_element.attr('style', 'width: 100%');\n",
       "    this.root.append(nav_element);\n",
       "\n",
       "    // Define a callback function for later on.\n",
       "    function toolbar_event(event) {\n",
       "        return fig.toolbar_button_onclick(event['data']);\n",
       "    }\n",
       "    function toolbar_mouse_event(event) {\n",
       "        return fig.toolbar_button_onmouseover(event['data']);\n",
       "    }\n",
       "\n",
       "    for(var toolbar_ind in mpl.toolbar_items){\n",
       "        var name = mpl.toolbar_items[toolbar_ind][0];\n",
       "        var tooltip = mpl.toolbar_items[toolbar_ind][1];\n",
       "        var image = mpl.toolbar_items[toolbar_ind][2];\n",
       "        var method_name = mpl.toolbar_items[toolbar_ind][3];\n",
       "\n",
       "        if (!name) { continue; };\n",
       "\n",
       "        var button = $('<button class=\"btn btn-default\" href=\"#\" title=\"' + name + '\"><i class=\"fa ' + image + ' fa-lg\"></i></button>');\n",
       "        button.click(method_name, toolbar_event);\n",
       "        button.mouseover(tooltip, toolbar_mouse_event);\n",
       "        nav_element.append(button);\n",
       "    }\n",
       "\n",
       "    // Add the status bar.\n",
       "    var status_bar = $('<span class=\"mpl-message\" style=\"text-align:right; float: right;\"/>');\n",
       "    nav_element.append(status_bar);\n",
       "    this.message = status_bar[0];\n",
       "\n",
       "    // Add the close button to the window.\n",
       "    var buttongrp = $('<div class=\"btn-group inline pull-right\"></div>');\n",
       "    var button = $('<button class=\"btn btn-mini btn-primary\" href=\"#\" title=\"Stop Interaction\"><i class=\"fa fa-power-off icon-remove icon-large\"></i></button>');\n",
       "    button.click(function (evt) { fig.handle_close(fig, {}); } );\n",
       "    button.mouseover('Stop Interaction', toolbar_mouse_event);\n",
       "    buttongrp.append(button);\n",
       "    var titlebar = this.root.find($('.ui-dialog-titlebar'));\n",
       "    titlebar.prepend(buttongrp);\n",
       "}\n",
       "\n",
       "mpl.figure.prototype._root_extra_style = function(el){\n",
       "    var fig = this\n",
       "    el.on(\"remove\", function(){\n",
       "\tfig.close_ws(fig, {});\n",
       "    });\n",
       "}\n",
       "\n",
       "mpl.figure.prototype._canvas_extra_style = function(el){\n",
       "    // this is important to make the div 'focusable\n",
       "    el.attr('tabindex', 0)\n",
       "    // reach out to IPython and tell the keyboard manager to turn it's self\n",
       "    // off when our div gets focus\n",
       "\n",
       "    // location in version 3\n",
       "    if (IPython.notebook.keyboard_manager) {\n",
       "        IPython.notebook.keyboard_manager.register_events(el);\n",
       "    }\n",
       "    else {\n",
       "        // location in version 2\n",
       "        IPython.keyboard_manager.register_events(el);\n",
       "    }\n",
       "\n",
       "}\n",
       "\n",
       "mpl.figure.prototype._key_event_extra = function(event, name) {\n",
       "    var manager = IPython.notebook.keyboard_manager;\n",
       "    if (!manager)\n",
       "        manager = IPython.keyboard_manager;\n",
       "\n",
       "    // Check for shift+enter\n",
       "    if (event.shiftKey && event.which == 13) {\n",
       "        this.canvas_div.blur();\n",
       "        // select the cell after this one\n",
       "        var index = IPython.notebook.find_cell_index(this.cell_info[0]);\n",
       "        IPython.notebook.select(index + 1);\n",
       "    }\n",
       "}\n",
       "\n",
       "mpl.figure.prototype.handle_save = function(fig, msg) {\n",
       "    fig.ondownload(fig, null);\n",
       "}\n",
       "\n",
       "\n",
       "mpl.find_output_cell = function(html_output) {\n",
       "    // Return the cell and output element which can be found *uniquely* in the notebook.\n",
       "    // Note - this is a bit hacky, but it is done because the \"notebook_saving.Notebook\"\n",
       "    // IPython event is triggered only after the cells have been serialised, which for\n",
       "    // our purposes (turning an active figure into a static one), is too late.\n",
       "    var cells = IPython.notebook.get_cells();\n",
       "    var ncells = cells.length;\n",
       "    for (var i=0; i<ncells; i++) {\n",
       "        var cell = cells[i];\n",
       "        if (cell.cell_type === 'code'){\n",
       "            for (var j=0; j<cell.output_area.outputs.length; j++) {\n",
       "                var data = cell.output_area.outputs[j];\n",
       "                if (data.data) {\n",
       "                    // IPython >= 3 moved mimebundle to data attribute of output\n",
       "                    data = data.data;\n",
       "                }\n",
       "                if (data['text/html'] == html_output) {\n",
       "                    return [cell, data, j];\n",
       "                }\n",
       "            }\n",
       "        }\n",
       "    }\n",
       "}\n",
       "\n",
       "// Register the function which deals with the matplotlib target/channel.\n",
       "// The kernel may be null if the page has been refreshed.\n",
       "if (IPython.notebook.kernel != null) {\n",
       "    IPython.notebook.kernel.comm_manager.register_target('matplotlib', mpl.mpl_figure_comm);\n",
       "}\n"
      ],
      "text/plain": [
       "<IPython.core.display.Javascript object>"
      ]
     },
     "metadata": {},
     "output_type": "display_data"
    },
    {
     "data": {
      "text/html": [
       "<div id='0143c299-d8b4-409d-a077-bb15ee5d1d57'></div>"
      ],
      "text/plain": [
       "<IPython.core.display.HTML object>"
      ]
     },
     "metadata": {},
     "output_type": "display_data"
    }
   ],
   "source": [
    "fig = plt.figure() # create a new figure\n",
    "SE3().plot(frame='0', color='black', dims=[0,2])\n",
    "R1.plot(frame='1', color='red')\n",
    "R2.plot(frame='2')"
   ]
  },
  {
   "cell_type": "markdown",
   "metadata": {},
   "source": [
    "which is a rotation by $\\pi/4$ _then_ a rotation by $\\pi/4$ which is a total of $\\pi/2$.  Just to check"
   ]
  },
  {
   "cell_type": "markdown",
   "metadata": {},
   "source": [
    "We could also use the exponentiation operator"
   ]
  },
  {
   "cell_type": "code",
   "execution_count": 21,
   "metadata": {},
   "outputs": [],
   "source": [
    "R2 = R1**2"
   ]
  },
  {
   "cell_type": "markdown",
   "metadata": {},
   "source": [
    "We could have specified the angle in degrees"
   ]
  },
  {
   "cell_type": "code",
   "execution_count": 22,
   "metadata": {},
   "outputs": [],
   "source": [
    "R1 = SO3.Rx(45, 'deg')"
   ]
  },
  {
   "cell_type": "markdown",
   "metadata": {},
   "source": [
    "Often we need to describe more complex orientations and we typically use a _3 angle_ convention to do this.  Euler's rotation theorem says that any orientation can be expressed in terms of three rotations about different axes.  \n",
    "\n",
    "One common convention is roll-pitch-yaw angles"
   ]
  },
  {
   "cell_type": "code",
   "execution_count": 23,
   "metadata": {},
   "outputs": [],
   "source": [
    "R3 = SO3.RPY([10, 20, 30], unit='deg')"
   ]
  },
  {
   "cell_type": "markdown",
   "metadata": {},
   "source": [
    "which says that we rotate by 30&deg; about the Z-axis (yaw), _then_ 20&deg; about the Y-axis (pitch) and _then_ 10&deg; about the X-axis – this is the ZYX roll-pitch yaw convention. Other order conventions are possible, for example `order='xyz'`.\n",
    "\n",
    "We can visualize the resulting orientation."
   ]
  },
  {
   "cell_type": "code",
   "execution_count": 24,
   "metadata": {},
   "outputs": [
    {
     "data": {
      "application/javascript": [
       "/* Put everything inside the global mpl namespace */\n",
       "window.mpl = {};\n",
       "\n",
       "\n",
       "mpl.get_websocket_type = function() {\n",
       "    if (typeof(WebSocket) !== 'undefined') {\n",
       "        return WebSocket;\n",
       "    } else if (typeof(MozWebSocket) !== 'undefined') {\n",
       "        return MozWebSocket;\n",
       "    } else {\n",
       "        alert('Your browser does not have WebSocket support. ' +\n",
       "              'Please try Chrome, Safari or Firefox ≥ 6. ' +\n",
       "              'Firefox 4 and 5 are also supported but you ' +\n",
       "              'have to enable WebSockets in about:config.');\n",
       "    };\n",
       "}\n",
       "\n",
       "mpl.figure = function(figure_id, websocket, ondownload, parent_element) {\n",
       "    this.id = figure_id;\n",
       "\n",
       "    this.ws = websocket;\n",
       "\n",
       "    this.supports_binary = (this.ws.binaryType != undefined);\n",
       "\n",
       "    if (!this.supports_binary) {\n",
       "        var warnings = document.getElementById(\"mpl-warnings\");\n",
       "        if (warnings) {\n",
       "            warnings.style.display = 'block';\n",
       "            warnings.textContent = (\n",
       "                \"This browser does not support binary websocket messages. \" +\n",
       "                    \"Performance may be slow.\");\n",
       "        }\n",
       "    }\n",
       "\n",
       "    this.imageObj = new Image();\n",
       "\n",
       "    this.context = undefined;\n",
       "    this.message = undefined;\n",
       "    this.canvas = undefined;\n",
       "    this.rubberband_canvas = undefined;\n",
       "    this.rubberband_context = undefined;\n",
       "    this.format_dropdown = undefined;\n",
       "\n",
       "    this.image_mode = 'full';\n",
       "\n",
       "    this.root = $('<div/>');\n",
       "    this._root_extra_style(this.root)\n",
       "    this.root.attr('style', 'display: inline-block');\n",
       "\n",
       "    $(parent_element).append(this.root);\n",
       "\n",
       "    this._init_header(this);\n",
       "    this._init_canvas(this);\n",
       "    this._init_toolbar(this);\n",
       "\n",
       "    var fig = this;\n",
       "\n",
       "    this.waiting = false;\n",
       "\n",
       "    this.ws.onopen =  function () {\n",
       "            fig.send_message(\"supports_binary\", {value: fig.supports_binary});\n",
       "            fig.send_message(\"send_image_mode\", {});\n",
       "            if (mpl.ratio != 1) {\n",
       "                fig.send_message(\"set_dpi_ratio\", {'dpi_ratio': mpl.ratio});\n",
       "            }\n",
       "            fig.send_message(\"refresh\", {});\n",
       "        }\n",
       "\n",
       "    this.imageObj.onload = function() {\n",
       "            if (fig.image_mode == 'full') {\n",
       "                // Full images could contain transparency (where diff images\n",
       "                // almost always do), so we need to clear the canvas so that\n",
       "                // there is no ghosting.\n",
       "                fig.context.clearRect(0, 0, fig.canvas.width, fig.canvas.height);\n",
       "            }\n",
       "            fig.context.drawImage(fig.imageObj, 0, 0);\n",
       "        };\n",
       "\n",
       "    this.imageObj.onunload = function() {\n",
       "        fig.ws.close();\n",
       "    }\n",
       "\n",
       "    this.ws.onmessage = this._make_on_message_function(this);\n",
       "\n",
       "    this.ondownload = ondownload;\n",
       "}\n",
       "\n",
       "mpl.figure.prototype._init_header = function() {\n",
       "    var titlebar = $(\n",
       "        '<div class=\"ui-dialog-titlebar ui-widget-header ui-corner-all ' +\n",
       "        'ui-helper-clearfix\"/>');\n",
       "    var titletext = $(\n",
       "        '<div class=\"ui-dialog-title\" style=\"width: 100%; ' +\n",
       "        'text-align: center; padding: 3px;\"/>');\n",
       "    titlebar.append(titletext)\n",
       "    this.root.append(titlebar);\n",
       "    this.header = titletext[0];\n",
       "}\n",
       "\n",
       "\n",
       "\n",
       "mpl.figure.prototype._canvas_extra_style = function(canvas_div) {\n",
       "\n",
       "}\n",
       "\n",
       "\n",
       "mpl.figure.prototype._root_extra_style = function(canvas_div) {\n",
       "\n",
       "}\n",
       "\n",
       "mpl.figure.prototype._init_canvas = function() {\n",
       "    var fig = this;\n",
       "\n",
       "    var canvas_div = $('<div/>');\n",
       "\n",
       "    canvas_div.attr('style', 'position: relative; clear: both; outline: 0');\n",
       "\n",
       "    function canvas_keyboard_event(event) {\n",
       "        return fig.key_event(event, event['data']);\n",
       "    }\n",
       "\n",
       "    canvas_div.keydown('key_press', canvas_keyboard_event);\n",
       "    canvas_div.keyup('key_release', canvas_keyboard_event);\n",
       "    this.canvas_div = canvas_div\n",
       "    this._canvas_extra_style(canvas_div)\n",
       "    this.root.append(canvas_div);\n",
       "\n",
       "    var canvas = $('<canvas/>');\n",
       "    canvas.addClass('mpl-canvas');\n",
       "    canvas.attr('style', \"left: 0; top: 0; z-index: 0; outline: 0\")\n",
       "\n",
       "    this.canvas = canvas[0];\n",
       "    this.context = canvas[0].getContext(\"2d\");\n",
       "\n",
       "    var backingStore = this.context.backingStorePixelRatio ||\n",
       "\tthis.context.webkitBackingStorePixelRatio ||\n",
       "\tthis.context.mozBackingStorePixelRatio ||\n",
       "\tthis.context.msBackingStorePixelRatio ||\n",
       "\tthis.context.oBackingStorePixelRatio ||\n",
       "\tthis.context.backingStorePixelRatio || 1;\n",
       "\n",
       "    mpl.ratio = (window.devicePixelRatio || 1) / backingStore;\n",
       "\n",
       "    var rubberband = $('<canvas/>');\n",
       "    rubberband.attr('style', \"position: absolute; left: 0; top: 0; z-index: 1;\")\n",
       "\n",
       "    var pass_mouse_events = true;\n",
       "\n",
       "    canvas_div.resizable({\n",
       "        start: function(event, ui) {\n",
       "            pass_mouse_events = false;\n",
       "        },\n",
       "        resize: function(event, ui) {\n",
       "            fig.request_resize(ui.size.width, ui.size.height);\n",
       "        },\n",
       "        stop: function(event, ui) {\n",
       "            pass_mouse_events = true;\n",
       "            fig.request_resize(ui.size.width, ui.size.height);\n",
       "        },\n",
       "    });\n",
       "\n",
       "    function mouse_event_fn(event) {\n",
       "        if (pass_mouse_events)\n",
       "            return fig.mouse_event(event, event['data']);\n",
       "    }\n",
       "\n",
       "    rubberband.mousedown('button_press', mouse_event_fn);\n",
       "    rubberband.mouseup('button_release', mouse_event_fn);\n",
       "    // Throttle sequential mouse events to 1 every 20ms.\n",
       "    rubberband.mousemove('motion_notify', mouse_event_fn);\n",
       "\n",
       "    rubberband.mouseenter('figure_enter', mouse_event_fn);\n",
       "    rubberband.mouseleave('figure_leave', mouse_event_fn);\n",
       "\n",
       "    canvas_div.on(\"wheel\", function (event) {\n",
       "        event = event.originalEvent;\n",
       "        event['data'] = 'scroll'\n",
       "        if (event.deltaY < 0) {\n",
       "            event.step = 1;\n",
       "        } else {\n",
       "            event.step = -1;\n",
       "        }\n",
       "        mouse_event_fn(event);\n",
       "    });\n",
       "\n",
       "    canvas_div.append(canvas);\n",
       "    canvas_div.append(rubberband);\n",
       "\n",
       "    this.rubberband = rubberband;\n",
       "    this.rubberband_canvas = rubberband[0];\n",
       "    this.rubberband_context = rubberband[0].getContext(\"2d\");\n",
       "    this.rubberband_context.strokeStyle = \"#000000\";\n",
       "\n",
       "    this._resize_canvas = function(width, height) {\n",
       "        // Keep the size of the canvas, canvas container, and rubber band\n",
       "        // canvas in synch.\n",
       "        canvas_div.css('width', width)\n",
       "        canvas_div.css('height', height)\n",
       "\n",
       "        canvas.attr('width', width * mpl.ratio);\n",
       "        canvas.attr('height', height * mpl.ratio);\n",
       "        canvas.attr('style', 'width: ' + width + 'px; height: ' + height + 'px;');\n",
       "\n",
       "        rubberband.attr('width', width);\n",
       "        rubberband.attr('height', height);\n",
       "    }\n",
       "\n",
       "    // Set the figure to an initial 600x600px, this will subsequently be updated\n",
       "    // upon first draw.\n",
       "    this._resize_canvas(600, 600);\n",
       "\n",
       "    // Disable right mouse context menu.\n",
       "    $(this.rubberband_canvas).bind(\"contextmenu\",function(e){\n",
       "        return false;\n",
       "    });\n",
       "\n",
       "    function set_focus () {\n",
       "        canvas.focus();\n",
       "        canvas_div.focus();\n",
       "    }\n",
       "\n",
       "    window.setTimeout(set_focus, 100);\n",
       "}\n",
       "\n",
       "mpl.figure.prototype._init_toolbar = function() {\n",
       "    var fig = this;\n",
       "\n",
       "    var nav_element = $('<div/>');\n",
       "    nav_element.attr('style', 'width: 100%');\n",
       "    this.root.append(nav_element);\n",
       "\n",
       "    // Define a callback function for later on.\n",
       "    function toolbar_event(event) {\n",
       "        return fig.toolbar_button_onclick(event['data']);\n",
       "    }\n",
       "    function toolbar_mouse_event(event) {\n",
       "        return fig.toolbar_button_onmouseover(event['data']);\n",
       "    }\n",
       "\n",
       "    for(var toolbar_ind in mpl.toolbar_items) {\n",
       "        var name = mpl.toolbar_items[toolbar_ind][0];\n",
       "        var tooltip = mpl.toolbar_items[toolbar_ind][1];\n",
       "        var image = mpl.toolbar_items[toolbar_ind][2];\n",
       "        var method_name = mpl.toolbar_items[toolbar_ind][3];\n",
       "\n",
       "        if (!name) {\n",
       "            // put a spacer in here.\n",
       "            continue;\n",
       "        }\n",
       "        var button = $('<button/>');\n",
       "        button.addClass('ui-button ui-widget ui-state-default ui-corner-all ' +\n",
       "                        'ui-button-icon-only');\n",
       "        button.attr('role', 'button');\n",
       "        button.attr('aria-disabled', 'false');\n",
       "        button.click(method_name, toolbar_event);\n",
       "        button.mouseover(tooltip, toolbar_mouse_event);\n",
       "\n",
       "        var icon_img = $('<span/>');\n",
       "        icon_img.addClass('ui-button-icon-primary ui-icon');\n",
       "        icon_img.addClass(image);\n",
       "        icon_img.addClass('ui-corner-all');\n",
       "\n",
       "        var tooltip_span = $('<span/>');\n",
       "        tooltip_span.addClass('ui-button-text');\n",
       "        tooltip_span.html(tooltip);\n",
       "\n",
       "        button.append(icon_img);\n",
       "        button.append(tooltip_span);\n",
       "\n",
       "        nav_element.append(button);\n",
       "    }\n",
       "\n",
       "    var fmt_picker_span = $('<span/>');\n",
       "\n",
       "    var fmt_picker = $('<select/>');\n",
       "    fmt_picker.addClass('mpl-toolbar-option ui-widget ui-widget-content');\n",
       "    fmt_picker_span.append(fmt_picker);\n",
       "    nav_element.append(fmt_picker_span);\n",
       "    this.format_dropdown = fmt_picker[0];\n",
       "\n",
       "    for (var ind in mpl.extensions) {\n",
       "        var fmt = mpl.extensions[ind];\n",
       "        var option = $(\n",
       "            '<option/>', {selected: fmt === mpl.default_extension}).html(fmt);\n",
       "        fmt_picker.append(option);\n",
       "    }\n",
       "\n",
       "    // Add hover states to the ui-buttons\n",
       "    $( \".ui-button\" ).hover(\n",
       "        function() { $(this).addClass(\"ui-state-hover\");},\n",
       "        function() { $(this).removeClass(\"ui-state-hover\");}\n",
       "    );\n",
       "\n",
       "    var status_bar = $('<span class=\"mpl-message\"/>');\n",
       "    nav_element.append(status_bar);\n",
       "    this.message = status_bar[0];\n",
       "}\n",
       "\n",
       "mpl.figure.prototype.request_resize = function(x_pixels, y_pixels) {\n",
       "    // Request matplotlib to resize the figure. Matplotlib will then trigger a resize in the client,\n",
       "    // which will in turn request a refresh of the image.\n",
       "    this.send_message('resize', {'width': x_pixels, 'height': y_pixels});\n",
       "}\n",
       "\n",
       "mpl.figure.prototype.send_message = function(type, properties) {\n",
       "    properties['type'] = type;\n",
       "    properties['figure_id'] = this.id;\n",
       "    this.ws.send(JSON.stringify(properties));\n",
       "}\n",
       "\n",
       "mpl.figure.prototype.send_draw_message = function() {\n",
       "    if (!this.waiting) {\n",
       "        this.waiting = true;\n",
       "        this.ws.send(JSON.stringify({type: \"draw\", figure_id: this.id}));\n",
       "    }\n",
       "}\n",
       "\n",
       "\n",
       "mpl.figure.prototype.handle_save = function(fig, msg) {\n",
       "    var format_dropdown = fig.format_dropdown;\n",
       "    var format = format_dropdown.options[format_dropdown.selectedIndex].value;\n",
       "    fig.ondownload(fig, format);\n",
       "}\n",
       "\n",
       "\n",
       "mpl.figure.prototype.handle_resize = function(fig, msg) {\n",
       "    var size = msg['size'];\n",
       "    if (size[0] != fig.canvas.width || size[1] != fig.canvas.height) {\n",
       "        fig._resize_canvas(size[0], size[1]);\n",
       "        fig.send_message(\"refresh\", {});\n",
       "    };\n",
       "}\n",
       "\n",
       "mpl.figure.prototype.handle_rubberband = function(fig, msg) {\n",
       "    var x0 = msg['x0'] / mpl.ratio;\n",
       "    var y0 = (fig.canvas.height - msg['y0']) / mpl.ratio;\n",
       "    var x1 = msg['x1'] / mpl.ratio;\n",
       "    var y1 = (fig.canvas.height - msg['y1']) / mpl.ratio;\n",
       "    x0 = Math.floor(x0) + 0.5;\n",
       "    y0 = Math.floor(y0) + 0.5;\n",
       "    x1 = Math.floor(x1) + 0.5;\n",
       "    y1 = Math.floor(y1) + 0.5;\n",
       "    var min_x = Math.min(x0, x1);\n",
       "    var min_y = Math.min(y0, y1);\n",
       "    var width = Math.abs(x1 - x0);\n",
       "    var height = Math.abs(y1 - y0);\n",
       "\n",
       "    fig.rubberband_context.clearRect(\n",
       "        0, 0, fig.canvas.width / mpl.ratio, fig.canvas.height / mpl.ratio);\n",
       "\n",
       "    fig.rubberband_context.strokeRect(min_x, min_y, width, height);\n",
       "}\n",
       "\n",
       "mpl.figure.prototype.handle_figure_label = function(fig, msg) {\n",
       "    // Updates the figure title.\n",
       "    fig.header.textContent = msg['label'];\n",
       "}\n",
       "\n",
       "mpl.figure.prototype.handle_cursor = function(fig, msg) {\n",
       "    var cursor = msg['cursor'];\n",
       "    switch(cursor)\n",
       "    {\n",
       "    case 0:\n",
       "        cursor = 'pointer';\n",
       "        break;\n",
       "    case 1:\n",
       "        cursor = 'default';\n",
       "        break;\n",
       "    case 2:\n",
       "        cursor = 'crosshair';\n",
       "        break;\n",
       "    case 3:\n",
       "        cursor = 'move';\n",
       "        break;\n",
       "    }\n",
       "    fig.rubberband_canvas.style.cursor = cursor;\n",
       "}\n",
       "\n",
       "mpl.figure.prototype.handle_message = function(fig, msg) {\n",
       "    fig.message.textContent = msg['message'];\n",
       "}\n",
       "\n",
       "mpl.figure.prototype.handle_draw = function(fig, msg) {\n",
       "    // Request the server to send over a new figure.\n",
       "    fig.send_draw_message();\n",
       "}\n",
       "\n",
       "mpl.figure.prototype.handle_image_mode = function(fig, msg) {\n",
       "    fig.image_mode = msg['mode'];\n",
       "}\n",
       "\n",
       "mpl.figure.prototype.updated_canvas_event = function() {\n",
       "    // Called whenever the canvas gets updated.\n",
       "    this.send_message(\"ack\", {});\n",
       "}\n",
       "\n",
       "// A function to construct a web socket function for onmessage handling.\n",
       "// Called in the figure constructor.\n",
       "mpl.figure.prototype._make_on_message_function = function(fig) {\n",
       "    return function socket_on_message(evt) {\n",
       "        if (evt.data instanceof Blob) {\n",
       "            /* FIXME: We get \"Resource interpreted as Image but\n",
       "             * transferred with MIME type text/plain:\" errors on\n",
       "             * Chrome.  But how to set the MIME type?  It doesn't seem\n",
       "             * to be part of the websocket stream */\n",
       "            evt.data.type = \"image/png\";\n",
       "\n",
       "            /* Free the memory for the previous frames */\n",
       "            if (fig.imageObj.src) {\n",
       "                (window.URL || window.webkitURL).revokeObjectURL(\n",
       "                    fig.imageObj.src);\n",
       "            }\n",
       "\n",
       "            fig.imageObj.src = (window.URL || window.webkitURL).createObjectURL(\n",
       "                evt.data);\n",
       "            fig.updated_canvas_event();\n",
       "            fig.waiting = false;\n",
       "            return;\n",
       "        }\n",
       "        else if (typeof evt.data === 'string' && evt.data.slice(0, 21) == \"data:image/png;base64\") {\n",
       "            fig.imageObj.src = evt.data;\n",
       "            fig.updated_canvas_event();\n",
       "            fig.waiting = false;\n",
       "            return;\n",
       "        }\n",
       "\n",
       "        var msg = JSON.parse(evt.data);\n",
       "        var msg_type = msg['type'];\n",
       "\n",
       "        // Call the  \"handle_{type}\" callback, which takes\n",
       "        // the figure and JSON message as its only arguments.\n",
       "        try {\n",
       "            var callback = fig[\"handle_\" + msg_type];\n",
       "        } catch (e) {\n",
       "            console.log(\"No handler for the '\" + msg_type + \"' message type: \", msg);\n",
       "            return;\n",
       "        }\n",
       "\n",
       "        if (callback) {\n",
       "            try {\n",
       "                // console.log(\"Handling '\" + msg_type + \"' message: \", msg);\n",
       "                callback(fig, msg);\n",
       "            } catch (e) {\n",
       "                console.log(\"Exception inside the 'handler_\" + msg_type + \"' callback:\", e, e.stack, msg);\n",
       "            }\n",
       "        }\n",
       "    };\n",
       "}\n",
       "\n",
       "// from http://stackoverflow.com/questions/1114465/getting-mouse-location-in-canvas\n",
       "mpl.findpos = function(e) {\n",
       "    //this section is from http://www.quirksmode.org/js/events_properties.html\n",
       "    var targ;\n",
       "    if (!e)\n",
       "        e = window.event;\n",
       "    if (e.target)\n",
       "        targ = e.target;\n",
       "    else if (e.srcElement)\n",
       "        targ = e.srcElement;\n",
       "    if (targ.nodeType == 3) // defeat Safari bug\n",
       "        targ = targ.parentNode;\n",
       "\n",
       "    // jQuery normalizes the pageX and pageY\n",
       "    // pageX,Y are the mouse positions relative to the document\n",
       "    // offset() returns the position of the element relative to the document\n",
       "    var x = e.pageX - $(targ).offset().left;\n",
       "    var y = e.pageY - $(targ).offset().top;\n",
       "\n",
       "    return {\"x\": x, \"y\": y};\n",
       "};\n",
       "\n",
       "/*\n",
       " * return a copy of an object with only non-object keys\n",
       " * we need this to avoid circular references\n",
       " * http://stackoverflow.com/a/24161582/3208463\n",
       " */\n",
       "function simpleKeys (original) {\n",
       "  return Object.keys(original).reduce(function (obj, key) {\n",
       "    if (typeof original[key] !== 'object')\n",
       "        obj[key] = original[key]\n",
       "    return obj;\n",
       "  }, {});\n",
       "}\n",
       "\n",
       "mpl.figure.prototype.mouse_event = function(event, name) {\n",
       "    var canvas_pos = mpl.findpos(event)\n",
       "\n",
       "    if (name === 'button_press')\n",
       "    {\n",
       "        this.canvas.focus();\n",
       "        this.canvas_div.focus();\n",
       "    }\n",
       "\n",
       "    var x = canvas_pos.x * mpl.ratio;\n",
       "    var y = canvas_pos.y * mpl.ratio;\n",
       "\n",
       "    this.send_message(name, {x: x, y: y, button: event.button,\n",
       "                             step: event.step,\n",
       "                             guiEvent: simpleKeys(event)});\n",
       "\n",
       "    /* This prevents the web browser from automatically changing to\n",
       "     * the text insertion cursor when the button is pressed.  We want\n",
       "     * to control all of the cursor setting manually through the\n",
       "     * 'cursor' event from matplotlib */\n",
       "    event.preventDefault();\n",
       "    return false;\n",
       "}\n",
       "\n",
       "mpl.figure.prototype._key_event_extra = function(event, name) {\n",
       "    // Handle any extra behaviour associated with a key event\n",
       "}\n",
       "\n",
       "mpl.figure.prototype.key_event = function(event, name) {\n",
       "\n",
       "    // Prevent repeat events\n",
       "    if (name == 'key_press')\n",
       "    {\n",
       "        if (event.which === this._key)\n",
       "            return;\n",
       "        else\n",
       "            this._key = event.which;\n",
       "    }\n",
       "    if (name == 'key_release')\n",
       "        this._key = null;\n",
       "\n",
       "    var value = '';\n",
       "    if (event.ctrlKey && event.which != 17)\n",
       "        value += \"ctrl+\";\n",
       "    if (event.altKey && event.which != 18)\n",
       "        value += \"alt+\";\n",
       "    if (event.shiftKey && event.which != 16)\n",
       "        value += \"shift+\";\n",
       "\n",
       "    value += 'k';\n",
       "    value += event.which.toString();\n",
       "\n",
       "    this._key_event_extra(event, name);\n",
       "\n",
       "    this.send_message(name, {key: value,\n",
       "                             guiEvent: simpleKeys(event)});\n",
       "    return false;\n",
       "}\n",
       "\n",
       "mpl.figure.prototype.toolbar_button_onclick = function(name) {\n",
       "    if (name == 'download') {\n",
       "        this.handle_save(this, null);\n",
       "    } else {\n",
       "        this.send_message(\"toolbar_button\", {name: name});\n",
       "    }\n",
       "};\n",
       "\n",
       "mpl.figure.prototype.toolbar_button_onmouseover = function(tooltip) {\n",
       "    this.message.textContent = tooltip;\n",
       "};\n",
       "mpl.toolbar_items = [[\"Home\", \"Reset original view\", \"fa fa-home icon-home\", \"home\"], [\"Back\", \"Back to previous view\", \"fa fa-arrow-left icon-arrow-left\", \"back\"], [\"Forward\", \"Forward to next view\", \"fa fa-arrow-right icon-arrow-right\", \"forward\"], [\"\", \"\", \"\", \"\"], [\"Pan\", \"Pan axes with left mouse, zoom with right\", \"fa fa-arrows icon-move\", \"pan\"], [\"Zoom\", \"Zoom to rectangle\", \"fa fa-square-o icon-check-empty\", \"zoom\"], [\"\", \"\", \"\", \"\"], [\"Download\", \"Download plot\", \"fa fa-floppy-o icon-save\", \"download\"]];\n",
       "\n",
       "mpl.extensions = [\"eps\", \"jpeg\", \"pdf\", \"png\", \"ps\", \"raw\", \"svg\", \"tif\"];\n",
       "\n",
       "mpl.default_extension = \"png\";var comm_websocket_adapter = function(comm) {\n",
       "    // Create a \"websocket\"-like object which calls the given IPython comm\n",
       "    // object with the appropriate methods. Currently this is a non binary\n",
       "    // socket, so there is still some room for performance tuning.\n",
       "    var ws = {};\n",
       "\n",
       "    ws.close = function() {\n",
       "        comm.close()\n",
       "    };\n",
       "    ws.send = function(m) {\n",
       "        //console.log('sending', m);\n",
       "        comm.send(m);\n",
       "    };\n",
       "    // Register the callback with on_msg.\n",
       "    comm.on_msg(function(msg) {\n",
       "        //console.log('receiving', msg['content']['data'], msg);\n",
       "        // Pass the mpl event to the overridden (by mpl) onmessage function.\n",
       "        ws.onmessage(msg['content']['data'])\n",
       "    });\n",
       "    return ws;\n",
       "}\n",
       "\n",
       "mpl.mpl_figure_comm = function(comm, msg) {\n",
       "    // This is the function which gets called when the mpl process\n",
       "    // starts-up an IPython Comm through the \"matplotlib\" channel.\n",
       "\n",
       "    var id = msg.content.data.id;\n",
       "    // Get hold of the div created by the display call when the Comm\n",
       "    // socket was opened in Python.\n",
       "    var element = $(\"#\" + id);\n",
       "    var ws_proxy = comm_websocket_adapter(comm)\n",
       "\n",
       "    function ondownload(figure, format) {\n",
       "        window.open(figure.imageObj.src);\n",
       "    }\n",
       "\n",
       "    var fig = new mpl.figure(id, ws_proxy,\n",
       "                           ondownload,\n",
       "                           element.get(0));\n",
       "\n",
       "    // Call onopen now - mpl needs it, as it is assuming we've passed it a real\n",
       "    // web socket which is closed, not our websocket->open comm proxy.\n",
       "    ws_proxy.onopen();\n",
       "\n",
       "    fig.parent_element = element.get(0);\n",
       "    fig.cell_info = mpl.find_output_cell(\"<div id='\" + id + \"'></div>\");\n",
       "    if (!fig.cell_info) {\n",
       "        console.error(\"Failed to find cell for figure\", id, fig);\n",
       "        return;\n",
       "    }\n",
       "\n",
       "    var output_index = fig.cell_info[2]\n",
       "    var cell = fig.cell_info[0];\n",
       "\n",
       "};\n",
       "\n",
       "mpl.figure.prototype.handle_close = function(fig, msg) {\n",
       "    var width = fig.canvas.width/mpl.ratio\n",
       "    fig.root.unbind('remove')\n",
       "\n",
       "    // Update the output cell to use the data from the current canvas.\n",
       "    fig.push_to_output();\n",
       "    var dataURL = fig.canvas.toDataURL();\n",
       "    // Re-enable the keyboard manager in IPython - without this line, in FF,\n",
       "    // the notebook keyboard shortcuts fail.\n",
       "    IPython.keyboard_manager.enable()\n",
       "    $(fig.parent_element).html('<img src=\"' + dataURL + '\" width=\"' + width + '\">');\n",
       "    fig.close_ws(fig, msg);\n",
       "}\n",
       "\n",
       "mpl.figure.prototype.close_ws = function(fig, msg){\n",
       "    fig.send_message('closing', msg);\n",
       "    // fig.ws.close()\n",
       "}\n",
       "\n",
       "mpl.figure.prototype.push_to_output = function(remove_interactive) {\n",
       "    // Turn the data on the canvas into data in the output cell.\n",
       "    var width = this.canvas.width/mpl.ratio\n",
       "    var dataURL = this.canvas.toDataURL();\n",
       "    this.cell_info[1]['text/html'] = '<img src=\"' + dataURL + '\" width=\"' + width + '\">';\n",
       "}\n",
       "\n",
       "mpl.figure.prototype.updated_canvas_event = function() {\n",
       "    // Tell IPython that the notebook contents must change.\n",
       "    IPython.notebook.set_dirty(true);\n",
       "    this.send_message(\"ack\", {});\n",
       "    var fig = this;\n",
       "    // Wait a second, then push the new image to the DOM so\n",
       "    // that it is saved nicely (might be nice to debounce this).\n",
       "    setTimeout(function () { fig.push_to_output() }, 1000);\n",
       "}\n",
       "\n",
       "mpl.figure.prototype._init_toolbar = function() {\n",
       "    var fig = this;\n",
       "\n",
       "    var nav_element = $('<div/>');\n",
       "    nav_element.attr('style', 'width: 100%');\n",
       "    this.root.append(nav_element);\n",
       "\n",
       "    // Define a callback function for later on.\n",
       "    function toolbar_event(event) {\n",
       "        return fig.toolbar_button_onclick(event['data']);\n",
       "    }\n",
       "    function toolbar_mouse_event(event) {\n",
       "        return fig.toolbar_button_onmouseover(event['data']);\n",
       "    }\n",
       "\n",
       "    for(var toolbar_ind in mpl.toolbar_items){\n",
       "        var name = mpl.toolbar_items[toolbar_ind][0];\n",
       "        var tooltip = mpl.toolbar_items[toolbar_ind][1];\n",
       "        var image = mpl.toolbar_items[toolbar_ind][2];\n",
       "        var method_name = mpl.toolbar_items[toolbar_ind][3];\n",
       "\n",
       "        if (!name) { continue; };\n",
       "\n",
       "        var button = $('<button class=\"btn btn-default\" href=\"#\" title=\"' + name + '\"><i class=\"fa ' + image + ' fa-lg\"></i></button>');\n",
       "        button.click(method_name, toolbar_event);\n",
       "        button.mouseover(tooltip, toolbar_mouse_event);\n",
       "        nav_element.append(button);\n",
       "    }\n",
       "\n",
       "    // Add the status bar.\n",
       "    var status_bar = $('<span class=\"mpl-message\" style=\"text-align:right; float: right;\"/>');\n",
       "    nav_element.append(status_bar);\n",
       "    this.message = status_bar[0];\n",
       "\n",
       "    // Add the close button to the window.\n",
       "    var buttongrp = $('<div class=\"btn-group inline pull-right\"></div>');\n",
       "    var button = $('<button class=\"btn btn-mini btn-primary\" href=\"#\" title=\"Stop Interaction\"><i class=\"fa fa-power-off icon-remove icon-large\"></i></button>');\n",
       "    button.click(function (evt) { fig.handle_close(fig, {}); } );\n",
       "    button.mouseover('Stop Interaction', toolbar_mouse_event);\n",
       "    buttongrp.append(button);\n",
       "    var titlebar = this.root.find($('.ui-dialog-titlebar'));\n",
       "    titlebar.prepend(buttongrp);\n",
       "}\n",
       "\n",
       "mpl.figure.prototype._root_extra_style = function(el){\n",
       "    var fig = this\n",
       "    el.on(\"remove\", function(){\n",
       "\tfig.close_ws(fig, {});\n",
       "    });\n",
       "}\n",
       "\n",
       "mpl.figure.prototype._canvas_extra_style = function(el){\n",
       "    // this is important to make the div 'focusable\n",
       "    el.attr('tabindex', 0)\n",
       "    // reach out to IPython and tell the keyboard manager to turn it's self\n",
       "    // off when our div gets focus\n",
       "\n",
       "    // location in version 3\n",
       "    if (IPython.notebook.keyboard_manager) {\n",
       "        IPython.notebook.keyboard_manager.register_events(el);\n",
       "    }\n",
       "    else {\n",
       "        // location in version 2\n",
       "        IPython.keyboard_manager.register_events(el);\n",
       "    }\n",
       "\n",
       "}\n",
       "\n",
       "mpl.figure.prototype._key_event_extra = function(event, name) {\n",
       "    var manager = IPython.notebook.keyboard_manager;\n",
       "    if (!manager)\n",
       "        manager = IPython.keyboard_manager;\n",
       "\n",
       "    // Check for shift+enter\n",
       "    if (event.shiftKey && event.which == 13) {\n",
       "        this.canvas_div.blur();\n",
       "        // select the cell after this one\n",
       "        var index = IPython.notebook.find_cell_index(this.cell_info[0]);\n",
       "        IPython.notebook.select(index + 1);\n",
       "    }\n",
       "}\n",
       "\n",
       "mpl.figure.prototype.handle_save = function(fig, msg) {\n",
       "    fig.ondownload(fig, null);\n",
       "}\n",
       "\n",
       "\n",
       "mpl.find_output_cell = function(html_output) {\n",
       "    // Return the cell and output element which can be found *uniquely* in the notebook.\n",
       "    // Note - this is a bit hacky, but it is done because the \"notebook_saving.Notebook\"\n",
       "    // IPython event is triggered only after the cells have been serialised, which for\n",
       "    // our purposes (turning an active figure into a static one), is too late.\n",
       "    var cells = IPython.notebook.get_cells();\n",
       "    var ncells = cells.length;\n",
       "    for (var i=0; i<ncells; i++) {\n",
       "        var cell = cells[i];\n",
       "        if (cell.cell_type === 'code'){\n",
       "            for (var j=0; j<cell.output_area.outputs.length; j++) {\n",
       "                var data = cell.output_area.outputs[j];\n",
       "                if (data.data) {\n",
       "                    // IPython >= 3 moved mimebundle to data attribute of output\n",
       "                    data = data.data;\n",
       "                }\n",
       "                if (data['text/html'] == html_output) {\n",
       "                    return [cell, data, j];\n",
       "                }\n",
       "            }\n",
       "        }\n",
       "    }\n",
       "}\n",
       "\n",
       "// Register the function which deals with the matplotlib target/channel.\n",
       "// The kernel may be null if the page has been refreshed.\n",
       "if (IPython.notebook.kernel != null) {\n",
       "    IPython.notebook.kernel.comm_manager.register_target('matplotlib', mpl.mpl_figure_comm);\n",
       "}\n"
      ],
      "text/plain": [
       "<IPython.core.display.Javascript object>"
      ]
     },
     "metadata": {},
     "output_type": "display_data"
    },
    {
     "data": {
      "text/html": [
       "<div id='301cd915-3a79-49d7-8829-09d599b1d19c'></div>"
      ],
      "text/plain": [
       "<IPython.core.display.HTML object>"
      ]
     },
     "metadata": {},
     "output_type": "display_data"
    }
   ],
   "source": [
    "plt.figure() # create a new figure\n",
    "SE3().plot(frame='0', color='black', dims=[0,2])\n",
    "R3.plot(frame='3')"
   ]
  },
  {
   "cell_type": "markdown",
   "metadata": {},
   "source": [
    "and we can convert any rotation matrix back to its 3-angle representation"
   ]
  },
  {
   "cell_type": "code",
   "execution_count": 25,
   "metadata": {},
   "outputs": [
    {
     "data": {
      "text/plain": [
       "array([10., 20., 30.])"
      ]
     },
     "execution_count": 25,
     "metadata": {},
     "output_type": "execute_result"
    }
   ],
   "source": [
    "R3.rpy"
   ]
  },
  {
   "cell_type": "markdown",
   "metadata": {},
   "source": [
    "Let's look at what's inside the SO3 object"
   ]
  },
  {
   "cell_type": "code",
   "execution_count": 26,
   "metadata": {},
   "outputs": [
    {
     "data": {
      "text/plain": [
       "  \u001b[38;5;1m\u001b[48;5;255m 1        \u001b[0m\u001b[38;5;1m\u001b[48;5;255m 0        \u001b[0m\u001b[38;5;1m\u001b[48;5;255m 0        \u001b[0m\u001b[48;5;255m  \u001b[0m\n",
       "  \u001b[38;5;1m\u001b[48;5;255m 0        \u001b[0m\u001b[38;5;1m\u001b[48;5;255m 0.707107 \u001b[0m\u001b[38;5;1m\u001b[48;5;255m-0.707107 \u001b[0m\u001b[48;5;255m  \u001b[0m\n",
       "  \u001b[38;5;1m\u001b[48;5;255m 0        \u001b[0m\u001b[38;5;1m\u001b[48;5;255m 0.707107 \u001b[0m\u001b[38;5;1m\u001b[48;5;255m 0.707107 \u001b[0m\u001b[48;5;255m  \u001b[0m"
      ]
     },
     "execution_count": 26,
     "metadata": {},
     "output_type": "execute_result"
    }
   ],
   "source": [
    "R1"
   ]
  },
  {
   "cell_type": "markdown",
   "metadata": {},
   "source": [
    "which is again a matrix, but this time it's a 3x3 matrix.  We could create a rotation of 𝜋/4 radians about the Z-axis"
   ]
  },
  {
   "cell_type": "code",
   "execution_count": 27,
   "metadata": {},
   "outputs": [
    {
     "data": {
      "text/plain": [
       "  \u001b[38;5;1m\u001b[48;5;255m 0.707107 \u001b[0m\u001b[38;5;1m\u001b[48;5;255m-0.707107 \u001b[0m\u001b[38;5;1m\u001b[48;5;255m 0        \u001b[0m\u001b[48;5;255m  \u001b[0m\n",
       "  \u001b[38;5;1m\u001b[48;5;255m 0.707107 \u001b[0m\u001b[38;5;1m\u001b[48;5;255m 0.707107 \u001b[0m\u001b[38;5;1m\u001b[48;5;255m 0        \u001b[0m\u001b[48;5;255m  \u001b[0m\n",
       "  \u001b[38;5;1m\u001b[48;5;255m 0        \u001b[0m\u001b[38;5;1m\u001b[48;5;255m 0        \u001b[0m\u001b[38;5;1m\u001b[48;5;255m 1        \u001b[0m\u001b[48;5;255m  \u001b[0m"
      ]
     },
     "execution_count": 27,
     "metadata": {},
     "output_type": "execute_result"
    }
   ],
   "source": [
    "SO3.Rz(pi/4)"
   ]
  },
  {
   "cell_type": "markdown",
   "metadata": {},
   "source": [
    "The matrices that represent rotations have a very particular structure but it is perhaps not immediately obvious.  Each column (and row) is a unit vector, and each column (and row) is orthogonal  to all the others – that is the inner product is zero.\n",
    "\n",
    "A mathematician would say the matrices are a subset of all possible 3x3 matrices which belong to the Special Orthogonal _group_ in 3 dimensions which is generally shortened to $\\mbox{SO}(3)$ – hence the name of our Python class.  These matrices represent rotations in 3D space.  These matrices are also known as _rotation_ matrices.\n",
    "\n",
    "A very useful property of matrices in $\\mbox{SO}(N)$ is that the inverse is equal to its transpose, and its determinant is always +1."
   ]
  },
  {
   "cell_type": "code",
   "execution_count": 28,
   "metadata": {},
   "outputs": [
    {
     "data": {
      "text/plain": [
       "  \u001b[38;5;1m\u001b[48;5;255m 0.707107 \u001b[0m\u001b[38;5;1m\u001b[48;5;255m 0.707107 \u001b[0m\u001b[38;5;1m\u001b[48;5;255m 0        \u001b[0m\u001b[48;5;255m  \u001b[0m\n",
       "  \u001b[38;5;1m\u001b[48;5;255m-0.707107 \u001b[0m\u001b[38;5;1m\u001b[48;5;255m 0.707107 \u001b[0m\u001b[38;5;1m\u001b[48;5;255m 0        \u001b[0m\u001b[48;5;255m  \u001b[0m\n",
       "  \u001b[38;5;1m\u001b[48;5;255m 0        \u001b[0m\u001b[38;5;1m\u001b[48;5;255m 0        \u001b[0m\u001b[38;5;1m\u001b[48;5;255m 1        \u001b[0m\u001b[48;5;255m  \u001b[0m"
      ]
     },
     "execution_count": 28,
     "metadata": {},
     "output_type": "execute_result"
    }
   ],
   "source": [
    "SO3.Rz(pi/4).inv"
   ]
  },
  {
   "cell_type": "markdown",
   "metadata": {},
   "source": [
    "So doing a motion, then the inverse motion "
   ]
  },
  {
   "cell_type": "code",
   "execution_count": 29,
   "metadata": {},
   "outputs": [
    {
     "data": {
      "text/plain": [
       "  \u001b[38;5;1m\u001b[48;5;255m 1        \u001b[0m\u001b[38;5;1m\u001b[48;5;255m 0        \u001b[0m\u001b[38;5;1m\u001b[48;5;255m 0        \u001b[0m\u001b[48;5;255m  \u001b[0m\n",
       "  \u001b[38;5;1m\u001b[48;5;255m 0        \u001b[0m\u001b[38;5;1m\u001b[48;5;255m 1        \u001b[0m\u001b[38;5;1m\u001b[48;5;255m 0        \u001b[0m\u001b[48;5;255m  \u001b[0m\n",
       "  \u001b[38;5;1m\u001b[48;5;255m 0        \u001b[0m\u001b[38;5;1m\u001b[48;5;255m 0        \u001b[0m\u001b[38;5;1m\u001b[48;5;255m 1        \u001b[0m\u001b[48;5;255m  \u001b[0m"
      ]
     },
     "execution_count": 29,
     "metadata": {},
     "output_type": "execute_result"
    }
   ],
   "source": [
    "SO3.Rz(pi/4) * SO3.Rz(pi/4).inv"
   ]
  },
  {
   "cell_type": "markdown",
   "metadata": {},
   "source": [
    "is a null rotation:  $\\pi/4$ radians one way, then $\\pi/4$ radians back again."
   ]
  },
  {
   "cell_type": "markdown",
   "metadata": {},
   "source": [
    "The default constructor yields a null rotation"
   ]
  },
  {
   "cell_type": "code",
   "execution_count": 30,
   "metadata": {},
   "outputs": [
    {
     "data": {
      "text/plain": [
       "  \u001b[38;5;1m\u001b[48;5;255m 1        \u001b[0m\u001b[38;5;1m\u001b[48;5;255m 0        \u001b[0m\u001b[38;5;1m\u001b[48;5;255m 0        \u001b[0m\u001b[48;5;255m  \u001b[0m\n",
       "  \u001b[38;5;1m\u001b[48;5;255m 0        \u001b[0m\u001b[38;5;1m\u001b[48;5;255m 1        \u001b[0m\u001b[38;5;1m\u001b[48;5;255m 0        \u001b[0m\u001b[48;5;255m  \u001b[0m\n",
       "  \u001b[38;5;1m\u001b[48;5;255m 0        \u001b[0m\u001b[38;5;1m\u001b[48;5;255m 0        \u001b[0m\u001b[38;5;1m\u001b[48;5;255m 1        \u001b[0m\u001b[48;5;255m  \u001b[0m"
      ]
     },
     "execution_count": 30,
     "metadata": {},
     "output_type": "execute_result"
    }
   ],
   "source": [
    "SO3()"
   ]
  },
  {
   "cell_type": "markdown",
   "metadata": {},
   "source": [
    "A number of other constructors provide convenient ways to describe a rotation\n",
    "\n",
    "| Constructor   |  rotation |\n",
    "|---------------|-----------|\n",
    "| SO3.Rx(theta)  |  about X-axis |\n",
    "| SO3.Ry(theta)  |  about Y-axis|\n",
    "| SO3.Rz(theta)  |  about Z-axis|\n",
    "| SO3.RPY(rpy)  |  from roll-pitch-yaw angle vector|\n",
    "| SO3.Eul(euler)  | from Euler angle vector |\n",
    "| SO3.AngVec(theta, v)  | from rotation and axis |\n",
    "| SO3.Exp(v)  | from a twist vector |\n",
    "| SO3.OA  | from orientation and approach vectors |"
   ]
  },
  {
   "cell_type": "markdown",
   "metadata": {},
   "source": [
    "Imagine we want a rotation that describes a frame that has its y-axis (o-vector) pointing in the world negative z-axis direction and its z-axis (a-vector) pointing in the world x-axis direction"
   ]
  },
  {
   "cell_type": "code",
   "execution_count": 31,
   "metadata": {},
   "outputs": [
    {
     "data": {
      "text/plain": [
       "  \u001b[38;5;1m\u001b[48;5;255m 0        \u001b[0m\u001b[38;5;1m\u001b[48;5;255m 0        \u001b[0m\u001b[38;5;1m\u001b[48;5;255m 1        \u001b[0m\u001b[48;5;255m  \u001b[0m\n",
       "  \u001b[38;5;1m\u001b[48;5;255m-1        \u001b[0m\u001b[38;5;1m\u001b[48;5;255m 0        \u001b[0m\u001b[38;5;1m\u001b[48;5;255m 0        \u001b[0m\u001b[48;5;255m  \u001b[0m\n",
       "  \u001b[38;5;1m\u001b[48;5;255m 0        \u001b[0m\u001b[38;5;1m\u001b[48;5;255m-1        \u001b[0m\u001b[38;5;1m\u001b[48;5;255m 0        \u001b[0m\u001b[48;5;255m  \u001b[0m"
      ]
     },
     "execution_count": 31,
     "metadata": {},
     "output_type": "execute_result"
    }
   ],
   "source": [
    "SO3.OA(o=[0,0,-1], a=[1,0,0])"
   ]
  },
  {
   "cell_type": "markdown",
   "metadata": {},
   "source": [
    "We can redo our earlier example using the explicit angle-axis notation"
   ]
  },
  {
   "cell_type": "code",
   "execution_count": 32,
   "metadata": {},
   "outputs": [
    {
     "data": {
      "text/plain": [
       "  \u001b[38;5;1m\u001b[48;5;255m 1        \u001b[0m\u001b[38;5;1m\u001b[48;5;255m 0        \u001b[0m\u001b[38;5;1m\u001b[48;5;255m 0        \u001b[0m\u001b[48;5;255m  \u001b[0m\n",
       "  \u001b[38;5;1m\u001b[48;5;255m 0        \u001b[0m\u001b[38;5;1m\u001b[48;5;255m 0.707107 \u001b[0m\u001b[38;5;1m\u001b[48;5;255m-0.707107 \u001b[0m\u001b[48;5;255m  \u001b[0m\n",
       "  \u001b[38;5;1m\u001b[48;5;255m 0        \u001b[0m\u001b[38;5;1m\u001b[48;5;255m 0.707107 \u001b[0m\u001b[38;5;1m\u001b[48;5;255m 0.707107 \u001b[0m\u001b[48;5;255m  \u001b[0m"
      ]
     },
     "execution_count": 32,
     "metadata": {},
     "output_type": "execute_result"
    }
   ],
   "source": [
    "SO3.AngVec(pi/4, [1,0,0])"
   ]
  },
  {
   "cell_type": "markdown",
   "metadata": {},
   "source": [
    "or a more complex example"
   ]
  },
  {
   "cell_type": "code",
   "execution_count": 33,
   "metadata": {},
   "outputs": [
    {
     "data": {
      "text/plain": [
       "  \u001b[38;5;1m\u001b[48;5;255m 0.875595 \u001b[0m\u001b[38;5;1m\u001b[48;5;255m-0.381753 \u001b[0m\u001b[38;5;1m\u001b[48;5;255m 0.29597  \u001b[0m\u001b[48;5;255m  \u001b[0m\n",
       "  \u001b[38;5;1m\u001b[48;5;255m 0.420031 \u001b[0m\u001b[38;5;1m\u001b[48;5;255m 0.904304 \u001b[0m\u001b[38;5;1m\u001b[48;5;255m-0.0762129\u001b[0m\u001b[48;5;255m  \u001b[0m\n",
       "  \u001b[38;5;1m\u001b[48;5;255m-0.238552 \u001b[0m\u001b[38;5;1m\u001b[48;5;255m 0.191048 \u001b[0m\u001b[38;5;1m\u001b[48;5;255m 0.952152 \u001b[0m\u001b[48;5;255m  \u001b[0m"
      ]
     },
     "execution_count": 33,
     "metadata": {},
     "output_type": "execute_result"
    }
   ],
   "source": [
    "SO3.AngVec(30, [1,2,3], unit='deg')"
   ]
  },
  {
   "cell_type": "markdown",
   "metadata": {},
   "source": [
    "A rotation matrix has an inverse (in this case its transpose)"
   ]
  },
  {
   "cell_type": "markdown",
   "metadata": {},
   "source": [
    "## Representing pose"
   ]
  },
  {
   "cell_type": "markdown",
   "metadata": {},
   "source": [
    "We have discussed how `SE3` objects can represent position and how `SO3` objects can represent rotation.  You might recall that the SE3 matrix had a 3x3 component (colored red) to it and as you can probably guess that is actually an SO(3) matrix as we've just discussed. The SE(3) group is a superset if you like, of the SO(3) group.  The latter can represent orientation, whereas the SE(3) is also able to represent position. The combination of position and orientation is known as _pose_."
   ]
  },
  {
   "cell_type": "code",
   "execution_count": null,
   "metadata": {},
   "outputs": [],
   "source": [
    "T1 = SE3(1, 2, 3) * SE3.Rx(30, 'deg')"
   ]
  },
  {
   "cell_type": "markdown",
   "metadata": {},
   "source": [
    "Is a composition of two motions: a translation and _then_ a rotation.  We can see the rotation matrix, computed above, in the top-left corner and the translation components in the right-most column.  In the earlier example Out[20] was simply a null-rotation which is represented by the identity matrix.\n",
    "\n",
    "The frame now looks like this"
   ]
  },
  {
   "cell_type": "code",
   "execution_count": null,
   "metadata": {},
   "outputs": [],
   "source": [
    "plt.figure() # create a new figure\n",
    "SE3().plot(frame='0', dims=[0,3], color='black')\n",
    "T1.plot(frame='1')"
   ]
  },
  {
   "cell_type": "markdown",
   "metadata": {},
   "source": [
    "The order of rotation is really important. If we reverse the two motions"
   ]
  },
  {
   "cell_type": "code",
   "execution_count": null,
   "metadata": {},
   "outputs": [],
   "source": [
    "T2 = SE3.Rx(30, 'deg') * SE3(1, 2, 3)"
   ]
  },
  {
   "cell_type": "markdown",
   "metadata": {},
   "source": [
    "we see the result is different.  In this case we turned first, then moved so we followed a different path"
   ]
  },
  {
   "cell_type": "code",
   "execution_count": null,
   "metadata": {},
   "outputs": [],
   "source": [
    "T2.plot(frame='2', color='red')"
   ]
  },
  {
   "cell_type": "markdown",
   "metadata": {},
   "source": [
    "Consider again a point which is attached to, or defined relative to the coordinate frame {1}."
   ]
  },
  {
   "cell_type": "code",
   "execution_count": null,
   "metadata": {},
   "outputs": [],
   "source": [
    "P = [1, 2, 1]"
   ]
  },
  {
   "cell_type": "markdown",
   "metadata": {},
   "source": [
    "In the world coordinate frame its coordinate is"
   ]
  },
  {
   "cell_type": "code",
   "execution_count": null,
   "metadata": {},
   "outputs": [],
   "source": [
    "T1 * P"
   ]
  },
  {
   "cell_type": "markdown",
   "metadata": {},
   "source": [
    "where the position vector representing the point, has been premultiplied by the homogeneous transformation `T`. The point has been rotated and translated.\n",
    "\n",
    "The vector is given here as a list but could also be a numpy array.  If the frame is denoted by {A} then our rotation matrix is ${}^0 \\mathbf{T}_A$ so a point ${}^A P$ defined with respect to frame {A} is transformed as ${}^0 P = {}^0 \\mathbf{T}_A\\,{}^A P$.  \n"
   ]
  },
  {
   "cell_type": "markdown",
   "metadata": {},
   "source": [
    "Now lets imagine the point P is defined with respect to the world coordinate frame.  To find its position with respect to frame {1} is simply"
   ]
  },
  {
   "cell_type": "code",
   "execution_count": null,
   "metadata": {},
   "outputs": [],
   "source": [
    "T1.inv * P"
   ]
  },
  {
   "cell_type": "markdown",
   "metadata": {},
   "source": [
    "where the inverse (computed in an efficient manner based on the structure of the matrix)"
   ]
  },
  {
   "cell_type": "markdown",
   "metadata": {},
   "source": [
    "An SE3 instance has a number of properties, many of which are _inherited_ from the SO3 class.  For example the columns of the rotation are often written as $[n, o, a]$"
   ]
  },
  {
   "cell_type": "code",
   "execution_count": null,
   "metadata": {},
   "outputs": [],
   "source": [
    "T.n"
   ]
  },
  {
   "cell_type": "markdown",
   "metadata": {},
   "source": [
    "We can extract the rotation matrix as a numpy array"
   ]
  },
  {
   "cell_type": "code",
   "execution_count": null,
   "metadata": {},
   "outputs": [],
   "source": [
    "T.R"
   ]
  },
  {
   "cell_type": "markdown",
   "metadata": {},
   "source": [
    "or the translation vector, as a numpy array"
   ]
  },
  {
   "cell_type": "code",
   "execution_count": null,
   "metadata": {},
   "outputs": [],
   "source": [
    "T.t"
   ]
  },
  {
   "cell_type": "markdown",
   "metadata": {},
   "source": [
    "indicating it operates in 3D space."
   ]
  },
  {
   "cell_type": "markdown",
   "metadata": {},
   "source": [
    "### A couple of important points:\n",
    "\n",
    "When we compose motions they must be of the same type.  An `SE3` object can represent pure transation, pure rotation or both.  If we wish to compose a translation with a rotation, the rotation must be an `SE3` object with zero translation.\n",
    "\n",
    "As we remakred earlier.  representing an orientation with 9 numbers is inefficient, and representing 3 translation values with a total of 16 numbers is even more wasteful.  But there's some serious magic possible"
   ]
  },
  {
   "cell_type": "markdown",
   "metadata": {},
   "source": [
    "which is displayed in a color coded fashion: rotation matrix in red, translation vector in blue, and the constant bottom row in grey."
   ]
  },
  {
   "cell_type": "markdown",
   "metadata": {},
   "source": [
    "but class supports a number of variant constructors using static methods.  `SO3.Rx()` shown above is one of these but there are also\n",
    "\n",
    "| Constructor   |  motion |\n",
    "|---------------|-----------|\n",
    "| SE3()      | null motion |\n",
    "| SE3(x, y, z) | pure translation in the X-, Y- and Z-directions |\n",
    "| SE3.Tx(d)  |  translation along X-axis |\n",
    "| SE3.Ty(d)  |  translation along Y-axis |\n",
    "| SE3.Tz(d)  |  translation along Z-axis |\n",
    "| SE3.Rx(theta)  |  rotation about X-axis |\n",
    "| SE3.Ry(theta)  |  rotation about Y-axis|\n",
    "| SE3.Rz(theta)  |  rotation about Z-axis|\n",
    "| SE3.RPY(rpy)  |  rotation from roll-pitch-yaw angle vector|\n",
    "| SE3.Eul(euler)  | rotation from Euler angle vector |\n",
    "| SE3.AngVec(theta, v)  | rotation from rotation and axis |\n",
    "| SE3.OA(ovec, avec)  | rotation from orientation and approach vectors |"
   ]
  },
  {
   "cell_type": "markdown",
   "metadata": {},
   "source": [
    "### Transforming points"
   ]
  },
  {
   "cell_type": "markdown",
   "metadata": {},
   "source": [
    "Imagine now a set of points defining the vertices of a cube"
   ]
  },
  {
   "cell_type": "code",
   "execution_count": null,
   "metadata": {},
   "outputs": [],
   "source": [
    "P = np.array([[-1, 1, 1, -1, -1, 1, 1, -1], [-1, -1, 1, 1, -1, -1, 1, 1], [-1, -1, -1, -1, 1, 1, 1, 1]])\n",
    "P"
   ]
  },
  {
   "cell_type": "markdown",
   "metadata": {},
   "source": [
    "defined with respect to a rotationg reference frame ${}^A P_i$.  Given a rotation ${}^0 \\mathbf{T}_A$ as above, we determine the coordinates of the points in the world frame by ${}^0 P_i = ({}^0 \\mathbf{T}_A)^{-1} {}^0 P_i$ which we can do in a single operation"
   ]
  },
  {
   "cell_type": "code",
   "execution_count": null,
   "metadata": {},
   "outputs": [],
   "source": [
    "Q = T * P"
   ]
  },
  {
   "cell_type": "markdown",
   "metadata": {},
   "source": [
    "which we could then plot."
   ]
  },
  {
   "cell_type": "code",
   "execution_count": null,
   "metadata": {
    "scrolled": true
   },
   "outputs": [],
   "source": [
    "fig = plt.figure()\n",
    "ax = fig.add_subplot(111, projection='3d')\n",
    "ax.scatter(xs=Q[0], ys=Q[1], zs=Q[2], s=20)  # draw vertices\n",
    "\n",
    "# draw lines joining the vertices\n",
    "lines = [[0,1,5,6], [1,2,6,7], [2,3,7,4], [3,0,4,5]]\n",
    "ax.set_xlim3d(-2, 3); ax.set_ylim3d(0, 5); ax.set_zlim3d(0, 5);\n",
    "ax.set_xlabel('X'); ax.set_ylabel('Y'); ax.set_zlabel('Z');\n",
    "for line in lines:\n",
    "    ax.plot([Q[0,i] for i in line], [Q[1,i] for i in line], [Q[2,i] for i in line])"
   ]
  },
  {
   "cell_type": "markdown",
   "metadata": {},
   "source": [
    "## Implicit lists\n",
    "\n",
    "For many tasks we might want to have a group or sequence of rotations or poses. The obvious solution would be to use a Python list"
   ]
  },
  {
   "cell_type": "code",
   "execution_count": null,
   "metadata": {},
   "outputs": [],
   "source": [
    "T = [ SE3.Rx(0), SE3.Rx(0.1), SE3.Rx(0.2), SE3.Rx(0.3), SE3.Rx(0.4)]"
   ]
  },
  {
   "cell_type": "markdown",
   "metadata": {},
   "source": [
    "but we can actually put this list inside the pose object.  There are a few ways to do this, most obviously"
   ]
  },
  {
   "cell_type": "code",
   "execution_count": null,
   "metadata": {},
   "outputs": [],
   "source": [
    "T = SE3( [ SE3.Rx(0), SE3.Rx(0.1), SE3.Rx(0.2), SE3.Rx(0.3), SE3.Rx(0.4)] )"
   ]
  },
  {
   "cell_type": "markdown",
   "metadata": {},
   "source": [
    "which has the same type as an individual pose object"
   ]
  },
  {
   "cell_type": "code",
   "execution_count": null,
   "metadata": {},
   "outputs": [],
   "source": [
    "type(T)"
   ]
  },
  {
   "cell_type": "markdown",
   "metadata": {},
   "source": [
    "but it has length of six"
   ]
  },
  {
   "cell_type": "code",
   "execution_count": null,
   "metadata": {},
   "outputs": [],
   "source": [
    "len(T)"
   ]
  },
  {
   "cell_type": "markdown",
   "metadata": {},
   "source": [
    "and when we display it we can see the individual elements"
   ]
  },
  {
   "cell_type": "code",
   "execution_count": null,
   "metadata": {},
   "outputs": [],
   "source": [
    "T"
   ]
  },
  {
   "cell_type": "markdown",
   "metadata": {},
   "source": [
    "and we can slice it in the usual way"
   ]
  },
  {
   "cell_type": "code",
   "execution_count": null,
   "metadata": {},
   "outputs": [],
   "source": [
    "T[3]"
   ]
  },
  {
   "cell_type": "markdown",
   "metadata": {},
   "source": [
    "or from start to end in steps of two"
   ]
  },
  {
   "cell_type": "code",
   "execution_count": null,
   "metadata": {},
   "outputs": [],
   "source": [
    "T[1:-1:2]"
   ]
  },
  {
   "cell_type": "markdown",
   "metadata": {},
   "source": [
    "We could another pose to the end"
   ]
  },
  {
   "cell_type": "code",
   "execution_count": null,
   "metadata": {},
   "outputs": [],
   "source": [
    "T.append( SE3.Rx(0.5) )\n",
    "len(T)"
   ]
  },
  {
   "cell_type": "markdown",
   "metadata": {},
   "source": [
    "The `SE3` class, like all the classes in the spatialmath package, inherits from the `UserList` class giving it all the methods of a Python list."
   ]
  },
  {
   "cell_type": "markdown",
   "metadata": {},
   "source": [
    "We could write the above example more succinctly"
   ]
  },
  {
   "cell_type": "code",
   "execution_count": null,
   "metadata": {},
   "outputs": [],
   "source": [
    "T = SE3.Rx( np.linspace(0, 0.5, 6) )\n",
    "len(T)"
   ]
  },
  {
   "cell_type": "code",
   "execution_count": null,
   "metadata": {},
   "outputs": [],
   "source": [
    "T[3]"
   ]
  },
  {
   "cell_type": "markdown",
   "metadata": {},
   "source": [
    "Consider another rotation"
   ]
  },
  {
   "cell_type": "code",
   "execution_count": null,
   "metadata": {},
   "outputs": [],
   "source": [
    "T2 = SE3.Ry(40, 'deg')"
   ]
  },
  {
   "cell_type": "markdown",
   "metadata": {},
   "source": [
    "then we can write"
   ]
  },
  {
   "cell_type": "code",
   "execution_count": null,
   "metadata": {},
   "outputs": [],
   "source": [
    "A = T * T2\n",
    "len(A)"
   ]
  },
  {
   "cell_type": "markdown",
   "metadata": {},
   "source": [
    "which has produced a new list where each element of `A` is the `T[i] * T2`.  Similarly"
   ]
  },
  {
   "cell_type": "code",
   "execution_count": null,
   "metadata": {},
   "outputs": [],
   "source": [
    "B = T2 * T\n",
    "len(B)"
   ]
  },
  {
   "cell_type": "markdown",
   "metadata": {},
   "source": [
    "which has produced a new list where each element of `B` is the `T2 * T[i]`.\n",
    "\n",
    "And perhaps not surprisingly "
   ]
  },
  {
   "cell_type": "code",
   "execution_count": null,
   "metadata": {},
   "outputs": [],
   "source": [
    "C = T * T\n",
    "len(C)"
   ]
  },
  {
   "cell_type": "markdown",
   "metadata": {},
   "source": [
    "which has produced a new list where each element of `C` is the `T[i] * T[i]`.  We can apply such a sequence to a coordinate vectors as we did earlier"
   ]
  },
  {
   "cell_type": "code",
   "execution_count": null,
   "metadata": {},
   "outputs": [],
   "source": [
    "P = T * [0, 1, 0]\n",
    "P"
   ]
  },
  {
   "cell_type": "markdown",
   "metadata": {},
   "source": [
    "where each element of `T` has transformed the coordinate vector (0, 1, 0), the results being consecutive columns of the resulting numpy array.\n",
    "\n",
    "Imagine now that we wanted to display our cube for each value in the list, we simply use a `for` loop"
   ]
  },
  {
   "cell_type": "code",
   "execution_count": null,
   "metadata": {},
   "outputs": [],
   "source": [
    "for _T in T:\n",
    "    Q = _T * P\n",
    "    # plot(Q)"
   ]
  },
  {
   "cell_type": "markdown",
   "metadata": {},
   "source": [
    "and we can also these list objects inside list comprehensions"
   ]
  },
  {
   "cell_type": "code",
   "execution_count": null,
   "metadata": {},
   "outputs": [],
   "source": [
    "np.array([ _T * [0,1,0] for _T in T])"
   ]
  },
  {
   "cell_type": "markdown",
   "metadata": {},
   "source": [
    "## Representing rotation another way\n",
    "\n",
    "### Quaternions\n",
    "\n",
    "A quaternion can be considered as a type of complex number or more usefully as an order pair comprising a scalar and a vector.  We can create two quaternions"
   ]
  },
  {
   "cell_type": "code",
   "execution_count": null,
   "metadata": {},
   "outputs": [],
   "source": [
    "q1 = Quaternion([1,2,3,4])\n",
    "q1"
   ]
  },
  {
   "cell_type": "markdown",
   "metadata": {},
   "source": [
    "and"
   ]
  },
  {
   "cell_type": "code",
   "execution_count": null,
   "metadata": {},
   "outputs": [],
   "source": [
    "q2 = Quaternion([5,6,7,8])\n",
    "q2"
   ]
  },
  {
   "cell_type": "markdown",
   "metadata": {},
   "source": [
    "where the scalar is before the angle brackets which enclose the vector part.  Operators allow us to add"
   ]
  },
  {
   "cell_type": "code",
   "execution_count": null,
   "metadata": {},
   "outputs": [],
   "source": [
    "q1 + q2"
   ]
  },
  {
   "cell_type": "markdown",
   "metadata": {},
   "source": [
    "subtract"
   ]
  },
  {
   "cell_type": "code",
   "execution_count": null,
   "metadata": {},
   "outputs": [],
   "source": [
    "q1 - q2"
   ]
  },
  {
   "cell_type": "markdown",
   "metadata": {},
   "source": [
    "and to multiply"
   ]
  },
  {
   "cell_type": "code",
   "execution_count": null,
   "metadata": {},
   "outputs": [],
   "source": [
    "q1 * q2"
   ]
  },
  {
   "cell_type": "markdown",
   "metadata": {},
   "source": [
    "which follows the rules of Hamilton multiplication."
   ]
  },
  {
   "cell_type": "markdown",
   "metadata": {},
   "source": [
    "Properties allow us to extra the scalar part"
   ]
  },
  {
   "cell_type": "code",
   "execution_count": null,
   "metadata": {},
   "outputs": [],
   "source": [
    "q1.s"
   ]
  },
  {
   "cell_type": "markdown",
   "metadata": {},
   "source": [
    "and the vector part"
   ]
  },
  {
   "cell_type": "code",
   "execution_count": null,
   "metadata": {},
   "outputs": [],
   "source": [
    "q1.v"
   ]
  },
  {
   "cell_type": "markdown",
   "metadata": {},
   "source": [
    "and we can represent it as a numpy array"
   ]
  },
  {
   "cell_type": "code",
   "execution_count": null,
   "metadata": {},
   "outputs": [],
   "source": [
    "q1.vec"
   ]
  },
  {
   "cell_type": "markdown",
   "metadata": {},
   "source": [
    "A quaternion has a conjugate"
   ]
  },
  {
   "cell_type": "code",
   "execution_count": null,
   "metadata": {},
   "outputs": [],
   "source": [
    "q1.conj"
   ]
  },
  {
   "cell_type": "markdown",
   "metadata": {},
   "source": [
    "and a norm, which is the magnitude of the equivalent 4-vector "
   ]
  },
  {
   "cell_type": "code",
   "execution_count": null,
   "metadata": {},
   "outputs": [],
   "source": [
    "q1.norm"
   ]
  },
  {
   "cell_type": "markdown",
   "metadata": {},
   "source": [
    "which is also the square root of the scalar part of this product"
   ]
  },
  {
   "cell_type": "code",
   "execution_count": null,
   "metadata": {},
   "outputs": [],
   "source": [
    "q1 * q1.conj"
   ]
  },
  {
   "cell_type": "markdown",
   "metadata": {},
   "source": [
    "A pure quaternion is one with a zero scalar part"
   ]
  },
  {
   "cell_type": "code",
   "execution_count": null,
   "metadata": {},
   "outputs": [],
   "source": [
    "Quaternion.pure([1, 2, 3])"
   ]
  },
  {
   "cell_type": "markdown",
   "metadata": {},
   "source": [
    "### Unit quaternion\n",
    "\n",
    "A quaternion with a unit norm is called a unit quaternion and can be used to represent rotation in 3D space."
   ]
  },
  {
   "cell_type": "code",
   "execution_count": null,
   "metadata": {},
   "outputs": [],
   "source": [
    "q1 = UnitQuaternion.Rx(30, 'deg')\n",
    "q1"
   ]
  },
  {
   "cell_type": "markdown",
   "metadata": {},
   "source": [
    "the convention is that unit quaternions are denoted with double angle brackets.  The norm, as advertised is indeed one"
   ]
  },
  {
   "cell_type": "code",
   "execution_count": null,
   "metadata": {},
   "outputs": [],
   "source": [
    "q1.norm"
   ]
  },
  {
   "cell_type": "markdown",
   "metadata": {},
   "source": [
    "We create another unit quaternion"
   ]
  },
  {
   "cell_type": "code",
   "execution_count": null,
   "metadata": {},
   "outputs": [],
   "source": [
    "q2 = UnitQuaternion.Ry(-40, 'deg')\n",
    "q2"
   ]
  },
  {
   "cell_type": "markdown",
   "metadata": {},
   "source": [
    "The rotations can be composed by quaternion multiplication"
   ]
  },
  {
   "cell_type": "code",
   "execution_count": null,
   "metadata": {},
   "outputs": [],
   "source": [
    "q3 = q1 * q2\n",
    "q3"
   ]
  },
  {
   "cell_type": "markdown",
   "metadata": {},
   "source": [
    "We can convert a quaternion to a rotation matrix"
   ]
  },
  {
   "cell_type": "code",
   "execution_count": null,
   "metadata": {},
   "outputs": [],
   "source": [
    "q3.R"
   ]
  },
  {
   "cell_type": "markdown",
   "metadata": {},
   "source": [
    "which yields exactly the same answer as if we'd done it using SO(3) rotation matrices"
   ]
  },
  {
   "cell_type": "code",
   "execution_count": null,
   "metadata": {},
   "outputs": [],
   "source": [
    "SO3.Rx(30, 'deg') * SO3.Ry(-40, 'deg')"
   ]
  },
  {
   "cell_type": "markdown",
   "metadata": {},
   "source": [
    "The advantages of unit quaternions are that\n",
    "\n",
    "1. they are compact, just 4 numbers instead of 9\n",
    "2. multiplication involves fewer operations and is therefore faster\n",
    "3. numerical errors build up when we multiply rotation matrices together many times, and they lose the structure (the columns are no longer unit length or orthogonal).  Correcting this, the process of _normalization_ is expensive.  For unit quaternions errors will also compound, but normalization is simply a matter of dividing through by the norm"
   ]
  },
  {
   "cell_type": "markdown",
   "metadata": {},
   "source": [
    "Unit quaternions have an inverse"
   ]
  },
  {
   "cell_type": "code",
   "execution_count": null,
   "metadata": {},
   "outputs": [],
   "source": [
    "q2.inv"
   ]
  },
  {
   "cell_type": "code",
   "execution_count": null,
   "metadata": {},
   "outputs": [],
   "source": [
    "q1 * q2.inv"
   ]
  },
  {
   "cell_type": "markdown",
   "metadata": {},
   "source": [
    "or"
   ]
  },
  {
   "cell_type": "code",
   "execution_count": null,
   "metadata": {},
   "outputs": [],
   "source": [
    "q1 / q2"
   ]
  },
  {
   "cell_type": "markdown",
   "metadata": {},
   "source": [
    "We can convert to an SO3 object if we wish"
   ]
  },
  {
   "cell_type": "code",
   "execution_count": null,
   "metadata": {},
   "outputs": [],
   "source": [
    "q1.SO3"
   ]
  },
  {
   "cell_type": "markdown",
   "metadata": {},
   "source": [
    "A unit quaternion is not a minimal representation. Since we know the magnitude is 1, then with any 3 elements we can compute the fourth upto a sign ambiguity. "
   ]
  },
  {
   "cell_type": "code",
   "execution_count": null,
   "metadata": {},
   "outputs": [],
   "source": [
    "q1.vec3"
   ]
  },
  {
   "cell_type": "code",
   "execution_count": null,
   "metadata": {},
   "outputs": [],
   "source": [
    "a = UnitQuaternion.qvmul( q1.vec3, q2.vec3)\n",
    "a"
   ]
  },
  {
   "cell_type": "markdown",
   "metadata": {},
   "source": [
    "from which we can recreate the unit quaternion"
   ]
  },
  {
   "cell_type": "code",
   "execution_count": null,
   "metadata": {},
   "outputs": [],
   "source": [
    "UnitQuaternion.Vec3(a)"
   ]
  },
  {
   "cell_type": "markdown",
   "metadata": {},
   "source": [
    "This is often used in SLAM and bundle adjustment algorithms since it is compact and better behaved than using roll-pitch-yaw or Euler angles."
   ]
  },
  {
   "cell_type": "markdown",
   "metadata": {},
   "source": [
    "# Working in 2D"
   ]
  },
  {
   "cell_type": "markdown",
   "metadata": {},
   "source": [
    "Things are actually much simpler in 2D.  There's only one possible rotation which is around an axis perpendicular to the plane (where the z-axis would have been if it were in 3D).\n",
    "\n",
    "Rotations in 2D can be represented by rotation matrices – 2x2 orthonormal matrices – which belong to the group SO(2). Just as for the 3D case these matrices have special properties, each column (and row) is a unit vector, and they are all orthogonal, the inverse of this matrix is equal to its transpose, and its determinant is +1.\n",
    "\n",
    "We can create such a matrix, a rotation of $\\pi/4$ radians by"
   ]
  },
  {
   "cell_type": "code",
   "execution_count": null,
   "metadata": {},
   "outputs": [],
   "source": [
    "R = SO2(math.pi/4)\n",
    "R"
   ]
  },
  {
   "cell_type": "markdown",
   "metadata": {},
   "source": [
    "or in degrees"
   ]
  },
  {
   "cell_type": "code",
   "execution_count": null,
   "metadata": {},
   "outputs": [],
   "source": [
    "SO2(45, unit='deg')"
   ]
  },
  {
   "cell_type": "markdown",
   "metadata": {},
   "source": [
    "and we can plot this on the 2D plane"
   ]
  },
  {
   "cell_type": "code",
   "execution_count": null,
   "metadata": {},
   "outputs": [],
   "source": [
    "plt.figure() # create a new figure\n",
    "R.plot()"
   ]
  },
  {
   "cell_type": "markdown",
   "metadata": {},
   "source": [
    "Once again, it's useful to describe the position of things and we do this this with a homogeneous transformation matrix – a 3x3 matrix – which belong to the group SE(2)."
   ]
  },
  {
   "cell_type": "code",
   "execution_count": null,
   "metadata": {},
   "outputs": [],
   "source": [
    "T = SE2(1, 2)\n",
    "T"
   ]
  },
  {
   "cell_type": "markdown",
   "metadata": {},
   "source": [
    "which has a similar structure to the 3D case.  The rotation matrix is in the top-left corner and the translation components are in the right-most column.\n",
    "\n",
    "We can also call the function with the element in a list"
   ]
  },
  {
   "cell_type": "code",
   "execution_count": null,
   "metadata": {},
   "outputs": [],
   "source": [
    "T = SE2([1, 2])"
   ]
  },
  {
   "cell_type": "code",
   "execution_count": null,
   "metadata": {},
   "outputs": [],
   "source": [
    "plt.figure() # create a new figure\n",
    "T.plot()"
   ]
  },
  {
   "cell_type": "code",
   "execution_count": null,
   "metadata": {},
   "outputs": [],
   "source": [
    "T = SE2(1, 2) @ SE2(45, 'deg')\n",
    "T"
   ]
  },
  {
   "cell_type": "code",
   "execution_count": null,
   "metadata": {},
   "outputs": [],
   "source": [
    "plt.figure() # create a new figure\n",
    "T.plot()"
   ]
  },
  {
   "cell_type": "code",
   "execution_count": null,
   "metadata": {},
   "outputs": [],
   "source": [
    "T = SE3(1,2,3)"
   ]
  },
  {
   "cell_type": "code",
   "execution_count": null,
   "metadata": {},
   "outputs": [],
   "source": [
    "T.A"
   ]
  },
  {
   "cell_type": "code",
   "execution_count": null,
   "metadata": {},
   "outputs": [],
   "source": []
  },
  {
   "cell_type": "code",
   "execution_count": null,
   "metadata": {},
   "outputs": [],
   "source": [
    "T2 = SE3.Ty(2)\n",
    "plt.figure() # create a new figure\n",
    "SE3().plot(frame='0', dims=[-3,3], color='black')\n",
    "SE3().plot(frame='0', dims=[-3,3], color='black')\n",
    "T1.plot(frame='1', dims=[-3,3], color='red')\n",
    "T2.plot(frame='2', dims=[-3,3])"
   ]
  },
  {
   "cell_type": "markdown",
   "metadata": {},
   "source": [
    "Let's look at what's inside the SE3 object"
   ]
  },
  {
   "cell_type": "code",
   "execution_count": null,
   "metadata": {},
   "outputs": [],
   "source": [
    "T2"
   ]
  },
  {
   "cell_type": "markdown",
   "metadata": {},
   "source": [
    "and perhaps surprisingly we see that it's a 4x4 matrix.  We could create a motion of 4 units in the Z-direction"
   ]
  },
  {
   "cell_type": "code",
   "execution_count": null,
   "metadata": {},
   "outputs": [],
   "source": [
    "SE3.Tz(4)"
   ]
  },
  {
   "cell_type": "markdown",
   "metadata": {},
   "source": [
    "and we observe some clear pattern and structure which is accentuated here by the colors.  We see that the numbers concerned with the distance moved are in blue on the right hand side.  \n",
    "\n",
    "This certainly seems like overkill for this problem – there are 16 numbers in each of these matrices and we know that only 3 are required to describe a position in 3D space.  It is also quite unintuitive since we multiplied matrices (complex) when we could have just _added_ these displacements using vectors.  Happily this has real advantages when we consider rotations in the next section.\n",
    "\n",
    "These matrices have a very particular structure.  We see a 3x3 identity matrix in red, and the bottom row in grey always has the same values. A mathematician would say the matrices are a subset of all possible 4x4 matrices which belong to the Special Euclidean _group_ in 3 dimensions which is generally shortened to $\\mbox{SE}(3)$ – hence the name of our Python class.  These matrices represent motions – often referred to as _rigid body motions_ in 3D space.  These matrices are also known as _homogeneous transformation_ matrices – a 4x4 matrix. One characteristic of these matrices is that multiplying them together causes the motions to be added."
   ]
  },
  {
   "cell_type": "markdown",
   "metadata": {},
   "source": [
    "We finish off this section on position by noting that, following the earlier pattern, you can create a motion in the Z-direction by"
   ]
  },
  {
   "cell_type": "code",
   "execution_count": null,
   "metadata": {},
   "outputs": [],
   "source": [
    "SE3.Ty(3)"
   ]
  },
  {
   "cell_type": "markdown",
   "metadata": {},
   "source": [
    "or we can specify motion in the X-, Y- and Z-directions in one hit. For example"
   ]
  },
  {
   "cell_type": "code",
   "execution_count": null,
   "metadata": {},
   "outputs": [],
   "source": [
    "SE3(7, 8, 9)"
   ]
  },
  {
   "cell_type": "markdown",
   "metadata": {},
   "source": [
    "#### Predicates\n",
    "\n",
    "We can check various properties"
   ]
  },
  {
   "cell_type": "code",
   "execution_count": null,
   "metadata": {},
   "outputs": [],
   "source": [
    "[R.isSE, R.isSO, R.isrot(), R.ishom(), R.isrot2(), R.ishom2()]"
   ]
  },
  {
   "cell_type": "markdown",
   "metadata": {},
   "source": [
    "#### Predicates\n",
    "\n",
    "We can check various properties"
   ]
  },
  {
   "cell_type": "code",
   "execution_count": null,
   "metadata": {},
   "outputs": [],
   "source": [
    "[T.isSE, T.isSO, T.isrot(), T.ishom(), T.isrot2(), T.ishom2()]"
   ]
  },
  {
   "cell_type": "code",
   "execution_count": null,
   "metadata": {},
   "outputs": [],
   "source": [
    "T3.N"
   ]
  },
  {
   "cell_type": "markdown",
   "metadata": {},
   "source": [
    "in this case indicating it is for 3D space.  Finally, the shape of the underlying numpy array is"
   ]
  },
  {
   "cell_type": "code",
   "execution_count": null,
   "metadata": {},
   "outputs": [],
   "source": [
    "T3.shape| SO3.AngVec(theta, v)  | from rotation and axis |"
   ]
  },
  {
   "cell_type": "markdown",
   "metadata": {},
   "source": [
    "the shape of the underlying matrix"
   ]
  },
  {
   "cell_type": "code",
   "execution_count": null,
   "metadata": {},
   "outputs": [],
   "source": [
    "R.shape"
   ]
  },
  {
   "cell_type": "markdown",
   "metadata": {},
   "source": [
    "and the order"
   ]
  },
  {
   "cell_type": "code",
   "execution_count": null,
   "metadata": {},
   "outputs": [],
   "source": [
    "R.N"
   ]
  },
  {
   "cell_type": "markdown",
   "metadata": {},
   "source": [
    "\n",
    "which is displayed in a color coded fashion: rotation matrix in red, translation vector in blue, and the constant bottom row in grey.\n"
   ]
  },
  {
   "cell_type": "code",
   "execution_count": null,
   "metadata": {},
   "outputs": [],
   "source": [
    "type(R)"
   ]
  },
  {
   "cell_type": "markdown",
   "metadata": {},
   "source": [
    "which contains a numpy array which is the SO(3) matrix. We can display its value"
   ]
  },
  {
   "cell_type": "code",
   "execution_count": null,
   "metadata": {
    "scrolled": false
   },
   "outputs": [],
   "source": [
    "R"
   ]
  },
  {
   "cell_type": "markdown",
   "metadata": {
    "scrolled": true
   },
   "source": [
    "The `SE3` object is defined by the spatialmath package"
   ]
  },
  {
   "cell_type": "code",
   "execution_count": null,
   "metadata": {},
   "outputs": [],
   "source": [
    "type(T3)"
   ]
  },
  {
   "cell_type": "markdown",
   "metadata": {
    "scrolled": true
   },
   "source": [
    "and has a number of properties and methods"
   ]
  },
  {
   "cell_type": "code",
   "execution_count": null,
   "metadata": {},
   "outputs": [],
   "source": [
    "T3.t"
   ]
  },
  {
   "cell_type": "markdown",
   "metadata": {},
   "source": [
    "### Properties\n",
    "\n",
    "The object has a number of properties. The columns of a rotation matrix are often written as $[n, o, a]$ and we can extract those vectors"
   ]
  },
  {
   "cell_type": "code",
   "execution_count": null,
   "metadata": {},
   "outputs": [],
   "source": [
    "R.n"
   ]
  },
  {
   "cell_type": "markdown",
   "metadata": {},
   "source": [
    "which is the translational part (the blue numbers) expressed as a 1D numpy array.\n",
    "\n",
    "These matrices belong to the mathematical group $\\mbox{SE}(N)$ where N is"
   ]
  },
  {
   "cell_type": "markdown",
   "metadata": {},
   "source": [
    "indicating it operates in 3D space."
   ]
  },
  {
   "cell_type": "markdown",
   "metadata": {},
   "source": [
    "### Properties\n",
    "\n",
    "The object has a number of properties. The columns of a rotation matrix are often written as $[n, o, a]$ and we can extract those vectors"
   ]
  },
  {
   "cell_type": "code",
   "execution_count": null,
   "metadata": {},
   "outputs": [],
   "source": [
    "R.n"
   ]
  },
  {
   "cell_type": "markdown",
   "metadata": {},
   "source": [
    "We finish off this section on position by noting that, following the earlier pattern, you can create a motion in the Z-direction by"
   ]
  },
  {
   "cell_type": "markdown",
   "metadata": {},
   "source": [
    "### Operators\n",
    "\n",
    "The classes discussed mimic the behavior the mathematical groups $\\mbox{SO}(3)$ and $\\mbox{SE}(3)$ which contain matrices of particular structure, they are subsets respectively of the sets of all possible real 3x3 and 4x4 matrices.\n",
    "\n",
    "The only operations on two elements of the group that also belongs to the group is composition (represented by the `*` operator) and inversion."
   ]
  },
  {
   "cell_type": "code",
   "execution_count": null,
   "metadata": {},
   "outputs": [],
   "source": [
    "T = SE3(1, 2, 3) * SE3.Rx(30, 'deg')\n",
    "[type(T), type(T.inv), type(T*T)]"
   ]
  },
  {
   "cell_type": "markdown",
   "metadata": {},
   "source": [
    "We can simply the writing of"
   ]
  },
  {
   "cell_type": "code",
   "execution_count": null,
   "metadata": {},
   "outputs": [],
   "source": [
    "T2 = SE3(4, 5, 6) * SE3.Ry(-40, 'deg')\n",
    "\n",
    "T * T2.inv"
   ]
  },
  {
   "cell_type": "markdown",
   "metadata": {},
   "source": [
    "by writing"
   ]
  },
  {
   "cell_type": "code",
   "execution_count": null,
   "metadata": {},
   "outputs": [],
   "source": [
    "T / T2"
   ]
  },
  {
   "cell_type": "markdown",
   "metadata": {},
   "source": [
    "The inplace versions of operators are also supported, for example"
   ]
  },
  {
   "cell_type": "code",
   "execution_count": null,
   "metadata": {},
   "outputs": [],
   "source": [
    "X = T\n",
    "X /= T2\n",
    "X"
   ]
  },
  {
   "cell_type": "code",
   "execution_count": null,
   "metadata": {},
   "outputs": [],
   "source": []
  },
  {
   "cell_type": "code",
   "execution_count": null,
   "metadata": {},
   "outputs": [],
   "source": []
  },
  {
   "cell_type": "markdown",
   "metadata": {},
   "source": [
    "#### Non-group operations\n",
    "\n",
    "Operations such as addition and subtraction are valid for matrices but not for elements of the group, therefore"
   ]
  },
  {
   "cell_type": "code",
   "execution_count": null,
   "metadata": {},
   "outputs": [],
   "source": [
    "SE3() + SE3()"
   ]
  },
  {
   "cell_type": "markdown",
   "metadata": {},
   "source": [
    "yields an array, not an `SE3` object."
   ]
  },
  {
   "cell_type": "code",
   "execution_count": null,
   "metadata": {},
   "outputs": [],
   "source": [
    "2 * SE3()"
   ]
  },
  {
   "cell_type": "code",
   "execution_count": null,
   "metadata": {},
   "outputs": [],
   "source": [
    "SE3() - 1"
   ]
  },
  {
   "cell_type": "code",
   "execution_count": null,
   "metadata": {},
   "outputs": [],
   "source": []
  },
  {
   "cell_type": "markdown",
   "metadata": {},
   "source": [
    "The shape of the underlying SE(3) matrix is"
   ]
  },
  {
   "cell_type": "code",
   "execution_count": null,
   "metadata": {},
   "outputs": [],
   "source": [
    "T.shape"
   ]
  },
  {
   "cell_type": "markdown",
   "metadata": {},
   "source": [
    "and the order"
   ]
  },
  {
   "cell_type": "code",
   "execution_count": null,
   "metadata": {},
   "outputs": [],
   "source": [
    "T.N"
   ]
  }
 ],
 "metadata": {
  "kernelspec": {
   "display_name": "Python 3",
   "language": "python",
   "name": "python3"
  },
  "language_info": {
   "codemirror_mode": {
    "name": "ipython",
    "version": 3
   },
   "file_extension": ".py",
   "mimetype": "text/x-python",
   "name": "python",
   "nbconvert_exporter": "python",
   "pygments_lexer": "ipython3",
   "version": "3.7.6"
  },
  "latex_metadata": {
   "author": "Peter Corke",
   "title": "Gentle introduction"
  },
  "toc": {
   "base_numbering": 1,
   "nav_menu": {},
   "number_sections": true,
   "sideBar": true,
   "skip_h1_title": false,
   "title_cell": "Table of Contents",
   "title_sidebar": "Contents",
   "toc_cell": false,
   "toc_position": {},
   "toc_section_display": true,
   "toc_window_display": true
  },
  "widgets": {
   "application/vnd.jupyter.widget-state+json": {
    "state": {
     "0bbd031b45234e31be75827ec139140c": {
      "model_module": "jupyter-matplotlib",
      "model_module_version": "^0.7.2",
      "model_name": "ToolbarModel",
      "state": {
       "layout": "IPY_MODEL_4faf2ba648cf4fa9a27adbb39d969b7d",
       "toolitems": [
        [
         "Home",
         "Reset original view",
         "home",
         "home"
        ],
        [
         "Back",
         "Back to previous view",
         "arrow-left",
         "back"
        ],
        [
         "Forward",
         "Forward to next view",
         "arrow-right",
         "forward"
        ],
        [
         "Pan",
         "Pan axes with left mouse, zoom with right",
         "arrows",
         "pan"
        ],
        [
         "Zoom",
         "Zoom to rectangle",
         "square-o",
         "zoom"
        ],
        [
         "Download",
         "Download plot",
         "floppy-o",
         "save_figure"
        ]
       ]
      }
     },
     "22312641445f4f28a038779c0d4bb7b1": {
      "model_module": "@jupyter-widgets/base",
      "model_module_version": "1.2.0",
      "model_name": "LayoutModel",
      "state": {}
     },
     "232fce41e26043a48efe4f8cfc24c58f": {
      "model_module": "@jupyter-widgets/base",
      "model_module_version": "1.2.0",
      "model_name": "LayoutModel",
      "state": {}
     },
     "2c539df7e1f5452f90de11681516ed54": {
      "model_module": "jupyter-matplotlib",
      "model_module_version": "^0.7.2",
      "model_name": "ToolbarModel",
      "state": {
       "layout": "IPY_MODEL_aa8d4de1b45643fdaaac7dd2d46de64d",
       "toolitems": [
        [
         "Home",
         "Reset original view",
         "home",
         "home"
        ],
        [
         "Back",
         "Back to previous view",
         "arrow-left",
         "back"
        ],
        [
         "Forward",
         "Forward to next view",
         "arrow-right",
         "forward"
        ],
        [
         "Pan",
         "Pan axes with left mouse, zoom with right",
         "arrows",
         "pan"
        ],
        [
         "Zoom",
         "Zoom to rectangle",
         "square-o",
         "zoom"
        ],
        [
         "Download",
         "Download plot",
         "floppy-o",
         "save_figure"
        ]
       ]
      }
     },
     "3b79872b53f8472ab86ab0eb948a2933": {
      "model_module": "jupyter-matplotlib",
      "model_module_version": "^0.7.2",
      "model_name": "MPLCanvasModel",
      "state": {
       "_figure_label": "Figure 6",
       "_height": 480,
       "_width": 640,
       "layout": "IPY_MODEL_88243dcdfd26454aae0ebe838394cd4a",
       "toolbar": "IPY_MODEL_0bbd031b45234e31be75827ec139140c",
       "toolbar_position": "left"
      }
     },
     "3c4d05554307423caa9a3093bd88f3a1": {
      "model_module": "@jupyter-widgets/base",
      "model_module_version": "1.2.0",
      "model_name": "LayoutModel",
      "state": {}
     },
     "3c7addf408264a498a52f71e688a0ab4": {
      "model_module": "jupyter-matplotlib",
      "model_module_version": "^0.7.2",
      "model_name": "MPLCanvasModel",
      "state": {
       "_figure_label": "Figure 2",
       "_height": 480,
       "_width": 640,
       "layout": "IPY_MODEL_c8e78b107cec4b0e939dcd29630b693a",
       "toolbar": "IPY_MODEL_cdab414c01944484a509e088decc6488",
       "toolbar_position": "left"
      }
     },
     "417c1122fc864b20809c07fdd6fc824b": {
      "model_module": "jupyter-matplotlib",
      "model_module_version": "^0.7.2",
      "model_name": "ToolbarModel",
      "state": {
       "layout": "IPY_MODEL_7b12491d6afc49249c37b0e994ad6d06",
       "toolitems": [
        [
         "Home",
         "Reset original view",
         "home",
         "home"
        ],
        [
         "Back",
         "Back to previous view",
         "arrow-left",
         "back"
        ],
        [
         "Forward",
         "Forward to next view",
         "arrow-right",
         "forward"
        ],
        [
         "Pan",
         "Pan axes with left mouse, zoom with right",
         "arrows",
         "pan"
        ],
        [
         "Zoom",
         "Zoom to rectangle",
         "square-o",
         "zoom"
        ],
        [
         "Download",
         "Download plot",
         "floppy-o",
         "save_figure"
        ]
       ]
      }
     },
     "433c05e32b244ed08255275a91cf1f5d": {
      "model_module": "jupyter-matplotlib",
      "model_module_version": "^0.7.2",
      "model_name": "MPLCanvasModel",
      "state": {
       "_figure_label": "Figure 3",
       "_height": 480,
       "_width": 640,
       "layout": "IPY_MODEL_d54bba0b6c9c4925be50c24a015e38cf",
       "toolbar": "IPY_MODEL_2c539df7e1f5452f90de11681516ed54",
       "toolbar_position": "left"
      }
     },
     "4faf2ba648cf4fa9a27adbb39d969b7d": {
      "model_module": "@jupyter-widgets/base",
      "model_module_version": "1.2.0",
      "model_name": "LayoutModel",
      "state": {}
     },
     "654bd39f72504acf8801c5f73beac788": {
      "model_module": "jupyter-matplotlib",
      "model_module_version": "^0.7.2",
      "model_name": "MPLCanvasModel",
      "state": {
       "_figure_label": "Figure 7",
       "_height": 480,
       "_width": 640,
       "layout": "IPY_MODEL_e3888c54f3c74d4c8f4ba8f9007115f1",
       "toolbar": "IPY_MODEL_7cc5b0fcc2594f97a4e35eeee17ddedf",
       "toolbar_position": "left"
      }
     },
     "6a22bebb7a494babb553b92253c110a1": {
      "model_module": "@jupyter-widgets/base",
      "model_module_version": "1.2.0",
      "model_name": "LayoutModel",
      "state": {}
     },
     "6ce7186df82d494bb18d4746ff30b3a5": {
      "model_module": "@jupyter-widgets/base",
      "model_module_version": "1.2.0",
      "model_name": "LayoutModel",
      "state": {}
     },
     "71d964ee5926446189cb0b74bace04d1": {
      "model_module": "jupyter-matplotlib",
      "model_module_version": "^0.7.2",
      "model_name": "MPLCanvasModel",
      "state": {
       "_figure_label": "Figure 5",
       "_height": 480,
       "_width": 640,
       "layout": "IPY_MODEL_3c4d05554307423caa9a3093bd88f3a1",
       "toolbar": "IPY_MODEL_417c1122fc864b20809c07fdd6fc824b",
       "toolbar_position": "left"
      }
     },
     "7b12491d6afc49249c37b0e994ad6d06": {
      "model_module": "@jupyter-widgets/base",
      "model_module_version": "1.2.0",
      "model_name": "LayoutModel",
      "state": {}
     },
     "7cc5b0fcc2594f97a4e35eeee17ddedf": {
      "model_module": "jupyter-matplotlib",
      "model_module_version": "^0.7.2",
      "model_name": "ToolbarModel",
      "state": {
       "layout": "IPY_MODEL_6a22bebb7a494babb553b92253c110a1",
       "toolitems": [
        [
         "Home",
         "Reset original view",
         "home",
         "home"
        ],
        [
         "Back",
         "Back to previous view",
         "arrow-left",
         "back"
        ],
        [
         "Forward",
         "Forward to next view",
         "arrow-right",
         "forward"
        ],
        [
         "Pan",
         "Pan axes with left mouse, zoom with right",
         "arrows",
         "pan"
        ],
        [
         "Zoom",
         "Zoom to rectangle",
         "square-o",
         "zoom"
        ],
        [
         "Download",
         "Download plot",
         "floppy-o",
         "save_figure"
        ]
       ]
      }
     },
     "88243dcdfd26454aae0ebe838394cd4a": {
      "model_module": "@jupyter-widgets/base",
      "model_module_version": "1.2.0",
      "model_name": "LayoutModel",
      "state": {}
     },
     "aa8d4de1b45643fdaaac7dd2d46de64d": {
      "model_module": "@jupyter-widgets/base",
      "model_module_version": "1.2.0",
      "model_name": "LayoutModel",
      "state": {}
     },
     "c8e78b107cec4b0e939dcd29630b693a": {
      "model_module": "@jupyter-widgets/base",
      "model_module_version": "1.2.0",
      "model_name": "LayoutModel",
      "state": {}
     },
     "cdab414c01944484a509e088decc6488": {
      "model_module": "jupyter-matplotlib",
      "model_module_version": "^0.7.2",
      "model_name": "ToolbarModel",
      "state": {
       "layout": "IPY_MODEL_6ce7186df82d494bb18d4746ff30b3a5",
       "toolitems": [
        [
         "Home",
         "Reset original view",
         "home",
         "home"
        ],
        [
         "Back",
         "Back to previous view",
         "arrow-left",
         "back"
        ],
        [
         "Forward",
         "Forward to next view",
         "arrow-right",
         "forward"
        ],
        [
         "Pan",
         "Pan axes with left mouse, zoom with right",
         "arrows",
         "pan"
        ],
        [
         "Zoom",
         "Zoom to rectangle",
         "square-o",
         "zoom"
        ],
        [
         "Download",
         "Download plot",
         "floppy-o",
         "save_figure"
        ]
       ]
      }
     },
     "d54bba0b6c9c4925be50c24a015e38cf": {
      "model_module": "@jupyter-widgets/base",
      "model_module_version": "1.2.0",
      "model_name": "LayoutModel",
      "state": {}
     },
     "de64716e4b4e4437ae1ee724ce3a0aa1": {
      "model_module": "jupyter-matplotlib",
      "model_module_version": "^0.7.2",
      "model_name": "ToolbarModel",
      "state": {
       "layout": "IPY_MODEL_232fce41e26043a48efe4f8cfc24c58f",
       "toolitems": [
        [
         "Home",
         "Reset original view",
         "home",
         "home"
        ],
        [
         "Back",
         "Back to previous view",
         "arrow-left",
         "back"
        ],
        [
         "Forward",
         "Forward to next view",
         "arrow-right",
         "forward"
        ],
        [
         "Pan",
         "Pan axes with left mouse, zoom with right",
         "arrows",
         "pan"
        ],
        [
         "Zoom",
         "Zoom to rectangle",
         "square-o",
         "zoom"
        ],
        [
         "Download",
         "Download plot",
         "floppy-o",
         "save_figure"
        ]
       ]
      }
     },
     "e145dbd2f45640d0af0337be43dc4e8e": {
      "model_module": "jupyter-matplotlib",
      "model_module_version": "^0.7.2",
      "model_name": "MPLCanvasModel",
      "state": {
       "_figure_label": "Figure 1",
       "_height": 480,
       "_width": 640,
       "layout": "IPY_MODEL_effac7a3a60c4639b63b3fb4336b0531",
       "toolbar": "IPY_MODEL_de64716e4b4e4437ae1ee724ce3a0aa1",
       "toolbar_position": "left"
      }
     },
     "e1970c26de1f4139b1fed403f47ff4db": {
      "model_module": "jupyter-matplotlib",
      "model_module_version": "^0.7.2",
      "model_name": "ToolbarModel",
      "state": {
       "layout": "IPY_MODEL_22312641445f4f28a038779c0d4bb7b1",
       "toolitems": [
        [
         "Home",
         "Reset original view",
         "home",
         "home"
        ],
        [
         "Back",
         "Back to previous view",
         "arrow-left",
         "back"
        ],
        [
         "Forward",
         "Forward to next view",
         "arrow-right",
         "forward"
        ],
        [
         "Pan",
         "Pan axes with left mouse, zoom with right",
         "arrows",
         "pan"
        ],
        [
         "Zoom",
         "Zoom to rectangle",
         "square-o",
         "zoom"
        ],
        [
         "Download",
         "Download plot",
         "floppy-o",
         "save_figure"
        ]
       ]
      }
     },
     "e3888c54f3c74d4c8f4ba8f9007115f1": {
      "model_module": "@jupyter-widgets/base",
      "model_module_version": "1.2.0",
      "model_name": "LayoutModel",
      "state": {}
     },
     "e6cc62db58e64d4eb2872430c2c7f878": {
      "model_module": "@jupyter-widgets/base",
      "model_module_version": "1.2.0",
      "model_name": "LayoutModel",
      "state": {}
     },
     "e82d8e52c615446581c036192eb26796": {
      "model_module": "jupyter-matplotlib",
      "model_module_version": "^0.7.2",
      "model_name": "MPLCanvasModel",
      "state": {
       "_figure_label": "Figure 4",
       "_height": 480,
       "_width": 640,
       "layout": "IPY_MODEL_e6cc62db58e64d4eb2872430c2c7f878",
       "toolbar": "IPY_MODEL_e1970c26de1f4139b1fed403f47ff4db",
       "toolbar_position": "left"
      }
     },
     "effac7a3a60c4639b63b3fb4336b0531": {
      "model_module": "@jupyter-widgets/base",
      "model_module_version": "1.2.0",
      "model_name": "LayoutModel",
      "state": {}
     }
    },
    "version_major": 2,
    "version_minor": 0
   }
  }
 },
 "nbformat": 4,
 "nbformat_minor": 4
}
