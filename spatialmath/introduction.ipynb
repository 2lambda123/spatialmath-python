{
 "cells": [
  {
   "cell_type": "code",
   "execution_count": 1,
   "metadata": {},
   "outputs": [],
   "source": [
    "import numpy as np\n",
    "from math import pi\n",
    "from spatialmath import *\n",
    "\n",
    "import ipywidgets as widgets\n",
    "import matplotlib.pyplot as plt\n",
    "%matplotlib notebook "
   ]
  },
  {
   "cell_type": "markdown",
   "metadata": {},
   "source": [
    "# Working in 3D"
   ]
  },
  {
   "cell_type": "markdown",
   "metadata": {},
   "source": [
    "## Rotation"
   ]
  },
  {
   "cell_type": "markdown",
   "metadata": {},
   "source": [
    "Rotations in 3D can be represented by rotation matrices – 3x3 orthonormal matrices – which belong to the group $\\mbox{SO}(3)$. These are a subset of all possible 3x3 real matrices.\n",
    "\n",
    "We can create such a matrix, a rotation of $\\pi/4$ radians around the x-axis by"
   ]
  },
  {
   "cell_type": "code",
   "execution_count": 2,
   "metadata": {},
   "outputs": [],
   "source": [
    "R1 = SO3.Rx(pi/4)"
   ]
  },
  {
   "cell_type": "markdown",
   "metadata": {},
   "source": [
    "which is an object of type"
   ]
  },
  {
   "cell_type": "code",
   "execution_count": 4,
   "metadata": {},
   "outputs": [
    {
     "data": {
      "text/plain": [
       "spatialmath.pose3d.SO3"
      ]
     },
     "execution_count": 4,
     "metadata": {},
     "output_type": "execute_result"
    }
   ],
   "source": [
    "type(R1)"
   ]
  },
  {
   "cell_type": "markdown",
   "metadata": {},
   "source": [
    "which contains an $\\mbox{SO}(3)$ matrix. We can display that matrix"
   ]
  },
  {
   "cell_type": "code",
   "execution_count": 5,
   "metadata": {},
   "outputs": [
    {
     "data": {
      "text/plain": [
       "  \u001b[38;5;1m\u001b[48;5;255m 1        \u001b[0m\u001b[38;5;1m\u001b[48;5;255m 0        \u001b[0m\u001b[38;5;1m\u001b[48;5;255m 0        \u001b[0m\u001b[48;5;255m  \u001b[0m\n",
       "  \u001b[38;5;1m\u001b[48;5;255m 0        \u001b[0m\u001b[38;5;1m\u001b[48;5;255m 0.707107 \u001b[0m\u001b[38;5;1m\u001b[48;5;255m-0.707107 \u001b[0m\u001b[48;5;255m  \u001b[0m\n",
       "  \u001b[38;5;1m\u001b[48;5;255m 0        \u001b[0m\u001b[38;5;1m\u001b[48;5;255m 0.707107 \u001b[0m\u001b[38;5;1m\u001b[48;5;255m 0.707107 \u001b[0m\u001b[48;5;255m  \u001b[0m"
      ]
     },
     "execution_count": 5,
     "metadata": {},
     "output_type": "execute_result"
    }
   ],
   "source": [
    "R1"
   ]
  },
  {
   "cell_type": "markdown",
   "metadata": {},
   "source": [
    "which is colored red if the console supports color.\n",
    "\n",
    "The matrix, a numpy array, is encapsulated and not directly settable by the user. This way we can ensure that the matrix is proper member of the $\\mbox{SO}(3)$ group.\n",
    "\n",
    "We can _compose_ these rotations using the Python `*` operator"
   ]
  },
  {
   "cell_type": "code",
   "execution_count": 6,
   "metadata": {},
   "outputs": [
    {
     "data": {
      "text/plain": [
       "  \u001b[38;5;1m\u001b[48;5;255m 1        \u001b[0m\u001b[38;5;1m\u001b[48;5;255m 0        \u001b[0m\u001b[38;5;1m\u001b[48;5;255m 0        \u001b[0m\u001b[48;5;255m  \u001b[0m\n",
       "  \u001b[38;5;1m\u001b[48;5;255m 0        \u001b[0m\u001b[38;5;1m\u001b[48;5;255m 0        \u001b[0m\u001b[38;5;1m\u001b[48;5;255m-1        \u001b[0m\u001b[48;5;255m  \u001b[0m\n",
       "  \u001b[38;5;1m\u001b[48;5;255m 0        \u001b[0m\u001b[38;5;1m\u001b[48;5;255m 1        \u001b[0m\u001b[38;5;1m\u001b[48;5;255m 0        \u001b[0m\u001b[48;5;255m  \u001b[0m"
      ]
     },
     "execution_count": 6,
     "metadata": {},
     "output_type": "execute_result"
    }
   ],
   "source": [
    "R1 * R1"
   ]
  },
  {
   "cell_type": "markdown",
   "metadata": {},
   "source": [
    "which is a rotation by $\\pi/4$ _then_ another rotation by $\\pi/4$ which is a total rotation of $\\pi/2$ about the X-axis.  We can doublecheck that"
   ]
  },
  {
   "cell_type": "code",
   "execution_count": 7,
   "metadata": {},
   "outputs": [
    {
     "data": {
      "text/plain": [
       "  \u001b[38;5;1m\u001b[48;5;255m 1        \u001b[0m\u001b[38;5;1m\u001b[48;5;255m 0        \u001b[0m\u001b[38;5;1m\u001b[48;5;255m 0        \u001b[0m\u001b[48;5;255m  \u001b[0m\n",
       "  \u001b[38;5;1m\u001b[48;5;255m 0        \u001b[0m\u001b[38;5;1m\u001b[48;5;255m 0        \u001b[0m\u001b[38;5;1m\u001b[48;5;255m-1        \u001b[0m\u001b[48;5;255m  \u001b[0m\n",
       "  \u001b[38;5;1m\u001b[48;5;255m 0        \u001b[0m\u001b[38;5;1m\u001b[48;5;255m 1        \u001b[0m\u001b[38;5;1m\u001b[48;5;255m 0        \u001b[0m\u001b[48;5;255m  \u001b[0m"
      ]
     },
     "execution_count": 7,
     "metadata": {},
     "output_type": "execute_result"
    }
   ],
   "source": [
    "SO3.Rx(pi/2)"
   ]
  },
  {
   "cell_type": "markdown",
   "metadata": {},
   "source": [
    "We could also have used the exponentiation operator"
   ]
  },
  {
   "cell_type": "code",
   "execution_count": 8,
   "metadata": {},
   "outputs": [
    {
     "data": {
      "text/plain": [
       "  \u001b[38;5;1m\u001b[48;5;255m 1        \u001b[0m\u001b[38;5;1m\u001b[48;5;255m 0        \u001b[0m\u001b[38;5;1m\u001b[48;5;255m 0        \u001b[0m\u001b[48;5;255m  \u001b[0m\n",
       "  \u001b[38;5;1m\u001b[48;5;255m 0        \u001b[0m\u001b[38;5;1m\u001b[48;5;255m 0        \u001b[0m\u001b[38;5;1m\u001b[48;5;255m-1        \u001b[0m\u001b[48;5;255m  \u001b[0m\n",
       "  \u001b[38;5;1m\u001b[48;5;255m 0        \u001b[0m\u001b[38;5;1m\u001b[48;5;255m 1        \u001b[0m\u001b[38;5;1m\u001b[48;5;255m 0        \u001b[0m\u001b[48;5;255m  \u001b[0m"
      ]
     },
     "execution_count": 8,
     "metadata": {},
     "output_type": "execute_result"
    }
   ],
   "source": [
    "R1**2"
   ]
  },
  {
   "cell_type": "markdown",
   "metadata": {},
   "source": [
    "We can also specify the angle in degrees"
   ]
  },
  {
   "cell_type": "code",
   "execution_count": 9,
   "metadata": {},
   "outputs": [
    {
     "data": {
      "text/plain": [
       "  \u001b[38;5;1m\u001b[48;5;255m 1        \u001b[0m\u001b[38;5;1m\u001b[48;5;255m 0        \u001b[0m\u001b[38;5;1m\u001b[48;5;255m 0        \u001b[0m\u001b[48;5;255m  \u001b[0m\n",
       "  \u001b[38;5;1m\u001b[48;5;255m 0        \u001b[0m\u001b[38;5;1m\u001b[48;5;255m 0.707107 \u001b[0m\u001b[38;5;1m\u001b[48;5;255m-0.707107 \u001b[0m\u001b[48;5;255m  \u001b[0m\n",
       "  \u001b[38;5;1m\u001b[48;5;255m 0        \u001b[0m\u001b[38;5;1m\u001b[48;5;255m 0.707107 \u001b[0m\u001b[38;5;1m\u001b[48;5;255m 0.707107 \u001b[0m\u001b[48;5;255m  \u001b[0m"
      ]
     },
     "execution_count": 9,
     "metadata": {},
     "output_type": "execute_result"
    }
   ],
   "source": [
    "SO3.Rx(45, 'deg')"
   ]
  },
  {
   "cell_type": "markdown",
   "metadata": {},
   "source": [
    "We can visualize what this looks like by"
   ]
  },
  {
   "cell_type": "code",
   "execution_count": 10,
   "metadata": {},
   "outputs": [
    {
     "data": {
      "application/javascript": [
       "/* Put everything inside the global mpl namespace */\n",
       "window.mpl = {};\n",
       "\n",
       "\n",
       "mpl.get_websocket_type = function() {\n",
       "    if (typeof(WebSocket) !== 'undefined') {\n",
       "        return WebSocket;\n",
       "    } else if (typeof(MozWebSocket) !== 'undefined') {\n",
       "        return MozWebSocket;\n",
       "    } else {\n",
       "        alert('Your browser does not have WebSocket support. ' +\n",
       "              'Please try Chrome, Safari or Firefox ≥ 6. ' +\n",
       "              'Firefox 4 and 5 are also supported but you ' +\n",
       "              'have to enable WebSockets in about:config.');\n",
       "    };\n",
       "}\n",
       "\n",
       "mpl.figure = function(figure_id, websocket, ondownload, parent_element) {\n",
       "    this.id = figure_id;\n",
       "\n",
       "    this.ws = websocket;\n",
       "\n",
       "    this.supports_binary = (this.ws.binaryType != undefined);\n",
       "\n",
       "    if (!this.supports_binary) {\n",
       "        var warnings = document.getElementById(\"mpl-warnings\");\n",
       "        if (warnings) {\n",
       "            warnings.style.display = 'block';\n",
       "            warnings.textContent = (\n",
       "                \"This browser does not support binary websocket messages. \" +\n",
       "                    \"Performance may be slow.\");\n",
       "        }\n",
       "    }\n",
       "\n",
       "    this.imageObj = new Image();\n",
       "\n",
       "    this.context = undefined;\n",
       "    this.message = undefined;\n",
       "    this.canvas = undefined;\n",
       "    this.rubberband_canvas = undefined;\n",
       "    this.rubberband_context = undefined;\n",
       "    this.format_dropdown = undefined;\n",
       "\n",
       "    this.image_mode = 'full';\n",
       "\n",
       "    this.root = $('<div/>');\n",
       "    this._root_extra_style(this.root)\n",
       "    this.root.attr('style', 'display: inline-block');\n",
       "\n",
       "    $(parent_element).append(this.root);\n",
       "\n",
       "    this._init_header(this);\n",
       "    this._init_canvas(this);\n",
       "    this._init_toolbar(this);\n",
       "\n",
       "    var fig = this;\n",
       "\n",
       "    this.waiting = false;\n",
       "\n",
       "    this.ws.onopen =  function () {\n",
       "            fig.send_message(\"supports_binary\", {value: fig.supports_binary});\n",
       "            fig.send_message(\"send_image_mode\", {});\n",
       "            if (mpl.ratio != 1) {\n",
       "                fig.send_message(\"set_dpi_ratio\", {'dpi_ratio': mpl.ratio});\n",
       "            }\n",
       "            fig.send_message(\"refresh\", {});\n",
       "        }\n",
       "\n",
       "    this.imageObj.onload = function() {\n",
       "            if (fig.image_mode == 'full') {\n",
       "                // Full images could contain transparency (where diff images\n",
       "                // almost always do), so we need to clear the canvas so that\n",
       "                // there is no ghosting.\n",
       "                fig.context.clearRect(0, 0, fig.canvas.width, fig.canvas.height);\n",
       "            }\n",
       "            fig.context.drawImage(fig.imageObj, 0, 0);\n",
       "        };\n",
       "\n",
       "    this.imageObj.onunload = function() {\n",
       "        fig.ws.close();\n",
       "    }\n",
       "\n",
       "    this.ws.onmessage = this._make_on_message_function(this);\n",
       "\n",
       "    this.ondownload = ondownload;\n",
       "}\n",
       "\n",
       "mpl.figure.prototype._init_header = function() {\n",
       "    var titlebar = $(\n",
       "        '<div class=\"ui-dialog-titlebar ui-widget-header ui-corner-all ' +\n",
       "        'ui-helper-clearfix\"/>');\n",
       "    var titletext = $(\n",
       "        '<div class=\"ui-dialog-title\" style=\"width: 100%; ' +\n",
       "        'text-align: center; padding: 3px;\"/>');\n",
       "    titlebar.append(titletext)\n",
       "    this.root.append(titlebar);\n",
       "    this.header = titletext[0];\n",
       "}\n",
       "\n",
       "\n",
       "\n",
       "mpl.figure.prototype._canvas_extra_style = function(canvas_div) {\n",
       "\n",
       "}\n",
       "\n",
       "\n",
       "mpl.figure.prototype._root_extra_style = function(canvas_div) {\n",
       "\n",
       "}\n",
       "\n",
       "mpl.figure.prototype._init_canvas = function() {\n",
       "    var fig = this;\n",
       "\n",
       "    var canvas_div = $('<div/>');\n",
       "\n",
       "    canvas_div.attr('style', 'position: relative; clear: both; outline: 0');\n",
       "\n",
       "    function canvas_keyboard_event(event) {\n",
       "        return fig.key_event(event, event['data']);\n",
       "    }\n",
       "\n",
       "    canvas_div.keydown('key_press', canvas_keyboard_event);\n",
       "    canvas_div.keyup('key_release', canvas_keyboard_event);\n",
       "    this.canvas_div = canvas_div\n",
       "    this._canvas_extra_style(canvas_div)\n",
       "    this.root.append(canvas_div);\n",
       "\n",
       "    var canvas = $('<canvas/>');\n",
       "    canvas.addClass('mpl-canvas');\n",
       "    canvas.attr('style', \"left: 0; top: 0; z-index: 0; outline: 0\")\n",
       "\n",
       "    this.canvas = canvas[0];\n",
       "    this.context = canvas[0].getContext(\"2d\");\n",
       "\n",
       "    var backingStore = this.context.backingStorePixelRatio ||\n",
       "\tthis.context.webkitBackingStorePixelRatio ||\n",
       "\tthis.context.mozBackingStorePixelRatio ||\n",
       "\tthis.context.msBackingStorePixelRatio ||\n",
       "\tthis.context.oBackingStorePixelRatio ||\n",
       "\tthis.context.backingStorePixelRatio || 1;\n",
       "\n",
       "    mpl.ratio = (window.devicePixelRatio || 1) / backingStore;\n",
       "\n",
       "    var rubberband = $('<canvas/>');\n",
       "    rubberband.attr('style', \"position: absolute; left: 0; top: 0; z-index: 1;\")\n",
       "\n",
       "    var pass_mouse_events = true;\n",
       "\n",
       "    canvas_div.resizable({\n",
       "        start: function(event, ui) {\n",
       "            pass_mouse_events = false;\n",
       "        },\n",
       "        resize: function(event, ui) {\n",
       "            fig.request_resize(ui.size.width, ui.size.height);\n",
       "        },\n",
       "        stop: function(event, ui) {\n",
       "            pass_mouse_events = true;\n",
       "            fig.request_resize(ui.size.width, ui.size.height);\n",
       "        },\n",
       "    });\n",
       "\n",
       "    function mouse_event_fn(event) {\n",
       "        if (pass_mouse_events)\n",
       "            return fig.mouse_event(event, event['data']);\n",
       "    }\n",
       "\n",
       "    rubberband.mousedown('button_press', mouse_event_fn);\n",
       "    rubberband.mouseup('button_release', mouse_event_fn);\n",
       "    // Throttle sequential mouse events to 1 every 20ms.\n",
       "    rubberband.mousemove('motion_notify', mouse_event_fn);\n",
       "\n",
       "    rubberband.mouseenter('figure_enter', mouse_event_fn);\n",
       "    rubberband.mouseleave('figure_leave', mouse_event_fn);\n",
       "\n",
       "    canvas_div.on(\"wheel\", function (event) {\n",
       "        event = event.originalEvent;\n",
       "        event['data'] = 'scroll'\n",
       "        if (event.deltaY < 0) {\n",
       "            event.step = 1;\n",
       "        } else {\n",
       "            event.step = -1;\n",
       "        }\n",
       "        mouse_event_fn(event);\n",
       "    });\n",
       "\n",
       "    canvas_div.append(canvas);\n",
       "    canvas_div.append(rubberband);\n",
       "\n",
       "    this.rubberband = rubberband;\n",
       "    this.rubberband_canvas = rubberband[0];\n",
       "    this.rubberband_context = rubberband[0].getContext(\"2d\");\n",
       "    this.rubberband_context.strokeStyle = \"#000000\";\n",
       "\n",
       "    this._resize_canvas = function(width, height) {\n",
       "        // Keep the size of the canvas, canvas container, and rubber band\n",
       "        // canvas in synch.\n",
       "        canvas_div.css('width', width)\n",
       "        canvas_div.css('height', height)\n",
       "\n",
       "        canvas.attr('width', width * mpl.ratio);\n",
       "        canvas.attr('height', height * mpl.ratio);\n",
       "        canvas.attr('style', 'width: ' + width + 'px; height: ' + height + 'px;');\n",
       "\n",
       "        rubberband.attr('width', width);\n",
       "        rubberband.attr('height', height);\n",
       "    }\n",
       "\n",
       "    // Set the figure to an initial 600x600px, this will subsequently be updated\n",
       "    // upon first draw.\n",
       "    this._resize_canvas(600, 600);\n",
       "\n",
       "    // Disable right mouse context menu.\n",
       "    $(this.rubberband_canvas).bind(\"contextmenu\",function(e){\n",
       "        return false;\n",
       "    });\n",
       "\n",
       "    function set_focus () {\n",
       "        canvas.focus();\n",
       "        canvas_div.focus();\n",
       "    }\n",
       "\n",
       "    window.setTimeout(set_focus, 100);\n",
       "}\n",
       "\n",
       "mpl.figure.prototype._init_toolbar = function() {\n",
       "    var fig = this;\n",
       "\n",
       "    var nav_element = $('<div/>');\n",
       "    nav_element.attr('style', 'width: 100%');\n",
       "    this.root.append(nav_element);\n",
       "\n",
       "    // Define a callback function for later on.\n",
       "    function toolbar_event(event) {\n",
       "        return fig.toolbar_button_onclick(event['data']);\n",
       "    }\n",
       "    function toolbar_mouse_event(event) {\n",
       "        return fig.toolbar_button_onmouseover(event['data']);\n",
       "    }\n",
       "\n",
       "    for(var toolbar_ind in mpl.toolbar_items) {\n",
       "        var name = mpl.toolbar_items[toolbar_ind][0];\n",
       "        var tooltip = mpl.toolbar_items[toolbar_ind][1];\n",
       "        var image = mpl.toolbar_items[toolbar_ind][2];\n",
       "        var method_name = mpl.toolbar_items[toolbar_ind][3];\n",
       "\n",
       "        if (!name) {\n",
       "            // put a spacer in here.\n",
       "            continue;\n",
       "        }\n",
       "        var button = $('<button/>');\n",
       "        button.addClass('ui-button ui-widget ui-state-default ui-corner-all ' +\n",
       "                        'ui-button-icon-only');\n",
       "        button.attr('role', 'button');\n",
       "        button.attr('aria-disabled', 'false');\n",
       "        button.click(method_name, toolbar_event);\n",
       "        button.mouseover(tooltip, toolbar_mouse_event);\n",
       "\n",
       "        var icon_img = $('<span/>');\n",
       "        icon_img.addClass('ui-button-icon-primary ui-icon');\n",
       "        icon_img.addClass(image);\n",
       "        icon_img.addClass('ui-corner-all');\n",
       "\n",
       "        var tooltip_span = $('<span/>');\n",
       "        tooltip_span.addClass('ui-button-text');\n",
       "        tooltip_span.html(tooltip);\n",
       "\n",
       "        button.append(icon_img);\n",
       "        button.append(tooltip_span);\n",
       "\n",
       "        nav_element.append(button);\n",
       "    }\n",
       "\n",
       "    var fmt_picker_span = $('<span/>');\n",
       "\n",
       "    var fmt_picker = $('<select/>');\n",
       "    fmt_picker.addClass('mpl-toolbar-option ui-widget ui-widget-content');\n",
       "    fmt_picker_span.append(fmt_picker);\n",
       "    nav_element.append(fmt_picker_span);\n",
       "    this.format_dropdown = fmt_picker[0];\n",
       "\n",
       "    for (var ind in mpl.extensions) {\n",
       "        var fmt = mpl.extensions[ind];\n",
       "        var option = $(\n",
       "            '<option/>', {selected: fmt === mpl.default_extension}).html(fmt);\n",
       "        fmt_picker.append(option);\n",
       "    }\n",
       "\n",
       "    // Add hover states to the ui-buttons\n",
       "    $( \".ui-button\" ).hover(\n",
       "        function() { $(this).addClass(\"ui-state-hover\");},\n",
       "        function() { $(this).removeClass(\"ui-state-hover\");}\n",
       "    );\n",
       "\n",
       "    var status_bar = $('<span class=\"mpl-message\"/>');\n",
       "    nav_element.append(status_bar);\n",
       "    this.message = status_bar[0];\n",
       "}\n",
       "\n",
       "mpl.figure.prototype.request_resize = function(x_pixels, y_pixels) {\n",
       "    // Request matplotlib to resize the figure. Matplotlib will then trigger a resize in the client,\n",
       "    // which will in turn request a refresh of the image.\n",
       "    this.send_message('resize', {'width': x_pixels, 'height': y_pixels});\n",
       "}\n",
       "\n",
       "mpl.figure.prototype.send_message = function(type, properties) {\n",
       "    properties['type'] = type;\n",
       "    properties['figure_id'] = this.id;\n",
       "    this.ws.send(JSON.stringify(properties));\n",
       "}\n",
       "\n",
       "mpl.figure.prototype.send_draw_message = function() {\n",
       "    if (!this.waiting) {\n",
       "        this.waiting = true;\n",
       "        this.ws.send(JSON.stringify({type: \"draw\", figure_id: this.id}));\n",
       "    }\n",
       "}\n",
       "\n",
       "\n",
       "mpl.figure.prototype.handle_save = function(fig, msg) {\n",
       "    var format_dropdown = fig.format_dropdown;\n",
       "    var format = format_dropdown.options[format_dropdown.selectedIndex].value;\n",
       "    fig.ondownload(fig, format);\n",
       "}\n",
       "\n",
       "\n",
       "mpl.figure.prototype.handle_resize = function(fig, msg) {\n",
       "    var size = msg['size'];\n",
       "    if (size[0] != fig.canvas.width || size[1] != fig.canvas.height) {\n",
       "        fig._resize_canvas(size[0], size[1]);\n",
       "        fig.send_message(\"refresh\", {});\n",
       "    };\n",
       "}\n",
       "\n",
       "mpl.figure.prototype.handle_rubberband = function(fig, msg) {\n",
       "    var x0 = msg['x0'] / mpl.ratio;\n",
       "    var y0 = (fig.canvas.height - msg['y0']) / mpl.ratio;\n",
       "    var x1 = msg['x1'] / mpl.ratio;\n",
       "    var y1 = (fig.canvas.height - msg['y1']) / mpl.ratio;\n",
       "    x0 = Math.floor(x0) + 0.5;\n",
       "    y0 = Math.floor(y0) + 0.5;\n",
       "    x1 = Math.floor(x1) + 0.5;\n",
       "    y1 = Math.floor(y1) + 0.5;\n",
       "    var min_x = Math.min(x0, x1);\n",
       "    var min_y = Math.min(y0, y1);\n",
       "    var width = Math.abs(x1 - x0);\n",
       "    var height = Math.abs(y1 - y0);\n",
       "\n",
       "    fig.rubberband_context.clearRect(\n",
       "        0, 0, fig.canvas.width / mpl.ratio, fig.canvas.height / mpl.ratio);\n",
       "\n",
       "    fig.rubberband_context.strokeRect(min_x, min_y, width, height);\n",
       "}\n",
       "\n",
       "mpl.figure.prototype.handle_figure_label = function(fig, msg) {\n",
       "    // Updates the figure title.\n",
       "    fig.header.textContent = msg['label'];\n",
       "}\n",
       "\n",
       "mpl.figure.prototype.handle_cursor = function(fig, msg) {\n",
       "    var cursor = msg['cursor'];\n",
       "    switch(cursor)\n",
       "    {\n",
       "    case 0:\n",
       "        cursor = 'pointer';\n",
       "        break;\n",
       "    case 1:\n",
       "        cursor = 'default';\n",
       "        break;\n",
       "    case 2:\n",
       "        cursor = 'crosshair';\n",
       "        break;\n",
       "    case 3:\n",
       "        cursor = 'move';\n",
       "        break;\n",
       "    }\n",
       "    fig.rubberband_canvas.style.cursor = cursor;\n",
       "}\n",
       "\n",
       "mpl.figure.prototype.handle_message = function(fig, msg) {\n",
       "    fig.message.textContent = msg['message'];\n",
       "}\n",
       "\n",
       "mpl.figure.prototype.handle_draw = function(fig, msg) {\n",
       "    // Request the server to send over a new figure.\n",
       "    fig.send_draw_message();\n",
       "}\n",
       "\n",
       "mpl.figure.prototype.handle_image_mode = function(fig, msg) {\n",
       "    fig.image_mode = msg['mode'];\n",
       "}\n",
       "\n",
       "mpl.figure.prototype.updated_canvas_event = function() {\n",
       "    // Called whenever the canvas gets updated.\n",
       "    this.send_message(\"ack\", {});\n",
       "}\n",
       "\n",
       "// A function to construct a web socket function for onmessage handling.\n",
       "// Called in the figure constructor.\n",
       "mpl.figure.prototype._make_on_message_function = function(fig) {\n",
       "    return function socket_on_message(evt) {\n",
       "        if (evt.data instanceof Blob) {\n",
       "            /* FIXME: We get \"Resource interpreted as Image but\n",
       "             * transferred with MIME type text/plain:\" errors on\n",
       "             * Chrome.  But how to set the MIME type?  It doesn't seem\n",
       "             * to be part of the websocket stream */\n",
       "            evt.data.type = \"image/png\";\n",
       "\n",
       "            /* Free the memory for the previous frames */\n",
       "            if (fig.imageObj.src) {\n",
       "                (window.URL || window.webkitURL).revokeObjectURL(\n",
       "                    fig.imageObj.src);\n",
       "            }\n",
       "\n",
       "            fig.imageObj.src = (window.URL || window.webkitURL).createObjectURL(\n",
       "                evt.data);\n",
       "            fig.updated_canvas_event();\n",
       "            fig.waiting = false;\n",
       "            return;\n",
       "        }\n",
       "        else if (typeof evt.data === 'string' && evt.data.slice(0, 21) == \"data:image/png;base64\") {\n",
       "            fig.imageObj.src = evt.data;\n",
       "            fig.updated_canvas_event();\n",
       "            fig.waiting = false;\n",
       "            return;\n",
       "        }\n",
       "\n",
       "        var msg = JSON.parse(evt.data);\n",
       "        var msg_type = msg['type'];\n",
       "\n",
       "        // Call the  \"handle_{type}\" callback, which takes\n",
       "        // the figure and JSON message as its only arguments.\n",
       "        try {\n",
       "            var callback = fig[\"handle_\" + msg_type];\n",
       "        } catch (e) {\n",
       "            console.log(\"No handler for the '\" + msg_type + \"' message type: \", msg);\n",
       "            return;\n",
       "        }\n",
       "\n",
       "        if (callback) {\n",
       "            try {\n",
       "                // console.log(\"Handling '\" + msg_type + \"' message: \", msg);\n",
       "                callback(fig, msg);\n",
       "            } catch (e) {\n",
       "                console.log(\"Exception inside the 'handler_\" + msg_type + \"' callback:\", e, e.stack, msg);\n",
       "            }\n",
       "        }\n",
       "    };\n",
       "}\n",
       "\n",
       "// from http://stackoverflow.com/questions/1114465/getting-mouse-location-in-canvas\n",
       "mpl.findpos = function(e) {\n",
       "    //this section is from http://www.quirksmode.org/js/events_properties.html\n",
       "    var targ;\n",
       "    if (!e)\n",
       "        e = window.event;\n",
       "    if (e.target)\n",
       "        targ = e.target;\n",
       "    else if (e.srcElement)\n",
       "        targ = e.srcElement;\n",
       "    if (targ.nodeType == 3) // defeat Safari bug\n",
       "        targ = targ.parentNode;\n",
       "\n",
       "    // jQuery normalizes the pageX and pageY\n",
       "    // pageX,Y are the mouse positions relative to the document\n",
       "    // offset() returns the position of the element relative to the document\n",
       "    var x = e.pageX - $(targ).offset().left;\n",
       "    var y = e.pageY - $(targ).offset().top;\n",
       "\n",
       "    return {\"x\": x, \"y\": y};\n",
       "};\n",
       "\n",
       "/*\n",
       " * return a copy of an object with only non-object keys\n",
       " * we need this to avoid circular references\n",
       " * http://stackoverflow.com/a/24161582/3208463\n",
       " */\n",
       "function simpleKeys (original) {\n",
       "  return Object.keys(original).reduce(function (obj, key) {\n",
       "    if (typeof original[key] !== 'object')\n",
       "        obj[key] = original[key]\n",
       "    return obj;\n",
       "  }, {});\n",
       "}\n",
       "\n",
       "mpl.figure.prototype.mouse_event = function(event, name) {\n",
       "    var canvas_pos = mpl.findpos(event)\n",
       "\n",
       "    if (name === 'button_press')\n",
       "    {\n",
       "        this.canvas.focus();\n",
       "        this.canvas_div.focus();\n",
       "    }\n",
       "\n",
       "    var x = canvas_pos.x * mpl.ratio;\n",
       "    var y = canvas_pos.y * mpl.ratio;\n",
       "\n",
       "    this.send_message(name, {x: x, y: y, button: event.button,\n",
       "                             step: event.step,\n",
       "                             guiEvent: simpleKeys(event)});\n",
       "\n",
       "    /* This prevents the web browser from automatically changing to\n",
       "     * the text insertion cursor when the button is pressed.  We want\n",
       "     * to control all of the cursor setting manually through the\n",
       "     * 'cursor' event from matplotlib */\n",
       "    event.preventDefault();\n",
       "    return false;\n",
       "}\n",
       "\n",
       "mpl.figure.prototype._key_event_extra = function(event, name) {\n",
       "    // Handle any extra behaviour associated with a key event\n",
       "}\n",
       "\n",
       "mpl.figure.prototype.key_event = function(event, name) {\n",
       "\n",
       "    // Prevent repeat events\n",
       "    if (name == 'key_press')\n",
       "    {\n",
       "        if (event.which === this._key)\n",
       "            return;\n",
       "        else\n",
       "            this._key = event.which;\n",
       "    }\n",
       "    if (name == 'key_release')\n",
       "        this._key = null;\n",
       "\n",
       "    var value = '';\n",
       "    if (event.ctrlKey && event.which != 17)\n",
       "        value += \"ctrl+\";\n",
       "    if (event.altKey && event.which != 18)\n",
       "        value += \"alt+\";\n",
       "    if (event.shiftKey && event.which != 16)\n",
       "        value += \"shift+\";\n",
       "\n",
       "    value += 'k';\n",
       "    value += event.which.toString();\n",
       "\n",
       "    this._key_event_extra(event, name);\n",
       "\n",
       "    this.send_message(name, {key: value,\n",
       "                             guiEvent: simpleKeys(event)});\n",
       "    return false;\n",
       "}\n",
       "\n",
       "mpl.figure.prototype.toolbar_button_onclick = function(name) {\n",
       "    if (name == 'download') {\n",
       "        this.handle_save(this, null);\n",
       "    } else {\n",
       "        this.send_message(\"toolbar_button\", {name: name});\n",
       "    }\n",
       "};\n",
       "\n",
       "mpl.figure.prototype.toolbar_button_onmouseover = function(tooltip) {\n",
       "    this.message.textContent = tooltip;\n",
       "};\n",
       "mpl.toolbar_items = [[\"Home\", \"Reset original view\", \"fa fa-home icon-home\", \"home\"], [\"Back\", \"Back to previous view\", \"fa fa-arrow-left icon-arrow-left\", \"back\"], [\"Forward\", \"Forward to next view\", \"fa fa-arrow-right icon-arrow-right\", \"forward\"], [\"\", \"\", \"\", \"\"], [\"Pan\", \"Pan axes with left mouse, zoom with right\", \"fa fa-arrows icon-move\", \"pan\"], [\"Zoom\", \"Zoom to rectangle\", \"fa fa-square-o icon-check-empty\", \"zoom\"], [\"\", \"\", \"\", \"\"], [\"Download\", \"Download plot\", \"fa fa-floppy-o icon-save\", \"download\"]];\n",
       "\n",
       "mpl.extensions = [\"eps\", \"jpeg\", \"pdf\", \"png\", \"ps\", \"raw\", \"svg\", \"tif\"];\n",
       "\n",
       "mpl.default_extension = \"png\";var comm_websocket_adapter = function(comm) {\n",
       "    // Create a \"websocket\"-like object which calls the given IPython comm\n",
       "    // object with the appropriate methods. Currently this is a non binary\n",
       "    // socket, so there is still some room for performance tuning.\n",
       "    var ws = {};\n",
       "\n",
       "    ws.close = function() {\n",
       "        comm.close()\n",
       "    };\n",
       "    ws.send = function(m) {\n",
       "        //console.log('sending', m);\n",
       "        comm.send(m);\n",
       "    };\n",
       "    // Register the callback with on_msg.\n",
       "    comm.on_msg(function(msg) {\n",
       "        //console.log('receiving', msg['content']['data'], msg);\n",
       "        // Pass the mpl event to the overridden (by mpl) onmessage function.\n",
       "        ws.onmessage(msg['content']['data'])\n",
       "    });\n",
       "    return ws;\n",
       "}\n",
       "\n",
       "mpl.mpl_figure_comm = function(comm, msg) {\n",
       "    // This is the function which gets called when the mpl process\n",
       "    // starts-up an IPython Comm through the \"matplotlib\" channel.\n",
       "\n",
       "    var id = msg.content.data.id;\n",
       "    // Get hold of the div created by the display call when the Comm\n",
       "    // socket was opened in Python.\n",
       "    var element = $(\"#\" + id);\n",
       "    var ws_proxy = comm_websocket_adapter(comm)\n",
       "\n",
       "    function ondownload(figure, format) {\n",
       "        window.open(figure.imageObj.src);\n",
       "    }\n",
       "\n",
       "    var fig = new mpl.figure(id, ws_proxy,\n",
       "                           ondownload,\n",
       "                           element.get(0));\n",
       "\n",
       "    // Call onopen now - mpl needs it, as it is assuming we've passed it a real\n",
       "    // web socket which is closed, not our websocket->open comm proxy.\n",
       "    ws_proxy.onopen();\n",
       "\n",
       "    fig.parent_element = element.get(0);\n",
       "    fig.cell_info = mpl.find_output_cell(\"<div id='\" + id + \"'></div>\");\n",
       "    if (!fig.cell_info) {\n",
       "        console.error(\"Failed to find cell for figure\", id, fig);\n",
       "        return;\n",
       "    }\n",
       "\n",
       "    var output_index = fig.cell_info[2]\n",
       "    var cell = fig.cell_info[0];\n",
       "\n",
       "};\n",
       "\n",
       "mpl.figure.prototype.handle_close = function(fig, msg) {\n",
       "    var width = fig.canvas.width/mpl.ratio\n",
       "    fig.root.unbind('remove')\n",
       "\n",
       "    // Update the output cell to use the data from the current canvas.\n",
       "    fig.push_to_output();\n",
       "    var dataURL = fig.canvas.toDataURL();\n",
       "    // Re-enable the keyboard manager in IPython - without this line, in FF,\n",
       "    // the notebook keyboard shortcuts fail.\n",
       "    IPython.keyboard_manager.enable()\n",
       "    $(fig.parent_element).html('<img src=\"' + dataURL + '\" width=\"' + width + '\">');\n",
       "    fig.close_ws(fig, msg);\n",
       "}\n",
       "\n",
       "mpl.figure.prototype.close_ws = function(fig, msg){\n",
       "    fig.send_message('closing', msg);\n",
       "    // fig.ws.close()\n",
       "}\n",
       "\n",
       "mpl.figure.prototype.push_to_output = function(remove_interactive) {\n",
       "    // Turn the data on the canvas into data in the output cell.\n",
       "    var width = this.canvas.width/mpl.ratio\n",
       "    var dataURL = this.canvas.toDataURL();\n",
       "    this.cell_info[1]['text/html'] = '<img src=\"' + dataURL + '\" width=\"' + width + '\">';\n",
       "}\n",
       "\n",
       "mpl.figure.prototype.updated_canvas_event = function() {\n",
       "    // Tell IPython that the notebook contents must change.\n",
       "    IPython.notebook.set_dirty(true);\n",
       "    this.send_message(\"ack\", {});\n",
       "    var fig = this;\n",
       "    // Wait a second, then push the new image to the DOM so\n",
       "    // that it is saved nicely (might be nice to debounce this).\n",
       "    setTimeout(function () { fig.push_to_output() }, 1000);\n",
       "}\n",
       "\n",
       "mpl.figure.prototype._init_toolbar = function() {\n",
       "    var fig = this;\n",
       "\n",
       "    var nav_element = $('<div/>');\n",
       "    nav_element.attr('style', 'width: 100%');\n",
       "    this.root.append(nav_element);\n",
       "\n",
       "    // Define a callback function for later on.\n",
       "    function toolbar_event(event) {\n",
       "        return fig.toolbar_button_onclick(event['data']);\n",
       "    }\n",
       "    function toolbar_mouse_event(event) {\n",
       "        return fig.toolbar_button_onmouseover(event['data']);\n",
       "    }\n",
       "\n",
       "    for(var toolbar_ind in mpl.toolbar_items){\n",
       "        var name = mpl.toolbar_items[toolbar_ind][0];\n",
       "        var tooltip = mpl.toolbar_items[toolbar_ind][1];\n",
       "        var image = mpl.toolbar_items[toolbar_ind][2];\n",
       "        var method_name = mpl.toolbar_items[toolbar_ind][3];\n",
       "\n",
       "        if (!name) { continue; };\n",
       "\n",
       "        var button = $('<button class=\"btn btn-default\" href=\"#\" title=\"' + name + '\"><i class=\"fa ' + image + ' fa-lg\"></i></button>');\n",
       "        button.click(method_name, toolbar_event);\n",
       "        button.mouseover(tooltip, toolbar_mouse_event);\n",
       "        nav_element.append(button);\n",
       "    }\n",
       "\n",
       "    // Add the status bar.\n",
       "    var status_bar = $('<span class=\"mpl-message\" style=\"text-align:right; float: right;\"/>');\n",
       "    nav_element.append(status_bar);\n",
       "    this.message = status_bar[0];\n",
       "\n",
       "    // Add the close button to the window.\n",
       "    var buttongrp = $('<div class=\"btn-group inline pull-right\"></div>');\n",
       "    var button = $('<button class=\"btn btn-mini btn-primary\" href=\"#\" title=\"Stop Interaction\"><i class=\"fa fa-power-off icon-remove icon-large\"></i></button>');\n",
       "    button.click(function (evt) { fig.handle_close(fig, {}); } );\n",
       "    button.mouseover('Stop Interaction', toolbar_mouse_event);\n",
       "    buttongrp.append(button);\n",
       "    var titlebar = this.root.find($('.ui-dialog-titlebar'));\n",
       "    titlebar.prepend(buttongrp);\n",
       "}\n",
       "\n",
       "mpl.figure.prototype._root_extra_style = function(el){\n",
       "    var fig = this\n",
       "    el.on(\"remove\", function(){\n",
       "\tfig.close_ws(fig, {});\n",
       "    });\n",
       "}\n",
       "\n",
       "mpl.figure.prototype._canvas_extra_style = function(el){\n",
       "    // this is important to make the div 'focusable\n",
       "    el.attr('tabindex', 0)\n",
       "    // reach out to IPython and tell the keyboard manager to turn it's self\n",
       "    // off when our div gets focus\n",
       "\n",
       "    // location in version 3\n",
       "    if (IPython.notebook.keyboard_manager) {\n",
       "        IPython.notebook.keyboard_manager.register_events(el);\n",
       "    }\n",
       "    else {\n",
       "        // location in version 2\n",
       "        IPython.keyboard_manager.register_events(el);\n",
       "    }\n",
       "\n",
       "}\n",
       "\n",
       "mpl.figure.prototype._key_event_extra = function(event, name) {\n",
       "    var manager = IPython.notebook.keyboard_manager;\n",
       "    if (!manager)\n",
       "        manager = IPython.keyboard_manager;\n",
       "\n",
       "    // Check for shift+enter\n",
       "    if (event.shiftKey && event.which == 13) {\n",
       "        this.canvas_div.blur();\n",
       "        // select the cell after this one\n",
       "        var index = IPython.notebook.find_cell_index(this.cell_info[0]);\n",
       "        IPython.notebook.select(index + 1);\n",
       "    }\n",
       "}\n",
       "\n",
       "mpl.figure.prototype.handle_save = function(fig, msg) {\n",
       "    fig.ondownload(fig, null);\n",
       "}\n",
       "\n",
       "\n",
       "mpl.find_output_cell = function(html_output) {\n",
       "    // Return the cell and output element which can be found *uniquely* in the notebook.\n",
       "    // Note - this is a bit hacky, but it is done because the \"notebook_saving.Notebook\"\n",
       "    // IPython event is triggered only after the cells have been serialised, which for\n",
       "    // our purposes (turning an active figure into a static one), is too late.\n",
       "    var cells = IPython.notebook.get_cells();\n",
       "    var ncells = cells.length;\n",
       "    for (var i=0; i<ncells; i++) {\n",
       "        var cell = cells[i];\n",
       "        if (cell.cell_type === 'code'){\n",
       "            for (var j=0; j<cell.output_area.outputs.length; j++) {\n",
       "                var data = cell.output_area.outputs[j];\n",
       "                if (data.data) {\n",
       "                    // IPython >= 3 moved mimebundle to data attribute of output\n",
       "                    data = data.data;\n",
       "                }\n",
       "                if (data['text/html'] == html_output) {\n",
       "                    return [cell, data, j];\n",
       "                }\n",
       "            }\n",
       "        }\n",
       "    }\n",
       "}\n",
       "\n",
       "// Register the function which deals with the matplotlib target/channel.\n",
       "// The kernel may be null if the page has been refreshed.\n",
       "if (IPython.notebook.kernel != null) {\n",
       "    IPython.notebook.kernel.comm_manager.register_target('matplotlib', mpl.mpl_figure_comm);\n",
       "}\n"
      ],
      "text/plain": [
       "<IPython.core.display.Javascript object>"
      ]
     },
     "metadata": {},
     "output_type": "display_data"
    },
    {
     "data": {
      "text/html": [
       "<img src=\"data:image/png;base64,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\" width=\"640\">"
      ],
      "text/plain": [
       "<IPython.core.display.HTML object>"
      ]
     },
     "metadata": {},
     "output_type": "display_data"
    }
   ],
   "source": [
    "fig = plt.figure() # create a new figure\n",
    "SE3().plot(frame='0', dims=[-1.5,1.5], color='black')\n",
    "R1.plot(frame='1')"
   ]
  },
  {
   "cell_type": "markdown",
   "metadata": {},
   "source": [
    "Click on the coordinate frame and use the mouse to change the viewpoint.  The world reference frame is shown in black, and the rotated frame is shown in blue."
   ]
  },
  {
   "cell_type": "markdown",
   "metadata": {},
   "source": [
    "Often we need to describe more complex orientations and we typically use a _3 angle_ convention to do this.  Euler's rotation theorem says that any orientation can be expressed in terms of three rotations about different axes.  \n",
    "\n",
    "One common convention is roll-pitch-yaw angles"
   ]
  },
  {
   "cell_type": "code",
   "execution_count": 11,
   "metadata": {},
   "outputs": [
    {
     "data": {
      "text/plain": [
       "  \u001b[38;5;1m\u001b[48;5;255m 0.813798 \u001b[0m\u001b[38;5;1m\u001b[48;5;255m-0.44097  \u001b[0m\u001b[38;5;1m\u001b[48;5;255m 0.378522 \u001b[0m\u001b[48;5;255m  \u001b[0m\n",
       "  \u001b[38;5;1m\u001b[48;5;255m 0.469846 \u001b[0m\u001b[38;5;1m\u001b[48;5;255m 0.882564 \u001b[0m\u001b[38;5;1m\u001b[48;5;255m 0.0180283\u001b[0m\u001b[48;5;255m  \u001b[0m\n",
       "  \u001b[38;5;1m\u001b[48;5;255m-0.34202  \u001b[0m\u001b[38;5;1m\u001b[48;5;255m 0.163176 \u001b[0m\u001b[38;5;1m\u001b[48;5;255m 0.925417 \u001b[0m\u001b[48;5;255m  \u001b[0m"
      ]
     },
     "execution_count": 11,
     "metadata": {},
     "output_type": "execute_result"
    }
   ],
   "source": [
    "R2 = SO3.RPY([10, 20, 30], unit='deg')\n",
    "R2"
   ]
  },
  {
   "cell_type": "markdown",
   "metadata": {},
   "source": [
    "which says that we rotate by 30&deg; about the Z-axis (yaw), _then_ 20&deg; about the Y-axis (pitch) and _then_ 10&deg; about the X-axis – this is the ZYX roll-pitch yaw convention.  Note that:\n",
    "\n",
    "1. the first rotation in the sequence involves the last element in the angle sequence.\n",
    "2. we can change angle convention, for example by passing `order='xyz'`\n",
    "\n",
    "We can visualize the resulting orientation."
   ]
  },
  {
   "cell_type": "code",
   "execution_count": 12,
   "metadata": {},
   "outputs": [
    {
     "data": {
      "application/javascript": [
       "/* Put everything inside the global mpl namespace */\n",
       "window.mpl = {};\n",
       "\n",
       "\n",
       "mpl.get_websocket_type = function() {\n",
       "    if (typeof(WebSocket) !== 'undefined') {\n",
       "        return WebSocket;\n",
       "    } else if (typeof(MozWebSocket) !== 'undefined') {\n",
       "        return MozWebSocket;\n",
       "    } else {\n",
       "        alert('Your browser does not have WebSocket support. ' +\n",
       "              'Please try Chrome, Safari or Firefox ≥ 6. ' +\n",
       "              'Firefox 4 and 5 are also supported but you ' +\n",
       "              'have to enable WebSockets in about:config.');\n",
       "    };\n",
       "}\n",
       "\n",
       "mpl.figure = function(figure_id, websocket, ondownload, parent_element) {\n",
       "    this.id = figure_id;\n",
       "\n",
       "    this.ws = websocket;\n",
       "\n",
       "    this.supports_binary = (this.ws.binaryType != undefined);\n",
       "\n",
       "    if (!this.supports_binary) {\n",
       "        var warnings = document.getElementById(\"mpl-warnings\");\n",
       "        if (warnings) {\n",
       "            warnings.style.display = 'block';\n",
       "            warnings.textContent = (\n",
       "                \"This browser does not support binary websocket messages. \" +\n",
       "                    \"Performance may be slow.\");\n",
       "        }\n",
       "    }\n",
       "\n",
       "    this.imageObj = new Image();\n",
       "\n",
       "    this.context = undefined;\n",
       "    this.message = undefined;\n",
       "    this.canvas = undefined;\n",
       "    this.rubberband_canvas = undefined;\n",
       "    this.rubberband_context = undefined;\n",
       "    this.format_dropdown = undefined;\n",
       "\n",
       "    this.image_mode = 'full';\n",
       "\n",
       "    this.root = $('<div/>');\n",
       "    this._root_extra_style(this.root)\n",
       "    this.root.attr('style', 'display: inline-block');\n",
       "\n",
       "    $(parent_element).append(this.root);\n",
       "\n",
       "    this._init_header(this);\n",
       "    this._init_canvas(this);\n",
       "    this._init_toolbar(this);\n",
       "\n",
       "    var fig = this;\n",
       "\n",
       "    this.waiting = false;\n",
       "\n",
       "    this.ws.onopen =  function () {\n",
       "            fig.send_message(\"supports_binary\", {value: fig.supports_binary});\n",
       "            fig.send_message(\"send_image_mode\", {});\n",
       "            if (mpl.ratio != 1) {\n",
       "                fig.send_message(\"set_dpi_ratio\", {'dpi_ratio': mpl.ratio});\n",
       "            }\n",
       "            fig.send_message(\"refresh\", {});\n",
       "        }\n",
       "\n",
       "    this.imageObj.onload = function() {\n",
       "            if (fig.image_mode == 'full') {\n",
       "                // Full images could contain transparency (where diff images\n",
       "                // almost always do), so we need to clear the canvas so that\n",
       "                // there is no ghosting.\n",
       "                fig.context.clearRect(0, 0, fig.canvas.width, fig.canvas.height);\n",
       "            }\n",
       "            fig.context.drawImage(fig.imageObj, 0, 0);\n",
       "        };\n",
       "\n",
       "    this.imageObj.onunload = function() {\n",
       "        fig.ws.close();\n",
       "    }\n",
       "\n",
       "    this.ws.onmessage = this._make_on_message_function(this);\n",
       "\n",
       "    this.ondownload = ondownload;\n",
       "}\n",
       "\n",
       "mpl.figure.prototype._init_header = function() {\n",
       "    var titlebar = $(\n",
       "        '<div class=\"ui-dialog-titlebar ui-widget-header ui-corner-all ' +\n",
       "        'ui-helper-clearfix\"/>');\n",
       "    var titletext = $(\n",
       "        '<div class=\"ui-dialog-title\" style=\"width: 100%; ' +\n",
       "        'text-align: center; padding: 3px;\"/>');\n",
       "    titlebar.append(titletext)\n",
       "    this.root.append(titlebar);\n",
       "    this.header = titletext[0];\n",
       "}\n",
       "\n",
       "\n",
       "\n",
       "mpl.figure.prototype._canvas_extra_style = function(canvas_div) {\n",
       "\n",
       "}\n",
       "\n",
       "\n",
       "mpl.figure.prototype._root_extra_style = function(canvas_div) {\n",
       "\n",
       "}\n",
       "\n",
       "mpl.figure.prototype._init_canvas = function() {\n",
       "    var fig = this;\n",
       "\n",
       "    var canvas_div = $('<div/>');\n",
       "\n",
       "    canvas_div.attr('style', 'position: relative; clear: both; outline: 0');\n",
       "\n",
       "    function canvas_keyboard_event(event) {\n",
       "        return fig.key_event(event, event['data']);\n",
       "    }\n",
       "\n",
       "    canvas_div.keydown('key_press', canvas_keyboard_event);\n",
       "    canvas_div.keyup('key_release', canvas_keyboard_event);\n",
       "    this.canvas_div = canvas_div\n",
       "    this._canvas_extra_style(canvas_div)\n",
       "    this.root.append(canvas_div);\n",
       "\n",
       "    var canvas = $('<canvas/>');\n",
       "    canvas.addClass('mpl-canvas');\n",
       "    canvas.attr('style', \"left: 0; top: 0; z-index: 0; outline: 0\")\n",
       "\n",
       "    this.canvas = canvas[0];\n",
       "    this.context = canvas[0].getContext(\"2d\");\n",
       "\n",
       "    var backingStore = this.context.backingStorePixelRatio ||\n",
       "\tthis.context.webkitBackingStorePixelRatio ||\n",
       "\tthis.context.mozBackingStorePixelRatio ||\n",
       "\tthis.context.msBackingStorePixelRatio ||\n",
       "\tthis.context.oBackingStorePixelRatio ||\n",
       "\tthis.context.backingStorePixelRatio || 1;\n",
       "\n",
       "    mpl.ratio = (window.devicePixelRatio || 1) / backingStore;\n",
       "\n",
       "    var rubberband = $('<canvas/>');\n",
       "    rubberband.attr('style', \"position: absolute; left: 0; top: 0; z-index: 1;\")\n",
       "\n",
       "    var pass_mouse_events = true;\n",
       "\n",
       "    canvas_div.resizable({\n",
       "        start: function(event, ui) {\n",
       "            pass_mouse_events = false;\n",
       "        },\n",
       "        resize: function(event, ui) {\n",
       "            fig.request_resize(ui.size.width, ui.size.height);\n",
       "        },\n",
       "        stop: function(event, ui) {\n",
       "            pass_mouse_events = true;\n",
       "            fig.request_resize(ui.size.width, ui.size.height);\n",
       "        },\n",
       "    });\n",
       "\n",
       "    function mouse_event_fn(event) {\n",
       "        if (pass_mouse_events)\n",
       "            return fig.mouse_event(event, event['data']);\n",
       "    }\n",
       "\n",
       "    rubberband.mousedown('button_press', mouse_event_fn);\n",
       "    rubberband.mouseup('button_release', mouse_event_fn);\n",
       "    // Throttle sequential mouse events to 1 every 20ms.\n",
       "    rubberband.mousemove('motion_notify', mouse_event_fn);\n",
       "\n",
       "    rubberband.mouseenter('figure_enter', mouse_event_fn);\n",
       "    rubberband.mouseleave('figure_leave', mouse_event_fn);\n",
       "\n",
       "    canvas_div.on(\"wheel\", function (event) {\n",
       "        event = event.originalEvent;\n",
       "        event['data'] = 'scroll'\n",
       "        if (event.deltaY < 0) {\n",
       "            event.step = 1;\n",
       "        } else {\n",
       "            event.step = -1;\n",
       "        }\n",
       "        mouse_event_fn(event);\n",
       "    });\n",
       "\n",
       "    canvas_div.append(canvas);\n",
       "    canvas_div.append(rubberband);\n",
       "\n",
       "    this.rubberband = rubberband;\n",
       "    this.rubberband_canvas = rubberband[0];\n",
       "    this.rubberband_context = rubberband[0].getContext(\"2d\");\n",
       "    this.rubberband_context.strokeStyle = \"#000000\";\n",
       "\n",
       "    this._resize_canvas = function(width, height) {\n",
       "        // Keep the size of the canvas, canvas container, and rubber band\n",
       "        // canvas in synch.\n",
       "        canvas_div.css('width', width)\n",
       "        canvas_div.css('height', height)\n",
       "\n",
       "        canvas.attr('width', width * mpl.ratio);\n",
       "        canvas.attr('height', height * mpl.ratio);\n",
       "        canvas.attr('style', 'width: ' + width + 'px; height: ' + height + 'px;');\n",
       "\n",
       "        rubberband.attr('width', width);\n",
       "        rubberband.attr('height', height);\n",
       "    }\n",
       "\n",
       "    // Set the figure to an initial 600x600px, this will subsequently be updated\n",
       "    // upon first draw.\n",
       "    this._resize_canvas(600, 600);\n",
       "\n",
       "    // Disable right mouse context menu.\n",
       "    $(this.rubberband_canvas).bind(\"contextmenu\",function(e){\n",
       "        return false;\n",
       "    });\n",
       "\n",
       "    function set_focus () {\n",
       "        canvas.focus();\n",
       "        canvas_div.focus();\n",
       "    }\n",
       "\n",
       "    window.setTimeout(set_focus, 100);\n",
       "}\n",
       "\n",
       "mpl.figure.prototype._init_toolbar = function() {\n",
       "    var fig = this;\n",
       "\n",
       "    var nav_element = $('<div/>');\n",
       "    nav_element.attr('style', 'width: 100%');\n",
       "    this.root.append(nav_element);\n",
       "\n",
       "    // Define a callback function for later on.\n",
       "    function toolbar_event(event) {\n",
       "        return fig.toolbar_button_onclick(event['data']);\n",
       "    }\n",
       "    function toolbar_mouse_event(event) {\n",
       "        return fig.toolbar_button_onmouseover(event['data']);\n",
       "    }\n",
       "\n",
       "    for(var toolbar_ind in mpl.toolbar_items) {\n",
       "        var name = mpl.toolbar_items[toolbar_ind][0];\n",
       "        var tooltip = mpl.toolbar_items[toolbar_ind][1];\n",
       "        var image = mpl.toolbar_items[toolbar_ind][2];\n",
       "        var method_name = mpl.toolbar_items[toolbar_ind][3];\n",
       "\n",
       "        if (!name) {\n",
       "            // put a spacer in here.\n",
       "            continue;\n",
       "        }\n",
       "        var button = $('<button/>');\n",
       "        button.addClass('ui-button ui-widget ui-state-default ui-corner-all ' +\n",
       "                        'ui-button-icon-only');\n",
       "        button.attr('role', 'button');\n",
       "        button.attr('aria-disabled', 'false');\n",
       "        button.click(method_name, toolbar_event);\n",
       "        button.mouseover(tooltip, toolbar_mouse_event);\n",
       "\n",
       "        var icon_img = $('<span/>');\n",
       "        icon_img.addClass('ui-button-icon-primary ui-icon');\n",
       "        icon_img.addClass(image);\n",
       "        icon_img.addClass('ui-corner-all');\n",
       "\n",
       "        var tooltip_span = $('<span/>');\n",
       "        tooltip_span.addClass('ui-button-text');\n",
       "        tooltip_span.html(tooltip);\n",
       "\n",
       "        button.append(icon_img);\n",
       "        button.append(tooltip_span);\n",
       "\n",
       "        nav_element.append(button);\n",
       "    }\n",
       "\n",
       "    var fmt_picker_span = $('<span/>');\n",
       "\n",
       "    var fmt_picker = $('<select/>');\n",
       "    fmt_picker.addClass('mpl-toolbar-option ui-widget ui-widget-content');\n",
       "    fmt_picker_span.append(fmt_picker);\n",
       "    nav_element.append(fmt_picker_span);\n",
       "    this.format_dropdown = fmt_picker[0];\n",
       "\n",
       "    for (var ind in mpl.extensions) {\n",
       "        var fmt = mpl.extensions[ind];\n",
       "        var option = $(\n",
       "            '<option/>', {selected: fmt === mpl.default_extension}).html(fmt);\n",
       "        fmt_picker.append(option);\n",
       "    }\n",
       "\n",
       "    // Add hover states to the ui-buttons\n",
       "    $( \".ui-button\" ).hover(\n",
       "        function() { $(this).addClass(\"ui-state-hover\");},\n",
       "        function() { $(this).removeClass(\"ui-state-hover\");}\n",
       "    );\n",
       "\n",
       "    var status_bar = $('<span class=\"mpl-message\"/>');\n",
       "    nav_element.append(status_bar);\n",
       "    this.message = status_bar[0];\n",
       "}\n",
       "\n",
       "mpl.figure.prototype.request_resize = function(x_pixels, y_pixels) {\n",
       "    // Request matplotlib to resize the figure. Matplotlib will then trigger a resize in the client,\n",
       "    // which will in turn request a refresh of the image.\n",
       "    this.send_message('resize', {'width': x_pixels, 'height': y_pixels});\n",
       "}\n",
       "\n",
       "mpl.figure.prototype.send_message = function(type, properties) {\n",
       "    properties['type'] = type;\n",
       "    properties['figure_id'] = this.id;\n",
       "    this.ws.send(JSON.stringify(properties));\n",
       "}\n",
       "\n",
       "mpl.figure.prototype.send_draw_message = function() {\n",
       "    if (!this.waiting) {\n",
       "        this.waiting = true;\n",
       "        this.ws.send(JSON.stringify({type: \"draw\", figure_id: this.id}));\n",
       "    }\n",
       "}\n",
       "\n",
       "\n",
       "mpl.figure.prototype.handle_save = function(fig, msg) {\n",
       "    var format_dropdown = fig.format_dropdown;\n",
       "    var format = format_dropdown.options[format_dropdown.selectedIndex].value;\n",
       "    fig.ondownload(fig, format);\n",
       "}\n",
       "\n",
       "\n",
       "mpl.figure.prototype.handle_resize = function(fig, msg) {\n",
       "    var size = msg['size'];\n",
       "    if (size[0] != fig.canvas.width || size[1] != fig.canvas.height) {\n",
       "        fig._resize_canvas(size[0], size[1]);\n",
       "        fig.send_message(\"refresh\", {});\n",
       "    };\n",
       "}\n",
       "\n",
       "mpl.figure.prototype.handle_rubberband = function(fig, msg) {\n",
       "    var x0 = msg['x0'] / mpl.ratio;\n",
       "    var y0 = (fig.canvas.height - msg['y0']) / mpl.ratio;\n",
       "    var x1 = msg['x1'] / mpl.ratio;\n",
       "    var y1 = (fig.canvas.height - msg['y1']) / mpl.ratio;\n",
       "    x0 = Math.floor(x0) + 0.5;\n",
       "    y0 = Math.floor(y0) + 0.5;\n",
       "    x1 = Math.floor(x1) + 0.5;\n",
       "    y1 = Math.floor(y1) + 0.5;\n",
       "    var min_x = Math.min(x0, x1);\n",
       "    var min_y = Math.min(y0, y1);\n",
       "    var width = Math.abs(x1 - x0);\n",
       "    var height = Math.abs(y1 - y0);\n",
       "\n",
       "    fig.rubberband_context.clearRect(\n",
       "        0, 0, fig.canvas.width / mpl.ratio, fig.canvas.height / mpl.ratio);\n",
       "\n",
       "    fig.rubberband_context.strokeRect(min_x, min_y, width, height);\n",
       "}\n",
       "\n",
       "mpl.figure.prototype.handle_figure_label = function(fig, msg) {\n",
       "    // Updates the figure title.\n",
       "    fig.header.textContent = msg['label'];\n",
       "}\n",
       "\n",
       "mpl.figure.prototype.handle_cursor = function(fig, msg) {\n",
       "    var cursor = msg['cursor'];\n",
       "    switch(cursor)\n",
       "    {\n",
       "    case 0:\n",
       "        cursor = 'pointer';\n",
       "        break;\n",
       "    case 1:\n",
       "        cursor = 'default';\n",
       "        break;\n",
       "    case 2:\n",
       "        cursor = 'crosshair';\n",
       "        break;\n",
       "    case 3:\n",
       "        cursor = 'move';\n",
       "        break;\n",
       "    }\n",
       "    fig.rubberband_canvas.style.cursor = cursor;\n",
       "}\n",
       "\n",
       "mpl.figure.prototype.handle_message = function(fig, msg) {\n",
       "    fig.message.textContent = msg['message'];\n",
       "}\n",
       "\n",
       "mpl.figure.prototype.handle_draw = function(fig, msg) {\n",
       "    // Request the server to send over a new figure.\n",
       "    fig.send_draw_message();\n",
       "}\n",
       "\n",
       "mpl.figure.prototype.handle_image_mode = function(fig, msg) {\n",
       "    fig.image_mode = msg['mode'];\n",
       "}\n",
       "\n",
       "mpl.figure.prototype.updated_canvas_event = function() {\n",
       "    // Called whenever the canvas gets updated.\n",
       "    this.send_message(\"ack\", {});\n",
       "}\n",
       "\n",
       "// A function to construct a web socket function for onmessage handling.\n",
       "// Called in the figure constructor.\n",
       "mpl.figure.prototype._make_on_message_function = function(fig) {\n",
       "    return function socket_on_message(evt) {\n",
       "        if (evt.data instanceof Blob) {\n",
       "            /* FIXME: We get \"Resource interpreted as Image but\n",
       "             * transferred with MIME type text/plain:\" errors on\n",
       "             * Chrome.  But how to set the MIME type?  It doesn't seem\n",
       "             * to be part of the websocket stream */\n",
       "            evt.data.type = \"image/png\";\n",
       "\n",
       "            /* Free the memory for the previous frames */\n",
       "            if (fig.imageObj.src) {\n",
       "                (window.URL || window.webkitURL).revokeObjectURL(\n",
       "                    fig.imageObj.src);\n",
       "            }\n",
       "\n",
       "            fig.imageObj.src = (window.URL || window.webkitURL).createObjectURL(\n",
       "                evt.data);\n",
       "            fig.updated_canvas_event();\n",
       "            fig.waiting = false;\n",
       "            return;\n",
       "        }\n",
       "        else if (typeof evt.data === 'string' && evt.data.slice(0, 21) == \"data:image/png;base64\") {\n",
       "            fig.imageObj.src = evt.data;\n",
       "            fig.updated_canvas_event();\n",
       "            fig.waiting = false;\n",
       "            return;\n",
       "        }\n",
       "\n",
       "        var msg = JSON.parse(evt.data);\n",
       "        var msg_type = msg['type'];\n",
       "\n",
       "        // Call the  \"handle_{type}\" callback, which takes\n",
       "        // the figure and JSON message as its only arguments.\n",
       "        try {\n",
       "            var callback = fig[\"handle_\" + msg_type];\n",
       "        } catch (e) {\n",
       "            console.log(\"No handler for the '\" + msg_type + \"' message type: \", msg);\n",
       "            return;\n",
       "        }\n",
       "\n",
       "        if (callback) {\n",
       "            try {\n",
       "                // console.log(\"Handling '\" + msg_type + \"' message: \", msg);\n",
       "                callback(fig, msg);\n",
       "            } catch (e) {\n",
       "                console.log(\"Exception inside the 'handler_\" + msg_type + \"' callback:\", e, e.stack, msg);\n",
       "            }\n",
       "        }\n",
       "    };\n",
       "}\n",
       "\n",
       "// from http://stackoverflow.com/questions/1114465/getting-mouse-location-in-canvas\n",
       "mpl.findpos = function(e) {\n",
       "    //this section is from http://www.quirksmode.org/js/events_properties.html\n",
       "    var targ;\n",
       "    if (!e)\n",
       "        e = window.event;\n",
       "    if (e.target)\n",
       "        targ = e.target;\n",
       "    else if (e.srcElement)\n",
       "        targ = e.srcElement;\n",
       "    if (targ.nodeType == 3) // defeat Safari bug\n",
       "        targ = targ.parentNode;\n",
       "\n",
       "    // jQuery normalizes the pageX and pageY\n",
       "    // pageX,Y are the mouse positions relative to the document\n",
       "    // offset() returns the position of the element relative to the document\n",
       "    var x = e.pageX - $(targ).offset().left;\n",
       "    var y = e.pageY - $(targ).offset().top;\n",
       "\n",
       "    return {\"x\": x, \"y\": y};\n",
       "};\n",
       "\n",
       "/*\n",
       " * return a copy of an object with only non-object keys\n",
       " * we need this to avoid circular references\n",
       " * http://stackoverflow.com/a/24161582/3208463\n",
       " */\n",
       "function simpleKeys (original) {\n",
       "  return Object.keys(original).reduce(function (obj, key) {\n",
       "    if (typeof original[key] !== 'object')\n",
       "        obj[key] = original[key]\n",
       "    return obj;\n",
       "  }, {});\n",
       "}\n",
       "\n",
       "mpl.figure.prototype.mouse_event = function(event, name) {\n",
       "    var canvas_pos = mpl.findpos(event)\n",
       "\n",
       "    if (name === 'button_press')\n",
       "    {\n",
       "        this.canvas.focus();\n",
       "        this.canvas_div.focus();\n",
       "    }\n",
       "\n",
       "    var x = canvas_pos.x * mpl.ratio;\n",
       "    var y = canvas_pos.y * mpl.ratio;\n",
       "\n",
       "    this.send_message(name, {x: x, y: y, button: event.button,\n",
       "                             step: event.step,\n",
       "                             guiEvent: simpleKeys(event)});\n",
       "\n",
       "    /* This prevents the web browser from automatically changing to\n",
       "     * the text insertion cursor when the button is pressed.  We want\n",
       "     * to control all of the cursor setting manually through the\n",
       "     * 'cursor' event from matplotlib */\n",
       "    event.preventDefault();\n",
       "    return false;\n",
       "}\n",
       "\n",
       "mpl.figure.prototype._key_event_extra = function(event, name) {\n",
       "    // Handle any extra behaviour associated with a key event\n",
       "}\n",
       "\n",
       "mpl.figure.prototype.key_event = function(event, name) {\n",
       "\n",
       "    // Prevent repeat events\n",
       "    if (name == 'key_press')\n",
       "    {\n",
       "        if (event.which === this._key)\n",
       "            return;\n",
       "        else\n",
       "            this._key = event.which;\n",
       "    }\n",
       "    if (name == 'key_release')\n",
       "        this._key = null;\n",
       "\n",
       "    var value = '';\n",
       "    if (event.ctrlKey && event.which != 17)\n",
       "        value += \"ctrl+\";\n",
       "    if (event.altKey && event.which != 18)\n",
       "        value += \"alt+\";\n",
       "    if (event.shiftKey && event.which != 16)\n",
       "        value += \"shift+\";\n",
       "\n",
       "    value += 'k';\n",
       "    value += event.which.toString();\n",
       "\n",
       "    this._key_event_extra(event, name);\n",
       "\n",
       "    this.send_message(name, {key: value,\n",
       "                             guiEvent: simpleKeys(event)});\n",
       "    return false;\n",
       "}\n",
       "\n",
       "mpl.figure.prototype.toolbar_button_onclick = function(name) {\n",
       "    if (name == 'download') {\n",
       "        this.handle_save(this, null);\n",
       "    } else {\n",
       "        this.send_message(\"toolbar_button\", {name: name});\n",
       "    }\n",
       "};\n",
       "\n",
       "mpl.figure.prototype.toolbar_button_onmouseover = function(tooltip) {\n",
       "    this.message.textContent = tooltip;\n",
       "};\n",
       "mpl.toolbar_items = [[\"Home\", \"Reset original view\", \"fa fa-home icon-home\", \"home\"], [\"Back\", \"Back to previous view\", \"fa fa-arrow-left icon-arrow-left\", \"back\"], [\"Forward\", \"Forward to next view\", \"fa fa-arrow-right icon-arrow-right\", \"forward\"], [\"\", \"\", \"\", \"\"], [\"Pan\", \"Pan axes with left mouse, zoom with right\", \"fa fa-arrows icon-move\", \"pan\"], [\"Zoom\", \"Zoom to rectangle\", \"fa fa-square-o icon-check-empty\", \"zoom\"], [\"\", \"\", \"\", \"\"], [\"Download\", \"Download plot\", \"fa fa-floppy-o icon-save\", \"download\"]];\n",
       "\n",
       "mpl.extensions = [\"eps\", \"jpeg\", \"pdf\", \"png\", \"ps\", \"raw\", \"svg\", \"tif\"];\n",
       "\n",
       "mpl.default_extension = \"png\";var comm_websocket_adapter = function(comm) {\n",
       "    // Create a \"websocket\"-like object which calls the given IPython comm\n",
       "    // object with the appropriate methods. Currently this is a non binary\n",
       "    // socket, so there is still some room for performance tuning.\n",
       "    var ws = {};\n",
       "\n",
       "    ws.close = function() {\n",
       "        comm.close()\n",
       "    };\n",
       "    ws.send = function(m) {\n",
       "        //console.log('sending', m);\n",
       "        comm.send(m);\n",
       "    };\n",
       "    // Register the callback with on_msg.\n",
       "    comm.on_msg(function(msg) {\n",
       "        //console.log('receiving', msg['content']['data'], msg);\n",
       "        // Pass the mpl event to the overridden (by mpl) onmessage function.\n",
       "        ws.onmessage(msg['content']['data'])\n",
       "    });\n",
       "    return ws;\n",
       "}\n",
       "\n",
       "mpl.mpl_figure_comm = function(comm, msg) {\n",
       "    // This is the function which gets called when the mpl process\n",
       "    // starts-up an IPython Comm through the \"matplotlib\" channel.\n",
       "\n",
       "    var id = msg.content.data.id;\n",
       "    // Get hold of the div created by the display call when the Comm\n",
       "    // socket was opened in Python.\n",
       "    var element = $(\"#\" + id);\n",
       "    var ws_proxy = comm_websocket_adapter(comm)\n",
       "\n",
       "    function ondownload(figure, format) {\n",
       "        window.open(figure.imageObj.src);\n",
       "    }\n",
       "\n",
       "    var fig = new mpl.figure(id, ws_proxy,\n",
       "                           ondownload,\n",
       "                           element.get(0));\n",
       "\n",
       "    // Call onopen now - mpl needs it, as it is assuming we've passed it a real\n",
       "    // web socket which is closed, not our websocket->open comm proxy.\n",
       "    ws_proxy.onopen();\n",
       "\n",
       "    fig.parent_element = element.get(0);\n",
       "    fig.cell_info = mpl.find_output_cell(\"<div id='\" + id + \"'></div>\");\n",
       "    if (!fig.cell_info) {\n",
       "        console.error(\"Failed to find cell for figure\", id, fig);\n",
       "        return;\n",
       "    }\n",
       "\n",
       "    var output_index = fig.cell_info[2]\n",
       "    var cell = fig.cell_info[0];\n",
       "\n",
       "};\n",
       "\n",
       "mpl.figure.prototype.handle_close = function(fig, msg) {\n",
       "    var width = fig.canvas.width/mpl.ratio\n",
       "    fig.root.unbind('remove')\n",
       "\n",
       "    // Update the output cell to use the data from the current canvas.\n",
       "    fig.push_to_output();\n",
       "    var dataURL = fig.canvas.toDataURL();\n",
       "    // Re-enable the keyboard manager in IPython - without this line, in FF,\n",
       "    // the notebook keyboard shortcuts fail.\n",
       "    IPython.keyboard_manager.enable()\n",
       "    $(fig.parent_element).html('<img src=\"' + dataURL + '\" width=\"' + width + '\">');\n",
       "    fig.close_ws(fig, msg);\n",
       "}\n",
       "\n",
       "mpl.figure.prototype.close_ws = function(fig, msg){\n",
       "    fig.send_message('closing', msg);\n",
       "    // fig.ws.close()\n",
       "}\n",
       "\n",
       "mpl.figure.prototype.push_to_output = function(remove_interactive) {\n",
       "    // Turn the data on the canvas into data in the output cell.\n",
       "    var width = this.canvas.width/mpl.ratio\n",
       "    var dataURL = this.canvas.toDataURL();\n",
       "    this.cell_info[1]['text/html'] = '<img src=\"' + dataURL + '\" width=\"' + width + '\">';\n",
       "}\n",
       "\n",
       "mpl.figure.prototype.updated_canvas_event = function() {\n",
       "    // Tell IPython that the notebook contents must change.\n",
       "    IPython.notebook.set_dirty(true);\n",
       "    this.send_message(\"ack\", {});\n",
       "    var fig = this;\n",
       "    // Wait a second, then push the new image to the DOM so\n",
       "    // that it is saved nicely (might be nice to debounce this).\n",
       "    setTimeout(function () { fig.push_to_output() }, 1000);\n",
       "}\n",
       "\n",
       "mpl.figure.prototype._init_toolbar = function() {\n",
       "    var fig = this;\n",
       "\n",
       "    var nav_element = $('<div/>');\n",
       "    nav_element.attr('style', 'width: 100%');\n",
       "    this.root.append(nav_element);\n",
       "\n",
       "    // Define a callback function for later on.\n",
       "    function toolbar_event(event) {\n",
       "        return fig.toolbar_button_onclick(event['data']);\n",
       "    }\n",
       "    function toolbar_mouse_event(event) {\n",
       "        return fig.toolbar_button_onmouseover(event['data']);\n",
       "    }\n",
       "\n",
       "    for(var toolbar_ind in mpl.toolbar_items){\n",
       "        var name = mpl.toolbar_items[toolbar_ind][0];\n",
       "        var tooltip = mpl.toolbar_items[toolbar_ind][1];\n",
       "        var image = mpl.toolbar_items[toolbar_ind][2];\n",
       "        var method_name = mpl.toolbar_items[toolbar_ind][3];\n",
       "\n",
       "        if (!name) { continue; };\n",
       "\n",
       "        var button = $('<button class=\"btn btn-default\" href=\"#\" title=\"' + name + '\"><i class=\"fa ' + image + ' fa-lg\"></i></button>');\n",
       "        button.click(method_name, toolbar_event);\n",
       "        button.mouseover(tooltip, toolbar_mouse_event);\n",
       "        nav_element.append(button);\n",
       "    }\n",
       "\n",
       "    // Add the status bar.\n",
       "    var status_bar = $('<span class=\"mpl-message\" style=\"text-align:right; float: right;\"/>');\n",
       "    nav_element.append(status_bar);\n",
       "    this.message = status_bar[0];\n",
       "\n",
       "    // Add the close button to the window.\n",
       "    var buttongrp = $('<div class=\"btn-group inline pull-right\"></div>');\n",
       "    var button = $('<button class=\"btn btn-mini btn-primary\" href=\"#\" title=\"Stop Interaction\"><i class=\"fa fa-power-off icon-remove icon-large\"></i></button>');\n",
       "    button.click(function (evt) { fig.handle_close(fig, {}); } );\n",
       "    button.mouseover('Stop Interaction', toolbar_mouse_event);\n",
       "    buttongrp.append(button);\n",
       "    var titlebar = this.root.find($('.ui-dialog-titlebar'));\n",
       "    titlebar.prepend(buttongrp);\n",
       "}\n",
       "\n",
       "mpl.figure.prototype._root_extra_style = function(el){\n",
       "    var fig = this\n",
       "    el.on(\"remove\", function(){\n",
       "\tfig.close_ws(fig, {});\n",
       "    });\n",
       "}\n",
       "\n",
       "mpl.figure.prototype._canvas_extra_style = function(el){\n",
       "    // this is important to make the div 'focusable\n",
       "    el.attr('tabindex', 0)\n",
       "    // reach out to IPython and tell the keyboard manager to turn it's self\n",
       "    // off when our div gets focus\n",
       "\n",
       "    // location in version 3\n",
       "    if (IPython.notebook.keyboard_manager) {\n",
       "        IPython.notebook.keyboard_manager.register_events(el);\n",
       "    }\n",
       "    else {\n",
       "        // location in version 2\n",
       "        IPython.keyboard_manager.register_events(el);\n",
       "    }\n",
       "\n",
       "}\n",
       "\n",
       "mpl.figure.prototype._key_event_extra = function(event, name) {\n",
       "    var manager = IPython.notebook.keyboard_manager;\n",
       "    if (!manager)\n",
       "        manager = IPython.keyboard_manager;\n",
       "\n",
       "    // Check for shift+enter\n",
       "    if (event.shiftKey && event.which == 13) {\n",
       "        this.canvas_div.blur();\n",
       "        // select the cell after this one\n",
       "        var index = IPython.notebook.find_cell_index(this.cell_info[0]);\n",
       "        IPython.notebook.select(index + 1);\n",
       "    }\n",
       "}\n",
       "\n",
       "mpl.figure.prototype.handle_save = function(fig, msg) {\n",
       "    fig.ondownload(fig, null);\n",
       "}\n",
       "\n",
       "\n",
       "mpl.find_output_cell = function(html_output) {\n",
       "    // Return the cell and output element which can be found *uniquely* in the notebook.\n",
       "    // Note - this is a bit hacky, but it is done because the \"notebook_saving.Notebook\"\n",
       "    // IPython event is triggered only after the cells have been serialised, which for\n",
       "    // our purposes (turning an active figure into a static one), is too late.\n",
       "    var cells = IPython.notebook.get_cells();\n",
       "    var ncells = cells.length;\n",
       "    for (var i=0; i<ncells; i++) {\n",
       "        var cell = cells[i];\n",
       "        if (cell.cell_type === 'code'){\n",
       "            for (var j=0; j<cell.output_area.outputs.length; j++) {\n",
       "                var data = cell.output_area.outputs[j];\n",
       "                if (data.data) {\n",
       "                    // IPython >= 3 moved mimebundle to data attribute of output\n",
       "                    data = data.data;\n",
       "                }\n",
       "                if (data['text/html'] == html_output) {\n",
       "                    return [cell, data, j];\n",
       "                }\n",
       "            }\n",
       "        }\n",
       "    }\n",
       "}\n",
       "\n",
       "// Register the function which deals with the matplotlib target/channel.\n",
       "// The kernel may be null if the page has been refreshed.\n",
       "if (IPython.notebook.kernel != null) {\n",
       "    IPython.notebook.kernel.comm_manager.register_target('matplotlib', mpl.mpl_figure_comm);\n",
       "}\n"
      ],
      "text/plain": [
       "<IPython.core.display.Javascript object>"
      ]
     },
     "metadata": {},
     "output_type": "display_data"
    },
    {
     "data": {
      "text/html": [
       "<img src=\"data:image/png;base64,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\" width=\"640\">"
      ],
      "text/plain": [
       "<IPython.core.display.HTML object>"
      ]
     },
     "metadata": {},
     "output_type": "display_data"
    }
   ],
   "source": [
    "plt.figure() # create a new figure\n",
    "SE3().plot(frame='0', dims=[-1.5,1.5], color='black')\n",
    "R2.plot(frame='2')"
   ]
  },
  {
   "cell_type": "markdown",
   "metadata": {},
   "source": [
    "We can convert any rotation matrix back to its 3-angle representation"
   ]
  },
  {
   "cell_type": "code",
   "execution_count": 13,
   "metadata": {},
   "outputs": [
    {
     "ename": "NameError",
     "evalue": "name 'R' is not defined",
     "output_type": "error",
     "traceback": [
      "\u001b[0;31m---------------------------------------------------------------------------\u001b[0m",
      "\u001b[0;31mNameError\u001b[0m                                 Traceback (most recent call last)",
      "\u001b[0;32m<ipython-input-13-f6a28d576229>\u001b[0m in \u001b[0;36m<module>\u001b[0;34m\u001b[0m\n\u001b[0;32m----> 1\u001b[0;31m \u001b[0mR\u001b[0m\u001b[0;34m.\u001b[0m\u001b[0mrpy\u001b[0m\u001b[0;34m\u001b[0m\u001b[0;34m\u001b[0m\u001b[0m\n\u001b[0m",
      "\u001b[0;31mNameError\u001b[0m: name 'R' is not defined"
     ]
    }
   ],
   "source": [
    "R2.rpy"
   ]
  },
  {
   "cell_type": "markdown",
   "metadata": {},
   "source": [
    "### Constructors\n",
    "\n",
    "The default constructor yields a null rotation"
   ]
  },
  {
   "cell_type": "code",
   "execution_count": 14,
   "metadata": {},
   "outputs": [
    {
     "data": {
      "text/plain": [
       "  \u001b[38;5;1m\u001b[48;5;255m 1        \u001b[0m\u001b[38;5;1m\u001b[48;5;255m 0        \u001b[0m\u001b[38;5;1m\u001b[48;5;255m 0        \u001b[0m\u001b[48;5;255m  \u001b[0m\n",
       "  \u001b[38;5;1m\u001b[48;5;255m 0        \u001b[0m\u001b[38;5;1m\u001b[48;5;255m 1        \u001b[0m\u001b[38;5;1m\u001b[48;5;255m 0        \u001b[0m\u001b[48;5;255m  \u001b[0m\n",
       "  \u001b[38;5;1m\u001b[48;5;255m 0        \u001b[0m\u001b[38;5;1m\u001b[48;5;255m 0        \u001b[0m\u001b[38;5;1m\u001b[48;5;255m 1        \u001b[0m\u001b[48;5;255m  \u001b[0m"
      ]
     },
     "execution_count": 14,
     "metadata": {},
     "output_type": "execute_result"
    }
   ],
   "source": [
    "SO3()"
   ]
  },
  {
   "cell_type": "markdown",
   "metadata": {},
   "source": [
    "which is represented by the identity matrix.\n",
    "\n",
    "The class supports a number of variant constructors using class methods:\n",
    "\n",
    "| Constructor   |  rotation |\n",
    "|---------------|-----------|\n",
    "| SO3()          | null rotation |\n",
    "| SO3.Rx(theta)  |  about X-axis |\n",
    "| SO3.Ry(theta)  |  about Y-axis|\n",
    "| SO3.Rz(theta)  |  about Z-axis|\n",
    "| SO3.RPY(rpy)  |  from roll-pitch-yaw angle vector|\n",
    "| SO3.Eul(euler)  | from Euler angle vector |\n",
    "| SO3.AngVec(theta, v)  | from rotation and axis |\n",
    "| SO3.Omega(v)  | from a twist vector |\n",
    "| SO3.OA  | from orientation and approach vectors |"
   ]
  },
  {
   "cell_type": "markdown",
   "metadata": {},
   "source": [
    "Imagine we want a rotation that describes a frame that has its y-axis (o-vector) pointing in the world negative z-axis direction and its z-axis (a-vector) pointing in the world x-axis direction"
   ]
  },
  {
   "cell_type": "code",
   "execution_count": 15,
   "metadata": {},
   "outputs": [
    {
     "data": {
      "text/plain": [
       "  \u001b[38;5;1m\u001b[48;5;255m 0        \u001b[0m\u001b[38;5;1m\u001b[48;5;255m 0        \u001b[0m\u001b[38;5;1m\u001b[48;5;255m 1        \u001b[0m\u001b[48;5;255m  \u001b[0m\n",
       "  \u001b[38;5;1m\u001b[48;5;255m-1        \u001b[0m\u001b[38;5;1m\u001b[48;5;255m 0        \u001b[0m\u001b[38;5;1m\u001b[48;5;255m 0        \u001b[0m\u001b[48;5;255m  \u001b[0m\n",
       "  \u001b[38;5;1m\u001b[48;5;255m 0        \u001b[0m\u001b[38;5;1m\u001b[48;5;255m-1        \u001b[0m\u001b[38;5;1m\u001b[48;5;255m 0        \u001b[0m\u001b[48;5;255m  \u001b[0m"
      ]
     },
     "execution_count": 15,
     "metadata": {},
     "output_type": "execute_result"
    }
   ],
   "source": [
    "SO3.OA(o=[0,0,-1], a=[1,0,0])"
   ]
  },
  {
   "cell_type": "markdown",
   "metadata": {},
   "source": [
    "We can redo our earlier example using `SO3.Rx()` with the explicit angle-axis notation"
   ]
  },
  {
   "cell_type": "code",
   "execution_count": 16,
   "metadata": {},
   "outputs": [
    {
     "data": {
      "text/plain": [
       "  \u001b[38;5;1m\u001b[48;5;255m 1        \u001b[0m\u001b[38;5;1m\u001b[48;5;255m 0        \u001b[0m\u001b[38;5;1m\u001b[48;5;255m 0        \u001b[0m\u001b[48;5;255m  \u001b[0m\n",
       "  \u001b[38;5;1m\u001b[48;5;255m 0        \u001b[0m\u001b[38;5;1m\u001b[48;5;255m 0.707107 \u001b[0m\u001b[38;5;1m\u001b[48;5;255m-0.707107 \u001b[0m\u001b[48;5;255m  \u001b[0m\n",
       "  \u001b[38;5;1m\u001b[48;5;255m 0        \u001b[0m\u001b[38;5;1m\u001b[48;5;255m 0.707107 \u001b[0m\u001b[38;5;1m\u001b[48;5;255m 0.707107 \u001b[0m\u001b[48;5;255m  \u001b[0m"
      ]
     },
     "execution_count": 16,
     "metadata": {},
     "output_type": "execute_result"
    }
   ],
   "source": [
    "SO3.AngVec(pi/4, [1,0,0])"
   ]
  },
  {
   "cell_type": "markdown",
   "metadata": {},
   "source": [
    "or"
   ]
  },
  {
   "cell_type": "code",
   "execution_count": 17,
   "metadata": {},
   "outputs": [
    {
     "ename": "TypeError",
     "evalue": "exp() missing 1 required positional argument: 'arg'",
     "output_type": "error",
     "traceback": [
      "\u001b[0;31m---------------------------------------------------------------------------\u001b[0m",
      "\u001b[0;31mTypeError\u001b[0m                                 Traceback (most recent call last)",
      "\u001b[0;32m<ipython-input-17-cdf6daef75b3>\u001b[0m in \u001b[0;36m<module>\u001b[0;34m\u001b[0m\n\u001b[0;32m----> 1\u001b[0;31m \u001b[0mSO3\u001b[0m\u001b[0;34m.\u001b[0m\u001b[0mexp\u001b[0m\u001b[0;34m(\u001b[0m\u001b[0;34m[\u001b[0m\u001b[0mpi\u001b[0m\u001b[0;34m/\u001b[0m\u001b[0;36m4\u001b[0m\u001b[0;34m,\u001b[0m\u001b[0;36m0\u001b[0m\u001b[0;34m,\u001b[0m\u001b[0;36m0\u001b[0m\u001b[0;34m]\u001b[0m\u001b[0;34m)\u001b[0m\u001b[0;34m\u001b[0m\u001b[0;34m\u001b[0m\u001b[0m\n\u001b[0m",
      "\u001b[0;31mTypeError\u001b[0m: exp() missing 1 required positional argument: 'arg'"
     ]
    }
   ],
   "source": [
    "SO3.exp([pi/4,0,0])"
   ]
  },
  {
   "cell_type": "markdown",
   "metadata": {},
   "source": [
    "or a more complex example"
   ]
  },
  {
   "cell_type": "code",
   "execution_count": 18,
   "metadata": {},
   "outputs": [
    {
     "data": {
      "text/plain": [
       "  \u001b[38;5;1m\u001b[48;5;255m 0.875595 \u001b[0m\u001b[38;5;1m\u001b[48;5;255m-0.381753 \u001b[0m\u001b[38;5;1m\u001b[48;5;255m 0.29597  \u001b[0m\u001b[48;5;255m  \u001b[0m\n",
       "  \u001b[38;5;1m\u001b[48;5;255m 0.420031 \u001b[0m\u001b[38;5;1m\u001b[48;5;255m 0.904304 \u001b[0m\u001b[38;5;1m\u001b[48;5;255m-0.0762129\u001b[0m\u001b[48;5;255m  \u001b[0m\n",
       "  \u001b[38;5;1m\u001b[48;5;255m-0.238552 \u001b[0m\u001b[38;5;1m\u001b[48;5;255m 0.191048 \u001b[0m\u001b[38;5;1m\u001b[48;5;255m 0.952152 \u001b[0m\u001b[48;5;255m  \u001b[0m"
      ]
     },
     "execution_count": 18,
     "metadata": {},
     "output_type": "execute_result"
    }
   ],
   "source": [
    "SO3.AngVec(30, [1,2,3], unit='deg')"
   ]
  },
  {
   "cell_type": "markdown",
   "metadata": {},
   "source": [
    "### Properties\n",
    "\n",
    "The object has a number of properties, such as the columns which are often written as ${\\bf R} = [n, o, a]$ where $n$, $o$ and $a$ are 3-vectors.  For example"
   ]
  },
  {
   "cell_type": "code",
   "execution_count": 25,
   "metadata": {},
   "outputs": [
    {
     "data": {
      "text/plain": [
       "array([1., 0., 0.])"
      ]
     },
     "execution_count": 25,
     "metadata": {},
     "output_type": "execute_result"
    }
   ],
   "source": [
    "R1.n"
   ]
  },
  {
   "cell_type": "markdown",
   "metadata": {},
   "source": [
    "or its inverse (in this case its transpose)"
   ]
  },
  {
   "cell_type": "code",
   "execution_count": 26,
   "metadata": {},
   "outputs": [
    {
     "data": {
      "text/plain": [
       "  \u001b[38;5;1m\u001b[48;5;255m 1        \u001b[0m\u001b[38;5;1m\u001b[48;5;255m 0        \u001b[0m\u001b[38;5;1m\u001b[48;5;255m 0        \u001b[0m\u001b[48;5;255m  \u001b[0m\n",
       "  \u001b[38;5;1m\u001b[48;5;255m 0        \u001b[0m\u001b[38;5;1m\u001b[48;5;255m 0.707107 \u001b[0m\u001b[38;5;1m\u001b[48;5;255m 0.707107 \u001b[0m\u001b[48;5;255m  \u001b[0m\n",
       "  \u001b[38;5;1m\u001b[48;5;255m 0        \u001b[0m\u001b[38;5;1m\u001b[48;5;255m-0.707107 \u001b[0m\u001b[38;5;1m\u001b[48;5;255m 0.707107 \u001b[0m\u001b[48;5;255m  \u001b[0m"
      ]
     },
     "execution_count": 26,
     "metadata": {},
     "output_type": "execute_result"
    }
   ],
   "source": [
    "R1.inv"
   ]
  },
  {
   "cell_type": "markdown",
   "metadata": {},
   "source": [
    "the shape of the underlying matrix"
   ]
  },
  {
   "cell_type": "code",
   "execution_count": 27,
   "metadata": {},
   "outputs": [
    {
     "data": {
      "text/plain": [
       "(3, 3)"
      ]
     },
     "execution_count": 27,
     "metadata": {},
     "output_type": "execute_result"
    }
   ],
   "source": [
    "R1.shape"
   ]
  },
  {
   "cell_type": "markdown",
   "metadata": {},
   "source": [
    "and the order"
   ]
  },
  {
   "cell_type": "code",
   "execution_count": 28,
   "metadata": {},
   "outputs": [
    {
     "data": {
      "text/plain": [
       "3"
      ]
     },
     "execution_count": 28,
     "metadata": {},
     "output_type": "execute_result"
    }
   ],
   "source": [
    "R1.N"
   ]
  },
  {
   "cell_type": "markdown",
   "metadata": {},
   "source": [
    "indicating it operates in 3D space."
   ]
  },
  {
   "cell_type": "markdown",
   "metadata": {},
   "source": [
    "### Predicates\n",
    "\n",
    "We can check various properties of the object using properties and methods that are common to all classes in this package"
   ]
  },
  {
   "cell_type": "code",
   "execution_count": 29,
   "metadata": {},
   "outputs": [
    {
     "data": {
      "text/plain": [
       "[False, True, True, False, False, False]"
      ]
     },
     "execution_count": 29,
     "metadata": {},
     "output_type": "execute_result"
    }
   ],
   "source": [
    "[R1.isSE, R1.isSO, R1.isrot(), R1.ishom(), R1.isrot2(), R1.ishom2()]"
   ]
  },
  {
   "cell_type": "markdown",
   "metadata": {},
   "source": [
    "The last four in this list provide compatibility with the Spatial Math Toolbox for MATLAB."
   ]
  },
  {
   "cell_type": "markdown",
   "metadata": {},
   "source": [
    "## Quaternions\n",
    "\n",
    "A quaternion is often described as a type of complex number but it is more useful (and simpler) to think of it as an order pair comprising a scalar and a vector.  We can create a quaternions"
   ]
  },
  {
   "cell_type": "code",
   "execution_count": 112,
   "metadata": {},
   "outputs": [
    {
     "data": {
      "text/plain": [
       "1.000000 < 2.000000, 3.000000, 4.000000 >"
      ]
     },
     "execution_count": 112,
     "metadata": {},
     "output_type": "execute_result"
    }
   ],
   "source": [
    "q1 = Quaternion([1,2,3,4])\n",
    "q1"
   ]
  },
  {
   "cell_type": "markdown",
   "metadata": {},
   "source": [
    "where the scalar is before the angle brackets which enclose the vector part.  \n",
    "\n",
    "Properties allow us to extract the scalar part"
   ]
  },
  {
   "cell_type": "code",
   "execution_count": 113,
   "metadata": {},
   "outputs": [
    {
     "data": {
      "text/plain": [
       "1"
      ]
     },
     "execution_count": 113,
     "metadata": {},
     "output_type": "execute_result"
    }
   ],
   "source": [
    "q1.s"
   ]
  },
  {
   "cell_type": "markdown",
   "metadata": {},
   "source": [
    "and the vector part"
   ]
  },
  {
   "cell_type": "code",
   "execution_count": 114,
   "metadata": {},
   "outputs": [
    {
     "data": {
      "text/plain": [
       "array([2, 3, 4])"
      ]
     },
     "execution_count": 114,
     "metadata": {},
     "output_type": "execute_result"
    }
   ],
   "source": [
    "q1.v"
   ]
  },
  {
   "cell_type": "markdown",
   "metadata": {},
   "source": [
    "and we can represent it as a numpy array"
   ]
  },
  {
   "cell_type": "code",
   "execution_count": 115,
   "metadata": {},
   "outputs": [
    {
     "data": {
      "text/plain": [
       "array([1, 2, 3, 4])"
      ]
     },
     "execution_count": 115,
     "metadata": {},
     "output_type": "execute_result"
    }
   ],
   "source": [
    "q1.vec"
   ]
  },
  {
   "cell_type": "markdown",
   "metadata": {},
   "source": [
    "A quaternion has a conjugate"
   ]
  },
  {
   "cell_type": "code",
   "execution_count": 116,
   "metadata": {},
   "outputs": [
    {
     "data": {
      "text/plain": [
       "1.000000 < -2.000000, -3.000000, -4.000000 >"
      ]
     },
     "execution_count": 116,
     "metadata": {},
     "output_type": "execute_result"
    }
   ],
   "source": [
    "q1.conj"
   ]
  },
  {
   "cell_type": "markdown",
   "metadata": {},
   "source": [
    "and a norm, which is the magnitude of the equivalent 4-vector "
   ]
  },
  {
   "cell_type": "code",
   "execution_count": 117,
   "metadata": {},
   "outputs": [
    {
     "data": {
      "text/plain": [
       "5.477225575051661"
      ]
     },
     "execution_count": 117,
     "metadata": {},
     "output_type": "execute_result"
    }
   ],
   "source": [
    "q1.norm"
   ]
  },
  {
   "cell_type": "markdown",
   "metadata": {},
   "source": [
    "We can create a second quaternion"
   ]
  },
  {
   "cell_type": "code",
   "execution_count": 118,
   "metadata": {},
   "outputs": [
    {
     "data": {
      "text/plain": [
       "5.000000 < 6.000000, 7.000000, 8.000000 >"
      ]
     },
     "execution_count": 118,
     "metadata": {},
     "output_type": "execute_result"
    }
   ],
   "source": [
    "q2 = Quaternion([5,6,7,8])\n",
    "q2"
   ]
  },
  {
   "cell_type": "markdown",
   "metadata": {},
   "source": [
    "Operators allow us to add"
   ]
  },
  {
   "cell_type": "code",
   "execution_count": 119,
   "metadata": {},
   "outputs": [
    {
     "data": {
      "text/plain": [
       "6.000000 < 8.000000, 10.000000, 12.000000 >"
      ]
     },
     "execution_count": 119,
     "metadata": {},
     "output_type": "execute_result"
    }
   ],
   "source": [
    "q1 + q2"
   ]
  },
  {
   "cell_type": "markdown",
   "metadata": {},
   "source": [
    "subtract"
   ]
  },
  {
   "cell_type": "code",
   "execution_count": 120,
   "metadata": {},
   "outputs": [
    {
     "data": {
      "text/plain": [
       "-4.000000 < -4.000000, -4.000000, -4.000000 >"
      ]
     },
     "execution_count": 120,
     "metadata": {},
     "output_type": "execute_result"
    }
   ],
   "source": [
    "q1 - q2"
   ]
  },
  {
   "cell_type": "markdown",
   "metadata": {},
   "source": [
    "and to multiply"
   ]
  },
  {
   "cell_type": "code",
   "execution_count": 121,
   "metadata": {},
   "outputs": [
    {
     "data": {
      "text/plain": [
       "-60.000000 < 12.000000, 30.000000, 24.000000 >"
      ]
     },
     "execution_count": 121,
     "metadata": {},
     "output_type": "execute_result"
    }
   ],
   "source": [
    "q1 * q2"
   ]
  },
  {
   "cell_type": "markdown",
   "metadata": {},
   "source": [
    "which follows the special rules of Hamilton multiplication.\n",
    "\n",
    "Multiplication can also be performed as the linear algebraic product of one quaternion converted to a 4x4 matrix  "
   ]
  },
  {
   "cell_type": "code",
   "execution_count": 124,
   "metadata": {},
   "outputs": [
    {
     "data": {
      "text/plain": [
       "array([[ 1, -2, -3, -4],\n",
       "       [ 2,  1, -4,  3],\n",
       "       [ 3,  4,  1, -2],\n",
       "       [ 4, -3,  2,  1]])"
      ]
     },
     "execution_count": 124,
     "metadata": {},
     "output_type": "execute_result"
    }
   ],
   "source": [
    "q1.matrix"
   ]
  },
  {
   "cell_type": "markdown",
   "metadata": {},
   "source": [
    "and the other as a 4-vector "
   ]
  },
  {
   "cell_type": "code",
   "execution_count": 125,
   "metadata": {},
   "outputs": [
    {
     "data": {
      "text/plain": [
       "array([-60,  12,  30,  24])"
      ]
     },
     "execution_count": 125,
     "metadata": {},
     "output_type": "execute_result"
    }
   ],
   "source": [
    "q1.matrix @ q2.vec"
   ]
  },
  {
   "cell_type": "markdown",
   "metadata": {},
   "source": [
    "The product of a quaternion and its conjugate is a scalar equal to the square of its norm"
   ]
  },
  {
   "cell_type": "code",
   "execution_count": 127,
   "metadata": {},
   "outputs": [
    {
     "data": {
      "text/plain": [
       "30.000000 < 0.000000, 0.000000, 0.000000 >"
      ]
     },
     "execution_count": 127,
     "metadata": {},
     "output_type": "execute_result"
    }
   ],
   "source": [
    "q1 * q1.conj"
   ]
  },
  {
   "cell_type": "markdown",
   "metadata": {},
   "source": [
    "Conversely, a quaternion with a zero scalar part is called a _pure quaternion_"
   ]
  },
  {
   "cell_type": "code",
   "execution_count": 128,
   "metadata": {},
   "outputs": [
    {
     "data": {
      "text/plain": [
       "0.000000 < 1.000000, 2.000000, 3.000000 >"
      ]
     },
     "execution_count": 128,
     "metadata": {},
     "output_type": "execute_result"
    }
   ],
   "source": [
    "Quaternion.pure([1, 2, 3])"
   ]
  },
  {
   "cell_type": "markdown",
   "metadata": {},
   "source": [
    "### Unit quaternions\n",
    "\n",
    "A quaternion with a unit norm is called a _unit quaternion_ .  It is a group and its elements represent rotation in 3D space.  It is in all regards like an $\\mbox{SO}(3)$ matrix except for a _double mapping_ -- a quaternion and its element-wise negation represent the same rotation."
   ]
  },
  {
   "cell_type": "code",
   "execution_count": 129,
   "metadata": {},
   "outputs": [
    {
     "data": {
      "text/plain": [
       "0.965926 << 0.258819, 0.000000, 0.000000 >>"
      ]
     },
     "execution_count": 129,
     "metadata": {},
     "output_type": "execute_result"
    }
   ],
   "source": [
    "q1 = UnitQuaternion.Rx(30, 'deg')\n",
    "q1"
   ]
  },
  {
   "cell_type": "markdown",
   "metadata": {},
   "source": [
    "the convention is that unit quaternions are denoted using double angle brackets.  The norm, as advertised is indeed one"
   ]
  },
  {
   "cell_type": "code",
   "execution_count": 130,
   "metadata": {},
   "outputs": [
    {
     "data": {
      "text/plain": [
       "1.0"
      ]
     },
     "execution_count": 130,
     "metadata": {},
     "output_type": "execute_result"
    }
   ],
   "source": [
    "q1.norm"
   ]
  },
  {
   "cell_type": "markdown",
   "metadata": {},
   "source": [
    "We create another unit quaternion"
   ]
  },
  {
   "cell_type": "code",
   "execution_count": 131,
   "metadata": {},
   "outputs": [
    {
     "data": {
      "text/plain": [
       "0.939693 << 0.000000, -0.342020, 0.000000 >>"
      ]
     },
     "execution_count": 131,
     "metadata": {},
     "output_type": "execute_result"
    }
   ],
   "source": [
    "q2 = UnitQuaternion.Ry(-40, 'deg')\n",
    "q2"
   ]
  },
  {
   "cell_type": "markdown",
   "metadata": {},
   "source": [
    "The rotations can be composed by quaternion multiplication"
   ]
  },
  {
   "cell_type": "code",
   "execution_count": 132,
   "metadata": {},
   "outputs": [
    {
     "data": {
      "text/plain": [
       "0.907673 << 0.243210, -0.330366, -0.088521 >>"
      ]
     },
     "execution_count": 132,
     "metadata": {},
     "output_type": "execute_result"
    }
   ],
   "source": [
    "q3 = q1 * q2\n",
    "q3"
   ]
  },
  {
   "cell_type": "markdown",
   "metadata": {},
   "source": [
    "We can convert a quaternion to a rotation matrix"
   ]
  },
  {
   "cell_type": "code",
   "execution_count": 133,
   "metadata": {},
   "outputs": [
    {
     "data": {
      "text/plain": [
       "array([[ 0.76604444,  0.        , -0.64278761],\n",
       "       [-0.3213938 ,  0.8660254 , -0.38302222],\n",
       "       [ 0.5566704 ,  0.5       ,  0.66341395]])"
      ]
     },
     "execution_count": 133,
     "metadata": {},
     "output_type": "execute_result"
    }
   ],
   "source": [
    "q3.R"
   ]
  },
  {
   "cell_type": "markdown",
   "metadata": {},
   "source": [
    "which yields exactly the same answer as if we'd done it using SO(3) rotation matrices"
   ]
  },
  {
   "cell_type": "code",
   "execution_count": 134,
   "metadata": {},
   "outputs": [
    {
     "data": {
      "text/plain": [
       "  \u001b[38;5;1m\u001b[48;5;255m 0.766044 \u001b[0m\u001b[38;5;1m\u001b[48;5;255m 0        \u001b[0m\u001b[38;5;1m\u001b[48;5;255m-0.642788 \u001b[0m\u001b[48;5;255m  \u001b[0m\n",
       "  \u001b[38;5;1m\u001b[48;5;255m-0.321394 \u001b[0m\u001b[38;5;1m\u001b[48;5;255m 0.866025 \u001b[0m\u001b[38;5;1m\u001b[48;5;255m-0.383022 \u001b[0m\u001b[48;5;255m  \u001b[0m\n",
       "  \u001b[38;5;1m\u001b[48;5;255m 0.55667  \u001b[0m\u001b[38;5;1m\u001b[48;5;255m 0.5      \u001b[0m\u001b[38;5;1m\u001b[48;5;255m 0.663414 \u001b[0m\u001b[48;5;255m  \u001b[0m"
      ]
     },
     "execution_count": 134,
     "metadata": {},
     "output_type": "execute_result"
    }
   ],
   "source": [
    "SO3.Rx(30, 'deg') * SO3.Ry(-40, 'deg')"
   ]
  },
  {
   "cell_type": "markdown",
   "metadata": {},
   "source": [
    "The advantages of unit quaternions are that\n",
    "\n",
    "1. they are compact, just 4 numbers instead of 9\n",
    "2. multiplication involves fewer operations and is therefore faster\n",
    "3. numerical errors build up when we multiply rotation matrices together many times, and they lose the structure (the columns are no longer unit length or orthogonal).  Correcting this, the process of _normalization_ is expensive.  For unit quaternions errors will also compound, but normalization is simply a matter of dividing through by the norm"
   ]
  },
  {
   "cell_type": "markdown",
   "metadata": {},
   "source": [
    "Unit quaternions have an inverse"
   ]
  },
  {
   "cell_type": "code",
   "execution_count": 135,
   "metadata": {},
   "outputs": [
    {
     "data": {
      "text/plain": [
       "0.939693 << -0.000000, 0.342020, -0.000000 >>"
      ]
     },
     "execution_count": 135,
     "metadata": {},
     "output_type": "execute_result"
    }
   ],
   "source": [
    "q2.inv"
   ]
  },
  {
   "cell_type": "code",
   "execution_count": 136,
   "metadata": {},
   "outputs": [
    {
     "data": {
      "text/plain": [
       "0.907673 << 0.243210, 0.330366, 0.088521 >>"
      ]
     },
     "execution_count": 136,
     "metadata": {},
     "output_type": "execute_result"
    }
   ],
   "source": [
    "q1 * q2.inv"
   ]
  },
  {
   "cell_type": "markdown",
   "metadata": {},
   "source": [
    "or"
   ]
  },
  {
   "cell_type": "code",
   "execution_count": 137,
   "metadata": {},
   "outputs": [
    {
     "data": {
      "text/plain": [
       "0.907673 << 0.243210, 0.330366, 0.088521 >>"
      ]
     },
     "execution_count": 137,
     "metadata": {},
     "output_type": "execute_result"
    }
   ],
   "source": [
    "q1 / q2"
   ]
  },
  {
   "cell_type": "markdown",
   "metadata": {},
   "source": [
    "We can convert any unit quaternion to an SO3 object if we wish"
   ]
  },
  {
   "cell_type": "code",
   "execution_count": 138,
   "metadata": {},
   "outputs": [
    {
     "data": {
      "text/plain": [
       "  \u001b[38;5;1m\u001b[48;5;255m 1        \u001b[0m\u001b[38;5;1m\u001b[48;5;255m 0        \u001b[0m\u001b[38;5;1m\u001b[48;5;255m 0        \u001b[0m\u001b[48;5;255m  \u001b[0m\n",
       "  \u001b[38;5;1m\u001b[48;5;255m 0        \u001b[0m\u001b[38;5;1m\u001b[48;5;255m 0.866025 \u001b[0m\u001b[38;5;1m\u001b[48;5;255m-0.5      \u001b[0m\u001b[48;5;255m  \u001b[0m\n",
       "  \u001b[38;5;1m\u001b[48;5;255m 0        \u001b[0m\u001b[38;5;1m\u001b[48;5;255m 0.5      \u001b[0m\u001b[38;5;1m\u001b[48;5;255m 0.866025 \u001b[0m\u001b[48;5;255m  \u001b[0m"
      ]
     },
     "execution_count": 138,
     "metadata": {},
     "output_type": "execute_result"
    }
   ],
   "source": [
    "q1.SO3"
   ]
  },
  {
   "cell_type": "markdown",
   "metadata": {},
   "source": [
    "and conversely, any `SO3` object to a unit quaternion"
   ]
  },
  {
   "cell_type": "code",
   "execution_count": 142,
   "metadata": {},
   "outputs": [
    {
     "data": {
      "text/plain": [
       "0.965926 << 0.258819, 0.000000, 0.000000 >>"
      ]
     },
     "execution_count": 142,
     "metadata": {},
     "output_type": "execute_result"
    }
   ],
   "source": [
    "UnitQuaternion( SO3.Rx(30, 'deg'))"
   ]
  },
  {
   "cell_type": "markdown",
   "metadata": {},
   "source": [
    "A unit quaternion is not a minimal representation. Since we know the magnitude is 1, then with any 3 elements we can compute the fourth upto a sign ambiguity. "
   ]
  },
  {
   "cell_type": "code",
   "execution_count": 143,
   "metadata": {},
   "outputs": [
    {
     "data": {
      "text/plain": [
       "array([0.25881905, 0.        , 0.        ])"
      ]
     },
     "execution_count": 143,
     "metadata": {},
     "output_type": "execute_result"
    }
   ],
   "source": [
    "q1.vec3"
   ]
  },
  {
   "cell_type": "code",
   "execution_count": 144,
   "metadata": {},
   "outputs": [
    {
     "data": {
      "text/plain": [
       "array([ 0.24321035, -0.33036609, -0.08852133])"
      ]
     },
     "execution_count": 144,
     "metadata": {},
     "output_type": "execute_result"
    }
   ],
   "source": [
    "a = UnitQuaternion.qvmul( q1.vec3, q2.vec3)\n",
    "a"
   ]
  },
  {
   "cell_type": "markdown",
   "metadata": {},
   "source": [
    "from which we can recreate the unit quaternion"
   ]
  },
  {
   "cell_type": "code",
   "execution_count": 145,
   "metadata": {
    "scrolled": true
   },
   "outputs": [
    {
     "data": {
      "text/plain": [
       "0.907673 << 0.243210, -0.330366, -0.088521 >>"
      ]
     },
     "execution_count": 145,
     "metadata": {},
     "output_type": "execute_result"
    }
   ],
   "source": [
    "UnitQuaternion.Vec3(a)"
   ]
  },
  {
   "cell_type": "markdown",
   "metadata": {},
   "source": [
    "## Representing position\n",
    "\n",
    "In robotics we also need to describe the position of objects and we can do this with a _homogeneous transformation_ matrix – a 4x4 matrix – which belong to the group $\\mbox{SE}(3)$ which is a subset of all 4x4 real matrices.\n",
    "\n",
    "We can create such a matrix, for a translation of 1 in the x-direction, 2 in the y-direction and 3 in the z-direction by"
   ]
  },
  {
   "cell_type": "code",
   "execution_count": 30,
   "metadata": {},
   "outputs": [
    {
     "data": {
      "text/plain": [
       "  \u001b[38;5;1m\u001b[48;5;255m 1        \u001b[0m\u001b[38;5;1m\u001b[48;5;255m 0        \u001b[0m\u001b[38;5;1m\u001b[48;5;255m 0        \u001b[0m\u001b[38;5;4m\u001b[48;5;255m 1        \u001b[0m\u001b[48;5;255m  \u001b[0m\n",
       "  \u001b[38;5;1m\u001b[48;5;255m 0        \u001b[0m\u001b[38;5;1m\u001b[48;5;255m 1        \u001b[0m\u001b[38;5;1m\u001b[48;5;255m 0        \u001b[0m\u001b[38;5;4m\u001b[48;5;255m 2        \u001b[0m\u001b[48;5;255m  \u001b[0m\n",
       "  \u001b[38;5;1m\u001b[48;5;255m 0        \u001b[0m\u001b[38;5;1m\u001b[48;5;255m 0        \u001b[0m\u001b[38;5;1m\u001b[48;5;255m 1        \u001b[0m\u001b[38;5;4m\u001b[48;5;255m 3        \u001b[0m\u001b[48;5;255m  \u001b[0m\n",
       "  \u001b[38;5;244m\u001b[48;5;255m 0        \u001b[0m\u001b[38;5;244m\u001b[48;5;255m 0        \u001b[0m\u001b[38;5;244m\u001b[48;5;255m 0        \u001b[0m\u001b[38;5;244m\u001b[48;5;255m 1        \u001b[0m\u001b[48;5;255m  \u001b[0m"
      ]
     },
     "execution_count": 30,
     "metadata": {},
     "output_type": "execute_result"
    }
   ],
   "source": [
    "T1 = SE3(1, 2, 3)\n",
    "T1"
   ]
  },
  {
   "cell_type": "markdown",
   "metadata": {},
   "source": [
    "which is displayed in a color coded fashion: rotation matrix in red, translation vector in blue, and the constant bottom row in grey.  We note that the red matrix is an _identity matrix_ ."
   ]
  },
  {
   "cell_type": "markdown",
   "metadata": {},
   "source": [
    "The class supports a number of variant constructors using class methods.\n",
    "\n",
    "| Constructor   |  motion |\n",
    "|---------------|-----------|\n",
    "| SE3()      | null motion |\n",
    "| SE3.Tx(d)  |  translation along X-axis |\n",
    "| SE3.Ty(d)  |  translation along Y-axis |\n",
    "| SE3.Tz(d)  |  translation along Z-axis |\n",
    "| SE3.Rx(theta)  |  rotation about X-axis |\n",
    "| SE3.Ry(theta)  |  rotation about Y-axis|\n",
    "| SE3.Rz(theta)  |  rotation about Z-axis|\n",
    "| SE3.RPY(rpy)  |  rotation from roll-pitch-yaw angle vector|\n",
    "| SE3.Eul(euler)  | rotation from Euler angle vector |\n",
    "| SE3.AngVec(theta, v)  | rotation from rotation and axis |\n",
    "| SO3.Omega(v)  | from a twist vector |\n",
    "| SE3.OA(ovec, avec)  | rotation from orientation and approach vectors |"
   ]
  },
  {
   "cell_type": "markdown",
   "metadata": {},
   "source": [
    "We can visualize this"
   ]
  },
  {
   "cell_type": "code",
   "execution_count": 32,
   "metadata": {},
   "outputs": [
    {
     "data": {
      "application/javascript": [
       "/* Put everything inside the global mpl namespace */\n",
       "window.mpl = {};\n",
       "\n",
       "\n",
       "mpl.get_websocket_type = function() {\n",
       "    if (typeof(WebSocket) !== 'undefined') {\n",
       "        return WebSocket;\n",
       "    } else if (typeof(MozWebSocket) !== 'undefined') {\n",
       "        return MozWebSocket;\n",
       "    } else {\n",
       "        alert('Your browser does not have WebSocket support. ' +\n",
       "              'Please try Chrome, Safari or Firefox ≥ 6. ' +\n",
       "              'Firefox 4 and 5 are also supported but you ' +\n",
       "              'have to enable WebSockets in about:config.');\n",
       "    };\n",
       "}\n",
       "\n",
       "mpl.figure = function(figure_id, websocket, ondownload, parent_element) {\n",
       "    this.id = figure_id;\n",
       "\n",
       "    this.ws = websocket;\n",
       "\n",
       "    this.supports_binary = (this.ws.binaryType != undefined);\n",
       "\n",
       "    if (!this.supports_binary) {\n",
       "        var warnings = document.getElementById(\"mpl-warnings\");\n",
       "        if (warnings) {\n",
       "            warnings.style.display = 'block';\n",
       "            warnings.textContent = (\n",
       "                \"This browser does not support binary websocket messages. \" +\n",
       "                    \"Performance may be slow.\");\n",
       "        }\n",
       "    }\n",
       "\n",
       "    this.imageObj = new Image();\n",
       "\n",
       "    this.context = undefined;\n",
       "    this.message = undefined;\n",
       "    this.canvas = undefined;\n",
       "    this.rubberband_canvas = undefined;\n",
       "    this.rubberband_context = undefined;\n",
       "    this.format_dropdown = undefined;\n",
       "\n",
       "    this.image_mode = 'full';\n",
       "\n",
       "    this.root = $('<div/>');\n",
       "    this._root_extra_style(this.root)\n",
       "    this.root.attr('style', 'display: inline-block');\n",
       "\n",
       "    $(parent_element).append(this.root);\n",
       "\n",
       "    this._init_header(this);\n",
       "    this._init_canvas(this);\n",
       "    this._init_toolbar(this);\n",
       "\n",
       "    var fig = this;\n",
       "\n",
       "    this.waiting = false;\n",
       "\n",
       "    this.ws.onopen =  function () {\n",
       "            fig.send_message(\"supports_binary\", {value: fig.supports_binary});\n",
       "            fig.send_message(\"send_image_mode\", {});\n",
       "            if (mpl.ratio != 1) {\n",
       "                fig.send_message(\"set_dpi_ratio\", {'dpi_ratio': mpl.ratio});\n",
       "            }\n",
       "            fig.send_message(\"refresh\", {});\n",
       "        }\n",
       "\n",
       "    this.imageObj.onload = function() {\n",
       "            if (fig.image_mode == 'full') {\n",
       "                // Full images could contain transparency (where diff images\n",
       "                // almost always do), so we need to clear the canvas so that\n",
       "                // there is no ghosting.\n",
       "                fig.context.clearRect(0, 0, fig.canvas.width, fig.canvas.height);\n",
       "            }\n",
       "            fig.context.drawImage(fig.imageObj, 0, 0);\n",
       "        };\n",
       "\n",
       "    this.imageObj.onunload = function() {\n",
       "        fig.ws.close();\n",
       "    }\n",
       "\n",
       "    this.ws.onmessage = this._make_on_message_function(this);\n",
       "\n",
       "    this.ondownload = ondownload;\n",
       "}\n",
       "\n",
       "mpl.figure.prototype._init_header = function() {\n",
       "    var titlebar = $(\n",
       "        '<div class=\"ui-dialog-titlebar ui-widget-header ui-corner-all ' +\n",
       "        'ui-helper-clearfix\"/>');\n",
       "    var titletext = $(\n",
       "        '<div class=\"ui-dialog-title\" style=\"width: 100%; ' +\n",
       "        'text-align: center; padding: 3px;\"/>');\n",
       "    titlebar.append(titletext)\n",
       "    this.root.append(titlebar);\n",
       "    this.header = titletext[0];\n",
       "}\n",
       "\n",
       "\n",
       "\n",
       "mpl.figure.prototype._canvas_extra_style = function(canvas_div) {\n",
       "\n",
       "}\n",
       "\n",
       "\n",
       "mpl.figure.prototype._root_extra_style = function(canvas_div) {\n",
       "\n",
       "}\n",
       "\n",
       "mpl.figure.prototype._init_canvas = function() {\n",
       "    var fig = this;\n",
       "\n",
       "    var canvas_div = $('<div/>');\n",
       "\n",
       "    canvas_div.attr('style', 'position: relative; clear: both; outline: 0');\n",
       "\n",
       "    function canvas_keyboard_event(event) {\n",
       "        return fig.key_event(event, event['data']);\n",
       "    }\n",
       "\n",
       "    canvas_div.keydown('key_press', canvas_keyboard_event);\n",
       "    canvas_div.keyup('key_release', canvas_keyboard_event);\n",
       "    this.canvas_div = canvas_div\n",
       "    this._canvas_extra_style(canvas_div)\n",
       "    this.root.append(canvas_div);\n",
       "\n",
       "    var canvas = $('<canvas/>');\n",
       "    canvas.addClass('mpl-canvas');\n",
       "    canvas.attr('style', \"left: 0; top: 0; z-index: 0; outline: 0\")\n",
       "\n",
       "    this.canvas = canvas[0];\n",
       "    this.context = canvas[0].getContext(\"2d\");\n",
       "\n",
       "    var backingStore = this.context.backingStorePixelRatio ||\n",
       "\tthis.context.webkitBackingStorePixelRatio ||\n",
       "\tthis.context.mozBackingStorePixelRatio ||\n",
       "\tthis.context.msBackingStorePixelRatio ||\n",
       "\tthis.context.oBackingStorePixelRatio ||\n",
       "\tthis.context.backingStorePixelRatio || 1;\n",
       "\n",
       "    mpl.ratio = (window.devicePixelRatio || 1) / backingStore;\n",
       "\n",
       "    var rubberband = $('<canvas/>');\n",
       "    rubberband.attr('style', \"position: absolute; left: 0; top: 0; z-index: 1;\")\n",
       "\n",
       "    var pass_mouse_events = true;\n",
       "\n",
       "    canvas_div.resizable({\n",
       "        start: function(event, ui) {\n",
       "            pass_mouse_events = false;\n",
       "        },\n",
       "        resize: function(event, ui) {\n",
       "            fig.request_resize(ui.size.width, ui.size.height);\n",
       "        },\n",
       "        stop: function(event, ui) {\n",
       "            pass_mouse_events = true;\n",
       "            fig.request_resize(ui.size.width, ui.size.height);\n",
       "        },\n",
       "    });\n",
       "\n",
       "    function mouse_event_fn(event) {\n",
       "        if (pass_mouse_events)\n",
       "            return fig.mouse_event(event, event['data']);\n",
       "    }\n",
       "\n",
       "    rubberband.mousedown('button_press', mouse_event_fn);\n",
       "    rubberband.mouseup('button_release', mouse_event_fn);\n",
       "    // Throttle sequential mouse events to 1 every 20ms.\n",
       "    rubberband.mousemove('motion_notify', mouse_event_fn);\n",
       "\n",
       "    rubberband.mouseenter('figure_enter', mouse_event_fn);\n",
       "    rubberband.mouseleave('figure_leave', mouse_event_fn);\n",
       "\n",
       "    canvas_div.on(\"wheel\", function (event) {\n",
       "        event = event.originalEvent;\n",
       "        event['data'] = 'scroll'\n",
       "        if (event.deltaY < 0) {\n",
       "            event.step = 1;\n",
       "        } else {\n",
       "            event.step = -1;\n",
       "        }\n",
       "        mouse_event_fn(event);\n",
       "    });\n",
       "\n",
       "    canvas_div.append(canvas);\n",
       "    canvas_div.append(rubberband);\n",
       "\n",
       "    this.rubberband = rubberband;\n",
       "    this.rubberband_canvas = rubberband[0];\n",
       "    this.rubberband_context = rubberband[0].getContext(\"2d\");\n",
       "    this.rubberband_context.strokeStyle = \"#000000\";\n",
       "\n",
       "    this._resize_canvas = function(width, height) {\n",
       "        // Keep the size of the canvas, canvas container, and rubber band\n",
       "        // canvas in synch.\n",
       "        canvas_div.css('width', width)\n",
       "        canvas_div.css('height', height)\n",
       "\n",
       "        canvas.attr('width', width * mpl.ratio);\n",
       "        canvas.attr('height', height * mpl.ratio);\n",
       "        canvas.attr('style', 'width: ' + width + 'px; height: ' + height + 'px;');\n",
       "\n",
       "        rubberband.attr('width', width);\n",
       "        rubberband.attr('height', height);\n",
       "    }\n",
       "\n",
       "    // Set the figure to an initial 600x600px, this will subsequently be updated\n",
       "    // upon first draw.\n",
       "    this._resize_canvas(600, 600);\n",
       "\n",
       "    // Disable right mouse context menu.\n",
       "    $(this.rubberband_canvas).bind(\"contextmenu\",function(e){\n",
       "        return false;\n",
       "    });\n",
       "\n",
       "    function set_focus () {\n",
       "        canvas.focus();\n",
       "        canvas_div.focus();\n",
       "    }\n",
       "\n",
       "    window.setTimeout(set_focus, 100);\n",
       "}\n",
       "\n",
       "mpl.figure.prototype._init_toolbar = function() {\n",
       "    var fig = this;\n",
       "\n",
       "    var nav_element = $('<div/>');\n",
       "    nav_element.attr('style', 'width: 100%');\n",
       "    this.root.append(nav_element);\n",
       "\n",
       "    // Define a callback function for later on.\n",
       "    function toolbar_event(event) {\n",
       "        return fig.toolbar_button_onclick(event['data']);\n",
       "    }\n",
       "    function toolbar_mouse_event(event) {\n",
       "        return fig.toolbar_button_onmouseover(event['data']);\n",
       "    }\n",
       "\n",
       "    for(var toolbar_ind in mpl.toolbar_items) {\n",
       "        var name = mpl.toolbar_items[toolbar_ind][0];\n",
       "        var tooltip = mpl.toolbar_items[toolbar_ind][1];\n",
       "        var image = mpl.toolbar_items[toolbar_ind][2];\n",
       "        var method_name = mpl.toolbar_items[toolbar_ind][3];\n",
       "\n",
       "        if (!name) {\n",
       "            // put a spacer in here.\n",
       "            continue;\n",
       "        }\n",
       "        var button = $('<button/>');\n",
       "        button.addClass('ui-button ui-widget ui-state-default ui-corner-all ' +\n",
       "                        'ui-button-icon-only');\n",
       "        button.attr('role', 'button');\n",
       "        button.attr('aria-disabled', 'false');\n",
       "        button.click(method_name, toolbar_event);\n",
       "        button.mouseover(tooltip, toolbar_mouse_event);\n",
       "\n",
       "        var icon_img = $('<span/>');\n",
       "        icon_img.addClass('ui-button-icon-primary ui-icon');\n",
       "        icon_img.addClass(image);\n",
       "        icon_img.addClass('ui-corner-all');\n",
       "\n",
       "        var tooltip_span = $('<span/>');\n",
       "        tooltip_span.addClass('ui-button-text');\n",
       "        tooltip_span.html(tooltip);\n",
       "\n",
       "        button.append(icon_img);\n",
       "        button.append(tooltip_span);\n",
       "\n",
       "        nav_element.append(button);\n",
       "    }\n",
       "\n",
       "    var fmt_picker_span = $('<span/>');\n",
       "\n",
       "    var fmt_picker = $('<select/>');\n",
       "    fmt_picker.addClass('mpl-toolbar-option ui-widget ui-widget-content');\n",
       "    fmt_picker_span.append(fmt_picker);\n",
       "    nav_element.append(fmt_picker_span);\n",
       "    this.format_dropdown = fmt_picker[0];\n",
       "\n",
       "    for (var ind in mpl.extensions) {\n",
       "        var fmt = mpl.extensions[ind];\n",
       "        var option = $(\n",
       "            '<option/>', {selected: fmt === mpl.default_extension}).html(fmt);\n",
       "        fmt_picker.append(option);\n",
       "    }\n",
       "\n",
       "    // Add hover states to the ui-buttons\n",
       "    $( \".ui-button\" ).hover(\n",
       "        function() { $(this).addClass(\"ui-state-hover\");},\n",
       "        function() { $(this).removeClass(\"ui-state-hover\");}\n",
       "    );\n",
       "\n",
       "    var status_bar = $('<span class=\"mpl-message\"/>');\n",
       "    nav_element.append(status_bar);\n",
       "    this.message = status_bar[0];\n",
       "}\n",
       "\n",
       "mpl.figure.prototype.request_resize = function(x_pixels, y_pixels) {\n",
       "    // Request matplotlib to resize the figure. Matplotlib will then trigger a resize in the client,\n",
       "    // which will in turn request a refresh of the image.\n",
       "    this.send_message('resize', {'width': x_pixels, 'height': y_pixels});\n",
       "}\n",
       "\n",
       "mpl.figure.prototype.send_message = function(type, properties) {\n",
       "    properties['type'] = type;\n",
       "    properties['figure_id'] = this.id;\n",
       "    this.ws.send(JSON.stringify(properties));\n",
       "}\n",
       "\n",
       "mpl.figure.prototype.send_draw_message = function() {\n",
       "    if (!this.waiting) {\n",
       "        this.waiting = true;\n",
       "        this.ws.send(JSON.stringify({type: \"draw\", figure_id: this.id}));\n",
       "    }\n",
       "}\n",
       "\n",
       "\n",
       "mpl.figure.prototype.handle_save = function(fig, msg) {\n",
       "    var format_dropdown = fig.format_dropdown;\n",
       "    var format = format_dropdown.options[format_dropdown.selectedIndex].value;\n",
       "    fig.ondownload(fig, format);\n",
       "}\n",
       "\n",
       "\n",
       "mpl.figure.prototype.handle_resize = function(fig, msg) {\n",
       "    var size = msg['size'];\n",
       "    if (size[0] != fig.canvas.width || size[1] != fig.canvas.height) {\n",
       "        fig._resize_canvas(size[0], size[1]);\n",
       "        fig.send_message(\"refresh\", {});\n",
       "    };\n",
       "}\n",
       "\n",
       "mpl.figure.prototype.handle_rubberband = function(fig, msg) {\n",
       "    var x0 = msg['x0'] / mpl.ratio;\n",
       "    var y0 = (fig.canvas.height - msg['y0']) / mpl.ratio;\n",
       "    var x1 = msg['x1'] / mpl.ratio;\n",
       "    var y1 = (fig.canvas.height - msg['y1']) / mpl.ratio;\n",
       "    x0 = Math.floor(x0) + 0.5;\n",
       "    y0 = Math.floor(y0) + 0.5;\n",
       "    x1 = Math.floor(x1) + 0.5;\n",
       "    y1 = Math.floor(y1) + 0.5;\n",
       "    var min_x = Math.min(x0, x1);\n",
       "    var min_y = Math.min(y0, y1);\n",
       "    var width = Math.abs(x1 - x0);\n",
       "    var height = Math.abs(y1 - y0);\n",
       "\n",
       "    fig.rubberband_context.clearRect(\n",
       "        0, 0, fig.canvas.width / mpl.ratio, fig.canvas.height / mpl.ratio);\n",
       "\n",
       "    fig.rubberband_context.strokeRect(min_x, min_y, width, height);\n",
       "}\n",
       "\n",
       "mpl.figure.prototype.handle_figure_label = function(fig, msg) {\n",
       "    // Updates the figure title.\n",
       "    fig.header.textContent = msg['label'];\n",
       "}\n",
       "\n",
       "mpl.figure.prototype.handle_cursor = function(fig, msg) {\n",
       "    var cursor = msg['cursor'];\n",
       "    switch(cursor)\n",
       "    {\n",
       "    case 0:\n",
       "        cursor = 'pointer';\n",
       "        break;\n",
       "    case 1:\n",
       "        cursor = 'default';\n",
       "        break;\n",
       "    case 2:\n",
       "        cursor = 'crosshair';\n",
       "        break;\n",
       "    case 3:\n",
       "        cursor = 'move';\n",
       "        break;\n",
       "    }\n",
       "    fig.rubberband_canvas.style.cursor = cursor;\n",
       "}\n",
       "\n",
       "mpl.figure.prototype.handle_message = function(fig, msg) {\n",
       "    fig.message.textContent = msg['message'];\n",
       "}\n",
       "\n",
       "mpl.figure.prototype.handle_draw = function(fig, msg) {\n",
       "    // Request the server to send over a new figure.\n",
       "    fig.send_draw_message();\n",
       "}\n",
       "\n",
       "mpl.figure.prototype.handle_image_mode = function(fig, msg) {\n",
       "    fig.image_mode = msg['mode'];\n",
       "}\n",
       "\n",
       "mpl.figure.prototype.updated_canvas_event = function() {\n",
       "    // Called whenever the canvas gets updated.\n",
       "    this.send_message(\"ack\", {});\n",
       "}\n",
       "\n",
       "// A function to construct a web socket function for onmessage handling.\n",
       "// Called in the figure constructor.\n",
       "mpl.figure.prototype._make_on_message_function = function(fig) {\n",
       "    return function socket_on_message(evt) {\n",
       "        if (evt.data instanceof Blob) {\n",
       "            /* FIXME: We get \"Resource interpreted as Image but\n",
       "             * transferred with MIME type text/plain:\" errors on\n",
       "             * Chrome.  But how to set the MIME type?  It doesn't seem\n",
       "             * to be part of the websocket stream */\n",
       "            evt.data.type = \"image/png\";\n",
       "\n",
       "            /* Free the memory for the previous frames */\n",
       "            if (fig.imageObj.src) {\n",
       "                (window.URL || window.webkitURL).revokeObjectURL(\n",
       "                    fig.imageObj.src);\n",
       "            }\n",
       "\n",
       "            fig.imageObj.src = (window.URL || window.webkitURL).createObjectURL(\n",
       "                evt.data);\n",
       "            fig.updated_canvas_event();\n",
       "            fig.waiting = false;\n",
       "            return;\n",
       "        }\n",
       "        else if (typeof evt.data === 'string' && evt.data.slice(0, 21) == \"data:image/png;base64\") {\n",
       "            fig.imageObj.src = evt.data;\n",
       "            fig.updated_canvas_event();\n",
       "            fig.waiting = false;\n",
       "            return;\n",
       "        }\n",
       "\n",
       "        var msg = JSON.parse(evt.data);\n",
       "        var msg_type = msg['type'];\n",
       "\n",
       "        // Call the  \"handle_{type}\" callback, which takes\n",
       "        // the figure and JSON message as its only arguments.\n",
       "        try {\n",
       "            var callback = fig[\"handle_\" + msg_type];\n",
       "        } catch (e) {\n",
       "            console.log(\"No handler for the '\" + msg_type + \"' message type: \", msg);\n",
       "            return;\n",
       "        }\n",
       "\n",
       "        if (callback) {\n",
       "            try {\n",
       "                // console.log(\"Handling '\" + msg_type + \"' message: \", msg);\n",
       "                callback(fig, msg);\n",
       "            } catch (e) {\n",
       "                console.log(\"Exception inside the 'handler_\" + msg_type + \"' callback:\", e, e.stack, msg);\n",
       "            }\n",
       "        }\n",
       "    };\n",
       "}\n",
       "\n",
       "// from http://stackoverflow.com/questions/1114465/getting-mouse-location-in-canvas\n",
       "mpl.findpos = function(e) {\n",
       "    //this section is from http://www.quirksmode.org/js/events_properties.html\n",
       "    var targ;\n",
       "    if (!e)\n",
       "        e = window.event;\n",
       "    if (e.target)\n",
       "        targ = e.target;\n",
       "    else if (e.srcElement)\n",
       "        targ = e.srcElement;\n",
       "    if (targ.nodeType == 3) // defeat Safari bug\n",
       "        targ = targ.parentNode;\n",
       "\n",
       "    // jQuery normalizes the pageX and pageY\n",
       "    // pageX,Y are the mouse positions relative to the document\n",
       "    // offset() returns the position of the element relative to the document\n",
       "    var x = e.pageX - $(targ).offset().left;\n",
       "    var y = e.pageY - $(targ).offset().top;\n",
       "\n",
       "    return {\"x\": x, \"y\": y};\n",
       "};\n",
       "\n",
       "/*\n",
       " * return a copy of an object with only non-object keys\n",
       " * we need this to avoid circular references\n",
       " * http://stackoverflow.com/a/24161582/3208463\n",
       " */\n",
       "function simpleKeys (original) {\n",
       "  return Object.keys(original).reduce(function (obj, key) {\n",
       "    if (typeof original[key] !== 'object')\n",
       "        obj[key] = original[key]\n",
       "    return obj;\n",
       "  }, {});\n",
       "}\n",
       "\n",
       "mpl.figure.prototype.mouse_event = function(event, name) {\n",
       "    var canvas_pos = mpl.findpos(event)\n",
       "\n",
       "    if (name === 'button_press')\n",
       "    {\n",
       "        this.canvas.focus();\n",
       "        this.canvas_div.focus();\n",
       "    }\n",
       "\n",
       "    var x = canvas_pos.x * mpl.ratio;\n",
       "    var y = canvas_pos.y * mpl.ratio;\n",
       "\n",
       "    this.send_message(name, {x: x, y: y, button: event.button,\n",
       "                             step: event.step,\n",
       "                             guiEvent: simpleKeys(event)});\n",
       "\n",
       "    /* This prevents the web browser from automatically changing to\n",
       "     * the text insertion cursor when the button is pressed.  We want\n",
       "     * to control all of the cursor setting manually through the\n",
       "     * 'cursor' event from matplotlib */\n",
       "    event.preventDefault();\n",
       "    return false;\n",
       "}\n",
       "\n",
       "mpl.figure.prototype._key_event_extra = function(event, name) {\n",
       "    // Handle any extra behaviour associated with a key event\n",
       "}\n",
       "\n",
       "mpl.figure.prototype.key_event = function(event, name) {\n",
       "\n",
       "    // Prevent repeat events\n",
       "    if (name == 'key_press')\n",
       "    {\n",
       "        if (event.which === this._key)\n",
       "            return;\n",
       "        else\n",
       "            this._key = event.which;\n",
       "    }\n",
       "    if (name == 'key_release')\n",
       "        this._key = null;\n",
       "\n",
       "    var value = '';\n",
       "    if (event.ctrlKey && event.which != 17)\n",
       "        value += \"ctrl+\";\n",
       "    if (event.altKey && event.which != 18)\n",
       "        value += \"alt+\";\n",
       "    if (event.shiftKey && event.which != 16)\n",
       "        value += \"shift+\";\n",
       "\n",
       "    value += 'k';\n",
       "    value += event.which.toString();\n",
       "\n",
       "    this._key_event_extra(event, name);\n",
       "\n",
       "    this.send_message(name, {key: value,\n",
       "                             guiEvent: simpleKeys(event)});\n",
       "    return false;\n",
       "}\n",
       "\n",
       "mpl.figure.prototype.toolbar_button_onclick = function(name) {\n",
       "    if (name == 'download') {\n",
       "        this.handle_save(this, null);\n",
       "    } else {\n",
       "        this.send_message(\"toolbar_button\", {name: name});\n",
       "    }\n",
       "};\n",
       "\n",
       "mpl.figure.prototype.toolbar_button_onmouseover = function(tooltip) {\n",
       "    this.message.textContent = tooltip;\n",
       "};\n",
       "mpl.toolbar_items = [[\"Home\", \"Reset original view\", \"fa fa-home icon-home\", \"home\"], [\"Back\", \"Back to previous view\", \"fa fa-arrow-left icon-arrow-left\", \"back\"], [\"Forward\", \"Forward to next view\", \"fa fa-arrow-right icon-arrow-right\", \"forward\"], [\"\", \"\", \"\", \"\"], [\"Pan\", \"Pan axes with left mouse, zoom with right\", \"fa fa-arrows icon-move\", \"pan\"], [\"Zoom\", \"Zoom to rectangle\", \"fa fa-square-o icon-check-empty\", \"zoom\"], [\"\", \"\", \"\", \"\"], [\"Download\", \"Download plot\", \"fa fa-floppy-o icon-save\", \"download\"]];\n",
       "\n",
       "mpl.extensions = [\"eps\", \"jpeg\", \"pdf\", \"png\", \"ps\", \"raw\", \"svg\", \"tif\"];\n",
       "\n",
       "mpl.default_extension = \"png\";var comm_websocket_adapter = function(comm) {\n",
       "    // Create a \"websocket\"-like object which calls the given IPython comm\n",
       "    // object with the appropriate methods. Currently this is a non binary\n",
       "    // socket, so there is still some room for performance tuning.\n",
       "    var ws = {};\n",
       "\n",
       "    ws.close = function() {\n",
       "        comm.close()\n",
       "    };\n",
       "    ws.send = function(m) {\n",
       "        //console.log('sending', m);\n",
       "        comm.send(m);\n",
       "    };\n",
       "    // Register the callback with on_msg.\n",
       "    comm.on_msg(function(msg) {\n",
       "        //console.log('receiving', msg['content']['data'], msg);\n",
       "        // Pass the mpl event to the overridden (by mpl) onmessage function.\n",
       "        ws.onmessage(msg['content']['data'])\n",
       "    });\n",
       "    return ws;\n",
       "}\n",
       "\n",
       "mpl.mpl_figure_comm = function(comm, msg) {\n",
       "    // This is the function which gets called when the mpl process\n",
       "    // starts-up an IPython Comm through the \"matplotlib\" channel.\n",
       "\n",
       "    var id = msg.content.data.id;\n",
       "    // Get hold of the div created by the display call when the Comm\n",
       "    // socket was opened in Python.\n",
       "    var element = $(\"#\" + id);\n",
       "    var ws_proxy = comm_websocket_adapter(comm)\n",
       "\n",
       "    function ondownload(figure, format) {\n",
       "        window.open(figure.imageObj.src);\n",
       "    }\n",
       "\n",
       "    var fig = new mpl.figure(id, ws_proxy,\n",
       "                           ondownload,\n",
       "                           element.get(0));\n",
       "\n",
       "    // Call onopen now - mpl needs it, as it is assuming we've passed it a real\n",
       "    // web socket which is closed, not our websocket->open comm proxy.\n",
       "    ws_proxy.onopen();\n",
       "\n",
       "    fig.parent_element = element.get(0);\n",
       "    fig.cell_info = mpl.find_output_cell(\"<div id='\" + id + \"'></div>\");\n",
       "    if (!fig.cell_info) {\n",
       "        console.error(\"Failed to find cell for figure\", id, fig);\n",
       "        return;\n",
       "    }\n",
       "\n",
       "    var output_index = fig.cell_info[2]\n",
       "    var cell = fig.cell_info[0];\n",
       "\n",
       "};\n",
       "\n",
       "mpl.figure.prototype.handle_close = function(fig, msg) {\n",
       "    var width = fig.canvas.width/mpl.ratio\n",
       "    fig.root.unbind('remove')\n",
       "\n",
       "    // Update the output cell to use the data from the current canvas.\n",
       "    fig.push_to_output();\n",
       "    var dataURL = fig.canvas.toDataURL();\n",
       "    // Re-enable the keyboard manager in IPython - without this line, in FF,\n",
       "    // the notebook keyboard shortcuts fail.\n",
       "    IPython.keyboard_manager.enable()\n",
       "    $(fig.parent_element).html('<img src=\"' + dataURL + '\" width=\"' + width + '\">');\n",
       "    fig.close_ws(fig, msg);\n",
       "}\n",
       "\n",
       "mpl.figure.prototype.close_ws = function(fig, msg){\n",
       "    fig.send_message('closing', msg);\n",
       "    // fig.ws.close()\n",
       "}\n",
       "\n",
       "mpl.figure.prototype.push_to_output = function(remove_interactive) {\n",
       "    // Turn the data on the canvas into data in the output cell.\n",
       "    var width = this.canvas.width/mpl.ratio\n",
       "    var dataURL = this.canvas.toDataURL();\n",
       "    this.cell_info[1]['text/html'] = '<img src=\"' + dataURL + '\" width=\"' + width + '\">';\n",
       "}\n",
       "\n",
       "mpl.figure.prototype.updated_canvas_event = function() {\n",
       "    // Tell IPython that the notebook contents must change.\n",
       "    IPython.notebook.set_dirty(true);\n",
       "    this.send_message(\"ack\", {});\n",
       "    var fig = this;\n",
       "    // Wait a second, then push the new image to the DOM so\n",
       "    // that it is saved nicely (might be nice to debounce this).\n",
       "    setTimeout(function () { fig.push_to_output() }, 1000);\n",
       "}\n",
       "\n",
       "mpl.figure.prototype._init_toolbar = function() {\n",
       "    var fig = this;\n",
       "\n",
       "    var nav_element = $('<div/>');\n",
       "    nav_element.attr('style', 'width: 100%');\n",
       "    this.root.append(nav_element);\n",
       "\n",
       "    // Define a callback function for later on.\n",
       "    function toolbar_event(event) {\n",
       "        return fig.toolbar_button_onclick(event['data']);\n",
       "    }\n",
       "    function toolbar_mouse_event(event) {\n",
       "        return fig.toolbar_button_onmouseover(event['data']);\n",
       "    }\n",
       "\n",
       "    for(var toolbar_ind in mpl.toolbar_items){\n",
       "        var name = mpl.toolbar_items[toolbar_ind][0];\n",
       "        var tooltip = mpl.toolbar_items[toolbar_ind][1];\n",
       "        var image = mpl.toolbar_items[toolbar_ind][2];\n",
       "        var method_name = mpl.toolbar_items[toolbar_ind][3];\n",
       "\n",
       "        if (!name) { continue; };\n",
       "\n",
       "        var button = $('<button class=\"btn btn-default\" href=\"#\" title=\"' + name + '\"><i class=\"fa ' + image + ' fa-lg\"></i></button>');\n",
       "        button.click(method_name, toolbar_event);\n",
       "        button.mouseover(tooltip, toolbar_mouse_event);\n",
       "        nav_element.append(button);\n",
       "    }\n",
       "\n",
       "    // Add the status bar.\n",
       "    var status_bar = $('<span class=\"mpl-message\" style=\"text-align:right; float: right;\"/>');\n",
       "    nav_element.append(status_bar);\n",
       "    this.message = status_bar[0];\n",
       "\n",
       "    // Add the close button to the window.\n",
       "    var buttongrp = $('<div class=\"btn-group inline pull-right\"></div>');\n",
       "    var button = $('<button class=\"btn btn-mini btn-primary\" href=\"#\" title=\"Stop Interaction\"><i class=\"fa fa-power-off icon-remove icon-large\"></i></button>');\n",
       "    button.click(function (evt) { fig.handle_close(fig, {}); } );\n",
       "    button.mouseover('Stop Interaction', toolbar_mouse_event);\n",
       "    buttongrp.append(button);\n",
       "    var titlebar = this.root.find($('.ui-dialog-titlebar'));\n",
       "    titlebar.prepend(buttongrp);\n",
       "}\n",
       "\n",
       "mpl.figure.prototype._root_extra_style = function(el){\n",
       "    var fig = this\n",
       "    el.on(\"remove\", function(){\n",
       "\tfig.close_ws(fig, {});\n",
       "    });\n",
       "}\n",
       "\n",
       "mpl.figure.prototype._canvas_extra_style = function(el){\n",
       "    // this is important to make the div 'focusable\n",
       "    el.attr('tabindex', 0)\n",
       "    // reach out to IPython and tell the keyboard manager to turn it's self\n",
       "    // off when our div gets focus\n",
       "\n",
       "    // location in version 3\n",
       "    if (IPython.notebook.keyboard_manager) {\n",
       "        IPython.notebook.keyboard_manager.register_events(el);\n",
       "    }\n",
       "    else {\n",
       "        // location in version 2\n",
       "        IPython.keyboard_manager.register_events(el);\n",
       "    }\n",
       "\n",
       "}\n",
       "\n",
       "mpl.figure.prototype._key_event_extra = function(event, name) {\n",
       "    var manager = IPython.notebook.keyboard_manager;\n",
       "    if (!manager)\n",
       "        manager = IPython.keyboard_manager;\n",
       "\n",
       "    // Check for shift+enter\n",
       "    if (event.shiftKey && event.which == 13) {\n",
       "        this.canvas_div.blur();\n",
       "        // select the cell after this one\n",
       "        var index = IPython.notebook.find_cell_index(this.cell_info[0]);\n",
       "        IPython.notebook.select(index + 1);\n",
       "    }\n",
       "}\n",
       "\n",
       "mpl.figure.prototype.handle_save = function(fig, msg) {\n",
       "    fig.ondownload(fig, null);\n",
       "}\n",
       "\n",
       "\n",
       "mpl.find_output_cell = function(html_output) {\n",
       "    // Return the cell and output element which can be found *uniquely* in the notebook.\n",
       "    // Note - this is a bit hacky, but it is done because the \"notebook_saving.Notebook\"\n",
       "    // IPython event is triggered only after the cells have been serialised, which for\n",
       "    // our purposes (turning an active figure into a static one), is too late.\n",
       "    var cells = IPython.notebook.get_cells();\n",
       "    var ncells = cells.length;\n",
       "    for (var i=0; i<ncells; i++) {\n",
       "        var cell = cells[i];\n",
       "        if (cell.cell_type === 'code'){\n",
       "            for (var j=0; j<cell.output_area.outputs.length; j++) {\n",
       "                var data = cell.output_area.outputs[j];\n",
       "                if (data.data) {\n",
       "                    // IPython >= 3 moved mimebundle to data attribute of output\n",
       "                    data = data.data;\n",
       "                }\n",
       "                if (data['text/html'] == html_output) {\n",
       "                    return [cell, data, j];\n",
       "                }\n",
       "            }\n",
       "        }\n",
       "    }\n",
       "}\n",
       "\n",
       "// Register the function which deals with the matplotlib target/channel.\n",
       "// The kernel may be null if the page has been refreshed.\n",
       "if (IPython.notebook.kernel != null) {\n",
       "    IPython.notebook.kernel.comm_manager.register_target('matplotlib', mpl.mpl_figure_comm);\n",
       "}\n"
      ],
      "text/plain": [
       "<IPython.core.display.Javascript object>"
      ]
     },
     "metadata": {},
     "output_type": "display_data"
    },
    {
     "data": {
      "text/html": [
       "<img src=\"data:image/png;base64,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\" width=\"640\">"
      ],
      "text/plain": [
       "<IPython.core.display.HTML object>"
      ]
     },
     "metadata": {},
     "output_type": "display_data"
    }
   ],
   "source": [
    "plt.figure() # create a new figure\n",
    "SE3().plot(frame='0', dims=[0,4], color='black')\n",
    "T1.plot(frame='1')"
   ]
  },
  {
   "cell_type": "markdown",
   "metadata": {},
   "source": [
    "We can define another translation"
   ]
  },
  {
   "cell_type": "code",
   "execution_count": 33,
   "metadata": {},
   "outputs": [],
   "source": [
    "T12 = SE3(2, -1, -2)"
   ]
  },
  {
   "cell_type": "markdown",
   "metadata": {},
   "source": [
    "and compose it with `T1`"
   ]
  },
  {
   "cell_type": "code",
   "execution_count": 34,
   "metadata": {},
   "outputs": [],
   "source": [
    "T2 = T1 * T12"
   ]
  },
  {
   "cell_type": "code",
   "execution_count": 35,
   "metadata": {},
   "outputs": [],
   "source": [
    "T2.plot(frame='2', color='red')"
   ]
  },
  {
   "cell_type": "markdown",
   "metadata": {},
   "source": [
    "## Representing pose"
   ]
  },
  {
   "cell_type": "code",
   "execution_count": 54,
   "metadata": {},
   "outputs": [
    {
     "data": {
      "text/plain": [
       "  \u001b[38;5;1m\u001b[48;5;255m 1        \u001b[0m\u001b[38;5;1m\u001b[48;5;255m 0        \u001b[0m\u001b[38;5;1m\u001b[48;5;255m 0        \u001b[0m\u001b[38;5;4m\u001b[48;5;255m 1        \u001b[0m\u001b[48;5;255m  \u001b[0m\n",
       "  \u001b[38;5;1m\u001b[48;5;255m 0        \u001b[0m\u001b[38;5;1m\u001b[48;5;255m 0.866025 \u001b[0m\u001b[38;5;1m\u001b[48;5;255m-0.5      \u001b[0m\u001b[38;5;4m\u001b[48;5;255m 2        \u001b[0m\u001b[48;5;255m  \u001b[0m\n",
       "  \u001b[38;5;1m\u001b[48;5;255m 0        \u001b[0m\u001b[38;5;1m\u001b[48;5;255m 0.5      \u001b[0m\u001b[38;5;1m\u001b[48;5;255m 0.866025 \u001b[0m\u001b[38;5;4m\u001b[48;5;255m 3        \u001b[0m\u001b[48;5;255m  \u001b[0m\n",
       "  \u001b[38;5;244m\u001b[48;5;255m 0        \u001b[0m\u001b[38;5;244m\u001b[48;5;255m 0        \u001b[0m\u001b[38;5;244m\u001b[48;5;255m 0        \u001b[0m\u001b[38;5;244m\u001b[48;5;255m 1        \u001b[0m\u001b[48;5;255m  \u001b[0m"
      ]
     },
     "execution_count": 54,
     "metadata": {},
     "output_type": "execute_result"
    }
   ],
   "source": [
    "T1 = SE3(1, 2, 3) * SE3.Rx(30, 'deg')\n",
    "T1"
   ]
  },
  {
   "cell_type": "markdown",
   "metadata": {},
   "source": [
    "Is a composition of two motions: a pure translation and _then_ a pure rotation.  We can see the rotation matrix, computed above, in the top-left corner and the translation components in the right-most column.  In the earlier example `Out[24]` was simply a null-rotation which is represented by the identity matrix.\n",
    "\n",
    "The frame now looks like this"
   ]
  },
  {
   "cell_type": "code",
   "execution_count": 55,
   "metadata": {
    "scrolled": true
   },
   "outputs": [
    {
     "data": {
      "application/javascript": [
       "/* Put everything inside the global mpl namespace */\n",
       "window.mpl = {};\n",
       "\n",
       "\n",
       "mpl.get_websocket_type = function() {\n",
       "    if (typeof(WebSocket) !== 'undefined') {\n",
       "        return WebSocket;\n",
       "    } else if (typeof(MozWebSocket) !== 'undefined') {\n",
       "        return MozWebSocket;\n",
       "    } else {\n",
       "        alert('Your browser does not have WebSocket support. ' +\n",
       "              'Please try Chrome, Safari or Firefox ≥ 6. ' +\n",
       "              'Firefox 4 and 5 are also supported but you ' +\n",
       "              'have to enable WebSockets in about:config.');\n",
       "    };\n",
       "}\n",
       "\n",
       "mpl.figure = function(figure_id, websocket, ondownload, parent_element) {\n",
       "    this.id = figure_id;\n",
       "\n",
       "    this.ws = websocket;\n",
       "\n",
       "    this.supports_binary = (this.ws.binaryType != undefined);\n",
       "\n",
       "    if (!this.supports_binary) {\n",
       "        var warnings = document.getElementById(\"mpl-warnings\");\n",
       "        if (warnings) {\n",
       "            warnings.style.display = 'block';\n",
       "            warnings.textContent = (\n",
       "                \"This browser does not support binary websocket messages. \" +\n",
       "                    \"Performance may be slow.\");\n",
       "        }\n",
       "    }\n",
       "\n",
       "    this.imageObj = new Image();\n",
       "\n",
       "    this.context = undefined;\n",
       "    this.message = undefined;\n",
       "    this.canvas = undefined;\n",
       "    this.rubberband_canvas = undefined;\n",
       "    this.rubberband_context = undefined;\n",
       "    this.format_dropdown = undefined;\n",
       "\n",
       "    this.image_mode = 'full';\n",
       "\n",
       "    this.root = $('<div/>');\n",
       "    this._root_extra_style(this.root)\n",
       "    this.root.attr('style', 'display: inline-block');\n",
       "\n",
       "    $(parent_element).append(this.root);\n",
       "\n",
       "    this._init_header(this);\n",
       "    this._init_canvas(this);\n",
       "    this._init_toolbar(this);\n",
       "\n",
       "    var fig = this;\n",
       "\n",
       "    this.waiting = false;\n",
       "\n",
       "    this.ws.onopen =  function () {\n",
       "            fig.send_message(\"supports_binary\", {value: fig.supports_binary});\n",
       "            fig.send_message(\"send_image_mode\", {});\n",
       "            if (mpl.ratio != 1) {\n",
       "                fig.send_message(\"set_dpi_ratio\", {'dpi_ratio': mpl.ratio});\n",
       "            }\n",
       "            fig.send_message(\"refresh\", {});\n",
       "        }\n",
       "\n",
       "    this.imageObj.onload = function() {\n",
       "            if (fig.image_mode == 'full') {\n",
       "                // Full images could contain transparency (where diff images\n",
       "                // almost always do), so we need to clear the canvas so that\n",
       "                // there is no ghosting.\n",
       "                fig.context.clearRect(0, 0, fig.canvas.width, fig.canvas.height);\n",
       "            }\n",
       "            fig.context.drawImage(fig.imageObj, 0, 0);\n",
       "        };\n",
       "\n",
       "    this.imageObj.onunload = function() {\n",
       "        fig.ws.close();\n",
       "    }\n",
       "\n",
       "    this.ws.onmessage = this._make_on_message_function(this);\n",
       "\n",
       "    this.ondownload = ondownload;\n",
       "}\n",
       "\n",
       "mpl.figure.prototype._init_header = function() {\n",
       "    var titlebar = $(\n",
       "        '<div class=\"ui-dialog-titlebar ui-widget-header ui-corner-all ' +\n",
       "        'ui-helper-clearfix\"/>');\n",
       "    var titletext = $(\n",
       "        '<div class=\"ui-dialog-title\" style=\"width: 100%; ' +\n",
       "        'text-align: center; padding: 3px;\"/>');\n",
       "    titlebar.append(titletext)\n",
       "    this.root.append(titlebar);\n",
       "    this.header = titletext[0];\n",
       "}\n",
       "\n",
       "\n",
       "\n",
       "mpl.figure.prototype._canvas_extra_style = function(canvas_div) {\n",
       "\n",
       "}\n",
       "\n",
       "\n",
       "mpl.figure.prototype._root_extra_style = function(canvas_div) {\n",
       "\n",
       "}\n",
       "\n",
       "mpl.figure.prototype._init_canvas = function() {\n",
       "    var fig = this;\n",
       "\n",
       "    var canvas_div = $('<div/>');\n",
       "\n",
       "    canvas_div.attr('style', 'position: relative; clear: both; outline: 0');\n",
       "\n",
       "    function canvas_keyboard_event(event) {\n",
       "        return fig.key_event(event, event['data']);\n",
       "    }\n",
       "\n",
       "    canvas_div.keydown('key_press', canvas_keyboard_event);\n",
       "    canvas_div.keyup('key_release', canvas_keyboard_event);\n",
       "    this.canvas_div = canvas_div\n",
       "    this._canvas_extra_style(canvas_div)\n",
       "    this.root.append(canvas_div);\n",
       "\n",
       "    var canvas = $('<canvas/>');\n",
       "    canvas.addClass('mpl-canvas');\n",
       "    canvas.attr('style', \"left: 0; top: 0; z-index: 0; outline: 0\")\n",
       "\n",
       "    this.canvas = canvas[0];\n",
       "    this.context = canvas[0].getContext(\"2d\");\n",
       "\n",
       "    var backingStore = this.context.backingStorePixelRatio ||\n",
       "\tthis.context.webkitBackingStorePixelRatio ||\n",
       "\tthis.context.mozBackingStorePixelRatio ||\n",
       "\tthis.context.msBackingStorePixelRatio ||\n",
       "\tthis.context.oBackingStorePixelRatio ||\n",
       "\tthis.context.backingStorePixelRatio || 1;\n",
       "\n",
       "    mpl.ratio = (window.devicePixelRatio || 1) / backingStore;\n",
       "\n",
       "    var rubberband = $('<canvas/>');\n",
       "    rubberband.attr('style', \"position: absolute; left: 0; top: 0; z-index: 1;\")\n",
       "\n",
       "    var pass_mouse_events = true;\n",
       "\n",
       "    canvas_div.resizable({\n",
       "        start: function(event, ui) {\n",
       "            pass_mouse_events = false;\n",
       "        },\n",
       "        resize: function(event, ui) {\n",
       "            fig.request_resize(ui.size.width, ui.size.height);\n",
       "        },\n",
       "        stop: function(event, ui) {\n",
       "            pass_mouse_events = true;\n",
       "            fig.request_resize(ui.size.width, ui.size.height);\n",
       "        },\n",
       "    });\n",
       "\n",
       "    function mouse_event_fn(event) {\n",
       "        if (pass_mouse_events)\n",
       "            return fig.mouse_event(event, event['data']);\n",
       "    }\n",
       "\n",
       "    rubberband.mousedown('button_press', mouse_event_fn);\n",
       "    rubberband.mouseup('button_release', mouse_event_fn);\n",
       "    // Throttle sequential mouse events to 1 every 20ms.\n",
       "    rubberband.mousemove('motion_notify', mouse_event_fn);\n",
       "\n",
       "    rubberband.mouseenter('figure_enter', mouse_event_fn);\n",
       "    rubberband.mouseleave('figure_leave', mouse_event_fn);\n",
       "\n",
       "    canvas_div.on(\"wheel\", function (event) {\n",
       "        event = event.originalEvent;\n",
       "        event['data'] = 'scroll'\n",
       "        if (event.deltaY < 0) {\n",
       "            event.step = 1;\n",
       "        } else {\n",
       "            event.step = -1;\n",
       "        }\n",
       "        mouse_event_fn(event);\n",
       "    });\n",
       "\n",
       "    canvas_div.append(canvas);\n",
       "    canvas_div.append(rubberband);\n",
       "\n",
       "    this.rubberband = rubberband;\n",
       "    this.rubberband_canvas = rubberband[0];\n",
       "    this.rubberband_context = rubberband[0].getContext(\"2d\");\n",
       "    this.rubberband_context.strokeStyle = \"#000000\";\n",
       "\n",
       "    this._resize_canvas = function(width, height) {\n",
       "        // Keep the size of the canvas, canvas container, and rubber band\n",
       "        // canvas in synch.\n",
       "        canvas_div.css('width', width)\n",
       "        canvas_div.css('height', height)\n",
       "\n",
       "        canvas.attr('width', width * mpl.ratio);\n",
       "        canvas.attr('height', height * mpl.ratio);\n",
       "        canvas.attr('style', 'width: ' + width + 'px; height: ' + height + 'px;');\n",
       "\n",
       "        rubberband.attr('width', width);\n",
       "        rubberband.attr('height', height);\n",
       "    }\n",
       "\n",
       "    // Set the figure to an initial 600x600px, this will subsequently be updated\n",
       "    // upon first draw.\n",
       "    this._resize_canvas(600, 600);\n",
       "\n",
       "    // Disable right mouse context menu.\n",
       "    $(this.rubberband_canvas).bind(\"contextmenu\",function(e){\n",
       "        return false;\n",
       "    });\n",
       "\n",
       "    function set_focus () {\n",
       "        canvas.focus();\n",
       "        canvas_div.focus();\n",
       "    }\n",
       "\n",
       "    window.setTimeout(set_focus, 100);\n",
       "}\n",
       "\n",
       "mpl.figure.prototype._init_toolbar = function() {\n",
       "    var fig = this;\n",
       "\n",
       "    var nav_element = $('<div/>');\n",
       "    nav_element.attr('style', 'width: 100%');\n",
       "    this.root.append(nav_element);\n",
       "\n",
       "    // Define a callback function for later on.\n",
       "    function toolbar_event(event) {\n",
       "        return fig.toolbar_button_onclick(event['data']);\n",
       "    }\n",
       "    function toolbar_mouse_event(event) {\n",
       "        return fig.toolbar_button_onmouseover(event['data']);\n",
       "    }\n",
       "\n",
       "    for(var toolbar_ind in mpl.toolbar_items) {\n",
       "        var name = mpl.toolbar_items[toolbar_ind][0];\n",
       "        var tooltip = mpl.toolbar_items[toolbar_ind][1];\n",
       "        var image = mpl.toolbar_items[toolbar_ind][2];\n",
       "        var method_name = mpl.toolbar_items[toolbar_ind][3];\n",
       "\n",
       "        if (!name) {\n",
       "            // put a spacer in here.\n",
       "            continue;\n",
       "        }\n",
       "        var button = $('<button/>');\n",
       "        button.addClass('ui-button ui-widget ui-state-default ui-corner-all ' +\n",
       "                        'ui-button-icon-only');\n",
       "        button.attr('role', 'button');\n",
       "        button.attr('aria-disabled', 'false');\n",
       "        button.click(method_name, toolbar_event);\n",
       "        button.mouseover(tooltip, toolbar_mouse_event);\n",
       "\n",
       "        var icon_img = $('<span/>');\n",
       "        icon_img.addClass('ui-button-icon-primary ui-icon');\n",
       "        icon_img.addClass(image);\n",
       "        icon_img.addClass('ui-corner-all');\n",
       "\n",
       "        var tooltip_span = $('<span/>');\n",
       "        tooltip_span.addClass('ui-button-text');\n",
       "        tooltip_span.html(tooltip);\n",
       "\n",
       "        button.append(icon_img);\n",
       "        button.append(tooltip_span);\n",
       "\n",
       "        nav_element.append(button);\n",
       "    }\n",
       "\n",
       "    var fmt_picker_span = $('<span/>');\n",
       "\n",
       "    var fmt_picker = $('<select/>');\n",
       "    fmt_picker.addClass('mpl-toolbar-option ui-widget ui-widget-content');\n",
       "    fmt_picker_span.append(fmt_picker);\n",
       "    nav_element.append(fmt_picker_span);\n",
       "    this.format_dropdown = fmt_picker[0];\n",
       "\n",
       "    for (var ind in mpl.extensions) {\n",
       "        var fmt = mpl.extensions[ind];\n",
       "        var option = $(\n",
       "            '<option/>', {selected: fmt === mpl.default_extension}).html(fmt);\n",
       "        fmt_picker.append(option);\n",
       "    }\n",
       "\n",
       "    // Add hover states to the ui-buttons\n",
       "    $( \".ui-button\" ).hover(\n",
       "        function() { $(this).addClass(\"ui-state-hover\");},\n",
       "        function() { $(this).removeClass(\"ui-state-hover\");}\n",
       "    );\n",
       "\n",
       "    var status_bar = $('<span class=\"mpl-message\"/>');\n",
       "    nav_element.append(status_bar);\n",
       "    this.message = status_bar[0];\n",
       "}\n",
       "\n",
       "mpl.figure.prototype.request_resize = function(x_pixels, y_pixels) {\n",
       "    // Request matplotlib to resize the figure. Matplotlib will then trigger a resize in the client,\n",
       "    // which will in turn request a refresh of the image.\n",
       "    this.send_message('resize', {'width': x_pixels, 'height': y_pixels});\n",
       "}\n",
       "\n",
       "mpl.figure.prototype.send_message = function(type, properties) {\n",
       "    properties['type'] = type;\n",
       "    properties['figure_id'] = this.id;\n",
       "    this.ws.send(JSON.stringify(properties));\n",
       "}\n",
       "\n",
       "mpl.figure.prototype.send_draw_message = function() {\n",
       "    if (!this.waiting) {\n",
       "        this.waiting = true;\n",
       "        this.ws.send(JSON.stringify({type: \"draw\", figure_id: this.id}));\n",
       "    }\n",
       "}\n",
       "\n",
       "\n",
       "mpl.figure.prototype.handle_save = function(fig, msg) {\n",
       "    var format_dropdown = fig.format_dropdown;\n",
       "    var format = format_dropdown.options[format_dropdown.selectedIndex].value;\n",
       "    fig.ondownload(fig, format);\n",
       "}\n",
       "\n",
       "\n",
       "mpl.figure.prototype.handle_resize = function(fig, msg) {\n",
       "    var size = msg['size'];\n",
       "    if (size[0] != fig.canvas.width || size[1] != fig.canvas.height) {\n",
       "        fig._resize_canvas(size[0], size[1]);\n",
       "        fig.send_message(\"refresh\", {});\n",
       "    };\n",
       "}\n",
       "\n",
       "mpl.figure.prototype.handle_rubberband = function(fig, msg) {\n",
       "    var x0 = msg['x0'] / mpl.ratio;\n",
       "    var y0 = (fig.canvas.height - msg['y0']) / mpl.ratio;\n",
       "    var x1 = msg['x1'] / mpl.ratio;\n",
       "    var y1 = (fig.canvas.height - msg['y1']) / mpl.ratio;\n",
       "    x0 = Math.floor(x0) + 0.5;\n",
       "    y0 = Math.floor(y0) + 0.5;\n",
       "    x1 = Math.floor(x1) + 0.5;\n",
       "    y1 = Math.floor(y1) + 0.5;\n",
       "    var min_x = Math.min(x0, x1);\n",
       "    var min_y = Math.min(y0, y1);\n",
       "    var width = Math.abs(x1 - x0);\n",
       "    var height = Math.abs(y1 - y0);\n",
       "\n",
       "    fig.rubberband_context.clearRect(\n",
       "        0, 0, fig.canvas.width / mpl.ratio, fig.canvas.height / mpl.ratio);\n",
       "\n",
       "    fig.rubberband_context.strokeRect(min_x, min_y, width, height);\n",
       "}\n",
       "\n",
       "mpl.figure.prototype.handle_figure_label = function(fig, msg) {\n",
       "    // Updates the figure title.\n",
       "    fig.header.textContent = msg['label'];\n",
       "}\n",
       "\n",
       "mpl.figure.prototype.handle_cursor = function(fig, msg) {\n",
       "    var cursor = msg['cursor'];\n",
       "    switch(cursor)\n",
       "    {\n",
       "    case 0:\n",
       "        cursor = 'pointer';\n",
       "        break;\n",
       "    case 1:\n",
       "        cursor = 'default';\n",
       "        break;\n",
       "    case 2:\n",
       "        cursor = 'crosshair';\n",
       "        break;\n",
       "    case 3:\n",
       "        cursor = 'move';\n",
       "        break;\n",
       "    }\n",
       "    fig.rubberband_canvas.style.cursor = cursor;\n",
       "}\n",
       "\n",
       "mpl.figure.prototype.handle_message = function(fig, msg) {\n",
       "    fig.message.textContent = msg['message'];\n",
       "}\n",
       "\n",
       "mpl.figure.prototype.handle_draw = function(fig, msg) {\n",
       "    // Request the server to send over a new figure.\n",
       "    fig.send_draw_message();\n",
       "}\n",
       "\n",
       "mpl.figure.prototype.handle_image_mode = function(fig, msg) {\n",
       "    fig.image_mode = msg['mode'];\n",
       "}\n",
       "\n",
       "mpl.figure.prototype.updated_canvas_event = function() {\n",
       "    // Called whenever the canvas gets updated.\n",
       "    this.send_message(\"ack\", {});\n",
       "}\n",
       "\n",
       "// A function to construct a web socket function for onmessage handling.\n",
       "// Called in the figure constructor.\n",
       "mpl.figure.prototype._make_on_message_function = function(fig) {\n",
       "    return function socket_on_message(evt) {\n",
       "        if (evt.data instanceof Blob) {\n",
       "            /* FIXME: We get \"Resource interpreted as Image but\n",
       "             * transferred with MIME type text/plain:\" errors on\n",
       "             * Chrome.  But how to set the MIME type?  It doesn't seem\n",
       "             * to be part of the websocket stream */\n",
       "            evt.data.type = \"image/png\";\n",
       "\n",
       "            /* Free the memory for the previous frames */\n",
       "            if (fig.imageObj.src) {\n",
       "                (window.URL || window.webkitURL).revokeObjectURL(\n",
       "                    fig.imageObj.src);\n",
       "            }\n",
       "\n",
       "            fig.imageObj.src = (window.URL || window.webkitURL).createObjectURL(\n",
       "                evt.data);\n",
       "            fig.updated_canvas_event();\n",
       "            fig.waiting = false;\n",
       "            return;\n",
       "        }\n",
       "        else if (typeof evt.data === 'string' && evt.data.slice(0, 21) == \"data:image/png;base64\") {\n",
       "            fig.imageObj.src = evt.data;\n",
       "            fig.updated_canvas_event();\n",
       "            fig.waiting = false;\n",
       "            return;\n",
       "        }\n",
       "\n",
       "        var msg = JSON.parse(evt.data);\n",
       "        var msg_type = msg['type'];\n",
       "\n",
       "        // Call the  \"handle_{type}\" callback, which takes\n",
       "        // the figure and JSON message as its only arguments.\n",
       "        try {\n",
       "            var callback = fig[\"handle_\" + msg_type];\n",
       "        } catch (e) {\n",
       "            console.log(\"No handler for the '\" + msg_type + \"' message type: \", msg);\n",
       "            return;\n",
       "        }\n",
       "\n",
       "        if (callback) {\n",
       "            try {\n",
       "                // console.log(\"Handling '\" + msg_type + \"' message: \", msg);\n",
       "                callback(fig, msg);\n",
       "            } catch (e) {\n",
       "                console.log(\"Exception inside the 'handler_\" + msg_type + \"' callback:\", e, e.stack, msg);\n",
       "            }\n",
       "        }\n",
       "    };\n",
       "}\n",
       "\n",
       "// from http://stackoverflow.com/questions/1114465/getting-mouse-location-in-canvas\n",
       "mpl.findpos = function(e) {\n",
       "    //this section is from http://www.quirksmode.org/js/events_properties.html\n",
       "    var targ;\n",
       "    if (!e)\n",
       "        e = window.event;\n",
       "    if (e.target)\n",
       "        targ = e.target;\n",
       "    else if (e.srcElement)\n",
       "        targ = e.srcElement;\n",
       "    if (targ.nodeType == 3) // defeat Safari bug\n",
       "        targ = targ.parentNode;\n",
       "\n",
       "    // jQuery normalizes the pageX and pageY\n",
       "    // pageX,Y are the mouse positions relative to the document\n",
       "    // offset() returns the position of the element relative to the document\n",
       "    var x = e.pageX - $(targ).offset().left;\n",
       "    var y = e.pageY - $(targ).offset().top;\n",
       "\n",
       "    return {\"x\": x, \"y\": y};\n",
       "};\n",
       "\n",
       "/*\n",
       " * return a copy of an object with only non-object keys\n",
       " * we need this to avoid circular references\n",
       " * http://stackoverflow.com/a/24161582/3208463\n",
       " */\n",
       "function simpleKeys (original) {\n",
       "  return Object.keys(original).reduce(function (obj, key) {\n",
       "    if (typeof original[key] !== 'object')\n",
       "        obj[key] = original[key]\n",
       "    return obj;\n",
       "  }, {});\n",
       "}\n",
       "\n",
       "mpl.figure.prototype.mouse_event = function(event, name) {\n",
       "    var canvas_pos = mpl.findpos(event)\n",
       "\n",
       "    if (name === 'button_press')\n",
       "    {\n",
       "        this.canvas.focus();\n",
       "        this.canvas_div.focus();\n",
       "    }\n",
       "\n",
       "    var x = canvas_pos.x * mpl.ratio;\n",
       "    var y = canvas_pos.y * mpl.ratio;\n",
       "\n",
       "    this.send_message(name, {x: x, y: y, button: event.button,\n",
       "                             step: event.step,\n",
       "                             guiEvent: simpleKeys(event)});\n",
       "\n",
       "    /* This prevents the web browser from automatically changing to\n",
       "     * the text insertion cursor when the button is pressed.  We want\n",
       "     * to control all of the cursor setting manually through the\n",
       "     * 'cursor' event from matplotlib */\n",
       "    event.preventDefault();\n",
       "    return false;\n",
       "}\n",
       "\n",
       "mpl.figure.prototype._key_event_extra = function(event, name) {\n",
       "    // Handle any extra behaviour associated with a key event\n",
       "}\n",
       "\n",
       "mpl.figure.prototype.key_event = function(event, name) {\n",
       "\n",
       "    // Prevent repeat events\n",
       "    if (name == 'key_press')\n",
       "    {\n",
       "        if (event.which === this._key)\n",
       "            return;\n",
       "        else\n",
       "            this._key = event.which;\n",
       "    }\n",
       "    if (name == 'key_release')\n",
       "        this._key = null;\n",
       "\n",
       "    var value = '';\n",
       "    if (event.ctrlKey && event.which != 17)\n",
       "        value += \"ctrl+\";\n",
       "    if (event.altKey && event.which != 18)\n",
       "        value += \"alt+\";\n",
       "    if (event.shiftKey && event.which != 16)\n",
       "        value += \"shift+\";\n",
       "\n",
       "    value += 'k';\n",
       "    value += event.which.toString();\n",
       "\n",
       "    this._key_event_extra(event, name);\n",
       "\n",
       "    this.send_message(name, {key: value,\n",
       "                             guiEvent: simpleKeys(event)});\n",
       "    return false;\n",
       "}\n",
       "\n",
       "mpl.figure.prototype.toolbar_button_onclick = function(name) {\n",
       "    if (name == 'download') {\n",
       "        this.handle_save(this, null);\n",
       "    } else {\n",
       "        this.send_message(\"toolbar_button\", {name: name});\n",
       "    }\n",
       "};\n",
       "\n",
       "mpl.figure.prototype.toolbar_button_onmouseover = function(tooltip) {\n",
       "    this.message.textContent = tooltip;\n",
       "};\n",
       "mpl.toolbar_items = [[\"Home\", \"Reset original view\", \"fa fa-home icon-home\", \"home\"], [\"Back\", \"Back to previous view\", \"fa fa-arrow-left icon-arrow-left\", \"back\"], [\"Forward\", \"Forward to next view\", \"fa fa-arrow-right icon-arrow-right\", \"forward\"], [\"\", \"\", \"\", \"\"], [\"Pan\", \"Pan axes with left mouse, zoom with right\", \"fa fa-arrows icon-move\", \"pan\"], [\"Zoom\", \"Zoom to rectangle\", \"fa fa-square-o icon-check-empty\", \"zoom\"], [\"\", \"\", \"\", \"\"], [\"Download\", \"Download plot\", \"fa fa-floppy-o icon-save\", \"download\"]];\n",
       "\n",
       "mpl.extensions = [\"eps\", \"jpeg\", \"pdf\", \"png\", \"ps\", \"raw\", \"svg\", \"tif\"];\n",
       "\n",
       "mpl.default_extension = \"png\";var comm_websocket_adapter = function(comm) {\n",
       "    // Create a \"websocket\"-like object which calls the given IPython comm\n",
       "    // object with the appropriate methods. Currently this is a non binary\n",
       "    // socket, so there is still some room for performance tuning.\n",
       "    var ws = {};\n",
       "\n",
       "    ws.close = function() {\n",
       "        comm.close()\n",
       "    };\n",
       "    ws.send = function(m) {\n",
       "        //console.log('sending', m);\n",
       "        comm.send(m);\n",
       "    };\n",
       "    // Register the callback with on_msg.\n",
       "    comm.on_msg(function(msg) {\n",
       "        //console.log('receiving', msg['content']['data'], msg);\n",
       "        // Pass the mpl event to the overridden (by mpl) onmessage function.\n",
       "        ws.onmessage(msg['content']['data'])\n",
       "    });\n",
       "    return ws;\n",
       "}\n",
       "\n",
       "mpl.mpl_figure_comm = function(comm, msg) {\n",
       "    // This is the function which gets called when the mpl process\n",
       "    // starts-up an IPython Comm through the \"matplotlib\" channel.\n",
       "\n",
       "    var id = msg.content.data.id;\n",
       "    // Get hold of the div created by the display call when the Comm\n",
       "    // socket was opened in Python.\n",
       "    var element = $(\"#\" + id);\n",
       "    var ws_proxy = comm_websocket_adapter(comm)\n",
       "\n",
       "    function ondownload(figure, format) {\n",
       "        window.open(figure.imageObj.src);\n",
       "    }\n",
       "\n",
       "    var fig = new mpl.figure(id, ws_proxy,\n",
       "                           ondownload,\n",
       "                           element.get(0));\n",
       "\n",
       "    // Call onopen now - mpl needs it, as it is assuming we've passed it a real\n",
       "    // web socket which is closed, not our websocket->open comm proxy.\n",
       "    ws_proxy.onopen();\n",
       "\n",
       "    fig.parent_element = element.get(0);\n",
       "    fig.cell_info = mpl.find_output_cell(\"<div id='\" + id + \"'></div>\");\n",
       "    if (!fig.cell_info) {\n",
       "        console.error(\"Failed to find cell for figure\", id, fig);\n",
       "        return;\n",
       "    }\n",
       "\n",
       "    var output_index = fig.cell_info[2]\n",
       "    var cell = fig.cell_info[0];\n",
       "\n",
       "};\n",
       "\n",
       "mpl.figure.prototype.handle_close = function(fig, msg) {\n",
       "    var width = fig.canvas.width/mpl.ratio\n",
       "    fig.root.unbind('remove')\n",
       "\n",
       "    // Update the output cell to use the data from the current canvas.\n",
       "    fig.push_to_output();\n",
       "    var dataURL = fig.canvas.toDataURL();\n",
       "    // Re-enable the keyboard manager in IPython - without this line, in FF,\n",
       "    // the notebook keyboard shortcuts fail.\n",
       "    IPython.keyboard_manager.enable()\n",
       "    $(fig.parent_element).html('<img src=\"' + dataURL + '\" width=\"' + width + '\">');\n",
       "    fig.close_ws(fig, msg);\n",
       "}\n",
       "\n",
       "mpl.figure.prototype.close_ws = function(fig, msg){\n",
       "    fig.send_message('closing', msg);\n",
       "    // fig.ws.close()\n",
       "}\n",
       "\n",
       "mpl.figure.prototype.push_to_output = function(remove_interactive) {\n",
       "    // Turn the data on the canvas into data in the output cell.\n",
       "    var width = this.canvas.width/mpl.ratio\n",
       "    var dataURL = this.canvas.toDataURL();\n",
       "    this.cell_info[1]['text/html'] = '<img src=\"' + dataURL + '\" width=\"' + width + '\">';\n",
       "}\n",
       "\n",
       "mpl.figure.prototype.updated_canvas_event = function() {\n",
       "    // Tell IPython that the notebook contents must change.\n",
       "    IPython.notebook.set_dirty(true);\n",
       "    this.send_message(\"ack\", {});\n",
       "    var fig = this;\n",
       "    // Wait a second, then push the new image to the DOM so\n",
       "    // that it is saved nicely (might be nice to debounce this).\n",
       "    setTimeout(function () { fig.push_to_output() }, 1000);\n",
       "}\n",
       "\n",
       "mpl.figure.prototype._init_toolbar = function() {\n",
       "    var fig = this;\n",
       "\n",
       "    var nav_element = $('<div/>');\n",
       "    nav_element.attr('style', 'width: 100%');\n",
       "    this.root.append(nav_element);\n",
       "\n",
       "    // Define a callback function for later on.\n",
       "    function toolbar_event(event) {\n",
       "        return fig.toolbar_button_onclick(event['data']);\n",
       "    }\n",
       "    function toolbar_mouse_event(event) {\n",
       "        return fig.toolbar_button_onmouseover(event['data']);\n",
       "    }\n",
       "\n",
       "    for(var toolbar_ind in mpl.toolbar_items){\n",
       "        var name = mpl.toolbar_items[toolbar_ind][0];\n",
       "        var tooltip = mpl.toolbar_items[toolbar_ind][1];\n",
       "        var image = mpl.toolbar_items[toolbar_ind][2];\n",
       "        var method_name = mpl.toolbar_items[toolbar_ind][3];\n",
       "\n",
       "        if (!name) { continue; };\n",
       "\n",
       "        var button = $('<button class=\"btn btn-default\" href=\"#\" title=\"' + name + '\"><i class=\"fa ' + image + ' fa-lg\"></i></button>');\n",
       "        button.click(method_name, toolbar_event);\n",
       "        button.mouseover(tooltip, toolbar_mouse_event);\n",
       "        nav_element.append(button);\n",
       "    }\n",
       "\n",
       "    // Add the status bar.\n",
       "    var status_bar = $('<span class=\"mpl-message\" style=\"text-align:right; float: right;\"/>');\n",
       "    nav_element.append(status_bar);\n",
       "    this.message = status_bar[0];\n",
       "\n",
       "    // Add the close button to the window.\n",
       "    var buttongrp = $('<div class=\"btn-group inline pull-right\"></div>');\n",
       "    var button = $('<button class=\"btn btn-mini btn-primary\" href=\"#\" title=\"Stop Interaction\"><i class=\"fa fa-power-off icon-remove icon-large\"></i></button>');\n",
       "    button.click(function (evt) { fig.handle_close(fig, {}); } );\n",
       "    button.mouseover('Stop Interaction', toolbar_mouse_event);\n",
       "    buttongrp.append(button);\n",
       "    var titlebar = this.root.find($('.ui-dialog-titlebar'));\n",
       "    titlebar.prepend(buttongrp);\n",
       "}\n",
       "\n",
       "mpl.figure.prototype._root_extra_style = function(el){\n",
       "    var fig = this\n",
       "    el.on(\"remove\", function(){\n",
       "\tfig.close_ws(fig, {});\n",
       "    });\n",
       "}\n",
       "\n",
       "mpl.figure.prototype._canvas_extra_style = function(el){\n",
       "    // this is important to make the div 'focusable\n",
       "    el.attr('tabindex', 0)\n",
       "    // reach out to IPython and tell the keyboard manager to turn it's self\n",
       "    // off when our div gets focus\n",
       "\n",
       "    // location in version 3\n",
       "    if (IPython.notebook.keyboard_manager) {\n",
       "        IPython.notebook.keyboard_manager.register_events(el);\n",
       "    }\n",
       "    else {\n",
       "        // location in version 2\n",
       "        IPython.keyboard_manager.register_events(el);\n",
       "    }\n",
       "\n",
       "}\n",
       "\n",
       "mpl.figure.prototype._key_event_extra = function(event, name) {\n",
       "    var manager = IPython.notebook.keyboard_manager;\n",
       "    if (!manager)\n",
       "        manager = IPython.keyboard_manager;\n",
       "\n",
       "    // Check for shift+enter\n",
       "    if (event.shiftKey && event.which == 13) {\n",
       "        this.canvas_div.blur();\n",
       "        // select the cell after this one\n",
       "        var index = IPython.notebook.find_cell_index(this.cell_info[0]);\n",
       "        IPython.notebook.select(index + 1);\n",
       "    }\n",
       "}\n",
       "\n",
       "mpl.figure.prototype.handle_save = function(fig, msg) {\n",
       "    fig.ondownload(fig, null);\n",
       "}\n",
       "\n",
       "\n",
       "mpl.find_output_cell = function(html_output) {\n",
       "    // Return the cell and output element which can be found *uniquely* in the notebook.\n",
       "    // Note - this is a bit hacky, but it is done because the \"notebook_saving.Notebook\"\n",
       "    // IPython event is triggered only after the cells have been serialised, which for\n",
       "    // our purposes (turning an active figure into a static one), is too late.\n",
       "    var cells = IPython.notebook.get_cells();\n",
       "    var ncells = cells.length;\n",
       "    for (var i=0; i<ncells; i++) {\n",
       "        var cell = cells[i];\n",
       "        if (cell.cell_type === 'code'){\n",
       "            for (var j=0; j<cell.output_area.outputs.length; j++) {\n",
       "                var data = cell.output_area.outputs[j];\n",
       "                if (data.data) {\n",
       "                    // IPython >= 3 moved mimebundle to data attribute of output\n",
       "                    data = data.data;\n",
       "                }\n",
       "                if (data['text/html'] == html_output) {\n",
       "                    return [cell, data, j];\n",
       "                }\n",
       "            }\n",
       "        }\n",
       "    }\n",
       "}\n",
       "\n",
       "// Register the function which deals with the matplotlib target/channel.\n",
       "// The kernel may be null if the page has been refreshed.\n",
       "if (IPython.notebook.kernel != null) {\n",
       "    IPython.notebook.kernel.comm_manager.register_target('matplotlib', mpl.mpl_figure_comm);\n",
       "}\n"
      ],
      "text/plain": [
       "<IPython.core.display.Javascript object>"
      ]
     },
     "metadata": {},
     "output_type": "display_data"
    },
    {
     "data": {
      "text/html": [
       "<img src=\"data:image/png;base64,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\" width=\"640\">"
      ],
      "text/plain": [
       "<IPython.core.display.HTML object>"
      ]
     },
     "metadata": {},
     "output_type": "display_data"
    }
   ],
   "source": [
    "plt.figure() # create a new figure\n",
    "SE3().plot(frame='0', dims=[0,4], color='black')\n",
    "T1.plot(frame='1')"
   ]
  },
  {
   "cell_type": "markdown",
   "metadata": {},
   "source": [
    "### Properties\n",
    "\n",
    "The object has a number of properties, such as the columns which are often written as $[n, o, a]$"
   ]
  },
  {
   "cell_type": "code",
   "execution_count": 56,
   "metadata": {},
   "outputs": [
    {
     "data": {
      "text/plain": [
       "array([0.       , 0.8660254, 0.5      ])"
      ]
     },
     "execution_count": 56,
     "metadata": {},
     "output_type": "execute_result"
    }
   ],
   "source": [
    "T1.o"
   ]
  },
  {
   "cell_type": "markdown",
   "metadata": {},
   "source": [
    "or its inverse (computed in an efficient manner based on the structure of the matrix)"
   ]
  },
  {
   "cell_type": "code",
   "execution_count": 57,
   "metadata": {},
   "outputs": [
    {
     "data": {
      "text/plain": [
       "  \u001b[38;5;1m\u001b[48;5;255m 1        \u001b[0m\u001b[38;5;1m\u001b[48;5;255m 0        \u001b[0m\u001b[38;5;1m\u001b[48;5;255m 0        \u001b[0m\u001b[38;5;4m\u001b[48;5;255m-1        \u001b[0m\u001b[48;5;255m  \u001b[0m\n",
       "  \u001b[38;5;1m\u001b[48;5;255m 0        \u001b[0m\u001b[38;5;1m\u001b[48;5;255m 0.866025 \u001b[0m\u001b[38;5;1m\u001b[48;5;255m 0.5      \u001b[0m\u001b[38;5;4m\u001b[48;5;255m-3.23205  \u001b[0m\u001b[48;5;255m  \u001b[0m\n",
       "  \u001b[38;5;1m\u001b[48;5;255m 0        \u001b[0m\u001b[38;5;1m\u001b[48;5;255m-0.5      \u001b[0m\u001b[38;5;1m\u001b[48;5;255m 0.866025 \u001b[0m\u001b[38;5;4m\u001b[48;5;255m-1.59808  \u001b[0m\u001b[48;5;255m  \u001b[0m\n",
       "  \u001b[38;5;244m\u001b[48;5;255m 0        \u001b[0m\u001b[38;5;244m\u001b[48;5;255m 0        \u001b[0m\u001b[38;5;244m\u001b[48;5;255m 0        \u001b[0m\u001b[38;5;244m\u001b[48;5;255m 1        \u001b[0m\u001b[48;5;255m  \u001b[0m"
      ]
     },
     "execution_count": 57,
     "metadata": {},
     "output_type": "execute_result"
    }
   ],
   "source": [
    "T1.inv"
   ]
  },
  {
   "cell_type": "markdown",
   "metadata": {},
   "source": [
    "We can extract the rotation matrix as a numpy array"
   ]
  },
  {
   "cell_type": "code",
   "execution_count": 58,
   "metadata": {},
   "outputs": [
    {
     "data": {
      "text/plain": [
       "array([[ 1.       ,  0.       ,  0.       ],\n",
       "       [ 0.       ,  0.8660254, -0.5      ],\n",
       "       [ 0.       ,  0.5      ,  0.8660254]])"
      ]
     },
     "execution_count": 58,
     "metadata": {},
     "output_type": "execute_result"
    }
   ],
   "source": [
    "T1.R"
   ]
  },
  {
   "cell_type": "markdown",
   "metadata": {},
   "source": [
    "or the translation vector, as a numpy array"
   ]
  },
  {
   "cell_type": "code",
   "execution_count": 59,
   "metadata": {},
   "outputs": [
    {
     "data": {
      "text/plain": [
       "array([1., 2., 3.])"
      ]
     },
     "execution_count": 59,
     "metadata": {},
     "output_type": "execute_result"
    }
   ],
   "source": [
    "T1.t"
   ]
  },
  {
   "cell_type": "markdown",
   "metadata": {},
   "source": [
    "The shape of the underlying SE(3) matrix is"
   ]
  },
  {
   "cell_type": "code",
   "execution_count": 60,
   "metadata": {},
   "outputs": [
    {
     "data": {
      "text/plain": [
       "(4, 4)"
      ]
     },
     "execution_count": 60,
     "metadata": {},
     "output_type": "execute_result"
    }
   ],
   "source": [
    "T1.shape"
   ]
  },
  {
   "cell_type": "markdown",
   "metadata": {},
   "source": [
    "and the order"
   ]
  },
  {
   "cell_type": "code",
   "execution_count": 61,
   "metadata": {},
   "outputs": [
    {
     "data": {
      "text/plain": [
       "3"
      ]
     },
     "execution_count": 61,
     "metadata": {},
     "output_type": "execute_result"
    }
   ],
   "source": [
    "T1.N"
   ]
  },
  {
   "cell_type": "markdown",
   "metadata": {},
   "source": [
    "indicating it operates in 3D space."
   ]
  },
  {
   "cell_type": "markdown",
   "metadata": {},
   "source": [
    "### Predicates\n",
    "\n",
    "We can check various properties"
   ]
  },
  {
   "cell_type": "code",
   "execution_count": 62,
   "metadata": {},
   "outputs": [
    {
     "data": {
      "text/plain": [
       "[True, False, False, True, False, False]"
      ]
     },
     "execution_count": 62,
     "metadata": {},
     "output_type": "execute_result"
    }
   ],
   "source": [
    "[T1.isSE, T1.isSO, T1.isrot(), T1.ishom(), T1.isrot2(), T1.ishom2()]"
   ]
  },
  {
   "cell_type": "markdown",
   "metadata": {},
   "source": [
    "### A couple of important points:\n",
    "\n",
    "When we compose motions they must be of the same type.  An `SE3` object can represent pure transation, pure rotation or both.  If we wish to compose a translation with a rotation, the rotation must be an `SE3` object - a rotation plus zero translation.\n",
    "\n",
    "SUperset"
   ]
  },
  {
   "cell_type": "markdown",
   "metadata": {},
   "source": [
    "### Transforming points"
   ]
  },
  {
   "cell_type": "markdown",
   "metadata": {},
   "source": [
    "Imagine now a set of points defining the vertices of a cube"
   ]
  },
  {
   "cell_type": "code",
   "execution_count": 63,
   "metadata": {},
   "outputs": [
    {
     "data": {
      "text/plain": [
       "array([[-1,  1,  1, -1, -1,  1,  1, -1],\n",
       "       [-1, -1,  1,  1, -1, -1,  1,  1],\n",
       "       [-1, -1, -1, -1,  1,  1,  1,  1]])"
      ]
     },
     "execution_count": 63,
     "metadata": {},
     "output_type": "execute_result"
    }
   ],
   "source": [
    "P = np.array([[-1, 1, 1, -1, -1, 1, 1, -1], [-1, -1, 1, 1, -1, -1, 1, 1], [-1, -1, -1, -1, 1, 1, 1, 1]])\n",
    "P"
   ]
  },
  {
   "cell_type": "markdown",
   "metadata": {},
   "source": [
    "defined with respect to a body reference frame ${}^A P_i$.  Given a transformation ${}^0 \\mathbf{T}_A$ from the world frame to the body frame, we determine the coordinates of the points in the world frame by ${}^0 P_i = {}^0 \\mathbf{T}_A \\, {}^A P_i$ which we can perform in a single operation"
   ]
  },
  {
   "cell_type": "code",
   "execution_count": 67,
   "metadata": {},
   "outputs": [],
   "source": [
    "Q = T1 * P"
   ]
  },
  {
   "cell_type": "markdown",
   "metadata": {},
   "source": [
    "which we can now plot"
   ]
  },
  {
   "cell_type": "code",
   "execution_count": 68,
   "metadata": {},
   "outputs": [
    {
     "data": {
      "application/javascript": [
       "/* Put everything inside the global mpl namespace */\n",
       "window.mpl = {};\n",
       "\n",
       "\n",
       "mpl.get_websocket_type = function() {\n",
       "    if (typeof(WebSocket) !== 'undefined') {\n",
       "        return WebSocket;\n",
       "    } else if (typeof(MozWebSocket) !== 'undefined') {\n",
       "        return MozWebSocket;\n",
       "    } else {\n",
       "        alert('Your browser does not have WebSocket support. ' +\n",
       "              'Please try Chrome, Safari or Firefox ≥ 6. ' +\n",
       "              'Firefox 4 and 5 are also supported but you ' +\n",
       "              'have to enable WebSockets in about:config.');\n",
       "    };\n",
       "}\n",
       "\n",
       "mpl.figure = function(figure_id, websocket, ondownload, parent_element) {\n",
       "    this.id = figure_id;\n",
       "\n",
       "    this.ws = websocket;\n",
       "\n",
       "    this.supports_binary = (this.ws.binaryType != undefined);\n",
       "\n",
       "    if (!this.supports_binary) {\n",
       "        var warnings = document.getElementById(\"mpl-warnings\");\n",
       "        if (warnings) {\n",
       "            warnings.style.display = 'block';\n",
       "            warnings.textContent = (\n",
       "                \"This browser does not support binary websocket messages. \" +\n",
       "                    \"Performance may be slow.\");\n",
       "        }\n",
       "    }\n",
       "\n",
       "    this.imageObj = new Image();\n",
       "\n",
       "    this.context = undefined;\n",
       "    this.message = undefined;\n",
       "    this.canvas = undefined;\n",
       "    this.rubberband_canvas = undefined;\n",
       "    this.rubberband_context = undefined;\n",
       "    this.format_dropdown = undefined;\n",
       "\n",
       "    this.image_mode = 'full';\n",
       "\n",
       "    this.root = $('<div/>');\n",
       "    this._root_extra_style(this.root)\n",
       "    this.root.attr('style', 'display: inline-block');\n",
       "\n",
       "    $(parent_element).append(this.root);\n",
       "\n",
       "    this._init_header(this);\n",
       "    this._init_canvas(this);\n",
       "    this._init_toolbar(this);\n",
       "\n",
       "    var fig = this;\n",
       "\n",
       "    this.waiting = false;\n",
       "\n",
       "    this.ws.onopen =  function () {\n",
       "            fig.send_message(\"supports_binary\", {value: fig.supports_binary});\n",
       "            fig.send_message(\"send_image_mode\", {});\n",
       "            if (mpl.ratio != 1) {\n",
       "                fig.send_message(\"set_dpi_ratio\", {'dpi_ratio': mpl.ratio});\n",
       "            }\n",
       "            fig.send_message(\"refresh\", {});\n",
       "        }\n",
       "\n",
       "    this.imageObj.onload = function() {\n",
       "            if (fig.image_mode == 'full') {\n",
       "                // Full images could contain transparency (where diff images\n",
       "                // almost always do), so we need to clear the canvas so that\n",
       "                // there is no ghosting.\n",
       "                fig.context.clearRect(0, 0, fig.canvas.width, fig.canvas.height);\n",
       "            }\n",
       "            fig.context.drawImage(fig.imageObj, 0, 0);\n",
       "        };\n",
       "\n",
       "    this.imageObj.onunload = function() {\n",
       "        fig.ws.close();\n",
       "    }\n",
       "\n",
       "    this.ws.onmessage = this._make_on_message_function(this);\n",
       "\n",
       "    this.ondownload = ondownload;\n",
       "}\n",
       "\n",
       "mpl.figure.prototype._init_header = function() {\n",
       "    var titlebar = $(\n",
       "        '<div class=\"ui-dialog-titlebar ui-widget-header ui-corner-all ' +\n",
       "        'ui-helper-clearfix\"/>');\n",
       "    var titletext = $(\n",
       "        '<div class=\"ui-dialog-title\" style=\"width: 100%; ' +\n",
       "        'text-align: center; padding: 3px;\"/>');\n",
       "    titlebar.append(titletext)\n",
       "    this.root.append(titlebar);\n",
       "    this.header = titletext[0];\n",
       "}\n",
       "\n",
       "\n",
       "\n",
       "mpl.figure.prototype._canvas_extra_style = function(canvas_div) {\n",
       "\n",
       "}\n",
       "\n",
       "\n",
       "mpl.figure.prototype._root_extra_style = function(canvas_div) {\n",
       "\n",
       "}\n",
       "\n",
       "mpl.figure.prototype._init_canvas = function() {\n",
       "    var fig = this;\n",
       "\n",
       "    var canvas_div = $('<div/>');\n",
       "\n",
       "    canvas_div.attr('style', 'position: relative; clear: both; outline: 0');\n",
       "\n",
       "    function canvas_keyboard_event(event) {\n",
       "        return fig.key_event(event, event['data']);\n",
       "    }\n",
       "\n",
       "    canvas_div.keydown('key_press', canvas_keyboard_event);\n",
       "    canvas_div.keyup('key_release', canvas_keyboard_event);\n",
       "    this.canvas_div = canvas_div\n",
       "    this._canvas_extra_style(canvas_div)\n",
       "    this.root.append(canvas_div);\n",
       "\n",
       "    var canvas = $('<canvas/>');\n",
       "    canvas.addClass('mpl-canvas');\n",
       "    canvas.attr('style', \"left: 0; top: 0; z-index: 0; outline: 0\")\n",
       "\n",
       "    this.canvas = canvas[0];\n",
       "    this.context = canvas[0].getContext(\"2d\");\n",
       "\n",
       "    var backingStore = this.context.backingStorePixelRatio ||\n",
       "\tthis.context.webkitBackingStorePixelRatio ||\n",
       "\tthis.context.mozBackingStorePixelRatio ||\n",
       "\tthis.context.msBackingStorePixelRatio ||\n",
       "\tthis.context.oBackingStorePixelRatio ||\n",
       "\tthis.context.backingStorePixelRatio || 1;\n",
       "\n",
       "    mpl.ratio = (window.devicePixelRatio || 1) / backingStore;\n",
       "\n",
       "    var rubberband = $('<canvas/>');\n",
       "    rubberband.attr('style', \"position: absolute; left: 0; top: 0; z-index: 1;\")\n",
       "\n",
       "    var pass_mouse_events = true;\n",
       "\n",
       "    canvas_div.resizable({\n",
       "        start: function(event, ui) {\n",
       "            pass_mouse_events = false;\n",
       "        },\n",
       "        resize: function(event, ui) {\n",
       "            fig.request_resize(ui.size.width, ui.size.height);\n",
       "        },\n",
       "        stop: function(event, ui) {\n",
       "            pass_mouse_events = true;\n",
       "            fig.request_resize(ui.size.width, ui.size.height);\n",
       "        },\n",
       "    });\n",
       "\n",
       "    function mouse_event_fn(event) {\n",
       "        if (pass_mouse_events)\n",
       "            return fig.mouse_event(event, event['data']);\n",
       "    }\n",
       "\n",
       "    rubberband.mousedown('button_press', mouse_event_fn);\n",
       "    rubberband.mouseup('button_release', mouse_event_fn);\n",
       "    // Throttle sequential mouse events to 1 every 20ms.\n",
       "    rubberband.mousemove('motion_notify', mouse_event_fn);\n",
       "\n",
       "    rubberband.mouseenter('figure_enter', mouse_event_fn);\n",
       "    rubberband.mouseleave('figure_leave', mouse_event_fn);\n",
       "\n",
       "    canvas_div.on(\"wheel\", function (event) {\n",
       "        event = event.originalEvent;\n",
       "        event['data'] = 'scroll'\n",
       "        if (event.deltaY < 0) {\n",
       "            event.step = 1;\n",
       "        } else {\n",
       "            event.step = -1;\n",
       "        }\n",
       "        mouse_event_fn(event);\n",
       "    });\n",
       "\n",
       "    canvas_div.append(canvas);\n",
       "    canvas_div.append(rubberband);\n",
       "\n",
       "    this.rubberband = rubberband;\n",
       "    this.rubberband_canvas = rubberband[0];\n",
       "    this.rubberband_context = rubberband[0].getContext(\"2d\");\n",
       "    this.rubberband_context.strokeStyle = \"#000000\";\n",
       "\n",
       "    this._resize_canvas = function(width, height) {\n",
       "        // Keep the size of the canvas, canvas container, and rubber band\n",
       "        // canvas in synch.\n",
       "        canvas_div.css('width', width)\n",
       "        canvas_div.css('height', height)\n",
       "\n",
       "        canvas.attr('width', width * mpl.ratio);\n",
       "        canvas.attr('height', height * mpl.ratio);\n",
       "        canvas.attr('style', 'width: ' + width + 'px; height: ' + height + 'px;');\n",
       "\n",
       "        rubberband.attr('width', width);\n",
       "        rubberband.attr('height', height);\n",
       "    }\n",
       "\n",
       "    // Set the figure to an initial 600x600px, this will subsequently be updated\n",
       "    // upon first draw.\n",
       "    this._resize_canvas(600, 600);\n",
       "\n",
       "    // Disable right mouse context menu.\n",
       "    $(this.rubberband_canvas).bind(\"contextmenu\",function(e){\n",
       "        return false;\n",
       "    });\n",
       "\n",
       "    function set_focus () {\n",
       "        canvas.focus();\n",
       "        canvas_div.focus();\n",
       "    }\n",
       "\n",
       "    window.setTimeout(set_focus, 100);\n",
       "}\n",
       "\n",
       "mpl.figure.prototype._init_toolbar = function() {\n",
       "    var fig = this;\n",
       "\n",
       "    var nav_element = $('<div/>');\n",
       "    nav_element.attr('style', 'width: 100%');\n",
       "    this.root.append(nav_element);\n",
       "\n",
       "    // Define a callback function for later on.\n",
       "    function toolbar_event(event) {\n",
       "        return fig.toolbar_button_onclick(event['data']);\n",
       "    }\n",
       "    function toolbar_mouse_event(event) {\n",
       "        return fig.toolbar_button_onmouseover(event['data']);\n",
       "    }\n",
       "\n",
       "    for(var toolbar_ind in mpl.toolbar_items) {\n",
       "        var name = mpl.toolbar_items[toolbar_ind][0];\n",
       "        var tooltip = mpl.toolbar_items[toolbar_ind][1];\n",
       "        var image = mpl.toolbar_items[toolbar_ind][2];\n",
       "        var method_name = mpl.toolbar_items[toolbar_ind][3];\n",
       "\n",
       "        if (!name) {\n",
       "            // put a spacer in here.\n",
       "            continue;\n",
       "        }\n",
       "        var button = $('<button/>');\n",
       "        button.addClass('ui-button ui-widget ui-state-default ui-corner-all ' +\n",
       "                        'ui-button-icon-only');\n",
       "        button.attr('role', 'button');\n",
       "        button.attr('aria-disabled', 'false');\n",
       "        button.click(method_name, toolbar_event);\n",
       "        button.mouseover(tooltip, toolbar_mouse_event);\n",
       "\n",
       "        var icon_img = $('<span/>');\n",
       "        icon_img.addClass('ui-button-icon-primary ui-icon');\n",
       "        icon_img.addClass(image);\n",
       "        icon_img.addClass('ui-corner-all');\n",
       "\n",
       "        var tooltip_span = $('<span/>');\n",
       "        tooltip_span.addClass('ui-button-text');\n",
       "        tooltip_span.html(tooltip);\n",
       "\n",
       "        button.append(icon_img);\n",
       "        button.append(tooltip_span);\n",
       "\n",
       "        nav_element.append(button);\n",
       "    }\n",
       "\n",
       "    var fmt_picker_span = $('<span/>');\n",
       "\n",
       "    var fmt_picker = $('<select/>');\n",
       "    fmt_picker.addClass('mpl-toolbar-option ui-widget ui-widget-content');\n",
       "    fmt_picker_span.append(fmt_picker);\n",
       "    nav_element.append(fmt_picker_span);\n",
       "    this.format_dropdown = fmt_picker[0];\n",
       "\n",
       "    for (var ind in mpl.extensions) {\n",
       "        var fmt = mpl.extensions[ind];\n",
       "        var option = $(\n",
       "            '<option/>', {selected: fmt === mpl.default_extension}).html(fmt);\n",
       "        fmt_picker.append(option);\n",
       "    }\n",
       "\n",
       "    // Add hover states to the ui-buttons\n",
       "    $( \".ui-button\" ).hover(\n",
       "        function() { $(this).addClass(\"ui-state-hover\");},\n",
       "        function() { $(this).removeClass(\"ui-state-hover\");}\n",
       "    );\n",
       "\n",
       "    var status_bar = $('<span class=\"mpl-message\"/>');\n",
       "    nav_element.append(status_bar);\n",
       "    this.message = status_bar[0];\n",
       "}\n",
       "\n",
       "mpl.figure.prototype.request_resize = function(x_pixels, y_pixels) {\n",
       "    // Request matplotlib to resize the figure. Matplotlib will then trigger a resize in the client,\n",
       "    // which will in turn request a refresh of the image.\n",
       "    this.send_message('resize', {'width': x_pixels, 'height': y_pixels});\n",
       "}\n",
       "\n",
       "mpl.figure.prototype.send_message = function(type, properties) {\n",
       "    properties['type'] = type;\n",
       "    properties['figure_id'] = this.id;\n",
       "    this.ws.send(JSON.stringify(properties));\n",
       "}\n",
       "\n",
       "mpl.figure.prototype.send_draw_message = function() {\n",
       "    if (!this.waiting) {\n",
       "        this.waiting = true;\n",
       "        this.ws.send(JSON.stringify({type: \"draw\", figure_id: this.id}));\n",
       "    }\n",
       "}\n",
       "\n",
       "\n",
       "mpl.figure.prototype.handle_save = function(fig, msg) {\n",
       "    var format_dropdown = fig.format_dropdown;\n",
       "    var format = format_dropdown.options[format_dropdown.selectedIndex].value;\n",
       "    fig.ondownload(fig, format);\n",
       "}\n",
       "\n",
       "\n",
       "mpl.figure.prototype.handle_resize = function(fig, msg) {\n",
       "    var size = msg['size'];\n",
       "    if (size[0] != fig.canvas.width || size[1] != fig.canvas.height) {\n",
       "        fig._resize_canvas(size[0], size[1]);\n",
       "        fig.send_message(\"refresh\", {});\n",
       "    };\n",
       "}\n",
       "\n",
       "mpl.figure.prototype.handle_rubberband = function(fig, msg) {\n",
       "    var x0 = msg['x0'] / mpl.ratio;\n",
       "    var y0 = (fig.canvas.height - msg['y0']) / mpl.ratio;\n",
       "    var x1 = msg['x1'] / mpl.ratio;\n",
       "    var y1 = (fig.canvas.height - msg['y1']) / mpl.ratio;\n",
       "    x0 = Math.floor(x0) + 0.5;\n",
       "    y0 = Math.floor(y0) + 0.5;\n",
       "    x1 = Math.floor(x1) + 0.5;\n",
       "    y1 = Math.floor(y1) + 0.5;\n",
       "    var min_x = Math.min(x0, x1);\n",
       "    var min_y = Math.min(y0, y1);\n",
       "    var width = Math.abs(x1 - x0);\n",
       "    var height = Math.abs(y1 - y0);\n",
       "\n",
       "    fig.rubberband_context.clearRect(\n",
       "        0, 0, fig.canvas.width / mpl.ratio, fig.canvas.height / mpl.ratio);\n",
       "\n",
       "    fig.rubberband_context.strokeRect(min_x, min_y, width, height);\n",
       "}\n",
       "\n",
       "mpl.figure.prototype.handle_figure_label = function(fig, msg) {\n",
       "    // Updates the figure title.\n",
       "    fig.header.textContent = msg['label'];\n",
       "}\n",
       "\n",
       "mpl.figure.prototype.handle_cursor = function(fig, msg) {\n",
       "    var cursor = msg['cursor'];\n",
       "    switch(cursor)\n",
       "    {\n",
       "    case 0:\n",
       "        cursor = 'pointer';\n",
       "        break;\n",
       "    case 1:\n",
       "        cursor = 'default';\n",
       "        break;\n",
       "    case 2:\n",
       "        cursor = 'crosshair';\n",
       "        break;\n",
       "    case 3:\n",
       "        cursor = 'move';\n",
       "        break;\n",
       "    }\n",
       "    fig.rubberband_canvas.style.cursor = cursor;\n",
       "}\n",
       "\n",
       "mpl.figure.prototype.handle_message = function(fig, msg) {\n",
       "    fig.message.textContent = msg['message'];\n",
       "}\n",
       "\n",
       "mpl.figure.prototype.handle_draw = function(fig, msg) {\n",
       "    // Request the server to send over a new figure.\n",
       "    fig.send_draw_message();\n",
       "}\n",
       "\n",
       "mpl.figure.prototype.handle_image_mode = function(fig, msg) {\n",
       "    fig.image_mode = msg['mode'];\n",
       "}\n",
       "\n",
       "mpl.figure.prototype.updated_canvas_event = function() {\n",
       "    // Called whenever the canvas gets updated.\n",
       "    this.send_message(\"ack\", {});\n",
       "}\n",
       "\n",
       "// A function to construct a web socket function for onmessage handling.\n",
       "// Called in the figure constructor.\n",
       "mpl.figure.prototype._make_on_message_function = function(fig) {\n",
       "    return function socket_on_message(evt) {\n",
       "        if (evt.data instanceof Blob) {\n",
       "            /* FIXME: We get \"Resource interpreted as Image but\n",
       "             * transferred with MIME type text/plain:\" errors on\n",
       "             * Chrome.  But how to set the MIME type?  It doesn't seem\n",
       "             * to be part of the websocket stream */\n",
       "            evt.data.type = \"image/png\";\n",
       "\n",
       "            /* Free the memory for the previous frames */\n",
       "            if (fig.imageObj.src) {\n",
       "                (window.URL || window.webkitURL).revokeObjectURL(\n",
       "                    fig.imageObj.src);\n",
       "            }\n",
       "\n",
       "            fig.imageObj.src = (window.URL || window.webkitURL).createObjectURL(\n",
       "                evt.data);\n",
       "            fig.updated_canvas_event();\n",
       "            fig.waiting = false;\n",
       "            return;\n",
       "        }\n",
       "        else if (typeof evt.data === 'string' && evt.data.slice(0, 21) == \"data:image/png;base64\") {\n",
       "            fig.imageObj.src = evt.data;\n",
       "            fig.updated_canvas_event();\n",
       "            fig.waiting = false;\n",
       "            return;\n",
       "        }\n",
       "\n",
       "        var msg = JSON.parse(evt.data);\n",
       "        var msg_type = msg['type'];\n",
       "\n",
       "        // Call the  \"handle_{type}\" callback, which takes\n",
       "        // the figure and JSON message as its only arguments.\n",
       "        try {\n",
       "            var callback = fig[\"handle_\" + msg_type];\n",
       "        } catch (e) {\n",
       "            console.log(\"No handler for the '\" + msg_type + \"' message type: \", msg);\n",
       "            return;\n",
       "        }\n",
       "\n",
       "        if (callback) {\n",
       "            try {\n",
       "                // console.log(\"Handling '\" + msg_type + \"' message: \", msg);\n",
       "                callback(fig, msg);\n",
       "            } catch (e) {\n",
       "                console.log(\"Exception inside the 'handler_\" + msg_type + \"' callback:\", e, e.stack, msg);\n",
       "            }\n",
       "        }\n",
       "    };\n",
       "}\n",
       "\n",
       "// from http://stackoverflow.com/questions/1114465/getting-mouse-location-in-canvas\n",
       "mpl.findpos = function(e) {\n",
       "    //this section is from http://www.quirksmode.org/js/events_properties.html\n",
       "    var targ;\n",
       "    if (!e)\n",
       "        e = window.event;\n",
       "    if (e.target)\n",
       "        targ = e.target;\n",
       "    else if (e.srcElement)\n",
       "        targ = e.srcElement;\n",
       "    if (targ.nodeType == 3) // defeat Safari bug\n",
       "        targ = targ.parentNode;\n",
       "\n",
       "    // jQuery normalizes the pageX and pageY\n",
       "    // pageX,Y are the mouse positions relative to the document\n",
       "    // offset() returns the position of the element relative to the document\n",
       "    var x = e.pageX - $(targ).offset().left;\n",
       "    var y = e.pageY - $(targ).offset().top;\n",
       "\n",
       "    return {\"x\": x, \"y\": y};\n",
       "};\n",
       "\n",
       "/*\n",
       " * return a copy of an object with only non-object keys\n",
       " * we need this to avoid circular references\n",
       " * http://stackoverflow.com/a/24161582/3208463\n",
       " */\n",
       "function simpleKeys (original) {\n",
       "  return Object.keys(original).reduce(function (obj, key) {\n",
       "    if (typeof original[key] !== 'object')\n",
       "        obj[key] = original[key]\n",
       "    return obj;\n",
       "  }, {});\n",
       "}\n",
       "\n",
       "mpl.figure.prototype.mouse_event = function(event, name) {\n",
       "    var canvas_pos = mpl.findpos(event)\n",
       "\n",
       "    if (name === 'button_press')\n",
       "    {\n",
       "        this.canvas.focus();\n",
       "        this.canvas_div.focus();\n",
       "    }\n",
       "\n",
       "    var x = canvas_pos.x * mpl.ratio;\n",
       "    var y = canvas_pos.y * mpl.ratio;\n",
       "\n",
       "    this.send_message(name, {x: x, y: y, button: event.button,\n",
       "                             step: event.step,\n",
       "                             guiEvent: simpleKeys(event)});\n",
       "\n",
       "    /* This prevents the web browser from automatically changing to\n",
       "     * the text insertion cursor when the button is pressed.  We want\n",
       "     * to control all of the cursor setting manually through the\n",
       "     * 'cursor' event from matplotlib */\n",
       "    event.preventDefault();\n",
       "    return false;\n",
       "}\n",
       "\n",
       "mpl.figure.prototype._key_event_extra = function(event, name) {\n",
       "    // Handle any extra behaviour associated with a key event\n",
       "}\n",
       "\n",
       "mpl.figure.prototype.key_event = function(event, name) {\n",
       "\n",
       "    // Prevent repeat events\n",
       "    if (name == 'key_press')\n",
       "    {\n",
       "        if (event.which === this._key)\n",
       "            return;\n",
       "        else\n",
       "            this._key = event.which;\n",
       "    }\n",
       "    if (name == 'key_release')\n",
       "        this._key = null;\n",
       "\n",
       "    var value = '';\n",
       "    if (event.ctrlKey && event.which != 17)\n",
       "        value += \"ctrl+\";\n",
       "    if (event.altKey && event.which != 18)\n",
       "        value += \"alt+\";\n",
       "    if (event.shiftKey && event.which != 16)\n",
       "        value += \"shift+\";\n",
       "\n",
       "    value += 'k';\n",
       "    value += event.which.toString();\n",
       "\n",
       "    this._key_event_extra(event, name);\n",
       "\n",
       "    this.send_message(name, {key: value,\n",
       "                             guiEvent: simpleKeys(event)});\n",
       "    return false;\n",
       "}\n",
       "\n",
       "mpl.figure.prototype.toolbar_button_onclick = function(name) {\n",
       "    if (name == 'download') {\n",
       "        this.handle_save(this, null);\n",
       "    } else {\n",
       "        this.send_message(\"toolbar_button\", {name: name});\n",
       "    }\n",
       "};\n",
       "\n",
       "mpl.figure.prototype.toolbar_button_onmouseover = function(tooltip) {\n",
       "    this.message.textContent = tooltip;\n",
       "};\n",
       "mpl.toolbar_items = [[\"Home\", \"Reset original view\", \"fa fa-home icon-home\", \"home\"], [\"Back\", \"Back to previous view\", \"fa fa-arrow-left icon-arrow-left\", \"back\"], [\"Forward\", \"Forward to next view\", \"fa fa-arrow-right icon-arrow-right\", \"forward\"], [\"\", \"\", \"\", \"\"], [\"Pan\", \"Pan axes with left mouse, zoom with right\", \"fa fa-arrows icon-move\", \"pan\"], [\"Zoom\", \"Zoom to rectangle\", \"fa fa-square-o icon-check-empty\", \"zoom\"], [\"\", \"\", \"\", \"\"], [\"Download\", \"Download plot\", \"fa fa-floppy-o icon-save\", \"download\"]];\n",
       "\n",
       "mpl.extensions = [\"eps\", \"jpeg\", \"pdf\", \"png\", \"ps\", \"raw\", \"svg\", \"tif\"];\n",
       "\n",
       "mpl.default_extension = \"png\";var comm_websocket_adapter = function(comm) {\n",
       "    // Create a \"websocket\"-like object which calls the given IPython comm\n",
       "    // object with the appropriate methods. Currently this is a non binary\n",
       "    // socket, so there is still some room for performance tuning.\n",
       "    var ws = {};\n",
       "\n",
       "    ws.close = function() {\n",
       "        comm.close()\n",
       "    };\n",
       "    ws.send = function(m) {\n",
       "        //console.log('sending', m);\n",
       "        comm.send(m);\n",
       "    };\n",
       "    // Register the callback with on_msg.\n",
       "    comm.on_msg(function(msg) {\n",
       "        //console.log('receiving', msg['content']['data'], msg);\n",
       "        // Pass the mpl event to the overridden (by mpl) onmessage function.\n",
       "        ws.onmessage(msg['content']['data'])\n",
       "    });\n",
       "    return ws;\n",
       "}\n",
       "\n",
       "mpl.mpl_figure_comm = function(comm, msg) {\n",
       "    // This is the function which gets called when the mpl process\n",
       "    // starts-up an IPython Comm through the \"matplotlib\" channel.\n",
       "\n",
       "    var id = msg.content.data.id;\n",
       "    // Get hold of the div created by the display call when the Comm\n",
       "    // socket was opened in Python.\n",
       "    var element = $(\"#\" + id);\n",
       "    var ws_proxy = comm_websocket_adapter(comm)\n",
       "\n",
       "    function ondownload(figure, format) {\n",
       "        window.open(figure.imageObj.src);\n",
       "    }\n",
       "\n",
       "    var fig = new mpl.figure(id, ws_proxy,\n",
       "                           ondownload,\n",
       "                           element.get(0));\n",
       "\n",
       "    // Call onopen now - mpl needs it, as it is assuming we've passed it a real\n",
       "    // web socket which is closed, not our websocket->open comm proxy.\n",
       "    ws_proxy.onopen();\n",
       "\n",
       "    fig.parent_element = element.get(0);\n",
       "    fig.cell_info = mpl.find_output_cell(\"<div id='\" + id + \"'></div>\");\n",
       "    if (!fig.cell_info) {\n",
       "        console.error(\"Failed to find cell for figure\", id, fig);\n",
       "        return;\n",
       "    }\n",
       "\n",
       "    var output_index = fig.cell_info[2]\n",
       "    var cell = fig.cell_info[0];\n",
       "\n",
       "};\n",
       "\n",
       "mpl.figure.prototype.handle_close = function(fig, msg) {\n",
       "    var width = fig.canvas.width/mpl.ratio\n",
       "    fig.root.unbind('remove')\n",
       "\n",
       "    // Update the output cell to use the data from the current canvas.\n",
       "    fig.push_to_output();\n",
       "    var dataURL = fig.canvas.toDataURL();\n",
       "    // Re-enable the keyboard manager in IPython - without this line, in FF,\n",
       "    // the notebook keyboard shortcuts fail.\n",
       "    IPython.keyboard_manager.enable()\n",
       "    $(fig.parent_element).html('<img src=\"' + dataURL + '\" width=\"' + width + '\">');\n",
       "    fig.close_ws(fig, msg);\n",
       "}\n",
       "\n",
       "mpl.figure.prototype.close_ws = function(fig, msg){\n",
       "    fig.send_message('closing', msg);\n",
       "    // fig.ws.close()\n",
       "}\n",
       "\n",
       "mpl.figure.prototype.push_to_output = function(remove_interactive) {\n",
       "    // Turn the data on the canvas into data in the output cell.\n",
       "    var width = this.canvas.width/mpl.ratio\n",
       "    var dataURL = this.canvas.toDataURL();\n",
       "    this.cell_info[1]['text/html'] = '<img src=\"' + dataURL + '\" width=\"' + width + '\">';\n",
       "}\n",
       "\n",
       "mpl.figure.prototype.updated_canvas_event = function() {\n",
       "    // Tell IPython that the notebook contents must change.\n",
       "    IPython.notebook.set_dirty(true);\n",
       "    this.send_message(\"ack\", {});\n",
       "    var fig = this;\n",
       "    // Wait a second, then push the new image to the DOM so\n",
       "    // that it is saved nicely (might be nice to debounce this).\n",
       "    setTimeout(function () { fig.push_to_output() }, 1000);\n",
       "}\n",
       "\n",
       "mpl.figure.prototype._init_toolbar = function() {\n",
       "    var fig = this;\n",
       "\n",
       "    var nav_element = $('<div/>');\n",
       "    nav_element.attr('style', 'width: 100%');\n",
       "    this.root.append(nav_element);\n",
       "\n",
       "    // Define a callback function for later on.\n",
       "    function toolbar_event(event) {\n",
       "        return fig.toolbar_button_onclick(event['data']);\n",
       "    }\n",
       "    function toolbar_mouse_event(event) {\n",
       "        return fig.toolbar_button_onmouseover(event['data']);\n",
       "    }\n",
       "\n",
       "    for(var toolbar_ind in mpl.toolbar_items){\n",
       "        var name = mpl.toolbar_items[toolbar_ind][0];\n",
       "        var tooltip = mpl.toolbar_items[toolbar_ind][1];\n",
       "        var image = mpl.toolbar_items[toolbar_ind][2];\n",
       "        var method_name = mpl.toolbar_items[toolbar_ind][3];\n",
       "\n",
       "        if (!name) { continue; };\n",
       "\n",
       "        var button = $('<button class=\"btn btn-default\" href=\"#\" title=\"' + name + '\"><i class=\"fa ' + image + ' fa-lg\"></i></button>');\n",
       "        button.click(method_name, toolbar_event);\n",
       "        button.mouseover(tooltip, toolbar_mouse_event);\n",
       "        nav_element.append(button);\n",
       "    }\n",
       "\n",
       "    // Add the status bar.\n",
       "    var status_bar = $('<span class=\"mpl-message\" style=\"text-align:right; float: right;\"/>');\n",
       "    nav_element.append(status_bar);\n",
       "    this.message = status_bar[0];\n",
       "\n",
       "    // Add the close button to the window.\n",
       "    var buttongrp = $('<div class=\"btn-group inline pull-right\"></div>');\n",
       "    var button = $('<button class=\"btn btn-mini btn-primary\" href=\"#\" title=\"Stop Interaction\"><i class=\"fa fa-power-off icon-remove icon-large\"></i></button>');\n",
       "    button.click(function (evt) { fig.handle_close(fig, {}); } );\n",
       "    button.mouseover('Stop Interaction', toolbar_mouse_event);\n",
       "    buttongrp.append(button);\n",
       "    var titlebar = this.root.find($('.ui-dialog-titlebar'));\n",
       "    titlebar.prepend(buttongrp);\n",
       "}\n",
       "\n",
       "mpl.figure.prototype._root_extra_style = function(el){\n",
       "    var fig = this\n",
       "    el.on(\"remove\", function(){\n",
       "\tfig.close_ws(fig, {});\n",
       "    });\n",
       "}\n",
       "\n",
       "mpl.figure.prototype._canvas_extra_style = function(el){\n",
       "    // this is important to make the div 'focusable\n",
       "    el.attr('tabindex', 0)\n",
       "    // reach out to IPython and tell the keyboard manager to turn it's self\n",
       "    // off when our div gets focus\n",
       "\n",
       "    // location in version 3\n",
       "    if (IPython.notebook.keyboard_manager) {\n",
       "        IPython.notebook.keyboard_manager.register_events(el);\n",
       "    }\n",
       "    else {\n",
       "        // location in version 2\n",
       "        IPython.keyboard_manager.register_events(el);\n",
       "    }\n",
       "\n",
       "}\n",
       "\n",
       "mpl.figure.prototype._key_event_extra = function(event, name) {\n",
       "    var manager = IPython.notebook.keyboard_manager;\n",
       "    if (!manager)\n",
       "        manager = IPython.keyboard_manager;\n",
       "\n",
       "    // Check for shift+enter\n",
       "    if (event.shiftKey && event.which == 13) {\n",
       "        this.canvas_div.blur();\n",
       "        // select the cell after this one\n",
       "        var index = IPython.notebook.find_cell_index(this.cell_info[0]);\n",
       "        IPython.notebook.select(index + 1);\n",
       "    }\n",
       "}\n",
       "\n",
       "mpl.figure.prototype.handle_save = function(fig, msg) {\n",
       "    fig.ondownload(fig, null);\n",
       "}\n",
       "\n",
       "\n",
       "mpl.find_output_cell = function(html_output) {\n",
       "    // Return the cell and output element which can be found *uniquely* in the notebook.\n",
       "    // Note - this is a bit hacky, but it is done because the \"notebook_saving.Notebook\"\n",
       "    // IPython event is triggered only after the cells have been serialised, which for\n",
       "    // our purposes (turning an active figure into a static one), is too late.\n",
       "    var cells = IPython.notebook.get_cells();\n",
       "    var ncells = cells.length;\n",
       "    for (var i=0; i<ncells; i++) {\n",
       "        var cell = cells[i];\n",
       "        if (cell.cell_type === 'code'){\n",
       "            for (var j=0; j<cell.output_area.outputs.length; j++) {\n",
       "                var data = cell.output_area.outputs[j];\n",
       "                if (data.data) {\n",
       "                    // IPython >= 3 moved mimebundle to data attribute of output\n",
       "                    data = data.data;\n",
       "                }\n",
       "                if (data['text/html'] == html_output) {\n",
       "                    return [cell, data, j];\n",
       "                }\n",
       "            }\n",
       "        }\n",
       "    }\n",
       "}\n",
       "\n",
       "// Register the function which deals with the matplotlib target/channel.\n",
       "// The kernel may be null if the page has been refreshed.\n",
       "if (IPython.notebook.kernel != null) {\n",
       "    IPython.notebook.kernel.comm_manager.register_target('matplotlib', mpl.mpl_figure_comm);\n",
       "}\n"
      ],
      "text/plain": [
       "<IPython.core.display.Javascript object>"
      ]
     },
     "metadata": {},
     "output_type": "display_data"
    },
    {
     "data": {
      "text/html": [
       "<img src=\"data:image/png;base64,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\" width=\"640\">"
      ],
      "text/plain": [
       "<IPython.core.display.HTML object>"
      ]
     },
     "metadata": {},
     "output_type": "display_data"
    }
   ],
   "source": [
    "fig = plt.figure()\n",
    "SE3().plot(frame='0', dims=[-2,3,0,5,0,5], color='black')\n",
    "ax = plt.gca()\n",
    "ax.set_xlabel('X'); ax.set_ylabel('Y'); ax.set_zlabel('Z');\n",
    "ax.scatter(xs=Q[0], ys=Q[1], zs=Q[2], s=20)  # draw vertices\n",
    "\n",
    "# draw lines joining the vertices\n",
    "lines = [[0,1,5,6], [1,2,6,7], [2,3,7,4], [3,0,4,5]]\n",
    "for line in lines:\n",
    "    ax.plot([Q[0,i] for i in line], [Q[1,i] for i in line], [Q[2,i] for i in line])"
   ]
  },
  {
   "cell_type": "markdown",
   "metadata": {},
   "source": [
    "This is often used in SLAM and bundle adjustment algorithms since it is compact and better behaved than using roll-pitch-yaw or Euler angles."
   ]
  },
  {
   "cell_type": "markdown",
   "metadata": {},
   "source": [
    "# Working in 2D"
   ]
  },
  {
   "cell_type": "markdown",
   "metadata": {},
   "source": [
    "Things are actually much simpler in 2D.  There's only one possible rotation which is around an axis perpendicular to the plane (where the z-axis would have been if it were in 3D).\n",
    "\n",
    "Rotations in 2D can be represented by rotation matrices – 2x2 orthonormal matrices – which belong to the group SO(2). Just as for the 3D case these matrices have special properties, each column (and row) is a unit vector, and they are all orthogonal, the inverse of this matrix is equal to its transpose, and its determinant is +1.\n",
    "\n",
    "We can create such a matrix, a rotation of $\\pi/4$ radians by"
   ]
  },
  {
   "cell_type": "code",
   "execution_count": null,
   "metadata": {},
   "outputs": [],
   "source": [
    "R = SO2(math.pi/4)\n",
    "R"
   ]
  },
  {
   "cell_type": "markdown",
   "metadata": {},
   "source": [
    "or in degrees"
   ]
  },
  {
   "cell_type": "code",
   "execution_count": null,
   "metadata": {},
   "outputs": [],
   "source": [
    "SO2(45, unit='deg')"
   ]
  },
  {
   "cell_type": "markdown",
   "metadata": {},
   "source": [
    "and we can plot this on the 2D plane"
   ]
  },
  {
   "cell_type": "code",
   "execution_count": null,
   "metadata": {},
   "outputs": [],
   "source": [
    "plt.figure() # create a new figure\n",
    "R.plot()"
   ]
  },
  {
   "cell_type": "markdown",
   "metadata": {},
   "source": [
    "Once again, it's useful to describe the position of things and we do this this with a homogeneous transformation matrix – a 3x3 matrix – which belong to the group SE(2)."
   ]
  },
  {
   "cell_type": "code",
   "execution_count": null,
   "metadata": {},
   "outputs": [],
   "source": [
    "T = SE2(1, 2)\n",
    "T"
   ]
  },
  {
   "cell_type": "markdown",
   "metadata": {},
   "source": [
    "which has a similar structure to the 3D case.  The rotation matrix is in the top-left corner and the translation components are in the right-most column.\n",
    "\n",
    "We can also call the function with the element in a list"
   ]
  },
  {
   "cell_type": "code",
   "execution_count": null,
   "metadata": {},
   "outputs": [],
   "source": [
    "T = SE2([1, 2])"
   ]
  },
  {
   "cell_type": "code",
   "execution_count": null,
   "metadata": {},
   "outputs": [],
   "source": [
    "plt.figure() # create a new figure\n",
    "T.plot()"
   ]
  },
  {
   "cell_type": "code",
   "execution_count": null,
   "metadata": {},
   "outputs": [],
   "source": [
    "T = SE2(1, 2) @ SE2(45, 'deg')\n",
    "T"
   ]
  },
  {
   "cell_type": "code",
   "execution_count": null,
   "metadata": {},
   "outputs": [],
   "source": [
    "plt.figure() # create a new figure\n",
    "T.plot()"
   ]
  },
  {
   "cell_type": "code",
   "execution_count": null,
   "metadata": {},
   "outputs": [],
   "source": [
    "\\cbullet"
   ]
  },
  {
   "cell_type": "markdown",
   "metadata": {},
   "source": [
    "The inplace versions of operators are also supported, for example"
   ]
  },
  {
   "cell_type": "code",
   "execution_count": null,
   "metadata": {},
   "outputs": [],
   "source": [
    "X = T\n",
    "X /= T2\n",
    "X"
   ]
  },
  {
   "cell_type": "markdown",
   "metadata": {},
   "source": [
    "# Operators\n",
    "\n",
    "The classes we have introduced mimic the behavior the mathematical groups $\\mbox{SO}(3)$ and $\\mbox{SE}(3)$ which contain matrices of particular structure. They are subsets respectively of the sets of all possible real 3x3 and 4x4 matrices.\n",
    "\n",
    "The only operations on two elements of the group that also belongs to the group are composition (represented by the `*` operator) and inversion."
   ]
  },
  {
   "cell_type": "code",
   "execution_count": 69,
   "metadata": {},
   "outputs": [
    {
     "data": {
      "text/plain": [
       "[spatialmath.pose3d.SE3, spatialmath.pose3d.SE3, spatialmath.pose3d.SE3]"
      ]
     },
     "execution_count": 69,
     "metadata": {},
     "output_type": "execute_result"
    }
   ],
   "source": [
    "T1 = SE3(1, 2, 3) * SE3.Rx(30, 'deg')\n",
    "[type(T), type(T.inv), type(T*T)]"
   ]
  },
  {
   "cell_type": "markdown",
   "metadata": {},
   "source": [
    "If we know the pose of frame {2} and a _rigid body motion_ from frame {1} to frame {2}"
   ]
  },
  {
   "cell_type": "code",
   "execution_count": null,
   "metadata": {},
   "outputs": [],
   "source": [
    "T2 = SE3(4, 5, 6) * SE3.Ry(-40, 'deg')\n",
    "T12 = SE3(0, -2, -1) * SE3.Rz(70, 'deg')"
   ]
  },
  {
   "cell_type": "markdown",
   "metadata": {},
   "source": [
    "then ${}^0{\\bf T}_1 \\bullet {}^1{\\bf T}_2 = {}^0{\\bf T}_2$ then ${}^0{\\bf T}_1 =  {}^1{\\bf T}_2 \\bullet ({}^0{\\bf T}_2)^{-1}$ which we write as"
   ]
  },
  {
   "cell_type": "code",
   "execution_count": 148,
   "metadata": {},
   "outputs": [
    {
     "data": {
      "text/plain": [
       "\u001b[38;5;2m[0] =\n",
       "\u001b[0m  \u001b[38;5;1m\u001b[48;5;255m 0.766044 \u001b[0m\u001b[38;5;1m\u001b[48;5;255m 0        \u001b[0m\u001b[38;5;1m\u001b[48;5;255m-0.642788 \u001b[0m\u001b[38;5;4m\u001b[48;5;255m 0        \u001b[0m\u001b[48;5;255m  \u001b[0m\n",
       "  \u001b[38;5;1m\u001b[48;5;255m 0        \u001b[0m\u001b[38;5;1m\u001b[48;5;255m 1        \u001b[0m\u001b[38;5;1m\u001b[48;5;255m 0        \u001b[0m\u001b[38;5;4m\u001b[48;5;255m 0        \u001b[0m\u001b[48;5;255m  \u001b[0m\n",
       "  \u001b[38;5;1m\u001b[48;5;255m 0.642788 \u001b[0m\u001b[38;5;1m\u001b[48;5;255m 0        \u001b[0m\u001b[38;5;1m\u001b[48;5;255m 0.766044 \u001b[0m\u001b[38;5;4m\u001b[48;5;255m 0        \u001b[0m\u001b[48;5;255m  \u001b[0m\n",
       "  \u001b[38;5;244m\u001b[48;5;255m 0        \u001b[0m\u001b[38;5;244m\u001b[48;5;255m 0        \u001b[0m\u001b[38;5;244m\u001b[48;5;255m 0        \u001b[0m\u001b[38;5;244m\u001b[48;5;255m 1        \u001b[0m\u001b[48;5;255m  \u001b[0m\n",
       "\u001b[38;5;2m[1] =\n",
       "\u001b[0m  \u001b[38;5;1m\u001b[48;5;255m 0.766044 \u001b[0m\u001b[38;5;1m\u001b[48;5;255m 0        \u001b[0m\u001b[38;5;1m\u001b[48;5;255m-0.642788 \u001b[0m\u001b[38;5;4m\u001b[48;5;255m 0        \u001b[0m\u001b[48;5;255m  \u001b[0m\n",
       "  \u001b[38;5;1m\u001b[48;5;255m-0.0641717\u001b[0m\u001b[38;5;1m\u001b[48;5;255m 0.995004 \u001b[0m\u001b[38;5;1m\u001b[48;5;255m-0.0764768\u001b[0m\u001b[38;5;4m\u001b[48;5;255m 0        \u001b[0m\u001b[48;5;255m  \u001b[0m\n",
       "  \u001b[38;5;1m\u001b[48;5;255m 0.639576 \u001b[0m\u001b[38;5;1m\u001b[48;5;255m 0.0998334\u001b[0m\u001b[38;5;1m\u001b[48;5;255m 0.762217 \u001b[0m\u001b[38;5;4m\u001b[48;5;255m 0        \u001b[0m\u001b[48;5;255m  \u001b[0m\n",
       "  \u001b[38;5;244m\u001b[48;5;255m 0        \u001b[0m\u001b[38;5;244m\u001b[48;5;255m 0        \u001b[0m\u001b[38;5;244m\u001b[48;5;255m 0        \u001b[0m\u001b[38;5;244m\u001b[48;5;255m 1        \u001b[0m\u001b[48;5;255m  \u001b[0m\n",
       "\u001b[38;5;2m[2] =\n",
       "\u001b[0m  \u001b[38;5;1m\u001b[48;5;255m 0.766044 \u001b[0m\u001b[38;5;1m\u001b[48;5;255m 0        \u001b[0m\u001b[38;5;1m\u001b[48;5;255m-0.642788 \u001b[0m\u001b[38;5;4m\u001b[48;5;255m 0        \u001b[0m\u001b[48;5;255m  \u001b[0m\n",
       "  \u001b[38;5;1m\u001b[48;5;255m-0.127702 \u001b[0m\u001b[38;5;1m\u001b[48;5;255m 0.980067 \u001b[0m\u001b[38;5;1m\u001b[48;5;255m-0.15219  \u001b[0m\u001b[38;5;4m\u001b[48;5;255m 0        \u001b[0m\u001b[48;5;255m  \u001b[0m\n",
       "  \u001b[38;5;1m\u001b[48;5;255m 0.629975 \u001b[0m\u001b[38;5;1m\u001b[48;5;255m 0.198669 \u001b[0m\u001b[38;5;1m\u001b[48;5;255m 0.750775 \u001b[0m\u001b[38;5;4m\u001b[48;5;255m 0        \u001b[0m\u001b[48;5;255m  \u001b[0m\n",
       "  \u001b[38;5;244m\u001b[48;5;255m 0        \u001b[0m\u001b[38;5;244m\u001b[48;5;255m 0        \u001b[0m\u001b[38;5;244m\u001b[48;5;255m 0        \u001b[0m\u001b[38;5;244m\u001b[48;5;255m 1        \u001b[0m\u001b[48;5;255m  \u001b[0m\n",
       "\u001b[38;5;2m[3] =\n",
       "\u001b[0m  \u001b[38;5;1m\u001b[48;5;255m 0.766044 \u001b[0m\u001b[38;5;1m\u001b[48;5;255m 0        \u001b[0m\u001b[38;5;1m\u001b[48;5;255m-0.642788 \u001b[0m\u001b[38;5;4m\u001b[48;5;255m 0        \u001b[0m\u001b[48;5;255m  \u001b[0m\n",
       "  \u001b[38;5;1m\u001b[48;5;255m-0.189957 \u001b[0m\u001b[38;5;1m\u001b[48;5;255m 0.955336 \u001b[0m\u001b[38;5;1m\u001b[48;5;255m-0.226382 \u001b[0m\u001b[38;5;4m\u001b[48;5;255m 0        \u001b[0m\u001b[48;5;255m  \u001b[0m\n",
       "  \u001b[38;5;1m\u001b[48;5;255m 0.614078 \u001b[0m\u001b[38;5;1m\u001b[48;5;255m 0.29552  \u001b[0m\u001b[38;5;1m\u001b[48;5;255m 0.73183  \u001b[0m\u001b[38;5;4m\u001b[48;5;255m 0        \u001b[0m\u001b[48;5;255m  \u001b[0m\n",
       "  \u001b[38;5;244m\u001b[48;5;255m 0        \u001b[0m\u001b[38;5;244m\u001b[48;5;255m 0        \u001b[0m\u001b[38;5;244m\u001b[48;5;255m 0        \u001b[0m\u001b[38;5;244m\u001b[48;5;255m 1        \u001b[0m\u001b[48;5;255m  \u001b[0m\n",
       "\u001b[38;5;2m[4] =\n",
       "\u001b[0m  \u001b[38;5;1m\u001b[48;5;255m 0.766044 \u001b[0m\u001b[38;5;1m\u001b[48;5;255m 0        \u001b[0m\u001b[38;5;1m\u001b[48;5;255m-0.642788 \u001b[0m\u001b[38;5;4m\u001b[48;5;255m 0        \u001b[0m\u001b[48;5;255m  \u001b[0m\n",
       "  \u001b[38;5;1m\u001b[48;5;255m-0.250313 \u001b[0m\u001b[38;5;1m\u001b[48;5;255m 0.921061 \u001b[0m\u001b[38;5;1m\u001b[48;5;255m-0.298312 \u001b[0m\u001b[38;5;4m\u001b[48;5;255m 0        \u001b[0m\u001b[48;5;255m  \u001b[0m\n",
       "  \u001b[38;5;1m\u001b[48;5;255m 0.592047 \u001b[0m\u001b[38;5;1m\u001b[48;5;255m 0.389418 \u001b[0m\u001b[38;5;1m\u001b[48;5;255m 0.705574 \u001b[0m\u001b[38;5;4m\u001b[48;5;255m 0        \u001b[0m\u001b[48;5;255m  \u001b[0m\n",
       "  \u001b[38;5;244m\u001b[48;5;255m 0        \u001b[0m\u001b[38;5;244m\u001b[48;5;255m 0        \u001b[0m\u001b[38;5;244m\u001b[48;5;255m 0        \u001b[0m\u001b[38;5;244m\u001b[48;5;255m 1        \u001b[0m\u001b[48;5;255m  \u001b[0m\n",
       "\u001b[38;5;2m[5] =\n",
       "\u001b[0m  \u001b[38;5;1m\u001b[48;5;255m 0.766044 \u001b[0m\u001b[38;5;1m\u001b[48;5;255m 0        \u001b[0m\u001b[38;5;1m\u001b[48;5;255m-0.642788 \u001b[0m\u001b[38;5;4m\u001b[48;5;255m 0        \u001b[0m\u001b[48;5;255m  \u001b[0m\n",
       "  \u001b[38;5;1m\u001b[48;5;255m-0.308169 \u001b[0m\u001b[38;5;1m\u001b[48;5;255m 0.877583 \u001b[0m\u001b[38;5;1m\u001b[48;5;255m-0.367261 \u001b[0m\u001b[38;5;4m\u001b[48;5;255m 0        \u001b[0m\u001b[48;5;255m  \u001b[0m\n",
       "  \u001b[38;5;1m\u001b[48;5;255m 0.564099 \u001b[0m\u001b[38;5;1m\u001b[48;5;255m 0.479426 \u001b[0m\u001b[38;5;1m\u001b[48;5;255m 0.672267 \u001b[0m\u001b[38;5;4m\u001b[48;5;255m 0        \u001b[0m\u001b[48;5;255m  \u001b[0m\n",
       "  \u001b[38;5;244m\u001b[48;5;255m 0        \u001b[0m\u001b[38;5;244m\u001b[48;5;255m 0        \u001b[0m\u001b[38;5;244m\u001b[48;5;255m 0        \u001b[0m\u001b[38;5;244m\u001b[48;5;255m 1        \u001b[0m\u001b[48;5;255m  \u001b[0m"
      ]
     },
     "execution_count": 148,
     "metadata": {},
     "output_type": "execute_result"
    }
   ],
   "source": [
    "T * T2.inv"
   ]
  },
  {
   "cell_type": "markdown",
   "metadata": {},
   "source": [
    "or more concisely as"
   ]
  },
  {
   "cell_type": "code",
   "execution_count": 149,
   "metadata": {},
   "outputs": [
    {
     "data": {
      "text/plain": [
       "\u001b[38;5;2m[0] =\n",
       "\u001b[0m  \u001b[38;5;1m\u001b[48;5;255m 0.766044 \u001b[0m\u001b[38;5;1m\u001b[48;5;255m 0        \u001b[0m\u001b[38;5;1m\u001b[48;5;255m-0.642788 \u001b[0m\u001b[38;5;4m\u001b[48;5;255m 0        \u001b[0m\u001b[48;5;255m  \u001b[0m\n",
       "  \u001b[38;5;1m\u001b[48;5;255m 0        \u001b[0m\u001b[38;5;1m\u001b[48;5;255m 1        \u001b[0m\u001b[38;5;1m\u001b[48;5;255m 0        \u001b[0m\u001b[38;5;4m\u001b[48;5;255m 0        \u001b[0m\u001b[48;5;255m  \u001b[0m\n",
       "  \u001b[38;5;1m\u001b[48;5;255m 0.642788 \u001b[0m\u001b[38;5;1m\u001b[48;5;255m 0        \u001b[0m\u001b[38;5;1m\u001b[48;5;255m 0.766044 \u001b[0m\u001b[38;5;4m\u001b[48;5;255m 0        \u001b[0m\u001b[48;5;255m  \u001b[0m\n",
       "  \u001b[38;5;244m\u001b[48;5;255m 0        \u001b[0m\u001b[38;5;244m\u001b[48;5;255m 0        \u001b[0m\u001b[38;5;244m\u001b[48;5;255m 0        \u001b[0m\u001b[38;5;244m\u001b[48;5;255m 1        \u001b[0m\u001b[48;5;255m  \u001b[0m\n",
       "\u001b[38;5;2m[1] =\n",
       "\u001b[0m  \u001b[38;5;1m\u001b[48;5;255m 0.766044 \u001b[0m\u001b[38;5;1m\u001b[48;5;255m 0        \u001b[0m\u001b[38;5;1m\u001b[48;5;255m-0.642788 \u001b[0m\u001b[38;5;4m\u001b[48;5;255m 0        \u001b[0m\u001b[48;5;255m  \u001b[0m\n",
       "  \u001b[38;5;1m\u001b[48;5;255m-0.0641717\u001b[0m\u001b[38;5;1m\u001b[48;5;255m 0.995004 \u001b[0m\u001b[38;5;1m\u001b[48;5;255m-0.0764768\u001b[0m\u001b[38;5;4m\u001b[48;5;255m 0        \u001b[0m\u001b[48;5;255m  \u001b[0m\n",
       "  \u001b[38;5;1m\u001b[48;5;255m 0.639576 \u001b[0m\u001b[38;5;1m\u001b[48;5;255m 0.0998334\u001b[0m\u001b[38;5;1m\u001b[48;5;255m 0.762217 \u001b[0m\u001b[38;5;4m\u001b[48;5;255m 0        \u001b[0m\u001b[48;5;255m  \u001b[0m\n",
       "  \u001b[38;5;244m\u001b[48;5;255m 0        \u001b[0m\u001b[38;5;244m\u001b[48;5;255m 0        \u001b[0m\u001b[38;5;244m\u001b[48;5;255m 0        \u001b[0m\u001b[38;5;244m\u001b[48;5;255m 1        \u001b[0m\u001b[48;5;255m  \u001b[0m\n",
       "\u001b[38;5;2m[2] =\n",
       "\u001b[0m  \u001b[38;5;1m\u001b[48;5;255m 0.766044 \u001b[0m\u001b[38;5;1m\u001b[48;5;255m 0        \u001b[0m\u001b[38;5;1m\u001b[48;5;255m-0.642788 \u001b[0m\u001b[38;5;4m\u001b[48;5;255m 0        \u001b[0m\u001b[48;5;255m  \u001b[0m\n",
       "  \u001b[38;5;1m\u001b[48;5;255m-0.127702 \u001b[0m\u001b[38;5;1m\u001b[48;5;255m 0.980067 \u001b[0m\u001b[38;5;1m\u001b[48;5;255m-0.15219  \u001b[0m\u001b[38;5;4m\u001b[48;5;255m 0        \u001b[0m\u001b[48;5;255m  \u001b[0m\n",
       "  \u001b[38;5;1m\u001b[48;5;255m 0.629975 \u001b[0m\u001b[38;5;1m\u001b[48;5;255m 0.198669 \u001b[0m\u001b[38;5;1m\u001b[48;5;255m 0.750775 \u001b[0m\u001b[38;5;4m\u001b[48;5;255m 0        \u001b[0m\u001b[48;5;255m  \u001b[0m\n",
       "  \u001b[38;5;244m\u001b[48;5;255m 0        \u001b[0m\u001b[38;5;244m\u001b[48;5;255m 0        \u001b[0m\u001b[38;5;244m\u001b[48;5;255m 0        \u001b[0m\u001b[38;5;244m\u001b[48;5;255m 1        \u001b[0m\u001b[48;5;255m  \u001b[0m\n",
       "\u001b[38;5;2m[3] =\n",
       "\u001b[0m  \u001b[38;5;1m\u001b[48;5;255m 0.766044 \u001b[0m\u001b[38;5;1m\u001b[48;5;255m 0        \u001b[0m\u001b[38;5;1m\u001b[48;5;255m-0.642788 \u001b[0m\u001b[38;5;4m\u001b[48;5;255m 0        \u001b[0m\u001b[48;5;255m  \u001b[0m\n",
       "  \u001b[38;5;1m\u001b[48;5;255m-0.189957 \u001b[0m\u001b[38;5;1m\u001b[48;5;255m 0.955336 \u001b[0m\u001b[38;5;1m\u001b[48;5;255m-0.226382 \u001b[0m\u001b[38;5;4m\u001b[48;5;255m 0        \u001b[0m\u001b[48;5;255m  \u001b[0m\n",
       "  \u001b[38;5;1m\u001b[48;5;255m 0.614078 \u001b[0m\u001b[38;5;1m\u001b[48;5;255m 0.29552  \u001b[0m\u001b[38;5;1m\u001b[48;5;255m 0.73183  \u001b[0m\u001b[38;5;4m\u001b[48;5;255m 0        \u001b[0m\u001b[48;5;255m  \u001b[0m\n",
       "  \u001b[38;5;244m\u001b[48;5;255m 0        \u001b[0m\u001b[38;5;244m\u001b[48;5;255m 0        \u001b[0m\u001b[38;5;244m\u001b[48;5;255m 0        \u001b[0m\u001b[38;5;244m\u001b[48;5;255m 1        \u001b[0m\u001b[48;5;255m  \u001b[0m\n",
       "\u001b[38;5;2m[4] =\n",
       "\u001b[0m  \u001b[38;5;1m\u001b[48;5;255m 0.766044 \u001b[0m\u001b[38;5;1m\u001b[48;5;255m 0        \u001b[0m\u001b[38;5;1m\u001b[48;5;255m-0.642788 \u001b[0m\u001b[38;5;4m\u001b[48;5;255m 0        \u001b[0m\u001b[48;5;255m  \u001b[0m\n",
       "  \u001b[38;5;1m\u001b[48;5;255m-0.250313 \u001b[0m\u001b[38;5;1m\u001b[48;5;255m 0.921061 \u001b[0m\u001b[38;5;1m\u001b[48;5;255m-0.298312 \u001b[0m\u001b[38;5;4m\u001b[48;5;255m 0        \u001b[0m\u001b[48;5;255m  \u001b[0m\n",
       "  \u001b[38;5;1m\u001b[48;5;255m 0.592047 \u001b[0m\u001b[38;5;1m\u001b[48;5;255m 0.389418 \u001b[0m\u001b[38;5;1m\u001b[48;5;255m 0.705574 \u001b[0m\u001b[38;5;4m\u001b[48;5;255m 0        \u001b[0m\u001b[48;5;255m  \u001b[0m\n",
       "  \u001b[38;5;244m\u001b[48;5;255m 0        \u001b[0m\u001b[38;5;244m\u001b[48;5;255m 0        \u001b[0m\u001b[38;5;244m\u001b[48;5;255m 0        \u001b[0m\u001b[38;5;244m\u001b[48;5;255m 1        \u001b[0m\u001b[48;5;255m  \u001b[0m\n",
       "\u001b[38;5;2m[5] =\n",
       "\u001b[0m  \u001b[38;5;1m\u001b[48;5;255m 0.766044 \u001b[0m\u001b[38;5;1m\u001b[48;5;255m 0        \u001b[0m\u001b[38;5;1m\u001b[48;5;255m-0.642788 \u001b[0m\u001b[38;5;4m\u001b[48;5;255m 0        \u001b[0m\u001b[48;5;255m  \u001b[0m\n",
       "  \u001b[38;5;1m\u001b[48;5;255m-0.308169 \u001b[0m\u001b[38;5;1m\u001b[48;5;255m 0.877583 \u001b[0m\u001b[38;5;1m\u001b[48;5;255m-0.367261 \u001b[0m\u001b[38;5;4m\u001b[48;5;255m 0        \u001b[0m\u001b[48;5;255m  \u001b[0m\n",
       "  \u001b[38;5;1m\u001b[48;5;255m 0.564099 \u001b[0m\u001b[38;5;1m\u001b[48;5;255m 0.479426 \u001b[0m\u001b[38;5;1m\u001b[48;5;255m 0.672267 \u001b[0m\u001b[38;5;4m\u001b[48;5;255m 0        \u001b[0m\u001b[48;5;255m  \u001b[0m\n",
       "  \u001b[38;5;244m\u001b[48;5;255m 0        \u001b[0m\u001b[38;5;244m\u001b[48;5;255m 0        \u001b[0m\u001b[38;5;244m\u001b[48;5;255m 0        \u001b[0m\u001b[38;5;244m\u001b[48;5;255m 1        \u001b[0m\u001b[48;5;255m  \u001b[0m"
      ]
     },
     "execution_count": 149,
     "metadata": {},
     "output_type": "execute_result"
    }
   ],
   "source": [
    "T / T2"
   ]
  },
  {
   "cell_type": "markdown",
   "metadata": {},
   "source": [
    "## Non-group operations\n",
    "\n",
    "Operations such as addition and subtraction are valid for matrices but not for elements of the group, therefore these operations will return a numpy array rather than a group object"
   ]
  },
  {
   "cell_type": "code",
   "execution_count": 150,
   "metadata": {},
   "outputs": [
    {
     "data": {
      "text/plain": [
       "array([[2., 0., 0., 0.],\n",
       "       [0., 2., 0., 0.],\n",
       "       [0., 0., 2., 0.],\n",
       "       [0., 0., 0., 2.]])"
      ]
     },
     "execution_count": 150,
     "metadata": {},
     "output_type": "execute_result"
    }
   ],
   "source": [
    "SE3() + SE3()"
   ]
  },
  {
   "cell_type": "markdown",
   "metadata": {},
   "source": [
    "yields an array, not an `SE3` object. As do other operations"
   ]
  },
  {
   "cell_type": "code",
   "execution_count": 151,
   "metadata": {},
   "outputs": [
    {
     "data": {
      "text/plain": [
       "array([[2., 0., 0., 0.],\n",
       "       [0., 2., 0., 0.],\n",
       "       [0., 0., 2., 0.],\n",
       "       [0., 0., 0., 2.]])"
      ]
     },
     "execution_count": 151,
     "metadata": {},
     "output_type": "execute_result"
    }
   ],
   "source": [
    "2 * SE3()"
   ]
  },
  {
   "cell_type": "code",
   "execution_count": 152,
   "metadata": {},
   "outputs": [
    {
     "data": {
      "text/plain": [
       "array([[ 0., -1., -1., -1.],\n",
       "       [-1.,  0., -1., -1.],\n",
       "       [-1., -1.,  0., -1.],\n",
       "       [-1., -1., -1.,  0.]])"
      ]
     },
     "execution_count": 152,
     "metadata": {},
     "output_type": "execute_result"
    }
   ],
   "source": [
    "SE3() - 1"
   ]
  },
  {
   "cell_type": "markdown",
   "metadata": {},
   "source": [
    "Similar principles apply to quaternions.  Unit quaternions are a group and only support composition and inversion.  Any other operations will return an ordinary quaternion"
   ]
  },
  {
   "cell_type": "code",
   "execution_count": 154,
   "metadata": {},
   "outputs": [
    {
     "data": {
      "text/plain": [
       "2.000000 < 0.000000, 0.000000, 0.000000 >"
      ]
     },
     "execution_count": 154,
     "metadata": {},
     "output_type": "execute_result"
    }
   ],
   "source": [
    "UnitQuaternion() * 2"
   ]
  },
  {
   "cell_type": "markdown",
   "metadata": {},
   "source": [
    "which is indicated by the single angle brackets."
   ]
  },
  {
   "cell_type": "markdown",
   "metadata": {},
   "source": [
    "# Implicit lists\n",
    "\n",
    "For many tasks we might want to have a group or sequence of rotations or poses. The obvious solution would be to use a Python list"
   ]
  },
  {
   "cell_type": "code",
   "execution_count": 153,
   "metadata": {},
   "outputs": [],
   "source": [
    "T = [ SE3.Rx(0), SE3.Rx(0.1), SE3.Rx(0.2), SE3.Rx(0.3), SE3.Rx(0.4)]"
   ]
  },
  {
   "cell_type": "markdown",
   "metadata": {},
   "source": [
    "but we can actually put this list inside the pose object.  There are a few ways to do this, most obviously"
   ]
  },
  {
   "cell_type": "code",
   "execution_count": 71,
   "metadata": {},
   "outputs": [],
   "source": [
    "T = SE3( [ SE3.Rx(0), SE3.Rx(0.1), SE3.Rx(0.2), SE3.Rx(0.3), SE3.Rx(0.4)] )"
   ]
  },
  {
   "cell_type": "markdown",
   "metadata": {},
   "source": [
    "which has the same type as an individual pose object"
   ]
  },
  {
   "cell_type": "code",
   "execution_count": 72,
   "metadata": {},
   "outputs": [
    {
     "data": {
      "text/plain": [
       "spatialmath.pose3d.SE3"
      ]
     },
     "execution_count": 72,
     "metadata": {},
     "output_type": "execute_result"
    }
   ],
   "source": [
    "type(T)"
   ]
  },
  {
   "cell_type": "markdown",
   "metadata": {},
   "source": [
    "but it has length of six"
   ]
  },
  {
   "cell_type": "code",
   "execution_count": 73,
   "metadata": {},
   "outputs": [
    {
     "data": {
      "text/plain": [
       "5"
      ]
     },
     "execution_count": 73,
     "metadata": {},
     "output_type": "execute_result"
    }
   ],
   "source": [
    "len(T)"
   ]
  },
  {
   "cell_type": "markdown",
   "metadata": {},
   "source": [
    "and when we display it we can see the individual elements"
   ]
  },
  {
   "cell_type": "code",
   "execution_count": 74,
   "metadata": {},
   "outputs": [
    {
     "data": {
      "text/plain": [
       "\u001b[38;5;2m[0] =\n",
       "\u001b[0m  \u001b[38;5;1m\u001b[48;5;255m 1        \u001b[0m\u001b[38;5;1m\u001b[48;5;255m 0        \u001b[0m\u001b[38;5;1m\u001b[48;5;255m 0        \u001b[0m\u001b[38;5;4m\u001b[48;5;255m 0        \u001b[0m\u001b[48;5;255m  \u001b[0m\n",
       "  \u001b[38;5;1m\u001b[48;5;255m 0        \u001b[0m\u001b[38;5;1m\u001b[48;5;255m 1        \u001b[0m\u001b[38;5;1m\u001b[48;5;255m 0        \u001b[0m\u001b[38;5;4m\u001b[48;5;255m 0        \u001b[0m\u001b[48;5;255m  \u001b[0m\n",
       "  \u001b[38;5;1m\u001b[48;5;255m 0        \u001b[0m\u001b[38;5;1m\u001b[48;5;255m 0        \u001b[0m\u001b[38;5;1m\u001b[48;5;255m 1        \u001b[0m\u001b[38;5;4m\u001b[48;5;255m 0        \u001b[0m\u001b[48;5;255m  \u001b[0m\n",
       "  \u001b[38;5;244m\u001b[48;5;255m 0        \u001b[0m\u001b[38;5;244m\u001b[48;5;255m 0        \u001b[0m\u001b[38;5;244m\u001b[48;5;255m 0        \u001b[0m\u001b[38;5;244m\u001b[48;5;255m 1        \u001b[0m\u001b[48;5;255m  \u001b[0m\n",
       "\u001b[38;5;2m[1] =\n",
       "\u001b[0m  \u001b[38;5;1m\u001b[48;5;255m 1        \u001b[0m\u001b[38;5;1m\u001b[48;5;255m 0        \u001b[0m\u001b[38;5;1m\u001b[48;5;255m 0        \u001b[0m\u001b[38;5;4m\u001b[48;5;255m 0        \u001b[0m\u001b[48;5;255m  \u001b[0m\n",
       "  \u001b[38;5;1m\u001b[48;5;255m 0        \u001b[0m\u001b[38;5;1m\u001b[48;5;255m 0.995004 \u001b[0m\u001b[38;5;1m\u001b[48;5;255m-0.0998334\u001b[0m\u001b[38;5;4m\u001b[48;5;255m 0        \u001b[0m\u001b[48;5;255m  \u001b[0m\n",
       "  \u001b[38;5;1m\u001b[48;5;255m 0        \u001b[0m\u001b[38;5;1m\u001b[48;5;255m 0.0998334\u001b[0m\u001b[38;5;1m\u001b[48;5;255m 0.995004 \u001b[0m\u001b[38;5;4m\u001b[48;5;255m 0        \u001b[0m\u001b[48;5;255m  \u001b[0m\n",
       "  \u001b[38;5;244m\u001b[48;5;255m 0        \u001b[0m\u001b[38;5;244m\u001b[48;5;255m 0        \u001b[0m\u001b[38;5;244m\u001b[48;5;255m 0        \u001b[0m\u001b[38;5;244m\u001b[48;5;255m 1        \u001b[0m\u001b[48;5;255m  \u001b[0m\n",
       "\u001b[38;5;2m[2] =\n",
       "\u001b[0m  \u001b[38;5;1m\u001b[48;5;255m 1        \u001b[0m\u001b[38;5;1m\u001b[48;5;255m 0        \u001b[0m\u001b[38;5;1m\u001b[48;5;255m 0        \u001b[0m\u001b[38;5;4m\u001b[48;5;255m 0        \u001b[0m\u001b[48;5;255m  \u001b[0m\n",
       "  \u001b[38;5;1m\u001b[48;5;255m 0        \u001b[0m\u001b[38;5;1m\u001b[48;5;255m 0.980067 \u001b[0m\u001b[38;5;1m\u001b[48;5;255m-0.198669 \u001b[0m\u001b[38;5;4m\u001b[48;5;255m 0        \u001b[0m\u001b[48;5;255m  \u001b[0m\n",
       "  \u001b[38;5;1m\u001b[48;5;255m 0        \u001b[0m\u001b[38;5;1m\u001b[48;5;255m 0.198669 \u001b[0m\u001b[38;5;1m\u001b[48;5;255m 0.980067 \u001b[0m\u001b[38;5;4m\u001b[48;5;255m 0        \u001b[0m\u001b[48;5;255m  \u001b[0m\n",
       "  \u001b[38;5;244m\u001b[48;5;255m 0        \u001b[0m\u001b[38;5;244m\u001b[48;5;255m 0        \u001b[0m\u001b[38;5;244m\u001b[48;5;255m 0        \u001b[0m\u001b[38;5;244m\u001b[48;5;255m 1        \u001b[0m\u001b[48;5;255m  \u001b[0m\n",
       "\u001b[38;5;2m[3] =\n",
       "\u001b[0m  \u001b[38;5;1m\u001b[48;5;255m 1        \u001b[0m\u001b[38;5;1m\u001b[48;5;255m 0        \u001b[0m\u001b[38;5;1m\u001b[48;5;255m 0        \u001b[0m\u001b[38;5;4m\u001b[48;5;255m 0        \u001b[0m\u001b[48;5;255m  \u001b[0m\n",
       "  \u001b[38;5;1m\u001b[48;5;255m 0        \u001b[0m\u001b[38;5;1m\u001b[48;5;255m 0.955336 \u001b[0m\u001b[38;5;1m\u001b[48;5;255m-0.29552  \u001b[0m\u001b[38;5;4m\u001b[48;5;255m 0        \u001b[0m\u001b[48;5;255m  \u001b[0m\n",
       "  \u001b[38;5;1m\u001b[48;5;255m 0        \u001b[0m\u001b[38;5;1m\u001b[48;5;255m 0.29552  \u001b[0m\u001b[38;5;1m\u001b[48;5;255m 0.955336 \u001b[0m\u001b[38;5;4m\u001b[48;5;255m 0        \u001b[0m\u001b[48;5;255m  \u001b[0m\n",
       "  \u001b[38;5;244m\u001b[48;5;255m 0        \u001b[0m\u001b[38;5;244m\u001b[48;5;255m 0        \u001b[0m\u001b[38;5;244m\u001b[48;5;255m 0        \u001b[0m\u001b[38;5;244m\u001b[48;5;255m 1        \u001b[0m\u001b[48;5;255m  \u001b[0m\n",
       "\u001b[38;5;2m[4] =\n",
       "\u001b[0m  \u001b[38;5;1m\u001b[48;5;255m 1        \u001b[0m\u001b[38;5;1m\u001b[48;5;255m 0        \u001b[0m\u001b[38;5;1m\u001b[48;5;255m 0        \u001b[0m\u001b[38;5;4m\u001b[48;5;255m 0        \u001b[0m\u001b[48;5;255m  \u001b[0m\n",
       "  \u001b[38;5;1m\u001b[48;5;255m 0        \u001b[0m\u001b[38;5;1m\u001b[48;5;255m 0.921061 \u001b[0m\u001b[38;5;1m\u001b[48;5;255m-0.389418 \u001b[0m\u001b[38;5;4m\u001b[48;5;255m 0        \u001b[0m\u001b[48;5;255m  \u001b[0m\n",
       "  \u001b[38;5;1m\u001b[48;5;255m 0        \u001b[0m\u001b[38;5;1m\u001b[48;5;255m 0.389418 \u001b[0m\u001b[38;5;1m\u001b[48;5;255m 0.921061 \u001b[0m\u001b[38;5;4m\u001b[48;5;255m 0        \u001b[0m\u001b[48;5;255m  \u001b[0m\n",
       "  \u001b[38;5;244m\u001b[48;5;255m 0        \u001b[0m\u001b[38;5;244m\u001b[48;5;255m 0        \u001b[0m\u001b[38;5;244m\u001b[48;5;255m 0        \u001b[0m\u001b[38;5;244m\u001b[48;5;255m 1        \u001b[0m\u001b[48;5;255m  \u001b[0m"
      ]
     },
     "execution_count": 74,
     "metadata": {},
     "output_type": "execute_result"
    }
   ],
   "source": [
    "T"
   ]
  },
  {
   "cell_type": "markdown",
   "metadata": {},
   "source": [
    "which we can index"
   ]
  },
  {
   "cell_type": "code",
   "execution_count": 75,
   "metadata": {},
   "outputs": [
    {
     "data": {
      "text/plain": [
       "  \u001b[38;5;1m\u001b[48;5;255m 1        \u001b[0m\u001b[38;5;1m\u001b[48;5;255m 0        \u001b[0m\u001b[38;5;1m\u001b[48;5;255m 0        \u001b[0m\u001b[38;5;4m\u001b[48;5;255m 0        \u001b[0m\u001b[48;5;255m  \u001b[0m\n",
       "  \u001b[38;5;1m\u001b[48;5;255m 0        \u001b[0m\u001b[38;5;1m\u001b[48;5;255m 0.955336 \u001b[0m\u001b[38;5;1m\u001b[48;5;255m-0.29552  \u001b[0m\u001b[38;5;4m\u001b[48;5;255m 0        \u001b[0m\u001b[48;5;255m  \u001b[0m\n",
       "  \u001b[38;5;1m\u001b[48;5;255m 0        \u001b[0m\u001b[38;5;1m\u001b[48;5;255m 0.29552  \u001b[0m\u001b[38;5;1m\u001b[48;5;255m 0.955336 \u001b[0m\u001b[38;5;4m\u001b[48;5;255m 0        \u001b[0m\u001b[48;5;255m  \u001b[0m\n",
       "  \u001b[38;5;244m\u001b[48;5;255m 0        \u001b[0m\u001b[38;5;244m\u001b[48;5;255m 0        \u001b[0m\u001b[38;5;244m\u001b[48;5;255m 0        \u001b[0m\u001b[38;5;244m\u001b[48;5;255m 1        \u001b[0m\u001b[48;5;255m  \u001b[0m"
      ]
     },
     "execution_count": 75,
     "metadata": {},
     "output_type": "execute_result"
    }
   ],
   "source": [
    "T[3]"
   ]
  },
  {
   "cell_type": "markdown",
   "metadata": {},
   "source": [
    "or slice"
   ]
  },
  {
   "cell_type": "code",
   "execution_count": 76,
   "metadata": {},
   "outputs": [
    {
     "data": {
      "text/plain": [
       "\u001b[38;5;2m[0] =\n",
       "\u001b[0m  \u001b[38;5;1m\u001b[48;5;255m 1        \u001b[0m\u001b[38;5;1m\u001b[48;5;255m 0        \u001b[0m\u001b[38;5;1m\u001b[48;5;255m 0        \u001b[0m\u001b[38;5;4m\u001b[48;5;255m 0        \u001b[0m\u001b[48;5;255m  \u001b[0m\n",
       "  \u001b[38;5;1m\u001b[48;5;255m 0        \u001b[0m\u001b[38;5;1m\u001b[48;5;255m 0.995004 \u001b[0m\u001b[38;5;1m\u001b[48;5;255m-0.0998334\u001b[0m\u001b[38;5;4m\u001b[48;5;255m 0        \u001b[0m\u001b[48;5;255m  \u001b[0m\n",
       "  \u001b[38;5;1m\u001b[48;5;255m 0        \u001b[0m\u001b[38;5;1m\u001b[48;5;255m 0.0998334\u001b[0m\u001b[38;5;1m\u001b[48;5;255m 0.995004 \u001b[0m\u001b[38;5;4m\u001b[48;5;255m 0        \u001b[0m\u001b[48;5;255m  \u001b[0m\n",
       "  \u001b[38;5;244m\u001b[48;5;255m 0        \u001b[0m\u001b[38;5;244m\u001b[48;5;255m 0        \u001b[0m\u001b[38;5;244m\u001b[48;5;255m 0        \u001b[0m\u001b[38;5;244m\u001b[48;5;255m 1        \u001b[0m\u001b[48;5;255m  \u001b[0m\n",
       "\u001b[38;5;2m[1] =\n",
       "\u001b[0m  \u001b[38;5;1m\u001b[48;5;255m 1        \u001b[0m\u001b[38;5;1m\u001b[48;5;255m 0        \u001b[0m\u001b[38;5;1m\u001b[48;5;255m 0        \u001b[0m\u001b[38;5;4m\u001b[48;5;255m 0        \u001b[0m\u001b[48;5;255m  \u001b[0m\n",
       "  \u001b[38;5;1m\u001b[48;5;255m 0        \u001b[0m\u001b[38;5;1m\u001b[48;5;255m 0.980067 \u001b[0m\u001b[38;5;1m\u001b[48;5;255m-0.198669 \u001b[0m\u001b[38;5;4m\u001b[48;5;255m 0        \u001b[0m\u001b[48;5;255m  \u001b[0m\n",
       "  \u001b[38;5;1m\u001b[48;5;255m 0        \u001b[0m\u001b[38;5;1m\u001b[48;5;255m 0.198669 \u001b[0m\u001b[38;5;1m\u001b[48;5;255m 0.980067 \u001b[0m\u001b[38;5;4m\u001b[48;5;255m 0        \u001b[0m\u001b[48;5;255m  \u001b[0m\n",
       "  \u001b[38;5;244m\u001b[48;5;255m 0        \u001b[0m\u001b[38;5;244m\u001b[48;5;255m 0        \u001b[0m\u001b[38;5;244m\u001b[48;5;255m 0        \u001b[0m\u001b[38;5;244m\u001b[48;5;255m 1        \u001b[0m\u001b[48;5;255m  \u001b[0m\n",
       "\u001b[38;5;2m[2] =\n",
       "\u001b[0m  \u001b[38;5;1m\u001b[48;5;255m 1        \u001b[0m\u001b[38;5;1m\u001b[48;5;255m 0        \u001b[0m\u001b[38;5;1m\u001b[48;5;255m 0        \u001b[0m\u001b[38;5;4m\u001b[48;5;255m 0        \u001b[0m\u001b[48;5;255m  \u001b[0m\n",
       "  \u001b[38;5;1m\u001b[48;5;255m 0        \u001b[0m\u001b[38;5;1m\u001b[48;5;255m 0.955336 \u001b[0m\u001b[38;5;1m\u001b[48;5;255m-0.29552  \u001b[0m\u001b[38;5;4m\u001b[48;5;255m 0        \u001b[0m\u001b[48;5;255m  \u001b[0m\n",
       "  \u001b[38;5;1m\u001b[48;5;255m 0        \u001b[0m\u001b[38;5;1m\u001b[48;5;255m 0.29552  \u001b[0m\u001b[38;5;1m\u001b[48;5;255m 0.955336 \u001b[0m\u001b[38;5;4m\u001b[48;5;255m 0        \u001b[0m\u001b[48;5;255m  \u001b[0m\n",
       "  \u001b[38;5;244m\u001b[48;5;255m 0        \u001b[0m\u001b[38;5;244m\u001b[48;5;255m 0        \u001b[0m\u001b[38;5;244m\u001b[48;5;255m 0        \u001b[0m\u001b[38;5;244m\u001b[48;5;255m 1        \u001b[0m\u001b[48;5;255m  \u001b[0m"
      ]
     },
     "execution_count": 76,
     "metadata": {},
     "output_type": "execute_result"
    }
   ],
   "source": [
    "T[1:4]"
   ]
  },
  {
   "cell_type": "markdown",
   "metadata": {},
   "source": [
    "We could another pose to the end"
   ]
  },
  {
   "cell_type": "code",
   "execution_count": 77,
   "metadata": {},
   "outputs": [
    {
     "data": {
      "text/plain": [
       "6"
      ]
     },
     "execution_count": 77,
     "metadata": {},
     "output_type": "execute_result"
    }
   ],
   "source": [
    "T.append( SE3.Rx(0.5) )\n",
    "len(T)"
   ]
  },
  {
   "cell_type": "markdown",
   "metadata": {},
   "source": [
    "The `SE3` class, like all the classes in this package, inherits from the `UserList` class giving it all the methods of a Python list like append, extend, del etc.  We can also use them as _iterables_ in _for_ loops and in list comprehensions."
   ]
  },
  {
   "cell_type": "markdown",
   "metadata": {},
   "source": [
    "We could write the above example more succinctly"
   ]
  },
  {
   "cell_type": "code",
   "execution_count": 78,
   "metadata": {},
   "outputs": [
    {
     "data": {
      "text/plain": [
       "6"
      ]
     },
     "execution_count": 78,
     "metadata": {},
     "output_type": "execute_result"
    }
   ],
   "source": [
    "T = SE3.Rx( np.linspace(0, 0.5, 6) )\n",
    "len(T)"
   ]
  },
  {
   "cell_type": "code",
   "execution_count": 79,
   "metadata": {},
   "outputs": [
    {
     "data": {
      "text/plain": [
       "  \u001b[38;5;1m\u001b[48;5;255m 1        \u001b[0m\u001b[38;5;1m\u001b[48;5;255m 0        \u001b[0m\u001b[38;5;1m\u001b[48;5;255m 0        \u001b[0m\u001b[38;5;4m\u001b[48;5;255m 0        \u001b[0m\u001b[48;5;255m  \u001b[0m\n",
       "  \u001b[38;5;1m\u001b[48;5;255m 0        \u001b[0m\u001b[38;5;1m\u001b[48;5;255m 0.955336 \u001b[0m\u001b[38;5;1m\u001b[48;5;255m-0.29552  \u001b[0m\u001b[38;5;4m\u001b[48;5;255m 0        \u001b[0m\u001b[48;5;255m  \u001b[0m\n",
       "  \u001b[38;5;1m\u001b[48;5;255m 0        \u001b[0m\u001b[38;5;1m\u001b[48;5;255m 0.29552  \u001b[0m\u001b[38;5;1m\u001b[48;5;255m 0.955336 \u001b[0m\u001b[38;5;4m\u001b[48;5;255m 0        \u001b[0m\u001b[48;5;255m  \u001b[0m\n",
       "  \u001b[38;5;244m\u001b[48;5;255m 0        \u001b[0m\u001b[38;5;244m\u001b[48;5;255m 0        \u001b[0m\u001b[38;5;244m\u001b[48;5;255m 0        \u001b[0m\u001b[38;5;244m\u001b[48;5;255m 1        \u001b[0m\u001b[48;5;255m  \u001b[0m"
      ]
     },
     "execution_count": 79,
     "metadata": {},
     "output_type": "execute_result"
    }
   ],
   "source": [
    "T[3]"
   ]
  },
  {
   "cell_type": "markdown",
   "metadata": {},
   "source": [
    "Consider another rotation"
   ]
  },
  {
   "cell_type": "code",
   "execution_count": 80,
   "metadata": {},
   "outputs": [],
   "source": [
    "T2 = SE3.Ry(40, 'deg')"
   ]
  },
  {
   "cell_type": "markdown",
   "metadata": {},
   "source": [
    "If we write"
   ]
  },
  {
   "cell_type": "code",
   "execution_count": 81,
   "metadata": {},
   "outputs": [
    {
     "data": {
      "text/plain": [
       "6"
      ]
     },
     "execution_count": 81,
     "metadata": {},
     "output_type": "execute_result"
    }
   ],
   "source": [
    "A = T * T2\n",
    "len(A)"
   ]
  },
  {
   "cell_type": "markdown",
   "metadata": {},
   "source": [
    "we obtain a new list where each element of `A` is `T[i] * T2`.  Similarly"
   ]
  },
  {
   "cell_type": "code",
   "execution_count": null,
   "metadata": {},
   "outputs": [],
   "source": [
    "B = T2 * T\n",
    "len(B)"
   ]
  },
  {
   "cell_type": "markdown",
   "metadata": {},
   "source": [
    "which has produced a new list where each element of `B` is `T2 * T[i]`.\n",
    "\n",
    "Similarly"
   ]
  },
  {
   "cell_type": "code",
   "execution_count": null,
   "metadata": {},
   "outputs": [],
   "source": [
    "C = T * T\n",
    "len(C)"
   ]
  },
  {
   "cell_type": "markdown",
   "metadata": {},
   "source": [
    "yields a new list where each element of `C` is the `T[i] * T[i]`.  \n",
    "\n",
    "We can apply such a sequence to a coordinate vectors as we did earlier"
   ]
  },
  {
   "cell_type": "code",
   "execution_count": null,
   "metadata": {},
   "outputs": [],
   "source": [
    "P = T * [0, 1, 0]\n",
    "P"
   ]
  },
  {
   "cell_type": "markdown",
   "metadata": {},
   "source": [
    "where each element of `T` has transformed the coordinate vector (0, 1, 0), the results being consecutive columns of the resulting numpy array.\n",
    "\n",
    "This is equivalent to writing"
   ]
  },
  {
   "cell_type": "code",
   "execution_count": null,
   "metadata": {},
   "outputs": [],
   "source": [
    "np.ndarray( [_T * [0,1,0] for _T in T])"
   ]
  }
 ],
 "metadata": {
  "kernelspec": {
   "display_name": "Python 3",
   "language": "python",
   "name": "python3"
  },
  "language_info": {
   "codemirror_mode": {
    "name": "ipython",
    "version": 3
   },
   "file_extension": ".py",
   "mimetype": "text/x-python",
   "name": "python",
   "nbconvert_exporter": "python",
   "pygments_lexer": "ipython3",
   "version": "3.7.6"
  },
  "toc": {
   "base_numbering": 1,
   "nav_menu": {},
   "number_sections": true,
   "sideBar": true,
   "skip_h1_title": false,
   "title_cell": "Table of Contents",
   "title_sidebar": "Contents",
   "toc_cell": false,
   "toc_position": {},
   "toc_section_display": true,
   "toc_window_display": true
  }
 },
 "nbformat": 4,
 "nbformat_minor": 4
}
